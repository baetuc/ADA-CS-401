{
 "cells": [
  {
   "cell_type": "markdown",
   "metadata": {},
   "source": [
    "# Applied ML\n",
    "\n",
    "## Question 1: Propensity score matching\n",
    "\n",
    "In this exercise, you will apply [propensity score matching](http://www.stewartschultz.com/statistics/books/Design%20of%20observational%20studies.pdf), which we discussed in lecture 5 (\"Observational studies\"), in order to draw conclusions from an observational study.\n",
    "\n",
    "We will work with a by-now classic dataset from Robert LaLonde's study \"[Evaluating the Econometric Evaluations of Training Programs](http://people.hbs.edu/nashraf/LaLonde_1986.pdf)\" (1986).\n",
    "The study investigated the effect of a job training program (\"National Supported Work Demonstration\") on the real earnings of an individual, a couple of years after completion of the program.\n",
    "Your task is to determine the effectiveness of the \"treatment\" represented by the job training program.\n",
    "\n",
    "### Dataset description\n",
    "\n",
    "In this section we will describe briefly the dataset and give more insight in some details of data collection which might be useful for further exploration and (naive) conclusions.\n",
    "\n",
    "#### Overview of the dataset\n",
    "\n",
    "- `treat`: 1 if the subject participated in the job training program, 0 otherwise\n",
    "- `age`: the subject's age\n",
    "- `educ`: years of education\n",
    "- `race`: categorical variable with three possible values: Black, Hispanic, or White\n",
    "- `married`: 1 if the subject was married at the time of the training program, 0 otherwise\n",
    "- `nodegree`: 1 if the subject has earned no school degree, 0 otherwise\n",
    "- `re74`: real earnings in 1974 (pre-treatment)\n",
    "- `re75`: real earnings in 1975 (pre-treatment)\n",
    "- `re78`: real earnings in 1978 (outcome)\n",
    "\n",
    "*If the real earnings are equal to 0, that means that the person is unemployed*\n",
    "\n",
    "---\n",
    "\n",
    "We import `Pandas` to perform basic exploration of the dataset which is conveniently given as a `csv` file. "
   ]
  },
  {
   "cell_type": "code",
   "execution_count": 1,
   "metadata": {
    "ExecuteTime": {
     "end_time": "2017-11-22T16:26:22.982423Z",
     "start_time": "2017-11-22T16:26:22.639435Z"
    },
    "collapsed": true
   },
   "outputs": [],
   "source": [
    "import pandas as pd\n",
    "\n",
    "DATA = 'lalonde.csv'    # path to the file"
   ]
  },
  {
   "cell_type": "markdown",
   "metadata": {},
   "source": [
    "We load the dataset and show the basic stats of this dataset:"
   ]
  },
  {
   "cell_type": "code",
   "execution_count": 2,
   "metadata": {
    "ExecuteTime": {
     "end_time": "2017-11-22T16:26:23.023795Z",
     "start_time": "2017-11-22T16:26:22.983984Z"
    },
    "scrolled": true
   },
   "outputs": [
    {
     "data": {
      "text/html": [
       "<div>\n",
       "<style>\n",
       "    .dataframe thead tr:only-child th {\n",
       "        text-align: right;\n",
       "    }\n",
       "\n",
       "    .dataframe thead th {\n",
       "        text-align: left;\n",
       "    }\n",
       "\n",
       "    .dataframe tbody tr th {\n",
       "        vertical-align: top;\n",
       "    }\n",
       "</style>\n",
       "<table border=\"1\" class=\"dataframe\">\n",
       "  <thead>\n",
       "    <tr style=\"text-align: right;\">\n",
       "      <th></th>\n",
       "      <th>treat</th>\n",
       "      <th>age</th>\n",
       "      <th>educ</th>\n",
       "      <th>black</th>\n",
       "      <th>hispan</th>\n",
       "      <th>married</th>\n",
       "      <th>nodegree</th>\n",
       "      <th>re74</th>\n",
       "      <th>re75</th>\n",
       "      <th>re78</th>\n",
       "    </tr>\n",
       "  </thead>\n",
       "  <tbody>\n",
       "    <tr>\n",
       "      <th>count</th>\n",
       "      <td>614.000000</td>\n",
       "      <td>614.000000</td>\n",
       "      <td>614.000000</td>\n",
       "      <td>614.000000</td>\n",
       "      <td>614.000000</td>\n",
       "      <td>614.000000</td>\n",
       "      <td>614.000000</td>\n",
       "      <td>614.000000</td>\n",
       "      <td>614.000000</td>\n",
       "      <td>614.000000</td>\n",
       "    </tr>\n",
       "    <tr>\n",
       "      <th>mean</th>\n",
       "      <td>0.301303</td>\n",
       "      <td>27.363192</td>\n",
       "      <td>10.268730</td>\n",
       "      <td>0.395765</td>\n",
       "      <td>0.117264</td>\n",
       "      <td>0.415309</td>\n",
       "      <td>0.630293</td>\n",
       "      <td>4557.546569</td>\n",
       "      <td>2184.938207</td>\n",
       "      <td>6792.834483</td>\n",
       "    </tr>\n",
       "    <tr>\n",
       "      <th>std</th>\n",
       "      <td>0.459198</td>\n",
       "      <td>9.881187</td>\n",
       "      <td>2.628325</td>\n",
       "      <td>0.489413</td>\n",
       "      <td>0.321997</td>\n",
       "      <td>0.493177</td>\n",
       "      <td>0.483119</td>\n",
       "      <td>6477.964479</td>\n",
       "      <td>3295.679043</td>\n",
       "      <td>7470.730792</td>\n",
       "    </tr>\n",
       "    <tr>\n",
       "      <th>min</th>\n",
       "      <td>0.000000</td>\n",
       "      <td>16.000000</td>\n",
       "      <td>0.000000</td>\n",
       "      <td>0.000000</td>\n",
       "      <td>0.000000</td>\n",
       "      <td>0.000000</td>\n",
       "      <td>0.000000</td>\n",
       "      <td>0.000000</td>\n",
       "      <td>0.000000</td>\n",
       "      <td>0.000000</td>\n",
       "    </tr>\n",
       "    <tr>\n",
       "      <th>25%</th>\n",
       "      <td>0.000000</td>\n",
       "      <td>20.000000</td>\n",
       "      <td>9.000000</td>\n",
       "      <td>0.000000</td>\n",
       "      <td>0.000000</td>\n",
       "      <td>0.000000</td>\n",
       "      <td>0.000000</td>\n",
       "      <td>0.000000</td>\n",
       "      <td>0.000000</td>\n",
       "      <td>238.283425</td>\n",
       "    </tr>\n",
       "    <tr>\n",
       "      <th>50%</th>\n",
       "      <td>0.000000</td>\n",
       "      <td>25.000000</td>\n",
       "      <td>11.000000</td>\n",
       "      <td>0.000000</td>\n",
       "      <td>0.000000</td>\n",
       "      <td>0.000000</td>\n",
       "      <td>1.000000</td>\n",
       "      <td>1042.330000</td>\n",
       "      <td>601.548400</td>\n",
       "      <td>4759.018500</td>\n",
       "    </tr>\n",
       "    <tr>\n",
       "      <th>75%</th>\n",
       "      <td>1.000000</td>\n",
       "      <td>32.000000</td>\n",
       "      <td>12.000000</td>\n",
       "      <td>1.000000</td>\n",
       "      <td>0.000000</td>\n",
       "      <td>1.000000</td>\n",
       "      <td>1.000000</td>\n",
       "      <td>7888.498250</td>\n",
       "      <td>3248.987500</td>\n",
       "      <td>10893.592500</td>\n",
       "    </tr>\n",
       "    <tr>\n",
       "      <th>max</th>\n",
       "      <td>1.000000</td>\n",
       "      <td>55.000000</td>\n",
       "      <td>18.000000</td>\n",
       "      <td>1.000000</td>\n",
       "      <td>1.000000</td>\n",
       "      <td>1.000000</td>\n",
       "      <td>1.000000</td>\n",
       "      <td>35040.070000</td>\n",
       "      <td>25142.240000</td>\n",
       "      <td>60307.930000</td>\n",
       "    </tr>\n",
       "  </tbody>\n",
       "</table>\n",
       "</div>"
      ],
      "text/plain": [
       "            treat         age        educ       black      hispan     married  \\\n",
       "count  614.000000  614.000000  614.000000  614.000000  614.000000  614.000000   \n",
       "mean     0.301303   27.363192   10.268730    0.395765    0.117264    0.415309   \n",
       "std      0.459198    9.881187    2.628325    0.489413    0.321997    0.493177   \n",
       "min      0.000000   16.000000    0.000000    0.000000    0.000000    0.000000   \n",
       "25%      0.000000   20.000000    9.000000    0.000000    0.000000    0.000000   \n",
       "50%      0.000000   25.000000   11.000000    0.000000    0.000000    0.000000   \n",
       "75%      1.000000   32.000000   12.000000    1.000000    0.000000    1.000000   \n",
       "max      1.000000   55.000000   18.000000    1.000000    1.000000    1.000000   \n",
       "\n",
       "         nodegree          re74          re75          re78  \n",
       "count  614.000000    614.000000    614.000000    614.000000  \n",
       "mean     0.630293   4557.546569   2184.938207   6792.834483  \n",
       "std      0.483119   6477.964479   3295.679043   7470.730792  \n",
       "min      0.000000      0.000000      0.000000      0.000000  \n",
       "25%      0.000000      0.000000      0.000000    238.283425  \n",
       "50%      1.000000   1042.330000    601.548400   4759.018500  \n",
       "75%      1.000000   7888.498250   3248.987500  10893.592500  \n",
       "max      1.000000  35040.070000  25142.240000  60307.930000  "
      ]
     },
     "execution_count": 2,
     "metadata": {},
     "output_type": "execute_result"
    }
   ],
   "source": [
    "df_lalonde = pd.read_csv(DATA)\n",
    "\n",
    "df_lalonde.describe()"
   ]
  },
  {
   "cell_type": "markdown",
   "metadata": {},
   "source": [
    "Obviously, such general description is not apropriate for all the data columns, but we can extract some general information for this dataset:\n",
    "- Total number of participants: 614\n",
    "- There are more control than treatment datapoints (as seen in quartiles)\n",
    "\n",
    "A more detailed analysis will follow in further analysis. It is significant to mention that the dataset uses two different sources of data for test and control:\n",
    "- Treatment data (`treat == 1`): **NSW**\n",
    "- Control data (`treat == 0`): **PSID**\n",
    "\n",
    "**NSW**: [National Supported Work](http://www.icpsr.umich.edu/icpsrweb/ICPSR/studies/7865) data has been used as a group on which a treatment has been applied. It is somewhat significant to mention which population has such treatment targeted, in order to have more insight in future results (*or misinterpretation of such*):\n",
    ">National Supported Work Demonstration project, a transitional, subsidized work experience program for four target groups of people with longstanding employment problems: ex-offenders, former drug addicts, women who were long-term recipients of welfare benefits, and school dropouts, many with criminal records. \n",
    "\n",
    "We see a very specific group to which such program (treatment) would be possibly beneficial.\n",
    "\n",
    "**PSID**: [Panel Study of Income Dynamics](https://psidonline.isr.umich.edu/) data has been used as control data, on which the treatment has not been applied. Originally it is a representative sample of families in the USA:\n",
    ">The study began in 1968 with a nationally representative sample of over 18,000 individuals living in 5,000 families in the United States.\n",
    "\n",
    "We see a general group to compare the specific group to - to evaluate the results of the program, if such \"treatment\" improves the performance of the specific group. \n",
    "\n",
    "This makes a good baseline for further conclusions based on such data. For an inexperienced person, such data might be less beneficial: it could deepen the bias of wrong conclusion. Sometimes it is better to leave out detailed information not to infer wrong conclusions based on personal bias."
   ]
  },
  {
   "cell_type": "markdown",
   "metadata": {},
   "source": [
    "### Task 1 - A naive analysis\n",
    "\n",
    "---\n",
    "<div class=\"alert alert-block alert-info\">\n",
    "<b>Task 1</b>: \n",
    "Compare the distribution of the outcome variable (<i>re78</i>) between the two groups, using plots and numbers.\n",
    "To summarize and compare the distributions, you may use the techniques we discussed in lectures 4 (\"Read the stats carefully\") and 6 (\"Data visualization\").\n",
    "<br>\n",
    "<br>\n",
    "What might a naive \"researcher\" conclude from this superficial analysis?\n",
    "</div>\n",
    "\n",
    "---\n",
    "\n",
    "*Please note that we make deliberate wrong choices, bad practices and harsh conclusions to show possible outcomes of naive analysis.*\n",
    "\n",
    "In this task we completely forget the postulates of a good research and consider that *correlation == causation*. We are very eager to make a conclusion!\n",
    "\n",
    "The most important factor to see the success of **National Supported Work Program**, in which significant funds were invested, is whether the population involved has managed to come to the income level of a population which did not parttake in the program. Therefore we will analyze strictly `re78` (income after the program) in correlation with `treat` value (which indicates control or treatment population).\n",
    "\n",
    "We import our standard libraries to show our results:"
   ]
  },
  {
   "cell_type": "code",
   "execution_count": 3,
   "metadata": {
    "ExecuteTime": {
     "end_time": "2017-11-22T16:26:23.534438Z",
     "start_time": "2017-11-22T16:26:23.024953Z"
    },
    "collapsed": true
   },
   "outputs": [],
   "source": [
    "import matplotlib.pyplot as plt\n",
    "%matplotlib inline\n",
    "import seaborn as sns\n",
    "import numpy as np\n",
    "\n",
    "from IPython.display import HTML, display"
   ]
  },
  {
   "cell_type": "markdown",
   "metadata": {},
   "source": [
    "We now select only the data relevant to our desired experiment, the `treat` indicator and corresponding `re78` income data, while ignoring other indicators completely:\n",
    "- `df_treat_78` indicates the group which has taken part in treatment\n",
    "- `df_control_78` indicates the control group"
   ]
  },
  {
   "cell_type": "code",
   "execution_count": 4,
   "metadata": {
    "ExecuteTime": {
     "end_time": "2017-11-22T16:26:23.542690Z",
     "start_time": "2017-11-22T16:26:23.536001Z"
    },
    "collapsed": true
   },
   "outputs": [],
   "source": [
    "df_treat_78 = df_lalonde.loc[df_lalonde['treat']==1].filter(['treat', 're78'])\n",
    "df_control_78 = df_lalonde.loc[df_lalonde['treat']==0].filter(['treat', 're78'])"
   ]
  },
  {
   "cell_type": "markdown",
   "metadata": {},
   "source": [
    "We are interested in the basic descriptors of our data, thus we show such stats for both test and control group:\n",
    "\n",
    "**Treatment group**"
   ]
  },
  {
   "cell_type": "code",
   "execution_count": 5,
   "metadata": {
    "ExecuteTime": {
     "end_time": "2017-11-22T16:26:23.557108Z",
     "start_time": "2017-11-22T16:26:23.543923Z"
    }
   },
   "outputs": [
    {
     "data": {
      "text/html": [
       "<div>\n",
       "<style>\n",
       "    .dataframe thead tr:only-child th {\n",
       "        text-align: right;\n",
       "    }\n",
       "\n",
       "    .dataframe thead th {\n",
       "        text-align: left;\n",
       "    }\n",
       "\n",
       "    .dataframe tbody tr th {\n",
       "        vertical-align: top;\n",
       "    }\n",
       "</style>\n",
       "<table border=\"1\" class=\"dataframe\">\n",
       "  <thead>\n",
       "    <tr style=\"text-align: right;\">\n",
       "      <th></th>\n",
       "      <th>treat</th>\n",
       "      <th>re78</th>\n",
       "    </tr>\n",
       "  </thead>\n",
       "  <tbody>\n",
       "    <tr>\n",
       "      <th>count</th>\n",
       "      <td>185.0</td>\n",
       "      <td>185.000000</td>\n",
       "    </tr>\n",
       "    <tr>\n",
       "      <th>mean</th>\n",
       "      <td>1.0</td>\n",
       "      <td>6349.143530</td>\n",
       "    </tr>\n",
       "    <tr>\n",
       "      <th>std</th>\n",
       "      <td>0.0</td>\n",
       "      <td>7867.402218</td>\n",
       "    </tr>\n",
       "    <tr>\n",
       "      <th>min</th>\n",
       "      <td>1.0</td>\n",
       "      <td>0.000000</td>\n",
       "    </tr>\n",
       "    <tr>\n",
       "      <th>25%</th>\n",
       "      <td>1.0</td>\n",
       "      <td>485.229800</td>\n",
       "    </tr>\n",
       "    <tr>\n",
       "      <th>50%</th>\n",
       "      <td>1.0</td>\n",
       "      <td>4232.309000</td>\n",
       "    </tr>\n",
       "    <tr>\n",
       "      <th>75%</th>\n",
       "      <td>1.0</td>\n",
       "      <td>9642.999000</td>\n",
       "    </tr>\n",
       "    <tr>\n",
       "      <th>max</th>\n",
       "      <td>1.0</td>\n",
       "      <td>60307.930000</td>\n",
       "    </tr>\n",
       "  </tbody>\n",
       "</table>\n",
       "</div>"
      ],
      "text/plain": [
       "       treat          re78\n",
       "count  185.0    185.000000\n",
       "mean     1.0   6349.143530\n",
       "std      0.0   7867.402218\n",
       "min      1.0      0.000000\n",
       "25%      1.0    485.229800\n",
       "50%      1.0   4232.309000\n",
       "75%      1.0   9642.999000\n",
       "max      1.0  60307.930000"
      ]
     },
     "execution_count": 5,
     "metadata": {},
     "output_type": "execute_result"
    }
   ],
   "source": [
    "df_treat_78.describe()"
   ]
  },
  {
   "cell_type": "markdown",
   "metadata": {},
   "source": [
    "We can conclude following:\n",
    "- 185 people are in this group\n",
    "- mean salary is 6349 USD\n",
    "\n",
    "**Control group**"
   ]
  },
  {
   "cell_type": "code",
   "execution_count": 6,
   "metadata": {
    "ExecuteTime": {
     "end_time": "2017-11-22T16:26:23.569550Z",
     "start_time": "2017-11-22T16:26:23.558344Z"
    }
   },
   "outputs": [
    {
     "data": {
      "text/html": [
       "<div>\n",
       "<style>\n",
       "    .dataframe thead tr:only-child th {\n",
       "        text-align: right;\n",
       "    }\n",
       "\n",
       "    .dataframe thead th {\n",
       "        text-align: left;\n",
       "    }\n",
       "\n",
       "    .dataframe tbody tr th {\n",
       "        vertical-align: top;\n",
       "    }\n",
       "</style>\n",
       "<table border=\"1\" class=\"dataframe\">\n",
       "  <thead>\n",
       "    <tr style=\"text-align: right;\">\n",
       "      <th></th>\n",
       "      <th>treat</th>\n",
       "      <th>re78</th>\n",
       "    </tr>\n",
       "  </thead>\n",
       "  <tbody>\n",
       "    <tr>\n",
       "      <th>count</th>\n",
       "      <td>429.0</td>\n",
       "      <td>429.000000</td>\n",
       "    </tr>\n",
       "    <tr>\n",
       "      <th>mean</th>\n",
       "      <td>0.0</td>\n",
       "      <td>6984.169742</td>\n",
       "    </tr>\n",
       "    <tr>\n",
       "      <th>std</th>\n",
       "      <td>0.0</td>\n",
       "      <td>7294.161791</td>\n",
       "    </tr>\n",
       "    <tr>\n",
       "      <th>min</th>\n",
       "      <td>0.0</td>\n",
       "      <td>0.000000</td>\n",
       "    </tr>\n",
       "    <tr>\n",
       "      <th>25%</th>\n",
       "      <td>0.0</td>\n",
       "      <td>220.181300</td>\n",
       "    </tr>\n",
       "    <tr>\n",
       "      <th>50%</th>\n",
       "      <td>0.0</td>\n",
       "      <td>4975.505000</td>\n",
       "    </tr>\n",
       "    <tr>\n",
       "      <th>75%</th>\n",
       "      <td>0.0</td>\n",
       "      <td>11688.820000</td>\n",
       "    </tr>\n",
       "    <tr>\n",
       "      <th>max</th>\n",
       "      <td>0.0</td>\n",
       "      <td>25564.670000</td>\n",
       "    </tr>\n",
       "  </tbody>\n",
       "</table>\n",
       "</div>"
      ],
      "text/plain": [
       "       treat          re78\n",
       "count  429.0    429.000000\n",
       "mean     0.0   6984.169742\n",
       "std      0.0   7294.161791\n",
       "min      0.0      0.000000\n",
       "25%      0.0    220.181300\n",
       "50%      0.0   4975.505000\n",
       "75%      0.0  11688.820000\n",
       "max      0.0  25564.670000"
      ]
     },
     "execution_count": 6,
     "metadata": {},
     "output_type": "execute_result"
    }
   ],
   "source": [
    "df_control_78.describe()"
   ]
  },
  {
   "cell_type": "markdown",
   "metadata": {},
   "source": [
    "We conclude:\n",
    "- 429 people are in the control group\n",
    "- mean salary is 6984 USD"
   ]
  },
  {
   "cell_type": "markdown",
   "metadata": {},
   "source": [
    "#### Let us visualize the data\n",
    "\n",
    "We are very concerned by the data we see in numerical form, let us provide a graphical representation of statistics to have more insight in our data.\n",
    "\n",
    "We will show a barplot representing the earnings in 1978 (`re78`) depending on the treatment group (`treat`):"
   ]
  },
  {
   "cell_type": "code",
   "execution_count": 7,
   "metadata": {
    "ExecuteTime": {
     "end_time": "2017-11-22T16:26:23.845451Z",
     "start_time": "2017-11-22T16:26:23.570818Z"
    },
    "scrolled": true
   },
   "outputs": [
    {
     "data": {
      "text/plain": [
       "<matplotlib.text.Text at 0x7f7afe46def0>"
      ]
     },
     "execution_count": 7,
     "metadata": {},
     "output_type": "execute_result"
    },
    {
     "data": {
      "image/png": "[encoded data removed]",
      "text/plain": [
       "<matplotlib.figure.Figure at 0x7f7afe910e80>"
      ]
     },
     "metadata": {},
     "output_type": "display_data"
    }
   ],
   "source": [
    "fig, ax = plt.subplots(figsize=(10,8))\n",
    "sns.set(style=\"whitegrid\")\n",
    "\n",
    "plot_78_bar = sns.barplot(data=df_lalonde, x='treat', y='re78')\n",
    "plot_78_bar.set_title('Earnings in 1978 depending on the treatment category')\n",
    "plot_78_bar.set_xlabel('Treatment: 0 - no, 1 - yes')\n",
    "plot_78_bar.set_ylabel('Earnings in 1978')"
   ]
  },
  {
   "cell_type": "markdown",
   "metadata": {},
   "source": [
    "We notice the same trend, group who did not take part in the program earns more! \n",
    "\n",
    "We could even emphasize and show such difference even better for our viewers to conclude that difference is very significant and that the money has been invested wrongly! (*Once again, naive and wrong on purpose!*)"
   ]
  },
  {
   "cell_type": "code",
   "execution_count": 8,
   "metadata": {
    "ExecuteTime": {
     "end_time": "2017-11-22T16:26:24.080566Z",
     "start_time": "2017-11-22T16:26:23.846989Z"
    }
   },
   "outputs": [
    {
     "data": {
      "text/plain": [
       "<matplotlib.text.Text at 0x7f7afaec83c8>"
      ]
     },
     "execution_count": 8,
     "metadata": {},
     "output_type": "execute_result"
    },
    {
     "data": {
      "image/png": "[encoded data removed]",
      "text/plain": [
       "<matplotlib.figure.Figure at 0x7f7afb0fdd68>"
      ]
     },
     "metadata": {},
     "output_type": "display_data"
    }
   ],
   "source": [
    "fig, ax = plt.subplots(figsize=(10,8))\n",
    "sns.set(style=\"whitegrid\")\n",
    "ax.set(ylim=(5500,8000))\n",
    "\n",
    "plot_78_bar = sns.barplot(data=df_lalonde, x='treat', y='re78')\n",
    "plot_78_bar.set_title('Earnings in 1978 depending on the treatment category, emphasized')\n",
    "plot_78_bar.set_xlabel('Treatment: 0 - no, 1 - yes')\n",
    "plot_78_bar.set_ylabel('Earning in 1978')"
   ]
  },
  {
   "cell_type": "markdown",
   "metadata": {},
   "source": [
    "To further prove our conclusion, we will perform a simple regression based on our data to see whether our conclusions stand in a more elaborate way.\n",
    "\n",
    "We would like to see the trend between salary and the treatment or control group (0 and 1). As shown bellow, there is a clear trend displayed that indicates that a higher salary will be achieved without taking part in the program."
   ]
  },
  {
   "cell_type": "code",
   "execution_count": 9,
   "metadata": {
    "ExecuteTime": {
     "end_time": "2017-11-22T16:26:24.544244Z",
     "start_time": "2017-11-22T16:26:24.081811Z"
    },
    "scrolled": true
   },
   "outputs": [
    {
     "data": {
      "text/plain": [
       "<matplotlib.text.Text at 0x7f7afafe42e8>"
      ]
     },
     "execution_count": 9,
     "metadata": {},
     "output_type": "execute_result"
    },
    {
     "data": {
      "image/png": "[encoded data removed]",
      "text/plain": [
       "<matplotlib.figure.Figure at 0x7f7b37673ac8>"
      ]
     },
     "metadata": {},
     "output_type": "display_data"
    }
   ],
   "source": [
    "sns.set(style=\"white\")\n",
    "\n",
    "plot_78_reg = sns.lmplot(data=df_lalonde, y='treat', x='re78', size=6, aspect=1.5)\n",
    "plot_78_reg.set_xlabels('1978 earnings')\n",
    "plot_78_reg.set_ylabels('Treatment group')\n",
    "\n",
    "ax = plt.gca()   # a trick to set a title on lmplot\n",
    "ax.set_title(\"Regression based on test group and earnings\")"
   ]
  },
  {
   "cell_type": "markdown",
   "metadata": {},
   "source": [
    "We could as well observe the distribution of the earnings in both control and treatment groups:"
   ]
  },
  {
   "cell_type": "code",
   "execution_count": 10,
   "metadata": {
    "ExecuteTime": {
     "end_time": "2017-11-22T16:26:24.909834Z",
     "start_time": "2017-11-22T16:26:24.545378Z"
    },
    "scrolled": true
   },
   "outputs": [
    {
     "data": {
      "text/plain": [
       "<matplotlib.legend.Legend at 0x7f7afa274dd8>"
      ]
     },
     "execution_count": 10,
     "metadata": {},
     "output_type": "execute_result"
    },
    {
     "data": {
      "image/png": "[encoded data removed]",
      "text/plain": [
       "<matplotlib.figure.Figure at 0x7f7afaec2908>"
      ]
     },
     "metadata": {},
     "output_type": "display_data"
    }
   ],
   "source": [
    "ax, fig = plt.subplots(ncols=1)\n",
    "ax.set_size_inches(15,8)\n",
    "\n",
    "plot_78_dist_control = sns.distplot(df_control_78['re78'], color='blue', label='Control')\n",
    "plot_78_dist_treat = sns.distplot(df_treat_78['re78'], color='red', label='Treatment')\n",
    "\n",
    "fig.set_title('Distribution of earnings in 1978 - red: treatment group; blue: control group')\n",
    "fig.set_xlabel('Earnings in 1978')\n",
    "fig.set_ylabel('Earnings distribution')\n",
    "fig.title.set_fontsize(20)\n",
    "fig.legend(prop={'size': 15})"
   ]
  },
  {
   "cell_type": "markdown",
   "metadata": {},
   "source": [
    "If we observe earnings in both treatment and control group we could observe:\n",
    "- both have high number of members with earning close to 0. Since that means unemployment, we could conclude that program has affected the overall employability of people involved.\n",
    "- the distribution of lower earnings is more prominent in the treated group - thus such persons will take a lower payed job\n",
    "- there are several outliers in the treated group, which we could attribute to statistical probability of such cases appearing\n",
    "\n",
    "Conversely to the numerical representation and calculation of quartiles: 25%, 50% and 75%, we present the data as box plots along with swarm plots. Here we can observe the concise information provided by the box plots and quartiles, while observing the actual distribution of data points in both groups."
   ]
  },
  {
   "cell_type": "code",
   "execution_count": 11,
   "metadata": {
    "ExecuteTime": {
     "end_time": "2017-11-22T16:26:25.159569Z",
     "start_time": "2017-11-22T16:26:24.911583Z"
    },
    "scrolled": true
   },
   "outputs": [
    {
     "ename": "NameError",
     "evalue": "name 'df_lalonde_78' is not defined",
     "output_type": "error",
     "traceback": [
      "\u001b[0;31m---------------------------------------------------------------------------\u001b[0m",
      "\u001b[0;31mNameError\u001b[0m                                 Traceback (most recent call last)",
      "\u001b[0;32m<ipython-input-11-a1f3564904cf>\u001b[0m in \u001b[0;36m<module>\u001b[0;34m()\u001b[0m\n\u001b[1;32m      4\u001b[0m \u001b[0;34m\u001b[0m\u001b[0m\n\u001b[1;32m      5\u001b[0m \u001b[0;31m# boxplot\u001b[0m\u001b[0;34m\u001b[0m\u001b[0;34m\u001b[0m\u001b[0m\n\u001b[0;32m----> 6\u001b[0;31m \u001b[0max\u001b[0m \u001b[0;34m=\u001b[0m \u001b[0msns\u001b[0m\u001b[0;34m.\u001b[0m\u001b[0mboxplot\u001b[0m\u001b[0;34m(\u001b[0m\u001b[0mx\u001b[0m\u001b[0;34m=\u001b[0m\u001b[0;34m'treat'\u001b[0m\u001b[0;34m,\u001b[0m \u001b[0my\u001b[0m\u001b[0;34m=\u001b[0m\u001b[0;34m're78'\u001b[0m\u001b[0;34m,\u001b[0m \u001b[0mdata\u001b[0m\u001b[0;34m=\u001b[0m\u001b[0mdf_lalonde_78\u001b[0m\u001b[0;34m,\u001b[0m \u001b[0mwhis\u001b[0m\u001b[0;34m=\u001b[0m\u001b[0mnp\u001b[0m\u001b[0;34m.\u001b[0m\u001b[0minf\u001b[0m\u001b[0;34m)\u001b[0m\u001b[0;34m\u001b[0m\u001b[0m\n\u001b[0m\u001b[1;32m      7\u001b[0m \u001b[0mplt\u001b[0m\u001b[0;34m.\u001b[0m\u001b[0msetp\u001b[0m\u001b[0;34m(\u001b[0m\u001b[0max\u001b[0m\u001b[0;34m.\u001b[0m\u001b[0martists\u001b[0m\u001b[0;34m,\u001b[0m \u001b[0malpha\u001b[0m\u001b[0;34m=\u001b[0m\u001b[0;36m.3\u001b[0m\u001b[0;34m)\u001b[0m\u001b[0;34m\u001b[0m\u001b[0m\n\u001b[1;32m      8\u001b[0m \u001b[0;31m# swarmplot\u001b[0m\u001b[0;34m\u001b[0m\u001b[0;34m\u001b[0m\u001b[0m\n",
      "\u001b[0;31mNameError\u001b[0m: name 'df_lalonde_78' is not defined"
     ]
    },
    {
     "data": {
      "image/png": "[encoded data removed]",
      "text/plain": [
       "<matplotlib.figure.Figure at 0x7f7af9f3d940>"
      ]
     },
     "metadata": {},
     "output_type": "display_data"
    }
   ],
   "source": [
    "sns.set_style('ticks')\n",
    "\n",
    "f, ax = plt.subplots(figsize=(10, 6))\n",
    "\n",
    "# boxplot\n",
    "ax = sns.boxplot(x='treat', y='re78', data=df_lalonde_78, whis=np.inf)\n",
    "plt.setp(ax.artists, alpha=.3)\n",
    "# swarmplot\n",
    "plot = sns.swarmplot(x='treat', y='re78', data=df_lalonde_78, size=2, linewidth=0)\n",
    "\n",
    "# Tweak the visual presentation\n",
    "ax.xaxis.grid(True)\n",
    "ax.set_ylabel('Earnings in 1978')\n",
    "ax.set_xlabel('0 - control group, 1 - treatment')\n",
    "plot.set_title('Distribution of earnings per treatment category')\n",
    "sns.despine(trim=True, left=True)"
   ]
  },
  {
   "cell_type": "markdown",
   "metadata": {},
   "source": [
    "#### A short numerical analysis: The program is a complete failure!\n",
    "\n",
    "The funds seem to have been completely wasted! The mean income in 1978 for the control group was 6984 USD, while the treated group has only 6349 USD. \n",
    "\n",
    "This gives a difference of **635** USD between the groups - and we conclude that a program has failed and did not help treated group to come closer to the control group.\n",
    "\n",
    "---\n",
    "\n",
    "As observed in quartiles, the treated group performs worse as well in total:\n",
    "\n",
    "| group | 25% | 50% | 75% |\n",
    "|---|---|---|---|\n",
    "|treated|485|4232|9642|\n",
    "|control|220|4975|11688|\n",
    "|control-treated|-265|743|2046|\n",
    "\n",
    "The treated group has performed better only in the lowest quartile, where the lowest salaries are. In Q2 and Q3 the performance of the treated group is significanlty lower, showing that such population will inherently have predisposition for lower payed jobs in comparison to the general population.\n",
    "\n",
    "The treatment group has:\n",
    "- lower mean earnings value\n",
    "- lower median earnings value\n",
    "- better first quartile outcomes - in the range of low salaries\n",
    "\n",
    "---\n",
    "\n",
    "**Conclusion**: In practical terms we could say that people with criminal records and problematic behavior don't have any hope to reach the level of regular population without such deviant behaviors even with the help of a specialized program. Such populations might have a chance to get only the jobs with the lowest salaries. Thus programs intended for such populations should not be funded since we have proven they do not benefit the population and they are just a hole in the budget.\n",
    "\n",
    "\n",
    "*Note that blatant conclusions are made on purpose to emphasize what impact could a bad analysis have.*"
   ]
  },
  {
   "cell_type": "markdown",
   "metadata": {},
   "source": [
    "### Task 2 - A closer look at the data\n",
    "\n",
    "---\n",
    "<div class=\"alert alert-block alert-info\">\n",
    "<b>Task 2</b>: \n",
    "You're not naive, of course (and even if you are, you've learned certain things in ADA), so you aren't content with a superficial analysis such as the above.\n",
    "You're aware of the dangers of observational studies, so you take a closer look at the data before jumping to conclusions.\n",
    "<br><br>\n",
    "For each feature in the dataset, compare its distribution in the treated group with its distribution in the control group, using plots and numbers.\n",
    "As above, you may use the techniques we discussed in class for summarizing and comparing the distributions.\n",
    "<br><br>\n",
    "What do you observe?\n",
    "<br>\n",
    "Describe what your observations mean for the conclusions drawn by the naive \"researcher\" from his superficial analysis.\n",
    "</div>\n",
    "\n",
    "---"
   ]
  },
  {
   "cell_type": "markdown",
   "metadata": {},
   "source": [
    "In this task we will look more closely in the per-feature distributions based on the groups which have taken part in the program. \n",
    "\n",
    "Instead of observing only the distributions on the final outcome of the National Supported Work Demonstration project (earnings in 1978), we will look more closely into preceding data: earnings in 1974 when the project began, and in 1975 - after the first year of the program. This could prove potentially very significant since we will be given insight if the program has improved the prior state.\n",
    "\n",
    "We also look into other factors that differ between treatment (project) and control groups given in the dataset such as age or years in education.\n",
    "\n",
    "For a meaningful analysis and display of distribution we split our values into subsets of *continuous variables* and *categorical variables*.\n",
    "\n",
    "**Continuous variables**:\n",
    "- `age`\n",
    "- `educ`\n",
    "- `re74`\n",
    "- `re75`\n",
    "- `re78`\n",
    "\n",
    "**Categorical variables**:\n",
    "- `treat`\n",
    "- `black`\n",
    "- `hispan`\n",
    "- `married`\n",
    "- `nodegree`\n",
    "\n",
    "Categorical variables are represented with 0-1, with 0 meaning negative and 1 positive membership. We can notice that `black` and `hispan` are listed. For an easier analysis we can add a column `white`, which is the third category present in the dataset:"
   ]
  },
  {
   "cell_type": "code",
   "execution_count": null,
   "metadata": {
    "ExecuteTime": {
     "end_time": "2017-11-22T16:26:25.160300Z",
     "start_time": "2017-11-22T16:26:22.719Z"
    },
    "collapsed": true
   },
   "outputs": [],
   "source": [
    "df_lalonde['white'] = abs(df_lalonde.black + df_lalonde.hispan - 1)"
   ]
  },
  {
   "cell_type": "markdown",
   "metadata": {},
   "source": [
    "We have used the fact that `black` and `hispan` are mutually exclusive - they would together add up to value 1 if any is 1. In that case `white` should be 0 - which we achieve by subtracting 1. In case none of `black` or `hispan` is 1, their sum is 0, while `white` should become 1 - which we achieve by taking the absolute value of the previous expression.\n",
    "\n",
    "Further in this section we will provide:\n",
    "- a closer overview of continuous variables\n",
    "- a closer overview of categorical variables\n",
    "\n",
    "### A closer overview of continuous variables:\n",
    "\n",
    "The task is to compare distributions of variables in the control and in the treated group. Since the task is practically the same for all of the variables we will write generic functions to reuse for each variable."
   ]
  },
  {
   "cell_type": "code",
   "execution_count": null,
   "metadata": {
    "ExecuteTime": {
     "end_time": "2017-11-22T16:26:25.161175Z",
     "start_time": "2017-11-22T16:26:22.727Z"
    },
    "collapsed": true
   },
   "outputs": [],
   "source": [
    "'''\n",
    "A generic function to create a Seaborn distribution plot based on 'treat' value.\n",
    "\n",
    "Parameters:\n",
    "dataframe -- dataframe to use\n",
    "column -- desired column for which to produce the distribution\n",
    "title -- plot title\n",
    "size -- plot size\n",
    "xlabel -- x axis label\n",
    "ylabel -- y axis label\n",
    "'''\n",
    "def create_distplot(dataframe, column, title, size=(15,8), xlabel=None, ylabel=None):\n",
    "    ax, fig = plt.subplots(ncols=1)\n",
    "    ax.set_size_inches(size[0], size[1])\n",
    "\n",
    "    plot1 = sns.distplot(dataframe.loc[dataframe.treat==0][column], label='Control')\n",
    "    plot2 = sns.distplot(dataframe.loc[dataframe.treat==1][column], label='Treatment')\n",
    "\n",
    "    fig.set_title(title)\n",
    "    if(xlabel!=None):\n",
    "        fig.set_xlabel(xlabel, fontsize=10)\n",
    "    if(ylabel!=None):\n",
    "        fig.set_ylabel(ylabel, fontsize=10)\n",
    "        \n",
    "    fig.legend(prop={'size': 15})\n",
    "    fig.title.set_fontsize(20)\n",
    "    fig.xaxis.label.set_fontsize(15)\n",
    "    fig.yaxis.label.set_fontsize(15)\n",
    "\n",
    "'''\n",
    "A generic function to create a Seaborn barplot based on 'treat' value.\n",
    "\n",
    "Parameters:\n",
    "dataframe -- dataframe to use\n",
    "column -- desired column for which to produce the distribution\n",
    "title -- plot title\n",
    "size -- plot size\n",
    "xlabel -- x axis label\n",
    "ylabel -- y axis label\n",
    "'''\n",
    "def create_barplot(dataframe, column, title, size=(15,8), xlabel=None, ylabel=None):\n",
    "    fig, ax = plt.subplots(figsize=size)\n",
    "    sns.set(style=\"whitegrid\")\n",
    "    \n",
    "    plot = sns.barplot(data=dataframe, x='treat', y=column)\n",
    "    \n",
    "    plot.set_title(title)\n",
    "    if(xlabel!=None):\n",
    "        plot.set_xlabel(xlabel, fontsize=10)\n",
    "    if(ylabel!=None):\n",
    "        plot.set_ylabel(ylabel, fontsize=10)\n",
    "\n",
    "    plot.title.set_fontsize(20)\n",
    "    plot.xaxis.label.set_fontsize(15)\n",
    "    plot.yaxis.label.set_fontsize(15)\n",
    "\n",
    "'''\n",
    "A generic function to create a Seaborn boxplot based on 'treat' value.\n",
    "\n",
    "Parameters:\n",
    "dataframe -- dataframe to use\n",
    "column -- desired column for which to produce the distribution\n",
    "title -- plot title\n",
    "size -- plot size\n",
    "xlabel -- x axis label\n",
    "ylabel -- y axis label\n",
    "'''\n",
    "def create_boxplot(dataframe, column, title, size=(15,8), xlabel=None, ylabel=None):\n",
    "    sns.set_style('ticks')\n",
    "\n",
    "    f, ax = plt.subplots(figsize=size)\n",
    "\n",
    "    # boxplot\n",
    "    ax = sns.boxplot(x='treat', y=column, data=dataframe, whis=np.inf)\n",
    "    plt.setp(ax.artists, alpha=.3)\n",
    "    # swarmplot\n",
    "    plot = sns.swarmplot(x='treat', y=column, data=dataframe, size=2, linewidth=0)\n",
    "\n",
    "    # Tweak the visual presentation\n",
    "    plot.set_title(title)\n",
    "    plot.title.set_fontsize(20)\n",
    "    ax.xaxis.grid(True)\n",
    "    ax.set_ylabel(ylabel)\n",
    "    ax.xaxis.label.set_fontsize(15)\n",
    "    ax.yaxis.label.set_fontsize(15)\n",
    "    ax.set_xlabel(xlabel)\n",
    "    sns.despine(trim=True, left=True)"
   ]
  },
  {
   "cell_type": "code",
   "execution_count": null,
   "metadata": {
    "ExecuteTime": {
     "end_time": "2017-11-22T16:26:25.162229Z",
     "start_time": "2017-11-22T16:26:22.733Z"
    },
    "collapsed": true
   },
   "outputs": [],
   "source": [
    "'''\n",
    "A wrapper around generic plot functions.\n",
    "The result of function invocation are 3 plots on same values, one bellow each other:\n",
    "- distribution plot\n",
    "- boxplot\n",
    "- barplot\n",
    "\n",
    "Parameters:\n",
    "dataframe -- dataframe to use\n",
    "column -- desired column for which to produce the distribution\n",
    "title -- plot title\n",
    "size -- plot size\n",
    "xlabel -- x axis label\n",
    "ylabel -- y axis label\n",
    "'''\n",
    "def create_visual(dataframe, column, title, size=(15,8), xlabel=None, ylabel=None):\n",
    "    create_distplot(dataframe, column, title, size, xlabel, ylabel)\n",
    "    create_boxplot(dataframe, column, '', size, xlabel, ylabel)\n",
    "    create_barplot(dataframe, column, '', size, xlabel, ylabel)"
   ]
  },
  {
   "cell_type": "code",
   "execution_count": null,
   "metadata": {
    "ExecuteTime": {
     "end_time": "2017-11-22T16:26:25.163302Z",
     "start_time": "2017-11-22T16:26:22.743Z"
    },
    "collapsed": true
   },
   "outputs": [],
   "source": [
    "'''\n",
    "A function for creating an HTML Table out of 2 dictionaries, representing statistical data on treatment and control groups.\n",
    "Absolute error column (Delta) is added to provide easier interpretation of data.\n",
    "\n",
    "Parameters:\n",
    "dict_treat -- dictionary representing statistical data on treatment group\n",
    "dict_control -- dictionary representing statistical data on control group\n",
    "\n",
    "Returns:\n",
    "html - an HTML text describing a table\n",
    "'''\n",
    "def make_table(dict_treat, dict_control):\n",
    "    html = '<table style=\"margin-left: auto; margin-right: auto;\">'\n",
    "    \n",
    "    html += \"<tr>\"\n",
    "    html += \"<th></th><th>Treated group</th><th>Control group</th><th>&Delta;</th>\"\n",
    "    html += \"</tr>\"\n",
    "    \n",
    "    for (k1, v1), (k2,v2) in zip(dict_treat.items(), dict_control.items()):\n",
    "        html += \"<tr>\"\n",
    "        html += \"<td>\"+k1+\"</td><td>\"+str(v1)+\"</td><td>\"+str(v2)+\"</td><td>\"+str(abs(v1-v2))+\"</td>\"\n",
    "        html += \"</tr>\"\n",
    "        \n",
    "    html += \"</table>\"\n",
    "    \n",
    "    return html\n",
    "\n",
    "'''\n",
    "A function for displaying basic statistical data about the specified variable.\n",
    "We display data for both treatment and control groups.\n",
    "\n",
    "Parameters:\n",
    "dataframe -- dataframe to use\n",
    "column -- desired column on which to perform analysis\n",
    "'''\n",
    "def show_stats(dataframe, column):\n",
    "    # we filter the dataframe to obtain only treat and desired column, then select treated group\n",
    "    treat = df_lalonde.filter(['treat', column]).loc[df_lalonde.treat==1]\n",
    "    \n",
    "    # we filter the dataframe to obtain only treat and desired column, then select control group\n",
    "    control = df_lalonde.filter(['treat', column]).loc[df_lalonde.treat==0]\n",
    "    \n",
    "    '''\n",
    "    We use pandas describe which provides us with quartiles, std, mean, med...\n",
    "    Then convert the output of describe() from DataFrame to dictionary for easier use,\n",
    "    and select only the dictionary entry corresponding to the desired column statistics.\n",
    "    '''\n",
    "    treat_stats = treat.describe().to_dict()[column]\n",
    "    control_stats = control.describe().to_dict()[column]\n",
    "    \n",
    "    display(HTML(make_table(treat_stats, control_stats))) "
   ]
  },
  {
   "cell_type": "markdown",
   "metadata": {},
   "source": [
    "First we will show a distribution plot along with the estimated density, then a box plot superimposed on the swarm plot. Finally we show a standard bar plot. These 3 plots represent the same data, but we have chosen to always display all options since certain features are easier to catch in different types of plots."
   ]
  },
  {
   "cell_type": "markdown",
   "metadata": {},
   "source": [
    "### Feature: Age\n",
    "\n",
    "Age is an important factor when we consider employability. This is especially prominent if the person is unemployed at the moment and seeking a job. Differences in treated and control group in terms of age of the population could bias the results.\n",
    "\n",
    "In general younger population should have higher prospects of finding a job, while on the other part of the spectrum the chances get lower since employer might seek a more stable, healthy and long term employee.\n",
    "\n",
    "We can see identical values for the first 2 quartiles, which means that most of the population below the median value in both groups is similar in age. We can see that in the Q3-75% value for the control group is 6 years higher, which indicates there are more older people in the control group."
   ]
  },
  {
   "cell_type": "code",
   "execution_count": null,
   "metadata": {
    "ExecuteTime": {
     "end_time": "2017-11-22T16:26:25.164254Z",
     "start_time": "2017-11-22T16:26:22.754Z"
    }
   },
   "outputs": [],
   "source": [
    "show_stats(df_lalonde, 'age')"
   ]
  },
  {
   "cell_type": "markdown",
   "metadata": {},
   "source": [
    "To assess the previous statements we will show the distribution of age according to the treatment group."
   ]
  },
  {
   "cell_type": "code",
   "execution_count": null,
   "metadata": {
    "ExecuteTime": {
     "end_time": "2017-11-22T16:26:25.165197Z",
     "start_time": "2017-11-22T16:26:22.764Z"
    }
   },
   "outputs": [],
   "source": [
    "create_visual(df_lalonde, 'age', 'Distribution of age by treatment category', xlabel='Age', ylabel='Frequency')"
   ]
  },
  {
   "cell_type": "markdown",
   "metadata": {},
   "source": [
    "We can observe that in the treatment group there are generally more younger people than in the control group.\n",
    "\n",
    "For the treatment group this might make sense - if there was certain admission criteria which preferred such age groups.\n",
    "\n",
    "**Remark**: Observing age alone, we would say that treatment group should have an advantage in employability and earnings per year."
   ]
  },
  {
   "cell_type": "markdown",
   "metadata": {},
   "source": [
    "---\n",
    "\n",
    "### Feature: Education\n",
    "\n",
    "Education is an important factor to consider when contemplating employability, but more importantly the earnings in the landed job. The higher the education, or in this case the number of years spent in education, the higher the qualifications should be and thus wider job opportunities and higher payed positions are available.\n",
    "\n",
    "**Note**: If years spent in education means continuously failing years, but still accruing years, the prior statement is not valid.\n",
    "\n",
    "We can see a statistical similarity in years spent in education according to the mean, median and quartile values. We will provide deeper insight by showing a graphical representation of distribution of years in education per treatment category."
   ]
  },
  {
   "cell_type": "code",
   "execution_count": null,
   "metadata": {
    "ExecuteTime": {
     "end_time": "2017-11-22T16:26:25.166282Z",
     "start_time": "2017-11-22T16:26:22.776Z"
    }
   },
   "outputs": [],
   "source": [
    "show_stats(df_lalonde, 'educ')"
   ]
  },
  {
   "cell_type": "code",
   "execution_count": null,
   "metadata": {
    "ExecuteTime": {
     "end_time": "2017-11-22T16:26:25.167295Z",
     "start_time": "2017-11-22T16:26:22.787Z"
    }
   },
   "outputs": [],
   "source": [
    "create_visual(df_lalonde, 'educ', 'Distribution of years in education by treatment category', xlabel='Years in education', ylabel='Frequency')"
   ]
  },
  {
   "cell_type": "markdown",
   "metadata": {},
   "source": [
    "**Remarks**: As we can observe, statistically both groups have similar number of years in education, with mean value for both groups being around 10 years, and median value being 11.\n",
    "\n",
    "Neither group should have an advantage according to this feature.\n",
    "\n",
    "---\n",
    "\n",
    "### Feature: `re74` (Earnings in 1974)\n",
    "\n",
    "As we have observed before, the NSW program has started in 1974 and targets specific population which has difficulties in finding an employment. \n",
    "\n",
    "In accordance with that knowledge, we can conclude that there is a significant gap between treated group and control group, especially when considering mean and median earnings because the treatment populaion has been specifically selected to prefer lower earnings (which are a consequence of unemployment), while the control group is a random sample."
   ]
  },
  {
   "cell_type": "code",
   "execution_count": null,
   "metadata": {
    "ExecuteTime": {
     "end_time": "2017-11-22T16:26:25.168234Z",
     "start_time": "2017-11-22T16:26:22.802Z"
    }
   },
   "outputs": [],
   "source": [
    "show_stats(df_lalonde, 're74')"
   ]
  },
  {
   "cell_type": "markdown",
   "metadata": {},
   "source": [
    "We show a visual representation of both control and treatment groups according to the earnings in 1974."
   ]
  },
  {
   "cell_type": "code",
   "execution_count": null,
   "metadata": {
    "ExecuteTime": {
     "end_time": "2017-11-22T16:26:25.169296Z",
     "start_time": "2017-11-22T16:26:22.817Z"
    },
    "scrolled": true
   },
   "outputs": [],
   "source": [
    "create_visual(df_lalonde, 're74', 'Distribution of earnings by treatment category', xlabel='Earnings in 1974', ylabel='Frequency')"
   ]
  },
  {
   "cell_type": "markdown",
   "metadata": {},
   "source": [
    "**Remarks**: We can observe that there is a significant number of unemployed persons in the treatment group. This is according to the program setup where we would like to show if the employability program helps such persons to find a job and increase their earnings."
   ]
  },
  {
   "cell_type": "markdown",
   "metadata": {},
   "source": [
    "---\n",
    "\n",
    "### Feature: `re75` (Earnings in 1975)\n",
    "\n",
    "We observe the earnings in 1975 **only**. We can still observe that treatment groups fares worse than the control group, even after one year of employment program. \n",
    "\n",
    "Later on we will observe the earnings accross the years, but let us focus on **1974** and **1975**. We could see a slight improvement when comparing the difference in mean and median earnings in both years."
   ]
  },
  {
   "cell_type": "code",
   "execution_count": null,
   "metadata": {
    "ExecuteTime": {
     "end_time": "2017-11-22T16:26:25.170325Z",
     "start_time": "2017-11-22T16:26:22.829Z"
    }
   },
   "outputs": [],
   "source": [
    "show_stats(df_lalonde, 're75')"
   ]
  },
  {
   "cell_type": "code",
   "execution_count": null,
   "metadata": {
    "ExecuteTime": {
     "end_time": "2017-11-22T16:26:25.171322Z",
     "start_time": "2017-11-22T16:26:22.837Z"
    },
    "scrolled": true
   },
   "outputs": [],
   "source": [
    "create_visual(df_lalonde, 're75', 'Distribution of earnings by treatment category', xlabel='Earnings in 1975', ylabel='Frequency')"
   ]
  },
  {
   "cell_type": "markdown",
   "metadata": {},
   "source": [
    "**Remarks**: Comparing with control group, treatment group still fares worse in 1975. Albeit, in comparison to 1974 the gap has become narrower in mean and median earnings, which is a good indicator that the program is giving some positive results."
   ]
  },
  {
   "cell_type": "markdown",
   "metadata": {},
   "source": [
    "---\n",
    "\n",
    "### Feature: `re78` (Earnings in 1978)\n",
    "\n",
    "As we have previously analyzed, the earnings in 1978 show that median and mean earnings are lower in the treated group than in the control group. On its own we would say this is not a good outcome of the employment program. We certainly need to analyze overal earnings over the years between two groups, which we do after presenting the data for earnings in 1978."
   ]
  },
  {
   "cell_type": "code",
   "execution_count": null,
   "metadata": {
    "ExecuteTime": {
     "end_time": "2017-11-22T16:26:25.172278Z",
     "start_time": "2017-11-22T16:26:22.851Z"
    }
   },
   "outputs": [],
   "source": [
    "show_stats(df_lalonde, 're78')"
   ]
  },
  {
   "cell_type": "code",
   "execution_count": null,
   "metadata": {
    "ExecuteTime": {
     "end_time": "2017-11-22T16:26:25.173272Z",
     "start_time": "2017-11-22T16:26:22.860Z"
    },
    "scrolled": true
   },
   "outputs": [],
   "source": [
    "create_visual(df_lalonde, 're78', 'Distribution of earnings by treatment category', xlabel='Earnings in 1978', ylabel='Frequency')"
   ]
  },
  {
   "cell_type": "markdown",
   "metadata": {},
   "source": [
    "#### Overall earnings remarks\n",
    "\n",
    "We need to have a closer look into overall earnings, since the beginning of the program in 1974, throught 1975 and then in the end in 1978. We will look into mean and median values over those years. More details are available at graphs and table in each feature analyzed.\n",
    "\n",
    "<table>\n",
    "    <tr><th>value</th><th>group</th><th>1974</th><th>1975</th><th>1978</th></tr>\n",
    "    <tr><td rowspan=\"3\">mean</td><td>control</td><td>5619.23650639</td><td>2466.48444312</td><td>6984.16974231</td></tr>\n",
    "    <tr><td>treat</td><td>2095.57368865</td><td>1532.05531378</td><td>6349.14353027</td></tr>\n",
    "    <tr><td>delta</td><td>3523.66281774</td><td>934.42912934</td><td>635.02623961</td></tr>\n",
    "    <tr><td rowspan=\"3\">median</td><td>control</td><td>2547.047</td><td>1086.726</td><td>4975.505</td></tr>\n",
    "    <tr><td>treat</td><td>0</td><td>0</td><td>4232.309</td></tr>\n",
    "    <tr><td>delta</td><td>2547.047</td><td>1086.726</td><td>743.196</td></tr>\n",
    "</table>\n",
    "\n",
    "**1974**:\n",
    "The program targeted categories who have very low probability of getting employed. We can see that in the data from 1974 when the program has commenced. The difference between mean earnings is most prominent between treated and control groups - which is expected since no remedy has yet been applied on treated group.\n",
    "\n",
    "**1975**:\n",
    "The program has lasted 1 year and we should be able to see whether there has been any improvement between two groups. The difference between mean earnings has further reduced between the groups.\n",
    "\n",
    "**1978**:\n",
    "The program should show its results. We can see that the mean earnings gap has further been reduced in comparison to the previous years. The median has also improved significantly in comparison to the previous years.\n",
    "\n",
    "\n",
    "The same result can be shown as a chart, further conveying that the gap has been reducing over the years."
   ]
  },
  {
   "cell_type": "code",
   "execution_count": null,
   "metadata": {
    "ExecuteTime": {
     "end_time": "2017-11-22T16:26:25.174263Z",
     "start_time": "2017-11-22T16:26:22.870Z"
    }
   },
   "outputs": [],
   "source": [
    "treatment_mean = (5619.23650639, 2466.48444312, 6984.16974231)\n",
    "control_mean = (2095.57368865, 1532.05531378, 6349.14353027)\n",
    "\n",
    "N = 3\n",
    "ind = np.arange(N)  # the x locations for the groups\n",
    "width = 0.35       # the width of the bars\n",
    "\n",
    "fig, ax = plt.subplots(figsize=(12,6))\n",
    "rects1 = ax.bar(ind, treatment_mean, width)\n",
    "rects2 = ax.bar(ind + width, control_mean, width)\n",
    "\n",
    "ax.set_ylabel('Earnings')\n",
    "ax.set_title('Earnings through years by treatment category')\n",
    "ax.set_xticks(ind + width / 2)\n",
    "ax.set_xticklabels(('1974', '1975', '1978'))\n",
    "\n",
    "ax.legend((rects1[0], rects2[0]), ('Control', 'Treatment'))\n",
    "\n",
    "plt.show()"
   ]
  },
  {
   "cell_type": "markdown",
   "metadata": {},
   "source": [
    "**Remark**: After a closer overview of the earnings throughout the years, we can conclude that the program has brought significant benefit to the persons taking part. Overall mean earnings have shifted up in comparison to the control group, while the median earnings have risen as well after several years.\n",
    "\n",
    "These remarks show that a program was **successful** in some part in contrast to the previous conclusion that the program is a complete **failure**. We still cannot quantify and certainly confirm the success rate, but we can see a more positive outcome of such a program.\n",
    "\n",
    "We still need to look into the factors of population surveyed and taking part, which are described in *categorical variables*.\n",
    "\n",
    "---\n",
    "\n",
    "### A closer overview of categorical variables:\n",
    "\n",
    "Categorical variables present in this dataset are:\n",
    "- ethnicity:\n",
    "    - `black`\n",
    "    - `hispan`\n",
    "    - `white` (derived for easier presentation)\n",
    "- `married`\n",
    "- `nodegree`\n",
    "\n",
    "We are interested how are these categories distributed in the treatment and control group. In order to make the comparison reasonable, we calculate the percentage of each category in respective group (treatment or control), since the sample sizes are different (*429* in control and *185* in treatment).\n",
    "\n",
    "The ratio of categories is extremely important, especially if there is a disbalance between such ratios in control and treatment population. Certain categories might influence the outcome, and disproportion should be accounted for in the final conclusion.\n",
    "\n",
    "Since we will showcase features several times, we will write a wrapper function for aggregation and display of our categorical data."
   ]
  },
  {
   "cell_type": "code",
   "execution_count": null,
   "metadata": {
    "ExecuteTime": {
     "end_time": "2017-11-22T16:26:25.175291Z",
     "start_time": "2017-11-22T16:26:22.881Z"
    },
    "collapsed": true
   },
   "outputs": [],
   "source": [
    "'''\n",
    "A wrapper function for plotting categorical data and returning the aggregated dataframe.\n",
    "\n",
    "Parameters:\n",
    "dataframe -- dataframe on which to perform analysis\n",
    "variables -- desired variables to extract\n",
    "title -- plot title\n",
    "x_title -- x axis title\n",
    "y_title -- y axis title\n",
    "\n",
    "Returns:\n",
    "df_grouped_sum -- dataframe with specified categories containing percentage of category in control and treatment\n",
    "'''\n",
    "def show_categorical(dataframe, variables, title, x_title='Features', y_title='Percentage', size=(12,7)):\n",
    "    # we filter out only necessary columns\n",
    "    df = dataframe.filter(variables)\n",
    "    \n",
    "    # we group by treatment - 0 or 1 per column\n",
    "    df_grouped_sum = df.groupby('treat').sum().reset_index()\n",
    "    # as we are interested to have the category as value, we transpose the dataframe\n",
    "    df_grouped_sum = df_grouped_sum.T.reset_index()\n",
    "    # we no longer need the 'treat' column, that has become a row\n",
    "    df_grouped_sum.drop(df_grouped_sum.index[0], inplace=True)\n",
    "    # we rename the obtained columns for easier understanding\n",
    "    df_grouped_sum.columns=['Category','Control','Treatment']\n",
    "    \n",
    "    # we calculate the size of control and treatment groups\n",
    "    sum_control = dataframe.loc[dataframe.treat==0].shape[0]\n",
    "    sum_treatment = dataframe.loc[dataframe.treat==1].shape[0]\n",
    "    \n",
    "    # we calculate the percentage per treatment category\n",
    "    df_grouped_sum['Control']=df_grouped_sum['Control']/sum_control*100\n",
    "    df_grouped_sum['Treatment']=df_grouped_sum['Treatment']/sum_treatment*100\n",
    "    df_grouped_sum['Delta']=abs(df_grouped_sum['Control']-df_grouped_sum['Treatment'])\n",
    "    \n",
    "    \n",
    "    # we plot a barchart grouped by treatment category\n",
    "    plot_categorical(df_grouped_sum, title, x_title, y_title, size)\n",
    "    \n",
    "    return df_grouped_sum\n",
    "\n",
    "'''\n",
    "A helper function to plot categorical variables as grouped barchart.\n",
    "\n",
    "Parameters:\n",
    "dataframe -- dataframe to plot\n",
    "title -- plot title\n",
    "x_title -- x axis title\n",
    "y_title -- y axis title\n",
    "'''\n",
    "def plot_categorical(dataframe, title, x_title, y_title, size):\n",
    "    plot = dataframe.plot.bar(y=['Control','Treatment'], x=['Category'], figsize=size, fontsize=15)\n",
    "    plot.set_title(title)\n",
    "    plot.set_xlabel(x_title)\n",
    "    plot.set_ylabel(y_title)\n",
    "    plot.legend(prop={'size': 12})\n",
    "        \n",
    "    plot.title.set_fontsize(20)\n",
    "    plot.xaxis.label.set_fontsize(15)\n",
    "    plot.yaxis.label.set_fontsize(15)\n",
    "    "
   ]
  },
  {
   "cell_type": "markdown",
   "metadata": {},
   "source": [
    "### Ethnicity\n",
    "\n",
    "Three ethnicities have taken part in the study, and we would like to have a closer look on the distribution of three in both categories.\n",
    "\n",
    "We show a dataframe which represents the percentage of each category per control and treatment sets, respectively. This analysis per category was a reasonable choice for us, since the sample size is not the same for control and treatment groups."
   ]
  },
  {
   "cell_type": "code",
   "execution_count": null,
   "metadata": {
    "ExecuteTime": {
     "end_time": "2017-11-22T16:26:25.176236Z",
     "start_time": "2017-11-22T16:26:22.892Z"
    },
    "scrolled": true
   },
   "outputs": [],
   "source": [
    "show_categorical(df_lalonde, ['treat','black','hispan','white'],'Ethnicity distribution per treatment category')"
   ]
  },
  {
   "cell_type": "markdown",
   "metadata": {},
   "source": [
    "We can notice the disproportion in population based on ethnicity:\n",
    "- **control sample**: approx. 20% black, 14% hispanic and 66% white people\n",
    "- **treatment sample**: approx. 84% black, 6% hispanic and 10% white people\n",
    "\n",
    "The differences are more prominently visible in graphical representation. We see that the population sample based on ethnicity is skewed.\n",
    "\n",
    "**Remarks**: In general there are more white people in the control sample, and more black people in the treatment sample. Taking into consideration the sentiment at the time of the employment program in the USA towards people with past criminal record or substance abuse, especially towards people of color, we could conclude that results might be less favorable for the treatment group.\n",
    "\n",
    "The earnings of treatment group are expected to be less than those in the control group."
   ]
  },
  {
   "cell_type": "markdown",
   "metadata": {},
   "source": [
    "### Marital status and education"
   ]
  },
  {
   "cell_type": "markdown",
   "metadata": {},
   "source": [
    "Marital status and education could play a significant role in the overall employability, job stability and most importantly impact the yearly earnings."
   ]
  },
  {
   "cell_type": "code",
   "execution_count": null,
   "metadata": {
    "ExecuteTime": {
     "end_time": "2017-11-22T16:26:25.177248Z",
     "start_time": "2017-11-22T16:26:22.907Z"
    },
    "scrolled": true
   },
   "outputs": [],
   "source": [
    "show_categorical(df_lalonde, ['treat','nodegree', 'married'],'Distribution of persons with no degree and marital status per treatment category')"
   ]
  },
  {
   "cell_type": "markdown",
   "metadata": {},
   "source": [
    "**Remarks**:\n",
    "There is a difference of 11.13% in persons who did not obtain a degree between control and treatment group. This is a significant difference, yet, one of the categories which has a lower delta in comparison to other categorical variables. Persons with a degree usually have a higher chance of landing a job with higher earnings.\n",
    "\n",
    "Marital status shows a higher difference which might give insight in either:\n",
    "- age of participants (too young for marriage)\n",
    "- life instability (criminal activities, substance abuse)\n",
    "We could possibly conclude that there is a discrepancy in control and treatment groups for those reasons, which subsequently impact long term employability and progression in job towards higher payed positions.\n",
    "\n",
    "The overall earnings for the treatment group are expected to be lower than those in the control group."
   ]
  },
  {
   "cell_type": "markdown",
   "metadata": {},
   "source": [
    "#### 3. A propensity score model\n",
    "\n",
    "Use logistic regression to estimate propensity scores for all points in the dataset.\n",
    "You may use `sklearn` to fit the logistic regression model and apply it to each data point to obtain propensity scores:\n",
    "\n",
    "```python\n",
    "from sklearn import linear_model\n",
    "logistic = linear_model.LogisticRegression()\n",
    "```\n",
    "<div class=\"alert alert-block alert-info\">\n",
    "Recall that the propensity score of a data point represents its probability of receiving the treatment, based on its pre-treatment features (in this case, age, education, pre-treatment income, etc.).\n",
    "To brush up on propensity scores, you may read chapter 3.3 of the above-cited book by Rosenbaum or [this article](https://drive.google.com/file/d/0B4jctQY-uqhzTlpBaTBJRTJFVFE/view).\n",
    "\n",
    "Note: you do not need a train/test split here. Train and apply the model on the entire dataset. If you're wondering why this is the right thing to do in this situation, recall that the propensity score model is not used in order to make predictions about unseen data. Its sole purpose is to balance the dataset across treatment groups.\n",
    "(See p. 74 of Rosenbaum's book for an explanation why slight overfitting is even good for propensity scores.\n",
    "If you want even more information, read [this article](https://drive.google.com/file/d/0B4jctQY-uqhzTlpBaTBJRTJFVFE/view).)\n",
    "</div>"
   ]
  },
  {
   "cell_type": "code",
   "execution_count": null,
   "metadata": {
    "ExecuteTime": {
     "end_time": "2017-11-22T16:26:25.178247Z",
     "start_time": "2017-11-22T16:26:22.921Z"
    },
    "collapsed": true
   },
   "outputs": [],
   "source": [
    "from sklearn import linear_model, metrics\n",
    "logistic_classifier = linear_model.LogisticRegression(penalty='l1')"
   ]
  },
  {
   "cell_type": "markdown",
   "metadata": {},
   "source": [
    "As presented in the amazing [article](https://www.ncbi.nlm.nih.gov/pmc/articles/PMC3144483/) of Peter Austin and also in the course 5 - [Observational Studies](https://docs.google.com/presentation/d/1ndR2nCaFVtbryfbwSZUrFBIowy5_Gj8ETcrdz4euCXE/edit#slide=id.g25d09776e5_0_114), we need to compute propensity scores when we are dealing with observational studies. This is because the data available is usually misleading if it is not processed in this sense, as it might be easily observed in this dataset's case, where we have features for which the distribution in the treated and the control group are *very* different. Therefore, we cannot say for sure if the impact on the earnings is due to the treatment or to the difference in distribution of the features. \n",
    "\n",
    "The technique in this case would be to calculate the propensity scores. As stated by Austin, the instances with similar propensity scores have the same distribution over the input features. After computing the propesity scores, we must match instances with similar propensity scores and then reconstruct the dataset only with the matched instances. In this way, the distribution for each feature is very similar under the treatment and control group, so it can be considered that the seen changes in the result are due to the treatment. "
   ]
  },
  {
   "cell_type": "code",
   "execution_count": null,
   "metadata": {
    "ExecuteTime": {
     "end_time": "2017-11-22T16:26:25.179218Z",
     "start_time": "2017-11-22T16:26:22.932Z"
    },
    "collapsed": true
   },
   "outputs": [],
   "source": [
    "feature_cols = ['age', 'educ', 'black', 'hispan', 'married', 'nodegree', 're74', 're75'] \n",
    "# notice that 're78' is not included, because it is collected AFTER the treatment, therefore cannot influence the decision of \n",
    "# being treated or not.\n",
    "\n",
    "X_train = dataset[feature_cols]\n",
    "y_train = dataset.treat\n",
    "\n",
    "logistic_classifier.fit(X_train, y_train)\n",
    "propensity_scores = pd.Series(logistic_classifier.predict_proba(X_train)[:,1], name='score', index=dataset.index)\n",
    "# propensity score for each datapoint, represented by the probability of being treated based on all pre-treatment features"
   ]
  },
  {
   "cell_type": "code",
   "execution_count": null,
   "metadata": {
    "ExecuteTime": {
     "end_time": "2017-11-22T16:26:25.180215Z",
     "start_time": "2017-11-22T16:26:22.944Z"
    }
   },
   "outputs": [],
   "source": [
    "propensity_scores.head()"
   ]
  },
  {
   "cell_type": "markdown",
   "metadata": {},
   "source": [
    "#### 4. Balancing the dataset via matching\n",
    "\n",
    "<div class=\"alert alert-block alert-info\">\n",
    "Use the propensity scores to match each data point from the treated group with exactly one data point from the control group, while ensuring that each data point from the control group is matched with at most one data point from the treated group. (Hint: you may explore the <i>networkx</i> package in Python for predefined matching functions.)\n",
    "\n",
    "Your matching should maximize the similarity between matched subjects, as captured by their propensity scores. In other words, the sum (over all matched pairs) of absolute propensity-score differences between the two matched subjects should be minimized.\n",
    "\n",
    "After matching, you have as many treated as you have control subjects. Compare the outcomes (re78) between the two groups (treated and control).\n",
    "\n",
    "Also, compare again the feature-value distributions between the two groups, as you've done in part 2 above, but now only for the matched subjects. What do you observe? Are you closer to being able to draw valid conclusions now than you were before?\n",
    "</div>"
   ]
  },
  {
   "cell_type": "markdown",
   "metadata": {},
   "source": [
    "In this exercise, we want to construct a new dataset which, for each feature, has similar distributions on both control and treatment groups. This being the current goal, we can use any of the methods presented by *Peter Austin*: \n",
    "- propensity score matching\n",
    "- stratification on the propensity score\n",
    "- inverse probability of treatment weighting using the propensity score\n",
    "- covariate adjustment using the propensity score.\n",
    "\n",
    "First, we want to add the propensity score as a new feature for each instance in the dataset, and then split the dataset into two subsets that form a partition: the *control* dataset and the *treatment* dataset:"
   ]
  },
  {
   "cell_type": "code",
   "execution_count": null,
   "metadata": {
    "ExecuteTime": {
     "end_time": "2017-11-22T16:26:25.181177Z",
     "start_time": "2017-11-22T16:26:22.957Z"
    },
    "collapsed": true
   },
   "outputs": [],
   "source": [
    "dataset['propensity_score'] = propensity_scores\n",
    "\n",
    "treatment = dataset[dataset.treat == 1]\n",
    "control = dataset[dataset.treat == 0]"
   ]
  },
  {
   "cell_type": "markdown",
   "metadata": {},
   "source": [
    "We are using the propensity score matching method, and will choose not for a greedy algorithm, but for a minimum bipartite matching. For this, we need to construct a graph, where each node is represented by a different instance in the dataset. Furthermore, we will construct a bipartite graph, where the two partitions are represented by the nodes in the *control* group and the *treatment* group. This is realized by linking any two nodes that correspond to instances from different groups, and the edge weight will be equal to the absolute value of the difference of the propensity score between the two nodes, as presented in [Course 5](https://docs.google.com/presentation/d/1ndR2nCaFVtbryfbwSZUrFBIowy5_Gj8ETcrdz4euCXE/edit#slide=id.g25d09776e5_0_114).\n",
    "\n",
    "First, we need to define a similarity function between two instances. This will be represented as the inverse of the absolute value of the difference of propensity scores of the two instances, $sim = 1 - \\vert propensity(u) - propensity(v)|$, where $u, v$ define the two instances. The first idea would be to consider $sim =  |propensity(u) - propensity(v)|$, but then we will have $sim \\leq 0,$ for any two instances. We can easily see that, because the propensity score is in fact defined by a probability, then it has values between 0 and 1, therefore the value $ |propensity(u) - propensity(v)| \\in [0, 1]$. Therefore, we have  $1 - \\vert propensity(u) - propensity(v)| \\in [0,1]$, and the similarity function increases as the two propensity scores get closer to each other. The similarity function is implemented below:"
   ]
  },
  {
   "cell_type": "code",
   "execution_count": null,
   "metadata": {
    "ExecuteTime": {
     "end_time": "2017-11-22T16:26:25.182181Z",
     "start_time": "2017-11-22T16:26:22.970Z"
    },
    "collapsed": true
   },
   "outputs": [],
   "source": [
    "def compute_similarity_between_nodes(row_1, row_2):\n",
    "    '''\n",
    "    Function that computes the similarity between two instances based on the inverse (in the additive group (Z, +)) of the \n",
    "    absolute value of the difference of propensity scores of the two instances. \n",
    "    \n",
    "    :param row_1: the information of the first instance, which is encoded as a row of the dataset DataFrame\n",
    "    :param row_1: the information of the first instance, which is encoded as a row of the dataset DataFrame\n",
    "    \n",
    "    :return: the similarity between the two instances, expressed as a number between 0 and 1. Note: the nodes will have a bigger \n",
    "    similarity as they have a closer propensity score.\n",
    "    '''\n",
    "    \n",
    "    return 1-abs(row_1['propensity_score'] - row_2['propensity_score'])"
   ]
  },
  {
   "cell_type": "markdown",
   "metadata": {},
   "source": [
    "For constructing the graph and realizing the matching, we will use the **networkx** package, as below:"
   ]
  },
  {
   "cell_type": "code",
   "execution_count": null,
   "metadata": {
    "ExecuteTime": {
     "end_time": "2017-11-22T16:26:25.183162Z",
     "start_time": "2017-11-22T16:26:22.982Z"
    },
    "collapsed": true
   },
   "outputs": [],
   "source": [
    "def construct_bipartite_graph(treatment_group, control_group):\n",
    "    '''\n",
    "    Function that computes the bipartite graph, given the two groups: treatment and control.\n",
    "    \n",
    "    :param treatment_group: the instances in the treatment group, as a subset of the dataset DataFrame\n",
    "    :param control_group: the instances in the control group, as a subset of the dataset DataFrame\n",
    "    \n",
    "    :return: the bipartite undirected graph in which only instances from different groups are connected, and the weight of each\n",
    "    edge is equal to the similarity between the two instances represented by the two nodes.     \n",
    "    '''\n",
    "\n",
    "    bipartite_graph = Graph() # constructing the undirected graph\n",
    "\n",
    "    # Then, we need to create the edge between ALL the nodes from different groups:\n",
    "    for id_treatment, row_treatment in treatment_group.iterrows():\n",
    "        for id_control, row_control in control_group.iterrows():\n",
    "            \n",
    "            similarity = compute_similarity_between_nodes(row_treatment, row_control)\n",
    "            # similarity between the two instances\n",
    "            bipartite_graph.add_weighted_edges_from([(id_treatment, id_control, similarity)]) \n",
    "            # add the new edge. If nodes don't exist, then method also creates nodes and adds them to the graph.\n",
    "            # the similarity is added as the attribute 'weight' such that we can apply the matching algorithm afterwards\n",
    "            \n",
    "    return bipartite_graph"
   ]
  },
  {
   "cell_type": "code",
   "execution_count": null,
   "metadata": {
    "ExecuteTime": {
     "end_time": "2017-11-22T16:26:25.184157Z",
     "start_time": "2017-11-22T16:26:22.992Z"
    },
    "collapsed": true
   },
   "outputs": [],
   "source": [
    "def compute_maximum_similarity_matching(treatment_group, control_group, compute_graph_function, threshold=None):\n",
    "    '''\n",
    "    Function that computes the propensity score matching on the control group and the treatment group\n",
    "    \n",
    "    :param treatment_group: the instances in the treatment group, as a subset of the dataset DataFrame\n",
    "    :param control_group: the instances in the control group, as a subset of the dataset DataFrame\n",
    "    :param compute_graph_function: the function that computes the bipartite graph needed for matching\n",
    "    :param threshold: parameter which specifies the threshold for similarity. If similarity is below threshold, then don't \n",
    "    pair the instances\n",
    "    \n",
    "    :return: the propensity score matching, as a list of pairs [(treatment_instance, control_instance)]\n",
    "    '''\n",
    "    bipartite_graph = compute_graph_function(treatment_group, control_group)\n",
    "    match_dictionary = max_weight_matching(bipartite_graph)\n",
    "    # the dictionary holds redundant information, i.e. if it holds the pair (u, v), then holds also the pair (v, u)\n",
    "    \n",
    "    treatment_ids = set(treatment_group.index)\n",
    "    control_ids = set(control_group.index)\n",
    "    \n",
    "    result = [] # the result list of matched instances\n",
    "    \n",
    "    for u, v in match_dictionary.items():\n",
    "        if u in treatment_ids:\n",
    "            similarity = 1 - abs(treatment_group.loc[u, 'propensity_score'] - control_group.loc[v, 'propensity_score'])\n",
    "            if threshold is None or similarity >= threshold:\n",
    "                result.append((u, v))\n",
    "    \n",
    "    return result"
   ]
  },
  {
   "cell_type": "markdown",
   "metadata": {},
   "source": [
    "After writing the function necessary for computing the similarity matching, we need to apply it to our dataset:"
   ]
  },
  {
   "cell_type": "code",
   "execution_count": null,
   "metadata": {
    "ExecuteTime": {
     "end_time": "2017-11-22T16:26:25.185095Z",
     "start_time": "2017-11-22T16:26:23.006Z"
    },
    "collapsed": true
   },
   "outputs": [],
   "source": [
    "similarity_matching = compute_maximum_similarity_matching(treatment, control, construct_bipartite_graph)"
   ]
  },
  {
   "cell_type": "markdown",
   "metadata": {},
   "source": [
    "Now, we need to reconstruct the paired treatment and control datasets:"
   ]
  },
  {
   "cell_type": "code",
   "execution_count": null,
   "metadata": {
    "ExecuteTime": {
     "end_time": "2017-11-22T16:26:25.186028Z",
     "start_time": "2017-11-22T16:26:23.018Z"
    },
    "collapsed": true
   },
   "outputs": [],
   "source": [
    "treatment_paired_ids = [pair[0] for pair in similarity_matching] # the IDs of the treatment paired instances \n",
    "control_paired_ids = [pair[1] for pair in similarity_matching] # the IDs of the control paired instances\n",
    "\n",
    "treatment_paired = dataset[dataset.index.isin(treatment_paired_ids)] # the dataset of the treatment paired instances\n",
    "control_paired = dataset[dataset.index.isin(control_paired_ids)] # the dataset of the control paired instances"
   ]
  },
  {
   "cell_type": "markdown",
   "metadata": {},
   "source": [
    "After constructing the new treatment and control groups, we would like to perform the same analysis as for the first and second task. Therefore, we can look first at the mean of the earnings in 1978 (after treatment), in both control and treatment group: "
   ]
  },
  {
   "cell_type": "code",
   "execution_count": null,
   "metadata": {
    "ExecuteTime": {
     "end_time": "2017-11-22T16:26:25.187051Z",
     "start_time": "2017-11-22T16:26:23.033Z"
    }
   },
   "outputs": [],
   "source": [
    "control_paired.re78.mean(), treatment_paired.re78.mean()"
   ]
  },
  {
   "cell_type": "markdown",
   "metadata": {},
   "source": [
    "It can be seen that, with the constructed control and treatment groups, the mean of the earnings of the participants in the treatment group is larger than the mean of earnings of participants in the control grop, with \\$647. Also, the differences in earnings between control and treatment group could be spotted visually in the next histogram:"
   ]
  },
  {
   "cell_type": "code",
   "execution_count": null,
   "metadata": {
    "ExecuteTime": {
     "end_time": "2017-11-22T16:26:25.187974Z",
     "start_time": "2017-11-22T16:26:23.045Z"
    }
   },
   "outputs": [],
   "source": [
    "plot_distribution_variable(treatment_paired, control_paired, 're78', {'title': 'earnings 1978', 'figsize':(16, 8)})"
   ]
  },
  {
   "cell_type": "markdown",
   "metadata": {},
   "source": [
    "We want to verify, though, if the propensity score matching did the job intended, i.e. for each feature in the dataset, its distribution in the treated group is similar to the distribution in the control group. For this, we will plot the distribution for all the features in both groups, below:"
   ]
  },
  {
   "cell_type": "code",
   "execution_count": null,
   "metadata": {
    "ExecuteTime": {
     "end_time": "2017-11-22T16:26:25.188876Z",
     "start_time": "2017-11-22T16:26:23.058Z"
    }
   },
   "outputs": [],
   "source": [
    "plot_distribution_variable(treatment_paired, control_paired, 'age', {'title' : 'age', 'figsize':(16,8)})"
   ]
  },
  {
   "cell_type": "markdown",
   "metadata": {},
   "source": [
    "The *age* variable seems to have a different distribution in treatment and control groups."
   ]
  },
  {
   "cell_type": "code",
   "execution_count": null,
   "metadata": {
    "ExecuteTime": {
     "end_time": "2017-11-22T16:26:25.189855Z",
     "start_time": "2017-11-22T16:26:23.073Z"
    }
   },
   "outputs": [],
   "source": [
    "plot_distribution_variable(treatment_paired, control_paired, 'educ', {'title' : 'education', 'figsize':(16,8)})"
   ]
  },
  {
   "cell_type": "markdown",
   "metadata": {},
   "source": [
    "The *educ* variable seems to have similar distribution in treatment and control groups."
   ]
  },
  {
   "cell_type": "code",
   "execution_count": null,
   "metadata": {
    "ExecuteTime": {
     "end_time": "2017-11-22T16:26:25.190829Z",
     "start_time": "2017-11-22T16:26:23.086Z"
    }
   },
   "outputs": [],
   "source": [
    "plot_distribution_variable(treatment_paired, control_paired, 'black', {'title' : 'black', 'figsize':(16,8)})"
   ]
  },
  {
   "cell_type": "markdown",
   "metadata": {},
   "source": [
    "The *black* variable seems to have different distributions in treatment and control groups."
   ]
  },
  {
   "cell_type": "code",
   "execution_count": null,
   "metadata": {
    "ExecuteTime": {
     "end_time": "2017-11-22T16:26:25.191799Z",
     "start_time": "2017-11-22T16:26:23.119Z"
    }
   },
   "outputs": [],
   "source": [
    "plot_distribution_variable(treatment_paired, control_paired, 'hispan', {'title' : 'hispanic', 'figsize':(16,8)})"
   ]
  },
  {
   "cell_type": "markdown",
   "metadata": {},
   "source": [
    "The *hispan* feature seems to have somewhat similar distributions in treatment and control groups."
   ]
  },
  {
   "cell_type": "code",
   "execution_count": null,
   "metadata": {
    "ExecuteTime": {
     "end_time": "2017-11-22T16:26:25.192750Z",
     "start_time": "2017-11-22T16:26:23.133Z"
    }
   },
   "outputs": [],
   "source": [
    "plot_distribution_variable(treatment_paired, control_paired, 'married', {'title' : 'married', 'figsize':(16,8)})"
   ]
  },
  {
   "cell_type": "markdown",
   "metadata": {},
   "source": [
    "Also, the *married* variable seems to have similar distribution in both groups."
   ]
  },
  {
   "cell_type": "code",
   "execution_count": null,
   "metadata": {
    "ExecuteTime": {
     "end_time": "2017-11-22T16:26:25.193700Z",
     "start_time": "2017-11-22T16:26:23.146Z"
    }
   },
   "outputs": [],
   "source": [
    "plot_distribution_variable(treatment_paired, control_paired, 'nodegree', {'title' : 'no degree', 'figsize':(16,8)})"
   ]
  },
  {
   "cell_type": "markdown",
   "metadata": {},
   "source": [
    "Furthermore, *nodegree* feature distribution over the two groups seems to be similar."
   ]
  },
  {
   "cell_type": "code",
   "execution_count": null,
   "metadata": {
    "ExecuteTime": {
     "end_time": "2017-11-22T16:26:25.194638Z",
     "start_time": "2017-11-22T16:26:23.171Z"
    }
   },
   "outputs": [],
   "source": [
    "plot_distribution_variable(treatment_paired, control_paired, 're74', {'title' : 'earnings 1974', 'figsize':(16,8)})"
   ]
  },
  {
   "cell_type": "code",
   "execution_count": null,
   "metadata": {
    "ExecuteTime": {
     "end_time": "2017-11-22T16:26:25.195607Z",
     "start_time": "2017-11-22T16:26:23.183Z"
    }
   },
   "outputs": [],
   "source": [
    "plot_distribution_variable(treatment_paired, control_paired, 're75', {'title' : 'earnings 1975', 'figsize':(16,8)})"
   ]
  },
  {
   "cell_type": "markdown",
   "metadata": {},
   "source": [
    "Also, earnings in both years 1974 and 1975 have a somewhat similar distribution in both treatment and control groups."
   ]
  },
  {
   "cell_type": "markdown",
   "metadata": {},
   "source": [
    "Therefore, we observe that only the *black* and *age* features have different distributions after the matching in the two groups, and the other ones have similar distributions, which means that the two groups considered now are more reliable than the initial ones, from this point of view."
   ]
  },
  {
   "cell_type": "markdown",
   "metadata": {},
   "source": [
    "#### Balancing the groups further \n",
    "\n",
    "<div class=\"alert alert-block alert-info\">\n",
    "Based on your comparison of feature-value distributions from part 4, are you fully satisfied with your matching? Would you say your dataset is sufficiently balanced? If not, in what ways could the \"balanced\" dataset you have obtained still not allow you to draw valid conclusions?\n",
    "\n",
    "Improve your matching by explicitly making sure that you match only subjects that have the same value for the problematic feature. Argue with numbers and plots that the two groups (treated and control) are now better balanced than after part 4.\n",
    "</div>"
   ]
  },
  {
   "cell_type": "markdown",
   "metadata": {},
   "source": [
    "We just mentioned that the *black* and *age* features have very different distributions in the two groups. We may want to manually solve this problem, tuning the matching function. We can see that the age has many possible values, so matching only persons with very similar ages is hard to implement. In the same time, the *black* variable has only two possible values: 0 and 1, which means that matching only people with the same feature on the *black* variable might give an extra boost to the results. Indeed, as we may now, black people represent by itself a sensitive group when we talk about employment, therefore this particular feature should have a lot of impact in interpreting the results. \n",
    "\n",
    "Therefore, we might onlyh change the function that constructs the bipartite graph on which is therefore computed the maximal weighted match. In order to only match instances with the same value on feature *black*, we will only add an edge between the wanted instances, and then all the process will follow as before. The new function for constructing the graph is written below:"
   ]
  },
  {
   "cell_type": "code",
   "execution_count": null,
   "metadata": {
    "ExecuteTime": {
     "end_time": "2017-11-22T16:26:25.196515Z",
     "start_time": "2017-11-22T16:26:23.202Z"
    },
    "collapsed": true
   },
   "outputs": [],
   "source": [
    "def construct_bipartite_graph_same_race(treatment_group, control_group):\n",
    "    '''\n",
    "    Function that computes the bipartite graph, given the two groups: treatment and control, but not adding edges between\n",
    "    instances with different value on feature black.\n",
    "    \n",
    "    :param treatment_group: the instances in the treatment group, as a subset of the dataset DataFrame\n",
    "    :param control_group: the instances in the control group, as a subset of the dataset DataFrame\n",
    "    \n",
    "    :return: the bipartite undirected graph in which only instances from different groups are connected, and the weight of each\n",
    "    edge is equal to the similarity between the two instances represented by the two nodes.     \n",
    "    '''\n",
    "\n",
    "    bipartite_graph = Graph() # constructing the undirected graph\n",
    "\n",
    "    # Then, we need to create the edge between ALL the nodes from different groups:\n",
    "    for id_treatment, row_treatment in treatment_group.iterrows():\n",
    "        for id_control, row_control in control_group.iterrows():\n",
    "            if row_treatment['black'] != row_control['black']:\n",
    "                continue # don't match instances with different races\n",
    "                \n",
    "            similarity = compute_similarity_between_nodes(row_treatment, row_control)\n",
    "            # similarity between the two instances\n",
    "            bipartite_graph.add_weighted_edges_from([(id_treatment, id_control, similarity)]) \n",
    "            # add the new edge. If nodes don't exist, then method also creates nodes and adds them to the graph.\n",
    "            # the similarity is added as the attribute 'weight' such that we can apply the matching algorithm afterwards\n",
    "            \n",
    "    return bipartite_graph"
   ]
  },
  {
   "cell_type": "markdown",
   "metadata": {},
   "source": [
    "Next, we just plug it in our maximum similarity matching function and compute the result:"
   ]
  },
  {
   "cell_type": "code",
   "execution_count": null,
   "metadata": {
    "ExecuteTime": {
     "end_time": "2017-11-22T16:26:25.197506Z",
     "start_time": "2017-11-22T16:26:23.216Z"
    },
    "collapsed": true
   },
   "outputs": [],
   "source": [
    "similarity_matching_same_race = compute_maximum_similarity_matching(treatment, control, construct_bipartite_graph_same_race)"
   ]
  },
  {
   "cell_type": "markdown",
   "metadata": {},
   "source": [
    "We want to check that the set of matched instances is not to small for conducting a relevant experiment:"
   ]
  },
  {
   "cell_type": "code",
   "execution_count": null,
   "metadata": {
    "ExecuteTime": {
     "end_time": "2017-11-22T16:26:25.198477Z",
     "start_time": "2017-11-22T16:26:23.233Z"
    }
   },
   "outputs": [],
   "source": [
    "len(similarity_matching_same_race)"
   ]
  },
  {
   "cell_type": "markdown",
   "metadata": {},
   "source": [
    "As we can see, we have 116 matched instances in the dataset. The overall reduction is around 30%, but we can say we still have a dataset with a decent size. Now, we need to reconstruct the newly paired treatment and control datasets:"
   ]
  },
  {
   "cell_type": "code",
   "execution_count": null,
   "metadata": {
    "ExecuteTime": {
     "end_time": "2017-11-22T16:26:25.199375Z",
     "start_time": "2017-11-22T16:26:23.247Z"
    },
    "collapsed": true
   },
   "outputs": [],
   "source": [
    "treatment_paired_same_race_ids = [pair[0] for pair in similarity_matching_same_race] # the IDs of the treatment paired instances \n",
    "control_paired_same_race_ids = [pair[1] for pair in similarity_matching_same_race] # the IDs of the control paired instances\n",
    "\n",
    "treatment_paired_same_race = dataset[dataset.index.isin(treatment_paired_same_race_ids)] # the dataset of the treatment paired instances\n",
    "control_paired_same_race = dataset[dataset.index.isin(control_paired_same_race_ids)] # the dataset of the control paired instances"
   ]
  },
  {
   "cell_type": "markdown",
   "metadata": {},
   "source": [
    "Finally, we need to check whether or not the distribution on the variable *black* changed in good. In the same time, we want to be sure that the changes didn't make a big (and bad) impact on the other variables, so we will perform all the steps from the previous task again, for checking the distributions:"
   ]
  },
  {
   "cell_type": "code",
   "execution_count": null,
   "metadata": {
    "ExecuteTime": {
     "end_time": "2017-11-22T16:26:25.200337Z",
     "start_time": "2017-11-22T16:26:23.260Z"
    }
   },
   "outputs": [],
   "source": [
    "plot_distribution_variable(treatment_paired_same_race, control_paired_same_race, 'age', {'title' : 'age', 'figsize':(16,8)})"
   ]
  },
  {
   "cell_type": "markdown",
   "metadata": {},
   "source": [
    "The age distributions are again pretty different in the two groups, but at least the mean of the ages is very similar, around 25 years old, as it can be seen below:"
   ]
  },
  {
   "cell_type": "code",
   "execution_count": null,
   "metadata": {
    "ExecuteTime": {
     "end_time": "2017-11-22T16:26:25.201280Z",
     "start_time": "2017-11-22T16:26:23.274Z"
    }
   },
   "outputs": [],
   "source": [
    "treatment_paired_same_race['age'].mean(), control_paired_same_race['age'].mean()"
   ]
  },
  {
   "cell_type": "markdown",
   "metadata": {},
   "source": [
    "Next, we look into the *educ* variable, to check if the distribution changed significantly:"
   ]
  },
  {
   "cell_type": "code",
   "execution_count": null,
   "metadata": {
    "ExecuteTime": {
     "end_time": "2017-11-22T16:26:25.202230Z",
     "start_time": "2017-11-22T16:26:23.292Z"
    }
   },
   "outputs": [],
   "source": [
    "plot_distribution_variable(treatment_paired_same_race, control_paired_same_race, 'educ', {'title' : 'education', 'figsize':(16,8)})"
   ]
  },
  {
   "cell_type": "markdown",
   "metadata": {},
   "source": [
    "The *educ* variable seems to keep the similar distribution in treatment and control groups."
   ]
  },
  {
   "cell_type": "code",
   "execution_count": null,
   "metadata": {
    "ExecuteTime": {
     "end_time": "2017-11-22T16:26:25.203188Z",
     "start_time": "2017-11-22T16:26:23.308Z"
    }
   },
   "outputs": [],
   "source": [
    "plot_distribution_variable(treatment_paired_same_race, control_paired_same_race, 'black', {'title' : 'black', 'figsize':(16,8)})"
   ]
  },
  {
   "cell_type": "markdown",
   "metadata": {},
   "source": [
    "As expected, and validating the correct construction of the algorithm, the *black* variable has **exactly** the same distribution over the two groups, which can be seen in the previous histogram by the fact that we can distinguish one single color, which means that everywhere blue and green overlaps. \n",
    "\n",
    "---\n",
    "\n",
    "Next, we check if the sitribution over the hispanic population changed:"
   ]
  },
  {
   "cell_type": "code",
   "execution_count": null,
   "metadata": {
    "ExecuteTime": {
     "end_time": "2017-11-22T16:26:25.204137Z",
     "start_time": "2017-11-22T16:26:23.323Z"
    }
   },
   "outputs": [],
   "source": [
    "plot_distribution_variable(treatment_paired_same_race, control_paired_same_race, 'hispan', {'title' : 'hispanic', 'figsize':(16,8)})"
   ]
  },
  {
   "cell_type": "markdown",
   "metadata": {},
   "source": [
    "The *hispan* feature seems to keep very similar distributions in treatment and control groups. \n",
    "\n",
    "--- \n",
    "\n",
    "Next, we look into the distribution of *married* feature over the two groups:"
   ]
  },
  {
   "cell_type": "code",
   "execution_count": null,
   "metadata": {
    "ExecuteTime": {
     "end_time": "2017-11-22T16:26:25.205119Z",
     "start_time": "2017-11-22T16:26:23.337Z"
    }
   },
   "outputs": [],
   "source": [
    "plot_distribution_variable(treatment_paired_same_race, control_paired_same_race, 'married', {'title' : 'married', 'figsize':(16,8)})"
   ]
  },
  {
   "cell_type": "markdown",
   "metadata": {},
   "source": [
    "Also, the *married* variable seems to have similar distribution in both groups. \n",
    "\n",
    "---\n",
    "\n",
    "The next variable to analyse is *nodegree*, as performed below:"
   ]
  },
  {
   "cell_type": "code",
   "execution_count": null,
   "metadata": {
    "ExecuteTime": {
     "end_time": "2017-11-22T16:26:25.206085Z",
     "start_time": "2017-11-22T16:26:23.353Z"
    }
   },
   "outputs": [],
   "source": [
    "plot_distribution_variable(treatment_paired_same_race, control_paired_same_race, 'nodegree', {'title' : 'no degree', 'figsize':(16,8)})"
   ]
  },
  {
   "cell_type": "markdown",
   "metadata": {},
   "source": [
    "Furthermore, *nodegree* feature distribution over the two groups seems to be similar, and we can say even bettwer than it was before the improvement matching. \n",
    "\n",
    "---\n",
    "\n",
    "From now on, we only have to look into the distribution of earnings before the treatment in the two populations, and it is realized in the next two histograms:"
   ]
  },
  {
   "cell_type": "code",
   "execution_count": null,
   "metadata": {
    "ExecuteTime": {
     "end_time": "2017-11-22T16:26:25.207038Z",
     "start_time": "2017-11-22T16:26:23.369Z"
    }
   },
   "outputs": [],
   "source": [
    "plot_distribution_variable(treatment_paired_same_race, control_paired_same_race, 're74', {'title' : 'earnings 1974', 'figsize':(16,8)})"
   ]
  },
  {
   "cell_type": "markdown",
   "metadata": {},
   "source": [
    "The histogram for earnings in 1974 is barely changed from the one computed over the previous groups. Would it be the same case for the earnings in 1975?"
   ]
  },
  {
   "cell_type": "code",
   "execution_count": null,
   "metadata": {
    "ExecuteTime": {
     "end_time": "2017-11-22T16:26:25.207992Z",
     "start_time": "2017-11-22T16:26:23.386Z"
    }
   },
   "outputs": [],
   "source": [
    "plot_distribution_variable(treatment_paired_same_race, control_paired_same_race, 're75', {'title' : 'earnings 1975', 'figsize':(16,8)})"
   ]
  },
  {
   "cell_type": "markdown",
   "metadata": {},
   "source": [
    "We can say that the difference in histogram is also not noticeable in the latter variable case."
   ]
  },
  {
   "cell_type": "markdown",
   "metadata": {},
   "source": [
    "Therefore, we observe that the new groups improved the *black* feature distribution over the treatment and control groups, while keeping the distributions similar for the other features. \n",
    "\n",
    "A future improvement would be over the *age* feature, and also arguably on the *re74* and *re75* features. For those features it is consistently harder to balance the distributions, as they take many values and we cannot use the *exact matching* balancing method we used with the *black* variable."
   ]
  },
  {
   "cell_type": "markdown",
   "metadata": {},
   "source": [
    "#### 6. A less naive approach\n",
    "\n",
    "<div class=\"alert alert-block alert-info\">\n",
    "Compare the outcomes (re78) between treated and control subjects, as you've done in part 1, but now only for the matched dataset you've obtained from part 5. What do you conclude about the effectiveness of the job training program?\n",
    "</div>"
   ]
  },
  {
   "cell_type": "markdown",
   "metadata": {},
   "source": [
    "We can first look at a straightforward statistic, namely the mean, which will tell us if the earning after applying the treatment increased or not in average, over the balanced groups:"
   ]
  },
  {
   "cell_type": "code",
   "execution_count": null,
   "metadata": {
    "ExecuteTime": {
     "end_time": "2017-11-22T16:26:25.208932Z",
     "start_time": "2017-11-22T16:26:23.411Z"
    }
   },
   "outputs": [],
   "source": [
    "treatment_paired_same_race.re78.mean(), control_paired_same_race.re78.mean()"
   ]
  },
  {
   "cell_type": "markdown",
   "metadata": {},
   "source": [
    "From the means, we can see that the average income increased with more than 20% on the treatment group, revealing the fact that the training program was in fact a success, despite the results taken from a first look. For a more in-depth comparison, we can plot the histograms of the earnings of the two groups below:"
   ]
  },
  {
   "cell_type": "code",
   "execution_count": null,
   "metadata": {
    "ExecuteTime": {
     "end_time": "2017-11-22T16:26:25.209883Z",
     "start_time": "2017-11-22T16:26:23.427Z"
    }
   },
   "outputs": [],
   "source": [
    "plot_distribution_variable(treatment_paired_same_race, control_paired_same_race, 're78', {'title' : 'earnings 1978', 'figsize':(16, 8)})"
   ]
  },
  {
   "cell_type": "markdown",
   "metadata": {},
   "source": [
    "From the histogram, we can see that the number of very low incomes decreased in the treatment group, while the number of incomes around \\$5000 increased, and also the ones between \\$10,000 and \\$15,000. In addition, very large salaries appeared, with value almost twice as big as the biggest value in the control group. It would be interesting to look in fact at multiple statistics of the groups, not only the mean, which might be drastically influenced by the outliers and also by the resemblance of the blue histogram with the histogram of a power law, on which the mean or standard deviation are not very useful statistics:"
   ]
  },
  {
   "cell_type": "code",
   "execution_count": null,
   "metadata": {
    "ExecuteTime": {
     "end_time": "2017-11-22T16:26:25.210840Z",
     "start_time": "2017-11-22T16:26:23.442Z"
    }
   },
   "outputs": [],
   "source": [
    "fig, axes = plt.subplots(1, 2, figsize=(16, 5), sharey=True);\n",
    "\n",
    "treatment_paired_same_race.re78.plot.box(ax=axes[0], title='Income 1978 for treatment group')\n",
    "control_paired_same_race.re78.plot.box(ax=axes[1], title='Income 1978 for control group')"
   ]
  },
  {
   "cell_type": "markdown",
   "metadata": {},
   "source": [
    "#### 3. A propensity score model\n",
    "\n",
    "Use logistic regression to estimate propensity scores for all points in the dataset.\n",
    "You may use `sklearn` to fit the logistic regression model and apply it to each data point to obtain propensity scores:\n",
    "\n",
    "```python\n",
    "from sklearn import linear_model\n",
    "logistic = linear_model.LogisticRegression()\n",
    "```\n",
    "<div class=\"alert alert-block alert-info\">\n",
    "Recall that the propensity score of a data point represents its probability of receiving the treatment, based on its pre-treatment features (in this case, age, education, pre-treatment income, etc.).\n",
    "To brush up on propensity scores, you may read chapter 3.3 of the above-cited book by Rosenbaum or [this article](https://drive.google.com/file/d/0B4jctQY-uqhzTlpBaTBJRTJFVFE/view).\n",
    "\n",
    "Note: you do not need a train/test split here. Train and apply the model on the entire dataset. If you're wondering why this is the right thing to do in this situation, recall that the propensity score model is not used in order to make predictions about unseen data. Its sole purpose is to balance the dataset across treatment groups.\n",
    "(See p. 74 of Rosenbaum's book for an explanation why slight overfitting is even good for propensity scores.\n",
    "If you want even more information, read [this article](https://drive.google.com/file/d/0B4jctQY-uqhzTlpBaTBJRTJFVFE/view).)\n",
    "</div>"
   ]
  },
  {
   "cell_type": "code",
   "execution_count": null,
   "metadata": {
    "ExecuteTime": {
     "end_time": "2017-11-22T16:26:25.211798Z",
     "start_time": "2017-11-22T16:26:23.458Z"
    },
    "collapsed": true
   },
   "outputs": [],
   "source": [
    "from sklearn import linear_model, metrics\n",
    "logistic_classifier = linear_model.LogisticRegression(penalty='l1')"
   ]
  },
  {
   "cell_type": "markdown",
   "metadata": {},
   "source": [
    "As presented in the amazing [article](https://www.ncbi.nlm.nih.gov/pmc/articles/PMC3144483/) of Peter Austin and also in the course 5 - [Observational Studies](https://docs.google.com/presentation/d/1ndR2nCaFVtbryfbwSZUrFBIowy5_Gj8ETcrdz4euCXE/edit#slide=id.g25d09776e5_0_114), we need to compute propensity scores when we are dealing with observational studies. This is because the data available is usually misleading if it is not processed in this sense, as it might be easily observed in this dataset's case, where we have features for which the distribution in the treated and the control group are *very* different. Therefore, we cannot say for sure if the impact on the earnings is due to the treatment or to the difference in distribution of the features. \n",
    "\n",
    "The technique in this case would be to calculate the propensity scores. As stated by Austin, the instances with similar propensity scores have the same distribution over the input features. After computing the propesity scores, we must match instances with similar propensity scores and then reconstruct the dataset only with the matched instances. In this way, the distribution for each feature is very similar under the treatment and control group, so it can be considered that the seen changes in the result are due to the treatment. "
   ]
  },
  {
   "cell_type": "code",
   "execution_count": null,
   "metadata": {
    "ExecuteTime": {
     "end_time": "2017-11-22T16:26:25.212764Z",
     "start_time": "2017-11-22T16:26:23.473Z"
    },
    "collapsed": true
   },
   "outputs": [],
   "source": [
    "feature_cols = ['age', 'educ', 'black', 'hispan', 'married', 'nodegree', 're74', 're75'] \n",
    "# notice that 're78' is not included, because it is collected AFTER the treatment, therefore cannot influence the decision of \n",
    "# being treated or not.\n",
    "\n",
    "X_train = dataset[feature_cols]\n",
    "y_train = dataset.treat\n",
    "\n",
    "logistic_classifier.fit(X_train, y_train)\n",
    "propensity_scores = pd.Series(logistic_classifier.predict_proba(X_train)[:,1], name='score', index=dataset.index)\n",
    "# propensity score for each datapoint, represented by the probability of being treated based on all pre-treatment features"
   ]
  },
  {
   "cell_type": "code",
   "execution_count": null,
   "metadata": {
    "ExecuteTime": {
     "end_time": "2017-11-22T16:26:25.213701Z",
     "start_time": "2017-11-22T16:26:23.487Z"
    }
   },
   "outputs": [],
   "source": [
    "propensity_scores.head()"
   ]
  },
  {
   "cell_type": "markdown",
   "metadata": {},
   "source": [
    "#### 4. Balancing the dataset via matching\n",
    "\n",
    "<div class=\"alert alert-block alert-info\">\n",
    "Use the propensity scores to match each data point from the treated group with exactly one data point from the control group, while ensuring that each data point from the control group is matched with at most one data point from the treated group. (Hint: you may explore the <i>networkx</i> package in Python for predefined matching functions.)\n",
    "\n",
    "Your matching should maximize the similarity between matched subjects, as captured by their propensity scores. In other words, the sum (over all matched pairs) of absolute propensity-score differences between the two matched subjects should be minimized.\n",
    "\n",
    "After matching, you have as many treated as you have control subjects. Compare the outcomes (re78) between the two groups (treated and control).\n",
    "\n",
    "Also, compare again the feature-value distributions between the two groups, as you've done in part 2 above, but now only for the matched subjects. What do you observe? Are you closer to being able to draw valid conclusions now than you were before?\n",
    "</div>"
   ]
  },
  {
   "cell_type": "markdown",
   "metadata": {},
   "source": [
    "In this exercise, we want to construct a new dataset which, for each feature, has similar distributions on both control and treatment groups. This being the current goal, we can use any of the methods presented by *Peter Austin*: \n",
    "- propensity score matching\n",
    "- stratification on the propensity score\n",
    "- inverse probability of treatment weighting using the propensity score\n",
    "- covariate adjustment using the propensity score.\n",
    "\n",
    "First, we want to add the propensity score as a new feature for each instance in the dataset, and then split the dataset into two subsets that form a partition: the *control* dataset and the *treatment* dataset:"
   ]
  },
  {
   "cell_type": "code",
   "execution_count": null,
   "metadata": {
    "ExecuteTime": {
     "end_time": "2017-11-22T16:26:25.214618Z",
     "start_time": "2017-11-22T16:26:23.507Z"
    },
    "collapsed": true
   },
   "outputs": [],
   "source": [
    "dataset['propensity_score'] = propensity_scores\n",
    "\n",
    "treatment = dataset[dataset.treat == 1]\n",
    "control = dataset[dataset.treat == 0]"
   ]
  },
  {
   "cell_type": "markdown",
   "metadata": {},
   "source": [
    "We are using the propensity score matching method, and will choose not for a greedy algorithm, but for a minimum bipartite matching. For this, we need to construct a graph, where each node is represented by a different instance in the dataset. Furthermore, we will construct a bipartite graph, where the two partitions are represented by the nodes in the *control* group and the *treatment* group. This is realized by linking any two nodes that correspond to instances from different groups, and the edge weight will be equal to the absolute value of the difference of the propensity score between the two nodes, as presented in [Course 5](https://docs.google.com/presentation/d/1ndR2nCaFVtbryfbwSZUrFBIowy5_Gj8ETcrdz4euCXE/edit#slide=id.g25d09776e5_0_114).\n",
    "\n",
    "First, we need to define a similarity function between two instances. This will be represented as the inverse of the absolute value of the difference of propensity scores of the two instances, $sim = 1 - \\vert propensity(u) - propensity(v)|$, where $u, v$ define the two instances. The first idea would be to consider $sim =  |propensity(u) - propensity(v)|$, but then we will have $sim \\leq 0,$ for any two instances. We can easily see that, because the propensity score is in fact defined by a probability, then it has values between 0 and 1, therefore the value $ |propensity(u) - propensity(v)| \\in [0, 1]$. Therefore, we have  $1 - \\vert propensity(u) - propensity(v)| \\in [0,1]$, and the similarity function increases as the two propensity scores get closer to each other. The similarity function is implemented below:"
   ]
  },
  {
   "cell_type": "code",
   "execution_count": null,
   "metadata": {
    "ExecuteTime": {
     "end_time": "2017-11-22T16:26:25.215606Z",
     "start_time": "2017-11-22T16:26:23.523Z"
    },
    "collapsed": true
   },
   "outputs": [],
   "source": [
    "def compute_similarity_between_nodes(row_1, row_2):\n",
    "    '''\n",
    "    Function that computes the similarity between two instances based on the inverse (in the additive group (Z, +)) of the \n",
    "    absolute value of the difference of propensity scores of the two instances. \n",
    "    \n",
    "    :param row_1: the information of the first instance, which is encoded as a row of the dataset DataFrame\n",
    "    :param row_1: the information of the first instance, which is encoded as a row of the dataset DataFrame\n",
    "    \n",
    "    :return: the similarity between the two instances, expressed as a number between 0 and 1. Note: the nodes will have a bigger \n",
    "    similarity as they have a closer propensity score.\n",
    "    '''\n",
    "    \n",
    "    return 1-abs(row_1['propensity_score'] - row_2['propensity_score'])"
   ]
  },
  {
   "cell_type": "markdown",
   "metadata": {},
   "source": [
    "For constructing the graph and realizing the matching, we will use the **networkx** package, as below:"
   ]
  },
  {
   "cell_type": "code",
   "execution_count": null,
   "metadata": {
    "ExecuteTime": {
     "end_time": "2017-11-22T16:26:25.216544Z",
     "start_time": "2017-11-22T16:26:23.540Z"
    },
    "collapsed": true
   },
   "outputs": [],
   "source": [
    "def construct_bipartite_graph(treatment_group, control_group):\n",
    "    '''\n",
    "    Function that computes the bipartite graph, given the two groups: treatment and control.\n",
    "    \n",
    "    :param treatment_group: the instances in the treatment group, as a subset of the dataset DataFrame\n",
    "    :param control_group: the instances in the control group, as a subset of the dataset DataFrame\n",
    "    \n",
    "    :return: the bipartite undirected graph in which only instances from different groups are connected, and the weight of each\n",
    "    edge is equal to the similarity between the two instances represented by the two nodes.     \n",
    "    '''\n",
    "\n",
    "    bipartite_graph = Graph() # constructing the undirected graph\n",
    "\n",
    "    # Then, we need to create the edge between ALL the nodes from different groups:\n",
    "    for id_treatment, row_treatment in treatment_group.iterrows():\n",
    "        for id_control, row_control in control_group.iterrows():\n",
    "            \n",
    "            similarity = compute_similarity_between_nodes(row_treatment, row_control)\n",
    "            # similarity between the two instances\n",
    "            bipartite_graph.add_weighted_edges_from([(id_treatment, id_control, similarity)]) \n",
    "            # add the new edge. If nodes don't exist, then method also creates nodes and adds them to the graph.\n",
    "            # the similarity is added as the attribute 'weight' such that we can apply the matching algorithm afterwards\n",
    "            \n",
    "    return bipartite_graph"
   ]
  },
  {
   "cell_type": "code",
   "execution_count": null,
   "metadata": {
    "ExecuteTime": {
     "end_time": "2017-11-22T16:26:25.217521Z",
     "start_time": "2017-11-22T16:26:23.555Z"
    },
    "collapsed": true
   },
   "outputs": [],
   "source": [
    "def compute_maximum_similarity_matching(treatment_group, control_group, compute_graph_function, threshold=None):\n",
    "    '''\n",
    "    Function that computes the propensity score matching on the control group and the treatment group\n",
    "    \n",
    "    :param treatment_group: the instances in the treatment group, as a subset of the dataset DataFrame\n",
    "    :param control_group: the instances in the control group, as a subset of the dataset DataFrame\n",
    "    :param compute_graph_function: the function that computes the bipartite graph needed for matching\n",
    "    :param threshold: parameter which specifies the threshold for similarity. If similarity is below threshold, then don't \n",
    "    pair the instances\n",
    "    \n",
    "    :return: the propensity score matching, as a list of pairs [(treatment_instance, control_instance)]\n",
    "    '''\n",
    "    bipartite_graph = compute_graph_function(treatment_group, control_group)\n",
    "    match_dictionary = max_weight_matching(bipartite_graph)\n",
    "    # the dictionary holds redundant information, i.e. if it holds the pair (u, v), then holds also the pair (v, u)\n",
    "    \n",
    "    treatment_ids = set(treatment_group.index)\n",
    "    control_ids = set(control_group.index)\n",
    "    \n",
    "    result = [] # the result list of matched instances\n",
    "    \n",
    "    for u, v in match_dictionary.items():\n",
    "        if u in treatment_ids:\n",
    "            similarity = 1 - abs(treatment_group.loc[u, 'propensity_score'] - control_group.loc[v, 'propensity_score'])\n",
    "            if threshold is None or similarity >= threshold:\n",
    "                result.append((u, v))\n",
    "    \n",
    "    return result"
   ]
  },
  {
   "cell_type": "markdown",
   "metadata": {},
   "source": [
    "After writing the function necessary for computing the similarity matching, we need to apply it to our dataset:"
   ]
  },
  {
   "cell_type": "code",
   "execution_count": null,
   "metadata": {
    "ExecuteTime": {
     "end_time": "2017-11-22T16:26:25.218498Z",
     "start_time": "2017-11-22T16:26:23.572Z"
    },
    "collapsed": true
   },
   "outputs": [],
   "source": [
    "similarity_matching = compute_maximum_similarity_matching(treatment, control, construct_bipartite_graph)"
   ]
  },
  {
   "cell_type": "markdown",
   "metadata": {},
   "source": [
    "Now, we need to reconstruct the paired treatment and control datasets:"
   ]
  },
  {
   "cell_type": "code",
   "execution_count": null,
   "metadata": {
    "ExecuteTime": {
     "end_time": "2017-11-22T16:26:25.219446Z",
     "start_time": "2017-11-22T16:26:23.589Z"
    },
    "collapsed": true
   },
   "outputs": [],
   "source": [
    "treatment_paired_ids = [pair[0] for pair in similarity_matching] # the IDs of the treatment paired instances \n",
    "control_paired_ids = [pair[1] for pair in similarity_matching] # the IDs of the control paired instances\n",
    "\n",
    "treatment_paired = dataset[dataset.index.isin(treatment_paired_ids)] # the dataset of the treatment paired instances\n",
    "control_paired = dataset[dataset.index.isin(control_paired_ids)] # the dataset of the control paired instances"
   ]
  },
  {
   "cell_type": "markdown",
   "metadata": {},
   "source": [
    "After constructing the new treatment and control groups, we would like to perform the same analysis as for the first and second task. Therefore, we can look first at the mean of the earnings in 1978 (after treatment), in both control and treatment group: "
   ]
  },
  {
   "cell_type": "code",
   "execution_count": null,
   "metadata": {
    "ExecuteTime": {
     "end_time": "2017-11-22T16:26:25.220390Z",
     "start_time": "2017-11-22T16:26:23.606Z"
    }
   },
   "outputs": [],
   "source": [
    "control_paired.re78.mean(), treatment_paired.re78.mean()"
   ]
  },
  {
   "cell_type": "markdown",
   "metadata": {},
   "source": [
    "It can be seen that, with the constructed control and treatment groups, the mean of the earnings of the participants in the treatment group is larger than the mean of earnings of participants in the control grop, with \\$647. Also, the differences in earnings between control and treatment group could be spotted visually in the next histogram:"
   ]
  },
  {
   "cell_type": "code",
   "execution_count": null,
   "metadata": {
    "ExecuteTime": {
     "end_time": "2017-11-22T16:26:25.221359Z",
     "start_time": "2017-11-22T16:26:23.626Z"
    }
   },
   "outputs": [],
   "source": [
    "plot_distribution_variable(treatment_paired, control_paired, 're78', {'title': 'earnings 1978', 'figsize':(16, 8)})"
   ]
  },
  {
   "cell_type": "markdown",
   "metadata": {},
   "source": [
    "We want to verify, though, if the propensity score matching did the job intended, i.e. for each feature in the dataset, its distribution in the treated group is similar to the distribution in the control group. For this, we will plot the distribution for all the features in both groups, below:"
   ]
  },
  {
   "cell_type": "code",
   "execution_count": null,
   "metadata": {
    "ExecuteTime": {
     "end_time": "2017-11-22T16:26:25.222324Z",
     "start_time": "2017-11-22T16:26:23.644Z"
    }
   },
   "outputs": [],
   "source": [
    "plot_distribution_variable(treatment_paired, control_paired, 'age', {'title' : 'age', 'figsize':(16,8)})"
   ]
  },
  {
   "cell_type": "markdown",
   "metadata": {},
   "source": [
    "The *age* variable seems to have a different distribution in treatment and control groups."
   ]
  },
  {
   "cell_type": "code",
   "execution_count": null,
   "metadata": {
    "ExecuteTime": {
     "end_time": "2017-11-22T16:26:25.223280Z",
     "start_time": "2017-11-22T16:26:23.661Z"
    }
   },
   "outputs": [],
   "source": [
    "plot_distribution_variable(treatment_paired, control_paired, 'educ', {'title' : 'education', 'figsize':(16,8)})"
   ]
  },
  {
   "cell_type": "markdown",
   "metadata": {},
   "source": [
    "The *educ* variable seems to have similar distribution in treatment and control groups."
   ]
  },
  {
   "cell_type": "code",
   "execution_count": null,
   "metadata": {
    "ExecuteTime": {
     "end_time": "2017-11-22T16:26:25.224229Z",
     "start_time": "2017-11-22T16:26:23.678Z"
    }
   },
   "outputs": [],
   "source": [
    "plot_distribution_variable(treatment_paired, control_paired, 'black', {'title' : 'black', 'figsize':(16,8)})"
   ]
  },
  {
   "cell_type": "markdown",
   "metadata": {},
   "source": [
    "The *black* variable seems to have different distributions in treatment and control groups."
   ]
  },
  {
   "cell_type": "code",
   "execution_count": null,
   "metadata": {
    "ExecuteTime": {
     "end_time": "2017-11-22T16:26:25.225159Z",
     "start_time": "2017-11-22T16:26:23.696Z"
    }
   },
   "outputs": [],
   "source": [
    "plot_distribution_variable(treatment_paired, control_paired, 'hispan', {'title' : 'hispanic', 'figsize':(16,8)})"
   ]
  },
  {
   "cell_type": "markdown",
   "metadata": {},
   "source": [
    "The *hispan* feature seems to have somewhat similar distributions in treatment and control groups."
   ]
  },
  {
   "cell_type": "code",
   "execution_count": null,
   "metadata": {
    "ExecuteTime": {
     "end_time": "2017-11-22T16:26:25.226114Z",
     "start_time": "2017-11-22T16:26:23.714Z"
    }
   },
   "outputs": [],
   "source": [
    "plot_distribution_variable(treatment_paired, control_paired, 'married', {'title' : 'married', 'figsize':(16,8)})"
   ]
  },
  {
   "cell_type": "markdown",
   "metadata": {},
   "source": [
    "Also, the *married* variable seems to have similar distribution in both groups."
   ]
  },
  {
   "cell_type": "code",
   "execution_count": null,
   "metadata": {
    "ExecuteTime": {
     "end_time": "2017-11-22T16:26:25.227051Z",
     "start_time": "2017-11-22T16:26:23.732Z"
    }
   },
   "outputs": [],
   "source": [
    "plot_distribution_variable(treatment_paired, control_paired, 'nodegree', {'title' : 'no degree', 'figsize':(16,8)})"
   ]
  },
  {
   "cell_type": "markdown",
   "metadata": {},
   "source": [
    "Furthermore, *nodegree* feature distribution over the two groups seems to be similar."
   ]
  },
  {
   "cell_type": "code",
   "execution_count": null,
   "metadata": {
    "ExecuteTime": {
     "end_time": "2017-11-22T16:26:25.228001Z",
     "start_time": "2017-11-22T16:26:23.752Z"
    }
   },
   "outputs": [],
   "source": [
    "plot_distribution_variable(treatment_paired, control_paired, 're74', {'title' : 'earnings 1974', 'figsize':(16,8)})"
   ]
  },
  {
   "cell_type": "code",
   "execution_count": null,
   "metadata": {
    "ExecuteTime": {
     "end_time": "2017-11-22T16:26:25.228955Z",
     "start_time": "2017-11-22T16:26:23.769Z"
    }
   },
   "outputs": [],
   "source": [
    "plot_distribution_variable(treatment_paired, control_paired, 're75', {'title' : 'earnings 1975', 'figsize':(16,8)})"
   ]
  },
  {
   "cell_type": "markdown",
   "metadata": {},
   "source": [
    "Also, earnings in both years 1974 and 1975 have a somewhat similar distribution in both treatment and control groups."
   ]
  },
  {
   "cell_type": "markdown",
   "metadata": {},
   "source": [
    "Therefore, we observe that only the *black* and *age* features have different distributions after the matching in the two groups, and the other ones have similar distributions, which means that the two groups considered now are more reliable than the initial ones, from this point of view."
   ]
  },
  {
   "cell_type": "markdown",
   "metadata": {},
   "source": [
    "#### Balancing the groups further \n",
    "\n",
    "<div class=\"alert alert-block alert-info\">\n",
    "Based on your comparison of feature-value distributions from part 4, are you fully satisfied with your matching? Would you say your dataset is sufficiently balanced? If not, in what ways could the \"balanced\" dataset you have obtained still not allow you to draw valid conclusions?\n",
    "\n",
    "Improve your matching by explicitly making sure that you match only subjects that have the same value for the problematic feature. Argue with numbers and plots that the two groups (treated and control) are now better balanced than after part 4.\n",
    "</div>"
   ]
  },
  {
   "cell_type": "markdown",
   "metadata": {},
   "source": [
    "We just mentioned that the *black* and *age* features have very different distributions in the two groups. We may want to manually solve this problem, tuning the matching function. We can see that the age has many possible values, so matching only persons with very similar ages is hard to implement. In the same time, the *black* variable has only two possible values: 0 and 1, which means that matching only people with the same feature on the *black* variable might give an extra boost to the results. Indeed, as we may now, black people represent by itself a sensitive group when we talk about employment, therefore this particular feature should have a lot of impact in interpreting the results. \n",
    "\n",
    "Therefore, we might onlyh change the function that constructs the bipartite graph on which is therefore computed the maximal weighted match. In order to only match instances with the same value on feature *black*, we will only add an edge between the wanted instances, and then all the process will follow as before. The new function for constructing the graph is written below:"
   ]
  },
  {
   "cell_type": "code",
   "execution_count": null,
   "metadata": {
    "ExecuteTime": {
     "end_time": "2017-11-22T16:26:25.229925Z",
     "start_time": "2017-11-22T16:26:23.792Z"
    },
    "collapsed": true
   },
   "outputs": [],
   "source": [
    "def construct_bipartite_graph_same_race(treatment_group, control_group):\n",
    "    '''\n",
    "    Function that computes the bipartite graph, given the two groups: treatment and control, but not adding edges between\n",
    "    instances with different value on feature black.\n",
    "    \n",
    "    :param treatment_group: the instances in the treatment group, as a subset of the dataset DataFrame\n",
    "    :param control_group: the instances in the control group, as a subset of the dataset DataFrame\n",
    "    \n",
    "    :return: the bipartite undirected graph in which only instances from different groups are connected, and the weight of each\n",
    "    edge is equal to the similarity between the two instances represented by the two nodes.     \n",
    "    '''\n",
    "\n",
    "    bipartite_graph = Graph() # constructing the undirected graph\n",
    "\n",
    "    # Then, we need to create the edge between ALL the nodes from different groups:\n",
    "    for id_treatment, row_treatment in treatment_group.iterrows():\n",
    "        for id_control, row_control in control_group.iterrows():\n",
    "            if row_treatment['black'] != row_control['black']:\n",
    "                continue # don't match instances with different races\n",
    "                \n",
    "            similarity = compute_similarity_between_nodes(row_treatment, row_control)\n",
    "            # similarity between the two instances\n",
    "            bipartite_graph.add_weighted_edges_from([(id_treatment, id_control, similarity)]) \n",
    "            # add the new edge. If nodes don't exist, then method also creates nodes and adds them to the graph.\n",
    "            # the similarity is added as the attribute 'weight' such that we can apply the matching algorithm afterwards\n",
    "            \n",
    "    return bipartite_graph"
   ]
  },
  {
   "cell_type": "markdown",
   "metadata": {},
   "source": [
    "Next, we just plug it in our maximum similarity matching function and compute the result:"
   ]
  },
  {
   "cell_type": "code",
   "execution_count": null,
   "metadata": {
    "ExecuteTime": {
     "end_time": "2017-11-22T16:26:25.230899Z",
     "start_time": "2017-11-22T16:26:23.811Z"
    },
    "collapsed": true
   },
   "outputs": [],
   "source": [
    "similarity_matching_same_race = compute_maximum_similarity_matching(treatment, control, construct_bipartite_graph_same_race)"
   ]
  },
  {
   "cell_type": "markdown",
   "metadata": {},
   "source": [
    "We want to check that the set of matched instances is not to small for conducting a relevant experiment:"
   ]
  },
  {
   "cell_type": "code",
   "execution_count": null,
   "metadata": {
    "ExecuteTime": {
     "end_time": "2017-11-22T16:26:25.231838Z",
     "start_time": "2017-11-22T16:26:23.831Z"
    }
   },
   "outputs": [],
   "source": [
    "len(similarity_matching_same_race)"
   ]
  },
  {
   "cell_type": "markdown",
   "metadata": {},
   "source": [
    "As we can see, we have 116 matched instances in the dataset. The overall reduction is around 30%, but we can say we still have a dataset with a decent size. Now, we need to reconstruct the newly paired treatment and control datasets:"
   ]
  },
  {
   "cell_type": "code",
   "execution_count": null,
   "metadata": {
    "ExecuteTime": {
     "end_time": "2017-11-22T16:26:25.232798Z",
     "start_time": "2017-11-22T16:26:23.851Z"
    },
    "collapsed": true
   },
   "outputs": [],
   "source": [
    "treatment_paired_same_race_ids = [pair[0] for pair in similarity_matching_same_race] # the IDs of the treatment paired instances \n",
    "control_paired_same_race_ids = [pair[1] for pair in similarity_matching_same_race] # the IDs of the control paired instances\n",
    "\n",
    "treatment_paired_same_race = dataset[dataset.index.isin(treatment_paired_same_race_ids)] # the dataset of the treatment paired instances\n",
    "control_paired_same_race = dataset[dataset.index.isin(control_paired_same_race_ids)] # the dataset of the control paired instances"
   ]
  },
  {
   "cell_type": "markdown",
   "metadata": {},
   "source": [
    "Finally, we need to check whether or not the distribution on the variable *black* changed in good. In the same time, we want to be sure that the changes didn't make a big (and bad) impact on the other variables, so we will perform all the steps from the previous task again, for checking the distributions:"
   ]
  },
  {
   "cell_type": "code",
   "execution_count": null,
   "metadata": {
    "ExecuteTime": {
     "end_time": "2017-11-22T16:26:25.233727Z",
     "start_time": "2017-11-22T16:26:23.873Z"
    }
   },
   "outputs": [],
   "source": [
    "plot_distribution_variable(treatment_paired_same_race, control_paired_same_race, 'age', {'title' : 'age', 'figsize':(16,8)})"
   ]
  },
  {
   "cell_type": "markdown",
   "metadata": {},
   "source": [
    "The age distributions are again pretty different in the two groups, but at least the mean of the ages is very similar, around 25 years old, as it can be seen below:"
   ]
  },
  {
   "cell_type": "code",
   "execution_count": null,
   "metadata": {
    "ExecuteTime": {
     "end_time": "2017-11-22T16:26:25.234668Z",
     "start_time": "2017-11-22T16:26:23.894Z"
    }
   },
   "outputs": [],
   "source": [
    "treatment_paired_same_race['age'].mean(), control_paired_same_race['age'].mean()"
   ]
  },
  {
   "cell_type": "markdown",
   "metadata": {},
   "source": [
    "Next, we look into the *educ* variable, to check if the distribution changed significantly:"
   ]
  },
  {
   "cell_type": "code",
   "execution_count": null,
   "metadata": {
    "ExecuteTime": {
     "end_time": "2017-11-22T16:26:25.235617Z",
     "start_time": "2017-11-22T16:26:23.914Z"
    }
   },
   "outputs": [],
   "source": [
    "plot_distribution_variable(treatment_paired_same_race, control_paired_same_race, 'educ', {'title' : 'education', 'figsize':(16,8)})"
   ]
  },
  {
   "cell_type": "markdown",
   "metadata": {},
   "source": [
    "The *educ* variable seems to keep the similar distribution in treatment and control groups."
   ]
  },
  {
   "cell_type": "code",
   "execution_count": null,
   "metadata": {
    "ExecuteTime": {
     "end_time": "2017-11-22T16:26:25.236564Z",
     "start_time": "2017-11-22T16:26:23.933Z"
    }
   },
   "outputs": [],
   "source": [
    "plot_distribution_variable(treatment_paired_same_race, control_paired_same_race, 'black', {'title' : 'black', 'figsize':(16,8)})"
   ]
  },
  {
   "cell_type": "markdown",
   "metadata": {},
   "source": [
    "As expected, and validating the correct construction of the algorithm, the *black* variable has **exactly** the same distribution over the two groups, which can be seen in the previous histogram by the fact that we can distinguish one single color, which means that everywhere blue and green overlaps. \n",
    "\n",
    "---\n",
    "\n",
    "Next, we check if the sitribution over the hispanic population changed:"
   ]
  },
  {
   "cell_type": "code",
   "execution_count": null,
   "metadata": {
    "ExecuteTime": {
     "end_time": "2017-11-22T16:26:25.237507Z",
     "start_time": "2017-11-22T16:26:23.953Z"
    }
   },
   "outputs": [],
   "source": [
    "plot_distribution_variable(treatment_paired_same_race, control_paired_same_race, 'hispan', {'title' : 'hispanic', 'figsize':(16,8)})"
   ]
  },
  {
   "cell_type": "markdown",
   "metadata": {},
   "source": [
    "The *hispan* feature seems to keep very similar distributions in treatment and control groups. \n",
    "\n",
    "--- \n",
    "\n",
    "Next, we look into the distribution of *married* feature over the two groups:"
   ]
  },
  {
   "cell_type": "code",
   "execution_count": null,
   "metadata": {
    "ExecuteTime": {
     "end_time": "2017-11-22T16:26:25.238487Z",
     "start_time": "2017-11-22T16:26:23.991Z"
    }
   },
   "outputs": [],
   "source": [
    "plot_distribution_variable(treatment_paired_same_race, control_paired_same_race, 'married', {'title' : 'married', 'figsize':(16,8)})"
   ]
  },
  {
   "cell_type": "markdown",
   "metadata": {},
   "source": [
    "Also, the *married* variable seems to have similar distribution in both groups. \n",
    "\n",
    "---\n",
    "\n",
    "The next variable to analyse is *nodegree*, as performed below:"
   ]
  },
  {
   "cell_type": "code",
   "execution_count": null,
   "metadata": {
    "ExecuteTime": {
     "end_time": "2017-11-22T16:26:25.239394Z",
     "start_time": "2017-11-22T16:26:24.011Z"
    }
   },
   "outputs": [],
   "source": [
    "plot_distribution_variable(treatment_paired_same_race, control_paired_same_race, 'nodegree', {'title' : 'no degree', 'figsize':(16,8)})"
   ]
  },
  {
   "cell_type": "markdown",
   "metadata": {},
   "source": [
    "Furthermore, *nodegree* feature distribution over the two groups seems to be similar, and we can say even bettwer than it was before the improvement matching. \n",
    "\n",
    "---\n",
    "\n",
    "From now on, we only have to look into the distribution of earnings before the treatment in the two populations, and it is realized in the next two histograms:"
   ]
  },
  {
   "cell_type": "code",
   "execution_count": null,
   "metadata": {
    "ExecuteTime": {
     "end_time": "2017-11-22T16:26:25.240332Z",
     "start_time": "2017-11-22T16:26:24.031Z"
    }
   },
   "outputs": [],
   "source": [
    "plot_distribution_variable(treatment_paired_same_race, control_paired_same_race, 're74', {'title' : 'earnings 1974', 'figsize':(16,8)})"
   ]
  },
  {
   "cell_type": "markdown",
   "metadata": {},
   "source": [
    "The histogram for earnings in 1974 is barely changed from the one computed over the previous groups. Would it be the same case for the earnings in 1975?"
   ]
  },
  {
   "cell_type": "code",
   "execution_count": null,
   "metadata": {
    "ExecuteTime": {
     "end_time": "2017-11-22T16:26:25.241368Z",
     "start_time": "2017-11-22T16:26:24.052Z"
    }
   },
   "outputs": [],
   "source": [
    "plot_distribution_variable(treatment_paired_same_race, control_paired_same_race, 're75', {'title' : 'earnings 1975', 'figsize':(16,8)})"
   ]
  },
  {
   "cell_type": "markdown",
   "metadata": {},
   "source": [
    "We can say that the difference in histogram is also not noticeable in the latter variable case."
   ]
  },
  {
   "cell_type": "markdown",
   "metadata": {},
   "source": [
    "Therefore, we observe that the new groups improved the *black* feature distribution over the treatment and control groups, while keeping the distributions similar for the other features. \n",
    "\n",
    "A future improvement would be over the *age* feature, and also arguably on the *re74* and *re75* features. For those features it is consistently harder to balance the distributions, as they take many values and we cannot use the *exact matching* balancing method we used with the *black* variable."
   ]
  },
  {
   "cell_type": "markdown",
   "metadata": {},
   "source": [
    "#### 6. A less naive approach\n",
    "\n",
    "<div class=\"alert alert-block alert-info\">\n",
    "Compare the outcomes (re78) between treated and control subjects, as you've done in part 1, but now only for the matched dataset you've obtained from part 5. What do you conclude about the effectiveness of the job training program?\n",
    "</div>"
   ]
  },
  {
   "cell_type": "markdown",
   "metadata": {},
   "source": [
    "We can first look at a straightforward statistic, namely the mean, which will tell us if the earning after applying the treatment increased or not in average, over the balanced groups:"
   ]
  },
  {
   "cell_type": "code",
   "execution_count": null,
   "metadata": {
    "ExecuteTime": {
     "end_time": "2017-11-22T16:26:25.242350Z",
     "start_time": "2017-11-22T16:26:24.076Z"
    }
   },
   "outputs": [],
   "source": [
    "treatment_paired_same_race.re78.mean(), control_paired_same_race.re78.mean()"
   ]
  },
  {
   "cell_type": "markdown",
   "metadata": {},
   "source": [
    "From the means, we can see that the average income increased with more than 20% on the treatment group, revealing the fact that the training program was in fact a success, despite the results taken from a first look. For a more in-depth comparison, we can plot the histograms of the earnings of the two groups below:"
   ]
  },
  {
   "cell_type": "code",
   "execution_count": null,
   "metadata": {
    "ExecuteTime": {
     "end_time": "2017-11-22T16:26:25.243329Z",
     "start_time": "2017-11-22T16:26:24.097Z"
    }
   },
   "outputs": [],
   "source": [
    "plot_distribution_variable(treatment_paired_same_race, control_paired_same_race, 're78', {'title' : 'earnings 1978', 'figsize':(16, 8)})"
   ]
  },
  {
   "cell_type": "markdown",
   "metadata": {},
   "source": [
    "From the histogram, we can see that the number of very low incomes decreased in the treatment group, while the number of incomes around \\$5000 increased, and also the ones between \\$10,000 and \\$15,000. In addition, very large salaries appeared, with value almost twice as big as the biggest value in the control group. It would be interesting to look in fact at multiple statistics of the groups, not only the mean, which might be drastically influenced by the outliers and also by the resemblance of the blue histogram with the histogram of a power law, on which the mean or standard deviation are not very useful statistics:"
   ]
  },
  {
   "cell_type": "code",
   "execution_count": null,
   "metadata": {
    "ExecuteTime": {
     "end_time": "2017-11-22T16:26:25.244306Z",
     "start_time": "2017-11-22T16:26:24.118Z"
    }
   },
   "outputs": [],
   "source": [
    "fig, axes = plt.subplots(1, 2, figsize=(16, 5), sharey=True);\n",
    "\n",
    "treatment_paired_same_race.re78.plot.box(ax=axes[0], title='Income 1978 for treatment group')\n",
    "control_paired_same_race.re78.plot.box(ax=axes[1], title='Income 1978 for control group')"
   ]
  },
  {
   "cell_type": "markdown",
   "metadata": {},
   "source": [
    "From the previous box plot, we can see that the treatment group has higher general income than the control group, reiterating again the idea that the training program was a success. \n",
    "\n",
    "---\n",
    "\n",
    "The idea to take from the homework is that we should pay attention not only to the high level data that we might collect, but also look into its composition and understand what are the important features. Sometimes, as in this problem's case or in [UC Berkley gender bias case](https://docs.google.com/presentation/d/1sg20BpLzhDdK9UHnqzKt7Kw-44Bb9HBA8ZRMo5Y_sQo/edit#slide=id.g179faf3a1c_0_70), the results that can be seen from the aggregated data can lead to a conclusion which is in contradiction with the reality. Therefore, for extracting the correct conclusion and results, we need to dive deep into the data, create balances between distributions, eventually using propensity score, and then come up with a scientific conclusion, based on facts, and not on merely naive observations."
   ]
  },
  {
   "cell_type": "markdown",
   "metadata": {},
   "source": [
    "## Question 2: Applied ML\n",
    "\n",
    "We are going to build a classifier of news to directly assign them to 20 news categories. Note that the pipeline that you will build in this exercise could be of great help during your project if you plan to work with text!\n",
    "\n",
    "Load the 20newsgroup dataset. It is, again, a classic dataset that can directly be loaded using sklearn [link](http://scikit-learn.org/stable/datasets/twenty_newsgroups.html).\n",
    "[TF-IDF](https://en.wikipedia.org/wiki/Tf%E2%80%93idf), short for term frequency–inverse document frequency, is of great help when if comes to compute textual features. Indeed, it gives more importance to terms that are more specific to the considered articles (TF) but reduces the importance of terms that are very frequent in the entire corpus (IDF). Compute TF-IDF features for every article using [TfidfVectorizer](http://scikit-learn.org/stable/modules/generated/sklearn.feature_extraction.text.TfidfVectorizer.html). Then, split your dataset into a training, a testing and a validation set (10% for validation and 10% for testing). Each observation should be paired with its corresponding label (the article category).\n",
    "\n",
    "Train a random forest on your training set. Try to fine-tune the parameters of your predictor on your validation set using a simple grid search on the number of estimator \"n_estimators\" and the max depth of the trees \"max_depth\". Then, display a confusion matrix of your classification pipeline. Lastly, once you assessed your model, inspect the feature_importances_ attribute of your random forest and discuss the obtained results."
   ]
  },
  {
   "cell_type": "markdown",
   "metadata": {},
   "source": [
    "### Tackling plan\n",
    "1. We use fetch_20newsgroups function from sklearn.datasets to get the data specifying that we want the entire dataset as we will split it for train/test ourselves.\n",
    "2. We keep only data that is of interest for us (content of the news and labels) and import it in a dataframe.\n",
    "3. We use TfidfVectorizer to compute TD-IDF features for every article.\n",
    "4. We train a RandomForestClassifier on the TF-IDF feature vectors. \n",
    "5. We use GridSearchCV frunction from sklearn.model_selection in order to fine tune the hyperparameters of our model.\n",
    "6. We make use of the confusion_matrix function from sklearn.metrics to compute the confusion matrix\n",
    "7. We have a look at the feature\\_importances\\_ of our model by plotting the top 20 most important features and also looking at the distribution of the values by studying the quartiles."
   ]
  },
  {
   "cell_type": "markdown",
   "metadata": {},
   "source": [
    "### Used libraries"
   ]
  },
  {
   "cell_type": "code",
   "execution_count": 4,
   "metadata": {
    "ExecuteTime": {
     "end_time": "2017-11-21T14:46:39.089261Z",
     "start_time": "2017-11-21T14:46:37.959505Z"
    },
    "collapsed": true
   },
   "outputs": [],
   "source": [
    "import math\n",
    "import numpy as np\n",
    "import os\n",
    "import pandas as pd\n",
    "import seaborn as sns\n",
    "from sklearn.datasets import fetch_20newsgroups\n",
    "from sklearn.feature_extraction.text import TfidfVectorizer\n",
    "from sklearn.metrics import confusion_matrix\n",
    "from sklearn.model_selection import GridSearchCV\n",
    "from sklearn.model_selection import train_test_split\n",
    "from sklearn.ensemble import RandomForestClassifier"
   ]
  },
  {
   "cell_type": "markdown",
   "metadata": {},
   "source": [
    "### Preparing the dataset\n",
    "\n",
    "Firstly we get the dataset by using sklearn functionality. We specify that we want the entire dataset and pass a relative path for the download folder."
   ]
  },
  {
   "cell_type": "code",
   "execution_count": 5,
   "metadata": {
    "ExecuteTime": {
     "end_time": "2017-11-21T14:46:39.345388Z",
     "start_time": "2017-11-21T14:46:39.095243Z"
    },
    "collapsed": true
   },
   "outputs": [],
   "source": [
    "data_folder = os.path.join('.','data')\n",
    "newsgroups_train = fetch_20newsgroups(subset='all', data_home=data_folder)"
   ]
  },
  {
   "cell_type": "markdown",
   "metadata": {},
   "source": [
    "The obtained data is enclosed in a specific sklearn object, namely Bunch which is basically a dictionary."
   ]
  },
  {
   "cell_type": "code",
   "execution_count": 6,
   "metadata": {
    "ExecuteTime": {
     "end_time": "2017-11-21T14:46:39.545798Z",
     "start_time": "2017-11-21T14:46:39.541115Z"
    }
   },
   "outputs": [
    {
     "data": {
      "text/plain": [
       "dict_keys(['data', 'filenames', 'target_names', 'target', 'DESCR', 'description'])"
      ]
     },
     "execution_count": 6,
     "metadata": {},
     "output_type": "execute_result"
    }
   ],
   "source": [
    "newsgroups_train.keys()"
   ]
  },
  {
   "cell_type": "markdown",
   "metadata": {},
   "source": [
    "As we can see it contains multiple entries out of which we are interested in:\n",
    "\n",
    "* **data** which is a list with the actual content \n",
    "* **target** containing the labels for each data entry\n",
    "* **target_names** containing the textual representation(names) of the labels, useful when we will analyze the output of the classifier\n",
    "\n",
    "We will create a dataframe with specifically this fields."
   ]
  },
  {
   "cell_type": "code",
   "execution_count": 7,
   "metadata": {
    "ExecuteTime": {
     "end_time": "2017-11-21T14:46:39.756138Z",
     "start_time": "2017-11-21T14:46:39.749804Z"
    },
    "collapsed": true
   },
   "outputs": [],
   "source": [
    "df = pd.DataFrame(data={'doc':newsgroups_train['data'], 'label':newsgroups_train['target']})\n",
    "labels_names = newsgroups_train['target_names']"
   ]
  },
  {
   "cell_type": "markdown",
   "metadata": {},
   "source": [
    "In order to have a better look at the data, we would like to show it not truncated therefore we remove the max column width limit of pandas display option."
   ]
  },
  {
   "cell_type": "code",
   "execution_count": 8,
   "metadata": {
    "ExecuteTime": {
     "end_time": "2017-11-21T14:46:39.968147Z",
     "start_time": "2017-11-21T14:46:39.964844Z"
    },
    "collapsed": true
   },
   "outputs": [],
   "source": [
    "pd.set_option('display.max_colwidth', -1)"
   ]
  },
  {
   "cell_type": "code",
   "execution_count": 9,
   "metadata": {
    "ExecuteTime": {
     "end_time": "2017-11-21T14:46:40.230010Z",
     "start_time": "2017-11-21T14:46:40.220573Z"
    }
   },
   "outputs": [
    {
     "data": {
      "text/html": [
       "<div>\n",
       "<style>\n",
       "    .dataframe thead tr:only-child th {\n",
       "        text-align: right;\n",
       "    }\n",
       "\n",
       "    .dataframe thead th {\n",
       "        text-align: left;\n",
       "    }\n",
       "\n",
       "    .dataframe tbody tr th {\n",
       "        vertical-align: top;\n",
       "    }\n",
       "</style>\n",
       "<table border=\"1\" class=\"dataframe\">\n",
       "  <thead>\n",
       "    <tr style=\"text-align: right;\">\n",
       "      <th></th>\n",
       "      <th>doc</th>\n",
       "      <th>label</th>\n",
       "    </tr>\n",
       "  </thead>\n",
       "  <tbody>\n",
       "    <tr>\n",
       "      <th>0</th>\n",
       "      <td>From: Mamatha Devineni Ratnam &lt;mr47+@andrew.cmu.edu&gt;\\nSubject: Pens fans reactions\\nOrganization: Post Office, Carnegie Mellon, Pittsburgh, PA\\nLines: 12\\nNNTP-Posting-Host: po4.andrew.cmu.edu\\n\\n\\n\\nI am sure some bashers of Pens fans are pretty confused about the lack\\nof any kind of posts about the recent Pens massacre of the Devils. Actually,\\nI am  bit puzzled too and a bit relieved. However, I am going to put an end\\nto non-PIttsburghers' relief with a bit of praise for the Pens. Man, they\\nare killing those Devils worse than I thought. Jagr just showed you why\\nhe is much better than his regular season stats. He is also a lot\\nfo fun to watch in the playoffs. Bowman should let JAgr have a lot of\\nfun in the next couple of games since the Pens are going to beat the pulp out of Jersey anyway. I was very disappointed not to see the Islanders lose the final\\nregular season game.          PENS RULE!!!\\n\\n</td>\n",
       "      <td>10</td>\n",
       "    </tr>\n",
       "    <tr>\n",
       "      <th>1</th>\n",
       "      <td>From: mblawson@midway.ecn.uoknor.edu (Matthew B Lawson)\\nSubject: Which high-performance VLB video card?\\nSummary: Seek recommendations for VLB video card\\nNntp-Posting-Host: midway.ecn.uoknor.edu\\nOrganization: Engineering Computer Network, University of Oklahoma, Norman, OK, USA\\nKeywords: orchid, stealth, vlb\\nLines: 21\\n\\n  My brother is in the market for a high-performance video card that supports\\nVESA local bus with 1-2MB RAM.  Does anyone have suggestions/ideas on:\\n\\n  - Diamond Stealth Pro Local Bus\\n\\n  - Orchid Farenheit 1280\\n\\n  - ATI Graphics Ultra Pro\\n\\n  - Any other high-performance VLB card\\n\\n\\nPlease post or email.  Thank you!\\n\\n  - Matt\\n\\n-- \\n    |  Matthew B. Lawson &lt;------------&gt; (mblawson@essex.ecn.uoknor.edu)  |   \\n  --+-- \"Now I, Nebuchadnezzar, praise and exalt and glorify the King  --+-- \\n    |   of heaven, because everything he does is right and all his ways  |   \\n    |   are just.\" - Nebuchadnezzar, king of Babylon, 562 B.C.           |   \\n</td>\n",
       "      <td>3</td>\n",
       "    </tr>\n",
       "    <tr>\n",
       "      <th>2</th>\n",
       "      <td>From: hilmi-er@dsv.su.se (Hilmi Eren)\\nSubject: Re: ARMENIA SAYS IT COULD SHOOT DOWN TURKISH PLANES (Henrik)\\nLines: 95\\nNntp-Posting-Host: viktoria.dsv.su.se\\nReply-To: hilmi-er@dsv.su.se (Hilmi Eren)\\nOrganization: Dept. of Computer and Systems Sciences, Stockholm University\\n\\n\\n\\n\\n|&gt;The student of \"regional killings\" alias Davidian (not the Davidian religios sect) writes:\\n\\n\\n|&gt;Greater Armenia would stretch from Karabakh, to the Black Sea, to the\\n|&gt;Mediterranean, so if you use the term \"Greater Armenia\" use it with care.\\n\\n\\n\\tFinally you said what you dream about. Mediterranean???? That was new....\\n\\tThe area will be \"greater\" after some years, like your \"holocaust\" numbers......\\n\\n\\n\\n\\n|&gt;It has always been up to the Azeris to end their announced winning of Karabakh \\n|&gt;by removing the Armenians! When the president of Azerbaijan, Elchibey, came to \\n|&gt;power last year, he announced he would be be \"swimming in Lake Sevan [in \\n|&gt;Armeniaxn] by July\".\\n\\t\\t*****\\n\\tIs't July in USA now????? Here in Sweden it's April and still cold.\\n\\tOr have you changed your calendar???\\n\\n\\n|&gt;Well, he was wrong! If Elchibey is going to shell the \\n|&gt;Armenians of Karabakh from Aghdam, his people will pay the price! If Elchibey \\n\\t\\t\\t\\t\\t\\t    ****************\\n|&gt;is going to shell Karabakh from Fizuli his people will pay the price! If \\n\\t\\t\\t\\t\\t\\t    ******************\\n|&gt;Elchibey thinks he can get away with bombing Armenia from the hills of \\n|&gt;Kelbajar, his people will pay the price. \\n\\t\\t\\t    ***************\\n\\n\\n\\tNOTHING OF THE MENTIONED IS TRUE, BUT LET SAY IT's TRUE.\\n\\t\\n\\tSHALL THE AZERI WOMEN AND CHILDREN GOING TO PAY THE PRICE WITH\\n\\t\\t\\t\\t\\t\\t    **************\\n\\tBEING RAPED, KILLED AND TORTURED BY THE ARMENIANS??????????\\n\\t\\n\\tHAVE YOU HEARDED SOMETHING CALLED: \"GENEVA CONVENTION\"???????\\n\\tYOU FACIST!!!!!\\n\\n\\n\\n\\tOhhh i forgot, this is how Armenians fight, nobody has forgot\\n\\tyou killings, rapings and torture against the Kurds and Turks once\\n\\tupon a time!\\n      \\n       \\n\\n|&gt;And anyway, this \"60 \\n|&gt;Kurd refugee\" story, as have other stories, are simple fabrications sourced in \\n|&gt;Baku, modified in Ankara. Other examples of this are Armenia has no border \\n|&gt;with Iran, and the ridiculous story of the \"intercepting\" of Armenian military \\n|&gt;conversations as appeared in the New York Times supposedly translated by \\n|&gt;somebody unknown, from Armenian into Azeri Turkish, submitted by an unnamed \\n|&gt;\"special correspondent\" to the NY Times from Baku. Real accurate!\\n\\nOhhhh so swedish RedCross workers do lie they too? What ever you say\\n\"regional killer\", if you don't like the person then shoot him that's your policy.....l\\n\\n\\n|&gt;[HE]\\tSearch Turkish planes? You don't know what you are talking about.&lt;-------\\n|&gt;[HE]\\tsince it's content is announced to be weapons? \\t\\t\\t\\ti\\t \\n\\t\\t\\t\\t\\t\\t\\t\\t\\t\\ti\\n|&gt;Well, big mouth Ozal said military weapons are being provided to Azerbaijan\\ti\\n|&gt;from Turkey, yet Demirel and others say no. No wonder you are so confused!\\ti\\n\\t\\t\\t\\t\\t\\t\\t\\t\\t\\ti\\n\\t\\t\\t\\t\\t\\t\\t\\t\\t\\ti\\n\\tConfused?????\\t\\t\\t\\t\\t\\t\\t\\ti\\n\\tYou facist when you delete text don't change it, i wrote:\\t\\ti\\n\\t\\t\\t\\t\\t\\t\\t\\t\\t\\ti\\n        Search Turkish planes? You don't know what you are talking about.\\ti\\n        Turkey's government has announced that it's giving weapons  &lt;-----------i\\n        to Azerbadjan since Armenia started to attack Azerbadjan\\t\\t\\n        it self, not the Karabag province. So why search a plane for weapons\\t\\n        since it's content is announced to be weapons?   \\n\\n\\tIf there is one that's confused then that's you! We have the right (and we do)\\n\\tto give weapons to the Azeris, since Armenians started the fight in Azerbadjan!\\n \\n\\n|&gt;You are correct, all Turkish planes should be simply shot down! Nice, slow\\n|&gt;moving air transports!\\n\\n\\tShoot down with what? Armenian bread and butter? Or the arms and personel \\n\\tof the Russian army?\\n\\n\\n\\n\\nHilmi Eren\\nStockholm University\\n</td>\n",
       "      <td>17</td>\n",
       "    </tr>\n",
       "  </tbody>\n",
       "</table>\n",
       "</div>"
      ],
      "text/plain": [
       "                                                                                                                                                                                                                                                                                                                                                                                                                                                                                                                                                                                                                                                                                                                                                                                                                                                                                                                                                                                                                                                                                                                                                                                                                                                                                                                                                                                                                                                                                                                                                                                                                                                                                                                                                                                                                                                                                                                                                                                                                                                                                                                                                                                                                                                                                                                                                                                                                                                                                                                                                                                                                                                                                                                                                                                                                                                                                                                                                                                                                                                                                                                                                                                                                                                                                                                                                                                                                                                                                                                                                                                                                                                                                                                                                                                                                                                                                                                                                                                                                                                                                                                                                    doc  \\\n",
       "0  From: Mamatha Devineni Ratnam <mr47+@andrew.cmu.edu>\\nSubject: Pens fans reactions\\nOrganization: Post Office, Carnegie Mellon, Pittsburgh, PA\\nLines: 12\\nNNTP-Posting-Host: po4.andrew.cmu.edu\\n\\n\\n\\nI am sure some bashers of Pens fans are pretty confused about the lack\\nof any kind of posts about the recent Pens massacre of the Devils. Actually,\\nI am  bit puzzled too and a bit relieved. However, I am going to put an end\\nto non-PIttsburghers' relief with a bit of praise for the Pens. Man, they\\nare killing those Devils worse than I thought. Jagr just showed you why\\nhe is much better than his regular season stats. He is also a lot\\nfo fun to watch in the playoffs. Bowman should let JAgr have a lot of\\nfun in the next couple of games since the Pens are going to beat the pulp out of Jersey anyway. I was very disappointed not to see the Islanders lose the final\\nregular season game.          PENS RULE!!!\\n\\n                                                                                                                                                                                                                                                                                                                                                                                                                                                                                                                                                                                                                                                                                                                                                                                                                                                                                                                                                                                                                                                                                                                                                                                                                                                                                                                                                                                                                                                                                                                                                                                                                                                                                                                                                                                                                                                                                                                                                                                                                                                                                                                                                                                                                                                                                                                                                                                                                                                                                                                                                                                                                                                                                                                                                                                                                                                                                                                                                                                                                                                                                                                                                                                               \n",
       "1  From: mblawson@midway.ecn.uoknor.edu (Matthew B Lawson)\\nSubject: Which high-performance VLB video card?\\nSummary: Seek recommendations for VLB video card\\nNntp-Posting-Host: midway.ecn.uoknor.edu\\nOrganization: Engineering Computer Network, University of Oklahoma, Norman, OK, USA\\nKeywords: orchid, stealth, vlb\\nLines: 21\\n\\n  My brother is in the market for a high-performance video card that supports\\nVESA local bus with 1-2MB RAM.  Does anyone have suggestions/ideas on:\\n\\n  - Diamond Stealth Pro Local Bus\\n\\n  - Orchid Farenheit 1280\\n\\n  - ATI Graphics Ultra Pro\\n\\n  - Any other high-performance VLB card\\n\\n\\nPlease post or email.  Thank you!\\n\\n  - Matt\\n\\n-- \\n    |  Matthew B. Lawson <------------> (mblawson@essex.ecn.uoknor.edu)  |   \\n  --+-- \"Now I, Nebuchadnezzar, praise and exalt and glorify the King  --+-- \\n    |   of heaven, because everything he does is right and all his ways  |   \\n    |   are just.\" - Nebuchadnezzar, king of Babylon, 562 B.C.           |   \\n                                                                                                                                                                                                                                                                                                                                                                                                                                                                                                                                                                                                                                                                                                                                                                                                                                                                                                                                                                                                                                                                                                                                                                                                                                                                                                                                                                                                                                                                                                                                                                                                                                                                                                                                                                                                                                                                                                                                                                                                                                                                                                                                                                                                                                                                                                                                                                                                                                                                                                                                                                                                                                                                                                                                                                                                                                                                                                                                                                                                                                                                                                                       \n",
       "2  From: hilmi-er@dsv.su.se (Hilmi Eren)\\nSubject: Re: ARMENIA SAYS IT COULD SHOOT DOWN TURKISH PLANES (Henrik)\\nLines: 95\\nNntp-Posting-Host: viktoria.dsv.su.se\\nReply-To: hilmi-er@dsv.su.se (Hilmi Eren)\\nOrganization: Dept. of Computer and Systems Sciences, Stockholm University\\n\\n\\n\\n\\n|>The student of \"regional killings\" alias Davidian (not the Davidian religios sect) writes:\\n\\n\\n|>Greater Armenia would stretch from Karabakh, to the Black Sea, to the\\n|>Mediterranean, so if you use the term \"Greater Armenia\" use it with care.\\n\\n\\n\\tFinally you said what you dream about. Mediterranean???? That was new....\\n\\tThe area will be \"greater\" after some years, like your \"holocaust\" numbers......\\n\\n\\n\\n\\n|>It has always been up to the Azeris to end their announced winning of Karabakh \\n|>by removing the Armenians! When the president of Azerbaijan, Elchibey, came to \\n|>power last year, he announced he would be be \"swimming in Lake Sevan [in \\n|>Armeniaxn] by July\".\\n\\t\\t*****\\n\\tIs't July in USA now????? Here in Sweden it's April and still cold.\\n\\tOr have you changed your calendar???\\n\\n\\n|>Well, he was wrong! If Elchibey is going to shell the \\n|>Armenians of Karabakh from Aghdam, his people will pay the price! If Elchibey \\n\\t\\t\\t\\t\\t\\t    ****************\\n|>is going to shell Karabakh from Fizuli his people will pay the price! If \\n\\t\\t\\t\\t\\t\\t    ******************\\n|>Elchibey thinks he can get away with bombing Armenia from the hills of \\n|>Kelbajar, his people will pay the price. \\n\\t\\t\\t    ***************\\n\\n\\n\\tNOTHING OF THE MENTIONED IS TRUE, BUT LET SAY IT's TRUE.\\n\\t\\n\\tSHALL THE AZERI WOMEN AND CHILDREN GOING TO PAY THE PRICE WITH\\n\\t\\t\\t\\t\\t\\t    **************\\n\\tBEING RAPED, KILLED AND TORTURED BY THE ARMENIANS??????????\\n\\t\\n\\tHAVE YOU HEARDED SOMETHING CALLED: \"GENEVA CONVENTION\"???????\\n\\tYOU FACIST!!!!!\\n\\n\\n\\n\\tOhhh i forgot, this is how Armenians fight, nobody has forgot\\n\\tyou killings, rapings and torture against the Kurds and Turks once\\n\\tupon a time!\\n      \\n       \\n\\n|>And anyway, this \"60 \\n|>Kurd refugee\" story, as have other stories, are simple fabrications sourced in \\n|>Baku, modified in Ankara. Other examples of this are Armenia has no border \\n|>with Iran, and the ridiculous story of the \"intercepting\" of Armenian military \\n|>conversations as appeared in the New York Times supposedly translated by \\n|>somebody unknown, from Armenian into Azeri Turkish, submitted by an unnamed \\n|>\"special correspondent\" to the NY Times from Baku. Real accurate!\\n\\nOhhhh so swedish RedCross workers do lie they too? What ever you say\\n\"regional killer\", if you don't like the person then shoot him that's your policy.....l\\n\\n\\n|>[HE]\\tSearch Turkish planes? You don't know what you are talking about.<-------\\n|>[HE]\\tsince it's content is announced to be weapons? \\t\\t\\t\\ti\\t \\n\\t\\t\\t\\t\\t\\t\\t\\t\\t\\ti\\n|>Well, big mouth Ozal said military weapons are being provided to Azerbaijan\\ti\\n|>from Turkey, yet Demirel and others say no. No wonder you are so confused!\\ti\\n\\t\\t\\t\\t\\t\\t\\t\\t\\t\\ti\\n\\t\\t\\t\\t\\t\\t\\t\\t\\t\\ti\\n\\tConfused?????\\t\\t\\t\\t\\t\\t\\t\\ti\\n\\tYou facist when you delete text don't change it, i wrote:\\t\\ti\\n\\t\\t\\t\\t\\t\\t\\t\\t\\t\\ti\\n        Search Turkish planes? You don't know what you are talking about.\\ti\\n        Turkey's government has announced that it's giving weapons  <-----------i\\n        to Azerbadjan since Armenia started to attack Azerbadjan\\t\\t\\n        it self, not the Karabag province. So why search a plane for weapons\\t\\n        since it's content is announced to be weapons?   \\n\\n\\tIf there is one that's confused then that's you! We have the right (and we do)\\n\\tto give weapons to the Azeris, since Armenians started the fight in Azerbadjan!\\n \\n\\n|>You are correct, all Turkish planes should be simply shot down! Nice, slow\\n|>moving air transports!\\n\\n\\tShoot down with what? Armenian bread and butter? Or the arms and personel \\n\\tof the Russian army?\\n\\n\\n\\n\\nHilmi Eren\\nStockholm University\\n   \n",
       "\n",
       "   label  \n",
       "0  10     \n",
       "1  3      \n",
       "2  17     "
      ]
     },
     "execution_count": 9,
     "metadata": {},
     "output_type": "execute_result"
    }
   ],
   "source": [
    "df[:3]"
   ]
  },
  {
   "cell_type": "markdown",
   "metadata": {},
   "source": [
    "#### Note\n",
    "One thing we notice is that the data has a special structure: it containes headers and signature blocks. This will have an impact on the generalization power of our classifier. For a more realistic approach we can remove these blocks and then train a classifier on the data. "
   ]
  },
  {
   "cell_type": "code",
   "execution_count": 7,
   "metadata": {
    "ExecuteTime": {
     "end_time": "2017-11-20T18:55:12.097495Z",
     "start_time": "2017-11-20T18:55:12.080644Z"
    }
   },
   "outputs": [
    {
     "data": {
      "text/plain": [
       "18038"
      ]
     },
     "execution_count": 7,
     "metadata": {},
     "output_type": "execute_result"
    }
   ],
   "source": [
    "# number of data entries that have a header starting with the source of the email\n",
    "df.doc.str.startswith('From:').sum()"
   ]
  },
  {
   "cell_type": "markdown",
   "metadata": {},
   "source": [
    "### Creating the feature vectors\n",
    "\n",
    "As indicated in the task statement we will use the TfidfVectorizer. This is indeed a good choice for classification as it can successfully filter stop-words by weighting down the frequent terms across the entire corpus."
   ]
  },
  {
   "cell_type": "code",
   "execution_count": 8,
   "metadata": {
    "ExecuteTime": {
     "end_time": "2017-11-20T18:55:17.469291Z",
     "start_time": "2017-11-20T18:55:12.099165Z"
    },
    "collapsed": true
   },
   "outputs": [],
   "source": [
    "vectorizer = TfidfVectorizer()\n",
    "featurized_data = vectorizer.fit_transform(df.doc)"
   ]
  },
  {
   "cell_type": "code",
   "execution_count": 9,
   "metadata": {
    "ExecuteTime": {
     "end_time": "2017-11-20T18:55:17.474286Z",
     "start_time": "2017-11-20T18:55:17.470904Z"
    }
   },
   "outputs": [
    {
     "data": {
      "text/plain": [
       "(18846, 173762)"
      ]
     },
     "execution_count": 9,
     "metadata": {},
     "output_type": "execute_result"
    }
   ],
   "source": [
    "featurized_data.shape"
   ]
  },
  {
   "cell_type": "code",
   "execution_count": 10,
   "metadata": {
    "ExecuteTime": {
     "end_time": "2017-11-20T18:55:17.479611Z",
     "start_time": "2017-11-20T18:55:17.475783Z"
    }
   },
   "outputs": [
    {
     "data": {
      "text/plain": [
       "156.6663482967208"
      ]
     },
     "execution_count": 10,
     "metadata": {},
     "output_type": "execute_result"
    }
   ],
   "source": [
    "rate = featurized_data.nnz/featurized_data.shape[0]\n",
    "rate"
   ]
  },
  {
   "cell_type": "code",
   "execution_count": 11,
   "metadata": {
    "ExecuteTime": {
     "end_time": "2017-11-20T18:55:17.485172Z",
     "start_time": "2017-11-20T18:55:17.481300Z"
    }
   },
   "outputs": [
    {
     "name": "stdout",
     "output_type": "stream",
     "text": [
      "We can see that our feature vectors lie in an 173762-dimmensional space out of which only an average of 156 components are non-zero\n"
     ]
    }
   ],
   "source": [
    "print('We can see that our feature vectors lie in an {}-dimmensional space\\\n",
    " out of which only an average of {} components are non-zero'.format(featurized_data.shape[1], int(rate)))"
   ]
  },
  {
   "cell_type": "markdown",
   "metadata": {},
   "source": [
    "### Splitting the data into train, validation and test\n",
    "\n",
    "#### Small note\n",
    "\n",
    "Because the feature vectors for the documents are very high dimmensional and are stored as a *sparse matrix*, we will not create a dataframe from them because we would have to convert it to a dense matrix which would require quite a lot of memory. Instead, we will keep two different numpy arrays, one for labels and one for data, where the label in row *i* corresponds to the data in row *i*."
   ]
  },
  {
   "cell_type": "code",
   "execution_count": 12,
   "metadata": {
    "ExecuteTime": {
     "end_time": "2017-11-20T18:55:17.489666Z",
     "start_time": "2017-11-20T18:55:17.486670Z"
    },
    "collapsed": true
   },
   "outputs": [],
   "source": [
    "X = featurized_data\n",
    "\n",
    "y = df.label.values"
   ]
  },
  {
   "cell_type": "markdown",
   "metadata": {},
   "source": [
    "#### Splitting the data\n",
    "\n",
    "Because we will use the GridSearchCV function to fine-tune our model's hyperparameters, we will split our data only into train and test sets. This is because of how is implemented GridSearchCV, which we will discuss a little later.\n",
    "\n",
    "For this, we will use the train_test_split function from sklearn which splits the data into random train and test subsets according to the test_size parameter which specifies the fraction of data we want as test. Additionally, we would like to keep the same distribution across the classes in order to not introduce a sampling bias therefore we will use the parameter stratify to specify the class for each data entry upon which the stratified sampling will be done. \n",
    "\n",
    "By stratified sampling we understand that instead of just randomly extracting 10% of the data for test, we will look at the labels and for each class we will extract 10% as test data."
   ]
  },
  {
   "cell_type": "code",
   "execution_count": 13,
   "metadata": {
    "ExecuteTime": {
     "end_time": "2017-11-20T18:55:17.559992Z",
     "start_time": "2017-11-20T18:55:17.491248Z"
    },
    "collapsed": true
   },
   "outputs": [],
   "source": [
    "X_train, X_test, y_train, y_test = train_test_split(X,y,\n",
    "                                                    test_size=0.1,\n",
    "                                                    stratify=y,\n",
    "                                                    random_state=777)"
   ]
  },
  {
   "cell_type": "markdown",
   "metadata": {},
   "source": [
    "#### Class distribution\n",
    "\n",
    "We will now have a look at the class distribution across our train and test datasets."
   ]
  },
  {
   "cell_type": "code",
   "execution_count": 14,
   "metadata": {
    "ExecuteTime": {
     "end_time": "2017-11-20T18:55:18.298464Z",
     "start_time": "2017-11-20T18:55:17.561803Z"
    }
   },
   "outputs": [
    {
     "data": {
      "image/png": "[encoded data removed]",
      "text/plain": [
       "<matplotlib.figure.Figure at 0x7f5a500ce908>"
      ]
     },
     "metadata": {},
     "output_type": "display_data"
    },
    {
     "data": {
      "image/png": "[encoded data removed]",
      "text/plain": [
       "<matplotlib.figure.Figure at 0x7f5a500cf2b0>"
      ]
     },
     "metadata": {},
     "output_type": "display_data"
    }
   ],
   "source": [
    "import matplotlib.pyplot as plt\n",
    "train_class_counts = np.bincount(y_train)\n",
    "test_class_counts = np.bincount(y_test)\n",
    "\n",
    "\n",
    "plt.figure()\n",
    "plt.title('Class distribution across TRAIN sample', fontsize=16)\n",
    "plt.ylabel('counts', fontsize=13)\n",
    "g = sns.barplot(x=labels_names, y=train_class_counts)\n",
    "g.set_xticklabels(labels_names, rotation=90, fontsize=13)\n",
    "plt.show()\n",
    "\n",
    "plt.figure()\n",
    "plt.title('Class distribution across TEST sample', fontsize=16)\n",
    "plt.ylabel('counts', fontsize=13)\n",
    "g = sns.barplot(x=labels_names, y=test_class_counts)\n",
    "g.set_xticklabels(labels_names,rotation=90, fontsize=13)\n",
    "plt.show()"
   ]
  },
  {
   "cell_type": "markdown",
   "metadata": {},
   "source": [
    "We can remark that almost all classes are evenly distributed across the data, a more noticeable exception is the talk.religion.misc class which appears to be about a thirds less frequent.\n",
    "\n",
    "As expected by the train_test_split function, the data's distribution is kept across the two datasets."
   ]
  },
  {
   "cell_type": "markdown",
   "metadata": {},
   "source": [
    "### Training and evaluating the model\n",
    "\n",
    "We will now train a RandomForestClassifier in order to predict the label for the news emails.\n",
    "\n",
    "In order to fine tune the parameters, we will use cross-validation. Given that the parameters to tune are already chosen, one important decision that is left to be made here is the range of the parameters. For this process we will have an iterative approach in which we will start with some coarse values and after each iteration we will fine-graine our intervals.\n",
    "\n",
    ">**n_estimators** as discussed in class and from literature we will firstly pick values in the range [10,500]\n",
    "\n",
    ">**max_depth** will range between [5,40]\n",
    "\n",
    "Another decision with high importance is the evaluation function to be used when tuning our hyperparameters. Given that the data is reasonably distributed across the classes we will use the simple accuracy metric for evaluation. The accuracy metric returns the fraction of matching labels between the predicted labels and actual labels. In other words, it counts the fraction of data entries we classified correctly.\n",
    "\n",
    "In order to tune our parameters we will use the sklearn function GridSearchCV.\n",
    "We pass it a dictionary with parameters values containing an array of values for each parameter and it will iterate over all combinations of these values. It will do, by default, a 3-fold cross-validation to evaluate the current combination.\n",
    "Given that our estimator is a classifier (RandomForestClassifier) the cross-validation will be a stratified-3-fold cross validation.\n",
    "Additionally, we will specify the scoring method to be the above mentioned accuracy metric and we will parallelize the training over 4 thread using n_jobs parameter.\n",
    "\n",
    "One last thing to be mentioned is that GridSearchCV will return the best classifier trained on the entire dataset"
   ]
  },
  {
   "cell_type": "code",
   "execution_count": 15,
   "metadata": {
    "ExecuteTime": {
     "end_time": "2017-11-20T19:13:31.693577Z",
     "start_time": "2017-11-20T18:55:18.299930Z"
    }
   },
   "outputs": [
    {
     "name": "stdout",
     "output_type": "stream",
     "text": [
      "Fitting 3 folds for each of 35 candidates, totalling 105 fits\n"
     ]
    },
    {
     "name": "stderr",
     "output_type": "stream",
     "text": [
      "[Parallel(n_jobs=4)]: Done  42 tasks      | elapsed:  2.3min\n",
      "[Parallel(n_jobs=4)]: Done 105 out of 105 | elapsed: 16.5min finished\n"
     ]
    },
    {
     "data": {
      "text/plain": [
       "GridSearchCV(cv=None, error_score='raise',\n",
       "       estimator=RandomForestClassifier(bootstrap=True, class_weight=None, criterion='gini',\n",
       "            max_depth=None, max_features='auto', max_leaf_nodes=None,\n",
       "            min_impurity_split=1e-07, min_samples_leaf=1,\n",
       "            min_samples_split=2, min_weight_fraction_leaf=0.0,\n",
       "            n_estimators=10, n_jobs=2, oob_score=False, random_state=777,\n",
       "            verbose=0, warm_start=False),\n",
       "       fit_params={}, iid=True, n_jobs=4,\n",
       "       param_grid={'n_estimators': [10, 50, 100, 200, 300, 400, 500], 'max_depth': [5, 10, 20, 30, 40]},\n",
       "       pre_dispatch='2*n_jobs', refit=True, return_train_score=True,\n",
       "       scoring='accuracy', verbose=True)"
      ]
     },
     "execution_count": 15,
     "metadata": {},
     "output_type": "execute_result"
    }
   ],
   "source": [
    "rfc = RandomForestClassifier(n_jobs=2, random_state=777)\n",
    "\n",
    "parameters = {'n_estimators':[10, 50, 100, 200, 300, 400, 500], 'max_depth':[5,10,20,30,40]}\n",
    "\n",
    "clf = GridSearchCV(rfc, parameters, n_jobs=4, scoring='accuracy', verbose=True)\n",
    "\n",
    "clf.fit(X_train, y_train)"
   ]
  },
  {
   "cell_type": "code",
   "execution_count": 16,
   "metadata": {
    "ExecuteTime": {
     "end_time": "2017-11-20T19:13:31.699148Z",
     "start_time": "2017-11-20T19:13:31.695274Z"
    }
   },
   "outputs": [
    {
     "data": {
      "text/plain": [
       "RandomForestClassifier(bootstrap=True, class_weight=None, criterion='gini',\n",
       "            max_depth=40, max_features='auto', max_leaf_nodes=None,\n",
       "            min_impurity_split=1e-07, min_samples_leaf=1,\n",
       "            min_samples_split=2, min_weight_fraction_leaf=0.0,\n",
       "            n_estimators=500, n_jobs=2, oob_score=False, random_state=777,\n",
       "            verbose=0, warm_start=False)"
      ]
     },
     "execution_count": 16,
     "metadata": {},
     "output_type": "execute_result"
    }
   ],
   "source": [
    "clf.best_estimator_"
   ]
  },
  {
   "cell_type": "code",
   "execution_count": 17,
   "metadata": {
    "ExecuteTime": {
     "end_time": "2017-11-20T19:13:31.709335Z",
     "start_time": "2017-11-20T19:13:31.700675Z"
    },
    "scrolled": true
   },
   "outputs": [
    {
     "name": "stderr",
     "output_type": "stream",
     "text": [
      "/home/doru/anaconda3/lib/python3.6/site-packages/sklearn/model_selection/_search.py:667: DeprecationWarning: The grid_scores_ attribute was deprecated in version 0.18 in favor of the more elaborate cv_results_ attribute. The grid_scores_ attribute will not be available from 0.20\n",
      "  DeprecationWarning)\n"
     ]
    },
    {
     "data": {
      "text/plain": [
       "[mean: 0.29745, std: 0.00728, params: {'max_depth': 5, 'n_estimators': 10},\n",
       " mean: 0.54549, std: 0.01415, params: {'max_depth': 5, 'n_estimators': 50},\n",
       " mean: 0.62190, std: 0.00845, params: {'max_depth': 5, 'n_estimators': 100},\n",
       " mean: 0.67089, std: 0.00203, params: {'max_depth': 5, 'n_estimators': 200},\n",
       " mean: 0.68923, std: 0.00326, params: {'max_depth': 5, 'n_estimators': 300},\n",
       " mean: 0.70485, std: 0.00107, params: {'max_depth': 5, 'n_estimators': 400},\n",
       " mean: 0.71028, std: 0.00326, params: {'max_depth': 5, 'n_estimators': 500},\n",
       " mean: 0.40917, std: 0.01287, params: {'max_depth': 10, 'n_estimators': 10},\n",
       " mean: 0.64595, std: 0.00446, params: {'max_depth': 10, 'n_estimators': 50},\n",
       " mean: 0.70562, std: 0.00801, params: {'max_depth': 10, 'n_estimators': 100},\n",
       " mean: 0.72908, std: 0.00762, params: {'max_depth': 10, 'n_estimators': 200},\n",
       " mean: 0.74082, std: 0.00692, params: {'max_depth': 10, 'n_estimators': 300},\n",
       " mean: 0.74848, std: 0.00616, params: {'max_depth': 10, 'n_estimators': 400},\n",
       " mean: 0.75167, std: 0.00721, params: {'max_depth': 10, 'n_estimators': 500},\n",
       " mean: 0.53257, std: 0.00870, params: {'max_depth': 20, 'n_estimators': 10},\n",
       " mean: 0.72755, std: 0.00429, params: {'max_depth': 20, 'n_estimators': 50},\n",
       " mean: 0.76723, std: 0.00667, params: {'max_depth': 20, 'n_estimators': 100},\n",
       " mean: 0.78150, std: 0.00550, params: {'max_depth': 20, 'n_estimators': 200},\n",
       " mean: 0.78663, std: 0.00560, params: {'max_depth': 20, 'n_estimators': 300},\n",
       " mean: 0.79305, std: 0.00401, params: {'max_depth': 20, 'n_estimators': 400},\n",
       " mean: 0.79471, std: 0.00369, params: {'max_depth': 20, 'n_estimators': 500},\n",
       " mean: 0.57821, std: 0.00906, params: {'max_depth': 30, 'n_estimators': 10},\n",
       " mean: 0.75951, std: 0.00614, params: {'max_depth': 30, 'n_estimators': 50},\n",
       " mean: 0.79270, std: 0.00650, params: {'max_depth': 30, 'n_estimators': 100},\n",
       " mean: 0.80284, std: 0.00338, params: {'max_depth': 30, 'n_estimators': 200},\n",
       " mean: 0.80827, std: 0.00340, params: {'max_depth': 30, 'n_estimators': 300},\n",
       " mean: 0.81145, std: 0.00254, params: {'max_depth': 30, 'n_estimators': 400},\n",
       " mean: 0.81239, std: 0.00355, params: {'max_depth': 30, 'n_estimators': 500},\n",
       " mean: 0.60928, std: 0.01191, params: {'max_depth': 40, 'n_estimators': 10},\n",
       " mean: 0.77248, std: 0.00351, params: {'max_depth': 40, 'n_estimators': 50},\n",
       " mean: 0.80154, std: 0.00278, params: {'max_depth': 40, 'n_estimators': 100},\n",
       " mean: 0.81404, std: 0.00370, params: {'max_depth': 40, 'n_estimators': 200},\n",
       " mean: 0.81870, std: 0.00039, params: {'max_depth': 40, 'n_estimators': 300},\n",
       " mean: 0.82283, std: 0.00263, params: {'max_depth': 40, 'n_estimators': 400},\n",
       " mean: 0.82483, std: 0.00210, params: {'max_depth': 40, 'n_estimators': 500}]"
      ]
     },
     "execution_count": 17,
     "metadata": {},
     "output_type": "execute_result"
    }
   ],
   "source": [
    "clf.grid_scores_"
   ]
  },
  {
   "cell_type": "markdown",
   "metadata": {},
   "source": [
    "We can notice from the logs above that the maximum accuracy value was reached at the edge of our parameters values intervals. This is a good indicator that we should explore more values beyond our initial intervals."
   ]
  },
  {
   "cell_type": "code",
   "execution_count": 18,
   "metadata": {
    "ExecuteTime": {
     "end_time": "2017-11-20T19:39:20.473279Z",
     "start_time": "2017-11-20T19:13:31.711036Z"
    }
   },
   "outputs": [
    {
     "name": "stdout",
     "output_type": "stream",
     "text": [
      "Fitting 3 folds for each of 9 candidates, totalling 27 fits\n"
     ]
    },
    {
     "name": "stderr",
     "output_type": "stream",
     "text": [
      "[Parallel(n_jobs=4)]: Done  27 out of  27 | elapsed: 22.5min finished\n"
     ]
    },
    {
     "data": {
      "text/plain": [
       "GridSearchCV(cv=None, error_score='raise',\n",
       "       estimator=RandomForestClassifier(bootstrap=True, class_weight=None, criterion='gini',\n",
       "            max_depth=None, max_features='auto', max_leaf_nodes=None,\n",
       "            min_impurity_split=1e-07, min_samples_leaf=1,\n",
       "            min_samples_split=2, min_weight_fraction_leaf=0.0,\n",
       "            n_estimators=10, n_jobs=2, oob_score=False, random_state=777,\n",
       "            verbose=0, warm_start=False),\n",
       "       fit_params={}, iid=True, n_jobs=4,\n",
       "       param_grid={'n_estimators': [400, 500, 600], 'max_depth': [40, 50, 60]},\n",
       "       pre_dispatch=4, refit=True, return_train_score=True,\n",
       "       scoring='accuracy', verbose=True)"
      ]
     },
     "execution_count": 18,
     "metadata": {},
     "output_type": "execute_result"
    }
   ],
   "source": [
    "rfc = RandomForestClassifier(n_jobs=2, random_state=777)\n",
    "\n",
    "parameters = {'n_estimators':[400, 500, 600], 'max_depth':[40, 50, 60]}\n",
    "\n",
    "clf = GridSearchCV(rfc, parameters, n_jobs=4, pre_dispatch=4, scoring='accuracy', verbose=True)\n",
    "\n",
    "clf.fit(X_train, y_train)"
   ]
  },
  {
   "cell_type": "code",
   "execution_count": 19,
   "metadata": {
    "ExecuteTime": {
     "end_time": "2017-11-20T19:39:20.539840Z",
     "start_time": "2017-11-20T19:39:20.496663Z"
    }
   },
   "outputs": [
    {
     "data": {
      "text/plain": [
       "RandomForestClassifier(bootstrap=True, class_weight=None, criterion='gini',\n",
       "            max_depth=60, max_features='auto', max_leaf_nodes=None,\n",
       "            min_impurity_split=1e-07, min_samples_leaf=1,\n",
       "            min_samples_split=2, min_weight_fraction_leaf=0.0,\n",
       "            n_estimators=600, n_jobs=2, oob_score=False, random_state=777,\n",
       "            verbose=0, warm_start=False)"
      ]
     },
     "execution_count": 19,
     "metadata": {},
     "output_type": "execute_result"
    }
   ],
   "source": [
    "clf.best_estimator_"
   ]
  },
  {
   "cell_type": "code",
   "execution_count": 20,
   "metadata": {
    "ExecuteTime": {
     "end_time": "2017-11-20T19:39:20.581329Z",
     "start_time": "2017-11-20T19:39:20.544529Z"
    },
    "scrolled": true
   },
   "outputs": [
    {
     "data": {
      "text/plain": [
       "{'mean_fit_time': array([ 113.12104877,  134.38394332,  159.42427421,  144.29609704,\n",
       "         176.85852551,  218.07995764,  180.74239119,  226.09119336,\n",
       "         234.34279323]),\n",
       " 'mean_score_time': array([ 4.82946674,  5.22873386,  5.89357789,  4.14888716,  5.21538321,\n",
       "         6.16988921,  4.03084302,  5.52218962,  4.63658301]),\n",
       " 'mean_test_score': array([ 0.82282884,  0.82483344,  0.82595366,  0.83102411,  0.83255704,\n",
       "         0.83467956,  0.83385414,  0.83656624,  0.838335  ]),\n",
       " 'mean_train_score': array([ 0.98352045,  0.98393339,  0.98490612,  0.99168639,  0.99221704,\n",
       "         0.99248238,  0.99587262,  0.99584303,  0.99619686]),\n",
       " 'param_max_depth': masked_array(data = [40 40 40 50 50 50 60 60 60],\n",
       "              mask = [False False False False False False False False False],\n",
       "        fill_value = ?),\n",
       " 'param_n_estimators': masked_array(data = [400 500 600 400 500 600 400 500 600],\n",
       "              mask = [False False False False False False False False False],\n",
       "        fill_value = ?),\n",
       " 'params': ({'max_depth': 40, 'n_estimators': 400},\n",
       "  {'max_depth': 40, 'n_estimators': 500},\n",
       "  {'max_depth': 40, 'n_estimators': 600},\n",
       "  {'max_depth': 50, 'n_estimators': 400},\n",
       "  {'max_depth': 50, 'n_estimators': 500},\n",
       "  {'max_depth': 50, 'n_estimators': 600},\n",
       "  {'max_depth': 60, 'n_estimators': 400},\n",
       "  {'max_depth': 60, 'n_estimators': 500},\n",
       "  {'max_depth': 60, 'n_estimators': 600}),\n",
       " 'rank_test_score': array([9, 8, 7, 6, 5, 3, 4, 2, 1], dtype=int32),\n",
       " 'split0_test_score': array([ 0.82332155,  0.82650177,  0.82526502,  0.8319788 ,  0.83392226,\n",
       "         0.83816254,  0.83551237,  0.83727915,  0.83922261]),\n",
       " 'split0_train_score': array([ 0.98247943,  0.98345279,  0.98442616,  0.99106274,  0.99168215,\n",
       "         0.99185913,  0.99539864,  0.9949562 ,  0.99557561]),\n",
       " 'split1_test_score': array([ 0.81938794,  0.8218645 ,  0.82345657,  0.82911728,  0.82964797,\n",
       "         0.82876349,  0.83000177,  0.83212454,  0.83371661]),\n",
       " 'split1_train_score': array([ 0.98213654,  0.98275557,  0.9831093 ,  0.99036081,  0.99080297,\n",
       "         0.991422  ,  0.99522462,  0.99540149,  0.99566678]),\n",
       " 'split2_test_score': array([ 0.82577904,  0.82613314,  0.82914306,  0.83197592,  0.83410057,\n",
       "         0.83711048,  0.83604816,  0.84029745,  0.84206799]),\n",
       " 'split2_train_score': array([ 0.98594537,  0.9855918 ,  0.98718289,  0.99363564,  0.994166  ,\n",
       "         0.994166  ,  0.99699461,  0.9971714 ,  0.99734818]),\n",
       " 'std_fit_time': array([  3.66293682,   8.48622857,   3.53823117,   2.09312207,\n",
       "          4.13839854,   5.98716336,   2.40855892,   6.70000099,  15.17691998]),\n",
       " 'std_score_time': array([ 1.09317459,  0.41408956,  1.0787436 ,  0.67707401,  0.68659667,\n",
       "         0.52282306,  0.55815766,  0.6459917 ,  0.0825709 ]),\n",
       " 'std_test_score': array([ 0.00263163,  0.00210456,  0.00237147,  0.00134821,  0.00205813,\n",
       "         0.00420492,  0.00273256,  0.00337358,  0.00346588]),\n",
       " 'std_train_score': array([ 0.00172039,  0.00120672,  0.00169731,  0.0014078 ,  0.0014241 ,\n",
       "         0.0012038 ,  0.00079654,  0.00095673,  0.00081496])}"
      ]
     },
     "execution_count": 20,
     "metadata": {},
     "output_type": "execute_result"
    }
   ],
   "source": [
    "clf.cv_results_"
   ]
  },
  {
   "cell_type": "markdown",
   "metadata": {},
   "source": [
    "Again, the best model has the hyper-parameters at the edge of our searching intervals. Taking into consideration the trade-off between computing time and increasing accuracy, trying to further improve our model would result into smaller accuracy increase but significantly more computing time. Therefore, we will use the best values of the above grid search. \n",
    "\n",
    "### Using the model \n",
    "\n",
    "We will now take a look at the confusion matrix for the test dataset. In order to do so, we predict the labels for our test dataset and use the sklearn metrics functionalities, namely the confusion_matrix function, along with the real labels to compute the confusion matrix.\n",
    "\n",
    "Given that the GridSearchCV is a wrapper over the actual estimator, in order to easily analyse feature importances, we will get a reference to the best estimator, i.e. the best RandomForestClassifier."
   ]
  },
  {
   "cell_type": "code",
   "execution_count": 21,
   "metadata": {
    "ExecuteTime": {
     "end_time": "2017-11-20T19:39:20.591778Z",
     "start_time": "2017-11-20T19:39:20.585945Z"
    },
    "collapsed": true
   },
   "outputs": [],
   "source": [
    "forest_clf = clf.best_estimator_"
   ]
  },
  {
   "cell_type": "code",
   "execution_count": 22,
   "metadata": {
    "ExecuteTime": {
     "end_time": "2017-11-20T19:39:21.693526Z",
     "start_time": "2017-11-20T19:39:20.601323Z"
    },
    "collapsed": true
   },
   "outputs": [],
   "source": [
    "y_pred = forest_clf.predict(X_test)"
   ]
  },
  {
   "cell_type": "code",
   "execution_count": 23,
   "metadata": {
    "ExecuteTime": {
     "end_time": "2017-11-20T19:39:21.712958Z",
     "start_time": "2017-11-20T19:39:21.696604Z"
    },
    "collapsed": true
   },
   "outputs": [],
   "source": [
    "conf_mat = confusion_matrix(y_test, y_pred)"
   ]
  },
  {
   "cell_type": "markdown",
   "metadata": {},
   "source": [
    "For an easier analysis of the confusion matrix, we will use a clear visual representation of it."
   ]
  },
  {
   "cell_type": "code",
   "execution_count": 24,
   "metadata": {
    "ExecuteTime": {
     "end_time": "2017-11-20T19:39:22.632292Z",
     "start_time": "2017-11-20T19:39:21.715832Z"
    },
    "scrolled": false
   },
   "outputs": [
    {
     "data": {
      "image/png": "[encoded data removed]",
      "text/plain": [
       "<matplotlib.figure.Figure at 0x7f5a4fef8d68>"
      ]
     },
     "metadata": {},
     "output_type": "display_data"
    }
   ],
   "source": [
    "import matplotlib.ticker as ticker\n",
    "import matplotlib.pyplot as plt\n",
    "\n",
    "fig, ax = plt.subplots(figsize=(15,10))\n",
    "cax = ax.matshow(conf_mat)\n",
    "fig.colorbar(cax)\n",
    "\n",
    "ax.xaxis.set_major_locator(ticker.MultipleLocator(1))\n",
    "ax.yaxis.set_major_locator(ticker.MultipleLocator(1))\n",
    "\n",
    "ax.xaxis.tick_top()\n",
    "\n",
    "plt.xlabel('predicted class', fontsize=14)\n",
    "plt.ylabel('actual class', fontsize=14)\n",
    "\n",
    "plt.xticks(range(20), labels_names, rotation='vertical')\n",
    "plt.yticks(range(20), labels_names)\n",
    "\n",
    "plt.show()"
   ]
  },
  {
   "cell_type": "markdown",
   "metadata": {},
   "source": [
    "To help our analysis, we will also look at the accuracy score of our model."
   ]
  },
  {
   "cell_type": "code",
   "execution_count": 25,
   "metadata": {
    "ExecuteTime": {
     "end_time": "2017-11-20T19:39:22.640917Z",
     "start_time": "2017-11-20T19:39:22.634403Z"
    }
   },
   "outputs": [
    {
     "data": {
      "text/plain": [
       "0.85888594164456233"
      ]
     },
     "execution_count": 25,
     "metadata": {},
     "output_type": "execute_result"
    }
   ],
   "source": [
    "from sklearn.metrics import accuracy_score\n",
    "\n",
    "accuracy_score(y_test, y_pred)"
   ]
  },
  {
   "cell_type": "markdown",
   "metadata": {},
   "source": [
    "We can observe from the confusion matrix that our classifier performs fairly well. Looking at the misclassified data entries, we can see that most of them are examples with related subjects: comp.windows.x and comp.grafics or comp.windows.x and comp.os.ms-windows.misc. Also, the worst classified examples from talk.religion.misc are labeled as soc.religion.christian which is explainable given that having similar subjects, many words are common between the texts but not present in the other classes.\n",
    "\n",
    "We can therefore state that even if our classifier does a decent job, it still has difficulties with subject-related documents. This might be explainable by the number of different subjects across our corpus. Hence, the IDF part of our vectorizer which penalizes words with high frequency across all documents, will not penalize enough words that have a considerable frequency in subject-related documents."
   ]
  },
  {
   "cell_type": "markdown",
   "metadata": {},
   "source": [
    "### Top 20 most important features\n",
    "We will now have a look at the 20 features with the biggest impact on our classifier\n",
    "\n",
    "In order to determine the 20 most important features across our entire decision trees forest, we will average the feature importances of each decision tree. This way we create an indicator over the entire model and we will also have a confidence interval. The same approach is used by the library to compute the feature importances for the RandomForestClassifier."
   ]
  },
  {
   "cell_type": "code",
   "execution_count": 26,
   "metadata": {
    "ExecuteTime": {
     "end_time": "2017-11-20T19:39:24.632843Z",
     "start_time": "2017-11-20T19:39:22.642547Z"
    },
    "collapsed": true
   },
   "outputs": [],
   "source": [
    "# we obtain references to our decision trees\n",
    "decision_trees = forest_clf.estimators_\n",
    "# we create a matrix where row i containes the feature importances\n",
    "# corresponding to decision tree i\n",
    "feature_importances_across_trees = []\n",
    "for tree in decision_trees:\n",
    "    feature_importances_across_trees.append(tree.feature_importances_)\n",
    "    \n",
    "# we compute the mean and std of the feature importances\n",
    "# across all the decision trees\n",
    "mean = np.mean(feature_importances_across_trees, axis=0)\n",
    "std = np.std(feature_importances_across_trees, axis=0)\n",
    "sorted_indices = np.argsort(mean)[::-1]"
   ]
  },
  {
   "cell_type": "markdown",
   "metadata": {},
   "source": [
    "Now that we determined the top most important features, we want to create a dataframe with the importance of the 20 top features across all decision trees in order to see how the values are distributed.\n",
    "\n",
    "To extract more easily the importances for these features using a list of positions as index, we create a numpy array from the feature importances across the decision trees and then we select only those columns corresponding to the features in top 20 most important."
   ]
  },
  {
   "cell_type": "code",
   "execution_count": 64,
   "metadata": {
    "ExecuteTime": {
     "end_time": "2017-11-20T20:27:52.320655Z",
     "start_time": "2017-11-20T20:27:52.128469Z"
    },
    "collapsed": true
   },
   "outputs": [],
   "source": [
    "feat_imp_np = np.array(feature_importances_across_trees)[:,sorted_indices[:top_features]]"
   ]
  },
  {
   "cell_type": "markdown",
   "metadata": {},
   "source": [
    "After we created the numpy array with the importances of the top 20 features, we use it to obtain the desired dataframe."
   ]
  },
  {
   "cell_type": "code",
   "execution_count": 66,
   "metadata": {
    "ExecuteTime": {
     "end_time": "2017-11-20T20:32:21.447522Z",
     "start_time": "2017-11-20T20:32:21.444718Z"
    },
    "collapsed": true
   },
   "outputs": [],
   "source": [
    "df = pd.DataFrame(feat_imp_np)\n",
    "df.columns = feature_names[sorted_indices[:top_features]]"
   ]
  },
  {
   "cell_type": "markdown",
   "metadata": {},
   "source": [
    "Now that we have our dataframe created, we can use the describe method to have a better look at the distribution of the feature importances across the decision trees."
   ]
  },
  {
   "cell_type": "code",
   "execution_count": 67,
   "metadata": {
    "ExecuteTime": {
     "end_time": "2017-11-20T20:32:23.040884Z",
     "start_time": "2017-11-20T20:32:22.998605Z"
    }
   },
   "outputs": [
    {
     "data": {
      "text/html": [
       "<div>\n",
       "<style>\n",
       "    .dataframe thead tr:only-child th {\n",
       "        text-align: right;\n",
       "    }\n",
       "\n",
       "    .dataframe thead th {\n",
       "        text-align: left;\n",
       "    }\n",
       "\n",
       "    .dataframe tbody tr th {\n",
       "        vertical-align: top;\n",
       "    }\n",
       "</style>\n",
       "<table border=\"1\" class=\"dataframe\">\n",
       "  <thead>\n",
       "    <tr style=\"text-align: right;\">\n",
       "      <th></th>\n",
       "      <th>windows</th>\n",
       "      <th>dod</th>\n",
       "      <th>sale</th>\n",
       "      <th>clipper</th>\n",
       "      <th>car</th>\n",
       "      <th>bike</th>\n",
       "      <th>israel</th>\n",
       "      <th>hockey</th>\n",
       "      <th>god</th>\n",
       "      <th>encryption</th>\n",
       "      <th>space</th>\n",
       "      <th>re</th>\n",
       "      <th>team</th>\n",
       "      <th>rutgers</th>\n",
       "      <th>baseball</th>\n",
       "      <th>of</th>\n",
       "      <th>game</th>\n",
       "      <th>athos</th>\n",
       "      <th>cars</th>\n",
       "      <th>the</th>\n",
       "    </tr>\n",
       "  </thead>\n",
       "  <tbody>\n",
       "    <tr>\n",
       "      <th>count</th>\n",
       "      <td>600.000000</td>\n",
       "      <td>600.000000</td>\n",
       "      <td>600.000000</td>\n",
       "      <td>600.000000</td>\n",
       "      <td>600.000000</td>\n",
       "      <td>600.000000</td>\n",
       "      <td>600.000000</td>\n",
       "      <td>600.000000</td>\n",
       "      <td>600.000000</td>\n",
       "      <td>600.000000</td>\n",
       "      <td>600.000000</td>\n",
       "      <td>600.000000</td>\n",
       "      <td>600.000000</td>\n",
       "      <td>600.000000</td>\n",
       "      <td>600.000000</td>\n",
       "      <td>600.000000</td>\n",
       "      <td>600.000000</td>\n",
       "      <td>600.000000</td>\n",
       "      <td>600.000000</td>\n",
       "      <td>600.000000</td>\n",
       "    </tr>\n",
       "    <tr>\n",
       "      <th>mean</th>\n",
       "      <td>0.005288</td>\n",
       "      <td>0.005188</td>\n",
       "      <td>0.004980</td>\n",
       "      <td>0.004132</td>\n",
       "      <td>0.003810</td>\n",
       "      <td>0.003761</td>\n",
       "      <td>0.003582</td>\n",
       "      <td>0.003529</td>\n",
       "      <td>0.003309</td>\n",
       "      <td>0.003255</td>\n",
       "      <td>0.003240</td>\n",
       "      <td>0.003016</td>\n",
       "      <td>0.002922</td>\n",
       "      <td>0.002883</td>\n",
       "      <td>0.002711</td>\n",
       "      <td>0.002657</td>\n",
       "      <td>0.002584</td>\n",
       "      <td>0.002554</td>\n",
       "      <td>0.002511</td>\n",
       "      <td>0.002478</td>\n",
       "    </tr>\n",
       "    <tr>\n",
       "      <th>std</th>\n",
       "      <td>0.009046</td>\n",
       "      <td>0.010389</td>\n",
       "      <td>0.010767</td>\n",
       "      <td>0.009056</td>\n",
       "      <td>0.007018</td>\n",
       "      <td>0.008153</td>\n",
       "      <td>0.007013</td>\n",
       "      <td>0.006998</td>\n",
       "      <td>0.005920</td>\n",
       "      <td>0.007190</td>\n",
       "      <td>0.006052</td>\n",
       "      <td>0.003926</td>\n",
       "      <td>0.005672</td>\n",
       "      <td>0.006335</td>\n",
       "      <td>0.005213</td>\n",
       "      <td>0.003125</td>\n",
       "      <td>0.005445</td>\n",
       "      <td>0.005864</td>\n",
       "      <td>0.005200</td>\n",
       "      <td>0.002492</td>\n",
       "    </tr>\n",
       "    <tr>\n",
       "      <th>min</th>\n",
       "      <td>0.000000</td>\n",
       "      <td>0.000000</td>\n",
       "      <td>0.000000</td>\n",
       "      <td>0.000000</td>\n",
       "      <td>0.000000</td>\n",
       "      <td>0.000000</td>\n",
       "      <td>0.000000</td>\n",
       "      <td>0.000000</td>\n",
       "      <td>0.000000</td>\n",
       "      <td>0.000000</td>\n",
       "      <td>0.000000</td>\n",
       "      <td>0.000000</td>\n",
       "      <td>0.000000</td>\n",
       "      <td>0.000000</td>\n",
       "      <td>0.000000</td>\n",
       "      <td>0.000000</td>\n",
       "      <td>0.000000</td>\n",
       "      <td>0.000000</td>\n",
       "      <td>0.000000</td>\n",
       "      <td>0.000000</td>\n",
       "    </tr>\n",
       "    <tr>\n",
       "      <th>25%</th>\n",
       "      <td>0.000349</td>\n",
       "      <td>0.000000</td>\n",
       "      <td>0.000051</td>\n",
       "      <td>0.000000</td>\n",
       "      <td>0.000140</td>\n",
       "      <td>0.000000</td>\n",
       "      <td>0.000000</td>\n",
       "      <td>0.000000</td>\n",
       "      <td>0.000210</td>\n",
       "      <td>0.000000</td>\n",
       "      <td>0.000087</td>\n",
       "      <td>0.000930</td>\n",
       "      <td>0.000000</td>\n",
       "      <td>0.000000</td>\n",
       "      <td>0.000000</td>\n",
       "      <td>0.001051</td>\n",
       "      <td>0.000000</td>\n",
       "      <td>0.000000</td>\n",
       "      <td>0.000000</td>\n",
       "      <td>0.001135</td>\n",
       "    </tr>\n",
       "    <tr>\n",
       "      <th>50%</th>\n",
       "      <td>0.001575</td>\n",
       "      <td>0.000683</td>\n",
       "      <td>0.000690</td>\n",
       "      <td>0.000588</td>\n",
       "      <td>0.000845</td>\n",
       "      <td>0.000399</td>\n",
       "      <td>0.000419</td>\n",
       "      <td>0.000582</td>\n",
       "      <td>0.000889</td>\n",
       "      <td>0.000452</td>\n",
       "      <td>0.000709</td>\n",
       "      <td>0.001585</td>\n",
       "      <td>0.000457</td>\n",
       "      <td>0.000367</td>\n",
       "      <td>0.000576</td>\n",
       "      <td>0.001696</td>\n",
       "      <td>0.000464</td>\n",
       "      <td>0.000072</td>\n",
       "      <td>0.000197</td>\n",
       "      <td>0.001779</td>\n",
       "    </tr>\n",
       "    <tr>\n",
       "      <th>75%</th>\n",
       "      <td>0.005237</td>\n",
       "      <td>0.004555</td>\n",
       "      <td>0.002946</td>\n",
       "      <td>0.003138</td>\n",
       "      <td>0.003452</td>\n",
       "      <td>0.002942</td>\n",
       "      <td>0.003540</td>\n",
       "      <td>0.003352</td>\n",
       "      <td>0.003761</td>\n",
       "      <td>0.002790</td>\n",
       "      <td>0.003201</td>\n",
       "      <td>0.003043</td>\n",
       "      <td>0.002606</td>\n",
       "      <td>0.002048</td>\n",
       "      <td>0.002495</td>\n",
       "      <td>0.002808</td>\n",
       "      <td>0.002130</td>\n",
       "      <td>0.001664</td>\n",
       "      <td>0.001940</td>\n",
       "      <td>0.002638</td>\n",
       "    </tr>\n",
       "    <tr>\n",
       "      <th>max</th>\n",
       "      <td>0.044330</td>\n",
       "      <td>0.057406</td>\n",
       "      <td>0.058470</td>\n",
       "      <td>0.059699</td>\n",
       "      <td>0.039471</td>\n",
       "      <td>0.044611</td>\n",
       "      <td>0.041434</td>\n",
       "      <td>0.046453</td>\n",
       "      <td>0.037427</td>\n",
       "      <td>0.044768</td>\n",
       "      <td>0.043432</td>\n",
       "      <td>0.019394</td>\n",
       "      <td>0.030083</td>\n",
       "      <td>0.041090</td>\n",
       "      <td>0.030828</td>\n",
       "      <td>0.023886</td>\n",
       "      <td>0.037616</td>\n",
       "      <td>0.037734</td>\n",
       "      <td>0.027423</td>\n",
       "      <td>0.015284</td>\n",
       "    </tr>\n",
       "  </tbody>\n",
       "</table>\n",
       "</div>"
      ],
      "text/plain": [
       "          windows         dod        sale     clipper         car        bike  \\\n",
       "count  600.000000  600.000000  600.000000  600.000000  600.000000  600.000000   \n",
       "mean   0.005288    0.005188    0.004980    0.004132    0.003810    0.003761     \n",
       "std    0.009046    0.010389    0.010767    0.009056    0.007018    0.008153     \n",
       "min    0.000000    0.000000    0.000000    0.000000    0.000000    0.000000     \n",
       "25%    0.000349    0.000000    0.000051    0.000000    0.000140    0.000000     \n",
       "50%    0.001575    0.000683    0.000690    0.000588    0.000845    0.000399     \n",
       "75%    0.005237    0.004555    0.002946    0.003138    0.003452    0.002942     \n",
       "max    0.044330    0.057406    0.058470    0.059699    0.039471    0.044611     \n",
       "\n",
       "           israel      hockey         god  encryption       space          re  \\\n",
       "count  600.000000  600.000000  600.000000  600.000000  600.000000  600.000000   \n",
       "mean   0.003582    0.003529    0.003309    0.003255    0.003240    0.003016     \n",
       "std    0.007013    0.006998    0.005920    0.007190    0.006052    0.003926     \n",
       "min    0.000000    0.000000    0.000000    0.000000    0.000000    0.000000     \n",
       "25%    0.000000    0.000000    0.000210    0.000000    0.000087    0.000930     \n",
       "50%    0.000419    0.000582    0.000889    0.000452    0.000709    0.001585     \n",
       "75%    0.003540    0.003352    0.003761    0.002790    0.003201    0.003043     \n",
       "max    0.041434    0.046453    0.037427    0.044768    0.043432    0.019394     \n",
       "\n",
       "             team     rutgers    baseball          of        game       athos  \\\n",
       "count  600.000000  600.000000  600.000000  600.000000  600.000000  600.000000   \n",
       "mean   0.002922    0.002883    0.002711    0.002657    0.002584    0.002554     \n",
       "std    0.005672    0.006335    0.005213    0.003125    0.005445    0.005864     \n",
       "min    0.000000    0.000000    0.000000    0.000000    0.000000    0.000000     \n",
       "25%    0.000000    0.000000    0.000000    0.001051    0.000000    0.000000     \n",
       "50%    0.000457    0.000367    0.000576    0.001696    0.000464    0.000072     \n",
       "75%    0.002606    0.002048    0.002495    0.002808    0.002130    0.001664     \n",
       "max    0.030083    0.041090    0.030828    0.023886    0.037616    0.037734     \n",
       "\n",
       "             cars         the  \n",
       "count  600.000000  600.000000  \n",
       "mean   0.002511    0.002478    \n",
       "std    0.005200    0.002492    \n",
       "min    0.000000    0.000000    \n",
       "25%    0.000000    0.001135    \n",
       "50%    0.000197    0.001779    \n",
       "75%    0.001940    0.002638    \n",
       "max    0.027423    0.015284    "
      ]
     },
     "execution_count": 67,
     "metadata": {},
     "output_type": "execute_result"
    }
   ],
   "source": [
    "df.describe()"
   ]
  },
  {
   "cell_type": "markdown",
   "metadata": {},
   "source": [
    "We can remark from the values of the quartiles that the features don't have a big importance across all the decision trees, but rather for a subset of it, aproximatively for 25%. This is explainable because decision trees giving importances to different features helps reducing the overfitting characteristic to a decision tree.\n",
    "\n",
    "We can also notice that the mean is comparable with the value of the third quantile which sustains the previous remark regarding the big importance for 25% of the decision trees.\n",
    "\n",
    "What is now left is to plot the 20 most important features with their deviations."
   ]
  },
  {
   "cell_type": "code",
   "execution_count": 27,
   "metadata": {
    "ExecuteTime": {
     "end_time": "2017-11-20T19:39:25.358314Z",
     "start_time": "2017-11-20T19:39:24.636134Z"
    }
   },
   "outputs": [
    {
     "data": {
      "image/png": "[encoded data removed]",
      "text/plain": [
       "<matplotlib.figure.Figure at 0x7f5a4fbcaa90>"
      ]
     },
     "metadata": {},
     "output_type": "display_data"
    }
   ],
   "source": [
    "feature_names = np.array(vectorizer.get_feature_names())\n",
    "top_features = 20 \n",
    "plt.figure()\n",
    "plt.title(\"Words importances\", fontsize=16)\n",
    "plt.bar(range(top_features), mean[sorted_indices[:top_features]],\n",
    "       color=\"r\", yerr=std[sorted_indices[:top_features]], align=\"center\")\n",
    "plt.xticks(range(top_features), feature_names[sorted_indices[:top_features]], rotation='vertical', fontsize=15)\n",
    "plt.xlim([-1, top_features])\n",
    "plt.show()"
   ]
  },
  {
   "cell_type": "code",
   "execution_count": 19,
   "metadata": {
    "ExecuteTime": {
     "end_time": "2017-11-21T14:56:02.214530Z",
     "start_time": "2017-11-21T14:56:02.211486Z"
    }
   },
   "outputs": [
    {
     "data": {
      "text/plain": [
       "['alt.atheism',\n",
       " 'comp.graphics',\n",
       " 'comp.os.ms-windows.misc',\n",
       " 'comp.sys.ibm.pc.hardware',\n",
       " 'comp.sys.mac.hardware',\n",
       " 'comp.windows.x',\n",
       " 'misc.forsale',\n",
       " 'rec.autos',\n",
       " 'rec.motorcycles',\n",
       " 'rec.sport.baseball',\n",
       " 'rec.sport.hockey',\n",
       " 'sci.crypt',\n",
       " 'sci.electronics',\n",
       " 'sci.med',\n",
       " 'sci.space',\n",
       " 'soc.religion.christian',\n",
       " 'talk.politics.guns',\n",
       " 'talk.politics.mideast',\n",
       " 'talk.politics.misc',\n",
       " 'talk.religion.misc']"
      ]
     },
     "execution_count": 19,
     "metadata": {},
     "output_type": "execute_result"
    }
   ],
   "source": [
    "labels_names"
   ]
  },
  {
   "cell_type": "markdown",
   "metadata": {},
   "source": [
    "First thing we notice is the **high variance** in the importance of the features. This is explained by the big number of decision trees in our classifier (600). \n",
    "\n",
    "If we try to analyze the feature importances looking at the words they correspond to, we notice that the classifier is able to identify some topics/key-words in the documents and diferentiate them based on these topics. For example **windows**, which has the biggest averaged importance, is strongly related to the comp.\\* class of subjects. Another example that our classifier manages to select proper keywords from the docs is the high importance our classifier give to the word **god** as it is reasonably to assume that this words is more specific to subjects **alt.atheism** or **soc.religion.christian** than, say, **comp.graphics** which makes it a good feature to differentiate upon."
   ]
  }
 ],
 "metadata": {
  "kernelspec": {
   "display_name": "Python 3",
   "language": "python",
   "name": "python3"
  },
  "language_info": {
   "codemirror_mode": {
    "name": "ipython",
    "version": 3
   },
   "file_extension": ".py",
   "mimetype": "text/x-python",
   "name": "python",
   "nbconvert_exporter": "python",
   "pygments_lexer": "ipython3",
   "version": "3.6.1"
  },
  "toc": {
   "colors": {
    "hover_highlight": "#DAA520",
    "navigate_num": "#000000",
    "navigate_text": "#333333",
    "running_highlight": "#FF0000",
    "selected_highlight": "#FFD700",
    "sidebar_border": "#EEEEEE",
    "wrapper_background": "#FFFFFF"
   },
   "moveMenuLeft": true,
   "nav_menu": {
    "height": "512px",
    "width": "252px"
   },
   "navigate_menu": true,
   "number_sections": true,
   "sideBar": true,
   "threshold": 4,
   "toc_cell": false,
   "toc_section_display": "block",
   "toc_window_display": false,
   "widenNotebook": false
  },
  "varInspector": {
   "cols": {
    "lenName": 16,
    "lenType": 16,
    "lenVar": 40
   },
   "kernels_config": {
    "python": {
     "delete_cmd_postfix": "",
     "delete_cmd_prefix": "del ",
     "library": "var_list.py",
     "varRefreshCmd": "print(var_dic_list())"
    },
    "r": {
     "delete_cmd_postfix": ") ",
     "delete_cmd_prefix": "rm(",
     "library": "var_list.r",
     "varRefreshCmd": "cat(var_dic_list()) "
    }
   },
   "types_to_exclude": [
    "module",
    "function",
    "builtin_function_or_method",
    "instance",
    "_Feature"
   ],
   "window_display": false
  }
 },
 "nbformat": 4,
 "nbformat_minor": 2
}
