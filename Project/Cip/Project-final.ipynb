{
 "cells": [
  {
   "cell_type": "markdown",
   "metadata": {},
   "source": [
    "# What is a tweet's weight?"
   ]
  },
  {
   "cell_type": "code",
   "execution_count": 17,
   "metadata": {
    "collapsed": true
   },
   "outputs": [],
   "source": [
    "import pandas as pd\n",
    "import numpy as np\n",
    "import os\n",
    "%matplotlib inline\n",
    "import matplotlib.pyplot as plt"
   ]
  },
  {
   "cell_type": "markdown",
   "metadata": {},
   "source": [
    "## Importing the dataset"
   ]
  },
  {
   "cell_type": "markdown",
   "metadata": {},
   "source": [
    "For the next task, we will use the condensed datasets, one for each year, starting with 2009 until 2017. The last tweet is written on November 24th, 2017. "
   ]
  },
  {
   "cell_type": "code",
   "execution_count": 6,
   "metadata": {
    "collapsed": true
   },
   "outputs": [],
   "source": [
    "FILES_FOLDER = os.path.join('.', 'Trump_tweets')"
   ]
  },
  {
   "cell_type": "code",
   "execution_count": 12,
   "metadata": {
    "collapsed": true
   },
   "outputs": [],
   "source": [
    "datasets_list = []\n",
    "\n",
    "for year in range(2009, 2018):\n",
    "    CURRENT_FILE = os.path.join(FILES_FOLDER, 'condensed_' + str(year) + '.json')\n",
    "    \n",
    "    current_dataset = pd.read_json(CURRENT_FILE)\n",
    "    datasets_list.append(current_dataset)\n",
    "    \n",
    "condensed_dataset = pd.concat(datasets_list) # concatenate the yearly datasets\n",
    "condensed_dataset = condensed_dataset.drop(['in_reply_to_user_id_str', 'is_retweet', 'id_str'], axis=1) # drop the three columns\n",
    "condensed_dataset = condensed_dataset.set_index('created_at', drop=True) # reindex data by Twitter index\n",
    "condensed_dataset = condensed_dataset.sort_index() # sort the big dataset on the date of Tweets"
   ]
  },
  {
   "cell_type": "code",
   "execution_count": 13,
   "metadata": {},
   "outputs": [
    {
     "data": {
      "text/html": [
       "<div>\n",
       "<style>\n",
       "    .dataframe thead tr:only-child th {\n",
       "        text-align: right;\n",
       "    }\n",
       "\n",
       "    .dataframe thead th {\n",
       "        text-align: left;\n",
       "    }\n",
       "\n",
       "    .dataframe tbody tr th {\n",
       "        vertical-align: top;\n",
       "    }\n",
       "</style>\n",
       "<table border=\"1\" class=\"dataframe\">\n",
       "  <thead>\n",
       "    <tr style=\"text-align: right;\">\n",
       "      <th></th>\n",
       "      <th>favorite_count</th>\n",
       "      <th>retweet_count</th>\n",
       "      <th>source</th>\n",
       "      <th>text</th>\n",
       "    </tr>\n",
       "    <tr>\n",
       "      <th>created_at</th>\n",
       "      <th></th>\n",
       "      <th></th>\n",
       "      <th></th>\n",
       "      <th></th>\n",
       "    </tr>\n",
       "  </thead>\n",
       "  <tbody>\n",
       "    <tr>\n",
       "      <th>2009-05-04 18:54:25</th>\n",
       "      <td>202</td>\n",
       "      <td>253</td>\n",
       "      <td>Twitter Web Client</td>\n",
       "      <td>Be sure to tune in and watch Donald Trump on L...</td>\n",
       "    </tr>\n",
       "    <tr>\n",
       "      <th>2009-05-05 01:00:10</th>\n",
       "      <td>3</td>\n",
       "      <td>2</td>\n",
       "      <td>Twitter Web Client</td>\n",
       "      <td>Donald Trump will be appearing on The View tom...</td>\n",
       "    </tr>\n",
       "    <tr>\n",
       "      <th>2009-05-08 13:38:08</th>\n",
       "      <td>2</td>\n",
       "      <td>3</td>\n",
       "      <td>Twitter Web Client</td>\n",
       "      <td>Donald Trump reads Top Ten Financial Tips on L...</td>\n",
       "    </tr>\n",
       "    <tr>\n",
       "      <th>2009-05-08 20:40:15</th>\n",
       "      <td>27</td>\n",
       "      <td>8</td>\n",
       "      <td>Twitter Web Client</td>\n",
       "      <td>New Blog Post: Celebrity Apprentice Finale and...</td>\n",
       "    </tr>\n",
       "    <tr>\n",
       "      <th>2009-05-12 14:07:28</th>\n",
       "      <td>1950</td>\n",
       "      <td>1421</td>\n",
       "      <td>Twitter Web Client</td>\n",
       "      <td>\"My persona will never be that of a wallflower...</td>\n",
       "    </tr>\n",
       "  </tbody>\n",
       "</table>\n",
       "</div>"
      ],
      "text/plain": [
       "                     favorite_count  retweet_count              source  \\\n",
       "created_at                                                               \n",
       "2009-05-04 18:54:25             202            253  Twitter Web Client   \n",
       "2009-05-05 01:00:10               3              2  Twitter Web Client   \n",
       "2009-05-08 13:38:08               2              3  Twitter Web Client   \n",
       "2009-05-08 20:40:15              27              8  Twitter Web Client   \n",
       "2009-05-12 14:07:28            1950           1421  Twitter Web Client   \n",
       "\n",
       "                                                                  text  \n",
       "created_at                                                              \n",
       "2009-05-04 18:54:25  Be sure to tune in and watch Donald Trump on L...  \n",
       "2009-05-05 01:00:10  Donald Trump will be appearing on The View tom...  \n",
       "2009-05-08 13:38:08  Donald Trump reads Top Ten Financial Tips on L...  \n",
       "2009-05-08 20:40:15  New Blog Post: Celebrity Apprentice Finale and...  \n",
       "2009-05-12 14:07:28  \"My persona will never be that of a wallflower...  "
      ]
     },
     "execution_count": 13,
     "metadata": {},
     "output_type": "execute_result"
    }
   ],
   "source": [
    "condensed_dataset.head()"
   ]
  },
  {
   "cell_type": "markdown",
   "metadata": {},
   "source": [
    "As we can observe, the columns available can give a lot of insight, with:\n",
    "\n",
    "* **created_at**: the exact second of posting Tweet\n",
    "* **favorite_count**: the number of *favorites* the tweet got\n",
    "* **retweet_count**: the number of *retweets* the tweet got\n",
    "* **text**: the actual tweet text\n",
    "* **source**: the client used for posting the tweet, which can be Twitter Web Client, Twitter for Android or iPhone and so on.\n",
    "\n",
    "We decided to drop the columns *in_reply_to_user_id_str*, *is_retweet* and *id_str* for the start, as we think it cannot give us information for the tasks we want to perform."
   ]
  },
  {
   "cell_type": "markdown",
   "metadata": {},
   "source": [
    "# Are Trump's tweets getting more rude over time?"
   ]
  },
  {
   "cell_type": "markdown",
   "metadata": {},
   "source": [
    "One of the first research questions we ask is if the tweets are getting more rude or maybe less rude over time, and especially after Trump became a presidential candidate. We know that while he was a running for presidency, he used a lot of negative words against his opponents, especially Hillary Clinton:"
   ]
  },
  {
   "cell_type": "markdown",
   "metadata": {},
   "source": [
    "<img src=\"crooked_hilary.png\">"
   ]
  },
  {
   "cell_type": "markdown",
   "metadata": {},
   "source": [
    "Also, after becoming president, he posted some very acid tweets, as we can see below:"
   ]
  },
  {
   "cell_type": "markdown",
   "metadata": {},
   "source": [
    "<img src=\"kim.png\">"
   ]
  },
  {
   "cell_type": "markdown",
   "metadata": {},
   "source": [
    "We want to stress out a very important aspect of this analysis. For other types of media, like newspapers or TV, there exists a reporter and an editorial board, who decide exactly what gets published and what not, and also the meaning of the words might get interpreted in a different way than intended. Therefore, an analysis in such a context would require further investigations, because it might be the case that the media tries to use a more acid language just to increase the rating.\n",
    "\n",
    "However, this is not the case for Twitter, where the person decides exactly what to post, and also the language. Therefore, an overall increase or decrease in the number of rude words is directly related to the person posting the tweets, without involving other third parties that might filter the information.\n",
    "\n",
    "---"
   ]
  },
  {
   "cell_type": "markdown",
   "metadata": {},
   "source": [
    "Therefore, for realizing this task, we thought to use different approaches, such as analysis of the *usage of words with negative impact*, *sentiment analysis* on the tweets and then using *emotions associated to different words*, to be able to expand the sphere of action from a two-class result (*positive* vs *negative* sentiment) to a broader class result, associated with *emotions*.\n",
    "\n",
    "For this, we need to process the tweets, and that involves Natural Language Processing (NLP) techniques."
   ]
  },
  {
   "cell_type": "markdown",
   "metadata": {},
   "source": [
    "## A little bit of NLP never hurts"
   ]
  },
  {
   "cell_type": "markdown",
   "metadata": {},
   "source": [
    "For basic NLP tasks such as *word tokenization*, *Part of Speech (POS) tagging* and *lemmatization*, we will use a Python library called nltk - *Natural Language ToolKit*. We decided to download all the corpuses available, so installation of the library is pretty straightforward, with this commands in the Command Line:\n",
    "\n",
    "* conda install nltk\n",
    "* python -m nltk.downloader all\n",
    "\n",
    "Then, we can import nltk library:"
   ]
  },
  {
   "cell_type": "code",
   "execution_count": 18,
   "metadata": {
    "collapsed": true
   },
   "outputs": [],
   "source": [
    "import nltk"
   ]
  },
  {
   "cell_type": "markdown",
   "metadata": {},
   "source": [
    "### Initial tweet processing"
   ]
  },
  {
   "cell_type": "markdown",
   "metadata": {},
   "source": [
    "The basic NLP pipeline would follow like this:\n",
    "* First , we want to *extract the hashtags* from the tweet for further analysis\n",
    "* Then, *delete links, retweet handles and special characters* such as &amp;\n",
    "* After that, *remove stop words*, using a predefined list of stop words in the nltk corpus and also a handcrafted list\n",
    "* Finally, delete punctuation signs from tweet.\n",
    "\n",
    "The result of the processing pipeline would be a list of words, every one of them being meaningful, which can then be given to the next layer of processing.\n",
    "\n",
    "\n",
    "---\n",
    "\n",
    "The function that extracts the hashtags is defined below:"
   ]
  },
  {
   "cell_type": "code",
   "execution_count": 22,
   "metadata": {
    "collapsed": true
   },
   "outputs": [],
   "source": [
    "import re # import re package for regex manipulation"
   ]
  },
  {
   "cell_type": "code",
   "execution_count": 23,
   "metadata": {
    "collapsed": true
   },
   "outputs": [],
   "source": [
    "def extract_hashtags(tweet):\n",
    "    '''Function that extracts the hashtags from a tweet'''\n",
    "    \n",
    "    hashtags = [hashtag[:-1] for hashtag in re.findall('#[^\\s]+\\s', tweet)]\n",
    "    return hashtags"
   ]
  },
  {
   "cell_type": "markdown",
   "metadata": {},
   "source": [
    "The function that removes unwanted parts of tweet is defined in the next cell:"
   ]
  },
  {
   "cell_type": "code",
   "execution_count": 24,
   "metadata": {
    "collapsed": true
   },
   "outputs": [],
   "source": [
    "def remove_unwanted(tweet):\n",
    "    '''Function that simply removes unwanted parts of tweet, such as links, retweet handles and weird characters.'''\n",
    "    \n",
    "    to_delete = ['&amp;', 'RT @[a-zA-Z0-9 ]+:', ' @[a-zA-Z0-9 ]+:',\n",
    "                 '(http|ftp|https)://([\\w_-]+(?:(?:\\.[\\w_-]+)+))([\\w.,@?^=%&:/~+#-]*[\\w@?^=%&/~+#-])?']\n",
    "    tweet_processed = tweet\n",
    "    \n",
    "    for expression in to_delete:\n",
    "        tweet_processed = re.sub(expression, '', tweet_processed)\n",
    "        \n",
    "    return tweet_processed"
   ]
  },
  {
   "cell_type": "markdown",
   "metadata": {},
   "source": [
    "Next, we need to remove the stopwords in the tweet, i.e. words that only make the link between the important words, e.g. *for*, *and* and so on. Usually, the stop words bear no semantic significance, so we can actually reemove them from our list. A good corpus with stopwords for English language is present in nltk package:"
   ]
  },
  {
   "cell_type": "code",
   "execution_count": 25,
   "metadata": {
    "collapsed": true
   },
   "outputs": [],
   "source": [
    "from nltk.corpus import stopwords"
   ]
  },
  {
   "cell_type": "markdown",
   "metadata": {},
   "source": [
    "We can now write the function that removes the stopwords from the list:"
   ]
  },
  {
   "cell_type": "code",
   "execution_count": 34,
   "metadata": {
    "collapsed": true
   },
   "outputs": [],
   "source": [
    "def remove_stop_words(words):\n",
    "    '''Function that removes the stopwords from the words list.'''\n",
    "    \n",
    "    extra_list = [\"'s\", \"n't\", ]\n",
    "    \n",
    "    filter_function = lambda x: (x.lower() not in extra_list) and (x.lower() not in (stopwords.words('english'))) \n",
    "    # the filtering function, i.e. only takes into consideration words that are not in stopword corpus or hand-crafted list\n",
    "    # considers only lower-case words, but outputs the words as they were initially written.\n",
    "    \n",
    "    processed = list(filter(filter_function, words))\n",
    "    return processed"
   ]
  },
  {
   "cell_type": "markdown",
   "metadata": {},
   "source": [
    "Last point of the pipeline, we delete the punctuation marks in the tweet:"
   ]
  },
  {
   "cell_type": "code",
   "execution_count": 28,
   "metadata": {
    "collapsed": true
   },
   "outputs": [],
   "source": [
    "def delete_punctuations(words):\n",
    "    '''Function that deletes the punctuation marks in the list of words.'''\n",
    "    \n",
    "    punctuation_marks = [\".\", \"?\", \"!\", \":\", \";\", \"-\", \"(\", \")\", \"[\", \"]\", \"...\", \"\\\"\", \",\",'“', '\"', \"'\", \"”\", '``', \"''\", '@', '#', \"’\", '&']\n",
    "    \n",
    "    return list(filter(lambda x: x not in punctuation_marks, words))"
   ]
  },
  {
   "cell_type": "markdown",
   "metadata": {
    "collapsed": true
   },
   "source": [
    "Finally, we can use all the previous defined functions, so that we create the basic NLP processing function for a single tweet. The function returns the list of meaningful words in the tweet, in the exact initial form, i.e. not lower-cased. Also, it returns the list of used hashtags, that might be useful for future processing:"
   ]
  },
  {
   "cell_type": "code",
   "execution_count": 29,
   "metadata": {
    "collapsed": true
   },
   "outputs": [],
   "source": [
    "def process_tweet(tweet):\n",
    "    '''Function that processes the tweet, as specified above.'''\n",
    "    \n",
    "    hashtags = extract_hashtags(tweet) # extracts hashtags\n",
    "    tweet = remove_unwanted(tweet) # remove unwanted parts\n",
    "    words = nltk.word_tokenize(tweet) # tokenize tweet into words\n",
    "    no_stop_words = remove_stop_words(words) # remove stopwords\n",
    "    no_punctuation = delete_punctuations(no_stop_words) # delete punctuation marks\n",
    "    \n",
    "    return no_punctuation, hashtags"
   ]
  },
  {
   "cell_type": "markdown",
   "metadata": {},
   "source": [
    "Let's see how our function works on a real tweet:"
   ]
  },
  {
   "cell_type": "code",
   "execution_count": 42,
   "metadata": {},
   "outputs": [
    {
     "name": "stdout",
     "output_type": "stream",
     "text": [
      "Welcome to the new reality. Goldman Sachs just based their new Asia Pacific chairman not in Tokyo, but Beijing.  http://t.co/wNWdZjTE\n",
      "(['Welcome', 'new', 'reality', 'Goldman', 'Sachs', 'based', 'new', 'Asia', 'Pacific', 'chairman', 'Tokyo', 'Beijing'], [])\n"
     ]
    }
   ],
   "source": [
    "print(condensed_dataset.iloc[2017].text)\n",
    "print(process_tweet(condensed_dataset.iloc[2017].text))"
   ]
  },
  {
   "cell_type": "markdown",
   "metadata": {},
   "source": [
    "We can say that the function does exactly what we intended, so we can move on to the next parts."
   ]
  },
  {
   "cell_type": "markdown",
   "metadata": {},
   "source": [
    "### Counting negative words"
   ]
  },
  {
   "cell_type": "markdown",
   "metadata": {},
   "source": [
    "The first research idea is to see the trend of the negative words in tweets. We used a corpus of almost 4800 words with negative impact, which can be found at [the GitHub page](https://github.com/jeffreybreen/twitter-sentiment-analysis-tutorial-201107/blob/master/data/opinion-lexicon-English/negative-words.txt), and also was used in the paper:\n",
    "\n",
    "Minqing Hu and Bing Liu. \"Mining and Summarizing Customer Reviews.\", Proceedings of the ACM SIGKDD International Conference on Knowledge Discovery and Data Mining (KDD-2004), Aug 22-25, 2004, Seattle, Washington, USA."
   ]
  },
  {
   "cell_type": "code",
   "execution_count": 43,
   "metadata": {
    "collapsed": true
   },
   "outputs": [],
   "source": [
    "with open(os.path.join('.', 'negative_words.txt')) as f:\n",
    "    negative_words = set(map(str.strip, f.readlines()))   "
   ]
  },
  {
   "cell_type": "markdown",
   "metadata": {},
   "source": [
    "Next, we might want to assess how many negative words a tweet has, which we can do using the next function:"
   ]
  },
  {
   "cell_type": "code",
   "execution_count": 46,
   "metadata": {
    "collapsed": true
   },
   "outputs": [],
   "source": [
    "def count_negative_words_in_tweet(tweet):\n",
    "    '''Function that counts how many negative words are contained in the negative dataset.'''\n",
    "    \n",
    "    tweet_words_processed = set(process_tweet(tweet)[0]) # create a set of the meaningful words in the tweet\n",
    "    return len(tweet_words_processed.intersection(negative_words)) # return the number of negative words in the tweet"
   ]
  },
  {
   "cell_type": "markdown",
   "metadata": {},
   "source": [
    "Finally, we can create a new column in the dataset, which represents how many negative words the tweet contains:"
   ]
  },
  {
   "cell_type": "code",
   "execution_count": 47,
   "metadata": {},
   "outputs": [],
   "source": [
    "condensed_dataset['negative_words'] = condensed_dataset.text.apply(count_negative_words_in_tweet)"
   ]
  },
  {
   "cell_type": "code",
   "execution_count": 48,
   "metadata": {},
   "outputs": [
    {
     "data": {
      "text/html": [
       "<div>\n",
       "<style>\n",
       "    .dataframe thead tr:only-child th {\n",
       "        text-align: right;\n",
       "    }\n",
       "\n",
       "    .dataframe thead th {\n",
       "        text-align: left;\n",
       "    }\n",
       "\n",
       "    .dataframe tbody tr th {\n",
       "        vertical-align: top;\n",
       "    }\n",
       "</style>\n",
       "<table border=\"1\" class=\"dataframe\">\n",
       "  <thead>\n",
       "    <tr style=\"text-align: right;\">\n",
       "      <th></th>\n",
       "      <th>favorite_count</th>\n",
       "      <th>retweet_count</th>\n",
       "      <th>source</th>\n",
       "      <th>text</th>\n",
       "      <th>negative_words</th>\n",
       "    </tr>\n",
       "    <tr>\n",
       "      <th>created_at</th>\n",
       "      <th></th>\n",
       "      <th></th>\n",
       "      <th></th>\n",
       "      <th></th>\n",
       "      <th></th>\n",
       "    </tr>\n",
       "  </thead>\n",
       "  <tbody>\n",
       "    <tr>\n",
       "      <th>2012-06-09 22:38:36</th>\n",
       "      <td>21</td>\n",
       "      <td>58</td>\n",
       "      <td>Twitter Web Client</td>\n",
       "      <td>Miss Florida was great in her denial of Miss P...</td>\n",
       "      <td>1</td>\n",
       "    </tr>\n",
       "    <tr>\n",
       "      <th>2012-06-11 16:27:10</th>\n",
       "      <td>39</td>\n",
       "      <td>360</td>\n",
       "      <td>Twitter Web Client</td>\n",
       "      <td>.@MannyPacquiao was robbed in his title fight ...</td>\n",
       "      <td>1</td>\n",
       "    </tr>\n",
       "    <tr>\n",
       "      <th>2012-06-11 16:41:37</th>\n",
       "      <td>18</td>\n",
       "      <td>64</td>\n",
       "      <td>Twitter Web Client</td>\n",
       "      <td>With almost 1.3 million followers and rising r...</td>\n",
       "      <td>1</td>\n",
       "    </tr>\n",
       "    <tr>\n",
       "      <th>2012-06-11 17:10:13</th>\n",
       "      <td>31</td>\n",
       "      <td>107</td>\n",
       "      <td>Twitter Web Client</td>\n",
       "      <td>\"Donald Trump\" song is up to almost 60 million...</td>\n",
       "      <td>1</td>\n",
       "    </tr>\n",
       "    <tr>\n",
       "      <th>2012-06-11 17:34:01</th>\n",
       "      <td>11</td>\n",
       "      <td>71</td>\n",
       "      <td>Twitter Web Client</td>\n",
       "      <td>Last Friday's gaffe by @BarackObama claiming t...</td>\n",
       "      <td>1</td>\n",
       "    </tr>\n",
       "  </tbody>\n",
       "</table>\n",
       "</div>"
      ],
      "text/plain": [
       "                     favorite_count  retweet_count              source  \\\n",
       "created_at                                                               \n",
       "2012-06-09 22:38:36              21             58  Twitter Web Client   \n",
       "2012-06-11 16:27:10              39            360  Twitter Web Client   \n",
       "2012-06-11 16:41:37              18             64  Twitter Web Client   \n",
       "2012-06-11 17:10:13              31            107  Twitter Web Client   \n",
       "2012-06-11 17:34:01              11             71  Twitter Web Client   \n",
       "\n",
       "                                                                  text  \\\n",
       "created_at                                                               \n",
       "2012-06-09 22:38:36  Miss Florida was great in her denial of Miss P...   \n",
       "2012-06-11 16:27:10  .@MannyPacquiao was robbed in his title fight ...   \n",
       "2012-06-11 16:41:37  With almost 1.3 million followers and rising r...   \n",
       "2012-06-11 17:10:13  \"Donald Trump\" song is up to almost 60 million...   \n",
       "2012-06-11 17:34:01  Last Friday's gaffe by @BarackObama claiming t...   \n",
       "\n",
       "                     negative_words  \n",
       "created_at                           \n",
       "2012-06-09 22:38:36               1  \n",
       "2012-06-11 16:27:10               1  \n",
       "2012-06-11 16:41:37               1  \n",
       "2012-06-11 17:10:13               1  \n",
       "2012-06-11 17:34:01               1  "
      ]
     },
     "execution_count": 48,
     "metadata": {},
     "output_type": "execute_result"
    }
   ],
   "source": [
    "condensed_dataset_dataseted_dataset[2000:2005]"
   ]
  },
  {
   "cell_type": "markdown",
   "metadata": {},
   "source": [
    "Having this information, we might want to plot the average number of negative words used each two months, which we will do below:"
   ]
  },
  {
   "cell_type": "code",
   "execution_count": 67,
   "metadata": {},
   "outputs": [
    {
     "data": {
      "text/plain": [
       "<matplotlib.legend.Legend at 0x189158ec8d0>"
      ]
     },
     "execution_count": 67,
     "metadata": {},
     "output_type": "execute_result"
    },
    {
     "data": {
      "image/png": "[encoded data removed]",
      "text/plain": [
       "<matplotlib.figure.Figure at 0x189167516d8>"
      ]
     },
     "metadata": {},
     "output_type": "display_data"
    }
   ],
   "source": [
    "monthly_negative_words = condensed_dataset['negative_words'].groupby(pd.TimeGrouper(freq='2M')).mean()\n",
    "monthly_negative_words.plot(grid=True, label='avg_negative_words', color='blue', ylim=(-0.2, 0.8), figsize =(16,8))\n",
    "plt.legend(loc='upper right')"
   ]
  },
  {
   "cell_type": "markdown",
   "metadata": {},
   "source": [
    "We can see that the number of bad words used was really low in the first two years, then followed by a sudden increase in 2011,  a continuous decrease until mid-2015 and then again a continuous increase starting with mid-2015 until 2017. Knowing that he announced his presidential candidacy in June 2015, we might correlate his increase in negative words with his fight for the presidency and then maybe for his tries to prove he is a \"strong\" leader. \n",
    "\n",
    "---\n",
    "\n",
    "We feel like this point of view should be investigated more closely, with a wider dataset or maybe on some different sub-datasets, which will be presented in a next section."
   ]
  },
  {
   "cell_type": "markdown",
   "metadata": {},
   "source": [
    "### Performing tweets sentiment analysis"
   ]
  },
  {
   "cell_type": "markdown",
   "metadata": {},
   "source": [
    "Next idea would be to consider a sentiment analysis classifier, to analyze the sentiment of each tweet and then look for major changes in the sentiment of the tweets as a time-series.\n",
    "\n",
    "For sentiment analysis we decided to use a classifier in the nltk package, namely **VADER**. As presented [in this link](http://t-redactyl.io/blog/2017/04/using-vader-to-handle-sentiment-analysis-with-social-media-text.html), VADER assigns a sentiment score for each word, realized using crowd-sourcing on *Amazon Mechanical Turk*. In a nutshell, VADER looks not only at scores for words, but also at capitalisation of letters and expressions such as **extremely** bad, which should increase the negativity of the score, in this case. Also, this is one of the main reasons we decided to keep text exactly as it was initially and not change letters to lower. More information could be found in the initial [paper](http://comp.social.gatech.edu/papers/icwsm14.vader.hutto.pdf). \n",
    "\n",
    "A thing that should be mentioned is that this method does not use Machine Learning techniques for classification, therefore we might want to look more into further methods. Therefore, we first create an instance of the sentiment analyzer:"
   ]
  },
  {
   "cell_type": "code",
   "execution_count": 56,
   "metadata": {
    "collapsed": true
   },
   "outputs": [],
   "source": [
    "from nltk.sentiment.vader import SentimentIntensityAnalyzer\n",
    "\n",
    "sid = SentimentIntensityAnalyzer()"
   ]
  },
  {
   "cell_type": "markdown",
   "metadata": {},
   "source": [
    "Then, we would want to create a new column, where we could keep the sentiment for each tweet. For that, we can use the following method: "
   ]
  },
  {
   "cell_type": "code",
   "execution_count": 57,
   "metadata": {
    "collapsed": true
   },
   "outputs": [],
   "source": [
    "condensed_dataset['sentiment'] = condensed_dataset.text.map(lambda x: sid.polarity_scores(x)['compound'])"
   ]
  },
  {
   "cell_type": "markdown",
   "metadata": {},
   "source": [
    "Then, a plot of the average sentiment every two months is realized below:"
   ]
  },
  {
   "cell_type": "code",
   "execution_count": null,
   "metadata": {},
   "outputs": [],
   "source": [
    "monthly_sentiment = condensed_dataset['sentiment'].groupby(pd.TimeGrouper(freq='2M')).mean()\n",
    "monthly_sentiment.plot(grid=True, label='avg_sentiment', color='blue', ylim=(-0.2, 0.8), figsize =(16,8))\n",
    "plt.legend(loc='upper right')"
   ]
  },
  {
   "cell_type": "markdown",
   "metadata": {},
   "source": [
    "We can see that the current plot can be interpreted exactly as the one before, where we could see a decrease in positivity between 2011 and 2012, then an increase until 2015 and then again a decrease. Again, the signal is not very strong, but there might be imbalanced features present, and after balancing them we might actually get some good results.\n",
    "\n",
    "---\n",
    "\n",
    "Also, for a good result using ML techniques, we might use [*Google Sentiment Analysis Tool*](https://cloud.google.com/natural-language/docs/sentiment-tutorial), which will be tried for the next milestone, supposing that the Google product is one reference classifier for sentiment analysis. "
   ]
  },
  {
   "cell_type": "markdown",
   "metadata": {},
   "source": [
    "### Using words emotion valence"
   ]
  },
  {
   "cell_type": "markdown",
   "metadata": {},
   "source": [
    "The third tried method is to move from sentiment analysis, which has only two outputs (positive or negative), to emotions, which have a bigger number of outputs. Therefore, we could use words emotions valence, i.e. scores assigned to a list of words, for how likely it is that each word has a specific emotion. For that, we could use the [**Depeche Mood**](https://github.com/marcoguerini/DepecheMood/releases) dataset, which has over 37K words associated with emotions scores, for each one of this emotions:\n",
    "* AFRAID\n",
    "* AMUSED\n",
    "* ANGRY\n",
    "* ANNOYED\n",
    "* DONT_CARE\n",
    "* HAPPY\n",
    "* INSPIRED\n",
    "* SAD\n",
    "\n",
    "We import the dataset below and take a short look at some random 10 entries:"
   ]
  },
  {
   "cell_type": "code",
   "execution_count": 69,
   "metadata": {},
   "outputs": [
    {
     "data": {
      "text/html": [
       "<div>\n",
       "<style>\n",
       "    .dataframe thead tr:only-child th {\n",
       "        text-align: right;\n",
       "    }\n",
       "\n",
       "    .dataframe thead th {\n",
       "        text-align: left;\n",
       "    }\n",
       "\n",
       "    .dataframe tbody tr th {\n",
       "        vertical-align: top;\n",
       "    }\n",
       "</style>\n",
       "<table border=\"1\" class=\"dataframe\">\n",
       "  <thead>\n",
       "    <tr style=\"text-align: right;\">\n",
       "      <th></th>\n",
       "      <th>Lemma#PoS</th>\n",
       "      <th>AFRAID</th>\n",
       "      <th>AMUSED</th>\n",
       "      <th>ANGRY</th>\n",
       "      <th>ANNOYED</th>\n",
       "      <th>DONT_CARE</th>\n",
       "      <th>HAPPY</th>\n",
       "      <th>INSPIRED</th>\n",
       "      <th>SAD</th>\n",
       "    </tr>\n",
       "  </thead>\n",
       "  <tbody>\n",
       "    <tr>\n",
       "      <th>2000</th>\n",
       "      <td>asphalt#v</td>\n",
       "      <td>0.000000</td>\n",
       "      <td>0.455288</td>\n",
       "      <td>0.000000</td>\n",
       "      <td>0.233177</td>\n",
       "      <td>0.218037</td>\n",
       "      <td>0.000000</td>\n",
       "      <td>0.000000</td>\n",
       "      <td>0.093499</td>\n",
       "    </tr>\n",
       "    <tr>\n",
       "      <th>2001</th>\n",
       "      <td>asphyxia#n</td>\n",
       "      <td>0.000000</td>\n",
       "      <td>0.000000</td>\n",
       "      <td>0.214225</td>\n",
       "      <td>0.368184</td>\n",
       "      <td>0.000000</td>\n",
       "      <td>0.000000</td>\n",
       "      <td>0.000000</td>\n",
       "      <td>0.417591</td>\n",
       "    </tr>\n",
       "    <tr>\n",
       "      <th>2002</th>\n",
       "      <td>asphyxiate#v</td>\n",
       "      <td>0.125000</td>\n",
       "      <td>0.125000</td>\n",
       "      <td>0.125000</td>\n",
       "      <td>0.125000</td>\n",
       "      <td>0.125000</td>\n",
       "      <td>0.125000</td>\n",
       "      <td>0.125000</td>\n",
       "      <td>0.125000</td>\n",
       "    </tr>\n",
       "    <tr>\n",
       "      <th>2003</th>\n",
       "      <td>asphyxiation#n</td>\n",
       "      <td>0.039041</td>\n",
       "      <td>0.000000</td>\n",
       "      <td>0.238446</td>\n",
       "      <td>0.026706</td>\n",
       "      <td>0.034577</td>\n",
       "      <td>0.000000</td>\n",
       "      <td>0.000000</td>\n",
       "      <td>0.661231</td>\n",
       "    </tr>\n",
       "    <tr>\n",
       "      <th>2004</th>\n",
       "      <td>aspirant#n</td>\n",
       "      <td>0.073484</td>\n",
       "      <td>0.147461</td>\n",
       "      <td>0.171933</td>\n",
       "      <td>0.238579</td>\n",
       "      <td>0.148417</td>\n",
       "      <td>0.108419</td>\n",
       "      <td>0.054856</td>\n",
       "      <td>0.056852</td>\n",
       "    </tr>\n",
       "    <tr>\n",
       "      <th>2005</th>\n",
       "      <td>aspiration#n</td>\n",
       "      <td>0.149646</td>\n",
       "      <td>0.108822</td>\n",
       "      <td>0.070699</td>\n",
       "      <td>0.124269</td>\n",
       "      <td>0.145628</td>\n",
       "      <td>0.125095</td>\n",
       "      <td>0.179783</td>\n",
       "      <td>0.096058</td>\n",
       "    </tr>\n",
       "    <tr>\n",
       "      <th>2006</th>\n",
       "      <td>aspire#v</td>\n",
       "      <td>0.108132</td>\n",
       "      <td>0.133935</td>\n",
       "      <td>0.075823</td>\n",
       "      <td>0.131043</td>\n",
       "      <td>0.129200</td>\n",
       "      <td>0.114679</td>\n",
       "      <td>0.225105</td>\n",
       "      <td>0.082085</td>\n",
       "    </tr>\n",
       "    <tr>\n",
       "      <th>2007</th>\n",
       "      <td>aspirin#n</td>\n",
       "      <td>0.079129</td>\n",
       "      <td>0.237204</td>\n",
       "      <td>0.185007</td>\n",
       "      <td>0.050172</td>\n",
       "      <td>0.130326</td>\n",
       "      <td>0.134831</td>\n",
       "      <td>0.009180</td>\n",
       "      <td>0.174151</td>\n",
       "    </tr>\n",
       "    <tr>\n",
       "      <th>2008</th>\n",
       "      <td>aspiring#a</td>\n",
       "      <td>0.066070</td>\n",
       "      <td>0.083700</td>\n",
       "      <td>0.123111</td>\n",
       "      <td>0.167108</td>\n",
       "      <td>0.175827</td>\n",
       "      <td>0.111036</td>\n",
       "      <td>0.168852</td>\n",
       "      <td>0.104297</td>\n",
       "    </tr>\n",
       "    <tr>\n",
       "      <th>2009</th>\n",
       "      <td>ass#n</td>\n",
       "      <td>0.090754</td>\n",
       "      <td>0.253146</td>\n",
       "      <td>0.158853</td>\n",
       "      <td>0.123856</td>\n",
       "      <td>0.124280</td>\n",
       "      <td>0.066958</td>\n",
       "      <td>0.123809</td>\n",
       "      <td>0.058344</td>\n",
       "    </tr>\n",
       "  </tbody>\n",
       "</table>\n",
       "</div>"
      ],
      "text/plain": [
       "           Lemma#PoS    AFRAID    AMUSED     ANGRY   ANNOYED  DONT_CARE  \\\n",
       "2000       asphalt#v  0.000000  0.455288  0.000000  0.233177   0.218037   \n",
       "2001      asphyxia#n  0.000000  0.000000  0.214225  0.368184   0.000000   \n",
       "2002    asphyxiate#v  0.125000  0.125000  0.125000  0.125000   0.125000   \n",
       "2003  asphyxiation#n  0.039041  0.000000  0.238446  0.026706   0.034577   \n",
       "2004      aspirant#n  0.073484  0.147461  0.171933  0.238579   0.148417   \n",
       "2005    aspiration#n  0.149646  0.108822  0.070699  0.124269   0.145628   \n",
       "2006        aspire#v  0.108132  0.133935  0.075823  0.131043   0.129200   \n",
       "2007       aspirin#n  0.079129  0.237204  0.185007  0.050172   0.130326   \n",
       "2008      aspiring#a  0.066070  0.083700  0.123111  0.167108   0.175827   \n",
       "2009           ass#n  0.090754  0.253146  0.158853  0.123856   0.124280   \n",
       "\n",
       "         HAPPY  INSPIRED       SAD  \n",
       "2000  0.000000  0.000000  0.093499  \n",
       "2001  0.000000  0.000000  0.417591  \n",
       "2002  0.125000  0.125000  0.125000  \n",
       "2003  0.000000  0.000000  0.661231  \n",
       "2004  0.108419  0.054856  0.056852  \n",
       "2005  0.125095  0.179783  0.096058  \n",
       "2006  0.114679  0.225105  0.082085  \n",
       "2007  0.134831  0.009180  0.174151  \n",
       "2008  0.111036  0.168852  0.104297  \n",
       "2009  0.066958  0.123809  0.058344  "
      ]
     },
     "execution_count": 69,
     "metadata": {},
     "output_type": "execute_result"
    }
   ],
   "source": [
    "EMOTIONS_FILE = os.path.join('.', 'DepecheMood_V1.0', 'DepecheMood_tfidf.txt')\n",
    "\n",
    "emotions_df = pd.read_csv(EMOTIONS_FILE, sep='\\t')\n",
    "emotions_df[2000:2010]"
   ]
  },
  {
   "cell_type": "markdown",
   "metadata": {},
   "source": [
    "We can see that besides the word, we will need to have the associated Part of Speech, and also the word is represented by a root, and not a derived form (such as *aspirations* for *aspiration*), for example. Therefore, we might want to change the processing function of a tweet, written at first point, to also include the Part of Speech of each word, and also to extract the root of the word, process called *lemmatization*. This is all done below, in the exact same manner as for the previous task:"
   ]
  },
  {
   "cell_type": "code",
   "execution_count": 71,
   "metadata": {
    "collapsed": true
   },
   "outputs": [],
   "source": [
    "def remove_stop_words_pos(words_pos):\n",
    "    '''Function that removes the stopwords from the given list. The list has the form [(word, pos)], as opposed to the first\n",
    "    case, where it was only [word].'''\n",
    "    \n",
    "    extra_list = [\"'s\", \"n't\"]\n",
    "\n",
    "    filter_function = lambda x: (x[0] not in extra_list) and (x[0] not in (stopwords.words('english'))) \n",
    "    # the filtering function, i.e. only takes into consideration words that are not in stopword corpus or hand-crafted list\n",
    "    # note that only the words are taken into consideration, and words are on the first position of the pair.\n",
    "    \n",
    "    processed = list(filter(filter_function, words_pos))\n",
    "    return processed"
   ]
  },
  {
   "cell_type": "code",
   "execution_count": 72,
   "metadata": {
    "collapsed": true
   },
   "outputs": [],
   "source": [
    "def delete_punctuations_pos(words):\n",
    "    '''Function that removes the punctuation marks from the given list, which has the format [(word, pos)].'''\n",
    "    \n",
    "    punctuation_marks = [\".\", \"?\", \"!\", \":\", \";\", \"-\", \"(\", \")\", \"[\", \"]\", \"...\", \"\\\"\", \",\",'“', '\"', \"'\", \"”\", '``', \"''\", '@', '#', \"’\", '&']\n",
    "    return list(filter(lambda x: x[0] not in punctuation_marks, words))"
   ]
  },
  {
   "cell_type": "markdown",
   "metadata": {},
   "source": [
    "For lemmatization and POS tagging, we will use also nltk corpuses, as defined below:"
   ]
  },
  {
   "cell_type": "code",
   "execution_count": 74,
   "metadata": {
    "collapsed": true
   },
   "outputs": [],
   "source": [
    "from nltk.stem.wordnet import WordNetLemmatizer\n",
    "from nltk.corpus import wordnet\n",
    "\n",
    "lemmatizer = WordNetLemmatizer()"
   ]
  },
  {
   "cell_type": "markdown",
   "metadata": {},
   "source": [
    "The wordnet lemmatizer has different POS tags than the nltk ones, so we need a function to convert between the two:"
   ]
  },
  {
   "cell_type": "code",
   "execution_count": 75,
   "metadata": {
    "collapsed": true
   },
   "outputs": [],
   "source": [
    "def get_wordnet_pos(treebank_tag):\n",
    "    '''Function that transforms nltk tag to wordnet tag'''\n",
    "    \n",
    "    if treebank_tag.startswith('J'):\n",
    "        return wordnet.ADJ\n",
    "    elif treebank_tag.startswith('V'):\n",
    "        return wordnet.VERB\n",
    "    elif treebank_tag.startswith('N'):\n",
    "        return wordnet.NOUN\n",
    "    elif treebank_tag.startswith('R'):\n",
    "        return wordnet.ADV\n",
    "    else:\n",
    "        return ''"
   ]
  },
  {
   "cell_type": "markdown",
   "metadata": {},
   "source": [
    "Also, the Depeche Mood library uses different POS tags, and we need to transform between the nltk ones and Depeche Mood ones:"
   ]
  },
  {
   "cell_type": "code",
   "execution_count": 77,
   "metadata": {
    "collapsed": true
   },
   "outputs": [],
   "source": [
    "def get_depeche_mood_pos(treebank_pos):\n",
    "    '''Function that transforms nltk tag to Depeche Mood tag.'''\n",
    "    \n",
    "    if treebank_pos.startswith('J'):\n",
    "        return 'a' # adjective is a in Depeche Mood, compared to J in nltk.\n",
    "    return treebank_pos[0].lower()"
   ]
  },
  {
   "cell_type": "markdown",
   "metadata": {},
   "source": [
    "Next, we know that the words in Depeche Mood are in the form *lemmatized#POS*, so we write a function that constructs this format:"
   ]
  },
  {
   "cell_type": "code",
   "execution_count": 79,
   "metadata": {
    "collapsed": true
   },
   "outputs": [],
   "source": [
    "def lemmatize_and_join(word, pos):\n",
    "    '''Function that lemmatizes a word, and then returns a word in the format lemmatized#POS, as required by the Depeche Mood \n",
    "    dataset. Note that the POS given as parameter is one in the nltk library, not Depeche Mood or WordNet.'''\n",
    "    \n",
    "    pos_wordnet = get_wordnet_pos(pos)\n",
    "    \n",
    "    if pos_wordnet == '':\n",
    "        return None # not a part of speech\n",
    "    \n",
    "    lemmatized = lemmatizer.lemmatize(word, pos_wordnet)\n",
    "    pos_depeche_mood = get_depeche_mood_pos(pos)\n",
    "    \n",
    "    return lemmatized + \"#\" + pos_depeche_mood"
   ]
  },
  {
   "cell_type": "markdown",
   "metadata": {},
   "source": [
    "Now we are ready to write the new processing function, which will return the list of words, but in the special format used by the Depeche Mood dataset:"
   ]
  },
  {
   "cell_type": "code",
   "execution_count": 80,
   "metadata": {
    "collapsed": true
   },
   "outputs": [],
   "source": [
    "def process_tweet_pos(tweet):\n",
    "    '''Function that processes a tweet as in previous case, but also appending the POS and lemmatizing the word'''\n",
    "    \n",
    "    tweet = tweet.lower() # convert everything to lower-case\n",
    "    \n",
    "    tweet = remove_unwanted(tweet) # remove links and other unwanted parts of tweet\n",
    "    words = nltk.word_tokenize(tweet) # tokenize tweet into words\n",
    "    words_pos = nltk.pos_tag(words) # realize the POS-tagging of the tweet\n",
    "    \n",
    "    no_stop_words = remove_stop_words_pos(words_pos) # remove the stopwords\n",
    "    no_punctuation = delete_punctuations_pos(no_stop_words) # remove the punctuation marks\n",
    "    \n",
    "    words_unfiltered = [lemmatize_and_join(word, pos) for word, pos in no_punctuation] # construct the list of lemmatized words\n",
    "    words_final = list(filter(lambda x: x is not None, words_unfiltered)) # remove the Nones from the final list\n",
    "    \n",
    "    return words_final"
   ]
  },
  {
   "cell_type": "markdown",
   "metadata": {
    "collapsed": true
   },
   "source": [
    "Next, having this function, we might want to compute an emotion score for each tweet. For that, we will compute an emotion score for each word in the tweet, and the score of the entire tweet will be represented by the sum of the scores of each word. We will write the function that realizes the tweet scores modularily, using helper-functions. First, we write a function that initializes the scores for each emotion to 0: "
   ]
  },
  {
   "cell_type": "code",
   "execution_count": 81,
   "metadata": {
    "collapsed": true
   },
   "outputs": [],
   "source": [
    "def initialize_scores():\n",
    "    '''Function that initializes the score for each emotion to 0.'''\n",
    "    \n",
    "    score_dict = {}\n",
    "    \n",
    "    for emotion in emotions_df.columns[1:]:\n",
    "        score_dict[emotion] = 0\n",
    "        \n",
    "    return score_dict"
   ]
  },
  {
   "cell_type": "markdown",
   "metadata": {},
   "source": [
    "Then, we need a function that, given a specific word that exists in the Depeche Mood dataset and the current scores for each emotion as a dictionary, updates the scores for each emotion by realizing the sum with the new scores:"
   ]
  },
  {
   "cell_type": "code",
   "execution_count": 82,
   "metadata": {
    "collapsed": true
   },
   "outputs": [],
   "source": [
    "def update_scores(word_pos, score_dict):\n",
    "    '''Function that updates the emotion scores with the values associated with the given word.'''\n",
    "    \n",
    "    word_emotions_scores = dict(emotions_df[emotions_df['Lemma#PoS'] == word_pos].iloc[0])\n",
    "    del word_emotions_scores['Lemma#PoS']\n",
    "    \n",
    "    for emotion, score in word_emotions_scores.items():\n",
    "        score_dict[emotion] += score"
   ]
  },
  {
   "cell_type": "markdown",
   "metadata": {},
   "source": [
    "Finally, we might write the function that computes the emotion scores for the tweet:"
   ]
  },
  {
   "cell_type": "code",
   "execution_count": 83,
   "metadata": {
    "collapsed": true
   },
   "outputs": [],
   "source": [
    "def get_tweet_scores(tweet):\n",
    "    '''Function that computes the tweet emotion scores for the given tweet.'''\n",
    "    \n",
    "    score_dict = initialize_scores() # initialize the scores to 0\n",
    "    emotions_words = set(emotions_df['Lemma#PoS']) \n",
    "    \n",
    "    words_filtered_pos = process_tweet_pos(tweet) # process the tweet as written above\n",
    "    \n",
    "    for word_pos in words_filtered_pos:\n",
    "        if word_pos not in emotions_words: # pass over the words which are not in Depeche Mood dataset\n",
    "            continue\n",
    "            \n",
    "        update_scores(word_pos, score_dict) # update the scores for each emotion according to the scores of the current word\n",
    "    \n",
    "    return score_dict"
   ]
  },
  {
   "cell_type": "markdown",
   "metadata": {},
   "source": [
    "Having the function that computes the emotion scores for each tweet as the sum of the emotion scores for each individual word, we can now include all those scores as new columns in the dataset. Therefore, we do it below:"
   ]
  },
  {
   "cell_type": "code",
   "execution_count": 85,
   "metadata": {},
   "outputs": [],
   "source": [
    "condensed_final = condensed_dataset.copy()\n",
    "emotions = set(emotions_df.columns) - {'Lemma#PoS'} # all the emotions in the dataset\n",
    "\n",
    "emotions_dict = {emotion : [] for emotion in emotions} # for each emotion, construct the list of tweet scores, in order\n",
    "    \n",
    "for tweet in condensed_final.text:\n",
    "    scores = get_tweet_scores(tweet) # compute the emotion scores, for each emotion\n",
    "    \n",
    "    for emotion, score in scores.items():\n",
    "        emotions_dict[emotion].append(score)\n",
    "        \n",
    "for emotion_name, emotion_values in emotions_dict.items():\n",
    "    new_column = pd.Series(emotion_values, index=condensed_final.index) # create the new column with the index of dataframe\n",
    "    condensed_final[emotion_name] = new_column # add new column to dataframe"
   ]
  },
  {
   "cell_type": "code",
   "execution_count": 86,
   "metadata": {},
   "outputs": [
    {
     "data": {
      "text/html": [
       "<div>\n",
       "<style>\n",
       "    .dataframe thead tr:only-child th {\n",
       "        text-align: right;\n",
       "    }\n",
       "\n",
       "    .dataframe thead th {\n",
       "        text-align: left;\n",
       "    }\n",
       "\n",
       "    .dataframe tbody tr th {\n",
       "        vertical-align: top;\n",
       "    }\n",
       "</style>\n",
       "<table border=\"1\" class=\"dataframe\">\n",
       "  <thead>\n",
       "    <tr style=\"text-align: right;\">\n",
       "      <th></th>\n",
       "      <th>favorite_count</th>\n",
       "      <th>retweet_count</th>\n",
       "      <th>source</th>\n",
       "      <th>text</th>\n",
       "      <th>negative_words</th>\n",
       "      <th>sentiment</th>\n",
       "      <th>AFRAID</th>\n",
       "      <th>AMUSED</th>\n",
       "      <th>ANGRY</th>\n",
       "      <th>ANNOYED</th>\n",
       "      <th>SAD</th>\n",
       "      <th>HAPPY</th>\n",
       "      <th>DONT_CARE</th>\n",
       "      <th>INSPIRED</th>\n",
       "    </tr>\n",
       "    <tr>\n",
       "      <th>created_at</th>\n",
       "      <th></th>\n",
       "      <th></th>\n",
       "      <th></th>\n",
       "      <th></th>\n",
       "      <th></th>\n",
       "      <th></th>\n",
       "      <th></th>\n",
       "      <th></th>\n",
       "      <th></th>\n",
       "      <th></th>\n",
       "      <th></th>\n",
       "      <th></th>\n",
       "      <th></th>\n",
       "      <th></th>\n",
       "    </tr>\n",
       "  </thead>\n",
       "  <tbody>\n",
       "    <tr>\n",
       "      <th>2009-05-04 18:54:25</th>\n",
       "      <td>202</td>\n",
       "      <td>253</td>\n",
       "      <td>Twitter Web Client</td>\n",
       "      <td>Be sure to tune in and watch Donald Trump on L...</td>\n",
       "      <td>0</td>\n",
       "      <td>0.5255</td>\n",
       "      <td>0.992164</td>\n",
       "      <td>1.702892</td>\n",
       "      <td>1.311094</td>\n",
       "      <td>1.409545</td>\n",
       "      <td>1.153361</td>\n",
       "      <td>1.352038</td>\n",
       "      <td>1.637963</td>\n",
       "      <td>1.440944</td>\n",
       "    </tr>\n",
       "    <tr>\n",
       "      <th>2009-05-05 01:00:10</th>\n",
       "      <td>3</td>\n",
       "      <td>2</td>\n",
       "      <td>Twitter Web Client</td>\n",
       "      <td>Donald Trump will be appearing on The View tom...</td>\n",
       "      <td>0</td>\n",
       "      <td>0.7712</td>\n",
       "      <td>1.057917</td>\n",
       "      <td>1.848110</td>\n",
       "      <td>1.103627</td>\n",
       "      <td>1.528575</td>\n",
       "      <td>1.340874</td>\n",
       "      <td>1.446139</td>\n",
       "      <td>2.017966</td>\n",
       "      <td>1.656793</td>\n",
       "    </tr>\n",
       "    <tr>\n",
       "      <th>2009-05-08 13:38:08</th>\n",
       "      <td>2</td>\n",
       "      <td>3</td>\n",
       "      <td>Twitter Web Client</td>\n",
       "      <td>Donald Trump reads Top Ten Financial Tips on L...</td>\n",
       "      <td>1</td>\n",
       "      <td>0.6468</td>\n",
       "      <td>1.006678</td>\n",
       "      <td>1.632097</td>\n",
       "      <td>1.134400</td>\n",
       "      <td>1.216011</td>\n",
       "      <td>1.004224</td>\n",
       "      <td>1.196502</td>\n",
       "      <td>1.551681</td>\n",
       "      <td>1.258408</td>\n",
       "    </tr>\n",
       "    <tr>\n",
       "      <th>2009-05-08 20:40:15</th>\n",
       "      <td>27</td>\n",
       "      <td>8</td>\n",
       "      <td>Twitter Web Client</td>\n",
       "      <td>New Blog Post: Celebrity Apprentice Finale and...</td>\n",
       "      <td>0</td>\n",
       "      <td>0.0000</td>\n",
       "      <td>0.740472</td>\n",
       "      <td>1.407248</td>\n",
       "      <td>0.710885</td>\n",
       "      <td>1.067461</td>\n",
       "      <td>0.992012</td>\n",
       "      <td>1.279288</td>\n",
       "      <td>1.308805</td>\n",
       "      <td>1.493830</td>\n",
       "    </tr>\n",
       "    <tr>\n",
       "      <th>2009-05-12 14:07:28</th>\n",
       "      <td>1950</td>\n",
       "      <td>1421</td>\n",
       "      <td>Twitter Web Client</td>\n",
       "      <td>\"My persona will never be that of a wallflower...</td>\n",
       "      <td>0</td>\n",
       "      <td>0.0000</td>\n",
       "      <td>0.631105</td>\n",
       "      <td>1.087715</td>\n",
       "      <td>0.680554</td>\n",
       "      <td>0.965473</td>\n",
       "      <td>0.785413</td>\n",
       "      <td>0.839137</td>\n",
       "      <td>0.941357</td>\n",
       "      <td>1.069245</td>\n",
       "    </tr>\n",
       "  </tbody>\n",
       "</table>\n",
       "</div>"
      ],
      "text/plain": [
       "                     favorite_count  retweet_count              source  \\\n",
       "created_at                                                               \n",
       "2009-05-04 18:54:25             202            253  Twitter Web Client   \n",
       "2009-05-05 01:00:10               3              2  Twitter Web Client   \n",
       "2009-05-08 13:38:08               2              3  Twitter Web Client   \n",
       "2009-05-08 20:40:15              27              8  Twitter Web Client   \n",
       "2009-05-12 14:07:28            1950           1421  Twitter Web Client   \n",
       "\n",
       "                                                                  text  \\\n",
       "created_at                                                               \n",
       "2009-05-04 18:54:25  Be sure to tune in and watch Donald Trump on L...   \n",
       "2009-05-05 01:00:10  Donald Trump will be appearing on The View tom...   \n",
       "2009-05-08 13:38:08  Donald Trump reads Top Ten Financial Tips on L...   \n",
       "2009-05-08 20:40:15  New Blog Post: Celebrity Apprentice Finale and...   \n",
       "2009-05-12 14:07:28  \"My persona will never be that of a wallflower...   \n",
       "\n",
       "                     negative_words  sentiment    AFRAID    AMUSED     ANGRY  \\\n",
       "created_at                                                                     \n",
       "2009-05-04 18:54:25               0     0.5255  0.992164  1.702892  1.311094   \n",
       "2009-05-05 01:00:10               0     0.7712  1.057917  1.848110  1.103627   \n",
       "2009-05-08 13:38:08               1     0.6468  1.006678  1.632097  1.134400   \n",
       "2009-05-08 20:40:15               0     0.0000  0.740472  1.407248  0.710885   \n",
       "2009-05-12 14:07:28               0     0.0000  0.631105  1.087715  0.680554   \n",
       "\n",
       "                      ANNOYED       SAD     HAPPY  DONT_CARE  INSPIRED  \n",
       "created_at                                                              \n",
       "2009-05-04 18:54:25  1.409545  1.153361  1.352038   1.637963  1.440944  \n",
       "2009-05-05 01:00:10  1.528575  1.340874  1.446139   2.017966  1.656793  \n",
       "2009-05-08 13:38:08  1.216011  1.004224  1.196502   1.551681  1.258408  \n",
       "2009-05-08 20:40:15  1.067461  0.992012  1.279288   1.308805  1.493830  \n",
       "2009-05-12 14:07:28  0.965473  0.785413  0.839137   0.941357  1.069245  "
      ]
     },
     "execution_count": 86,
     "metadata": {},
     "output_type": "execute_result"
    }
   ],
   "source": [
    "condensed_final.head()"
   ]
  },
  {
   "cell_type": "markdown",
   "metadata": {},
   "source": [
    "Next, we want to plot the results of the above computations, aggregated per two months:"
   ]
  },
  {
   "cell_type": "code",
   "execution_count": 87,
   "metadata": {},
   "outputs": [
    {
     "data": {
      "text/plain": [
       "<matplotlib.legend.Legend at 0x189207a2e48>"
      ]
     },
     "execution_count": 87,
     "metadata": {},
     "output_type": "execute_result"
    },
    {
     "data": {
      "image/png": "[encoded data removed]",
      "text/plain": [
       "<matplotlib.figure.Figure at 0x189207a28d0>"
      ]
     },
     "metadata": {},
     "output_type": "display_data"
    }
   ],
   "source": [
    "emotions = ['ANGRY', 'SAD', 'ANNOYED']\n",
    "colors = ['darkorange', 'green', 'blue']\n",
    "\n",
    "for emotion, color in zip(emotions, colors):\n",
    "    aggregate = condensed_final[emotion].groupby(pd.TimeGrouper(freq='1M')).mean()\n",
    "    aggregate.plot(grid=True, label=emotion, color=color, figsize =(16,8))\n",
    "    \n",
    "plt.legend(loc='upper right')"
   ]
  }
 ],
 "metadata": {
  "kernelspec": {
   "display_name": "Python [default]",
   "language": "python",
   "name": "python3"
  },
  "language_info": {
   "codemirror_mode": {
    "name": "ipython",
    "version": 3
   },
   "file_extension": ".py",
   "mimetype": "text/x-python",
   "name": "python",
   "nbconvert_exporter": "python",
   "pygments_lexer": "ipython3",
   "version": "3.5.4"
  },
  "toc": {
   "colors": {
    "hover_highlight": "#DAA520",
    "navigate_num": "#000000",
    "navigate_text": "#333333",
    "running_highlight": "#FF0000",
    "selected_highlight": "#FFD700",
    "sidebar_border": "#EEEEEE",
    "wrapper_background": "#FFFFFF"
   },
   "moveMenuLeft": true,
   "nav_menu": {
    "height": "512px",
    "width": "252px"
   },
   "navigate_menu": true,
   "number_sections": true,
   "sideBar": true,
   "threshold": 4,
   "toc_cell": false,
   "toc_section_display": "block",
   "toc_window_display": false,
   "widenNotebook": false
  },
  "varInspector": {
   "cols": {
    "lenName": 16,
    "lenType": 16,
    "lenVar": 40
   },
   "kernels_config": {
    "python": {
     "delete_cmd_postfix": "",
     "delete_cmd_prefix": "del ",
     "library": "var_list.py",
     "varRefreshCmd": "print(var_dic_list())"
    },
    "r": {
     "delete_cmd_postfix": ") ",
     "delete_cmd_prefix": "rm(",
     "library": "var_list.r",
     "varRefreshCmd": "cat(var_dic_list()) "
    }
   },
   "types_to_exclude": [
    "module",
    "function",
    "builtin_function_or_method",
    "instance",
    "_Feature"
   ],
   "window_display": false
  }
 },
 "nbformat": 4,
 "nbformat_minor": 2
}
