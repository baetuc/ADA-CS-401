{
 "cells": [
  {
   "cell_type": "markdown",
   "metadata": {},
   "source": [
    "# 02 - Data from the Web\n",
    "\n",
    "## Assignment\n",
    "1. Obtain the 200 top-ranking universities in www.topuniversities.com ([ranking 2018](https://www.topuniversities.com/university-rankings/world-university-rankings/2018)). In particular, extract the following fields for each university: name, rank, country and region, number of faculty members (international and total) and number of students (international and total). Some information is not available in the main list and you have to find them in the [details page](https://www.topuniversities.com/universities/ecole-polytechnique-fédérale-de-lausanne-epfl).\n",
    "Store the resulting dataset in a pandas DataFrame and answer the following questions:\n",
    "- Which are the best universities in term of: (a) ratio between faculty members and students, (b) ratio of international students?\n",
    "- Answer the previous question aggregating the data by (c) country and (d) region.\n",
    "\n",
    "Plot your data using bar charts and describe briefly what you observed.\n",
    "\n",
    "2. Obtain the 200 top-ranking universities in www.timeshighereducation.com ([ranking 2018](http://timeshighereducation.com/world-university-rankings/2018/world-ranking)). Repeat the analysis of the previous point and discuss briefly what you observed.\n",
    "\n",
    "3. Merge the two DataFrames created in questions 1 and 2 using university names. Match universities' names as well as you can, and explain your strategy. Keep track of the original position in both rankings.\n",
    "\n",
    "4. Find useful insights in the data by performing an exploratory analysis. Can you find a strong correlation between any pair of variables in the dataset you just created? Example: when a university is strong in its international dimension, can you observe a consistency both for students and faculty members?\n",
    "\n",
    "5. Can you find the best university taking in consideration both rankings? Explain your approach.\n",
    "\n",
    "Hints:\n",
    "- Keep your Notebook clean and don't print the verbose output of the requests if this does not add useful information for the reader.\n",
    "- In case of tie, use the order defined in the webpage.\n"
   ]
  },
  {
   "cell_type": "markdown",
   "metadata": {},
   "source": [
    "## 1. World University Rankings by TopUniversities\n",
    "\n",
    "---\n",
    "\n",
    "We will focus on data scraping from the [TopUniversities 2018 rankings](https://www.topuniversities.com/university-rankings/world-university-rankings/2018), as well as asnwering the assignment questions by performing simple data analysis. The structure of this chapter follows the assignment outline:\n",
    "\n",
    "1. Data scraping\n",
    "2. Ranking: faculty members, students and internationalization\n",
    "3. Ranking: regional and national results\n",
    "\n",
    "\n",
    "### Libraries utilized\n",
    "\n",
    "We will use the BeautifulSoup along with Pandas and standard Python utilities for performing the scraping and data analysis."
   ]
  },
  {
   "cell_type": "code",
   "execution_count": 10,
   "metadata": {
    "ExecuteTime": {
     "end_time": "2017-10-21T21:05:03.271263Z",
     "start_time": "2017-10-21T21:05:02.876608Z"
    },
    "collapsed": true
   },
   "outputs": [],
   "source": [
    "# importing the utils for Web scraping\n",
    "import requests\n",
    "from bs4 import BeautifulSoup\n",
    "\n",
    "# importing python and data utils\n",
    "import pandas as pd\n",
    "import numpy as np\n",
    "import json\n",
    "%matplotlib inline\n",
    "import matplotlib.pyplot as plt"
   ]
  },
  {
   "cell_type": "markdown",
   "metadata": {},
   "source": [
    "### Swiss army knife for data scraping\n",
    "\n",
    "[Postman](https://www.getpostman.com/) is utilized outside Python to get more sense about the Web jungle we are trying to harvest our data from. We have used both Interceptor and the application itself to make sense of incoming traffic. \n",
    "\n",
    "We have also relied on traffic observations in Chrome Development Tools (*which can be accessed in Chrome browsers on Windows platform by pressing F12*)."
   ]
  },
  {
   "cell_type": "markdown",
   "metadata": {},
   "source": [
    "### 1.1 Data scraping\n",
    "\n",
    "The first step in our data scraping process was to get acquainted with the website itself. We have turned on the Interceptor for the traffic and the application itself, then loaded the website and observed the requests. \n",
    "\n",
    "#### Making our life easier: Postman filters\n",
    "\n",
    "It is useful to filter out results of requests sent to the Website of interest. In modern websites it is common to have many 3rd party APIs which would make it somewhat more difficult to find the requests of interest. Additionally, trafic from other tabs in browser (if open) will appear, so it is additionally useful to display only what is the focus of our search. Such benefits are visible in the practical example bellow:\n",
    "\n",
    "<table width=\"70%\">\n",
    "  <tr>\n",
    "    <th style=\"text-align:center\">Requests without any filters</th>\n",
    "    <th style=\"text-align:center\">After filtering results from *www.topuniversities.com* only</th> \n",
    "  </tr>\n",
    "  <tr>\n",
    "    <td>![](images/postman0.png)</td>\n",
    "    <td style=\"vertical-align:top\">![](images/postman1.png)</td> \n",
    "  </tr>\n",
    "</table>"
   ]
  },
  {
   "cell_type": "markdown",
   "metadata": {},
   "source": [
    "From the vast list of various requests, we have localized what seems to be important for the given task, and the requests for resources for the TopUniversity rankings. By analyzing the requests, we can see one **GET** request which obtains a textual file:\n",
    "\n",
    "[https://www.topuniversities.com/sites/default/files/qs-rankings-data/357051.txt?_=1508597583828](https://www.topuniversities.com/sites/default/files/qs-rankings-data/357051.txt?_=1508597583828)\n",
    "\n",
    "By analyzing the file, it turns out to be a very useful JSON! All the data needed for scraping at this level is present here, most notably the ranking and the URL towards more information. It correlates to the same information we can directly see from the Chrome Developer Tools:\n",
    "\n",
    "![](images/chrome0.png)\n",
    "\n",
    "#####  Design choice\n",
    "As in the image above can be seen, the HTML data is well organized in the tables, with appropriate classes which designate the content of the cell. One approach would be to use `BeautifulSoup` and parse the HTML of the page. Since we have the data in more concise format (JSON) we decided to process the textual representation. Since only the representation and intermediate steps differ, and results are the same, this is a choice we have made. \n",
    "\n",
    "Nevertheless, further steps will have to rely on parsing the HTML and DOM of the subsequent university links with further details (since no equivalent JSON is obtained), so both approaches are showcased.\n",
    "\n",
    "\n",
    "#### Implementing the scraping procedure\n",
    "\n",
    "We will extract the before found JSON file and use it as a baseline for scraping this Website. We send a GET request and process the file as JSON."
   ]
  },
  {
   "cell_type": "code",
   "execution_count": 11,
   "metadata": {
    "collapsed": true
   },
   "outputs": [],
   "source": [
    "## TU = TopUniversities\n",
    "TU_path = 'https://www.topuniversities.com'\n",
    "base_json_path = '/sites/default/files/qs-rankings-data/357051.txt?_=1508597583828'\n",
    "\n",
    "req = requests.get(TU_path+base_json_path)\n",
    "\n",
    "TU_json = req.json()"
   ]
  },
  {
   "cell_type": "markdown",
   "metadata": {},
   "source": [
    "We convert the JSON file to Pandas `DataFrame` to enable easier exploration and utilization of the file. We are interested in the **data** section of our JSON file, and we take the first 200 top ranking universities in the list. \n",
    "\n",
    "Notably, some universities share the same ranking (tie). Per assignment at this point we will take 200 best ranking universities for our analysis, and not the universities until the rank 200."
   ]
  },
  {
   "cell_type": "code",
   "execution_count": 12,
   "metadata": {
    "collapsed": true,
    "scrolled": true
   },
   "outputs": [],
   "source": [
    "TU_df = pd.DataFrame.from_dict(TU_json['data']).head(200)"
   ]
  },
  {
   "cell_type": "markdown",
   "metadata": {},
   "source": [
    "We can observe that we did not need any additional parsing which would add both to code complexity, potential computational overhead in bigger datasets, as well as algorithmic complexity if the website HTML code is not tidy (which is not the case here). The `DataFrame` carries all the information we need for now, of which the region, country, rank, title and url play the significant role in the task."
   ]
  },
  {
   "cell_type": "code",
   "execution_count": 13,
   "metadata": {},
   "outputs": [
    {
     "data": {
      "text/html": [
       "<div>\n",
       "<style>\n",
       "    .dataframe thead tr:only-child th {\n",
       "        text-align: right;\n",
       "    }\n",
       "\n",
       "    .dataframe thead th {\n",
       "        text-align: left;\n",
       "    }\n",
       "\n",
       "    .dataframe tbody tr th {\n",
       "        vertical-align: top;\n",
       "    }\n",
       "</style>\n",
       "<table border=\"1\" class=\"dataframe\">\n",
       "  <thead>\n",
       "    <tr style=\"text-align: right;\">\n",
       "      <th></th>\n",
       "      <th>cc</th>\n",
       "      <th>core_id</th>\n",
       "      <th>country</th>\n",
       "      <th>guide</th>\n",
       "      <th>logo</th>\n",
       "      <th>nid</th>\n",
       "      <th>rank_display</th>\n",
       "      <th>region</th>\n",
       "      <th>score</th>\n",
       "      <th>stars</th>\n",
       "      <th>title</th>\n",
       "      <th>url</th>\n",
       "    </tr>\n",
       "  </thead>\n",
       "  <tbody>\n",
       "    <tr>\n",
       "      <th>0</th>\n",
       "      <td>US</td>\n",
       "      <td>410</td>\n",
       "      <td>United States</td>\n",
       "      <td>&lt;a href=\"/where-to-study/north-america/united-...</td>\n",
       "      <td>&lt;img src=\"https://www.topuniversities.com/site...</td>\n",
       "      <td>294850</td>\n",
       "      <td>1</td>\n",
       "      <td>North America</td>\n",
       "      <td>100</td>\n",
       "      <td>6</td>\n",
       "      <td>Massachusetts Institute of Technology (MIT)</td>\n",
       "      <td>/universities/massachusetts-institute-technolo...</td>\n",
       "    </tr>\n",
       "    <tr>\n",
       "      <th>1</th>\n",
       "      <td>US</td>\n",
       "      <td>573</td>\n",
       "      <td>United States</td>\n",
       "      <td>&lt;a href=\"/where-to-study/north-america/united-...</td>\n",
       "      <td>&lt;img src=\"https://www.topuniversities.com/site...</td>\n",
       "      <td>297282</td>\n",
       "      <td>2</td>\n",
       "      <td>North America</td>\n",
       "      <td>98.7</td>\n",
       "      <td>5</td>\n",
       "      <td>Stanford University</td>\n",
       "      <td>/universities/stanford-university</td>\n",
       "    </tr>\n",
       "  </tbody>\n",
       "</table>\n",
       "</div>"
      ],
      "text/plain": [
       "   cc core_id        country  \\\n",
       "0  US     410  United States   \n",
       "1  US     573  United States   \n",
       "\n",
       "                                               guide  \\\n",
       "0  <a href=\"/where-to-study/north-america/united-...   \n",
       "1  <a href=\"/where-to-study/north-america/united-...   \n",
       "\n",
       "                                                logo     nid rank_display  \\\n",
       "0  <img src=\"https://www.topuniversities.com/site...  294850            1   \n",
       "1  <img src=\"https://www.topuniversities.com/site...  297282            2   \n",
       "\n",
       "          region score stars                                        title  \\\n",
       "0  North America   100     6  Massachusetts Institute of Technology (MIT)   \n",
       "1  North America  98.7     5                          Stanford University   \n",
       "\n",
       "                                                 url  \n",
       "0  /universities/massachusetts-institute-technolo...  \n",
       "1                  /universities/stanford-university  "
      ]
     },
     "execution_count": 13,
     "metadata": {},
     "output_type": "execute_result"
    }
   ],
   "source": [
    "TU_df.head(2)"
   ]
  },
  {
   "cell_type": "markdown",
   "metadata": {},
   "source": [
    "#### 1.1.1 Extracting the information for each University\n",
    "\n",
    "Some information such as University name or rank is available immediately, while for detailed information we need to follow the subsequent link provided in the **url** field. Unfortunately, as previously mentioned, we don't have information packed in JSON format this time. We use HTML parsing provided by `BeautifulSoup` to obtain all the missing data. We are in luck since the HTML is well organized, with appropriate classes assigned to `div`s containing needed pieces of information.\n",
    "\n",
    "We iterate through the previously obtained `DataFrame` and scrape and collect the necessary data, and append it to the existing `DataFrame`.\n",
    "\n",
    "#### Note on undefined values\n",
    "\n",
    "At least one of the universities has missing data and we need to handle such cases. If the number of such cases is small enough, we could impute the values manually, by consulting the appropriate sources, thus keeping the consistency of the rankings. If we don't have all the data for analysis, we would have to discard such Universities or come up with a methodology for mining up missing data on larger scale.\n",
    "\n",
    "We choose to be consistent and we will print out the universities which have some missing values and will try to fill in the missing values."
   ]
  },
  {
   "cell_type": "code",
   "execution_count": 14,
   "metadata": {
    "collapsed": true
   },
   "outputs": [],
   "source": [
    "# A helper function to get an number (integer) from the div text\n",
    "def div2num(div):\n",
    "    return int(div.find('div', class_='number').text.split()[0].replace(',',''))"
   ]
  },
  {
   "cell_type": "code",
   "execution_count": 15,
   "metadata": {},
   "outputs": [
    {
     "name": "stdout",
     "output_type": "stream",
     "text": [
      "Undefined total faculty members for: New York University (NYU)\n",
      "Undefined total students for: New York University (NYU)\n",
      "Undefined international faculty members for: New York University (NYU)\n",
      "Undefined international students for: New York University (NYU)\n",
      "Undefined international faculty members for: Indian Institute of Science (IISc) Bangalore\n"
     ]
    }
   ],
   "source": [
    "for ind, row in TU_df.iterrows():\n",
    "    # getting the detailed page of the given university\n",
    "    # relative link to the page is given in the url field of the dataframe\n",
    "    uni_details = requests.get(TU_path+row['url'])\n",
    "    \n",
    "    # get the HTML of the detailed university page and add it to the soup\n",
    "    soup = BeautifulSoup(uni_details.text, 'html.parser')\n",
    "    \n",
    "    # get the name of the university from the DF\n",
    "    uni_name = row['title']\n",
    "    \n",
    "    # get the number of faculty members from the detailed page and append to DF\n",
    "    faculty_num = soup.find('div', class_='total faculty')\n",
    "    try:\n",
    "        # we parse the div text and append it to the DataFrame\n",
    "        TU_df.loc[ind, 'Total faculty members'] = div2num(faculty_num)\n",
    "    except:\n",
    "        # print out the message in order to try to impute the data\n",
    "        print('Undefined total faculty members for: '+uni_name)\n",
    "    \n",
    "    # similar procedure for other required data points\n",
    "    students_num = soup.find('div', class_='total student')\n",
    "    try:\n",
    "        TU_df.loc[ind, 'Total students'] = div2num(students_num)\n",
    "    except:\n",
    "        print('Undefined total students for: '+uni_name)\n",
    "    \n",
    "    intl_faculty_num = soup.find('div', class_='inter faculty')\n",
    "    try:\n",
    "        TU_df.loc[ind, 'International faculty members'] = div2num(intl_faculty_num)\n",
    "    except:\n",
    "        print('Undefined international faculty members for: '+uni_name)\n",
    "    \n",
    "    intl_students_num = soup.find('div', class_='total inter')\n",
    "    try:\n",
    "        TU_df.loc[ind, 'International students'] = div2num(intl_students_num)\n",
    "    except:\n",
    "        print('Undefined international students for: '+uni_name)"
   ]
  },
  {
   "cell_type": "markdown",
   "metadata": {},
   "source": [
    "#### Imputing undefined values\n",
    "\n",
    "We can see that the New York University (NYU) has information that is completely missing, while Indian Institute of Science (IISc) Bangalore has one missing value. Considering the scope of missing values, they will be manually set using the following sources:\n",
    "\n",
    "- NYU: https://www.nyu.edu/about/news-publications/nyu-at-a-glance.html, https://www.nyu.edu/admissions/undergraduate-admissions/nyu-facts.html\n",
    "- IISc: http://www.iisc.ac.in/iisc-in-numbers/#ffs-tabbed-12\n",
    "\n",
    "This is potentially troubling, since there is no information about the actual data collection for the ranking, methodology or actual date which is available for a confident selection of the figures missing. Frequently, the websites also omit the precise dates. Comparing the potential noise which would be added to the fact that we would discard 2 top 200 universities, the decision is to take the data and impute it, while being aware that it might induce some error in methodology. It is a tradeoff between statistical error in imputed data and the error which would occur in the further aggregate analysis.\n",
    "\n",
    "Therefore the NYU data is following:\n",
    "- total faculty members: 7861 (Fall 2015)\n",
    "- total students: 58419 (Fall 2015)\n",
    "- international faculty members: 619 (September 2017)\n",
    "- international students: 26% == 15189 (Fall 2015)\n",
    "\n",
    "Unfortunately, the data of international faculty members is not available in public records online for IISc, therefore it will be designated as 0. The unavailability might rise from the fact that the figure is rather low (https://scroll.in/article/811696/there-are-no-indian-universities-in-the-worlds-top-250-list-heres-how-javadekar-can-change-that), so it would not be positive for faculty to publicize such information. \n",
    "\n",
    "*If time permitted a good practice would be to contact the institution directly for the actual quote in both cases*"
   ]
  },
  {
   "cell_type": "code",
   "execution_count": 16,
   "metadata": {
    "collapsed": true
   },
   "outputs": [],
   "source": [
    "TU_df.loc[TU_df.title=='New York University (NYU)','Total faculty members'] = 7861\n",
    "TU_df.loc[TU_df.title=='New York University (NYU)','Total students'] = 58419\n",
    "TU_df.loc[TU_df.title=='New York University (NYU)','International faculty members'] = 619\n",
    "TU_df.loc[TU_df.title=='New York University (NYU)','International students'] = 15189\n",
    "\n",
    "\n",
    "TU_df = TU_df.fillna(0)"
   ]
  },
  {
   "cell_type": "markdown",
   "metadata": {},
   "source": [
    "#### Pruning the data in DataFrame\n",
    "\n",
    "We have several pieces of information that are redundant at this point, so we will remove such columns from the DataFrame for a better overview. We can see bellow that *cc*, *rank_display*, *stars*, *core_id*, *guide*, *logo*, *nid* and *url* are present, but redundant in the following analysis."
   ]
  },
  {
   "cell_type": "code",
   "execution_count": 17,
   "metadata": {},
   "outputs": [
    {
     "data": {
      "text/html": [
       "<div>\n",
       "<style>\n",
       "    .dataframe thead tr:only-child th {\n",
       "        text-align: right;\n",
       "    }\n",
       "\n",
       "    .dataframe thead th {\n",
       "        text-align: left;\n",
       "    }\n",
       "\n",
       "    .dataframe tbody tr th {\n",
       "        vertical-align: top;\n",
       "    }\n",
       "</style>\n",
       "<table border=\"1\" class=\"dataframe\">\n",
       "  <thead>\n",
       "    <tr style=\"text-align: right;\">\n",
       "      <th></th>\n",
       "      <th>cc</th>\n",
       "      <th>core_id</th>\n",
       "      <th>country</th>\n",
       "      <th>guide</th>\n",
       "      <th>logo</th>\n",
       "      <th>nid</th>\n",
       "      <th>rank_display</th>\n",
       "      <th>region</th>\n",
       "      <th>score</th>\n",
       "      <th>stars</th>\n",
       "      <th>title</th>\n",
       "      <th>url</th>\n",
       "      <th>Total faculty members</th>\n",
       "      <th>Total students</th>\n",
       "      <th>International faculty members</th>\n",
       "      <th>International students</th>\n",
       "    </tr>\n",
       "  </thead>\n",
       "  <tbody>\n",
       "    <tr>\n",
       "      <th>0</th>\n",
       "      <td>US</td>\n",
       "      <td>410</td>\n",
       "      <td>United States</td>\n",
       "      <td>&lt;a href=\"/where-to-study/north-america/united-...</td>\n",
       "      <td>&lt;img src=\"https://www.topuniversities.com/site...</td>\n",
       "      <td>294850</td>\n",
       "      <td>1</td>\n",
       "      <td>North America</td>\n",
       "      <td>100</td>\n",
       "      <td>6</td>\n",
       "      <td>Massachusetts Institute of Technology (MIT)</td>\n",
       "      <td>/universities/massachusetts-institute-technolo...</td>\n",
       "      <td>2982.0</td>\n",
       "      <td>11067.0</td>\n",
       "      <td>1679.0</td>\n",
       "      <td>3717.0</td>\n",
       "    </tr>\n",
       "  </tbody>\n",
       "</table>\n",
       "</div>"
      ],
      "text/plain": [
       "   cc core_id        country  \\\n",
       "0  US     410  United States   \n",
       "\n",
       "                                               guide  \\\n",
       "0  <a href=\"/where-to-study/north-america/united-...   \n",
       "\n",
       "                                                logo     nid rank_display  \\\n",
       "0  <img src=\"https://www.topuniversities.com/site...  294850            1   \n",
       "\n",
       "          region score stars                                        title  \\\n",
       "0  North America   100     6  Massachusetts Institute of Technology (MIT)   \n",
       "\n",
       "                                                 url  Total faculty members  \\\n",
       "0  /universities/massachusetts-institute-technolo...                 2982.0   \n",
       "\n",
       "   Total students  International faculty members  International students  \n",
       "0         11067.0                         1679.0                  3717.0  "
      ]
     },
     "execution_count": 17,
     "metadata": {},
     "output_type": "execute_result"
    }
   ],
   "source": [
    "TU_df.head(1)"
   ]
  },
  {
   "cell_type": "code",
   "execution_count": 18,
   "metadata": {
    "scrolled": true
   },
   "outputs": [
    {
     "data": {
      "text/html": [
       "<div>\n",
       "<style>\n",
       "    .dataframe thead tr:only-child th {\n",
       "        text-align: right;\n",
       "    }\n",
       "\n",
       "    .dataframe thead th {\n",
       "        text-align: left;\n",
       "    }\n",
       "\n",
       "    .dataframe tbody tr th {\n",
       "        vertical-align: top;\n",
       "    }\n",
       "</style>\n",
       "<table border=\"1\" class=\"dataframe\">\n",
       "  <thead>\n",
       "    <tr style=\"text-align: right;\">\n",
       "      <th></th>\n",
       "      <th>country</th>\n",
       "      <th>rank_display</th>\n",
       "      <th>region</th>\n",
       "      <th>score</th>\n",
       "      <th>title</th>\n",
       "      <th>Total faculty members</th>\n",
       "      <th>Total students</th>\n",
       "      <th>International faculty members</th>\n",
       "      <th>International students</th>\n",
       "    </tr>\n",
       "  </thead>\n",
       "  <tbody>\n",
       "    <tr>\n",
       "      <th>0</th>\n",
       "      <td>United States</td>\n",
       "      <td>1</td>\n",
       "      <td>North America</td>\n",
       "      <td>100</td>\n",
       "      <td>Massachusetts Institute of Technology (MIT)</td>\n",
       "      <td>2982.0</td>\n",
       "      <td>11067.0</td>\n",
       "      <td>1679.0</td>\n",
       "      <td>3717.0</td>\n",
       "    </tr>\n",
       "  </tbody>\n",
       "</table>\n",
       "</div>"
      ],
      "text/plain": [
       "         country rank_display         region score  \\\n",
       "0  United States            1  North America   100   \n",
       "\n",
       "                                         title  Total faculty members  \\\n",
       "0  Massachusetts Institute of Technology (MIT)                 2982.0   \n",
       "\n",
       "   Total students  International faculty members  International students  \n",
       "0         11067.0                         1679.0                  3717.0  "
      ]
     },
     "execution_count": 18,
     "metadata": {},
     "output_type": "execute_result"
    }
   ],
   "source": [
    "TU_df.drop(['cc', 'stars', 'core_id', 'guide', 'logo', 'nid', 'url'], axis=1, inplace=True)\n",
    "TU_df.head(1)"
   ]
  },
  {
   "cell_type": "markdown",
   "metadata": {},
   "source": [
    "#### We have our DataFrame ready for further analysis!\n",
    "---"
   ]
  },
  {
   "cell_type": "markdown",
   "metadata": {},
   "source": [
    "### 1.2 Ranking: faculty members, students and internationalization\n",
    "\n",
    "In this section we answer the question: **Which are the best universities in term of: (a) ratio between faculty members and students, (b) ratio of international students?**\n",
    "\n",
    "For easier analysis for (a) and (b) we will add the ratios to the existing DataFrame:"
   ]
  },
  {
   "cell_type": "code",
   "execution_count": 19,
   "metadata": {
    "collapsed": true
   },
   "outputs": [],
   "source": [
    "# ratio between faculty members and students\n",
    "TU_df['Ratio faculty/students'] = TU_df['Total faculty members']/TU_df['Total students']\n",
    "\n",
    "# ratio of international students\n",
    "TU_df['Ratio intl/total students'] = TU_df['International students']/TU_df['Total students']"
   ]
  },
  {
   "cell_type": "code",
   "execution_count": 20,
   "metadata": {},
   "outputs": [
    {
     "data": {
      "text/html": [
       "<div>\n",
       "<style>\n",
       "    .dataframe thead tr:only-child th {\n",
       "        text-align: right;\n",
       "    }\n",
       "\n",
       "    .dataframe thead th {\n",
       "        text-align: left;\n",
       "    }\n",
       "\n",
       "    .dataframe tbody tr th {\n",
       "        vertical-align: top;\n",
       "    }\n",
       "</style>\n",
       "<table border=\"1\" class=\"dataframe\">\n",
       "  <thead>\n",
       "    <tr style=\"text-align: right;\">\n",
       "      <th></th>\n",
       "      <th>country</th>\n",
       "      <th>rank_display</th>\n",
       "      <th>region</th>\n",
       "      <th>score</th>\n",
       "      <th>title</th>\n",
       "      <th>Total faculty members</th>\n",
       "      <th>Total students</th>\n",
       "      <th>International faculty members</th>\n",
       "      <th>International students</th>\n",
       "      <th>Ratio faculty/students</th>\n",
       "      <th>Ratio intl/total students</th>\n",
       "    </tr>\n",
       "  </thead>\n",
       "  <tbody>\n",
       "    <tr>\n",
       "      <th>0</th>\n",
       "      <td>United States</td>\n",
       "      <td>1</td>\n",
       "      <td>North America</td>\n",
       "      <td>100</td>\n",
       "      <td>Massachusetts Institute of Technology (MIT)</td>\n",
       "      <td>2982.0</td>\n",
       "      <td>11067.0</td>\n",
       "      <td>1679.0</td>\n",
       "      <td>3717.0</td>\n",
       "      <td>0.26945</td>\n",
       "      <td>0.335863</td>\n",
       "    </tr>\n",
       "  </tbody>\n",
       "</table>\n",
       "</div>"
      ],
      "text/plain": [
       "         country rank_display         region score  \\\n",
       "0  United States            1  North America   100   \n",
       "\n",
       "                                         title  Total faculty members  \\\n",
       "0  Massachusetts Institute of Technology (MIT)                 2982.0   \n",
       "\n",
       "   Total students  International faculty members  International students  \\\n",
       "0         11067.0                         1679.0                  3717.0   \n",
       "\n",
       "   Ratio faculty/students  Ratio intl/total students  \n",
       "0                 0.26945                   0.335863  "
      ]
     },
     "execution_count": 20,
     "metadata": {},
     "output_type": "execute_result"
    }
   ],
   "source": [
    "TU_df.head(1)"
   ]
  },
  {
   "cell_type": "markdown",
   "metadata": {},
   "source": [
    "We have prepared the data for our analysis! The results are obtained by sorting the `DataFrame` by appropriate criterion.\n",
    "\n",
    "### Best university: (a) ratio between faculty members and students"
   ]
  },
  {
   "cell_type": "code",
   "execution_count": 21,
   "metadata": {
    "collapsed": true
   },
   "outputs": [],
   "source": [
    "TU_fac_stud_df = TU_df.sort_values('Ratio faculty/students', ascending=False)"
   ]
  },
  {
   "cell_type": "markdown",
   "metadata": {},
   "source": [
    "#### Top 5 by ratio of faculty members and students:"
   ]
  },
  {
   "cell_type": "code",
   "execution_count": 22,
   "metadata": {},
   "outputs": [
    {
     "data": {
      "text/html": [
       "<div>\n",
       "<style>\n",
       "    .dataframe thead tr:only-child th {\n",
       "        text-align: right;\n",
       "    }\n",
       "\n",
       "    .dataframe thead th {\n",
       "        text-align: left;\n",
       "    }\n",
       "\n",
       "    .dataframe tbody tr th {\n",
       "        vertical-align: top;\n",
       "    }\n",
       "</style>\n",
       "<table border=\"1\" class=\"dataframe\">\n",
       "  <thead>\n",
       "    <tr style=\"text-align: right;\">\n",
       "      <th></th>\n",
       "      <th>country</th>\n",
       "      <th>rank_display</th>\n",
       "      <th>region</th>\n",
       "      <th>score</th>\n",
       "      <th>title</th>\n",
       "      <th>Total faculty members</th>\n",
       "      <th>Total students</th>\n",
       "      <th>International faculty members</th>\n",
       "      <th>International students</th>\n",
       "      <th>Ratio faculty/students</th>\n",
       "      <th>Ratio intl/total students</th>\n",
       "    </tr>\n",
       "  </thead>\n",
       "  <tbody>\n",
       "    <tr>\n",
       "      <th>3</th>\n",
       "      <td>United States</td>\n",
       "      <td>4</td>\n",
       "      <td>North America</td>\n",
       "      <td>97.7</td>\n",
       "      <td>California Institute of Technology (Caltech)</td>\n",
       "      <td>953.0</td>\n",
       "      <td>2255.0</td>\n",
       "      <td>350.0</td>\n",
       "      <td>647.0</td>\n",
       "      <td>0.422616</td>\n",
       "      <td>0.286918</td>\n",
       "    </tr>\n",
       "    <tr>\n",
       "      <th>15</th>\n",
       "      <td>United States</td>\n",
       "      <td>16</td>\n",
       "      <td>North America</td>\n",
       "      <td>90.4</td>\n",
       "      <td>Yale University</td>\n",
       "      <td>4940.0</td>\n",
       "      <td>12402.0</td>\n",
       "      <td>1708.0</td>\n",
       "      <td>2469.0</td>\n",
       "      <td>0.398323</td>\n",
       "      <td>0.199081</td>\n",
       "    </tr>\n",
       "    <tr>\n",
       "      <th>5</th>\n",
       "      <td>United Kingdom</td>\n",
       "      <td>6</td>\n",
       "      <td>Europe</td>\n",
       "      <td>95.3</td>\n",
       "      <td>University of Oxford</td>\n",
       "      <td>6750.0</td>\n",
       "      <td>19720.0</td>\n",
       "      <td>2964.0</td>\n",
       "      <td>7353.0</td>\n",
       "      <td>0.342292</td>\n",
       "      <td>0.372870</td>\n",
       "    </tr>\n",
       "    <tr>\n",
       "      <th>4</th>\n",
       "      <td>United Kingdom</td>\n",
       "      <td>5</td>\n",
       "      <td>Europe</td>\n",
       "      <td>95.6</td>\n",
       "      <td>University of Cambridge</td>\n",
       "      <td>5490.0</td>\n",
       "      <td>18770.0</td>\n",
       "      <td>2278.0</td>\n",
       "      <td>6699.0</td>\n",
       "      <td>0.292488</td>\n",
       "      <td>0.356899</td>\n",
       "    </tr>\n",
       "    <tr>\n",
       "      <th>16</th>\n",
       "      <td>United States</td>\n",
       "      <td>17</td>\n",
       "      <td>North America</td>\n",
       "      <td>89.8</td>\n",
       "      <td>Johns Hopkins University</td>\n",
       "      <td>4462.0</td>\n",
       "      <td>16146.0</td>\n",
       "      <td>1061.0</td>\n",
       "      <td>4105.0</td>\n",
       "      <td>0.276353</td>\n",
       "      <td>0.254243</td>\n",
       "    </tr>\n",
       "  </tbody>\n",
       "</table>\n",
       "</div>"
      ],
      "text/plain": [
       "           country rank_display         region score  \\\n",
       "3    United States            4  North America  97.7   \n",
       "15   United States           16  North America  90.4   \n",
       "5   United Kingdom            6         Europe  95.3   \n",
       "4   United Kingdom            5         Europe  95.6   \n",
       "16   United States           17  North America  89.8   \n",
       "\n",
       "                                           title  Total faculty members  \\\n",
       "3   California Institute of Technology (Caltech)                  953.0   \n",
       "15                               Yale University                 4940.0   \n",
       "5                           University of Oxford                 6750.0   \n",
       "4                        University of Cambridge                 5490.0   \n",
       "16                      Johns Hopkins University                 4462.0   \n",
       "\n",
       "    Total students  International faculty members  International students  \\\n",
       "3           2255.0                          350.0                   647.0   \n",
       "15         12402.0                         1708.0                  2469.0   \n",
       "5          19720.0                         2964.0                  7353.0   \n",
       "4          18770.0                         2278.0                  6699.0   \n",
       "16         16146.0                         1061.0                  4105.0   \n",
       "\n",
       "    Ratio faculty/students  Ratio intl/total students  \n",
       "3                 0.422616                   0.286918  \n",
       "15                0.398323                   0.199081  \n",
       "5                 0.342292                   0.372870  \n",
       "4                 0.292488                   0.356899  \n",
       "16                0.276353                   0.254243  "
      ]
     },
     "execution_count": 22,
     "metadata": {},
     "output_type": "execute_result"
    }
   ],
   "source": [
    "TU_fac_stud_df.head(5)"
   ]
  },
  {
   "cell_type": "markdown",
   "metadata": {},
   "source": [
    "### Best university: (b) ratio of international students"
   ]
  },
  {
   "cell_type": "code",
   "execution_count": 23,
   "metadata": {
    "collapsed": true
   },
   "outputs": [],
   "source": [
    "TU_intl_df = TU_df.sort_values('Ratio intl/total students', ascending=False)"
   ]
  },
  {
   "cell_type": "markdown",
   "metadata": {},
   "source": [
    "#### Top 5 by ratio of international students"
   ]
  },
  {
   "cell_type": "code",
   "execution_count": 24,
   "metadata": {},
   "outputs": [
    {
     "data": {
      "text/html": [
       "<div>\n",
       "<style>\n",
       "    .dataframe thead tr:only-child th {\n",
       "        text-align: right;\n",
       "    }\n",
       "\n",
       "    .dataframe thead th {\n",
       "        text-align: left;\n",
       "    }\n",
       "\n",
       "    .dataframe tbody tr th {\n",
       "        vertical-align: top;\n",
       "    }\n",
       "</style>\n",
       "<table border=\"1\" class=\"dataframe\">\n",
       "  <thead>\n",
       "    <tr style=\"text-align: right;\">\n",
       "      <th></th>\n",
       "      <th>country</th>\n",
       "      <th>rank_display</th>\n",
       "      <th>region</th>\n",
       "      <th>score</th>\n",
       "      <th>title</th>\n",
       "      <th>Total faculty members</th>\n",
       "      <th>Total students</th>\n",
       "      <th>International faculty members</th>\n",
       "      <th>International students</th>\n",
       "      <th>Ratio faculty/students</th>\n",
       "      <th>Ratio intl/total students</th>\n",
       "    </tr>\n",
       "  </thead>\n",
       "  <tbody>\n",
       "    <tr>\n",
       "      <th>34</th>\n",
       "      <td>United Kingdom</td>\n",
       "      <td>35</td>\n",
       "      <td>Europe</td>\n",
       "      <td>81.8</td>\n",
       "      <td>London School of Economics and Political Scien...</td>\n",
       "      <td>1088.0</td>\n",
       "      <td>9760.0</td>\n",
       "      <td>687.0</td>\n",
       "      <td>6748.0</td>\n",
       "      <td>0.111475</td>\n",
       "      <td>0.691393</td>\n",
       "    </tr>\n",
       "    <tr>\n",
       "      <th>11</th>\n",
       "      <td>Switzerland</td>\n",
       "      <td>12</td>\n",
       "      <td>Europe</td>\n",
       "      <td>91.2</td>\n",
       "      <td>Ecole Polytechnique Fédérale de Lausanne (EPFL)</td>\n",
       "      <td>1695.0</td>\n",
       "      <td>10343.0</td>\n",
       "      <td>1300.0</td>\n",
       "      <td>5896.0</td>\n",
       "      <td>0.163879</td>\n",
       "      <td>0.570047</td>\n",
       "    </tr>\n",
       "    <tr>\n",
       "      <th>7</th>\n",
       "      <td>United Kingdom</td>\n",
       "      <td>8</td>\n",
       "      <td>Europe</td>\n",
       "      <td>93.7</td>\n",
       "      <td>Imperial College London</td>\n",
       "      <td>3930.0</td>\n",
       "      <td>16090.0</td>\n",
       "      <td>2071.0</td>\n",
       "      <td>8746.0</td>\n",
       "      <td>0.244251</td>\n",
       "      <td>0.543567</td>\n",
       "    </tr>\n",
       "    <tr>\n",
       "      <th>198</th>\n",
       "      <td>Netherlands</td>\n",
       "      <td>200</td>\n",
       "      <td>Europe</td>\n",
       "      <td>47.9</td>\n",
       "      <td>Maastricht University</td>\n",
       "      <td>1277.0</td>\n",
       "      <td>16385.0</td>\n",
       "      <td>502.0</td>\n",
       "      <td>8234.0</td>\n",
       "      <td>0.077937</td>\n",
       "      <td>0.502533</td>\n",
       "    </tr>\n",
       "    <tr>\n",
       "      <th>47</th>\n",
       "      <td>United States</td>\n",
       "      <td>=47</td>\n",
       "      <td>North America</td>\n",
       "      <td>78.6</td>\n",
       "      <td>Carnegie Mellon University</td>\n",
       "      <td>1342.0</td>\n",
       "      <td>13356.0</td>\n",
       "      <td>425.0</td>\n",
       "      <td>6385.0</td>\n",
       "      <td>0.100479</td>\n",
       "      <td>0.478062</td>\n",
       "    </tr>\n",
       "  </tbody>\n",
       "</table>\n",
       "</div>"
      ],
      "text/plain": [
       "            country rank_display         region score  \\\n",
       "34   United Kingdom           35         Europe  81.8   \n",
       "11      Switzerland           12         Europe  91.2   \n",
       "7    United Kingdom            8         Europe  93.7   \n",
       "198     Netherlands          200         Europe  47.9   \n",
       "47    United States          =47  North America  78.6   \n",
       "\n",
       "                                                 title  Total faculty members  \\\n",
       "34   London School of Economics and Political Scien...                 1088.0   \n",
       "11     Ecole Polytechnique Fédérale de Lausanne (EPFL)                 1695.0   \n",
       "7                              Imperial College London                 3930.0   \n",
       "198                              Maastricht University                 1277.0   \n",
       "47                          Carnegie Mellon University                 1342.0   \n",
       "\n",
       "     Total students  International faculty members  International students  \\\n",
       "34           9760.0                          687.0                  6748.0   \n",
       "11          10343.0                         1300.0                  5896.0   \n",
       "7           16090.0                         2071.0                  8746.0   \n",
       "198         16385.0                          502.0                  8234.0   \n",
       "47          13356.0                          425.0                  6385.0   \n",
       "\n",
       "     Ratio faculty/students  Ratio intl/total students  \n",
       "34                 0.111475                   0.691393  \n",
       "11                 0.163879                   0.570047  \n",
       "7                  0.244251                   0.543567  \n",
       "198                0.077937                   0.502533  \n",
       "47                 0.100479                   0.478062  "
      ]
     },
     "execution_count": 24,
     "metadata": {},
     "output_type": "execute_result"
    }
   ],
   "source": [
    "TU_intl_df.head(5)"
   ]
  },
  {
   "cell_type": "markdown",
   "metadata": {},
   "source": [
    "------\n",
    "### 1.3 Ranking: regional and national results\n",
    "\n",
    "In this section we use the results obtained in **1.2** and aggregate them, separately, by country and region, thus providing answer to the question 2:\n",
    "\n",
    "*Answer the previous question aggregating the data by (c) country and (d) region.*\n",
    "\n",
    "The `DataFrame` contains all the datapoints we need for answering the questions, the only procedure we need to undertake is aggregation of data. We need to remove the calculated ratios per faculty since the summation would not result in proper result in this case (we would need to normalize the result otherwise). We can further remove the score and name of the university **manually**, since it does not play a role in the dataset, but since it is a variable on which we could not perform aggregation such variables would anyway be ignored by *Pandas*."
   ]
  },
  {
   "cell_type": "code",
   "execution_count": 25,
   "metadata": {},
   "outputs": [
    {
     "data": {
      "text/html": [
       "<div>\n",
       "<style>\n",
       "    .dataframe thead tr:only-child th {\n",
       "        text-align: right;\n",
       "    }\n",
       "\n",
       "    .dataframe thead th {\n",
       "        text-align: left;\n",
       "    }\n",
       "\n",
       "    .dataframe tbody tr th {\n",
       "        vertical-align: top;\n",
       "    }\n",
       "</style>\n",
       "<table border=\"1\" class=\"dataframe\">\n",
       "  <thead>\n",
       "    <tr style=\"text-align: right;\">\n",
       "      <th></th>\n",
       "      <th>country</th>\n",
       "      <th>rank_display</th>\n",
       "      <th>region</th>\n",
       "      <th>score</th>\n",
       "      <th>title</th>\n",
       "      <th>Total faculty members</th>\n",
       "      <th>Total students</th>\n",
       "      <th>International faculty members</th>\n",
       "      <th>International students</th>\n",
       "    </tr>\n",
       "  </thead>\n",
       "  <tbody>\n",
       "    <tr>\n",
       "      <th>0</th>\n",
       "      <td>United States</td>\n",
       "      <td>1</td>\n",
       "      <td>North America</td>\n",
       "      <td>100</td>\n",
       "      <td>Massachusetts Institute of Technology (MIT)</td>\n",
       "      <td>2982.0</td>\n",
       "      <td>11067.0</td>\n",
       "      <td>1679.0</td>\n",
       "      <td>3717.0</td>\n",
       "    </tr>\n",
       "  </tbody>\n",
       "</table>\n",
       "</div>"
      ],
      "text/plain": [
       "         country rank_display         region score  \\\n",
       "0  United States            1  North America   100   \n",
       "\n",
       "                                         title  Total faculty members  \\\n",
       "0  Massachusetts Institute of Technology (MIT)                 2982.0   \n",
       "\n",
       "   Total students  International faculty members  International students  \n",
       "0         11067.0                         1679.0                  3717.0  "
      ]
     },
     "execution_count": 25,
     "metadata": {},
     "output_type": "execute_result"
    }
   ],
   "source": [
    "TU_aggregate_df = TU_df.copy()\n",
    "TU_aggregate_df.drop(['Ratio faculty/students', 'Ratio intl/total students'], axis=1, inplace=True)\n",
    "TU_aggregate_df.head(1)"
   ]
  },
  {
   "cell_type": "markdown",
   "metadata": {},
   "source": [
    "---\n",
    "#### Aggregating data by country (c)\n",
    "\n",
    "We will group the data by the country and then sum the values of such aggregate to produce desired data."
   ]
  },
  {
   "cell_type": "code",
   "execution_count": 26,
   "metadata": {
    "scrolled": true
   },
   "outputs": [
    {
     "data": {
      "text/html": [
       "<div>\n",
       "<style>\n",
       "    .dataframe thead tr:only-child th {\n",
       "        text-align: right;\n",
       "    }\n",
       "\n",
       "    .dataframe thead th {\n",
       "        text-align: left;\n",
       "    }\n",
       "\n",
       "    .dataframe tbody tr th {\n",
       "        vertical-align: top;\n",
       "    }\n",
       "</style>\n",
       "<table border=\"1\" class=\"dataframe\">\n",
       "  <thead>\n",
       "    <tr style=\"text-align: right;\">\n",
       "      <th></th>\n",
       "      <th>Total faculty members</th>\n",
       "      <th>Total students</th>\n",
       "      <th>International faculty members</th>\n",
       "      <th>International students</th>\n",
       "    </tr>\n",
       "    <tr>\n",
       "      <th>country</th>\n",
       "      <th></th>\n",
       "      <th></th>\n",
       "      <th></th>\n",
       "      <th></th>\n",
       "    </tr>\n",
       "  </thead>\n",
       "  <tbody>\n",
       "    <tr>\n",
       "      <th>Argentina</th>\n",
       "      <td>16421.0</td>\n",
       "      <td>122301.0</td>\n",
       "      <td>3165.0</td>\n",
       "      <td>27109.0</td>\n",
       "    </tr>\n",
       "    <tr>\n",
       "      <th>Australia</th>\n",
       "      <td>22034.0</td>\n",
       "      <td>301994.0</td>\n",
       "      <td>11382.0</td>\n",
       "      <td>106359.0</td>\n",
       "    </tr>\n",
       "  </tbody>\n",
       "</table>\n",
       "</div>"
      ],
      "text/plain": [
       "           Total faculty members  Total students  \\\n",
       "country                                            \n",
       "Argentina                16421.0        122301.0   \n",
       "Australia                22034.0        301994.0   \n",
       "\n",
       "           International faculty members  International students  \n",
       "country                                                           \n",
       "Argentina                         3165.0                 27109.0  \n",
       "Australia                        11382.0                106359.0  "
      ]
     },
     "execution_count": 26,
     "metadata": {},
     "output_type": "execute_result"
    }
   ],
   "source": [
    "# we can compose multiple functions to reduce code clutter\n",
    "TU_country_df = TU_aggregate_df.groupby(['country']).sum()\n",
    "TU_country_df.head(2)"
   ]
  },
  {
   "cell_type": "markdown",
   "metadata": {},
   "source": [
    "As done previously, desired ratios are calculated and added to the `DataFrame`:"
   ]
  },
  {
   "cell_type": "code",
   "execution_count": 27,
   "metadata": {
    "collapsed": true
   },
   "outputs": [],
   "source": [
    "TU_country_df['Ratio faculty/students'] = TU_country_df['Total faculty members']/TU_country_df['Total students']\n",
    "TU_country_df['Ratio intl/total students'] = TU_country_df['International students']/TU_country_df['Total students']"
   ]
  },
  {
   "cell_type": "markdown",
   "metadata": {},
   "source": [
    "#### Top 5 countries with Universities with highest ratio of faculty to students"
   ]
  },
  {
   "cell_type": "code",
   "execution_count": 28,
   "metadata": {},
   "outputs": [
    {
     "data": {
      "text/html": [
       "<div>\n",
       "<style>\n",
       "    .dataframe thead tr:only-child th {\n",
       "        text-align: right;\n",
       "    }\n",
       "\n",
       "    .dataframe thead th {\n",
       "        text-align: left;\n",
       "    }\n",
       "\n",
       "    .dataframe tbody tr th {\n",
       "        vertical-align: top;\n",
       "    }\n",
       "</style>\n",
       "<table border=\"1\" class=\"dataframe\">\n",
       "  <thead>\n",
       "    <tr style=\"text-align: right;\">\n",
       "      <th></th>\n",
       "      <th>Total faculty members</th>\n",
       "      <th>Total students</th>\n",
       "      <th>International faculty members</th>\n",
       "      <th>International students</th>\n",
       "      <th>Ratio faculty/students</th>\n",
       "      <th>Ratio intl/total students</th>\n",
       "    </tr>\n",
       "    <tr>\n",
       "      <th>country</th>\n",
       "      <th></th>\n",
       "      <th></th>\n",
       "      <th></th>\n",
       "      <th></th>\n",
       "      <th></th>\n",
       "      <th></th>\n",
       "    </tr>\n",
       "  </thead>\n",
       "  <tbody>\n",
       "    <tr>\n",
       "      <th>Russia</th>\n",
       "      <td>6709.0</td>\n",
       "      <td>30233.0</td>\n",
       "      <td>373.0</td>\n",
       "      <td>5098.0</td>\n",
       "      <td>0.221910</td>\n",
       "      <td>0.168624</td>\n",
       "    </tr>\n",
       "    <tr>\n",
       "      <th>Denmark</th>\n",
       "      <td>11916.0</td>\n",
       "      <td>67223.0</td>\n",
       "      <td>3904.0</td>\n",
       "      <td>9543.0</td>\n",
       "      <td>0.177261</td>\n",
       "      <td>0.141960</td>\n",
       "    </tr>\n",
       "    <tr>\n",
       "      <th>Saudi Arabia</th>\n",
       "      <td>1062.0</td>\n",
       "      <td>6040.0</td>\n",
       "      <td>665.0</td>\n",
       "      <td>989.0</td>\n",
       "      <td>0.175828</td>\n",
       "      <td>0.163742</td>\n",
       "    </tr>\n",
       "    <tr>\n",
       "      <th>Singapore</th>\n",
       "      <td>9444.0</td>\n",
       "      <td>58466.0</td>\n",
       "      <td>6079.0</td>\n",
       "      <td>16168.0</td>\n",
       "      <td>0.161530</td>\n",
       "      <td>0.276537</td>\n",
       "    </tr>\n",
       "    <tr>\n",
       "      <th>Malaysia</th>\n",
       "      <td>2755.0</td>\n",
       "      <td>17902.0</td>\n",
       "      <td>655.0</td>\n",
       "      <td>3476.0</td>\n",
       "      <td>0.153893</td>\n",
       "      <td>0.194168</td>\n",
       "    </tr>\n",
       "  </tbody>\n",
       "</table>\n",
       "</div>"
      ],
      "text/plain": [
       "              Total faculty members  Total students  \\\n",
       "country                                               \n",
       "Russia                       6709.0         30233.0   \n",
       "Denmark                     11916.0         67223.0   \n",
       "Saudi Arabia                 1062.0          6040.0   \n",
       "Singapore                    9444.0         58466.0   \n",
       "Malaysia                     2755.0         17902.0   \n",
       "\n",
       "              International faculty members  International students  \\\n",
       "country                                                               \n",
       "Russia                                373.0                  5098.0   \n",
       "Denmark                              3904.0                  9543.0   \n",
       "Saudi Arabia                          665.0                   989.0   \n",
       "Singapore                            6079.0                 16168.0   \n",
       "Malaysia                              655.0                  3476.0   \n",
       "\n",
       "              Ratio faculty/students  Ratio intl/total students  \n",
       "country                                                          \n",
       "Russia                      0.221910                   0.168624  \n",
       "Denmark                     0.177261                   0.141960  \n",
       "Saudi Arabia                0.175828                   0.163742  \n",
       "Singapore                   0.161530                   0.276537  \n",
       "Malaysia                    0.153893                   0.194168  "
      ]
     },
     "execution_count": 28,
     "metadata": {},
     "output_type": "execute_result"
    }
   ],
   "source": [
    "TU_country_df.sort_values('Ratio faculty/students', ascending=False).head(5)"
   ]
  },
  {
   "cell_type": "markdown",
   "metadata": {},
   "source": [
    "#### Top 5 countries with Universities with highest ratio of international students"
   ]
  },
  {
   "cell_type": "code",
   "execution_count": 29,
   "metadata": {},
   "outputs": [
    {
     "data": {
      "text/html": [
       "<div>\n",
       "<style>\n",
       "    .dataframe thead tr:only-child th {\n",
       "        text-align: right;\n",
       "    }\n",
       "\n",
       "    .dataframe thead th {\n",
       "        text-align: left;\n",
       "    }\n",
       "\n",
       "    .dataframe tbody tr th {\n",
       "        vertical-align: top;\n",
       "    }\n",
       "</style>\n",
       "<table border=\"1\" class=\"dataframe\">\n",
       "  <thead>\n",
       "    <tr style=\"text-align: right;\">\n",
       "      <th></th>\n",
       "      <th>Total faculty members</th>\n",
       "      <th>Total students</th>\n",
       "      <th>International faculty members</th>\n",
       "      <th>International students</th>\n",
       "      <th>Ratio faculty/students</th>\n",
       "      <th>Ratio intl/total students</th>\n",
       "    </tr>\n",
       "    <tr>\n",
       "      <th>country</th>\n",
       "      <th></th>\n",
       "      <th></th>\n",
       "      <th></th>\n",
       "      <th></th>\n",
       "      <th></th>\n",
       "      <th></th>\n",
       "    </tr>\n",
       "  </thead>\n",
       "  <tbody>\n",
       "    <tr>\n",
       "      <th>Australia</th>\n",
       "      <td>22034.0</td>\n",
       "      <td>301994.0</td>\n",
       "      <td>11382.0</td>\n",
       "      <td>106359.0</td>\n",
       "      <td>0.072962</td>\n",
       "      <td>0.352189</td>\n",
       "    </tr>\n",
       "    <tr>\n",
       "      <th>United Kingdom</th>\n",
       "      <td>79934.0</td>\n",
       "      <td>583621.0</td>\n",
       "      <td>30216.0</td>\n",
       "      <td>199426.0</td>\n",
       "      <td>0.136962</td>\n",
       "      <td>0.341705</td>\n",
       "    </tr>\n",
       "    <tr>\n",
       "      <th>Hong Kong</th>\n",
       "      <td>10166.0</td>\n",
       "      <td>78838.0</td>\n",
       "      <td>6296.0</td>\n",
       "      <td>24499.0</td>\n",
       "      <td>0.128948</td>\n",
       "      <td>0.310751</td>\n",
       "    </tr>\n",
       "    <tr>\n",
       "      <th>Austria</th>\n",
       "      <td>4117.0</td>\n",
       "      <td>63446.0</td>\n",
       "      <td>1572.0</td>\n",
       "      <td>19667.0</td>\n",
       "      <td>0.064890</td>\n",
       "      <td>0.309980</td>\n",
       "    </tr>\n",
       "    <tr>\n",
       "      <th>Switzerland</th>\n",
       "      <td>15323.0</td>\n",
       "      <td>109112.0</td>\n",
       "      <td>9208.0</td>\n",
       "      <td>32995.0</td>\n",
       "      <td>0.140434</td>\n",
       "      <td>0.302396</td>\n",
       "    </tr>\n",
       "  </tbody>\n",
       "</table>\n",
       "</div>"
      ],
      "text/plain": [
       "                Total faculty members  Total students  \\\n",
       "country                                                 \n",
       "Australia                     22034.0        301994.0   \n",
       "United Kingdom                79934.0        583621.0   \n",
       "Hong Kong                     10166.0         78838.0   \n",
       "Austria                        4117.0         63446.0   \n",
       "Switzerland                   15323.0        109112.0   \n",
       "\n",
       "                International faculty members  International students  \\\n",
       "country                                                                 \n",
       "Australia                             11382.0                106359.0   \n",
       "United Kingdom                        30216.0                199426.0   \n",
       "Hong Kong                              6296.0                 24499.0   \n",
       "Austria                                1572.0                 19667.0   \n",
       "Switzerland                            9208.0                 32995.0   \n",
       "\n",
       "                Ratio faculty/students  Ratio intl/total students  \n",
       "country                                                            \n",
       "Australia                     0.072962                   0.352189  \n",
       "United Kingdom                0.136962                   0.341705  \n",
       "Hong Kong                     0.128948                   0.310751  \n",
       "Austria                       0.064890                   0.309980  \n",
       "Switzerland                   0.140434                   0.302396  "
      ]
     },
     "execution_count": 29,
     "metadata": {},
     "output_type": "execute_result"
    }
   ],
   "source": [
    "TU_country_df.sort_values('Ratio intl/total students', ascending=False).head(5)"
   ]
  },
  {
   "cell_type": "markdown",
   "metadata": {},
   "source": [
    "---\n",
    "#### Aggregating data by region (d)\n",
    "\n",
    "We perform the same procedure with grouping by the region instead of country."
   ]
  },
  {
   "cell_type": "code",
   "execution_count": 30,
   "metadata": {
    "scrolled": true
   },
   "outputs": [
    {
     "data": {
      "text/html": [
       "<div>\n",
       "<style>\n",
       "    .dataframe thead tr:only-child th {\n",
       "        text-align: right;\n",
       "    }\n",
       "\n",
       "    .dataframe thead th {\n",
       "        text-align: left;\n",
       "    }\n",
       "\n",
       "    .dataframe tbody tr th {\n",
       "        vertical-align: top;\n",
       "    }\n",
       "</style>\n",
       "<table border=\"1\" class=\"dataframe\">\n",
       "  <thead>\n",
       "    <tr style=\"text-align: right;\">\n",
       "      <th></th>\n",
       "      <th>Total faculty members</th>\n",
       "      <th>Total students</th>\n",
       "      <th>International faculty members</th>\n",
       "      <th>International students</th>\n",
       "    </tr>\n",
       "    <tr>\n",
       "      <th>region</th>\n",
       "      <th></th>\n",
       "      <th></th>\n",
       "      <th></th>\n",
       "      <th></th>\n",
       "    </tr>\n",
       "  </thead>\n",
       "  <tbody>\n",
       "    <tr>\n",
       "      <th>Africa</th>\n",
       "      <td>1733.0</td>\n",
       "      <td>19593.0</td>\n",
       "      <td>379.0</td>\n",
       "      <td>3325.0</td>\n",
       "    </tr>\n",
       "    <tr>\n",
       "      <th>Asia</th>\n",
       "      <td>106734.0</td>\n",
       "      <td>807003.0</td>\n",
       "      <td>25462.0</td>\n",
       "      <td>110100.0</td>\n",
       "    </tr>\n",
       "  </tbody>\n",
       "</table>\n",
       "</div>"
      ],
      "text/plain": [
       "        Total faculty members  Total students  International faculty members  \\\n",
       "region                                                                         \n",
       "Africa                 1733.0         19593.0                          379.0   \n",
       "Asia                 106734.0        807003.0                        25462.0   \n",
       "\n",
       "        International students  \n",
       "region                          \n",
       "Africa                  3325.0  \n",
       "Asia                  110100.0  "
      ]
     },
     "execution_count": 30,
     "metadata": {},
     "output_type": "execute_result"
    }
   ],
   "source": [
    "TU_region_df = TU_aggregate_df.groupby(['region']).sum()\n",
    "TU_region_df.head(2)"
   ]
  },
  {
   "cell_type": "markdown",
   "metadata": {},
   "source": [
    "We calculate the desired ratios by the region and then present the top 5 regions by each criterion."
   ]
  },
  {
   "cell_type": "code",
   "execution_count": 31,
   "metadata": {
    "collapsed": true
   },
   "outputs": [],
   "source": [
    "TU_region_df['Ratio faculty/students'] = TU_region_df['Total faculty members']/TU_region_df['Total students']\n",
    "TU_region_df['Ratio intl/total students'] = TU_region_df['International students']/TU_region_df['Total students']"
   ]
  },
  {
   "cell_type": "markdown",
   "metadata": {},
   "source": [
    "#### Top 5 regions with Universities with the highest faculty to student ratio"
   ]
  },
  {
   "cell_type": "code",
   "execution_count": 32,
   "metadata": {},
   "outputs": [
    {
     "data": {
      "text/html": [
       "<div>\n",
       "<style>\n",
       "    .dataframe thead tr:only-child th {\n",
       "        text-align: right;\n",
       "    }\n",
       "\n",
       "    .dataframe thead th {\n",
       "        text-align: left;\n",
       "    }\n",
       "\n",
       "    .dataframe tbody tr th {\n",
       "        vertical-align: top;\n",
       "    }\n",
       "</style>\n",
       "<table border=\"1\" class=\"dataframe\">\n",
       "  <thead>\n",
       "    <tr style=\"text-align: right;\">\n",
       "      <th></th>\n",
       "      <th>Total faculty members</th>\n",
       "      <th>Total students</th>\n",
       "      <th>International faculty members</th>\n",
       "      <th>International students</th>\n",
       "      <th>Ratio faculty/students</th>\n",
       "      <th>Ratio intl/total students</th>\n",
       "    </tr>\n",
       "    <tr>\n",
       "      <th>region</th>\n",
       "      <th></th>\n",
       "      <th></th>\n",
       "      <th></th>\n",
       "      <th></th>\n",
       "      <th></th>\n",
       "      <th></th>\n",
       "    </tr>\n",
       "  </thead>\n",
       "  <tbody>\n",
       "    <tr>\n",
       "      <th>Asia</th>\n",
       "      <td>106734.0</td>\n",
       "      <td>807003.0</td>\n",
       "      <td>25462.0</td>\n",
       "      <td>110100.0</td>\n",
       "      <td>0.132260</td>\n",
       "      <td>0.136431</td>\n",
       "    </tr>\n",
       "    <tr>\n",
       "      <th>North America</th>\n",
       "      <td>189984.0</td>\n",
       "      <td>1604772.0</td>\n",
       "      <td>44455.0</td>\n",
       "      <td>307305.0</td>\n",
       "      <td>0.118387</td>\n",
       "      <td>0.191494</td>\n",
       "    </tr>\n",
       "    <tr>\n",
       "      <th>Europe</th>\n",
       "      <td>218358.0</td>\n",
       "      <td>1957251.0</td>\n",
       "      <td>67598.0</td>\n",
       "      <td>449364.0</td>\n",
       "      <td>0.111564</td>\n",
       "      <td>0.229589</td>\n",
       "    </tr>\n",
       "    <tr>\n",
       "      <th>Latin America</th>\n",
       "      <td>45382.0</td>\n",
       "      <td>435750.0</td>\n",
       "      <td>5648.0</td>\n",
       "      <td>36871.0</td>\n",
       "      <td>0.104147</td>\n",
       "      <td>0.084615</td>\n",
       "    </tr>\n",
       "    <tr>\n",
       "      <th>Africa</th>\n",
       "      <td>1733.0</td>\n",
       "      <td>19593.0</td>\n",
       "      <td>379.0</td>\n",
       "      <td>3325.0</td>\n",
       "      <td>0.088450</td>\n",
       "      <td>0.169703</td>\n",
       "    </tr>\n",
       "  </tbody>\n",
       "</table>\n",
       "</div>"
      ],
      "text/plain": [
       "               Total faculty members  Total students  \\\n",
       "region                                                 \n",
       "Asia                        106734.0        807003.0   \n",
       "North America               189984.0       1604772.0   \n",
       "Europe                      218358.0       1957251.0   \n",
       "Latin America                45382.0        435750.0   \n",
       "Africa                        1733.0         19593.0   \n",
       "\n",
       "               International faculty members  International students  \\\n",
       "region                                                                 \n",
       "Asia                                 25462.0                110100.0   \n",
       "North America                        44455.0                307305.0   \n",
       "Europe                               67598.0                449364.0   \n",
       "Latin America                         5648.0                 36871.0   \n",
       "Africa                                 379.0                  3325.0   \n",
       "\n",
       "               Ratio faculty/students  Ratio intl/total students  \n",
       "region                                                            \n",
       "Asia                         0.132260                   0.136431  \n",
       "North America                0.118387                   0.191494  \n",
       "Europe                       0.111564                   0.229589  \n",
       "Latin America                0.104147                   0.084615  \n",
       "Africa                       0.088450                   0.169703  "
      ]
     },
     "execution_count": 32,
     "metadata": {},
     "output_type": "execute_result"
    }
   ],
   "source": [
    "TU_region_df.sort_values(['Ratio faculty/students'], ascending=False).head(5)"
   ]
  },
  {
   "cell_type": "markdown",
   "metadata": {},
   "source": [
    "#### Top 5 regions with Universities with the highest ratio of international students"
   ]
  },
  {
   "cell_type": "code",
   "execution_count": 33,
   "metadata": {},
   "outputs": [
    {
     "data": {
      "text/html": [
       "<div>\n",
       "<style>\n",
       "    .dataframe thead tr:only-child th {\n",
       "        text-align: right;\n",
       "    }\n",
       "\n",
       "    .dataframe thead th {\n",
       "        text-align: left;\n",
       "    }\n",
       "\n",
       "    .dataframe tbody tr th {\n",
       "        vertical-align: top;\n",
       "    }\n",
       "</style>\n",
       "<table border=\"1\" class=\"dataframe\">\n",
       "  <thead>\n",
       "    <tr style=\"text-align: right;\">\n",
       "      <th></th>\n",
       "      <th>Total faculty members</th>\n",
       "      <th>Total students</th>\n",
       "      <th>International faculty members</th>\n",
       "      <th>International students</th>\n",
       "      <th>Ratio faculty/students</th>\n",
       "      <th>Ratio intl/total students</th>\n",
       "    </tr>\n",
       "    <tr>\n",
       "      <th>region</th>\n",
       "      <th></th>\n",
       "      <th></th>\n",
       "      <th></th>\n",
       "      <th></th>\n",
       "      <th></th>\n",
       "      <th></th>\n",
       "    </tr>\n",
       "  </thead>\n",
       "  <tbody>\n",
       "    <tr>\n",
       "      <th>Oceania</th>\n",
       "      <td>25347.0</td>\n",
       "      <td>350167.0</td>\n",
       "      <td>12786.0</td>\n",
       "      <td>118798.0</td>\n",
       "      <td>0.072385</td>\n",
       "      <td>0.339261</td>\n",
       "    </tr>\n",
       "    <tr>\n",
       "      <th>Europe</th>\n",
       "      <td>218358.0</td>\n",
       "      <td>1957251.0</td>\n",
       "      <td>67598.0</td>\n",
       "      <td>449364.0</td>\n",
       "      <td>0.111564</td>\n",
       "      <td>0.229589</td>\n",
       "    </tr>\n",
       "    <tr>\n",
       "      <th>North America</th>\n",
       "      <td>189984.0</td>\n",
       "      <td>1604772.0</td>\n",
       "      <td>44455.0</td>\n",
       "      <td>307305.0</td>\n",
       "      <td>0.118387</td>\n",
       "      <td>0.191494</td>\n",
       "    </tr>\n",
       "    <tr>\n",
       "      <th>Africa</th>\n",
       "      <td>1733.0</td>\n",
       "      <td>19593.0</td>\n",
       "      <td>379.0</td>\n",
       "      <td>3325.0</td>\n",
       "      <td>0.088450</td>\n",
       "      <td>0.169703</td>\n",
       "    </tr>\n",
       "    <tr>\n",
       "      <th>Asia</th>\n",
       "      <td>106734.0</td>\n",
       "      <td>807003.0</td>\n",
       "      <td>25462.0</td>\n",
       "      <td>110100.0</td>\n",
       "      <td>0.132260</td>\n",
       "      <td>0.136431</td>\n",
       "    </tr>\n",
       "  </tbody>\n",
       "</table>\n",
       "</div>"
      ],
      "text/plain": [
       "               Total faculty members  Total students  \\\n",
       "region                                                 \n",
       "Oceania                      25347.0        350167.0   \n",
       "Europe                      218358.0       1957251.0   \n",
       "North America               189984.0       1604772.0   \n",
       "Africa                        1733.0         19593.0   \n",
       "Asia                        106734.0        807003.0   \n",
       "\n",
       "               International faculty members  International students  \\\n",
       "region                                                                 \n",
       "Oceania                              12786.0                118798.0   \n",
       "Europe                               67598.0                449364.0   \n",
       "North America                        44455.0                307305.0   \n",
       "Africa                                 379.0                  3325.0   \n",
       "Asia                                 25462.0                110100.0   \n",
       "\n",
       "               Ratio faculty/students  Ratio intl/total students  \n",
       "region                                                            \n",
       "Oceania                      0.072385                   0.339261  \n",
       "Europe                       0.111564                   0.229589  \n",
       "North America                0.118387                   0.191494  \n",
       "Africa                       0.088450                   0.169703  \n",
       "Asia                         0.132260                   0.136431  "
      ]
     },
     "execution_count": 33,
     "metadata": {},
     "output_type": "execute_result"
    }
   ],
   "source": [
    "TU_region_df.sort_values(['Ratio intl/total students'], ascending=False).head(5)"
   ]
  },
  {
   "cell_type": "markdown",
   "metadata": {},
   "source": [
    "## 2. World University Rankings by TimesHigherEducation"
   ]
  },
  {
   "cell_type": "markdown",
   "metadata": {},
   "source": [
    "In this chapter, we will scrape the data from [TimesHigherEducation ranking 2018](http://timeshighereducation.com/world-university-rankings/2018/world-ranking), as well as answering the assignment questions by performing simple data analysis.\n"
   ]
  },
  {
   "cell_type": "markdown",
   "metadata": {},
   "source": [
    "Pandas options setting for a better view of the data"
   ]
  },
  {
   "cell_type": "code",
   "execution_count": 34,
   "metadata": {
    "ExecuteTime": {
     "end_time": "2017-10-21T21:05:10.340229Z",
     "start_time": "2017-10-21T21:05:10.337211Z"
    },
    "collapsed": true
   },
   "outputs": [],
   "source": [
    "pd.set_option('display.max_columns', None)\n",
    "\n",
    "pd.set_option('display.max_rows', None)"
   ]
  },
  {
   "cell_type": "markdown",
   "metadata": {},
   "source": [
    "### Analysis of the website to scrape\n",
    "\n",
    "As in the case for task 1, we notice, using Interceptor Chrome app and Postman, that when accessing the main list url\n",
    "\n",
    "http://timeshighereducation.com/world-university-rankings/2018/world-ranking \n",
    "\n",
    "\n",
    "another specific **GET** request is made to one of the server's REST API endpoints\n",
    "\n",
    "https://www.timeshighereducation.com/sites/default/files/the_data_rankings/world_university_rankings_2018_limit0_369a9045a203e176392b9fb8f8c1cb2a.json\n",
    "\n",
    "which serves a file in JSON format that contains a data field with information about each university in the ranking."
   ]
  },
  {
   "cell_type": "markdown",
   "metadata": {},
   "source": [
    "#### Implementing the scrapping procedure\n",
    "\n",
    "We begin by extracting the JSON file found previously with Interceptor and Postman and processing it as a JSON. In order to do so, we implement an utility function that sends a **GET** request to a server's API endpoint identified by the url.\n",
    "\n",
    "The result is saved in a dictionary so that the http request is made only once per url."
   ]
  },
  {
   "cell_type": "code",
   "execution_count": 35,
   "metadata": {
    "ExecuteTime": {
     "end_time": "2017-10-21T21:05:10.770393Z",
     "start_time": "2017-10-21T21:05:10.764501Z"
    },
    "collapsed": true
   },
   "outputs": [],
   "source": [
    "json_data = {}\n",
    "def get_json(url):\n",
    "    if url not in json_data:\n",
    "        r = requests.get(url)\n",
    "        json_data[url] = r\n",
    "    else:\n",
    "        r = json_data[url]\n",
    "        \n",
    "    return r.json()"
   ]
  },
  {
   "cell_type": "code",
   "execution_count": 36,
   "metadata": {
    "ExecuteTime": {
     "end_time": "2017-10-21T21:05:11.492430Z",
     "start_time": "2017-10-21T21:05:10.913491Z"
    },
    "collapsed": true
   },
   "outputs": [],
   "source": [
    "thedu_url = 'https://www.timeshighereducation.com'\n",
    "thedu_json_url = '/sites/default/files/the_data_rankings/world_university_rankings_2018_limit0_369a9045a203e176392b9fb8f8c1cb2a.json'\n",
    "\n",
    "json_data_thedu = get_json(thedu_url + thedu_json_url)"
   ]
  },
  {
   "cell_type": "markdown",
   "metadata": {},
   "source": [
    "#### Analysis of the json object format"
   ]
  },
  {
   "cell_type": "code",
   "execution_count": 37,
   "metadata": {
    "ExecuteTime": {
     "end_time": "2017-10-21T21:05:11.586425Z",
     "start_time": "2017-10-21T21:05:11.580264Z"
    }
   },
   "outputs": [
    {
     "data": {
      "text/plain": [
       "dict_keys(['pillars', 'data', 'locations', 'subjects'])"
      ]
     },
     "metadata": {},
     "output_type": "display_data"
    },
    {
     "data": {
      "text/plain": [
       "{'aliases': 'University of Oxford',\n",
       " 'location': 'United Kingdom',\n",
       " 'member_level': '0',\n",
       " 'name': 'University of Oxford',\n",
       " 'nid': 468,\n",
       " 'rank': '1',\n",
       " 'rank_order': '10',\n",
       " 'record_type': 'master_account',\n",
       " 'scores_citations': '99.1',\n",
       " 'scores_citations_rank': '15',\n",
       " 'scores_industry_income': '63.7',\n",
       " 'scores_industry_income_rank': '169',\n",
       " 'scores_international_outlook': '95.0',\n",
       " 'scores_international_outlook_rank': '24',\n",
       " 'scores_overall': '94.3',\n",
       " 'scores_overall_rank': '10',\n",
       " 'scores_research': '99.5',\n",
       " 'scores_research_rank': '1',\n",
       " 'scores_teaching': '86.7',\n",
       " 'scores_teaching_rank': '5',\n",
       " 'stats_female_male_ratio': '46 : 54',\n",
       " 'stats_number_students': '20,409',\n",
       " 'stats_pc_intl_students': '38%',\n",
       " 'stats_student_staff_ratio': '11.2',\n",
       " 'subjects_offered': 'Archaeology,Art, Performing Arts & Design,Biological Sciences,Business & Management,Chemical Engineering,Chemistry,Civil Engineering,Computer Science,Economics & Econometrics,Electrical & Electronic Engineering,General Engineering,Geography,Geology, Environmental, Earth & Marine Sciences,History, Philosophy & Theology,Languages, Literatures and Linguistics,Law,Mathematics & Statistics,Mechanical & Aerospace Engineering,Medicine & Dentistry,Physics & Astronomy,Psychology',\n",
       " 'url': '/world-university-rankings/university-oxford'}"
      ]
     },
     "metadata": {},
     "output_type": "display_data"
    }
   ],
   "source": [
    "# fields of the entire json object\n",
    "display(json_data_thedu.keys())\n",
    "# one entry in the data field\n",
    "display(json_data_thedu['data'][0])"
   ]
  },
  {
   "cell_type": "markdown",
   "metadata": {},
   "source": [
    "The retrieved json object has 4 fields: data, subjects, locations and pillars out of which we are interested only in data. Specifically in the first 200 entries in the corresponding array because, again, we are focusing on the 200 best ranking universities and not the universities until rank 200.\n",
    "\n",
    "#### Structure of data\n",
    "\n",
    "We observe that the data field contains the name, location which is basically the country, number of students, ratio of international students and ratio of student to staff which is enough to infer all the fields that are asked in the asignment, except the region and number of international faculty members. Therefore we are not required to aditionally scrape the detailed page of the univerities.\n",
    "\n",
    "Given that the region of a country cannot variate, for this field we will use external information, for example the dataframe from the previous task, to infer the region of an university. \n",
    "\n",
    "The number of international faculty members is not provided by the TimesHigherEducation, but we do not need it in our further analysis related to this task.\n",
    "\n",
    "Observing the data field is a list of records, it makes sense to load it in a DataFrame for easier manipulation."
   ]
  },
  {
   "cell_type": "code",
   "execution_count": 38,
   "metadata": {
    "ExecuteTime": {
     "end_time": "2017-10-21T21:05:11.691630Z",
     "start_time": "2017-10-21T21:05:11.678118Z"
    },
    "collapsed": true
   },
   "outputs": [],
   "source": [
    "data_thedu = pd.DataFrame(json_data_thedu['data'])"
   ]
  },
  {
   "cell_type": "code",
   "execution_count": 39,
   "metadata": {
    "ExecuteTime": {
     "end_time": "2017-10-21T21:05:14.378937Z",
     "start_time": "2017-10-21T21:05:14.350779Z"
    }
   },
   "outputs": [
    {
     "data": {
      "text/html": [
       "<div>\n",
       "<style>\n",
       "    .dataframe thead tr:only-child th {\n",
       "        text-align: right;\n",
       "    }\n",
       "\n",
       "    .dataframe thead th {\n",
       "        text-align: left;\n",
       "    }\n",
       "\n",
       "    .dataframe tbody tr th {\n",
       "        vertical-align: top;\n",
       "    }\n",
       "</style>\n",
       "<table border=\"1\" class=\"dataframe\">\n",
       "  <thead>\n",
       "    <tr style=\"text-align: right;\">\n",
       "      <th></th>\n",
       "      <th>aliases</th>\n",
       "      <th>location</th>\n",
       "      <th>member_level</th>\n",
       "      <th>name</th>\n",
       "      <th>nid</th>\n",
       "      <th>rank</th>\n",
       "      <th>rank_order</th>\n",
       "      <th>record_type</th>\n",
       "      <th>scores_citations</th>\n",
       "      <th>scores_citations_rank</th>\n",
       "      <th>scores_industry_income</th>\n",
       "      <th>scores_industry_income_rank</th>\n",
       "      <th>scores_international_outlook</th>\n",
       "      <th>scores_international_outlook_rank</th>\n",
       "      <th>scores_overall</th>\n",
       "      <th>scores_overall_rank</th>\n",
       "      <th>scores_research</th>\n",
       "      <th>scores_research_rank</th>\n",
       "      <th>scores_teaching</th>\n",
       "      <th>scores_teaching_rank</th>\n",
       "      <th>stats_female_male_ratio</th>\n",
       "      <th>stats_number_students</th>\n",
       "      <th>stats_pc_intl_students</th>\n",
       "      <th>stats_student_staff_ratio</th>\n",
       "      <th>subjects_offered</th>\n",
       "      <th>url</th>\n",
       "    </tr>\n",
       "  </thead>\n",
       "  <tbody>\n",
       "    <tr>\n",
       "      <th>0</th>\n",
       "      <td>University of Oxford</td>\n",
       "      <td>United Kingdom</td>\n",
       "      <td>0</td>\n",
       "      <td>University of Oxford</td>\n",
       "      <td>468</td>\n",
       "      <td>1</td>\n",
       "      <td>10</td>\n",
       "      <td>master_account</td>\n",
       "      <td>99.1</td>\n",
       "      <td>15</td>\n",
       "      <td>63.7</td>\n",
       "      <td>169</td>\n",
       "      <td>95.0</td>\n",
       "      <td>24</td>\n",
       "      <td>94.3</td>\n",
       "      <td>10</td>\n",
       "      <td>99.5</td>\n",
       "      <td>1</td>\n",
       "      <td>86.7</td>\n",
       "      <td>5</td>\n",
       "      <td>46 : 54</td>\n",
       "      <td>20,409</td>\n",
       "      <td>38%</td>\n",
       "      <td>11.2</td>\n",
       "      <td>Archaeology,Art, Performing Arts &amp; Design,Biol...</td>\n",
       "      <td>/world-university-rankings/university-oxford</td>\n",
       "    </tr>\n",
       "    <tr>\n",
       "      <th>1</th>\n",
       "      <td>University of Cambridge</td>\n",
       "      <td>United Kingdom</td>\n",
       "      <td>0</td>\n",
       "      <td>University of Cambridge</td>\n",
       "      <td>470</td>\n",
       "      <td>2</td>\n",
       "      <td>20</td>\n",
       "      <td>master_account</td>\n",
       "      <td>97.5</td>\n",
       "      <td>29</td>\n",
       "      <td>51.5</td>\n",
       "      <td>260</td>\n",
       "      <td>93.0</td>\n",
       "      <td>35</td>\n",
       "      <td>93.2</td>\n",
       "      <td>20</td>\n",
       "      <td>97.8</td>\n",
       "      <td>3</td>\n",
       "      <td>87.8</td>\n",
       "      <td>3</td>\n",
       "      <td>45 : 55</td>\n",
       "      <td>18,389</td>\n",
       "      <td>35%</td>\n",
       "      <td>10.9</td>\n",
       "      <td>Archaeology,Architecture,Art, Performing Arts ...</td>\n",
       "      <td>/world-university-rankings/university-cambridge</td>\n",
       "    </tr>\n",
       "    <tr>\n",
       "      <th>2</th>\n",
       "      <td>California Institute of Technology caltech</td>\n",
       "      <td>United States</td>\n",
       "      <td>0</td>\n",
       "      <td>California Institute of Technology</td>\n",
       "      <td>128779</td>\n",
       "      <td>=3</td>\n",
       "      <td>30</td>\n",
       "      <td>private</td>\n",
       "      <td>99.5</td>\n",
       "      <td>10</td>\n",
       "      <td>92.6</td>\n",
       "      <td>51</td>\n",
       "      <td>59.7</td>\n",
       "      <td>322</td>\n",
       "      <td>93.0</td>\n",
       "      <td>30</td>\n",
       "      <td>97.5</td>\n",
       "      <td>4</td>\n",
       "      <td>90.3</td>\n",
       "      <td>1</td>\n",
       "      <td>31 : 69</td>\n",
       "      <td>2,209</td>\n",
       "      <td>27%</td>\n",
       "      <td>6.5</td>\n",
       "      <td>Architecture,Biological Sciences,Business &amp; Ma...</td>\n",
       "      <td>/world-university-rankings/california-institut...</td>\n",
       "    </tr>\n",
       "    <tr>\n",
       "      <th>3</th>\n",
       "      <td>Stanford University</td>\n",
       "      <td>United States</td>\n",
       "      <td>11</td>\n",
       "      <td>Stanford University</td>\n",
       "      <td>467</td>\n",
       "      <td>=3</td>\n",
       "      <td>40</td>\n",
       "      <td>private</td>\n",
       "      <td>99.9</td>\n",
       "      <td>4</td>\n",
       "      <td>60.5</td>\n",
       "      <td>189</td>\n",
       "      <td>77.6</td>\n",
       "      <td>162</td>\n",
       "      <td>93.0</td>\n",
       "      <td>40</td>\n",
       "      <td>96.7</td>\n",
       "      <td>5</td>\n",
       "      <td>89.1</td>\n",
       "      <td>2</td>\n",
       "      <td>42 : 58</td>\n",
       "      <td>15,845</td>\n",
       "      <td>22%</td>\n",
       "      <td>7.5</td>\n",
       "      <td>Archaeology,Architecture,Art, Performing Arts ...</td>\n",
       "      <td>/world-university-rankings/stanford-university</td>\n",
       "    </tr>\n",
       "    <tr>\n",
       "      <th>4</th>\n",
       "      <td>Massachusetts Institute of Technology</td>\n",
       "      <td>United States</td>\n",
       "      <td>0</td>\n",
       "      <td>Massachusetts Institute of Technology</td>\n",
       "      <td>471</td>\n",
       "      <td>5</td>\n",
       "      <td>50</td>\n",
       "      <td>private</td>\n",
       "      <td>100.0</td>\n",
       "      <td>1</td>\n",
       "      <td>88.4</td>\n",
       "      <td>63</td>\n",
       "      <td>87.6</td>\n",
       "      <td>81</td>\n",
       "      <td>92.5</td>\n",
       "      <td>50</td>\n",
       "      <td>91.9</td>\n",
       "      <td>9</td>\n",
       "      <td>87.3</td>\n",
       "      <td>4</td>\n",
       "      <td>37 : 63</td>\n",
       "      <td>11,177</td>\n",
       "      <td>34%</td>\n",
       "      <td>8.7</td>\n",
       "      <td>Architecture,Art, Performing Arts &amp; Design,Bio...</td>\n",
       "      <td>/world-university-rankings/massachusetts-insti...</td>\n",
       "    </tr>\n",
       "  </tbody>\n",
       "</table>\n",
       "</div>"
      ],
      "text/plain": [
       "                                      aliases        location member_level  \\\n",
       "0                        University of Oxford  United Kingdom            0   \n",
       "1                     University of Cambridge  United Kingdom            0   \n",
       "2  California Institute of Technology caltech   United States            0   \n",
       "3                         Stanford University   United States           11   \n",
       "4       Massachusetts Institute of Technology   United States            0   \n",
       "\n",
       "                                    name     nid rank rank_order  \\\n",
       "0                   University of Oxford     468    1         10   \n",
       "1                University of Cambridge     470    2         20   \n",
       "2     California Institute of Technology  128779   =3         30   \n",
       "3                    Stanford University     467   =3         40   \n",
       "4  Massachusetts Institute of Technology     471    5         50   \n",
       "\n",
       "      record_type scores_citations scores_citations_rank  \\\n",
       "0  master_account             99.1                    15   \n",
       "1  master_account             97.5                    29   \n",
       "2         private             99.5                    10   \n",
       "3         private             99.9                     4   \n",
       "4         private            100.0                     1   \n",
       "\n",
       "  scores_industry_income scores_industry_income_rank  \\\n",
       "0                   63.7                         169   \n",
       "1                   51.5                         260   \n",
       "2                   92.6                          51   \n",
       "3                   60.5                         189   \n",
       "4                   88.4                          63   \n",
       "\n",
       "  scores_international_outlook scores_international_outlook_rank  \\\n",
       "0                         95.0                                24   \n",
       "1                         93.0                                35   \n",
       "2                         59.7                               322   \n",
       "3                         77.6                               162   \n",
       "4                         87.6                                81   \n",
       "\n",
       "  scores_overall scores_overall_rank scores_research scores_research_rank  \\\n",
       "0           94.3                  10            99.5                    1   \n",
       "1           93.2                  20            97.8                    3   \n",
       "2           93.0                  30            97.5                    4   \n",
       "3           93.0                  40            96.7                    5   \n",
       "4           92.5                  50            91.9                    9   \n",
       "\n",
       "  scores_teaching scores_teaching_rank stats_female_male_ratio  \\\n",
       "0            86.7                    5                 46 : 54   \n",
       "1            87.8                    3                 45 : 55   \n",
       "2            90.3                    1                 31 : 69   \n",
       "3            89.1                    2                 42 : 58   \n",
       "4            87.3                    4                 37 : 63   \n",
       "\n",
       "  stats_number_students stats_pc_intl_students stats_student_staff_ratio  \\\n",
       "0                20,409                    38%                      11.2   \n",
       "1                18,389                    35%                      10.9   \n",
       "2                 2,209                    27%                       6.5   \n",
       "3                15,845                    22%                       7.5   \n",
       "4                11,177                    34%                       8.7   \n",
       "\n",
       "                                    subjects_offered  \\\n",
       "0  Archaeology,Art, Performing Arts & Design,Biol...   \n",
       "1  Archaeology,Architecture,Art, Performing Arts ...   \n",
       "2  Architecture,Biological Sciences,Business & Ma...   \n",
       "3  Archaeology,Architecture,Art, Performing Arts ...   \n",
       "4  Architecture,Art, Performing Arts & Design,Bio...   \n",
       "\n",
       "                                                 url  \n",
       "0       /world-university-rankings/university-oxford  \n",
       "1    /world-university-rankings/university-cambridge  \n",
       "2  /world-university-rankings/california-institut...  \n",
       "3     /world-university-rankings/stanford-university  \n",
       "4  /world-university-rankings/massachusetts-insti...  "
      ]
     },
     "execution_count": 39,
     "metadata": {},
     "output_type": "execute_result"
    }
   ],
   "source": [
    "data_thedu.head()"
   ]
  },
  {
   "cell_type": "code",
   "execution_count": 40,
   "metadata": {
    "ExecuteTime": {
     "end_time": "2017-10-21T21:05:17.155071Z",
     "start_time": "2017-10-21T21:05:17.151361Z"
    }
   },
   "outputs": [
    {
     "data": {
      "text/plain": [
       "Index(['aliases', 'location', 'member_level', 'name', 'nid', 'rank',\n",
       "       'rank_order', 'record_type', 'scores_citations',\n",
       "       'scores_citations_rank', 'scores_industry_income',\n",
       "       'scores_industry_income_rank', 'scores_international_outlook',\n",
       "       'scores_international_outlook_rank', 'scores_overall',\n",
       "       'scores_overall_rank', 'scores_research', 'scores_research_rank',\n",
       "       'scores_teaching', 'scores_teaching_rank', 'stats_female_male_ratio',\n",
       "       'stats_number_students', 'stats_pc_intl_students',\n",
       "       'stats_student_staff_ratio', 'subjects_offered', 'url'],\n",
       "      dtype='object')"
      ]
     },
     "execution_count": 40,
     "metadata": {},
     "output_type": "execute_result"
    }
   ],
   "source": [
    "data_thedu.columns"
   ]
  },
  {
   "cell_type": "markdown",
   "metadata": {},
   "source": [
    "#### Restructuring the data"
   ]
  },
  {
   "cell_type": "markdown",
   "metadata": {},
   "source": [
    "As argued above, we will keep in the DataFrame only the columns that are relevant to our analysis:\n",
    "- name\n",
    "- rank\n",
    "- location\n",
    "- stats_number_students\n",
    "- stats_pc_intl_students\n",
    "- stats_student_staff_ratio"
   ]
  },
  {
   "cell_type": "code",
   "execution_count": 41,
   "metadata": {
    "ExecuteTime": {
     "end_time": "2017-10-21T21:05:20.478768Z",
     "start_time": "2017-10-21T21:05:20.471234Z"
    },
    "collapsed": true
   },
   "outputs": [],
   "source": [
    "columns_to_drop = data_thedu.columns.difference(['name', 'rank','location', 'stats_number_students', 'stats_pc_intl_students', 'stats_student_staff_ratio'])\n",
    "data_thedu = data_thedu.drop(columns_to_drop, axis=1)[0:200]"
   ]
  },
  {
   "cell_type": "code",
   "execution_count": 42,
   "metadata": {
    "ExecuteTime": {
     "end_time": "2017-10-21T21:05:20.937291Z",
     "start_time": "2017-10-21T21:05:20.929220Z"
    }
   },
   "outputs": [
    {
     "data": {
      "text/plain": [
       "0    38%\n",
       "1    35%\n",
       "2    27%\n",
       "3    22%\n",
       "4    34%\n",
       "Name: stats_pc_intl_students, dtype: object"
      ]
     },
     "execution_count": 42,
     "metadata": {},
     "output_type": "execute_result"
    }
   ],
   "source": [
    "data_thedu.stats_pc_intl_students.head()"
   ]
  },
  {
   "cell_type": "markdown",
   "metadata": {},
   "source": [
    "The column stats_pc_intl_students representing the percentage of international students does not have a format that allows us do the operations necessary to infer the number of international students. \n",
    "\n",
    "We will create a function that will parse the string values of this column and transform them into a value from [0,1]"
   ]
  },
  {
   "cell_type": "code",
   "execution_count": 43,
   "metadata": {
    "ExecuteTime": {
     "end_time": "2017-10-21T21:05:21.409539Z",
     "start_time": "2017-10-21T21:05:21.404142Z"
    },
    "collapsed": true
   },
   "outputs": [],
   "source": [
    "def percentage_to_ratio(value):\n",
    "    # we slice the value up until the last character\n",
    "    # then parse it as an int and divide it by 100 to obtain a value between 0 and 1\n",
    "    return int(value[:-1])/100"
   ]
  },
  {
   "cell_type": "code",
   "execution_count": 44,
   "metadata": {
    "ExecuteTime": {
     "end_time": "2017-10-21T21:05:21.920920Z",
     "start_time": "2017-10-21T21:05:21.871558Z"
    },
    "collapsed": true
   },
   "outputs": [],
   "source": [
    "data_thedu['stats_pc_intl_students'] = data_thedu['stats_pc_intl_students'].apply(percentage_to_ratio)\n",
    "data_thedu.rename(columns={'stats_pc_intl_students':'stats_intl_students_ratio'}, inplace=True)"
   ]
  },
  {
   "cell_type": "code",
   "execution_count": 45,
   "metadata": {
    "ExecuteTime": {
     "end_time": "2017-10-21T21:05:22.413215Z",
     "start_time": "2017-10-21T21:05:22.393035Z"
    }
   },
   "outputs": [
    {
     "data": {
      "text/html": [
       "<div>\n",
       "<style>\n",
       "    .dataframe thead tr:only-child th {\n",
       "        text-align: right;\n",
       "    }\n",
       "\n",
       "    .dataframe thead th {\n",
       "        text-align: left;\n",
       "    }\n",
       "\n",
       "    .dataframe tbody tr th {\n",
       "        vertical-align: top;\n",
       "    }\n",
       "</style>\n",
       "<table border=\"1\" class=\"dataframe\">\n",
       "  <thead>\n",
       "    <tr style=\"text-align: right;\">\n",
       "      <th></th>\n",
       "      <th>location</th>\n",
       "      <th>name</th>\n",
       "      <th>rank</th>\n",
       "      <th>stats_number_students</th>\n",
       "      <th>stats_intl_students_ratio</th>\n",
       "      <th>stats_student_staff_ratio</th>\n",
       "    </tr>\n",
       "  </thead>\n",
       "  <tbody>\n",
       "    <tr>\n",
       "      <th>0</th>\n",
       "      <td>United Kingdom</td>\n",
       "      <td>University of Oxford</td>\n",
       "      <td>1</td>\n",
       "      <td>20,409</td>\n",
       "      <td>0.38</td>\n",
       "      <td>11.2</td>\n",
       "    </tr>\n",
       "    <tr>\n",
       "      <th>1</th>\n",
       "      <td>United Kingdom</td>\n",
       "      <td>University of Cambridge</td>\n",
       "      <td>2</td>\n",
       "      <td>18,389</td>\n",
       "      <td>0.35</td>\n",
       "      <td>10.9</td>\n",
       "    </tr>\n",
       "    <tr>\n",
       "      <th>2</th>\n",
       "      <td>United States</td>\n",
       "      <td>California Institute of Technology</td>\n",
       "      <td>=3</td>\n",
       "      <td>2,209</td>\n",
       "      <td>0.27</td>\n",
       "      <td>6.5</td>\n",
       "    </tr>\n",
       "    <tr>\n",
       "      <th>3</th>\n",
       "      <td>United States</td>\n",
       "      <td>Stanford University</td>\n",
       "      <td>=3</td>\n",
       "      <td>15,845</td>\n",
       "      <td>0.22</td>\n",
       "      <td>7.5</td>\n",
       "    </tr>\n",
       "    <tr>\n",
       "      <th>4</th>\n",
       "      <td>United States</td>\n",
       "      <td>Massachusetts Institute of Technology</td>\n",
       "      <td>5</td>\n",
       "      <td>11,177</td>\n",
       "      <td>0.34</td>\n",
       "      <td>8.7</td>\n",
       "    </tr>\n",
       "  </tbody>\n",
       "</table>\n",
       "</div>"
      ],
      "text/plain": [
       "         location                                   name rank  \\\n",
       "0  United Kingdom                   University of Oxford    1   \n",
       "1  United Kingdom                University of Cambridge    2   \n",
       "2   United States     California Institute of Technology   =3   \n",
       "3   United States                    Stanford University   =3   \n",
       "4   United States  Massachusetts Institute of Technology    5   \n",
       "\n",
       "  stats_number_students  stats_intl_students_ratio stats_student_staff_ratio  \n",
       "0                20,409                       0.38                      11.2  \n",
       "1                18,389                       0.35                      10.9  \n",
       "2                 2,209                       0.27                       6.5  \n",
       "3                15,845                       0.22                       7.5  \n",
       "4                11,177                       0.34                       8.7  "
      ]
     },
     "execution_count": 45,
     "metadata": {},
     "output_type": "execute_result"
    }
   ],
   "source": [
    "data_thedu.head()"
   ]
  },
  {
   "cell_type": "markdown",
   "metadata": {},
   "source": [
    "### Inferring data\n",
    "\n",
    "We can now proceed to infer the number of international students and the number of faculty members\n",
    "\n",
    "The number of international students can be calculated as the product between the number of students and the international students ratio\n",
    "\n",
    "The number of faculty members can be calculated as the number of students divided by the student per staff ratio\n",
    "\n",
    "#### Data types"
   ]
  },
  {
   "cell_type": "code",
   "execution_count": 46,
   "metadata": {
    "ExecuteTime": {
     "end_time": "2017-10-21T21:06:45.628588Z",
     "start_time": "2017-10-21T21:06:45.618252Z"
    }
   },
   "outputs": [
    {
     "name": "stdout",
     "output_type": "stream",
     "text": [
      "<class 'pandas.core.frame.DataFrame'>\n",
      "RangeIndex: 200 entries, 0 to 199\n",
      "Data columns (total 6 columns):\n",
      "location                     200 non-null object\n",
      "name                         200 non-null object\n",
      "rank                         200 non-null object\n",
      "stats_number_students        200 non-null object\n",
      "stats_intl_students_ratio    200 non-null float64\n",
      "stats_student_staff_ratio    200 non-null object\n",
      "dtypes: float64(1), object(5)\n",
      "memory usage: 9.5+ KB\n"
     ]
    }
   ],
   "source": [
    "data_thedu.info()"
   ]
  },
  {
   "cell_type": "markdown",
   "metadata": {},
   "source": [
    "As we can see, all the stats, except the transformed international students ratio, have the data type object.\n",
    "\n",
    "For us to able to infer the new columns values, we will have to parse stats_number_students to int and stats_student_staff_ratio to float."
   ]
  },
  {
   "cell_type": "code",
   "execution_count": 47,
   "metadata": {
    "ExecuteTime": {
     "end_time": "2017-10-21T21:06:47.827676Z",
     "start_time": "2017-10-21T21:06:47.823172Z"
    },
    "collapsed": true
   },
   "outputs": [],
   "source": [
    "data_thedu['stats_number_students'] = data_thedu.stats_number_students.apply(lambda x: int(x.replace(',','')))\n",
    "data_thedu['stats_student_staff_ratio'] = data_thedu.stats_student_staff_ratio.apply(lambda x: float(x))"
   ]
  },
  {
   "cell_type": "markdown",
   "metadata": {},
   "source": [
    "We now compute the new columns as described above"
   ]
  },
  {
   "cell_type": "code",
   "execution_count": 48,
   "metadata": {
    "ExecuteTime": {
     "end_time": "2017-10-21T21:07:07.700111Z",
     "start_time": "2017-10-21T21:07:07.695645Z"
    },
    "collapsed": true
   },
   "outputs": [],
   "source": [
    "data_thedu['number_international_students_inferred'] = data_thedu.stats_number_students * data_thedu.stats_intl_students_ratio\n",
    "data_thedu['number_faculty_members_inferred'] = data_thedu.stats_number_students / data_thedu.stats_student_staff_ratio"
   ]
  },
  {
   "cell_type": "markdown",
   "metadata": {},
   "source": [
    "Having only two decimals precision for the ratio, the resulting values for the inferred columns are not all integers but we choose to leave them as that in order to maintain the accuracy of our data.\n",
    "\n",
    "One thing left to do is to transform the student per staff ratio into staff per student ratio as per assignment."
   ]
  },
  {
   "cell_type": "code",
   "execution_count": 49,
   "metadata": {
    "ExecuteTime": {
     "end_time": "2017-10-21T21:07:08.424873Z",
     "start_time": "2017-10-21T21:07:08.420854Z"
    },
    "collapsed": true
   },
   "outputs": [],
   "source": [
    "data_thedu['stats_student_staff_ratio'] = 1 / data_thedu.stats_student_staff_ratio\n",
    "data_thedu.rename(columns={'stats_student_staff_ratio':'stats_staff_student_ratio'}, inplace=True)"
   ]
  },
  {
   "cell_type": "code",
   "execution_count": 50,
   "metadata": {
    "ExecuteTime": {
     "end_time": "2017-10-21T21:07:08.764092Z",
     "start_time": "2017-10-21T21:07:08.752154Z"
    }
   },
   "outputs": [
    {
     "data": {
      "text/html": [
       "<div>\n",
       "<style>\n",
       "    .dataframe thead tr:only-child th {\n",
       "        text-align: right;\n",
       "    }\n",
       "\n",
       "    .dataframe thead th {\n",
       "        text-align: left;\n",
       "    }\n",
       "\n",
       "    .dataframe tbody tr th {\n",
       "        vertical-align: top;\n",
       "    }\n",
       "</style>\n",
       "<table border=\"1\" class=\"dataframe\">\n",
       "  <thead>\n",
       "    <tr style=\"text-align: right;\">\n",
       "      <th></th>\n",
       "      <th>location</th>\n",
       "      <th>name</th>\n",
       "      <th>rank</th>\n",
       "      <th>stats_number_students</th>\n",
       "      <th>stats_intl_students_ratio</th>\n",
       "      <th>stats_staff_student_ratio</th>\n",
       "      <th>number_international_students_inferred</th>\n",
       "      <th>number_faculty_members_inferred</th>\n",
       "    </tr>\n",
       "  </thead>\n",
       "  <tbody>\n",
       "    <tr>\n",
       "      <th>0</th>\n",
       "      <td>United Kingdom</td>\n",
       "      <td>University of Oxford</td>\n",
       "      <td>1</td>\n",
       "      <td>20409</td>\n",
       "      <td>0.38</td>\n",
       "      <td>0.089286</td>\n",
       "      <td>7755.42</td>\n",
       "      <td>1822.232143</td>\n",
       "    </tr>\n",
       "    <tr>\n",
       "      <th>1</th>\n",
       "      <td>United Kingdom</td>\n",
       "      <td>University of Cambridge</td>\n",
       "      <td>2</td>\n",
       "      <td>18389</td>\n",
       "      <td>0.35</td>\n",
       "      <td>0.091743</td>\n",
       "      <td>6436.15</td>\n",
       "      <td>1687.064220</td>\n",
       "    </tr>\n",
       "    <tr>\n",
       "      <th>2</th>\n",
       "      <td>United States</td>\n",
       "      <td>California Institute of Technology</td>\n",
       "      <td>=3</td>\n",
       "      <td>2209</td>\n",
       "      <td>0.27</td>\n",
       "      <td>0.153846</td>\n",
       "      <td>596.43</td>\n",
       "      <td>339.846154</td>\n",
       "    </tr>\n",
       "    <tr>\n",
       "      <th>3</th>\n",
       "      <td>United States</td>\n",
       "      <td>Stanford University</td>\n",
       "      <td>=3</td>\n",
       "      <td>15845</td>\n",
       "      <td>0.22</td>\n",
       "      <td>0.133333</td>\n",
       "      <td>3485.90</td>\n",
       "      <td>2112.666667</td>\n",
       "    </tr>\n",
       "    <tr>\n",
       "      <th>4</th>\n",
       "      <td>United States</td>\n",
       "      <td>Massachusetts Institute of Technology</td>\n",
       "      <td>5</td>\n",
       "      <td>11177</td>\n",
       "      <td>0.34</td>\n",
       "      <td>0.114943</td>\n",
       "      <td>3800.18</td>\n",
       "      <td>1284.712644</td>\n",
       "    </tr>\n",
       "  </tbody>\n",
       "</table>\n",
       "</div>"
      ],
      "text/plain": [
       "         location                                   name rank  \\\n",
       "0  United Kingdom                   University of Oxford    1   \n",
       "1  United Kingdom                University of Cambridge    2   \n",
       "2   United States     California Institute of Technology   =3   \n",
       "3   United States                    Stanford University   =3   \n",
       "4   United States  Massachusetts Institute of Technology    5   \n",
       "\n",
       "   stats_number_students  stats_intl_students_ratio  \\\n",
       "0                  20409                       0.38   \n",
       "1                  18389                       0.35   \n",
       "2                   2209                       0.27   \n",
       "3                  15845                       0.22   \n",
       "4                  11177                       0.34   \n",
       "\n",
       "   stats_staff_student_ratio  number_international_students_inferred  \\\n",
       "0                   0.089286                                 7755.42   \n",
       "1                   0.091743                                 6436.15   \n",
       "2                   0.153846                                  596.43   \n",
       "3                   0.133333                                 3485.90   \n",
       "4                   0.114943                                 3800.18   \n",
       "\n",
       "   number_faculty_members_inferred  \n",
       "0                      1822.232143  \n",
       "1                      1687.064220  \n",
       "2                       339.846154  \n",
       "3                      2112.666667  \n",
       "4                      1284.712644  "
      ]
     },
     "execution_count": 50,
     "metadata": {},
     "output_type": "execute_result"
    }
   ],
   "source": [
    "data_thedu.head()"
   ]
  },
  {
   "cell_type": "markdown",
   "metadata": {},
   "source": [
    "We have prepared the data for our analysis! The results are obtained by sorting the `DataFrame` by appropriate criterion.\n",
    "\n",
    "### Best university: (a) ratio between faculty members and students"
   ]
  },
  {
   "cell_type": "code",
   "execution_count": 51,
   "metadata": {
    "ExecuteTime": {
     "end_time": "2017-10-21T21:07:09.719284Z",
     "start_time": "2017-10-21T21:07:09.715738Z"
    },
    "collapsed": true
   },
   "outputs": [],
   "source": [
    "thedu_fac_stud_df = data_thedu.sort_values('stats_staff_student_ratio', ascending=False)"
   ]
  },
  {
   "cell_type": "markdown",
   "metadata": {},
   "source": [
    "#### Top 5 by ratio of faculty members and students"
   ]
  },
  {
   "cell_type": "code",
   "execution_count": 52,
   "metadata": {
    "ExecuteTime": {
     "end_time": "2017-10-21T21:07:13.492737Z",
     "start_time": "2017-10-21T21:07:13.481313Z"
    }
   },
   "outputs": [
    {
     "data": {
      "text/html": [
       "<div>\n",
       "<style>\n",
       "    .dataframe thead tr:only-child th {\n",
       "        text-align: right;\n",
       "    }\n",
       "\n",
       "    .dataframe thead th {\n",
       "        text-align: left;\n",
       "    }\n",
       "\n",
       "    .dataframe tbody tr th {\n",
       "        vertical-align: top;\n",
       "    }\n",
       "</style>\n",
       "<table border=\"1\" class=\"dataframe\">\n",
       "  <thead>\n",
       "    <tr style=\"text-align: right;\">\n",
       "      <th></th>\n",
       "      <th>location</th>\n",
       "      <th>name</th>\n",
       "      <th>rank</th>\n",
       "      <th>stats_number_students</th>\n",
       "      <th>stats_intl_students_ratio</th>\n",
       "      <th>stats_staff_student_ratio</th>\n",
       "      <th>number_international_students_inferred</th>\n",
       "      <th>number_faculty_members_inferred</th>\n",
       "    </tr>\n",
       "  </thead>\n",
       "  <tbody>\n",
       "    <tr>\n",
       "      <th>105</th>\n",
       "      <td>United States</td>\n",
       "      <td>Vanderbilt University</td>\n",
       "      <td>=105</td>\n",
       "      <td>12011</td>\n",
       "      <td>0.13</td>\n",
       "      <td>0.303030</td>\n",
       "      <td>1561.43</td>\n",
       "      <td>3639.696970</td>\n",
       "    </tr>\n",
       "    <tr>\n",
       "      <th>109</th>\n",
       "      <td>Denmark</td>\n",
       "      <td>University of Copenhagen</td>\n",
       "      <td>=109</td>\n",
       "      <td>30395</td>\n",
       "      <td>0.14</td>\n",
       "      <td>0.243902</td>\n",
       "      <td>4255.30</td>\n",
       "      <td>7413.414634</td>\n",
       "    </tr>\n",
       "    <tr>\n",
       "      <th>153</th>\n",
       "      <td>United States</td>\n",
       "      <td>University of Rochester</td>\n",
       "      <td>=153</td>\n",
       "      <td>9636</td>\n",
       "      <td>0.29</td>\n",
       "      <td>0.232558</td>\n",
       "      <td>2794.44</td>\n",
       "      <td>2240.930233</td>\n",
       "    </tr>\n",
       "    <tr>\n",
       "      <th>11</th>\n",
       "      <td>United States</td>\n",
       "      <td>Yale University</td>\n",
       "      <td>12</td>\n",
       "      <td>12155</td>\n",
       "      <td>0.21</td>\n",
       "      <td>0.232558</td>\n",
       "      <td>2552.55</td>\n",
       "      <td>2826.744186</td>\n",
       "    </tr>\n",
       "    <tr>\n",
       "      <th>12</th>\n",
       "      <td>United States</td>\n",
       "      <td>Johns Hopkins University</td>\n",
       "      <td>13</td>\n",
       "      <td>15498</td>\n",
       "      <td>0.24</td>\n",
       "      <td>0.232558</td>\n",
       "      <td>3719.52</td>\n",
       "      <td>3604.186047</td>\n",
       "    </tr>\n",
       "  </tbody>\n",
       "</table>\n",
       "</div>"
      ],
      "text/plain": [
       "          location                      name  rank  stats_number_students  \\\n",
       "105  United States     Vanderbilt University  =105                  12011   \n",
       "109        Denmark  University of Copenhagen  =109                  30395   \n",
       "153  United States   University of Rochester  =153                   9636   \n",
       "11   United States           Yale University    12                  12155   \n",
       "12   United States  Johns Hopkins University    13                  15498   \n",
       "\n",
       "     stats_intl_students_ratio  stats_staff_student_ratio  \\\n",
       "105                       0.13                   0.303030   \n",
       "109                       0.14                   0.243902   \n",
       "153                       0.29                   0.232558   \n",
       "11                        0.21                   0.232558   \n",
       "12                        0.24                   0.232558   \n",
       "\n",
       "     number_international_students_inferred  number_faculty_members_inferred  \n",
       "105                                 1561.43                      3639.696970  \n",
       "109                                 4255.30                      7413.414634  \n",
       "153                                 2794.44                      2240.930233  \n",
       "11                                  2552.55                      2826.744186  \n",
       "12                                  3719.52                      3604.186047  "
      ]
     },
     "execution_count": 52,
     "metadata": {},
     "output_type": "execute_result"
    }
   ],
   "source": [
    "thedu_fac_stud_df.head()"
   ]
  },
  {
   "cell_type": "markdown",
   "metadata": {},
   "source": [
    "### Best university: (b) ratio of international students"
   ]
  },
  {
   "cell_type": "code",
   "execution_count": 53,
   "metadata": {
    "ExecuteTime": {
     "end_time": "2017-10-21T21:10:35.743890Z",
     "start_time": "2017-10-21T21:10:35.740475Z"
    },
    "collapsed": true
   },
   "outputs": [],
   "source": [
    "thedu_intl = data_thedu.sort_values('stats_intl_students_ratio', ascending=False)"
   ]
  },
  {
   "cell_type": "markdown",
   "metadata": {},
   "source": [
    "#### Top 5 by ratio of international students"
   ]
  },
  {
   "cell_type": "code",
   "execution_count": 54,
   "metadata": {
    "ExecuteTime": {
     "end_time": "2017-10-21T21:11:04.859939Z",
     "start_time": "2017-10-21T21:11:04.848381Z"
    }
   },
   "outputs": [
    {
     "data": {
      "text/html": [
       "<div>\n",
       "<style>\n",
       "    .dataframe thead tr:only-child th {\n",
       "        text-align: right;\n",
       "    }\n",
       "\n",
       "    .dataframe thead th {\n",
       "        text-align: left;\n",
       "    }\n",
       "\n",
       "    .dataframe tbody tr th {\n",
       "        vertical-align: top;\n",
       "    }\n",
       "</style>\n",
       "<table border=\"1\" class=\"dataframe\">\n",
       "  <thead>\n",
       "    <tr style=\"text-align: right;\">\n",
       "      <th></th>\n",
       "      <th>location</th>\n",
       "      <th>name</th>\n",
       "      <th>rank</th>\n",
       "      <th>stats_number_students</th>\n",
       "      <th>stats_intl_students_ratio</th>\n",
       "      <th>stats_staff_student_ratio</th>\n",
       "      <th>number_international_students_inferred</th>\n",
       "      <th>number_faculty_members_inferred</th>\n",
       "    </tr>\n",
       "  </thead>\n",
       "  <tbody>\n",
       "    <tr>\n",
       "      <th>24</th>\n",
       "      <td>United Kingdom</td>\n",
       "      <td>London School of Economics and Political Science</td>\n",
       "      <td>=25</td>\n",
       "      <td>10065</td>\n",
       "      <td>0.71</td>\n",
       "      <td>0.081967</td>\n",
       "      <td>7146.15</td>\n",
       "      <td>825.000000</td>\n",
       "    </tr>\n",
       "    <tr>\n",
       "      <th>178</th>\n",
       "      <td>Luxembourg</td>\n",
       "      <td>University of Luxembourg</td>\n",
       "      <td>=179</td>\n",
       "      <td>4969</td>\n",
       "      <td>0.57</td>\n",
       "      <td>0.068493</td>\n",
       "      <td>2832.33</td>\n",
       "      <td>340.342466</td>\n",
       "    </tr>\n",
       "    <tr>\n",
       "      <th>37</th>\n",
       "      <td>Switzerland</td>\n",
       "      <td>École Polytechnique Fédérale de Lausanne</td>\n",
       "      <td>=38</td>\n",
       "      <td>9928</td>\n",
       "      <td>0.55</td>\n",
       "      <td>0.089286</td>\n",
       "      <td>5460.40</td>\n",
       "      <td>886.428571</td>\n",
       "    </tr>\n",
       "    <tr>\n",
       "      <th>7</th>\n",
       "      <td>United Kingdom</td>\n",
       "      <td>Imperial College London</td>\n",
       "      <td>8</td>\n",
       "      <td>15857</td>\n",
       "      <td>0.55</td>\n",
       "      <td>0.087719</td>\n",
       "      <td>8721.35</td>\n",
       "      <td>1390.964912</td>\n",
       "    </tr>\n",
       "    <tr>\n",
       "      <th>102</th>\n",
       "      <td>Netherlands</td>\n",
       "      <td>Maastricht University</td>\n",
       "      <td>103</td>\n",
       "      <td>16727</td>\n",
       "      <td>0.50</td>\n",
       "      <td>0.055556</td>\n",
       "      <td>8363.50</td>\n",
       "      <td>929.277778</td>\n",
       "    </tr>\n",
       "  </tbody>\n",
       "</table>\n",
       "</div>"
      ],
      "text/plain": [
       "           location                                              name  rank  \\\n",
       "24   United Kingdom  London School of Economics and Political Science   =25   \n",
       "178      Luxembourg                          University of Luxembourg  =179   \n",
       "37      Switzerland          École Polytechnique Fédérale de Lausanne   =38   \n",
       "7    United Kingdom                           Imperial College London     8   \n",
       "102     Netherlands                             Maastricht University   103   \n",
       "\n",
       "     stats_number_students  stats_intl_students_ratio  \\\n",
       "24                   10065                       0.71   \n",
       "178                   4969                       0.57   \n",
       "37                    9928                       0.55   \n",
       "7                    15857                       0.55   \n",
       "102                  16727                       0.50   \n",
       "\n",
       "     stats_staff_student_ratio  number_international_students_inferred  \\\n",
       "24                    0.081967                                 7146.15   \n",
       "178                   0.068493                                 2832.33   \n",
       "37                    0.089286                                 5460.40   \n",
       "7                     0.087719                                 8721.35   \n",
       "102                   0.055556                                 8363.50   \n",
       "\n",
       "     number_faculty_members_inferred  \n",
       "24                        825.000000  \n",
       "178                       340.342466  \n",
       "37                        886.428571  \n",
       "7                        1390.964912  \n",
       "102                       929.277778  "
      ]
     },
     "execution_count": 54,
     "metadata": {},
     "output_type": "execute_result"
    }
   ],
   "source": [
    "thedu_intl.head()"
   ]
  },
  {
   "cell_type": "code",
   "execution_count": 55,
   "metadata": {},
   "outputs": [
    {
     "data": {
      "text/plain": [
       "United States     47\n",
       "United Kingdom    28\n",
       "Germany           11\n",
       "Netherlands       10\n",
       "Japan              9\n",
       "Australia          9\n",
       "China              7\n",
       "Switzerland        7\n",
       "Canada             7\n",
       "South Korea        7\n",
       "Sweden             5\n",
       "Hong Kong          5\n",
       "France             5\n",
       "Italy              4\n",
       "Belgium            4\n",
       "Denmark            3\n",
       "India              3\n",
       "Spain              3\n",
       "Finland            2\n",
       "Chile              2\n",
       "Taiwan             2\n",
       "Ireland            2\n",
       "Norway             2\n",
       "Austria            2\n",
       "Mexico             2\n",
       "New Zealand        2\n",
       "Brazil             2\n",
       "Singapore          2\n",
       "South Africa       1\n",
       "Russia             1\n",
       "Israel             1\n",
       "Saudi Arabia       1\n",
       "Malaysia           1\n",
       "Argentina          1\n",
       "Name: country, dtype: int64"
      ]
     },
     "execution_count": 55,
     "metadata": {},
     "output_type": "execute_result"
    }
   ],
   "source": [
    "TU_df['country'].value_counts()"
   ]
  },
  {
   "cell_type": "code",
   "execution_count": 57,
   "metadata": {},
   "outputs": [
    {
     "data": {
      "text/html": [
       "<div>\n",
       "<style>\n",
       "    .dataframe thead tr:only-child th {\n",
       "        text-align: right;\n",
       "    }\n",
       "\n",
       "    .dataframe thead th {\n",
       "        text-align: left;\n",
       "    }\n",
       "\n",
       "    .dataframe tbody tr th {\n",
       "        vertical-align: top;\n",
       "    }\n",
       "</style>\n",
       "<table border=\"1\" class=\"dataframe\">\n",
       "  <thead>\n",
       "    <tr style=\"text-align: right;\">\n",
       "      <th></th>\n",
       "      <th>country</th>\n",
       "      <th>rank_display</th>\n",
       "      <th>region</th>\n",
       "      <th>score</th>\n",
       "      <th>title</th>\n",
       "      <th>Total faculty members</th>\n",
       "      <th>Total students</th>\n",
       "      <th>International faculty members</th>\n",
       "      <th>International students</th>\n",
       "      <th>Ratio faculty/students</th>\n",
       "      <th>Ratio intl/total students</th>\n",
       "    </tr>\n",
       "  </thead>\n",
       "  <tbody>\n",
       "    <tr>\n",
       "      <th>74</th>\n",
       "      <td>Argentina</td>\n",
       "      <td>75</td>\n",
       "      <td>Latin America</td>\n",
       "      <td>69.1</td>\n",
       "      <td>Universidad de Buenos Aires (UBA)</td>\n",
       "      <td>16421.0</td>\n",
       "      <td>122301.0</td>\n",
       "      <td>3165.0</td>\n",
       "      <td>27109.0</td>\n",
       "      <td>0.134267</td>\n",
       "      <td>0.221658</td>\n",
       "    </tr>\n",
       "    <tr>\n",
       "      <th>94</th>\n",
       "      <td>Russia</td>\n",
       "      <td>=95</td>\n",
       "      <td>Europe</td>\n",
       "      <td>65</td>\n",
       "      <td>Lomonosov Moscow State University</td>\n",
       "      <td>6709.0</td>\n",
       "      <td>30233.0</td>\n",
       "      <td>373.0</td>\n",
       "      <td>5098.0</td>\n",
       "      <td>0.221910</td>\n",
       "      <td>0.168624</td>\n",
       "    </tr>\n",
       "    <tr>\n",
       "      <th>113</th>\n",
       "      <td>Malaysia</td>\n",
       "      <td>=114</td>\n",
       "      <td>Asia</td>\n",
       "      <td>60.8</td>\n",
       "      <td>Universiti Malaya (UM)</td>\n",
       "      <td>2755.0</td>\n",
       "      <td>17902.0</td>\n",
       "      <td>655.0</td>\n",
       "      <td>3476.0</td>\n",
       "      <td>0.153893</td>\n",
       "      <td>0.194168</td>\n",
       "    </tr>\n",
       "    <tr>\n",
       "      <th>120</th>\n",
       "      <td>Brazil</td>\n",
       "      <td>121</td>\n",
       "      <td>Latin America</td>\n",
       "      <td>59.1</td>\n",
       "      <td>Universidade de São Paulo</td>\n",
       "      <td>5582.0</td>\n",
       "      <td>65711.0</td>\n",
       "      <td>279.0</td>\n",
       "      <td>2086.0</td>\n",
       "      <td>0.084948</td>\n",
       "      <td>0.031745</td>\n",
       "    </tr>\n",
       "    <tr>\n",
       "      <th>121</th>\n",
       "      <td>Mexico</td>\n",
       "      <td>=122</td>\n",
       "      <td>Latin America</td>\n",
       "      <td>59</td>\n",
       "      <td>Universidad Nacional Autónoma de México  (UNAM)</td>\n",
       "      <td>15073.0</td>\n",
       "      <td>141939.0</td>\n",
       "      <td>949.0</td>\n",
       "      <td>2173.0</td>\n",
       "      <td>0.106194</td>\n",
       "      <td>0.015309</td>\n",
       "    </tr>\n",
       "    <tr>\n",
       "      <th>137</th>\n",
       "      <td>Chile</td>\n",
       "      <td>=137</td>\n",
       "      <td>Latin America</td>\n",
       "      <td>56</td>\n",
       "      <td>Pontificia Universidad Católica de Chile (UC)</td>\n",
       "      <td>2260.0</td>\n",
       "      <td>27003.0</td>\n",
       "      <td>198.0</td>\n",
       "      <td>991.0</td>\n",
       "      <td>0.083694</td>\n",
       "      <td>0.036700</td>\n",
       "    </tr>\n",
       "    <tr>\n",
       "      <th>144</th>\n",
       "      <td>Israel</td>\n",
       "      <td>145</td>\n",
       "      <td>Asia</td>\n",
       "      <td>54.7</td>\n",
       "      <td>The Hebrew University of Jerusalem</td>\n",
       "      <td>2249.0</td>\n",
       "      <td>16531.0</td>\n",
       "      <td>454.0</td>\n",
       "      <td>1034.0</td>\n",
       "      <td>0.136047</td>\n",
       "      <td>0.062549</td>\n",
       "    </tr>\n",
       "    <tr>\n",
       "      <th>171</th>\n",
       "      <td>India</td>\n",
       "      <td>172</td>\n",
       "      <td>Asia</td>\n",
       "      <td>50.7</td>\n",
       "      <td>Indian Institute of Technology Delhi (IITD)</td>\n",
       "      <td>466.0</td>\n",
       "      <td>7477.0</td>\n",
       "      <td>4.0</td>\n",
       "      <td>80.0</td>\n",
       "      <td>0.062324</td>\n",
       "      <td>0.010699</td>\n",
       "    </tr>\n",
       "    <tr>\n",
       "      <th>172</th>\n",
       "      <td>Saudi Arabia</td>\n",
       "      <td>=173</td>\n",
       "      <td>Asia</td>\n",
       "      <td>50.3</td>\n",
       "      <td>King Fahd University of Petroleum &amp; Minerals</td>\n",
       "      <td>1062.0</td>\n",
       "      <td>6040.0</td>\n",
       "      <td>665.0</td>\n",
       "      <td>989.0</td>\n",
       "      <td>0.175828</td>\n",
       "      <td>0.163742</td>\n",
       "    </tr>\n",
       "    <tr>\n",
       "      <th>178</th>\n",
       "      <td>India</td>\n",
       "      <td>=179</td>\n",
       "      <td>Asia</td>\n",
       "      <td>49.7</td>\n",
       "      <td>Indian Institute of Technology Bombay (IITB)</td>\n",
       "      <td>876.0</td>\n",
       "      <td>9402.0</td>\n",
       "      <td>19.0</td>\n",
       "      <td>93.0</td>\n",
       "      <td>0.093172</td>\n",
       "      <td>0.009892</td>\n",
       "    </tr>\n",
       "    <tr>\n",
       "      <th>182</th>\n",
       "      <td>Brazil</td>\n",
       "      <td>=182</td>\n",
       "      <td>Latin America</td>\n",
       "      <td>49.5</td>\n",
       "      <td>Universidade Estadual de Campinas (Unicamp)</td>\n",
       "      <td>1968.0</td>\n",
       "      <td>26572.0</td>\n",
       "      <td>109.0</td>\n",
       "      <td>966.0</td>\n",
       "      <td>0.074063</td>\n",
       "      <td>0.036354</td>\n",
       "    </tr>\n",
       "    <tr>\n",
       "      <th>189</th>\n",
       "      <td>India</td>\n",
       "      <td>190</td>\n",
       "      <td>Asia</td>\n",
       "      <td>49</td>\n",
       "      <td>Indian Institute of Science (IISc) Bangalore</td>\n",
       "      <td>423.0</td>\n",
       "      <td>4071.0</td>\n",
       "      <td>0.0</td>\n",
       "      <td>47.0</td>\n",
       "      <td>0.103906</td>\n",
       "      <td>0.011545</td>\n",
       "    </tr>\n",
       "    <tr>\n",
       "      <th>197</th>\n",
       "      <td>Mexico</td>\n",
       "      <td>199</td>\n",
       "      <td>Latin America</td>\n",
       "      <td>48</td>\n",
       "      <td>Instituto Tecnológico y de Estudios Superiores...</td>\n",
       "      <td>1822.0</td>\n",
       "      <td>13376.0</td>\n",
       "      <td>821.0</td>\n",
       "      <td>1412.0</td>\n",
       "      <td>0.136214</td>\n",
       "      <td>0.105562</td>\n",
       "    </tr>\n",
       "    <tr>\n",
       "      <th>199</th>\n",
       "      <td>Chile</td>\n",
       "      <td>201</td>\n",
       "      <td>Latin America</td>\n",
       "      <td>47.8</td>\n",
       "      <td>Universidad de Chile</td>\n",
       "      <td>2256.0</td>\n",
       "      <td>38848.0</td>\n",
       "      <td>127.0</td>\n",
       "      <td>2134.0</td>\n",
       "      <td>0.058072</td>\n",
       "      <td>0.054932</td>\n",
       "    </tr>\n",
       "  </tbody>\n",
       "</table>\n",
       "</div>"
      ],
      "text/plain": [
       "          country rank_display         region score  \\\n",
       "74      Argentina           75  Latin America  69.1   \n",
       "94         Russia          =95         Europe    65   \n",
       "113      Malaysia         =114           Asia  60.8   \n",
       "120        Brazil          121  Latin America  59.1   \n",
       "121        Mexico         =122  Latin America    59   \n",
       "137         Chile         =137  Latin America    56   \n",
       "144        Israel          145           Asia  54.7   \n",
       "171         India          172           Asia  50.7   \n",
       "172  Saudi Arabia         =173           Asia  50.3   \n",
       "178         India         =179           Asia  49.7   \n",
       "182        Brazil         =182  Latin America  49.5   \n",
       "189         India          190           Asia    49   \n",
       "197        Mexico          199  Latin America    48   \n",
       "199         Chile          201  Latin America  47.8   \n",
       "\n",
       "                                                 title  Total faculty members  \\\n",
       "74                   Universidad de Buenos Aires (UBA)                16421.0   \n",
       "94                   Lomonosov Moscow State University                 6709.0   \n",
       "113                             Universiti Malaya (UM)                 2755.0   \n",
       "120                          Universidade de São Paulo                 5582.0   \n",
       "121    Universidad Nacional Autónoma de México  (UNAM)                15073.0   \n",
       "137      Pontificia Universidad Católica de Chile (UC)                 2260.0   \n",
       "144                 The Hebrew University of Jerusalem                 2249.0   \n",
       "171        Indian Institute of Technology Delhi (IITD)                  466.0   \n",
       "172       King Fahd University of Petroleum & Minerals                 1062.0   \n",
       "178       Indian Institute of Technology Bombay (IITB)                  876.0   \n",
       "182        Universidade Estadual de Campinas (Unicamp)                 1968.0   \n",
       "189       Indian Institute of Science (IISc) Bangalore                  423.0   \n",
       "197  Instituto Tecnológico y de Estudios Superiores...                 1822.0   \n",
       "199                               Universidad de Chile                 2256.0   \n",
       "\n",
       "     Total students  International faculty members  International students  \\\n",
       "74         122301.0                         3165.0                 27109.0   \n",
       "94          30233.0                          373.0                  5098.0   \n",
       "113         17902.0                          655.0                  3476.0   \n",
       "120         65711.0                          279.0                  2086.0   \n",
       "121        141939.0                          949.0                  2173.0   \n",
       "137         27003.0                          198.0                   991.0   \n",
       "144         16531.0                          454.0                  1034.0   \n",
       "171          7477.0                            4.0                    80.0   \n",
       "172          6040.0                          665.0                   989.0   \n",
       "178          9402.0                           19.0                    93.0   \n",
       "182         26572.0                          109.0                   966.0   \n",
       "189          4071.0                            0.0                    47.0   \n",
       "197         13376.0                          821.0                  1412.0   \n",
       "199         38848.0                          127.0                  2134.0   \n",
       "\n",
       "     Ratio faculty/students  Ratio intl/total students  \n",
       "74                 0.134267                   0.221658  \n",
       "94                 0.221910                   0.168624  \n",
       "113                0.153893                   0.194168  \n",
       "120                0.084948                   0.031745  \n",
       "121                0.106194                   0.015309  \n",
       "137                0.083694                   0.036700  \n",
       "144                0.136047                   0.062549  \n",
       "171                0.062324                   0.010699  \n",
       "172                0.175828                   0.163742  \n",
       "178                0.093172                   0.009892  \n",
       "182                0.074063                   0.036354  \n",
       "189                0.103906                   0.011545  \n",
       "197                0.136214                   0.105562  \n",
       "199                0.058072                   0.054932  "
      ]
     },
     "execution_count": 57,
     "metadata": {},
     "output_type": "execute_result"
    }
   ],
   "source": [
    "TU_df[~TU_df['country'].isin(data_thedu['location'])]"
   ]
  },
  {
   "cell_type": "code",
   "execution_count": 147,
   "metadata": {},
   "outputs": [],
   "source": [
    "from googletrans import Translator\n",
    "# googletrans is a library which makes calls to the google translate servers in order to translate words or sentences.\n",
    "\n",
    "def normalize_university_name(name):\n",
    "    translator = Translator()\n",
    "    if name == 'UCL (University College London)':\n",
    "        name = 'University College London' \n",
    "        # UCL is the only university for which the acronym is first and full name in parantheses, solve that problem by hand\n",
    "    name = name.lower()\n",
    "    CHARACTERS_REPLACE_BEFORE_TRANSLATE = [' – ', ' - ', '-', ' & ', ', '] # characters which don't contain letters\n",
    "    CHARACTERS_REPLACE_AFTER_TRANSLATE = [' and ', ' in ', ' of ', ' from '] # english words (used after translation)\n",
    "    \n",
    "    name = name.replace('’', \"'\") # replace weird character\n",
    "    for character_to_replace in CHARACTERS_REPLACE_BEFORE_TRANSLATE:\n",
    "        name = name.replace(character_to_replace, ' ') \n",
    "    \n",
    "    if '(' in name:\n",
    "        name = name.rpartition('(')[0] # consider only the string before the last occurence of (, which is the full name of the university\n",
    "        \n",
    "    name = translator.translate(name, dest='en').text # transform the name of the university into English text, so that we can compare words\n",
    "    \n",
    "    for character_to_replace in CHARACTERS_REPLACE_AFTER_TRANSLATE:\n",
    "        name = name.replace(character_to_replace, ' ') \n",
    "    \n",
    "    name = name.lower() # needed again, Google translate might be a \"good\" hero and transform everything in big letters \n",
    "    words = name.strip().split() # split the university name in words\n",
    "    return set(words) # return the words representing university name as a set, for unordered checking   \n"
   ]
  },
  {
   "cell_type": "code",
   "execution_count": 148,
   "metadata": {
    "collapsed": true
   },
   "outputs": [],
   "source": [
    "def delete_entry_by_university_name(university_name, universities_normalized):\n",
    "    for index, pair in enumerate(universities_normalized):\n",
    "        if pair[1] == university_name:\n",
    "            del universities_normalized[index]\n",
    "            return\n",
    "        \n",
    "def pair_universities():\n",
    "    THE_universities_normalized = []\n",
    "    for university_data in data_thedu[['name', 'location']].itertuples():\n",
    "        THE_universities_normalized.append((normalize_university_name(university_data.name), university_data.name, university_data.location))\n",
    "        # keep tuples of the form (normalized_name, name, location)\n",
    "\n",
    "    paired = []\n",
    "    unpaired = []\n",
    "\n",
    "    for university_data in TU_df[['title', 'country']].itertuples():\n",
    "        normalized_university = normalize_university_name(university_data.title)\n",
    "        country_university = university_data.country\n",
    "\n",
    "        best_words_match_number = -1 # initially, we set the biggest number of matches to -1\n",
    "        best_match_university = None # initially, the best match university is None\n",
    "\n",
    "        for THE_normalized_university, THE_university, THE_country in THE_universities_normalized:\n",
    "            if THE_country.lower() != country_university.lower():\n",
    "                continue # if not from the same country, then it's not a match\n",
    "\n",
    "            if normalized_university.issubset(THE_normalized_university) or THE_normalized_university.issubset(normalized_university):\n",
    "                words_intersection = normalized_university.intersection(THE_normalized_university)\n",
    "\n",
    "                if len(words_intersection) > best_words_match_number:\n",
    "                    best_words_match_number = len(words_intersection)\n",
    "                    best_match_university = THE_university\n",
    "\n",
    "        if best_match_university is not None: # we found match\n",
    "            paired.append((university_data.title, best_match_university))\n",
    "            delete_entry_by_university_name(best_match_university, THE_universities_normalized)\n",
    "\n",
    "        else:\n",
    "            unpaired.append(university_data.title)\n",
    "\n",
    "    THE_unpaired = [pair[1] for pair in THE_universities_normalized]\n",
    "\n",
    "    return paired, unpaired, THE_unpaired\n"
   ]
  },
  {
   "cell_type": "code",
   "execution_count": 149,
   "metadata": {},
   "outputs": [],
   "source": [
    "paired, TU_unpaired, THE_unpaired = pair_universities() # Code for pairing universities"
   ]
  },
  {
   "cell_type": "code",
   "execution_count": 163,
   "metadata": {},
   "outputs": [
    {
     "name": "stdout",
     "output_type": "stream",
     "text": [
      "[('Massachusetts Institute of Technology (MIT)', 'Massachusetts Institute of Technology'), ('Stanford University', 'Stanford University'), ('Harvard University', 'Harvard University'), ('California Institute of Technology (Caltech)', 'California Institute of Technology'), ('University of Cambridge', 'University of Cambridge'), ('University of Oxford', 'University of Oxford'), ('University College London', 'University College London'), ('Imperial College London', 'Imperial College London'), ('University of Chicago', 'University of Chicago'), ('ETH Zurich - Swiss Federal Institute of Technology', 'ETH Zurich – Swiss Federal Institute of Technology Zurich'), ('Nanyang Technological University, Singapore (NTU)', 'Nanyang Technological University, Singapore'), ('Ecole Polytechnique Fédérale de Lausanne (EPFL)', 'École Polytechnique Fédérale de Lausanne'), ('Princeton University', 'Princeton University'), ('Cornell University', 'Cornell University'), ('National University of Singapore (NUS)', 'National University of Singapore'), ('Yale University', 'Yale University'), ('Johns Hopkins University', 'Johns Hopkins University'), ('Columbia University', 'Columbia University'), ('University of Pennsylvania', 'University of Pennsylvania'), ('The Australian National University', 'Australian National University'), ('University of Michigan', 'University of Michigan'), ('Duke University', 'Duke University'), ('The University of Edinburgh', 'University of Edinburgh'), (\"King's College London\", 'King’s College London'), ('Tsinghua University', 'Tsinghua University'), ('The University of Hong Kong', 'University of Hong Kong'), ('University of California, Berkeley (UCB)', 'University of California, Berkeley'), ('The University of Tokyo', 'University of Tokyo'), ('Northwestern University', 'Northwestern University'), ('The Hong Kong University of Science and Technology', 'Hong Kong University of Science and Technology'), ('University of Toronto', 'University of Toronto'), ('McGill University', 'McGill University'), ('University of California, Los Angeles (UCLA)', 'University of California, Los Angeles'), ('The University of Manchester', 'University of Manchester'), ('London School of Economics and Political Science (LSE)', 'London School of Economics and Political Science'), ('Kyoto University', 'Kyoto University'), ('Seoul National University', 'Seoul National University'), ('Peking University', 'Peking University'), ('University of California, San Diego (UCSD)', 'University of California, San Diego'), ('Fudan University', 'Fudan University'), ('KAIST - Korea Advanced Institute of Science & Technology', 'Korea Advanced Institute of Science and Technology (KAIST)'), ('The University of Melbourne', 'University of Melbourne'), ('University of Bristol', 'University of Bristol'), ('The University of New South Wales (UNSW Sydney)', 'University of New South Wales'), ('The Chinese University of Hong Kong (CUHK)', 'Chinese University of Hong Kong'), ('The University of Queensland', 'University of Queensland'), ('Carnegie Mellon University', 'Carnegie Mellon University'), ('City University of Hong Kong', 'City University of Hong Kong'), ('The University of Sydney', 'University of Sydney'), ('University of British Columbia', 'University of British Columbia'), ('New York University (NYU)', 'New York University'), ('Brown University', 'Brown University'), ('Delft University of Technology', 'Delft University of Technology'), ('University of Wisconsin-Madison', 'University of Wisconsin-Madison'), ('The University of Warwick', 'University of Warwick'), ('University of Amsterdam', 'University of Amsterdam'), ('Ecole Polytechnique', 'École Polytechnique'), ('Monash University', 'Monash University'), ('University of Washington', 'University of Washington'), ('Shanghai Jiao Tong University', 'Shanghai Jiao Tong University'), ('Technical University of Munich', 'Technical University of Munich'), ('University of Glasgow', 'University of Glasgow'), ('University of Texas at Austin', 'University of Texas at Austin'), ('Ruprecht-Karls-Universität Heidelberg', 'Heidelberg University'), ('University of Illinois at Urbana-Champaign', 'University of Illinois at Urbana-Champaign'), ('Georgia Institute of Technology', 'Georgia Institute of Technology'), ('Pohang University of Science And Technology (POSTECH)', 'Pohang University of Science and Technology'), ('KU Leuven', 'KU Leuven'), ('University of Copenhagen', 'University of Copenhagen'), ('University of Zurich', 'University of Zurich'), ('National Taiwan University (NTU)', 'National Taiwan University'), ('Durham University', 'Durham University'), ('Lund University', 'Lund University'), ('University of North Carolina, Chapel Hill', 'University of North Carolina at Chapel Hill'), ('Boston University', 'Boston University'), ('The University of Auckland', 'University of Auckland'), ('The University of Sheffield', 'University of Sheffield'), ('University of Birmingham', 'University of Birmingham'), ('The University of Nottingham', 'University of Nottingham'), ('The Ohio State University', 'Ohio State University'), ('Zhejiang University', 'Zhejiang University'), ('Trinity College Dublin, The University of Dublin', 'Trinity College Dublin'), ('Rice University', 'Rice University'), ('University of Alberta', 'University of Alberta'), ('University of St Andrews', 'University of St Andrews'), ('The University of Western Australia', 'University of Western Australia'), ('Pennsylvania State University', 'Pennsylvania State University'), ('The Hong Kong Polytechnic University', 'Hong Kong Polytechnic University'), ('University of Science and Technology of China', 'University of Science and Technology of China'), ('University of Geneva', 'University of Geneva'), ('KTH Royal Institute of Technology', 'KTH Royal Institute of Technology'), ('University of Leeds', 'University of Leeds'), ('University of Southampton', 'University of Southampton'), ('University of Helsinki', 'University of Helsinki'), ('Eindhoven University of Technology', 'Eindhoven University of Technology'), ('Purdue University', 'Purdue University'), ('KIT, Karlsruhe Institute of Technology', 'Karlsruhe Institute of Technology'), ('Sungkyunkwan University (SKKU)', 'Sungkyunkwan University (SKKU)'), ('Utrecht University', 'Utrecht University'), ('Leiden University', 'Leiden University'), ('The University of Adelaide', 'University of Adelaide'), ('Uppsala University', 'Uppsala University'), ('University of Groningen', 'University of Groningen'), ('Nanjing University', 'Nanjing University'), ('Technical University of Denmark', 'Technical University of Denmark'), ('University of California, Davis', 'University of California, Davis'), ('Aarhus University', 'Aarhus University'), ('Humboldt-Universität zu Berlin', 'Humboldt University of Berlin'), ('Wageningen University', 'Wageningen University & Research'), ('Freie Universitaet Berlin', 'Free University of Berlin'), ('Ghent University', 'Ghent University'), ('Queen Mary University of London', 'Queen Mary University of London'), ('University of Maryland, College Park', 'University of Maryland, College Park'), ('Université de Montréal', 'University of Montreal'), ('Université Pierre et Marie Curie (UPMC)', 'Pierre and Marie Curie University'), ('University of Southern California', 'University of Southern California'), ('University of California, Santa Barbara (UCSB)', 'University of California, Santa Barbara'), ('Lancaster University', 'Lancaster University'), ('University of York', 'University of York'), ('Cardiff University', 'Cardiff University'), ('Aalto University', 'Aalto University'), ('McMaster University', 'McMaster University'), ('RWTH Aachen University', 'RWTH Aachen University'), ('University of Pittsburgh', 'University of Pittsburgh'), ('University of Oslo', 'University of Oslo'), ('Technische Universität Berlin (TU Berlin)', 'Technical University of Berlin'), ('University of Lausanne', 'University of Lausanne'), ('Erasmus University Rotterdam', 'Erasmus University Rotterdam'), ('Emory University', 'Emory University'), ('University of Basel', 'University of Basel'), ('Michigan State University', 'Michigan State University'), ('Université catholique de Louvain (UCL)', 'Université Catholique de Louvain'), ('University of Vienna', 'University of Vienna'), ('Universitat de Barcelona', 'Autonomous University of Barcelona'), ('École Normale Supérieure de Lyon', 'École Normale Supérieure de Lyon'), ('University of Aberdeen', 'University of Aberdeen'), ('The University of Exeter', 'University of Exeter'), ('Newcastle University', 'Newcastle University'), ('University of Minnesota', 'University of Minnesota'), ('University of California, Irvine', 'University of California, Irvine'), ('Eberhard Karls Universität Tübingen', 'University of Tübingen'), ('University of Bern', 'University of Bern'), ('Dartmouth College', 'Dartmouth College'), ('University of Liverpool', 'University of Liverpool'), ('University of Virginia', 'University of Virginia'), ('University of Florida', 'University of Florida'), ('University of Twente', 'University of Twente'), ('University of Göttingen', 'University of Göttingen'), ('Vrije Universiteit Brussel (VUB)', 'Université Libre de Bruxelles'), ('University of Colorado Boulder', 'University of Colorado Boulder'), ('University of Rochester', 'University of Rochester'), ('University of Cape Town', 'University of Cape Town'), ('Scuola Normale Superiore di Pisa', 'Scuola Normale Superiore di Pisa'), (\"Scuola Superiore Sant'Anna Pisa di Studi Universitari e di Perfezionamento\", 'Scuola Superiore Sant’Anna'), ('Stockholm University', 'Stockholm University'), ('Texas A&M University', 'Texas A&M University'), ('Maastricht University', 'Maastricht University')]\n"
     ]
    }
   ],
   "source": [
    "print(paired)"
   ]
  },
  {
   "cell_type": "code",
   "execution_count": 162,
   "metadata": {},
   "outputs": [
    {
     "name": "stdout",
     "output_type": "stream",
     "text": [
      "{'washington', 'university', 'st.', 'louis'}\n",
      "{'washington', 'university', 'st', 'louis'}\n"
     ]
    }
   ],
   "source": [
    "translator = Translator()\n",
    "a = normalize_university_name(\"Washington University in St. Louis\")\n",
    "b = normalize_university_name(\"Washington University in St Louis\")\n",
    "print(a)\n",
    "print(b)\n",
    "\n"
   ]
  }
 ],
 "metadata": {
  "kernelspec": {
   "display_name": "Python [default]",
   "language": "python",
   "name": "python3"
  },
  "language_info": {
   "codemirror_mode": {
    "name": "ipython",
    "version": 3
   },
   "file_extension": ".py",
   "mimetype": "text/x-python",
   "name": "python",
   "nbconvert_exporter": "python",
   "pygments_lexer": "ipython3",
   "version": "3.5.4"
  },
  "toc": {
   "colors": {
    "hover_highlight": "#DAA520",
    "navigate_num": "#000000",
    "navigate_text": "#333333",
    "running_highlight": "#FF0000",
    "selected_highlight": "#FFD700",
    "sidebar_border": "#EEEEEE",
    "wrapper_background": "#FFFFFF"
   },
   "moveMenuLeft": true,
   "nav_menu": {
    "height": "171px",
    "width": "252px"
   },
   "navigate_menu": true,
   "number_sections": true,
   "sideBar": true,
   "threshold": 4,
   "toc_cell": false,
   "toc_section_display": "block",
   "toc_window_display": false,
   "widenNotebook": false
  },
  "varInspector": {
   "cols": {
    "lenName": 16,
    "lenType": 16,
    "lenVar": 40
   },
   "kernels_config": {
    "python": {
     "delete_cmd_postfix": "",
     "delete_cmd_prefix": "del ",
     "library": "var_list.py",
     "varRefreshCmd": "print(var_dic_list())"
    },
    "r": {
     "delete_cmd_postfix": ") ",
     "delete_cmd_prefix": "rm(",
     "library": "var_list.r",
     "varRefreshCmd": "cat(var_dic_list()) "
    }
   },
   "types_to_exclude": [
    "module",
    "function",
    "builtin_function_or_method",
    "instance",
    "_Feature"
   ],
   "window_display": false
  }
 },
 "nbformat": 4,
 "nbformat_minor": 1
}
