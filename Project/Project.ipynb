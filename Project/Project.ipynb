{
 "cells": [
  {
   "cell_type": "markdown",
   "metadata": {},
   "source": [
    "# Trump - a 140 character insight\n",
    "\n",
    "---\n",
    "\n",
    "## Initial research outline\n",
    "\n",
    "As presidents lead their nation, we believe their actions could set an example and influence and encourage certain behaviors. We will investigate if there is a possible correlation between sentiment conveyed by such figures via social media and negative social behavior of a nation.\n",
    "\n",
    "The presidency of Donald Trump has been marked with many controversies, including the rise of supremacist groups and numerous nation wide conflicts. By using Trump tweets, we would explore if there is a significant temporal correlation between sentiment expressed in the Tweet and the number of conflicts in the nation using GDELT dataset. To reduce the bias of such analysis, we would perform the same analysis with social media activity of his predecessor and compare the results, as well as adding the social-economic aspects which may affect such behaviors.\n",
    "\n",
    "What is the power of a presidential tweet? We hope that we will have more insight on the answer of this question and raise awareness on the impact 140 characters can make.\n",
    "\n",
    "### Research questions\n",
    "* Do violent events or crimes occur more frequently after presidential tweets?\n",
    "* Is the correlation higher with negative sentiment of the tweet?\n",
    "* Does a significant difference exists between such correlation with Trump and Obama presidency?\n",
    "* Is there a difference in sentiment expressed in tweets before and after Trump becoming a presidential candidate?\n",
    "* How do social-economical aspects influence the correlation?\n",
    "* Does the political regiment affect such negative behavior on a larger scale?\n",
    "\n",
    "### Dataset\n",
    "\n",
    "#### Trump tweets\n",
    "* Downloading the complete dataset locally and processing the JSON files\n",
    "* We would use mainly the timestamps and tweet content for our analysis:\n",
    "  * timestamps for temporal correlation with events\n",
    "  * tweet content for sentiment analysis\n",
    "* We could follow the impact of tweet by analyzing:\n",
    "  * number of retweets\n",
    "  * number of favorites\n",
    "  * number of followers\n",
    "  \n",
    "#### GDELT\n",
    "* We would use GDELT Global Knowledge graph to gain insights on events:\n",
    "  * geolocalized to USA\n",
    "  * in specified timeframe, starting from 2013\n",
    "  * specific events, such as protests or violent manifestations\n",
    "  * will need knowledge on working on the cluster and accessing the data\n",
    "  \n",
    "#### Wikidata\n",
    "* Obtaining data for social-economical indicators:\n",
    "  * for a specific period of time\n",
    "  * for a specific region of the USA\n",
    "  * data wrangling and processing\n",
    "\n",
    "#### Obama tweets *\n",
    "Available at: http://obamawhitehouse.gov.archivesocial.com/\n",
    "\n",
    "* It would enrich our analysis by providing an insight in differences between the two leaders\n",
    "* We strive for a more complete and less biased analysis\n",
    "\n",
    "---"
   ]
  },
  {
   "cell_type": "markdown",
   "metadata": {},
   "source": [
    "## Evolution of research topic\n",
    "\n",
    "The initial project proposal has evolved through iterations of data exploration, evaluation of project complexity and consultation with the teaching team in ADA.\n",
    "\n",
    "### Main concerns that have been raised\n",
    "* project required many areas of expertise\n",
    "    * from social studies, behavioral studies, to mechanisms of USA economy\n",
    "    * unable to reach the level of expertise on our own\n",
    "    * for this type of project having external scientists would be an overkill\n",
    "* timeframe for this project is limited\n",
    "    * practically impossible to have a meaningful insight in about a month\n",
    "* **signal detection and correlation would be very hard to prove since many underlying factors exist - complexity is high**\n",
    "* GDELT could not provide the necessary granularity for this survey\n",
    "\n",
    "A comment that described our situation and prospect of success:\n",
    "> You will probably need a PhD to be able to come close to a meaningful result.\n",
    "\n",
    "Even though we were passionate about our idea, we have realized we need to reduce the scope and pinpoint specific research questions that are feasible with our current expertise and available time. We are thankful to very insightful comments from professor Bob West who steered us to our current project. The project is reasonable, it is possibly insightful and we hope to squeeze as much information from the dataset as possible.\n",
    "\n",
    "---"
   ]
  },
  {
   "cell_type": "markdown",
   "metadata": {},
   "source": [
    "# TODO: current outline, abstract, research questions and datasets"
   ]
  },
  {
   "cell_type": "markdown",
   "metadata": {},
   "source": [
    "# Data analysis\n",
    "\n",
    "---\n",
    "\n",
    "## General overview\n",
    "\n",
    "We will perform an exploratory data analysis to get a deeper insight on the available data and information within. The two datasets we have decided on using are:\n",
    "\n",
    "* Trump Twitter archive: *main dataset*\n",
    "* Internet archive - Trump TV news factchecks: *enrichment dataset*\n",
    "\n",
    "\n",
    "### Trump Twitter archive\n",
    "\n",
    "Trump Twitter archive represents the complete collection of Tweets from the account of Donald Trump, since the first Tweet in 2009. The dataset has been obtained from [Trump Twitter Archive github repository](https://github.com/bpb27/trump_tweet_data_archive).\n",
    "\n",
    "Internally, the dataset has been obtained by combining [Twitter scraper](https://github.com/bpb27/twitter_scraping) and official Twitter API. This combination would allow for scraping Tweets from any user account without a need to use the official premium Twitter API.\n",
    "\n",
    "The result set is compliant with Twitter API output and information on meaning of columns in our dataset can be obtained by looking into [official documentation](https://developer.twitter.com/en/docs/tweets/tweet-updates).\n",
    "\n",
    "More information and explorative data analysis will follow.\n",
    "\n",
    "### Internet archive - Trump TV news factchecks\n",
    "\n",
    "In further research we would like to have an insight how Donald Trump reacts to the news about him. Obtaining a dataset which collected the news about Donald Trump would be difficult because:\n",
    "* Many sources online - which outlets to select\n",
    "* Possible bias while covering significant portion of news\n",
    "* Duplication of news from different sources\n",
    "* Significant difference in time of publishing\n",
    "* There is a need to extract main topics of news\n",
    "* What is the criteria for marking the news are about Donald Trump - he will appear in many news stories!\n",
    "* No universal API or method for this task - scraping of multiple sites would be necessary\n",
    "\n",
    "Luckily, [The Internet Archive](https://archive.org/details/tv?factchecks) has a ready dataset combining televised news clips linked to Donald Trump, from 2009 until today. Most importantly for televised clips - the dates are present, as well as a short list of topics covered. This would make it easier to pinpoint the reaction, if there is any in the Tweets. \n",
    "\n",
    "More information about the dataset will follow in the exploratory data analysis.\n",
    "\n",
    "\n",
    "### Where to process: in cluster or locally?\n",
    "Both **Trump Twitter archive** and **Internet archive - Trump TV news factchecks** are small enough for a local, in-memory processing and analysis. Decisive characteristics of the datasets for a local, in-memory processing are:\n",
    "\n",
    "* Trump Twitter archive:\n",
    "    * multiple JSON files, split by the year of collection\n",
    "    * content of the JSON files is specified by Twitter API\n",
    "    * 9 uncondensed JSON files, in total less than 100MB (92MB)\n",
    "\n",
    "* Internet archive - Trump TV news factchecks\n",
    "    * single CSV file\n",
    "    * less than 1 MB in size\n",
    "    \n",
    "---\n",
    "\n",
    "## Exploratory data analysis\n",
    "\n",
    "We will look in depth into the datasets and show the possible uses of the information, as well as comments on usability of certain parts of our data.\n",
    "\n",
    "Since dataset size allows for working in-memory, we will use standard utilities such as *Pandas* and *Numpy*."
   ]
  },
  {
   "cell_type": "code",
   "execution_count": 1,
   "metadata": {},
   "outputs": [],
   "source": [
    "import pandas as pd\n",
    "import numpy as np"
   ]
  },
  {
   "cell_type": "code",
   "execution_count": 2,
   "metadata": {},
   "outputs": [],
   "source": [
    "TWEETS_PATH = 'C:/Users/Viktor/Desktop/trump_tweet_data_archive-master/trump_tweet_data_archive-master/master_' \n",
    "NEWS_PATH = 'data/factchecks.csv'"
   ]
  },
  {
   "cell_type": "markdown",
   "metadata": {},
   "source": [
    "### Trump Twitter Archive"
   ]
  },
  {
   "cell_type": "markdown",
   "metadata": {},
   "source": [
    "We combine all the present Tweets into a single `DataFrame` for an easier utilization. Since multiple dataframes are concatenated, we need to reset the index to obtain an unique index."
   ]
  },
  {
   "cell_type": "code",
   "execution_count": 3,
   "metadata": {},
   "outputs": [],
   "source": [
    "tweets = pd.DataFrame()\n",
    "\n",
    "for i in range(2009,2018):\n",
    "    tweets = tweets.append(pd.read_json(TWEETS_PATH+str(i)+'.json/master_'+str(i)+'.json'))\n",
    "    \n",
    "tweets.reset_index(inplace=True)"
   ]
  },
  {
   "cell_type": "markdown",
   "metadata": {},
   "source": [
    "As well as observing all the present columns in our `DataFrame`:"
   ]
  },
  {
   "cell_type": "code",
   "execution_count": 5,
   "metadata": {},
   "outputs": [
    {
     "data": {
      "text/plain": [
       "Index(['index', 'contributors', 'coordinates', 'created_at',\n",
       "       'display_text_range', 'entities', 'extended_entities', 'favorite_count',\n",
       "       'favorited', 'full_text', 'geo', 'id', 'id_str',\n",
       "       'in_reply_to_screen_name', 'in_reply_to_status_id',\n",
       "       'in_reply_to_status_id_str', 'in_reply_to_user_id',\n",
       "       'in_reply_to_user_id_str', 'is_quote_status', 'lang', 'place',\n",
       "       'possibly_sensitive', 'quoted_status', 'quoted_status_id',\n",
       "       'quoted_status_id_str', 'retweet_count', 'retweeted',\n",
       "       'retweeted_status', 'scopes', 'source', 'text', 'truncated', 'user',\n",
       "       'withheld_copyright', 'withheld_in_countries', 'withheld_scope'],\n",
       "      dtype='object')"
      ]
     },
     "execution_count": 5,
     "metadata": {},
     "output_type": "execute_result"
    }
   ],
   "source": [
    "tweets.columns"
   ]
  },
  {
   "cell_type": "markdown",
   "metadata": {},
   "source": [
    "Documentation provides more information about the semantics behind each attribute of a [Tweet object](https://developer.twitter.com/en/docs/tweets/data-dictionary/overview/tweet-object).\n",
    "\n",
    "We are mainly interested in following general attributes of Tweets:\n",
    "* **textual content**\n",
    "* **number of retweets**\n",
    "* **number of favorites**\n",
    "\n",
    "Such Tweet context could be obtained from the fields:\n",
    "* `text` - Tweet content\n",
    "* `created_at` - timestamp of the tweet\n",
    "* `entities` - *dictionary*, [entities](https://developer.twitter.com/en/docs/tweets/data-dictionary/overview/entities-object) parsed out of the tweet:\n",
    "    * `hashtags` - list of included hashtags\n",
    "    * `symbols` - list of symbols\n",
    "    * `urls` - list of urls\n",
    "    * `user_mentions` - list of mentioned users\n",
    "* `favorite_count` - number of favorites\n",
    "* `id` - Tweet id\n",
    "* `is_quote_status` - indicates whether this is a quoted tweet - indicates that this is not a direct expression of the user\n",
    "* `lang` - language of the tweet (could help in the NLP)\n",
    "* `retweet_count` - number of retweets\n",
    "* `source` - utility used to post the Tweet\n",
    "* `user` - *dictionary*, information about the [user](https://developer.twitter.com/en/docs/tweets/data-dictionary/overview/user-object), we are interested in:\n",
    "    * `followers count` - number of followers at the Tweet `created_at` time\n",
    "    * `statuses_count` - number of tweets at the Tweet `created_at` time\n",
    "\n",
    "---\n",
    "\n",
    "**Sample Tweet:**"
   ]
  },
  {
   "cell_type": "code",
   "execution_count": 22,
   "metadata": {},
   "outputs": [
    {
     "data": {
      "text/html": [
       "<div>\n",
       "<style>\n",
       "    .dataframe thead tr:only-child th {\n",
       "        text-align: right;\n",
       "    }\n",
       "\n",
       "    .dataframe thead th {\n",
       "        text-align: left;\n",
       "    }\n",
       "\n",
       "    .dataframe tbody tr th {\n",
       "        vertical-align: top;\n",
       "    }\n",
       "</style>\n",
       "<table border=\"1\" class=\"dataframe\">\n",
       "  <thead>\n",
       "    <tr style=\"text-align: right;\">\n",
       "      <th></th>\n",
       "      <th>index</th>\n",
       "      <th>contributors</th>\n",
       "      <th>coordinates</th>\n",
       "      <th>created_at</th>\n",
       "      <th>display_text_range</th>\n",
       "      <th>entities</th>\n",
       "      <th>extended_entities</th>\n",
       "      <th>favorite_count</th>\n",
       "      <th>favorited</th>\n",
       "      <th>full_text</th>\n",
       "      <th>...</th>\n",
       "      <th>retweeted</th>\n",
       "      <th>retweeted_status</th>\n",
       "      <th>scopes</th>\n",
       "      <th>source</th>\n",
       "      <th>text</th>\n",
       "      <th>truncated</th>\n",
       "      <th>user</th>\n",
       "      <th>withheld_copyright</th>\n",
       "      <th>withheld_in_countries</th>\n",
       "      <th>withheld_scope</th>\n",
       "    </tr>\n",
       "  </thead>\n",
       "  <tbody>\n",
       "    <tr>\n",
       "      <th>0</th>\n",
       "      <td>0</td>\n",
       "      <td>NaN</td>\n",
       "      <td>NaN</td>\n",
       "      <td>2009-12-23 17:38:18</td>\n",
       "      <td>NaN</td>\n",
       "      <td>{'symbols': [], 'user_mentions': [], 'hashtags...</td>\n",
       "      <td>NaN</td>\n",
       "      <td>12</td>\n",
       "      <td>False</td>\n",
       "      <td>NaN</td>\n",
       "      <td>...</td>\n",
       "      <td>False</td>\n",
       "      <td>NaN</td>\n",
       "      <td>NaN</td>\n",
       "      <td>&lt;a href=\"http://twitter.com\" rel=\"nofollow\"&gt;Tw...</td>\n",
       "      <td>From Donald Trump: Wishing everyone a wonderfu...</td>\n",
       "      <td>False</td>\n",
       "      <td>{'follow_request_sent': False, 'has_extended_p...</td>\n",
       "      <td>NaN</td>\n",
       "      <td>NaN</td>\n",
       "      <td>NaN</td>\n",
       "    </tr>\n",
       "    <tr>\n",
       "      <th>1</th>\n",
       "      <td>1</td>\n",
       "      <td>NaN</td>\n",
       "      <td>NaN</td>\n",
       "      <td>2009-12-03 19:39:09</td>\n",
       "      <td>NaN</td>\n",
       "      <td>{'symbols': [], 'user_mentions': [], 'hashtags...</td>\n",
       "      <td>NaN</td>\n",
       "      <td>6</td>\n",
       "      <td>False</td>\n",
       "      <td>NaN</td>\n",
       "      <td>...</td>\n",
       "      <td>False</td>\n",
       "      <td>NaN</td>\n",
       "      <td>NaN</td>\n",
       "      <td>&lt;a href=\"http://twitter.com\" rel=\"nofollow\"&gt;Tw...</td>\n",
       "      <td>Trump International Tower in Chicago ranked 6t...</td>\n",
       "      <td>False</td>\n",
       "      <td>{'follow_request_sent': False, 'has_extended_p...</td>\n",
       "      <td>NaN</td>\n",
       "      <td>NaN</td>\n",
       "      <td>NaN</td>\n",
       "    </tr>\n",
       "  </tbody>\n",
       "</table>\n",
       "<p>2 rows × 36 columns</p>\n",
       "</div>"
      ],
      "text/plain": [
       "   index  contributors coordinates          created_at display_text_range  \\\n",
       "0      0           NaN         NaN 2009-12-23 17:38:18                NaN   \n",
       "1      1           NaN         NaN 2009-12-03 19:39:09                NaN   \n",
       "\n",
       "                                            entities extended_entities  \\\n",
       "0  {'symbols': [], 'user_mentions': [], 'hashtags...               NaN   \n",
       "1  {'symbols': [], 'user_mentions': [], 'hashtags...               NaN   \n",
       "\n",
       "   favorite_count  favorited full_text      ...       retweeted  \\\n",
       "0              12      False       NaN      ...           False   \n",
       "1               6      False       NaN      ...           False   \n",
       "\n",
       "   retweeted_status  scopes  \\\n",
       "0               NaN     NaN   \n",
       "1               NaN     NaN   \n",
       "\n",
       "                                              source  \\\n",
       "0  <a href=\"http://twitter.com\" rel=\"nofollow\">Tw...   \n",
       "1  <a href=\"http://twitter.com\" rel=\"nofollow\">Tw...   \n",
       "\n",
       "                                                text  truncated  \\\n",
       "0  From Donald Trump: Wishing everyone a wonderfu...      False   \n",
       "1  Trump International Tower in Chicago ranked 6t...      False   \n",
       "\n",
       "                                                user  withheld_copyright  \\\n",
       "0  {'follow_request_sent': False, 'has_extended_p...                 NaN   \n",
       "1  {'follow_request_sent': False, 'has_extended_p...                 NaN   \n",
       "\n",
       "   withheld_in_countries withheld_scope  \n",
       "0                    NaN            NaN  \n",
       "1                    NaN            NaN  \n",
       "\n",
       "[2 rows x 36 columns]"
      ]
     },
     "execution_count": 22,
     "metadata": {},
     "output_type": "execute_result"
    }
   ],
   "source": [
    "tweets.head(2)"
   ]
  },
  {
   "cell_type": "markdown",
   "metadata": {},
   "source": [
    "**Sample `entities` dictionary**:"
   ]
  },
  {
   "cell_type": "code",
   "execution_count": 15,
   "metadata": {},
   "outputs": [
    {
     "data": {
      "text/plain": [
       "{'hashtags': [], 'symbols': [], 'urls': [], 'user_mentions': []}"
      ]
     },
     "execution_count": 15,
     "metadata": {},
     "output_type": "execute_result"
    }
   ],
   "source": [
    "tweets.loc[0].entities"
   ]
  },
  {
   "cell_type": "markdown",
   "metadata": {},
   "source": [
    "**Sample `user` dictionary:**"
   ]
  },
  {
   "cell_type": "code",
   "execution_count": 16,
   "metadata": {},
   "outputs": [
    {
     "data": {
      "text/plain": [
       "{'contributors_enabled': False,\n",
       " 'created_at': 'Wed Mar 18 13:46:38 +0000 2009',\n",
       " 'default_profile': False,\n",
       " 'default_profile_image': False,\n",
       " 'description': 'President-elect of the United States',\n",
       " 'entities': {'description': {'urls': []},\n",
       "  'url': {'urls': [{'display_url': 'DonaldJTrump.com',\n",
       "     'expanded_url': 'http://www.DonaldJTrump.com',\n",
       "     'indices': [0, 23],\n",
       "     'url': 'https://t.co/mZB2hymxC9'}]}},\n",
       " 'favourites_count': 45,\n",
       " 'follow_request_sent': False,\n",
       " 'followers_count': 15665560,\n",
       " 'following': True,\n",
       " 'friends_count': 41,\n",
       " 'geo_enabled': True,\n",
       " 'has_extended_profile': False,\n",
       " 'id': 25073877,\n",
       " 'id_str': '25073877',\n",
       " 'is_translation_enabled': True,\n",
       " 'is_translator': False,\n",
       " 'lang': 'en',\n",
       " 'listed_count': 45212,\n",
       " 'location': 'New York, NY',\n",
       " 'name': 'Donald J. Trump',\n",
       " 'notifications': True,\n",
       " 'profile_background_color': '6D5C18',\n",
       " 'profile_background_image_url': 'http://pbs.twimg.com/profile_background_images/530021613/trump_scotland__43_of_70_cc.jpg',\n",
       " 'profile_background_image_url_https': 'https://pbs.twimg.com/profile_background_images/530021613/trump_scotland__43_of_70_cc.jpg',\n",
       " 'profile_background_tile': True,\n",
       " 'profile_banner_url': 'https://pbs.twimg.com/profile_banners/25073877/1479267159',\n",
       " 'profile_image_url': 'http://pbs.twimg.com/profile_images/1980294624/DJT_Headshot_V2_normal.jpg',\n",
       " 'profile_image_url_https': 'https://pbs.twimg.com/profile_images/1980294624/DJT_Headshot_V2_normal.jpg',\n",
       " 'profile_link_color': '0D5B73',\n",
       " 'profile_sidebar_border_color': 'BDDCAD',\n",
       " 'profile_sidebar_fill_color': 'C5CEC0',\n",
       " 'profile_text_color': '333333',\n",
       " 'profile_use_background_image': True,\n",
       " 'protected': False,\n",
       " 'screen_name': 'realDonaldTrump',\n",
       " 'statuses_count': 34010,\n",
       " 'time_zone': 'Eastern Time (US & Canada)',\n",
       " 'translator_type': 'none',\n",
       " 'url': 'https://t.co/mZB2hymxC9',\n",
       " 'utc_offset': -18000,\n",
       " 'verified': True}"
      ]
     },
     "execution_count": 16,
     "metadata": {},
     "output_type": "execute_result"
    }
   ],
   "source": [
    "tweets.loc[0].user"
   ]
  },
  {
   "cell_type": "markdown",
   "metadata": {},
   "source": [
    "We see many fields generated by the API, but as we have previously mentioned, we will use only a subset of such features for our analysis.\n",
    "\n",
    "---\n",
    "\n",
    "#### General characteristics of the dataset"
   ]
  },
  {
   "cell_type": "code",
   "execution_count": 32,
   "metadata": {},
   "outputs": [
    {
     "name": "stdout",
     "output_type": "stream",
     "text": [
      "Number of Tweets:  32532\n",
      "Account created on:  Wed Mar 18 13:46:38 +0000 2009\n",
      "User time zone: Eastern Time (US & Canada)\n",
      "Latest tweet time: 2017-11-24 18:49:12\n"
     ]
    }
   ],
   "source": [
    "print('Number of Tweets: ', tweets.shape[0])\n",
    "print('Account created on: ', tweets.loc[0].user['created_at'])\n",
    "print('User time zone:', tweets.loc[0].user['time_zone'])\n",
    "print('Latest tweet time:', tweets.created_at.max())"
   ]
  },
  {
   "cell_type": "code",
   "execution_count": 33,
   "metadata": {},
   "outputs": [
    {
     "data": {
      "text/html": [
       "<div>\n",
       "<style>\n",
       "    .dataframe thead tr:only-child th {\n",
       "        text-align: right;\n",
       "    }\n",
       "\n",
       "    .dataframe thead th {\n",
       "        text-align: left;\n",
       "    }\n",
       "\n",
       "    .dataframe tbody tr th {\n",
       "        vertical-align: top;\n",
       "    }\n",
       "</style>\n",
       "<table border=\"1\" class=\"dataframe\">\n",
       "  <thead>\n",
       "    <tr style=\"text-align: right;\">\n",
       "      <th></th>\n",
       "      <th>index</th>\n",
       "      <th>contributors</th>\n",
       "      <th>favorite_count</th>\n",
       "      <th>id</th>\n",
       "      <th>id_str</th>\n",
       "      <th>in_reply_to_status_id</th>\n",
       "      <th>in_reply_to_status_id_str</th>\n",
       "      <th>in_reply_to_user_id</th>\n",
       "      <th>in_reply_to_user_id_str</th>\n",
       "      <th>possibly_sensitive</th>\n",
       "      <th>quoted_status_id</th>\n",
       "      <th>quoted_status_id_str</th>\n",
       "      <th>retweet_count</th>\n",
       "      <th>withheld_copyright</th>\n",
       "    </tr>\n",
       "  </thead>\n",
       "  <tbody>\n",
       "    <tr>\n",
       "      <th>count</th>\n",
       "      <td>32532.000000</td>\n",
       "      <td>0.0</td>\n",
       "      <td>32532.000000</td>\n",
       "      <td>3.253200e+04</td>\n",
       "      <td>3.253200e+04</td>\n",
       "      <td>1.999000e+03</td>\n",
       "      <td>1.999000e+03</td>\n",
       "      <td>2.440000e+03</td>\n",
       "      <td>2.440000e+03</td>\n",
       "      <td>7489.0</td>\n",
       "      <td>2.860000e+02</td>\n",
       "      <td>2.860000e+02</td>\n",
       "      <td>32532.000000</td>\n",
       "      <td>1.0</td>\n",
       "    </tr>\n",
       "    <tr>\n",
       "      <th>mean</th>\n",
       "      <td>2965.614134</td>\n",
       "      <td>NaN</td>\n",
       "      <td>8414.287809</td>\n",
       "      <td>5.031478e+17</td>\n",
       "      <td>5.031478e+17</td>\n",
       "      <td>3.347165e+17</td>\n",
       "      <td>3.347165e+17</td>\n",
       "      <td>3.516381e+08</td>\n",
       "      <td>3.516381e+08</td>\n",
       "      <td>0.0</td>\n",
       "      <td>7.254326e+17</td>\n",
       "      <td>7.254326e+17</td>\n",
       "      <td>2572.550012</td>\n",
       "      <td>1.0</td>\n",
       "    </tr>\n",
       "    <tr>\n",
       "      <th>std</th>\n",
       "      <td>2112.973211</td>\n",
       "      <td>NaN</td>\n",
       "      <td>25144.002721</td>\n",
       "      <td>2.027952e+17</td>\n",
       "      <td>2.027952e+17</td>\n",
       "      <td>9.525507e+16</td>\n",
       "      <td>9.525507e+16</td>\n",
       "      <td>4.004455e+08</td>\n",
       "      <td>4.004455e+08</td>\n",
       "      <td>0.0</td>\n",
       "      <td>1.097156e+17</td>\n",
       "      <td>1.097156e+17</td>\n",
       "      <td>7422.315792</td>\n",
       "      <td>NaN</td>\n",
       "    </tr>\n",
       "    <tr>\n",
       "      <th>min</th>\n",
       "      <td>0.000000</td>\n",
       "      <td>NaN</td>\n",
       "      <td>0.000000</td>\n",
       "      <td>1.698309e+09</td>\n",
       "      <td>1.698309e+09</td>\n",
       "      <td>1.672774e+17</td>\n",
       "      <td>1.672774e+17</td>\n",
       "      <td>7.425000e+03</td>\n",
       "      <td>7.425000e+03</td>\n",
       "      <td>0.0</td>\n",
       "      <td>5.427798e+17</td>\n",
       "      <td>5.427798e+17</td>\n",
       "      <td>0.000000</td>\n",
       "      <td>1.0</td>\n",
       "    </tr>\n",
       "    <tr>\n",
       "      <th>25%</th>\n",
       "      <td>1193.000000</td>\n",
       "      <td>NaN</td>\n",
       "      <td>20.000000</td>\n",
       "      <td>3.350412e+17</td>\n",
       "      <td>3.350412e+17</td>\n",
       "      <td>2.937718e+17</td>\n",
       "      <td>2.937718e+17</td>\n",
       "      <td>4.251961e+07</td>\n",
       "      <td>4.251961e+07</td>\n",
       "      <td>0.0</td>\n",
       "      <td>6.293375e+17</td>\n",
       "      <td>6.293375e+17</td>\n",
       "      <td>16.000000</td>\n",
       "      <td>1.0</td>\n",
       "    </tr>\n",
       "    <tr>\n",
       "      <th>50%</th>\n",
       "      <td>2590.000000</td>\n",
       "      <td>NaN</td>\n",
       "      <td>68.000000</td>\n",
       "      <td>5.097998e+17</td>\n",
       "      <td>5.097998e+17</td>\n",
       "      <td>3.138054e+17</td>\n",
       "      <td>3.138054e+17</td>\n",
       "      <td>2.392729e+08</td>\n",
       "      <td>2.392729e+08</td>\n",
       "      <td>0.0</td>\n",
       "      <td>6.973068e+17</td>\n",
       "      <td>6.973068e+17</td>\n",
       "      <td>107.000000</td>\n",
       "      <td>1.0</td>\n",
       "    </tr>\n",
       "    <tr>\n",
       "      <th>75%</th>\n",
       "      <td>4443.000000</td>\n",
       "      <td>NaN</td>\n",
       "      <td>1910.000000</td>\n",
       "      <td>6.551359e+17</td>\n",
       "      <td>6.551359e+17</td>\n",
       "      <td>3.543118e+17</td>\n",
       "      <td>3.543118e+17</td>\n",
       "      <td>4.852951e+08</td>\n",
       "      <td>4.852951e+08</td>\n",
       "      <td>0.0</td>\n",
       "      <td>7.888950e+17</td>\n",
       "      <td>7.888950e+17</td>\n",
       "      <td>1151.250000</td>\n",
       "      <td>1.0</td>\n",
       "    </tr>\n",
       "    <tr>\n",
       "      <th>max</th>\n",
       "      <td>8143.000000</td>\n",
       "      <td>NaN</td>\n",
       "      <td>633253.000000</td>\n",
       "      <td>9.341318e+17</td>\n",
       "      <td>9.341318e+17</td>\n",
       "      <td>9.336626e+17</td>\n",
       "      <td>9.336626e+17</td>\n",
       "      <td>3.412873e+09</td>\n",
       "      <td>3.412873e+09</td>\n",
       "      <td>0.0</td>\n",
       "      <td>9.339594e+17</td>\n",
       "      <td>9.339594e+17</td>\n",
       "      <td>369530.000000</td>\n",
       "      <td>1.0</td>\n",
       "    </tr>\n",
       "  </tbody>\n",
       "</table>\n",
       "</div>"
      ],
      "text/plain": [
       "              index  contributors  favorite_count            id        id_str  \\\n",
       "count  32532.000000           0.0    32532.000000  3.253200e+04  3.253200e+04   \n",
       "mean    2965.614134           NaN     8414.287809  5.031478e+17  5.031478e+17   \n",
       "std     2112.973211           NaN    25144.002721  2.027952e+17  2.027952e+17   \n",
       "min        0.000000           NaN        0.000000  1.698309e+09  1.698309e+09   \n",
       "25%     1193.000000           NaN       20.000000  3.350412e+17  3.350412e+17   \n",
       "50%     2590.000000           NaN       68.000000  5.097998e+17  5.097998e+17   \n",
       "75%     4443.000000           NaN     1910.000000  6.551359e+17  6.551359e+17   \n",
       "max     8143.000000           NaN   633253.000000  9.341318e+17  9.341318e+17   \n",
       "\n",
       "       in_reply_to_status_id  in_reply_to_status_id_str  in_reply_to_user_id  \\\n",
       "count           1.999000e+03               1.999000e+03         2.440000e+03   \n",
       "mean            3.347165e+17               3.347165e+17         3.516381e+08   \n",
       "std             9.525507e+16               9.525507e+16         4.004455e+08   \n",
       "min             1.672774e+17               1.672774e+17         7.425000e+03   \n",
       "25%             2.937718e+17               2.937718e+17         4.251961e+07   \n",
       "50%             3.138054e+17               3.138054e+17         2.392729e+08   \n",
       "75%             3.543118e+17               3.543118e+17         4.852951e+08   \n",
       "max             9.336626e+17               9.336626e+17         3.412873e+09   \n",
       "\n",
       "       in_reply_to_user_id_str  possibly_sensitive  quoted_status_id  \\\n",
       "count             2.440000e+03              7489.0      2.860000e+02   \n",
       "mean              3.516381e+08                 0.0      7.254326e+17   \n",
       "std               4.004455e+08                 0.0      1.097156e+17   \n",
       "min               7.425000e+03                 0.0      5.427798e+17   \n",
       "25%               4.251961e+07                 0.0      6.293375e+17   \n",
       "50%               2.392729e+08                 0.0      6.973068e+17   \n",
       "75%               4.852951e+08                 0.0      7.888950e+17   \n",
       "max               3.412873e+09                 0.0      9.339594e+17   \n",
       "\n",
       "       quoted_status_id_str  retweet_count  withheld_copyright  \n",
       "count          2.860000e+02   32532.000000                 1.0  \n",
       "mean           7.254326e+17    2572.550012                 1.0  \n",
       "std            1.097156e+17    7422.315792                 NaN  \n",
       "min            5.427798e+17       0.000000                 1.0  \n",
       "25%            6.293375e+17      16.000000                 1.0  \n",
       "50%            6.973068e+17     107.000000                 1.0  \n",
       "75%            7.888950e+17    1151.250000                 1.0  \n",
       "max            9.339594e+17  369530.000000                 1.0  "
      ]
     },
     "execution_count": 33,
     "metadata": {},
     "output_type": "execute_result"
    }
   ],
   "source": [
    "tweets.describe()"
   ]
  },
  {
   "cell_type": "markdown",
   "metadata": {},
   "source": [
    "Donald Trump has had his Twitter account created on 18th of March, 2009. Since then he has Tweeted over 32532 times. We have taken a snippet of the dataset on 24th of November 2017 to work with locally. Latest tweet is posted on 18:49:12 that day, in Eastern time zone.\n",
    "\n",
    "The dataset is being updated hourly with new tweets. After obtaining a stable tool for analysis and insight, it would be possible to perform an hourly update. Albeit, such miniscule changes in comparison to the total body of tweets would be insignificant for some analysis. \n",
    "\n",
    "As seen in the `DataFrame` description, across all the Tweets we can observe their overall coarse popularity:\n",
    "* favorites: \n",
    "    * maximum: 633253\n",
    "    * mean: 8414\n",
    "    * median: 68\n",
    "* retweets:\n",
    "    * maximum: 369530 \n",
    "    * mean: 2572\n",
    "    * median: 107\n",
    "    \n",
    "We will look into greater detail about Tweet distribution over the years, their characteristics and stats in later phases of dedicated data analysis.\n",
    "\n",
    "#### Geolocation - is there a value in it?\n",
    "\n",
    "Twitter API provides geographical coordinates of the tweet, provided the user has enabled such an option. This could provide some insight on activities of any person using Twitter. In this case it could provide an option to see whether the tone of the Tweets and general topics differ when Donald Trump is in different locations: foreign countries, Oval office or resting at Mar-a-Lago.\n",
    "\n",
    "As presumed, only certain number of Tweet is geotagged. This makes sense - since otherwise Secret Service might have a more difficult job in certain situations. Albeit, we can get a small glimpse of locations Donald Trump has visited, as we will demonstrate in a short example:"
   ]
  },
  {
   "cell_type": "code",
   "execution_count": 74,
   "metadata": {},
   "outputs": [
    {
     "data": {
      "text/plain": [
       "(2299,)"
      ]
     },
     "execution_count": 74,
     "metadata": {},
     "output_type": "execute_result"
    }
   ],
   "source": [
    "# we extract the tweets for which the geolocation is defined\n",
    "coord = tweets.loc[tweets.coordinates.notnull()]['coordinates']\n",
    "coord.shape"
   ]
  },
  {
   "cell_type": "markdown",
   "metadata": {},
   "source": [
    "We will use `Folium` to show a map and place markers on locations Donald Trump has tweeted from."
   ]
  },
  {
   "cell_type": "code",
   "execution_count": 47,
   "metadata": {},
   "outputs": [],
   "source": [
    "import folium\n",
    "\n",
    "m = folium.Map(location=[40.7624658, -73.9754123], zoom_start=2)"
   ]
  },
  {
   "cell_type": "markdown",
   "metadata": {},
   "source": [
    "Since there are too many Tweets (2299) to visualize on a map, we presume that some have similar coordinates - we only want a general location. Thus we define functions to generalize the location and reduce the size of a list by merging similar coordinates together:"
   ]
  },
  {
   "cell_type": "code",
   "execution_count": 40,
   "metadata": {},
   "outputs": [],
   "source": [
    "'''\n",
    "Convenience function wrapper for reversing a list.\n",
    "\n",
    "Parameters: \n",
    "my_list -- input list to reverse\n",
    "\n",
    "Returns:\n",
    "my_list -- list with reversed elements\n",
    "'''\n",
    "def my_reverse(my_list):\n",
    "    my_list.reverse()\n",
    "    return my_list\n",
    "\n",
    "'''\n",
    "Function for verifying whether a sublist exists in a list of lists.\n",
    "\n",
    "Parameters:\n",
    "my_list -- list of lists\n",
    "check -- list, input for which to check existence in my_list\n",
    "\n",
    "Returns:\n",
    "boolean -- True if sublist does not exist in the list, False otherwise\n",
    "'''\n",
    "def not_in_list(my_list, check):\n",
    "    for lst in my_list:\n",
    "        if(np.array_equal(check, lst)):\n",
    "            return False\n",
    "    return True\n",
    "\n",
    "'''\n",
    "Function for removing similar coordinates from the coordinates iterable object. \n",
    "The similarity is defined by decimal precision - the higher the decimal it is more precise and less entries would be removed.\n",
    "\n",
    "Parameters:\n",
    "coord_list -- iterable object containing coordinates (pandas.Series object)\n",
    "decimal -- the rounding precision to be applied\n",
    "\n",
    "Returns:\n",
    "np.array -- array with removed similar coordinates\n",
    "'''\n",
    "def remove_similar_coord(coord_list, decimal):\n",
    "    cleaned = [[0.53242,  0.43315]]\n",
    "    \n",
    "    for el in coord_list:\n",
    "        rounded = np.around(el['coordinates'],decimal)\n",
    "        if (not_in_list(cleaned, rounded)):\n",
    "            cleaned.append(rounded)\n",
    "    \n",
    "    return np.array(cleaned)"
   ]
  },
  {
   "cell_type": "code",
   "execution_count": 75,
   "metadata": {},
   "outputs": [
    {
     "data": {
      "text/plain": [
       "(78, 2)"
      ]
     },
     "execution_count": 75,
     "metadata": {},
     "output_type": "execute_result"
    }
   ],
   "source": [
    "cleaned = remove_similar_coord(coord, 2)\n",
    "cleaned.shape"
   ]
  },
  {
   "cell_type": "markdown",
   "metadata": {},
   "source": [
    "In comparison to 2299 markers, 78 markers would be more reasonable to plot on map. Only thing we did was generalizing Tweets that were posted from nearby locations. We will add the markers to the map, note that we need to reverse the coordinates provided in Twitter API (reverse the position of lattitude and longitude) to show the right location."
   ]
  },
  {
   "cell_type": "code",
   "execution_count": 76,
   "metadata": {
    "scrolled": true
   },
   "outputs": [
    {
     "data": {
      "text/html": [
       "<div style=\"width:100%;\"><div style=\"position:relative;width:100%;height:0;padding-bottom:60%;\"><iframe src=\"data:text/html;charset=utf-8;base64,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\" style=\"position:absolute;width:100%;height:100%;left:0;top:0;border:none !important;\" allowfullscreen webkitallowfullscreen mozallowfullscreen></iframe></div></div>"
      ],
      "text/plain": [
       "<folium.folium.Map at 0x1e345ccef60>"
      ]
     },
     "execution_count": 76,
     "metadata": {},
     "output_type": "execute_result"
    }
   ],
   "source": [
    "for el in cleaned:\n",
    "    folium.Marker(location=np.flip(el, axis=0)).add_to(m)\n",
    "    \n",
    "m"
   ]
  },
  {
   "cell_type": "markdown",
   "metadata": {},
   "source": [
    "Besides visualization, we can't reason much in terms of automated analysis from the map. One option would be to extract the location details from the coordinates, and then extract the required infomation (e.g. country name). This is possible by utilizing [`geopy` package](https://pypi.python.org/pypi/geopy), more specifically [`Nominatim`](http://wiki.openstreetmap.org/wiki/Nominatim), which represents a Python wrapper of the Nominatium API. We will showcase the example of extracting the country names from the previously visualized markers."
   ]
  },
  {
   "cell_type": "code",
   "execution_count": 106,
   "metadata": {},
   "outputs": [],
   "source": [
    "from geopy.geocoders import Nominatim\n",
    "\n",
    "# we initialize the object - wrapper around Nominatim API\n",
    "geolocator = Nominatim()"
   ]
  },
  {
   "cell_type": "markdown",
   "metadata": {},
   "source": [
    "A short example on how to obtain the Location object and address:"
   ]
  },
  {
   "cell_type": "code",
   "execution_count": 107,
   "metadata": {},
   "outputs": [
    {
     "data": {
      "text/plain": [
       "'712 Fifth Avenue, 712, 5th Avenue, Diamond District, Manhattan Community Board 5, New York County, NYC, New York, 10019, United States of America'"
      ]
     },
     "execution_count": 107,
     "metadata": {},
     "output_type": "execute_result"
    }
   ],
   "source": [
    "# location is obtained by using the reverse method, and providing the coordinates\n",
    "l = geolocator.reverse([40.7625069, -73.975321])\n",
    "\n",
    "# address represents a field of the Location object, we see the country is last element separated by comma\n",
    "l.address"
   ]
  },
  {
   "cell_type": "code",
   "execution_count": 114,
   "metadata": {},
   "outputs": [
    {
     "data": {
      "text/plain": [
       "(78, 2)"
      ]
     },
     "execution_count": 114,
     "metadata": {},
     "output_type": "execute_result"
    }
   ],
   "source": [
    "cleaned.shape"
   ]
  },
  {
   "cell_type": "code",
   "execution_count": 117,
   "metadata": {},
   "outputs": [],
   "source": [
    "import time\n",
    "\n",
    "countries_tweeted_from = []\n",
    "\n",
    "for crd in cleaned:\n",
    "    # some coordinates seem to be spoofed and are less than 1\n",
    "    if(crd[0]>1 or crd[1]>1):\n",
    "        # we flip the coordinate array and convert it to Python list\n",
    "        coord_list = np.flip(crd, axis=0).tolist()\n",
    "        \n",
    "        # we get the Location object from coordinates\n",
    "        location = geolocator.reverse(coord_list)\n",
    "        \n",
    "        # we split the address by comma character\n",
    "        address = location.address.split(',')\n",
    "        \n",
    "        # the country represents the last element in the address list\n",
    "        country = address[len(address)-1]\n",
    "        \n",
    "        # we append the extracted country to the list\n",
    "        countries_tweeted_from.append(country)"
   ]
  },
  {
   "cell_type": "markdown",
   "metadata": {},
   "source": [
    "We can now see the countries Donald Trump has Tweeted from:"
   ]
  },
  {
   "cell_type": "code",
   "execution_count": 118,
   "metadata": {},
   "outputs": [
    {
     "data": {
      "text/plain": [
       "{' Hrvatska', ' India', ' Ireland', ' UK', ' United States of America', ' РФ'}"
      ]
     },
     "execution_count": 118,
     "metadata": {},
     "output_type": "execute_result"
    }
   ],
   "source": [
    "set(countries_tweeted_from)"
   ]
  },
  {
   "cell_type": "markdown",
   "metadata": {},
   "source": [
    "**Note:** for the current scope of our analysis and general project, this does not represent much value. It is here to showcase the possibility in certain use-cases."
   ]
  },
  {
   "cell_type": "code",
   "execution_count": null,
   "metadata": {},
   "outputs": [],
   "source": [
    "news = pd.read_csv(NEWS_PATH)"
   ]
  }
 ],
 "metadata": {
  "kernelspec": {
   "display_name": "Python [conda env:ada]",
   "language": "python",
   "name": "conda-env-ada-py"
  },
  "language_info": {
   "codemirror_mode": {
    "name": "ipython",
    "version": 3
   },
   "file_extension": ".py",
   "mimetype": "text/x-python",
   "name": "python",
   "nbconvert_exporter": "python",
   "pygments_lexer": "ipython3",
   "version": "3.6.2"
  }
 },
 "nbformat": 4,
 "nbformat_minor": 2
}
