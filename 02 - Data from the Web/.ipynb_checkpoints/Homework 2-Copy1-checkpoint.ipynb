{
 "cells": [
  {
   "cell_type": "markdown",
   "metadata": {},
   "source": [
    "# 02 - Data from the Web\n",
    "\n",
    "## Assignment\n",
    "1. Obtain the 200 top-ranking universities in www.topuniversities.com ([ranking 2018](https://www.topuniversities.com/university-rankings/world-university-rankings/2018)). In particular, extract the following fields for each university: name, rank, country and region, number of faculty members (international and total) and number of students (international and total). Some information is not available in the main list and you have to find them in the [details page](https://www.topuniversities.com/universities/ecole-polytechnique-fédérale-de-lausanne-epfl).\n",
    "Store the resulting dataset in a pandas DataFrame and answer the following questions:\n",
    "- Which are the best universities in term of: (a) ratio between faculty members and students, (b) ratio of international students?\n",
    "- Answer the previous question aggregating the data by (c) country and (d) region.\n",
    "\n",
    "Plot your data using bar charts and describe briefly what you observed.\n",
    "\n",
    "2. Obtain the 200 top-ranking universities in www.timeshighereducation.com ([ranking 2018](http://timeshighereducation.com/world-university-rankings/2018/world-ranking)). Repeat the analysis of the previous point and discuss briefly what you observed.\n",
    "\n",
    "3. Merge the two DataFrames created in questions 1 and 2 using university names. Match universities' names as well as you can, and explain your strategy. Keep track of the original position in both rankings.\n",
    "\n",
    "4. Find useful insights in the data by performing an exploratory analysis. Can you find a strong correlation between any pair of variables in the dataset you just created? Example: when a university is strong in its international dimension, can you observe a consistency both for students and faculty members?\n",
    "\n",
    "5. Can you find the best university taking in consideration both rankings? Explain your approach.\n",
    "\n",
    "Hints:\n",
    "- Keep your Notebook clean and don't print the verbose output of the requests if this does not add useful information for the reader.\n",
    "- In case of tie, use the order defined in the webpage.\n"
   ]
  },
  {
   "cell_type": "markdown",
   "metadata": {},
   "source": [
    "## 1. World University Rankings by TopUniversities\n",
    "\n",
    "---\n",
    "<div class=\"alert alert-block alert-info\">\n",
    "<b>Task</b>: \n",
    "<ol>\n",
    "    <li>Obtain the 200 top-ranking universities in www.topuniversities.com (<a href=\"https://www.topuniversities.com/university-rankings/world-university-rankings/2018\">ranking 2018</a>). In particular, extract the following fields for each university: name, rank, country and region, number of faculty members (international and total) and number of students (international and total). Some information is not available in the main list and you have to find them in the <a href=\"https://www.topuniversities.com/universities/ecole-polytechnique-fédérale-de-lausanne-epfl\">details page</a>.    \n",
    "Store the resulting dataset in a pandas DataFrame and answer the following questions:\n",
    "    <li>\n",
    "Which are the best universities in term of: (a) ratio between faculty members and students, (b) ratio of international students?</li>\n",
    "    <li>\n",
    "Answer the previous question aggregating the data by (c) country and (d) region.</li>\n",
    "\n",
    "Plot your data using bar charts and describe briefly what you observed.\n",
    "</div>\n",
    "\n",
    "---\n",
    "\n",
    "We will focus on data scraping from the [TopUniversities 2018 rankings](https://www.topuniversities.com/university-rankings/world-university-rankings/2018), as well as asnwering the assignment questions by performing simple data analysis. The structure of this chapter follows the assignment outline:\n",
    "\n",
    "1. Data scraping\n",
    "2. Ranking: faculty members, students and internationalization\n",
    "3. Ranking: regional and national results\n",
    "\n",
    "\n",
    "### Libraries utilized\n",
    "\n",
    "We will use the BeautifulSoup along with Pandas and standard Python utilities for performing the scraping and data analysis."
   ]
  },
  {
   "cell_type": "code",
   "execution_count": 1,
   "metadata": {
    "ExecuteTime": {
     "end_time": "2017-10-21T21:05:03.271263Z",
     "start_time": "2017-10-21T21:05:02.876608Z"
    }
   },
   "outputs": [],
   "source": [
    "# importing the utils for Web scraping\n",
    "import requests\n",
    "from bs4 import BeautifulSoup\n",
    "\n",
    "# importing python and data utils\n",
    "import pandas as pd\n",
    "import numpy as np\n",
    "import json\n",
    "%matplotlib inline\n",
    "import matplotlib.pyplot as plt\n",
    "import matplotlib as mpl\n",
    "import seaborn as sns\n",
    "\n",
    "mpl.rcParams['figure.figsize'] = (8,6)"
   ]
  },
  {
   "cell_type": "markdown",
   "metadata": {},
   "source": [
    "### Swiss army knife for data scraping\n",
    "\n",
    "[Postman](https://www.getpostman.com/) is utilized outside Python to get more sense about the Web jungle we are trying to harvest our data from. We have used both Interceptor and the application itself to make sense of incoming traffic. \n",
    "\n",
    "We have also relied on traffic observations in Chrome Development Tools (*which can be accessed in Chrome browsers on Windows platform by pressing F12*)."
   ]
  },
  {
   "cell_type": "markdown",
   "metadata": {},
   "source": [
    "### 1.1 Data scraping\n",
    "\n",
    "The first step in our data scraping process was to get acquainted with the website itself. We have turned on the Interceptor for the traffic and the application itself, then loaded the website and observed the requests. \n",
    "\n",
    "#### Making our life easier: Postman filters\n",
    "\n",
    "It is useful to filter out results of requests sent to the Website of interest. In modern websites it is common to have many 3rd party APIs which would make it somewhat more difficult to find the requests of interest. Additionally, trafic from other tabs in browser (if open) will appear, so it is additionally useful to display only what is the focus of our search. Such benefits are visible in the practical example bellow:\n",
    "\n",
    "<table width=\"70%\">\n",
    "  <tr>\n",
    "    <th style=\"text-align:center\">Requests without any filters</th>\n",
    "    <th style=\"text-align:center\">After filtering results from *www.topuniversities.com* only</th> \n",
    "  </tr>\n",
    "  <tr>\n",
    "    <td>![](images/postman0.png)</td>\n",
    "    <td style=\"vertical-align:top\">![](images/postman1.png)</td> \n",
    "  </tr>\n",
    "</table>"
   ]
  },
  {
   "cell_type": "markdown",
   "metadata": {},
   "source": [
    "From the vast list of various requests, we have localized what seems to be important for the given task, and the requests for resources for the TopUniversity rankings. By analyzing the requests, we can see one **GET** request which obtains a textual file:\n",
    "\n",
    "[https://www.topuniversities.com/sites/default/files/qs-rankings-data/357051.txt?_=1508597583828](https://www.topuniversities.com/sites/default/files/qs-rankings-data/357051.txt?_=1508597583828)\n",
    "\n",
    "By analyzing the file, it turns out to be a very useful JSON! All the data needed for scraping at this level is present here, most notably the ranking and the URL towards more information. It correlates to the same information we can directly see from the Chrome Developer Tools:\n",
    "\n",
    "![](images/chrome0.png)\n",
    "\n",
    "#####  Design choice\n",
    "As in the image above can be seen, the HTML data is well organized in the tables, with appropriate classes which designate the content of the cell. One approach would be to use `BeautifulSoup` and parse the HTML of the page. Since we have the data in more concise format (JSON) we decided to process the textual representation. Since only the representation and intermediate steps differ, and results are the same, this is a choice we have made. \n",
    "\n",
    "Nevertheless, further steps will have to rely on parsing the HTML and DOM of the subsequent university links with further details (since no equivalent JSON is obtained), so both approaches are showcased.\n",
    "\n",
    "\n",
    "#### Implementing the scraping procedure\n",
    "\n",
    "We will extract the before found JSON file and use it as a baseline for scraping this Website. We send a GET request and process the file as JSON."
   ]
  },
  {
   "cell_type": "code",
   "execution_count": 2,
   "metadata": {},
   "outputs": [],
   "source": [
    "## TU = TopUniversities\n",
    "TU_path = 'https://www.topuniversities.com'\n",
    "base_json_path = '/sites/default/files/qs-rankings-data/357051.txt?_=1508597583828'\n",
    "\n",
    "req = requests.get(TU_path+base_json_path)\n",
    "\n",
    "TU_json = req.json()"
   ]
  },
  {
   "cell_type": "markdown",
   "metadata": {},
   "source": [
    "We convert the JSON file to Pandas `DataFrame` to enable easier exploration and utilization of the file. We are interested in the **data** section of our JSON file, and we take the first 200 top ranking universities in the list. \n",
    "\n",
    "Notably, some universities share the same ranking (tie). Per assignment at this point we will take 200 best ranking universities for our analysis, and not the universities until the rank 200."
   ]
  },
  {
   "cell_type": "code",
   "execution_count": 3,
   "metadata": {
    "scrolled": true
   },
   "outputs": [],
   "source": [
    "TU_df = pd.DataFrame.from_dict(TU_json['data']).head(200)"
   ]
  },
  {
   "cell_type": "markdown",
   "metadata": {},
   "source": [
    "We can observe that we did not need any additional parsing which would add both to code complexity, potential computational overhead in bigger datasets, as well as algorithmic complexity if the website HTML code is not tidy (which is not the case here). The `DataFrame` carries all the information we need for now, of which the region, country, rank, title and url play the significant role in the task."
   ]
  },
  {
   "cell_type": "code",
   "execution_count": 4,
   "metadata": {},
   "outputs": [
    {
     "data": {
      "text/html": [
       "<div>\n",
       "<style>\n",
       "    .dataframe thead tr:only-child th {\n",
       "        text-align: right;\n",
       "    }\n",
       "\n",
       "    .dataframe thead th {\n",
       "        text-align: left;\n",
       "    }\n",
       "\n",
       "    .dataframe tbody tr th {\n",
       "        vertical-align: top;\n",
       "    }\n",
       "</style>\n",
       "<table border=\"1\" class=\"dataframe\">\n",
       "  <thead>\n",
       "    <tr style=\"text-align: right;\">\n",
       "      <th></th>\n",
       "      <th>cc</th>\n",
       "      <th>core_id</th>\n",
       "      <th>country</th>\n",
       "      <th>guide</th>\n",
       "      <th>logo</th>\n",
       "      <th>nid</th>\n",
       "      <th>rank_display</th>\n",
       "      <th>region</th>\n",
       "      <th>score</th>\n",
       "      <th>stars</th>\n",
       "      <th>title</th>\n",
       "      <th>url</th>\n",
       "    </tr>\n",
       "  </thead>\n",
       "  <tbody>\n",
       "    <tr>\n",
       "      <th>0</th>\n",
       "      <td>US</td>\n",
       "      <td>410</td>\n",
       "      <td>United States</td>\n",
       "      <td>&lt;a href=\"/where-to-study/north-america/united-...</td>\n",
       "      <td>&lt;img src=\"https://www.topuniversities.com/site...</td>\n",
       "      <td>294850</td>\n",
       "      <td>1</td>\n",
       "      <td>North America</td>\n",
       "      <td>100</td>\n",
       "      <td>6</td>\n",
       "      <td>Massachusetts Institute of Technology (MIT)</td>\n",
       "      <td>/universities/massachusetts-institute-technolo...</td>\n",
       "    </tr>\n",
       "    <tr>\n",
       "      <th>1</th>\n",
       "      <td>US</td>\n",
       "      <td>573</td>\n",
       "      <td>United States</td>\n",
       "      <td>&lt;a href=\"/where-to-study/north-america/united-...</td>\n",
       "      <td>&lt;img src=\"https://www.topuniversities.com/site...</td>\n",
       "      <td>297282</td>\n",
       "      <td>2</td>\n",
       "      <td>North America</td>\n",
       "      <td>98.7</td>\n",
       "      <td>5</td>\n",
       "      <td>Stanford University</td>\n",
       "      <td>/universities/stanford-university</td>\n",
       "    </tr>\n",
       "  </tbody>\n",
       "</table>\n",
       "</div>"
      ],
      "text/plain": [
       "   cc core_id        country  \\\n",
       "0  US     410  United States   \n",
       "1  US     573  United States   \n",
       "\n",
       "                                               guide  \\\n",
       "0  <a href=\"/where-to-study/north-america/united-...   \n",
       "1  <a href=\"/where-to-study/north-america/united-...   \n",
       "\n",
       "                                                logo     nid rank_display  \\\n",
       "0  <img src=\"https://www.topuniversities.com/site...  294850            1   \n",
       "1  <img src=\"https://www.topuniversities.com/site...  297282            2   \n",
       "\n",
       "          region score stars                                        title  \\\n",
       "0  North America   100     6  Massachusetts Institute of Technology (MIT)   \n",
       "1  North America  98.7     5                          Stanford University   \n",
       "\n",
       "                                                 url  \n",
       "0  /universities/massachusetts-institute-technolo...  \n",
       "1                  /universities/stanford-university  "
      ]
     },
     "execution_count": 4,
     "metadata": {},
     "output_type": "execute_result"
    }
   ],
   "source": [
    "TU_df.head(2)"
   ]
  },
  {
   "cell_type": "markdown",
   "metadata": {},
   "source": [
    "#### 1.1.1 Extracting the information for each University\n",
    "\n",
    "Some information such as University name or rank is available immediately, while for detailed information we need to follow the subsequent link provided in the **url** field. Unfortunately, as previously mentioned, we don't have information packed in JSON format this time. We use HTML parsing provided by `BeautifulSoup` to obtain all the missing data. We are in luck since the HTML is well organized, with appropriate classes assigned to `div`s containing needed pieces of information.\n",
    "\n",
    "We iterate through the previously obtained `DataFrame` and scrape and collect the necessary data, and append it to the existing `DataFrame`.\n",
    "\n",
    "#### Note on undefined values\n",
    "\n",
    "At least one of the universities has missing data and we need to handle such cases. If the number of such cases is small enough, we could impute the values manually, by consulting the appropriate sources, thus keeping the consistency of the rankings. If we don't have all the data for our specific analysis, we would have to discard such Universities or come up with a methodology for mining up missing data on larger scale.\n",
    "\n",
    "We choose to be consistent and we will print out the universities which have some missing values and will try to fill in the missing values. In such manner we differentiate **raw values** such as the number of students and **derived values** such as different scores provided. \n",
    "\n",
    "   #####      Raw values\n",
    "We will try to impute raw values from various sources since we will use such data in further data analysis. Such data might be available directly from the websites of Universities.\n",
    "\n",
    "   #####      Derived values\n",
    "We will not attempt to impute derived values, such as different scores calculated by the selected ranking Website. Methodologies are often incomplete and all the collected raw values unavailable. Any methodology for imputing such values would be most probably very erroneous. Since such data is not extensively used for analysis, it is acceptable to leave some of such values undefined."
   ]
  },
  {
   "cell_type": "code",
   "execution_count": 5,
   "metadata": {},
   "outputs": [],
   "source": [
    "# A helper function to get an number (integer) from the div text\n",
    "def div2num(div):\n",
    "    return int(div.find('div', class_='number').text.split()[0].replace(',',''))\n",
    "\n",
    "# A helper function to get the percentage from the span text\n",
    "def perc2num(div):\n",
    "    return int(div.find('span', class_='perc').text.replace('%',''))"
   ]
  },
  {
   "cell_type": "markdown",
   "metadata": {},
   "source": [
    "#### Additional information from the links\n",
    "\n",
    "Landing page has provided a general overview of the most important pieces of information, such as names and ranks of universities. We further scrape the data provided in the links for each university. The base `DataFrame` already exists, now we enrich it with more detailed data, and we iterate and fill the available information."
   ]
  },
  {
   "cell_type": "code",
   "execution_count": 6,
   "metadata": {
    "scrolled": true
   },
   "outputs": [
    {
     "name": "stdout",
     "output_type": "stream",
     "text": [
      "Undefined Total postgrad percentage for: Massachusetts Institute of Technology (MIT)\n",
      "Undefined total faculty members for: New York University (NYU)\n",
      "Undefined total students for: New York University (NYU)\n",
      "Undefined Total postgrad percentage for: New York University (NYU)\n",
      "Undefined Total undergrad percentage for: New York University (NYU)\n",
      "Undefined international faculty members for: New York University (NYU)\n",
      "Undefined international students for: New York University (NYU)\n",
      "Undefined International postgrad percentage for: New York University (NYU)\n",
      "Undefined International undergrad percentage for: New York University (NYU)\n",
      "No scores available at all for: New York University (NYU)\n",
      "Undefined International undergrad percentage for: Pohang University of Science And Technology (POSTECH)\n",
      "Undefined International undergrad percentage for: Indian Institute of Technology Delhi (IITD)\n",
      "Undefined international faculty members for: Indian Institute of Science (IISc) Bangalore\n",
      "Undefined International undergrad percentage for: Scuola Superiore Sant'Anna Pisa di Studi Universitari e di Perfezionamento\n"
     ]
    }
   ],
   "source": [
    "# iterating through the existing base dataframe\n",
    "for ind, row in TU_df.iterrows():\n",
    "    # getting the detailed page of the given university\n",
    "    # relative link to the page is given in the url field of the dataframe\n",
    "    uni_details = requests.get(TU_path+row['url'])\n",
    "    \n",
    "    # get the HTML of the detailed university page and add it to the soup\n",
    "    soup = BeautifulSoup(uni_details.text, 'html.parser')\n",
    "    \n",
    "    # get the name of the university from the DF\n",
    "    uni_name = row['title']\n",
    "    \n",
    "    # get the number of faculty members from the detailed page and append to DF\n",
    "    faculty_num = soup.find('div', class_='total faculty')\n",
    "    try:\n",
    "        # we parse the div text and append it to the DataFrame\n",
    "        TU_df.loc[ind, 'Total faculty members'] = div2num(faculty_num)\n",
    "    except:\n",
    "        # print out the message in order to try to impute the data\n",
    "        print('Undefined total faculty members for: '+uni_name)\n",
    "    \n",
    "    # similar procedure for other required data points\n",
    "    # Total number of students\n",
    "    students_num = soup.find('div', class_='total student')\n",
    "    try:\n",
    "        TU_df.loc[ind, 'Total students'] = div2num(students_num)\n",
    "    except:\n",
    "        print('Undefined total students for: '+uni_name)\n",
    "    \n",
    "    # Percentage of postgraduate students\n",
    "    try:\n",
    "        total_postgrad_percentage = students_num.find('div', class_='post')\n",
    "        TU_df.loc[ind, 'Total postgrad percentage'] = perc2num(total_undergrad_percentage)\n",
    "    except:\n",
    "        print('Undefined Total postgrad percentage for: '+uni_name)\n",
    "    \n",
    "    # Percentage of undergraduate students\n",
    "    try:\n",
    "        total_undergrad_percentage = students_num.find('div', class_='grad')\n",
    "        TU_df.loc[ind, 'Total undergrad percentage'] = perc2num(total_undergrad_percentage)\n",
    "    except:\n",
    "        print('Undefined Total undergrad percentage for: '+uni_name)\n",
    "    \n",
    "    # Number of international faculty members\n",
    "    intl_faculty_num = soup.find('div', class_='inter faculty')\n",
    "    try:\n",
    "        TU_df.loc[ind, 'International faculty members'] = div2num(intl_faculty_num)\n",
    "    except:\n",
    "        print('Undefined international faculty members for: '+uni_name)\n",
    "    \n",
    "    # Total number of international students\n",
    "    intl_students_num = soup.find('div', class_='total inter')\n",
    "    try:\n",
    "        TU_df.loc[ind, 'International students'] = div2num(intl_students_num)\n",
    "    except:\n",
    "        print('Undefined international students for: '+uni_name)\n",
    "    \n",
    "    # International postgraduate students percentage\n",
    "    try:\n",
    "        intl_postgrad_percentage = intl_students_num.find('div', class_='post')\n",
    "        TU_df.loc[ind, 'International postgrad percentage'] = perc2num(intl_postgrad_percentage)\n",
    "    except:\n",
    "        print('Undefined International postgrad percentage for: '+uni_name)\n",
    "    \n",
    "    # International undergraduate students percentage\n",
    "    try:\n",
    "        intl_undergrad_percentage = intl_students_num.find('div', class_='grad')\n",
    "        TU_df.loc[ind, 'International undergrad percentage'] = perc2num(intl_undergrad_percentage)\n",
    "    except:\n",
    "        print('Undefined International undergrad percentage for: '+uni_name)\n",
    "        \n",
    "    # Find all the scores, iterate through them\n",
    "    try:\n",
    "        scores_list = soup.find('ul', class_='score').find_all('li')\n",
    "        for score in scores_list:\n",
    "            try:\n",
    "                criteria = score.find('div', class_='criteria').text.strip()\n",
    "                value = float(score.find('div', class_='text').text)\n",
    "                TU_df.loc[ind, criteria] = value\n",
    "            except:\n",
    "                print('Undefined '+criteria+' for: '+uni_name)\n",
    "    except:\n",
    "        print('No scores available at all for: '+uni_name)\n"
   ]
  },
  {
   "cell_type": "markdown",
   "metadata": {},
   "source": [
    "##### Scores\n",
    "\n",
    "Scores are variables in range from 0.0 to 100.0, floating point value. They are derived from the parameters collected, surveys conducted and described in more detail in the provided [methodology](https://www.topuniversities.com/qs-world-university-rankings/methodology). As prior described they would not be imputed if missing since the error induced in this case, as well as the value of such variable would be low."
   ]
  },
  {
   "cell_type": "markdown",
   "metadata": {},
   "source": [
    "#### Imputing undefined values\n",
    "\n",
    "We can see that the New York University (NYU) has information that is completely missing, while Indian Institute of Science (IISc) Bangalore has one missing raw value. Considering the scope of missing values, they will be manually set using the following sources:\n",
    "\n",
    "- NYU: https://www.nyu.edu/about/news-publications/nyu-at-a-glance.html, https://www.nyu.edu/admissions/undergraduate-admissions/nyu-facts.html\n",
    "- IISc: http://www.iisc.ac.in/iisc-in-numbers/#ffs-tabbed-12\n",
    "\n",
    "This is potentially troubling, since there is no information about the actual data collection for the ranking, methodology or actual date which is available for a confident selection of the figures missing. Frequently, the websites also omit the precise dates. Comparing the potential noise which would be added to the fact that we would discard 2 top 200 universities, the decision is to take the data and impute it, while being aware that it might induce some error in methodology. It is a tradeoff between statistical error in imputed data and the error which would occur in the further aggregate analysis.\n",
    "\n",
    "Therefore the NYU data is following:\n",
    "- total faculty members: 7861 (Fall 2015)\n",
    "- total students: 58419 (Fall 2015)\n",
    "- international faculty members: 619 (September 2017)\n",
    "- international students: 26% == 15189 (Fall 2015)\n",
    "\n",
    "Unfortunately, the data of international faculty members is not available in public records online for IISc, therefore it will be designated as 0. The unavailability might rise from the fact that the figure is [rather low](https://scroll.in/article/811696/there-are-no-indian-universities-in-the-worlds-top-250-list-heres-how-javadekar-can-change-that), so it would not be positive for faculty to publicize such information. \n",
    "\n",
    "Here we try to follow the rule not to completely penalize omission of data if possible, as described in [THE methodology](https://www.timeshighereducation.com/world-university-rankings/methodology-world-university-rankings-2016-2017):\n",
    "> *On the rare occasions when a particular data point is not provided we enter a low estimate between the average value of the indicators and the lowest value reported: the 25th percentile of the other indicators. By doing this, we avoid penalising an institution too harshly with a “zero” value for data that it overlooks or does not provide, but we do not reward it for withholding them.*\n",
    "\n",
    "\n",
    "\n",
    "**If time permitted a good practice would be to contact the institution directly for the actual quote in both cases.**"
   ]
  },
  {
   "cell_type": "code",
   "execution_count": 7,
   "metadata": {},
   "outputs": [],
   "source": [
    "TU_df.loc[TU_df.title=='New York University (NYU)','Total faculty members'] = 7861\n",
    "TU_df.loc[TU_df.title=='New York University (NYU)','Total students'] = 58419\n",
    "TU_df.loc[TU_df.title=='New York University (NYU)','International faculty members'] = 619\n",
    "TU_df.loc[TU_df.title=='New York University (NYU)','International students'] = 15189\n",
    "\n",
    "\n",
    "TU_df = TU_df.fillna(0)"
   ]
  },
  {
   "cell_type": "markdown",
   "metadata": {},
   "source": [
    "#### Pruning the data in DataFrame\n",
    "\n",
    "We have several pieces of information that are redundant at this point, so we will remove such columns from the DataFrame for a better overview. We can see bellow that *cc*, *rank_display*, *stars*, *core_id*, *guide*, *logo*, *nid* and *url* are present, but redundant in the following analysis."
   ]
  },
  {
   "cell_type": "code",
   "execution_count": 8,
   "metadata": {},
   "outputs": [
    {
     "data": {
      "text/html": [
       "<div>\n",
       "<style>\n",
       "    .dataframe thead tr:only-child th {\n",
       "        text-align: right;\n",
       "    }\n",
       "\n",
       "    .dataframe thead th {\n",
       "        text-align: left;\n",
       "    }\n",
       "\n",
       "    .dataframe tbody tr th {\n",
       "        vertical-align: top;\n",
       "    }\n",
       "</style>\n",
       "<table border=\"1\" class=\"dataframe\">\n",
       "  <thead>\n",
       "    <tr style=\"text-align: right;\">\n",
       "      <th></th>\n",
       "      <th>cc</th>\n",
       "      <th>core_id</th>\n",
       "      <th>country</th>\n",
       "      <th>guide</th>\n",
       "      <th>logo</th>\n",
       "      <th>nid</th>\n",
       "      <th>rank_display</th>\n",
       "      <th>region</th>\n",
       "      <th>score</th>\n",
       "      <th>stars</th>\n",
       "      <th>...</th>\n",
       "      <th>International postgrad percentage</th>\n",
       "      <th>International undergrad percentage</th>\n",
       "      <th>Overall Score</th>\n",
       "      <th>Academic Reputation</th>\n",
       "      <th>Citations per Faculty</th>\n",
       "      <th>Employer Reputation</th>\n",
       "      <th>Faculty Student</th>\n",
       "      <th>International Faculty</th>\n",
       "      <th>International Students</th>\n",
       "      <th>Total postgrad percentage</th>\n",
       "    </tr>\n",
       "  </thead>\n",
       "  <tbody>\n",
       "    <tr>\n",
       "      <th>0</th>\n",
       "      <td>US</td>\n",
       "      <td>410</td>\n",
       "      <td>United States</td>\n",
       "      <td>&lt;a href=\"/where-to-study/north-america/united-...</td>\n",
       "      <td>&lt;img src=\"https://www.topuniversities.com/site...</td>\n",
       "      <td>294850</td>\n",
       "      <td>1</td>\n",
       "      <td>North America</td>\n",
       "      <td>100</td>\n",
       "      <td>6</td>\n",
       "      <td>...</td>\n",
       "      <td>83.0</td>\n",
       "      <td>17.0</td>\n",
       "      <td>100.0</td>\n",
       "      <td>100.0</td>\n",
       "      <td>99.9</td>\n",
       "      <td>100.0</td>\n",
       "      <td>100.0</td>\n",
       "      <td>100.0</td>\n",
       "      <td>96.1</td>\n",
       "      <td>0.0</td>\n",
       "    </tr>\n",
       "  </tbody>\n",
       "</table>\n",
       "<p>1 rows × 27 columns</p>\n",
       "</div>"
      ],
      "text/plain": [
       "   cc core_id        country  \\\n",
       "0  US     410  United States   \n",
       "\n",
       "                                               guide  \\\n",
       "0  <a href=\"/where-to-study/north-america/united-...   \n",
       "\n",
       "                                                logo     nid rank_display  \\\n",
       "0  <img src=\"https://www.topuniversities.com/site...  294850            1   \n",
       "\n",
       "          region score stars            ...              \\\n",
       "0  North America   100     6            ...               \n",
       "\n",
       "  International postgrad percentage International undergrad percentage  \\\n",
       "0                              83.0                               17.0   \n",
       "\n",
       "   Overall Score  Academic Reputation  Citations per Faculty  \\\n",
       "0          100.0                100.0                   99.9   \n",
       "\n",
       "   Employer Reputation  Faculty Student  International Faculty  \\\n",
       "0                100.0            100.0                  100.0   \n",
       "\n",
       "   International Students  Total postgrad percentage  \n",
       "0                    96.1                        0.0  \n",
       "\n",
       "[1 rows x 27 columns]"
      ]
     },
     "execution_count": 8,
     "metadata": {},
     "output_type": "execute_result"
    }
   ],
   "source": [
    "TU_df.head(1)"
   ]
  },
  {
   "cell_type": "code",
   "execution_count": 9,
   "metadata": {
    "scrolled": true
   },
   "outputs": [
    {
     "data": {
      "text/html": [
       "<div>\n",
       "<style>\n",
       "    .dataframe thead tr:only-child th {\n",
       "        text-align: right;\n",
       "    }\n",
       "\n",
       "    .dataframe thead th {\n",
       "        text-align: left;\n",
       "    }\n",
       "\n",
       "    .dataframe tbody tr th {\n",
       "        vertical-align: top;\n",
       "    }\n",
       "</style>\n",
       "<table border=\"1\" class=\"dataframe\">\n",
       "  <thead>\n",
       "    <tr style=\"text-align: right;\">\n",
       "      <th></th>\n",
       "      <th>country</th>\n",
       "      <th>rank_display</th>\n",
       "      <th>region</th>\n",
       "      <th>score</th>\n",
       "      <th>title</th>\n",
       "      <th>Total faculty members</th>\n",
       "      <th>Total students</th>\n",
       "      <th>Total undergrad percentage</th>\n",
       "      <th>International faculty members</th>\n",
       "      <th>International students</th>\n",
       "      <th>International postgrad percentage</th>\n",
       "      <th>International undergrad percentage</th>\n",
       "      <th>Overall Score</th>\n",
       "      <th>Academic Reputation</th>\n",
       "      <th>Citations per Faculty</th>\n",
       "      <th>Employer Reputation</th>\n",
       "      <th>Faculty Student</th>\n",
       "      <th>International Faculty</th>\n",
       "      <th>International Students</th>\n",
       "      <th>Total postgrad percentage</th>\n",
       "    </tr>\n",
       "  </thead>\n",
       "  <tbody>\n",
       "    <tr>\n",
       "      <th>0</th>\n",
       "      <td>United States</td>\n",
       "      <td>1</td>\n",
       "      <td>North America</td>\n",
       "      <td>100</td>\n",
       "      <td>Massachusetts Institute of Technology (MIT)</td>\n",
       "      <td>2982.0</td>\n",
       "      <td>11067.0</td>\n",
       "      <td>40.0</td>\n",
       "      <td>1679.0</td>\n",
       "      <td>3717.0</td>\n",
       "      <td>83.0</td>\n",
       "      <td>17.0</td>\n",
       "      <td>100.0</td>\n",
       "      <td>100.0</td>\n",
       "      <td>99.9</td>\n",
       "      <td>100.0</td>\n",
       "      <td>100.0</td>\n",
       "      <td>100.0</td>\n",
       "      <td>96.1</td>\n",
       "      <td>0.0</td>\n",
       "    </tr>\n",
       "  </tbody>\n",
       "</table>\n",
       "</div>"
      ],
      "text/plain": [
       "         country rank_display         region score  \\\n",
       "0  United States            1  North America   100   \n",
       "\n",
       "                                         title  Total faculty members  \\\n",
       "0  Massachusetts Institute of Technology (MIT)                 2982.0   \n",
       "\n",
       "   Total students  Total undergrad percentage  International faculty members  \\\n",
       "0         11067.0                        40.0                         1679.0   \n",
       "\n",
       "   International students  International postgrad percentage  \\\n",
       "0                  3717.0                               83.0   \n",
       "\n",
       "   International undergrad percentage  Overall Score  Academic Reputation  \\\n",
       "0                                17.0          100.0                100.0   \n",
       "\n",
       "   Citations per Faculty  Employer Reputation  Faculty Student  \\\n",
       "0                   99.9                100.0            100.0   \n",
       "\n",
       "   International Faculty  International Students  Total postgrad percentage  \n",
       "0                  100.0                    96.1                        0.0  "
      ]
     },
     "execution_count": 9,
     "metadata": {},
     "output_type": "execute_result"
    }
   ],
   "source": [
    "TU_df.drop(['cc', 'stars', 'core_id', 'guide', 'logo', 'nid', 'url'], axis=1, inplace=True)\n",
    "TU_df.head(1)"
   ]
  },
  {
   "cell_type": "markdown",
   "metadata": {},
   "source": [
    "#### We have our DataFrame ready for further analysis!\n",
    "---"
   ]
  },
  {
   "cell_type": "markdown",
   "metadata": {},
   "source": [
    "### 1.2 Ranking: faculty members, students and internationalization\n",
    "\n",
    "<div class=\"alert alert-block alert-info\">\n",
    "In this section we answer the question: <br><b>Which are the best universities in term of: (a) ratio between faculty members and students, (b) ratio of international students?</b>\n",
    "</div>\n",
    "\n",
    "For easier analysis for (a) and (b) we will add the ratios to the existing DataFrame. We calculate the ratio of *faculty members and students* and *ratio of international to total number of students*."
   ]
  },
  {
   "cell_type": "code",
   "execution_count": 10,
   "metadata": {},
   "outputs": [],
   "source": [
    "# ratio between faculty members and students\n",
    "TU_df['Ratio faculty/students'] = TU_df['Total faculty members']/TU_df['Total students']\n",
    "\n",
    "# ratio of international students\n",
    "TU_df['Ratio intl/total students'] = TU_df['International students']/TU_df['Total students']"
   ]
  },
  {
   "cell_type": "code",
   "execution_count": 11,
   "metadata": {},
   "outputs": [
    {
     "data": {
      "text/html": [
       "<div>\n",
       "<style>\n",
       "    .dataframe thead tr:only-child th {\n",
       "        text-align: right;\n",
       "    }\n",
       "\n",
       "    .dataframe thead th {\n",
       "        text-align: left;\n",
       "    }\n",
       "\n",
       "    .dataframe tbody tr th {\n",
       "        vertical-align: top;\n",
       "    }\n",
       "</style>\n",
       "<table border=\"1\" class=\"dataframe\">\n",
       "  <thead>\n",
       "    <tr style=\"text-align: right;\">\n",
       "      <th></th>\n",
       "      <th>country</th>\n",
       "      <th>rank_display</th>\n",
       "      <th>region</th>\n",
       "      <th>score</th>\n",
       "      <th>title</th>\n",
       "      <th>Total faculty members</th>\n",
       "      <th>Total students</th>\n",
       "      <th>Total undergrad percentage</th>\n",
       "      <th>International faculty members</th>\n",
       "      <th>International students</th>\n",
       "      <th>...</th>\n",
       "      <th>Overall Score</th>\n",
       "      <th>Academic Reputation</th>\n",
       "      <th>Citations per Faculty</th>\n",
       "      <th>Employer Reputation</th>\n",
       "      <th>Faculty Student</th>\n",
       "      <th>International Faculty</th>\n",
       "      <th>International Students</th>\n",
       "      <th>Total postgrad percentage</th>\n",
       "      <th>Ratio faculty/students</th>\n",
       "      <th>Ratio intl/total students</th>\n",
       "    </tr>\n",
       "  </thead>\n",
       "  <tbody>\n",
       "    <tr>\n",
       "      <th>0</th>\n",
       "      <td>United States</td>\n",
       "      <td>1</td>\n",
       "      <td>North America</td>\n",
       "      <td>100</td>\n",
       "      <td>Massachusetts Institute of Technology (MIT)</td>\n",
       "      <td>2982.0</td>\n",
       "      <td>11067.0</td>\n",
       "      <td>40.0</td>\n",
       "      <td>1679.0</td>\n",
       "      <td>3717.0</td>\n",
       "      <td>...</td>\n",
       "      <td>100.0</td>\n",
       "      <td>100.0</td>\n",
       "      <td>99.9</td>\n",
       "      <td>100.0</td>\n",
       "      <td>100.0</td>\n",
       "      <td>100.0</td>\n",
       "      <td>96.1</td>\n",
       "      <td>0.0</td>\n",
       "      <td>0.26945</td>\n",
       "      <td>0.335863</td>\n",
       "    </tr>\n",
       "  </tbody>\n",
       "</table>\n",
       "<p>1 rows × 22 columns</p>\n",
       "</div>"
      ],
      "text/plain": [
       "         country rank_display         region score  \\\n",
       "0  United States            1  North America   100   \n",
       "\n",
       "                                         title  Total faculty members  \\\n",
       "0  Massachusetts Institute of Technology (MIT)                 2982.0   \n",
       "\n",
       "   Total students  Total undergrad percentage  International faculty members  \\\n",
       "0         11067.0                        40.0                         1679.0   \n",
       "\n",
       "   International students            ...              Overall Score  \\\n",
       "0                  3717.0            ...                      100.0   \n",
       "\n",
       "   Academic Reputation  Citations per Faculty  Employer Reputation  \\\n",
       "0                100.0                   99.9                100.0   \n",
       "\n",
       "   Faculty Student  International Faculty  International Students  \\\n",
       "0            100.0                  100.0                    96.1   \n",
       "\n",
       "   Total postgrad percentage  Ratio faculty/students  \\\n",
       "0                        0.0                 0.26945   \n",
       "\n",
       "   Ratio intl/total students  \n",
       "0                   0.335863  \n",
       "\n",
       "[1 rows x 22 columns]"
      ]
     },
     "execution_count": 11,
     "metadata": {},
     "output_type": "execute_result"
    }
   ],
   "source": [
    "TU_df.head(1)"
   ]
  },
  {
   "cell_type": "markdown",
   "metadata": {},
   "source": [
    "We have prepared the data for our analysis! The results are obtained by sorting the `DataFrame` by appropriate criterion.\n",
    "\n",
    "### Best university: (a) ratio between faculty members and students\n",
    "\n",
    "We take the `DataFrame` and sort it in an descending manner by *Ratio of faculty members to students* to obtain the best ratios first, meaning more faculty members per student."
   ]
  },
  {
   "cell_type": "code",
   "execution_count": 12,
   "metadata": {},
   "outputs": [],
   "source": [
    "TU_fac_stud_df = TU_df.sort_values('Ratio faculty/students', ascending=False)"
   ]
  },
  {
   "cell_type": "markdown",
   "metadata": {},
   "source": [
    "#### Top 5 by ratio of faculty members and students:"
   ]
  },
  {
   "cell_type": "code",
   "execution_count": 13,
   "metadata": {
    "scrolled": true
   },
   "outputs": [
    {
     "data": {
      "text/html": [
       "<div>\n",
       "<style>\n",
       "    .dataframe thead tr:only-child th {\n",
       "        text-align: right;\n",
       "    }\n",
       "\n",
       "    .dataframe thead th {\n",
       "        text-align: left;\n",
       "    }\n",
       "\n",
       "    .dataframe tbody tr th {\n",
       "        vertical-align: top;\n",
       "    }\n",
       "</style>\n",
       "<table border=\"1\" class=\"dataframe\">\n",
       "  <thead>\n",
       "    <tr style=\"text-align: right;\">\n",
       "      <th></th>\n",
       "      <th>country</th>\n",
       "      <th>rank_display</th>\n",
       "      <th>region</th>\n",
       "      <th>score</th>\n",
       "      <th>title</th>\n",
       "      <th>Total faculty members</th>\n",
       "      <th>Total students</th>\n",
       "      <th>Total undergrad percentage</th>\n",
       "      <th>International faculty members</th>\n",
       "      <th>International students</th>\n",
       "      <th>...</th>\n",
       "      <th>Overall Score</th>\n",
       "      <th>Academic Reputation</th>\n",
       "      <th>Citations per Faculty</th>\n",
       "      <th>Employer Reputation</th>\n",
       "      <th>Faculty Student</th>\n",
       "      <th>International Faculty</th>\n",
       "      <th>International Students</th>\n",
       "      <th>Total postgrad percentage</th>\n",
       "      <th>Ratio faculty/students</th>\n",
       "      <th>Ratio intl/total students</th>\n",
       "    </tr>\n",
       "  </thead>\n",
       "  <tbody>\n",
       "    <tr>\n",
       "      <th>3</th>\n",
       "      <td>United States</td>\n",
       "      <td>4</td>\n",
       "      <td>North America</td>\n",
       "      <td>97.7</td>\n",
       "      <td>California Institute of Technology (Caltech)</td>\n",
       "      <td>953.0</td>\n",
       "      <td>2255.0</td>\n",
       "      <td>44.0</td>\n",
       "      <td>350.0</td>\n",
       "      <td>647.0</td>\n",
       "      <td>...</td>\n",
       "      <td>97.7</td>\n",
       "      <td>99.5</td>\n",
       "      <td>100.0</td>\n",
       "      <td>85.4</td>\n",
       "      <td>100.0</td>\n",
       "      <td>93.4</td>\n",
       "      <td>89.2</td>\n",
       "      <td>31.0</td>\n",
       "      <td>0.422616</td>\n",
       "      <td>0.286918</td>\n",
       "    </tr>\n",
       "    <tr>\n",
       "      <th>15</th>\n",
       "      <td>United States</td>\n",
       "      <td>16</td>\n",
       "      <td>North America</td>\n",
       "      <td>90.4</td>\n",
       "      <td>Yale University</td>\n",
       "      <td>4940.0</td>\n",
       "      <td>12402.0</td>\n",
       "      <td>44.0</td>\n",
       "      <td>1708.0</td>\n",
       "      <td>2469.0</td>\n",
       "      <td>...</td>\n",
       "      <td>90.4</td>\n",
       "      <td>100.0</td>\n",
       "      <td>63.2</td>\n",
       "      <td>99.8</td>\n",
       "      <td>100.0</td>\n",
       "      <td>90.7</td>\n",
       "      <td>61.7</td>\n",
       "      <td>82.0</td>\n",
       "      <td>0.398323</td>\n",
       "      <td>0.199081</td>\n",
       "    </tr>\n",
       "    <tr>\n",
       "      <th>5</th>\n",
       "      <td>United Kingdom</td>\n",
       "      <td>6</td>\n",
       "      <td>Europe</td>\n",
       "      <td>95.3</td>\n",
       "      <td>University of Oxford</td>\n",
       "      <td>6750.0</td>\n",
       "      <td>19720.0</td>\n",
       "      <td>56.0</td>\n",
       "      <td>2964.0</td>\n",
       "      <td>7353.0</td>\n",
       "      <td>...</td>\n",
       "      <td>95.3</td>\n",
       "      <td>100.0</td>\n",
       "      <td>76.3</td>\n",
       "      <td>100.0</td>\n",
       "      <td>100.0</td>\n",
       "      <td>98.6</td>\n",
       "      <td>98.5</td>\n",
       "      <td>63.0</td>\n",
       "      <td>0.342292</td>\n",
       "      <td>0.372870</td>\n",
       "    </tr>\n",
       "    <tr>\n",
       "      <th>4</th>\n",
       "      <td>United Kingdom</td>\n",
       "      <td>5</td>\n",
       "      <td>Europe</td>\n",
       "      <td>95.6</td>\n",
       "      <td>University of Cambridge</td>\n",
       "      <td>5490.0</td>\n",
       "      <td>18770.0</td>\n",
       "      <td>63.0</td>\n",
       "      <td>2278.0</td>\n",
       "      <td>6699.0</td>\n",
       "      <td>...</td>\n",
       "      <td>95.6</td>\n",
       "      <td>100.0</td>\n",
       "      <td>78.3</td>\n",
       "      <td>100.0</td>\n",
       "      <td>100.0</td>\n",
       "      <td>97.4</td>\n",
       "      <td>97.7</td>\n",
       "      <td>44.0</td>\n",
       "      <td>0.292488</td>\n",
       "      <td>0.356899</td>\n",
       "    </tr>\n",
       "    <tr>\n",
       "      <th>16</th>\n",
       "      <td>United States</td>\n",
       "      <td>17</td>\n",
       "      <td>North America</td>\n",
       "      <td>89.8</td>\n",
       "      <td>Johns Hopkins University</td>\n",
       "      <td>4462.0</td>\n",
       "      <td>16146.0</td>\n",
       "      <td>37.0</td>\n",
       "      <td>1061.0</td>\n",
       "      <td>4105.0</td>\n",
       "      <td>...</td>\n",
       "      <td>89.8</td>\n",
       "      <td>94.3</td>\n",
       "      <td>83.9</td>\n",
       "      <td>66.4</td>\n",
       "      <td>100.0</td>\n",
       "      <td>87.9</td>\n",
       "      <td>81.3</td>\n",
       "      <td>44.0</td>\n",
       "      <td>0.276353</td>\n",
       "      <td>0.254243</td>\n",
       "    </tr>\n",
       "  </tbody>\n",
       "</table>\n",
       "<p>5 rows × 22 columns</p>\n",
       "</div>"
      ],
      "text/plain": [
       "           country rank_display         region score  \\\n",
       "3    United States            4  North America  97.7   \n",
       "15   United States           16  North America  90.4   \n",
       "5   United Kingdom            6         Europe  95.3   \n",
       "4   United Kingdom            5         Europe  95.6   \n",
       "16   United States           17  North America  89.8   \n",
       "\n",
       "                                           title  Total faculty members  \\\n",
       "3   California Institute of Technology (Caltech)                  953.0   \n",
       "15                               Yale University                 4940.0   \n",
       "5                           University of Oxford                 6750.0   \n",
       "4                        University of Cambridge                 5490.0   \n",
       "16                      Johns Hopkins University                 4462.0   \n",
       "\n",
       "    Total students  Total undergrad percentage  International faculty members  \\\n",
       "3           2255.0                        44.0                          350.0   \n",
       "15         12402.0                        44.0                         1708.0   \n",
       "5          19720.0                        56.0                         2964.0   \n",
       "4          18770.0                        63.0                         2278.0   \n",
       "16         16146.0                        37.0                         1061.0   \n",
       "\n",
       "    International students            ...              Overall Score  \\\n",
       "3                    647.0            ...                       97.7   \n",
       "15                  2469.0            ...                       90.4   \n",
       "5                   7353.0            ...                       95.3   \n",
       "4                   6699.0            ...                       95.6   \n",
       "16                  4105.0            ...                       89.8   \n",
       "\n",
       "    Academic Reputation  Citations per Faculty  Employer Reputation  \\\n",
       "3                  99.5                  100.0                 85.4   \n",
       "15                100.0                   63.2                 99.8   \n",
       "5                 100.0                   76.3                100.0   \n",
       "4                 100.0                   78.3                100.0   \n",
       "16                 94.3                   83.9                 66.4   \n",
       "\n",
       "    Faculty Student  International Faculty  International Students  \\\n",
       "3             100.0                   93.4                    89.2   \n",
       "15            100.0                   90.7                    61.7   \n",
       "5             100.0                   98.6                    98.5   \n",
       "4             100.0                   97.4                    97.7   \n",
       "16            100.0                   87.9                    81.3   \n",
       "\n",
       "    Total postgrad percentage  Ratio faculty/students  \\\n",
       "3                        31.0                0.422616   \n",
       "15                       82.0                0.398323   \n",
       "5                        63.0                0.342292   \n",
       "4                        44.0                0.292488   \n",
       "16                       44.0                0.276353   \n",
       "\n",
       "    Ratio intl/total students  \n",
       "3                    0.286918  \n",
       "15                   0.199081  \n",
       "5                    0.372870  \n",
       "4                    0.356899  \n",
       "16                   0.254243  \n",
       "\n",
       "[5 rows x 22 columns]"
      ]
     },
     "execution_count": 13,
     "metadata": {},
     "output_type": "execute_result"
    }
   ],
   "source": [
    "TU_fac_stud_df.head(5)"
   ]
  },
  {
   "cell_type": "code",
   "execution_count": 14,
   "metadata": {},
   "outputs": [
    {
     "data": {
      "image/png": "[encoded data removed]",
      "text/plain": [
       "<matplotlib.figure.Figure at 0x165c3352a90>"
      ]
     },
     "metadata": {},
     "output_type": "display_data"
    }
   ],
   "source": [
    "ax = plt.axes()\n",
    "\n",
    "sns.barplot(data=TU_fac_stud_df.head(5), x='Ratio faculty/students', y='title', ax=ax)\n",
    "\n",
    "ax.set_title('Top 5 Faculties by ratio of faculty staff to total number of students')\n",
    "plt.show()"
   ]
  },
  {
   "cell_type": "code",
   "execution_count": 15,
   "metadata": {},
   "outputs": [
    {
     "ename": "ValueError",
     "evalue": "Buffer has wrong number of dimensions (expected 1, got 2)",
     "output_type": "error",
     "traceback": [
      "\u001b[1;31m---------------------------------------------------------------------------\u001b[0m",
      "\u001b[1;31mValueError\u001b[0m                                Traceback (most recent call last)",
      "\u001b[1;32m<ipython-input-15-ddfc75bfd41f>\u001b[0m in \u001b[0;36m<module>\u001b[1;34m()\u001b[0m\n\u001b[0;32m      1\u001b[0m \u001b[0mratio_fac_stud\u001b[0m \u001b[1;33m=\u001b[0m \u001b[0mTU_fac_stud_df\u001b[0m\u001b[1;33m[\u001b[0m\u001b[1;33m[\u001b[0m\u001b[1;34m'Ratio faculty/students'\u001b[0m\u001b[1;33m]\u001b[0m\u001b[1;33m]\u001b[0m\u001b[1;33m\u001b[0m\u001b[0m\n\u001b[1;32m----> 2\u001b[1;33m \u001b[0mcut_ratios\u001b[0m \u001b[1;33m=\u001b[0m \u001b[0mpd\u001b[0m\u001b[1;33m.\u001b[0m\u001b[0mcut\u001b[0m\u001b[1;33m(\u001b[0m\u001b[0mratio_fac_stud\u001b[0m\u001b[1;33m,\u001b[0m \u001b[1;36m5\u001b[0m\u001b[1;33m,\u001b[0m \u001b[0mright\u001b[0m\u001b[1;33m=\u001b[0m\u001b[1;32mFalse\u001b[0m\u001b[1;33m)\u001b[0m\u001b[1;33m.\u001b[0m\u001b[0mvalue_counts\u001b[0m\u001b[1;33m(\u001b[0m\u001b[1;33m)\u001b[0m\u001b[1;33m\u001b[0m\u001b[0m\n\u001b[0m\u001b[0;32m      3\u001b[0m \u001b[1;31m#ax = plt.axes()\u001b[0m\u001b[1;33m\u001b[0m\u001b[1;33m\u001b[0m\u001b[0m\n\u001b[0;32m      4\u001b[0m \u001b[1;33m\u001b[0m\u001b[0m\n\u001b[0;32m      5\u001b[0m \u001b[1;31m#sns.barplot(data=cut_ratios, x='Ratio faculty/students', y='title', ax=ax)\u001b[0m\u001b[1;33m\u001b[0m\u001b[1;33m\u001b[0m\u001b[0m\n",
      "\u001b[1;32mc:\\programdata\\anaconda3\\lib\\site-packages\\pandas\\core\\reshape\\tile.py\u001b[0m in \u001b[0;36mcut\u001b[1;34m(x, bins, right, labels, retbins, precision, include_lowest)\u001b[0m\n\u001b[0;32m    134\u001b[0m                               \u001b[0mprecision\u001b[0m\u001b[1;33m=\u001b[0m\u001b[0mprecision\u001b[0m\u001b[1;33m,\u001b[0m\u001b[1;33m\u001b[0m\u001b[0m\n\u001b[0;32m    135\u001b[0m                               \u001b[0minclude_lowest\u001b[0m\u001b[1;33m=\u001b[0m\u001b[0minclude_lowest\u001b[0m\u001b[1;33m,\u001b[0m\u001b[1;33m\u001b[0m\u001b[0m\n\u001b[1;32m--> 136\u001b[1;33m                               dtype=dtype)\n\u001b[0m\u001b[0;32m    137\u001b[0m \u001b[1;33m\u001b[0m\u001b[0m\n\u001b[0;32m    138\u001b[0m     return _postprocess_for_cut(fac, bins, retbins, x_is_series,\n",
      "\u001b[1;32mc:\\programdata\\anaconda3\\lib\\site-packages\\pandas\\core\\reshape\\tile.py\u001b[0m in \u001b[0;36m_bins_to_cuts\u001b[1;34m(x, bins, right, labels, precision, include_lowest, dtype, duplicates)\u001b[0m\n\u001b[0;32m    256\u001b[0m \u001b[1;33m\u001b[0m\u001b[0m\n\u001b[0;32m    257\u001b[0m         \u001b[0mnp\u001b[0m\u001b[1;33m.\u001b[0m\u001b[0mputmask\u001b[0m\u001b[1;33m(\u001b[0m\u001b[0mids\u001b[0m\u001b[1;33m,\u001b[0m \u001b[0mna_mask\u001b[0m\u001b[1;33m,\u001b[0m \u001b[1;36m0\u001b[0m\u001b[1;33m)\u001b[0m\u001b[1;33m\u001b[0m\u001b[0m\n\u001b[1;32m--> 258\u001b[1;33m         \u001b[0mresult\u001b[0m \u001b[1;33m=\u001b[0m \u001b[0malgos\u001b[0m\u001b[1;33m.\u001b[0m\u001b[0mtake_nd\u001b[0m\u001b[1;33m(\u001b[0m\u001b[0mlabels\u001b[0m\u001b[1;33m,\u001b[0m \u001b[0mids\u001b[0m \u001b[1;33m-\u001b[0m \u001b[1;36m1\u001b[0m\u001b[1;33m)\u001b[0m\u001b[1;33m\u001b[0m\u001b[0m\n\u001b[0m\u001b[0;32m    259\u001b[0m \u001b[1;33m\u001b[0m\u001b[0m\n\u001b[0;32m    260\u001b[0m     \u001b[1;32melse\u001b[0m\u001b[1;33m:\u001b[0m\u001b[1;33m\u001b[0m\u001b[0m\n",
      "\u001b[1;32mc:\\programdata\\anaconda3\\lib\\site-packages\\pandas\\core\\algorithms.py\u001b[0m in \u001b[0;36mtake_nd\u001b[1;34m(arr, indexer, axis, out, fill_value, mask_info, allow_fill)\u001b[0m\n\u001b[0;32m   1401\u001b[0m     \u001b[1;32mif\u001b[0m \u001b[0mis_categorical\u001b[0m\u001b[1;33m(\u001b[0m\u001b[0marr\u001b[0m\u001b[1;33m)\u001b[0m\u001b[1;33m:\u001b[0m\u001b[1;33m\u001b[0m\u001b[0m\n\u001b[0;32m   1402\u001b[0m         return arr.take_nd(indexer, fill_value=fill_value,\n\u001b[1;32m-> 1403\u001b[1;33m                            allow_fill=allow_fill)\n\u001b[0m\u001b[0;32m   1404\u001b[0m     \u001b[1;32melif\u001b[0m \u001b[0mis_datetimetz\u001b[0m\u001b[1;33m(\u001b[0m\u001b[0marr\u001b[0m\u001b[1;33m)\u001b[0m\u001b[1;33m:\u001b[0m\u001b[1;33m\u001b[0m\u001b[0m\n\u001b[0;32m   1405\u001b[0m         \u001b[1;32mreturn\u001b[0m \u001b[0marr\u001b[0m\u001b[1;33m.\u001b[0m\u001b[0mtake\u001b[0m\u001b[1;33m(\u001b[0m\u001b[0mindexer\u001b[0m\u001b[1;33m,\u001b[0m \u001b[0mfill_value\u001b[0m\u001b[1;33m=\u001b[0m\u001b[0mfill_value\u001b[0m\u001b[1;33m,\u001b[0m \u001b[0mallow_fill\u001b[0m\u001b[1;33m=\u001b[0m\u001b[0mallow_fill\u001b[0m\u001b[1;33m)\u001b[0m\u001b[1;33m\u001b[0m\u001b[0m\n",
      "\u001b[1;32mc:\\programdata\\anaconda3\\lib\\site-packages\\pandas\\core\\categorical.py\u001b[0m in \u001b[0;36mtake_nd\u001b[1;34m(self, indexer, allow_fill, fill_value)\u001b[0m\n\u001b[0;32m   1565\u001b[0m         \u001b[1;32massert\u001b[0m \u001b[0misnull\u001b[0m\u001b[1;33m(\u001b[0m\u001b[0mfill_value\u001b[0m\u001b[1;33m)\u001b[0m\u001b[1;33m\u001b[0m\u001b[0m\n\u001b[0;32m   1566\u001b[0m \u001b[1;33m\u001b[0m\u001b[0m\n\u001b[1;32m-> 1567\u001b[1;33m         \u001b[0mcodes\u001b[0m \u001b[1;33m=\u001b[0m \u001b[0mtake_1d\u001b[0m\u001b[1;33m(\u001b[0m\u001b[0mself\u001b[0m\u001b[1;33m.\u001b[0m\u001b[0m_codes\u001b[0m\u001b[1;33m,\u001b[0m \u001b[0mindexer\u001b[0m\u001b[1;33m,\u001b[0m \u001b[0mallow_fill\u001b[0m\u001b[1;33m=\u001b[0m\u001b[1;32mTrue\u001b[0m\u001b[1;33m,\u001b[0m \u001b[0mfill_value\u001b[0m\u001b[1;33m=\u001b[0m\u001b[1;33m-\u001b[0m\u001b[1;36m1\u001b[0m\u001b[1;33m)\u001b[0m\u001b[1;33m\u001b[0m\u001b[0m\n\u001b[0m\u001b[0;32m   1568\u001b[0m         result = self._constructor(codes, categories=self.categories,\n\u001b[0;32m   1569\u001b[0m                                    ordered=self.ordered, fastpath=True)\n",
      "\u001b[1;32mc:\\programdata\\anaconda3\\lib\\site-packages\\pandas\\core\\algorithms.py\u001b[0m in \u001b[0;36mtake_nd\u001b[1;34m(arr, indexer, axis, out, fill_value, mask_info, allow_fill)\u001b[0m\n\u001b[0;32m   1464\u001b[0m     func = _get_take_nd_function(arr.ndim, arr.dtype, out.dtype, axis=axis,\n\u001b[0;32m   1465\u001b[0m                                  mask_info=mask_info)\n\u001b[1;32m-> 1466\u001b[1;33m     \u001b[0mfunc\u001b[0m\u001b[1;33m(\u001b[0m\u001b[0marr\u001b[0m\u001b[1;33m,\u001b[0m \u001b[0mindexer\u001b[0m\u001b[1;33m,\u001b[0m \u001b[0mout\u001b[0m\u001b[1;33m,\u001b[0m \u001b[0mfill_value\u001b[0m\u001b[1;33m)\u001b[0m\u001b[1;33m\u001b[0m\u001b[0m\n\u001b[0m\u001b[0;32m   1467\u001b[0m \u001b[1;33m\u001b[0m\u001b[0m\n\u001b[0;32m   1468\u001b[0m     \u001b[1;32mif\u001b[0m \u001b[0mflip_order\u001b[0m\u001b[1;33m:\u001b[0m\u001b[1;33m\u001b[0m\u001b[0m\n",
      "\u001b[1;32mpandas\\_libs\\algos_take_helper.pxi\u001b[0m in \u001b[0;36mpandas._libs.algos.take_1d_int8_int8 (pandas\\_libs\\algos.c:77092)\u001b[1;34m()\u001b[0m\n",
      "\u001b[1;31mValueError\u001b[0m: Buffer has wrong number of dimensions (expected 1, got 2)"
     ]
    }
   ],
   "source": [
    "ratio_fac_stud = TU_fac_stud_df[['Ratio faculty/students']]\n",
    "cut_ratios = pd.cut(ratio_fac_stud, 5, right=False).value_counts()\n",
    "#ax = plt.axes()\n",
    "\n",
    "#sns.barplot(data=cut_ratios, x='Ratio faculty/students', y='title', ax=ax)\n",
    "\n",
    "#ax.set_title('195-200 Faculties by ratio of faculty staff to total number of students')\n",
    "#plt.show()\n",
    "ratio_fac_stud"
   ]
  },
  {
   "cell_type": "markdown",
   "metadata": {},
   "source": [
    "### Best university: (b) ratio of international students\n",
    "\n",
    "Similarly, we sort the dataframe by the ratio of international students, in descending manner. On the top are the universities with the highest ratio."
   ]
  },
  {
   "cell_type": "code",
   "execution_count": null,
   "metadata": {},
   "outputs": [],
   "source": [
    "TU_intl_df = TU_df.sort_values('Ratio intl/total students', ascending=False)"
   ]
  },
  {
   "cell_type": "markdown",
   "metadata": {},
   "source": [
    "#### Top 5 by ratio of international students"
   ]
  },
  {
   "cell_type": "code",
   "execution_count": null,
   "metadata": {},
   "outputs": [],
   "source": [
    "TU_intl_df.head(5)"
   ]
  },
  {
   "cell_type": "code",
   "execution_count": null,
   "metadata": {},
   "outputs": [],
   "source": [
    "ax = plt.axes()\n",
    "\n",
    "sns.barplot(data=TU_intl_df.head(5), x='Ratio intl/total students', y='title', ax=ax)\n",
    "\n",
    "#ax.set_xticklabels(ax.get_xticklabels(),) \n",
    "ax.set_title('Faculties by ratio of international to total number of students')\n",
    "\n",
    "plt.show()"
   ]
  },
  {
   "cell_type": "markdown",
   "metadata": {},
   "source": [
    "------\n",
    "### 1.3 Ranking: regional and national results\n",
    "\n",
    "In this section we use the results obtained in **1.2** and aggregate them, separately, by country and region, thus providing answer to the question 2:\n",
    "\n",
    "<div class=\"alert alert-block alert-info\">\n",
    "<i>Answer the previous question aggregating the data by (c) country and (d) region.</i>\n",
    "</div>\n",
    "\n",
    "\n",
    "The `DataFrame` contains all the datapoints we need for answering the questions, the only procedure we need to undertake is aggregation of data. We need to remove the calculated ratios per faculty since the summation would not result in proper result in this case (we would need to normalize the result otherwise). We can further remove the score and name of the university **manually**, since it does not play a role in the dataset, but since it is a variable on which we could not perform aggregation such variables would anyway be ignored by *Pandas*."
   ]
  },
  {
   "cell_type": "code",
   "execution_count": null,
   "metadata": {},
   "outputs": [],
   "source": [
    "TU_aggregate_df = TU_df.copy()\n",
    "\n",
    "columns_to_drop = ['Ratio faculty/students', 'Ratio intl/total students']\n",
    "\n",
    "TU_aggregate_df.drop(columns_to_drop, axis=1, inplace=True)\n",
    "TU_aggregate_df.head(1)"
   ]
  },
  {
   "cell_type": "markdown",
   "metadata": {},
   "source": [
    "---\n",
    "#### Aggregating data by country (c)\n",
    "\n",
    "We will group the data by the country and then sum the values of such aggregate to produce desired data. We provide the rules for aggregating by each desired column:\n",
    "`rule = {'Column1' : ['function1_1',...,'function1_N'], ... ,'ColumnN' : ['functionN_1',...,'functionN_N']}`\n",
    "Where `Column1 - ColumnN` are the column names in dataframe, and `functionX_Y` is a possible aggregation function such as `sum` or `mean`."
   ]
  },
  {
   "cell_type": "code",
   "execution_count": null,
   "metadata": {
    "scrolled": true
   },
   "outputs": [],
   "source": [
    "# we can compose multiple functions to reduce code clutter with rule - column:['aggregation1', 'aggregation2'...]\n",
    "rule = {'Total faculty members':['sum'], 'Total students':['sum'], 'Total undergrad percentage':['mean'], \n",
    "        'International faculty members':['sum'], 'International students':['sum'], 'International postgrad percentage':['mean'],\n",
    "       'International undergrad percentage':['mean'], 'Overall Score':['mean'], 'Academic Reputation':['mean'],\n",
    "       'Citations per Faculty':['mean'], 'Employer Reputation':['mean'], 'Faculty Student':['mean'], 'International Faculty':['mean'],\n",
    "       'International Students':['mean'], 'Total postgrad percentage':['mean']}\n",
    "\n",
    "TU_country_df = TU_aggregate_df.groupby(['country'], as_index=False).agg(rule)\n",
    "TU_country_df.head(2)"
   ]
  },
  {
   "cell_type": "markdown",
   "metadata": {},
   "source": [
    "As done previously, desired ratios are calculated and added to the `DataFrame`:"
   ]
  },
  {
   "cell_type": "code",
   "execution_count": null,
   "metadata": {},
   "outputs": [],
   "source": [
    "TU_country_df['Ratio faculty/students'] = TU_country_df['Total faculty members']/TU_country_df['Total students']\n",
    "TU_country_df['Ratio intl/total students'] = TU_country_df['International students']/TU_country_df['Total students']"
   ]
  },
  {
   "cell_type": "markdown",
   "metadata": {},
   "source": [
    "#### Top 5 countries with Universities with highest ratio of faculty to students\n",
    "\n",
    "We show the top 5 countries with the highest total ratio of faculty to students."
   ]
  },
  {
   "cell_type": "code",
   "execution_count": null,
   "metadata": {
    "scrolled": true
   },
   "outputs": [],
   "source": [
    "TU_country_df.sort_values('Ratio faculty/students', ascending=False).head(5)"
   ]
  },
  {
   "cell_type": "code",
   "execution_count": null,
   "metadata": {},
   "outputs": [],
   "source": [
    "ax = plt.axes()\n",
    "\n",
    "sns.barplot(data=TU_country_df.sort_values('Ratio faculty/students', ascending=False), x='Ratio faculty/students', y='country', ax=ax, palette='Blues_d')\n",
    "\n",
    "ax.set_title('Countries by ratio of faculty staff to total number of students')\n",
    "plt.show()"
   ]
  },
  {
   "cell_type": "markdown",
   "metadata": {},
   "source": [
    "#### Top 5 countries with Universities with highest ratio of international students\n",
    "\n",
    "We show the top 5 countries with the highest total ratio of international students to total number of students."
   ]
  },
  {
   "cell_type": "code",
   "execution_count": null,
   "metadata": {
    "scrolled": true
   },
   "outputs": [],
   "source": [
    "TU_country_df.sort_values('Ratio intl/total students', ascending=False).head(5)"
   ]
  },
  {
   "cell_type": "code",
   "execution_count": null,
   "metadata": {},
   "outputs": [],
   "source": [
    "ax = plt.axes()\n",
    "\n",
    "sns.barplot(data=TU_country_df.sort_values('Ratio intl/total students', ascending=False), x='Ratio intl/total students', y='country', ax=ax, palette='Blues_d')\n",
    "\n",
    "ax.set_title('Countries by ratio of international to total number of students')\n",
    "plt.show()"
   ]
  },
  {
   "cell_type": "markdown",
   "metadata": {},
   "source": [
    "---\n",
    "#### Aggregating data by region (d)\n",
    "\n",
    "We perform the same procedure with grouping by the region instead of country."
   ]
  },
  {
   "cell_type": "code",
   "execution_count": null,
   "metadata": {
    "scrolled": true
   },
   "outputs": [],
   "source": [
    "# we can compose multiple functions to reduce code clutter with rule - column:['aggregation1', 'aggregation2'...]\n",
    "rule = {'Total faculty members':['sum'], 'Total students':['sum'], 'Total undergrad percentage':['mean'], \n",
    "        'International faculty members':['sum'], 'International students':['sum'], 'International postgrad percentage':['mean'],\n",
    "       'International undergrad percentage':['mean'], 'Overall Score':['mean'], 'Academic Reputation':['mean'],\n",
    "       'Citations per Faculty':['mean'], 'Employer Reputation':['mean'], 'Faculty Student':['mean'], 'International Faculty':['mean'],\n",
    "       'International Students':['mean'], 'Total postgrad percentage':['mean']}\n",
    "\n",
    "TU_region_df = TU_aggregate_df.groupby(['region'], as_index=False).agg(rule)\n",
    "TU_region_df.head(2)"
   ]
  },
  {
   "cell_type": "markdown",
   "metadata": {},
   "source": [
    "We calculate the desired ratios by the region and then present the top 5 regions by each criterion."
   ]
  },
  {
   "cell_type": "code",
   "execution_count": null,
   "metadata": {},
   "outputs": [],
   "source": [
    "TU_region_df['Ratio faculty/students'] = TU_region_df['Total faculty members']/TU_region_df['Total students']\n",
    "TU_region_df['Ratio intl/total students'] = TU_region_df['International students']/TU_region_df['Total students']"
   ]
  },
  {
   "cell_type": "markdown",
   "metadata": {},
   "source": [
    "#### Regions with Universities with the highest faculty to student ratio"
   ]
  },
  {
   "cell_type": "code",
   "execution_count": null,
   "metadata": {
    "scrolled": true
   },
   "outputs": [],
   "source": [
    "TU_region_df.sort_values(['Ratio faculty/students'], ascending=False).head(5)"
   ]
  },
  {
   "cell_type": "code",
   "execution_count": null,
   "metadata": {},
   "outputs": [],
   "source": [
    "ax = plt.axes()\n",
    "\n",
    "sns.barplot(data=TU_region_df.sort_values(['Ratio faculty/students'], ascending=False), x='Ratio faculty/students', y='region', ax=ax)\n",
    "\n",
    "ax.set_title('Regions by ratio of faculty staff to total number of students')\n",
    "plt.show()"
   ]
  },
  {
   "cell_type": "markdown",
   "metadata": {},
   "source": [
    "#### Regions with Universities with the highest ratio of international students"
   ]
  },
  {
   "cell_type": "code",
   "execution_count": null,
   "metadata": {
    "scrolled": true
   },
   "outputs": [],
   "source": [
    "TU_region_df.sort_values(['Ratio intl/total students'], ascending=False)"
   ]
  },
  {
   "cell_type": "code",
   "execution_count": null,
   "metadata": {},
   "outputs": [],
   "source": [
    "ax = plt.axes()\n",
    "\n",
    "sns.barplot(data=TU_region_df.sort_values(['Ratio intl/total students'], ascending=False), x='Ratio intl/total students', y='region', ax=ax)\n",
    "\n",
    "ax.set_title('Regions by ratio of international to total number of students')\n",
    "plt.show()"
   ]
  },
  {
   "cell_type": "markdown",
   "metadata": {},
   "source": [
    "### Cleaning up the unnecessary data for further analysis"
   ]
  },
  {
   "cell_type": "code",
   "execution_count": null,
   "metadata": {},
   "outputs": [],
   "source": [
    "columns_to_delete = ['Total undergrad percentage', 'International postgrad percentage', 'International undergrad percentage', 'Total postgrad percentage',\n",
    "                    'International Students', 'International Faculty', 'Faculty Student', 'Employer Reputation', 'Citations per Faculty', 'Academic Reputation',\n",
    "                    'Overall Score']\n",
    "\n",
    "TU_df.drop(columns_to_delete, axis=1, inplace=True)"
   ]
  },
  {
   "cell_type": "markdown",
   "metadata": {},
   "source": [
    "## 2. World University Rankings by TimesHigherEducation"
   ]
  },
  {
   "cell_type": "markdown",
   "metadata": {},
   "source": [
    "In this chapter, we will scrape the data from [TimesHigherEducation ranking 2018](http://timeshighereducation.com/world-university-rankings/2018/world-ranking), as well as answering the assignment questions by performing simple data analysis.\n"
   ]
  },
  {
   "cell_type": "markdown",
   "metadata": {},
   "source": [
    "Pandas options setting for a better view of the data"
   ]
  },
  {
   "cell_type": "code",
   "execution_count": null,
   "metadata": {
    "ExecuteTime": {
     "end_time": "2017-10-21T21:05:10.340229Z",
     "start_time": "2017-10-21T21:05:10.337211Z"
    }
   },
   "outputs": [],
   "source": [
    "pd.set_option('display.max_columns', None)\n",
    "\n",
    "pd.set_option('display.max_rows', None)"
   ]
  },
  {
   "cell_type": "markdown",
   "metadata": {},
   "source": [
    "### Analysis of the website to scrape\n",
    "\n",
    "As in the case for task 1, we notice, using Interceptor Chrome app and Postman, that when accessing the main list url\n",
    "\n",
    "http://timeshighereducation.com/world-university-rankings/2018/world-ranking \n",
    "\n",
    "\n",
    "another specific **GET** request is made to one of the server's REST API endpoints\n",
    "\n",
    "https://www.timeshighereducation.com/sites/default/files/the_data_rankings/world_university_rankings_2018_limit0_369a9045a203e176392b9fb8f8c1cb2a.json\n",
    "\n",
    "which serves a file in JSON format that contains a data field with information about each university in the ranking."
   ]
  },
  {
   "cell_type": "markdown",
   "metadata": {},
   "source": [
    "#### Implementing the scrapping procedure\n",
    "\n",
    "We begin by extracting the JSON file found previously with Interceptor and Postman and processing it as a JSON. In order to do so, we implement an utility function that sends a **GET** request to a server's API endpoint identified by the url.\n",
    "\n",
    "The result is saved in a dictionary so that the http request is made only once per url."
   ]
  },
  {
   "cell_type": "code",
   "execution_count": null,
   "metadata": {
    "ExecuteTime": {
     "end_time": "2017-10-21T21:05:10.770393Z",
     "start_time": "2017-10-21T21:05:10.764501Z"
    }
   },
   "outputs": [],
   "source": [
    "json_data = {}\n",
    "def get_json(url):\n",
    "    if url not in json_data:\n",
    "        r = requests.get(url)\n",
    "        json_data[url] = r\n",
    "    else:\n",
    "        r = json_data[url]\n",
    "        \n",
    "    return r.json()"
   ]
  },
  {
   "cell_type": "code",
   "execution_count": null,
   "metadata": {
    "ExecuteTime": {
     "end_time": "2017-10-21T21:05:11.492430Z",
     "start_time": "2017-10-21T21:05:10.913491Z"
    }
   },
   "outputs": [],
   "source": [
    "thedu_url = 'https://www.timeshighereducation.com'\n",
    "thedu_json_url = '/sites/default/files/the_data_rankings/world_university_rankings_2018_limit0_369a9045a203e176392b9fb8f8c1cb2a.json'\n",
    "\n",
    "json_data_thedu = get_json(thedu_url + thedu_json_url)"
   ]
  },
  {
   "cell_type": "markdown",
   "metadata": {},
   "source": [
    "#### Analysis of the json object format"
   ]
  },
  {
   "cell_type": "code",
   "execution_count": null,
   "metadata": {
    "ExecuteTime": {
     "end_time": "2017-10-21T21:05:11.586425Z",
     "start_time": "2017-10-21T21:05:11.580264Z"
    }
   },
   "outputs": [],
   "source": [
    "# fields of the entire json object\n",
    "display(json_data_thedu.keys())\n",
    "# one entry in the data field\n",
    "display(json_data_thedu['data'][0])"
   ]
  },
  {
   "cell_type": "markdown",
   "metadata": {},
   "source": [
    "The retrieved json object has 4 fields: data, subjects, locations and pillars out of which we are interested only in data. Specifically in the first 200 entries in the corresponding array because, again, we are focusing on the 200 best ranking universities and not the universities until rank 200.\n",
    "\n",
    "#### Structure of data\n",
    "\n",
    "We observe that the data field contains the name, location which is basically the country, number of students, ratio of international students and ratio of student to staff which is enough to infer all the fields that are asked in the asignment, except the region and number of international faculty members. Therefore we are not required to aditionally scrape the detailed page of the univerities.\n",
    "\n",
    "Given that the region of a country cannot variate, for this field we will use external information, for example the dataframe from the previous task, to infer the region of an university. \n",
    "\n",
    "The number of international faculty members is not provided by the TimesHigherEducation, but we do not need it in our further analysis related to this task.\n",
    "\n",
    "Observing the data field is a list of records, it makes sense to load it in a DataFrame for easier manipulation."
   ]
  },
  {
   "cell_type": "code",
   "execution_count": null,
   "metadata": {
    "ExecuteTime": {
     "end_time": "2017-10-21T21:05:11.691630Z",
     "start_time": "2017-10-21T21:05:11.678118Z"
    }
   },
   "outputs": [],
   "source": [
    "data_thedu = pd.DataFrame(json_data_thedu['data'])"
   ]
  },
  {
   "cell_type": "code",
   "execution_count": null,
   "metadata": {
    "ExecuteTime": {
     "end_time": "2017-10-21T21:05:14.378937Z",
     "start_time": "2017-10-21T21:05:14.350779Z"
    }
   },
   "outputs": [],
   "source": [
    "data_thedu.head()"
   ]
  },
  {
   "cell_type": "markdown",
   "metadata": {},
   "source": [
    "#### Restructuring the data"
   ]
  },
  {
   "cell_type": "markdown",
   "metadata": {},
   "source": [
    "As argued above, we will keep in the DataFrame only the columns that are relevant to our analysis:\n",
    "- name\n",
    "- rank\n",
    "- location\n",
    "- stats_number_students\n",
    "- stats_pc_intl_students\n",
    "- stats_student_staff_ratio\n",
    "- scores_overall"
   ]
  },
  {
   "cell_type": "code",
   "execution_count": null,
   "metadata": {
    "ExecuteTime": {
     "end_time": "2017-10-21T21:05:20.478768Z",
     "start_time": "2017-10-21T21:05:20.471234Z"
    }
   },
   "outputs": [],
   "source": [
    "columns_to_drop = data_thedu.columns.difference(['name', 'rank','location', 'stats_number_students', 'stats_pc_intl_students', 'stats_student_staff_ratio', 'scores_overall'])\n",
    "data_thedu = data_thedu.drop(columns_to_drop, axis=1)[0:200]"
   ]
  },
  {
   "cell_type": "code",
   "execution_count": null,
   "metadata": {
    "ExecuteTime": {
     "end_time": "2017-10-21T21:05:20.937291Z",
     "start_time": "2017-10-21T21:05:20.929220Z"
    }
   },
   "outputs": [],
   "source": [
    "data_thedu.stats_pc_intl_students.head()"
   ]
  },
  {
   "cell_type": "markdown",
   "metadata": {},
   "source": [
    "The column stats_pc_intl_students representing the percentage of international students does not have a format that allows us do the operations necessary to infer the number of international students. \n",
    "\n",
    "We will create a function that will parse the string values of this column and transform them into a value from [0,1]"
   ]
  },
  {
   "cell_type": "code",
   "execution_count": null,
   "metadata": {
    "ExecuteTime": {
     "end_time": "2017-10-21T21:05:21.409539Z",
     "start_time": "2017-10-21T21:05:21.404142Z"
    }
   },
   "outputs": [],
   "source": [
    "def percentage_to_ratio(value):\n",
    "    # we slice the value up until the last character\n",
    "    # then parse it as an int and divide it by 100 to obtain a value between 0 and 1\n",
    "    return int(value[:-1])/100"
   ]
  },
  {
   "cell_type": "code",
   "execution_count": null,
   "metadata": {
    "ExecuteTime": {
     "end_time": "2017-10-21T21:05:21.920920Z",
     "start_time": "2017-10-21T21:05:21.871558Z"
    }
   },
   "outputs": [],
   "source": [
    "data_thedu['stats_pc_intl_students'] = data_thedu['stats_pc_intl_students'].apply(percentage_to_ratio)\n",
    "data_thedu.rename(columns={'stats_pc_intl_students':'stats_intl_students_ratio'}, inplace=True)"
   ]
  },
  {
   "cell_type": "code",
   "execution_count": null,
   "metadata": {
    "ExecuteTime": {
     "end_time": "2017-10-21T21:05:22.413215Z",
     "start_time": "2017-10-21T21:05:22.393035Z"
    }
   },
   "outputs": [],
   "source": [
    "data_thedu.head()"
   ]
  },
  {
   "cell_type": "markdown",
   "metadata": {},
   "source": [
    "### Inferring data\n",
    "\n",
    "We can now proceed to infer the number of international students and the number of faculty members\n",
    "\n",
    "The number of international students can be calculated as the product between the number of students and the international students ratio\n",
    "\n",
    "The number of faculty members can be calculated as the number of students divided by the student per staff ratio\n",
    "\n",
    "#### Data types"
   ]
  },
  {
   "cell_type": "code",
   "execution_count": null,
   "metadata": {
    "ExecuteTime": {
     "end_time": "2017-10-21T21:06:45.628588Z",
     "start_time": "2017-10-21T21:06:45.618252Z"
    }
   },
   "outputs": [],
   "source": [
    "data_thedu.info()"
   ]
  },
  {
   "cell_type": "markdown",
   "metadata": {},
   "source": [
    "As we can see, all the stats, except the transformed international students ratio, have the data type object.\n",
    "\n",
    "For us to able to infer the new columns values, we will have to parse stats_number_students to int and stats_student_staff_ratio to float."
   ]
  },
  {
   "cell_type": "code",
   "execution_count": null,
   "metadata": {
    "ExecuteTime": {
     "end_time": "2017-10-21T21:06:47.827676Z",
     "start_time": "2017-10-21T21:06:47.823172Z"
    }
   },
   "outputs": [],
   "source": [
    "data_thedu['stats_number_students'] = data_thedu.stats_number_students.apply(lambda x: int(x.replace(',','')))\n",
    "data_thedu['stats_student_staff_ratio'] = data_thedu.stats_student_staff_ratio.apply(lambda x: float(x))"
   ]
  },
  {
   "cell_type": "markdown",
   "metadata": {},
   "source": [
    "We now compute the new columns as described above"
   ]
  },
  {
   "cell_type": "code",
   "execution_count": null,
   "metadata": {
    "ExecuteTime": {
     "end_time": "2017-10-21T21:07:07.700111Z",
     "start_time": "2017-10-21T21:07:07.695645Z"
    }
   },
   "outputs": [],
   "source": [
    "data_thedu['number_international_students_inferred'] = data_thedu.stats_number_students * data_thedu.stats_intl_students_ratio\n",
    "data_thedu['number_faculty_members_inferred'] = data_thedu.stats_number_students / data_thedu.stats_student_staff_ratio"
   ]
  },
  {
   "cell_type": "markdown",
   "metadata": {},
   "source": [
    "Having only two decimals precision for the ratio, the resulting values for the inferred columns are not all integers but we choose to leave them as that in order to maintain the accuracy of our data.\n",
    "\n",
    "One thing left to do is to transform the student per staff ratio into staff per student ratio as per assignment."
   ]
  },
  {
   "cell_type": "code",
   "execution_count": null,
   "metadata": {
    "ExecuteTime": {
     "end_time": "2017-10-21T21:07:08.424873Z",
     "start_time": "2017-10-21T21:07:08.420854Z"
    }
   },
   "outputs": [],
   "source": [
    "data_thedu['stats_student_staff_ratio'] = 1 / data_thedu.stats_student_staff_ratio\n",
    "data_thedu.rename(columns={'stats_student_staff_ratio':'stats_staff_student_ratio'}, inplace=True)"
   ]
  },
  {
   "cell_type": "code",
   "execution_count": null,
   "metadata": {
    "ExecuteTime": {
     "end_time": "2017-10-21T21:07:08.764092Z",
     "start_time": "2017-10-21T21:07:08.752154Z"
    }
   },
   "outputs": [],
   "source": [
    "data_thedu.head()"
   ]
  },
  {
   "cell_type": "markdown",
   "metadata": {},
   "source": [
    "We have prepared the data for our analysis! The results are obtained by sorting the `DataFrame` by appropriate criterion.\n",
    "\n",
    "### Best university: (a) ratio between faculty members and students"
   ]
  },
  {
   "cell_type": "code",
   "execution_count": null,
   "metadata": {
    "ExecuteTime": {
     "end_time": "2017-10-21T21:07:09.719284Z",
     "start_time": "2017-10-21T21:07:09.715738Z"
    }
   },
   "outputs": [],
   "source": [
    "thedu_fac_stud_df = data_thedu.sort_values('stats_staff_student_ratio', ascending=False)"
   ]
  },
  {
   "cell_type": "markdown",
   "metadata": {},
   "source": [
    "#### Top 5 by ratio of faculty members and students"
   ]
  },
  {
   "cell_type": "code",
   "execution_count": null,
   "metadata": {
    "ExecuteTime": {
     "end_time": "2017-10-21T21:07:13.492737Z",
     "start_time": "2017-10-21T21:07:13.481313Z"
    }
   },
   "outputs": [],
   "source": [
    "thedu_fac_stud_df.head()"
   ]
  },
  {
   "cell_type": "markdown",
   "metadata": {},
   "source": [
    "### Best university: (b) ratio of international students"
   ]
  },
  {
   "cell_type": "code",
   "execution_count": null,
   "metadata": {
    "ExecuteTime": {
     "end_time": "2017-10-21T21:10:35.743890Z",
     "start_time": "2017-10-21T21:10:35.740475Z"
    }
   },
   "outputs": [],
   "source": [
    "thedu_intl = data_thedu.sort_values('stats_intl_students_ratio', ascending=False)"
   ]
  },
  {
   "cell_type": "markdown",
   "metadata": {},
   "source": [
    "#### Top 5 by ratio of international students"
   ]
  },
  {
   "cell_type": "code",
   "execution_count": null,
   "metadata": {
    "ExecuteTime": {
     "end_time": "2017-10-21T21:11:04.859939Z",
     "start_time": "2017-10-21T21:11:04.848381Z"
    }
   },
   "outputs": [],
   "source": [
    "thedu_intl.head()"
   ]
  },
  {
   "cell_type": "markdown",
   "metadata": {},
   "source": [
    "## 3. Merging the two DataFrames\n",
    "<div class=\"alert alert-block alert-info\">\n",
    "**Task**: Merge the two DataFrames created in questions 1 and 2 using university names. Match universities' names as well as you can, and explain your strategy. Keep track of the original position in both rankings.\n",
    "</div>"
   ]
  },
  {
   "cell_type": "markdown",
   "metadata": {},
   "source": [
    "Solution: for this task we will try to normalize the universities name in both datasets, i.e. try to extract only the useful information from each university name and then try to match only using that information. For that, we first need to understand better our data. As we observed, we have multiple universities names followed by their acronyms in the TU dataset. Let's analyze in a more in-dept manner those cases:"
   ]
  },
  {
   "cell_type": "code",
   "execution_count": null,
   "metadata": {},
   "outputs": [],
   "source": [
    "TU_df[TU_df.title.apply(lambda x: True if '(' in x else False)].title"
   ]
  },
  {
   "cell_type": "markdown",
   "metadata": {},
   "source": [
    "It can be seen that, besides one name, all the ones that contain a parantheses keep the acronym of the university appended to the name. It is not the case of UCL, where in fact the full name is in parantheses, while the acronym is outside. We will have to handle this case.\n",
    "\n",
    "Also, one really important thing to notice is that some universities have their name stated in the native language in one ranking, while in the other one is in English. This is the case, for example, of **Technical University of Berlin**, as named in the THE tanking, which in is named **Technische Universität Berlin (TU Berlin)** in the TU ranking. Therefore, one more thing we should handle should be language differences. The solution for that would be to translate every university name in English language, using an API which makes requests to Google Translate servers. In that manner, all names will be expressed in the same language.\n",
    "\n",
    "Another issue is that some names have some additional not-so-meaningful words in their structure, as *of* or *the*. An example of this is **The university of Hong Kong**, as per TU ranking, and **University of Hong Kong**, as expressed in THE ranking. This problem will be solved by eliminating the unncecessary words and punctuation signs.\n",
    "\n",
    "Last issue concerned is the words order. We might have universities that appear in both rankings, but with different order of words, or even the different order might be injected by the previous translation. We solve the problem by representing the normalized name as a set of words, so that the order of the words don't matter when similarity is established.\n",
    "\n",
    "Therefore, the solution for normalizing names is as follows: for **UCL**, transform the name into **University College London**, to keep consistency in the dataset. Then, get rid of the acronym when exists, transform name to lower case and replace punctation marks in name. After that, translate name in English, get rid of the linking words and then split the name into words. Finally, the representation will be consisting of the set of all words resulted from the last operation. The implementation is presented below:"
   ]
  },
  {
   "cell_type": "code",
   "execution_count": null,
   "metadata": {},
   "outputs": [],
   "source": [
    "from googletrans import Translator\n",
    "# googletrans is a library which makes calls to the google translate servers in order to translate words or sentences.\n",
    "\n",
    "def normalize_university_name(name):\n",
    "    translator = Translator()\n",
    "    if name == 'UCL (University College London)':\n",
    "        name = 'University College London' \n",
    "        # UCL is the only university for which the acronym is first and full name in parantheses, solve that problem by hand\n",
    "    name = name.lower()\n",
    "    CHARACTERS_REPLACE_BEFORE_TRANSLATE = [' – ', ' - ', '-', ' & ', ', '] # characters which don't contain letters\n",
    "    CHARACTERS_REPLACE_AFTER_TRANSLATE = [' and ', ' in ', ' of ', ' from '] # english words (used after translation)\n",
    "    \n",
    "    name = name.replace('’', \"'\") # replace weird character\n",
    "    for character_to_replace in CHARACTERS_REPLACE_BEFORE_TRANSLATE:\n",
    "        name = name.replace(character_to_replace, ' ') \n",
    "    \n",
    "    if '(' in name:\n",
    "        name = name.rpartition('(')[0] # consider only the string before the last occurence of (, which is the full name of the university\n",
    "        \n",
    "    name = translator.translate(name, dest='en').text # transform the name of the university into English text, so that we can compare words\n",
    "    \n",
    "    for character_to_replace in CHARACTERS_REPLACE_AFTER_TRANSLATE:\n",
    "        name = name.replace(character_to_replace, ' ') \n",
    "    \n",
    "    name = name.lower() # needed again, Google translate might be a \"good\" hero and transform everything in big letters \n",
    "    words = name.strip().split() # split the university name in words\n",
    "    return set(words) # return the words representing university name as a set, for unordered checking   \n"
   ]
  },
  {
   "cell_type": "markdown",
   "metadata": {},
   "source": [
    "After we found a good way of normalizing the names, we must use it for establishing the link between universities using the names in the two dataset. For that, we will consider, for each university in the TU dataset, all of the universities from THE dataset that are from the same country (FIRST thing to check should be country, if not from the same country then clearly not same university) and have the property that all the words in one representation are present in the other representation. For example, we will want that **Scuola Superiore Sant'Anna Pisa di Studi Universitari e di Perfezionamento** is matched by **Scuola Superiore Sant’Anna**, which is possible by using this condition. Furthermore, from all the matching universities, we will select the one that has the most common words with the current university. "
   ]
  },
  {
   "cell_type": "code",
   "execution_count": null,
   "metadata": {},
   "outputs": [],
   "source": [
    "def delete_entry_by_university_name(university_name, universities_normalized):\n",
    "    for index, pair in enumerate(universities_normalized):\n",
    "        if pair[1] == university_name:\n",
    "            del universities_normalized[index]\n",
    "            return\n",
    "        \n",
    "def pair_universities():\n",
    "    THE_universities_normalized = []\n",
    "    for university_data in data_thedu[['name', 'location']].itertuples():\n",
    "        THE_universities_normalized.append((normalize_university_name(university_data.name), university_data.name, university_data.location))\n",
    "        # keep tuples of the form (normalized_name, name, location)\n",
    "\n",
    "    paired = []\n",
    "    unpaired = []\n",
    "\n",
    "    for university_data in TU_df[['title', 'country']].itertuples():\n",
    "        normalized_university = normalize_university_name(university_data.title)\n",
    "        country_university = university_data.country\n",
    "\n",
    "        best_words_match_number = -1 # initially, we set the biggest number of matches to -1\n",
    "        best_match_university = None # initially, the best match university is None\n",
    "\n",
    "        for THE_normalized_university, THE_university, THE_country in THE_universities_normalized:\n",
    "            if THE_country.lower() != country_university.lower():\n",
    "                continue # if not from the same country, then it's not a match\n",
    "\n",
    "            if normalized_university.issubset(THE_normalized_university) or THE_normalized_university.issubset(normalized_university):\n",
    "                words_intersection = normalized_university.intersection(THE_normalized_university)\n",
    "\n",
    "                if len(words_intersection) > best_words_match_number:\n",
    "                    best_words_match_number = len(words_intersection)\n",
    "                    best_match_university = THE_university\n",
    "\n",
    "        if best_match_university is not None: # we found match\n",
    "            paired.append((university_data.title, best_match_university))\n",
    "            delete_entry_by_university_name(best_match_university, THE_universities_normalized) # delete matched university from the list\n",
    "\n",
    "        else:\n",
    "            unpaired.append((university_data.title, university_data.country))\n",
    "\n",
    "    THE_unpaired = [(pair[1], pair[2]) for pair in THE_universities_normalized]\n",
    "\n",
    "    return paired, unpaired, THE_unpaired\n"
   ]
  },
  {
   "cell_type": "code",
   "execution_count": null,
   "metadata": {},
   "outputs": [],
   "source": [
    "paired, TU_unpaired, THE_unpaired = pair_universities() # Code for pairing universities"
   ]
  },
  {
   "cell_type": "markdown",
   "metadata": {},
   "source": [
    "Next, we want to make sure we did not insert some inconsistencies. We will print every pair and will actually inspect it for mistakes. In the lines below, we only print the first 10 lines, but the curious reviewer could watch <a href=\"#all_pairs\"> here (Appendix) </a> all the matched universities:"
   ]
  },
  {
   "cell_type": "code",
   "execution_count": null,
   "metadata": {
    "scrolled": true
   },
   "outputs": [],
   "source": [
    "TU_pair = pd.Series([element[0] for element in paired])\n",
    "THE_pair = pd.Series([element[1] for element in paired])\n",
    "\n",
    "paired_dataframe = pd.DataFrame({'TU' : TU_pair, 'THE' : THE_pair})\n",
    "paired_dataframe.head(10)"
   ]
  },
  {
   "cell_type": "markdown",
   "metadata": {},
   "source": [
    "Our analysis lead to discovering two bad pairings: (***Universitat de Barcelona***, ***Autonomous University of Barcelona***) and ***Vrije Universiteit Brussel (VUB)***, ***Université Libre de Bruxelles***). We will have to delete these two pairs from the list. Now, let's inspect the unpaired university names from TU ranking, indexed by country, as below:"
   ]
  },
  {
   "cell_type": "code",
   "execution_count": null,
   "metadata": {},
   "outputs": [],
   "source": [
    "TU_unpaired_name = pd.Series([element[0] for element in TU_unpaired])\n",
    "TU_unpaired_country = pd.Series([element[1] for element in TU_unpaired])\n",
    "\n",
    "TU_unpaired_dataframe = pd.DataFrame({'name' : TU_unpaired_name, 'country' : TU_unpaired_country})\n",
    "TU_unpaired_dataframe['source'] = 'TU'\n",
    "\n",
    "TU_unpaired_dataframe = TU_unpaired_dataframe.set_index(['country', 'source']).sort_index()\n",
    "\n",
    "TU_unpaired_dataframe.head()"
   ]
  },
  {
   "cell_type": "markdown",
   "metadata": {},
   "source": [
    "Now for THE dataset, the unpaired universities are:"
   ]
  },
  {
   "cell_type": "code",
   "execution_count": null,
   "metadata": {},
   "outputs": [],
   "source": [
    "THE_unpaired_name = pd.Series([element[0] for element in THE_unpaired])\n",
    "THE_unpaired_country = pd.Series([element[1] for element in THE_unpaired])\n",
    "\n",
    "THE_unpaired_dataframe = pd.DataFrame({'name' : THE_unpaired_name, 'country' : THE_unpaired_country})\n",
    "THE_unpaired_dataframe['source'] = 'THE'\n",
    "\n",
    "THE_unpaired_dataframe = THE_unpaired_dataframe.set_index(['country', 'source']).sort_index()\n",
    "\n",
    "THE_unpaired_dataframe.head()"
   ]
  },
  {
   "cell_type": "markdown",
   "metadata": {},
   "source": [
    "Finally, we will merge the two datasets and index it by country. Afterwards, we can look for the universities in the same country, for pairs between THE and TU. Again, In the lines below, we only print the first 10 lines, but the curious reviewer could watch <a href=\"#all_unpaired\"> here (Appendix) </a> all the unpaired universities:"
   ]
  },
  {
   "cell_type": "code",
   "execution_count": null,
   "metadata": {},
   "outputs": [],
   "source": [
    "merged_unpaired_dataframe = pd.concat([TU_unpaired_dataframe, THE_unpaired_dataframe]).sort_index()\n",
    "merged_unpaired_dataframe.head(10)"
   ]
  },
  {
   "cell_type": "markdown",
   "metadata": {},
   "source": [
    "We can see that most of the universities are unrelated, but some of them were not detected as matching, even though they are in reality. Several are really hard to detect even by humans, without some extra information that could be found by using Google. A good example for that is ***Albert-Ludwigs-Universitaet Freiburg***, which appears in THE dataset as ***University of Freiburg***, and only a Google search, a local or an expert in universities could detect that this is actually the same university. All of the found matches could be seen below, where we finalize the list of matching universities:"
   ]
  },
  {
   "cell_type": "code",
   "execution_count": null,
   "metadata": {},
   "outputs": [],
   "source": [
    "paired.remove(('Universitat de Barcelona' ,'Autonomous University of Barcelona'))\n",
    "paired.remove(('Vrije Universiteit Brussel (VUB)', 'Université Libre de Bruxelles'))\n",
    "\n",
    "paired.append(('Ludwig-Maximilians-Universität München', 'LMU Munich'))\n",
    "paired.append(('Albert-Ludwigs-Universitaet Freiburg', 'University of Freiburg'))\n",
    "paired.append(('Lomonosov Moscow State University', 'Lomonosov Moscow State University'))\n",
    "paired.append(('Universitat Autònoma de Barcelona', 'Autonomous University of Barcelona'))\n",
    "paired.append(('Washington University in St. Louis', 'Washington University in St Louis'))\n",
    "\n",
    "len(paired)"
   ]
  },
  {
   "cell_type": "markdown",
   "metadata": {},
   "source": [
    "Finally, we merge the two datasets, keeping the information only for the universities that appear in the both datasets. For that, we will keep the name of the university as it appears in TU ranking. The merging result can be seen below:"
   ]
  },
  {
   "cell_type": "code",
   "execution_count": null,
   "metadata": {},
   "outputs": [],
   "source": [
    "def transform_cell_to_numeric(cell_value):\n",
    "    '''Function that transforms a cell value into a numeric value. Note that for ties in the rank column in THE rank, the \n",
    "    value starts with ='''\n",
    "    if cell_value.startswith(\"=\"):\n",
    "        cell_value = cell_value[1:]\n",
    "    \n",
    "    return pd.to_numeric(cell_value)"
   ]
  },
  {
   "cell_type": "code",
   "execution_count": null,
   "metadata": {},
   "outputs": [],
   "source": [
    "THE_names_to_TU_names = {key:value for value, key in paired} \n",
    "# dictionary which maps the universities names from THE ranking to the universities names from TU ranking, for all universities\n",
    "# that appear in both rankings\n",
    "\n",
    "THE_df = data_thedu.copy()\n",
    "\n",
    "THE_df['name'] = THE_df['name'].apply(lambda x: THE_names_to_TU_names[x] if x in THE_names_to_TU_names else x)\n",
    "# transforms the name of the universities that also appeat in TU ranking in their equivalent from TU\n",
    "THE_df.rename(columns={'name':'title', 'rank':'rank_display', 'stats_number_students':'Total students', \n",
    "                      'stats_intl_students_ratio':'Ratio intl/total students', \n",
    "                      'stats_staff_student_ratio':'Ratio faculty/students',\n",
    "                      'number_international_students_inferred':'International students',\n",
    "                      'number_faculty_members_inferred':'Total faculty members',\n",
    "                      'scores_overall' : 'score'}, inplace=True)\n",
    "\n",
    "THE_df['rank_display'] = THE_df['rank_display'].apply(transform_cell_to_numeric) # transform cell to numeric\n",
    "THE_df['score'] = THE_df['score'].apply(transform_cell_to_numeric) # transform cell to numeric\n",
    "\n",
    "TU_df['rank_display'] = TU_df['rank_display'].apply(transform_cell_to_numeric) # transform cell to numeric\n",
    "TU_df['score'] = TU_df['score'].apply(transform_cell_to_numeric) # transform cell to numeric\n",
    "\n",
    "merged_df = TU_df.merge(THE_df, on='title', how='inner', suffixes=('_TU', '_THE'))\n",
    "merged_df = merged_df.reindex_axis(sorted(merged_df.columns), axis=1)\n",
    "merged_df = merged_df.drop('location', axis=1) # drop redundant column"
   ]
  },
  {
   "cell_type": "code",
   "execution_count": null,
   "metadata": {
    "scrolled": true
   },
   "outputs": [],
   "source": [
    "merged_df.head()"
   ]
  },
  {
   "cell_type": "markdown",
   "metadata": {},
   "source": [
    "## 4. Data Insights\n",
    "<div class=\"alert alert-block alert-info\">\n",
    "**Task**: Find useful insights in the data by performing an exploratory analysis. Can you find a strong correlation between any pair of variables in the dataset you just created? Example: when a university is strong in its international dimension, can you observe a consistency both for students and faculty members?\n",
    "</div>"
   ]
  },
  {
   "cell_type": "markdown",
   "metadata": {},
   "source": [
    "First, we can look at the data in the merged DataFrame from *Task 3*, and to make comparisons between the data in the two datasets. We can first see that the number of *International students* is very similar in the two datasets, having very small variations, usually under 1% of the actual value. Also, it is the same case regarding the *Ratio intl/total students* and *Total students* columns. It is somewhat expected to have similar data, because it should reflect the same reality."
   ]
  },
  {
   "cell_type": "code",
   "execution_count": null,
   "metadata": {},
   "outputs": [],
   "source": [
    "merged_df[['title', 'International students_TU', 'International students_THE', \n",
    "           'Ratio intl/total students_TU', 'Ratio intl/total students_THE',\n",
    "          'Total students_TU', 'Total students_THE']].head()"
   ]
  },
  {
   "cell_type": "markdown",
   "metadata": {},
   "source": [
    "However, shocking enough, we can see that the data in the column *Ratio faculty/students* differ significantly between TU and THE rankings, i.e. by a factor or 2 or even 3. Then, this is followed by a chain reaction, knowing that we inferred the value of *Total faculty members* in THE ranking based on the *Ratio faculty/students* and *Total students* values. This is really unexpected, and the most probable explanation would be that the two sources use the same name for expressing different notions, i.e. THE might include only staff that actually is involved in the teaching process, while TU includes in the *faculty* class also the researchers that work in a university lab, but are not involved in the teaching process. "
   ]
  },
  {
   "cell_type": "code",
   "execution_count": null,
   "metadata": {},
   "outputs": [],
   "source": [
    "merged_df[['title', 'Ratio faculty/students_TU', 'Ratio faculty/students_THE', \n",
    "           'Total faculty members_TU', 'Total faculty members_THE']].head()"
   ]
  },
  {
   "cell_type": "markdown",
   "metadata": {},
   "source": [
    "If we try to go out in the jungle and find some explanations for the discrepancies, we will find them in the end. Therefore, in the methodology presented by the TU website in the following <a href= \"https://www.topuniversities.com/qs-world-university-rankings/methodology\">link</a>, the *ratio faculty/students* is described as *it assesses the extent to which institutions are able to provide students with meaningful access to lecturers and tutors*, therefore it is the ratio between the **teaching** staff and **all** the students. In the same time, for THE ranking, we can discover in <a href=\"https://en.wikipedia.org/wiki/Times_Higher_Education_World_University_Rankings\"> this link </a> that the ratio given is in fact *Undergrad. admitted per academic*, therefore not all the students are included in the function that computes the ratio.\n",
    "***"
   ]
  },
  {
   "cell_type": "markdown",
   "metadata": {},
   "source": [
    "Also, really interesting is the difference in positions/ranks for universities, in the two datasets. The first 10 universities are similar, with minor changes in some positions, proving that those 10 universities have their rightful place in the top of the ranking. However, after the first 10 universities, things are starting to become chaotic, with very big differences in ranking, sometimes with even 76 places, as in *Fudan University* case."
   ]
  },
  {
   "cell_type": "code",
   "execution_count": null,
   "metadata": {},
   "outputs": [],
   "source": [
    "merged_df[['title', 'score_TU', 'score_THE', \n",
    "           'rank_display_TU', 'rank_display_THE']].head(15)"
   ]
  },
  {
   "cell_type": "markdown",
   "metadata": {},
   "source": [
    "An interesting value that we are be interested in looking at is the absolute value of difference of positions in the two rankings, per university. We present the **biggest** differences in ranks between the two datasets below:"
   ]
  },
  {
   "cell_type": "code",
   "execution_count": null,
   "metadata": {},
   "outputs": [],
   "source": [
    "score_difference = pd.DataFrame(merged_df['title'])\n",
    "score_difference['abs_rank_diff'] = (merged_df['rank_display_THE'] - merged_df['rank_display_TU']).apply(abs)\n",
    "\n",
    "score_difference.sort_values(by='abs_rank_diff', ascending=False).head()"
   ]
  },
  {
   "cell_type": "markdown",
   "metadata": {},
   "source": [
    "Also, the mean and the standard deviation of the absolute value of the differences in rank for the two datasets are very large, as computed below:"
   ]
  },
  {
   "cell_type": "code",
   "execution_count": null,
   "metadata": {},
   "outputs": [],
   "source": [
    "score_difference['abs_rank_diff'].mean(), score_difference['abs_rank_diff'].std()"
   ]
  },
  {
   "cell_type": "markdown",
   "metadata": {},
   "source": [
    "Therefore, the two sources have a really different formula for computing the ranking, taking into consideration diverse and different factors for each university measure of \"success\".\n",
    "***\n",
    "Furthermore, if we only look inside one single dataset, namely TU, we might be interested in the correlation between the international faculty members and the international students. We present it below for the first 10 universities:"
   ]
  },
  {
   "cell_type": "code",
   "execution_count": null,
   "metadata": {},
   "outputs": [],
   "source": [
    "merged_df[['title', 'International faculty members', 'International students_TU']].head(10)"
   ]
  },
  {
   "cell_type": "markdown",
   "metadata": {},
   "source": [
    "It is interesting to observe that the number of international professors usually grows with the number of international students. This might be a consequence of the fact that a fraction of the international students also have a teaching position after graduation, becoming now part of the staff.\n",
    "***"
   ]
  },
  {
   "cell_type": "markdown",
   "metadata": {},
   "source": [
    "All of these results can also be observed in the DataFrame representing the correlations matrix between any two (numeric) attributes, as below:"
   ]
  },
  {
   "cell_type": "code",
   "execution_count": null,
   "metadata": {
    "scrolled": true
   },
   "outputs": [],
   "source": [
    "merged_df.corr()"
   ]
  },
  {
   "cell_type": "markdown",
   "metadata": {},
   "source": [
    "All the considerations before can also be observed in this condensed table, but we can also see that the *score* value for a dataset has a really high correlation with the *rank_display* value in that dataset. That correlation is inverse, obviously, because a high score will result in a high position, which is represented by a small number. Also, the scores between the two datasets are somewhat correlated, with a value of 0.81, which could seem unexpected at the first sight, if we think only about the the fact that, in average, the same university has really big difference in positions between the two datasets."
   ]
  },
  {
   "cell_type": "markdown",
   "metadata": {},
   "source": [
    "Therefore, the analysis of the dataset can be concluded with the fact that most of the columns in one ranking dataset are correlated with their pair in the other ranking dataset, except the ones regarding the number of professors, but most important, that the positions of the same university differ very much between the two dataset, excepting the first 10 universities, which can be found in both datasets."
   ]
  },
  {
   "cell_type": "markdown",
   "metadata": {},
   "source": [
    "## 5. Best university\n",
    "\n",
    "<div class=\"alert alert-block alert-info\">\n",
    "**Task**: Can you find the best university taking in consideration both rankings? Explain your approach.\n",
    "</div>"
   ]
  },
  {
   "cell_type": "markdown",
   "metadata": {},
   "source": [
    "For finding the best university, we must keep in mind the observation that we made at the previous task, i.e. the top 10 universities are approximatively the same in both datasets, with minor changes in positions. Therefore, one might conclude that it is understandable that the best university is between the top 10 in both rankings. Let's see those universities more closely:"
   ]
  },
  {
   "cell_type": "code",
   "execution_count": null,
   "metadata": {},
   "outputs": [],
   "source": [
    "merged_df.head(10)"
   ]
  },
  {
   "cell_type": "markdown",
   "metadata": {},
   "source": [
    "We might observe that, in fact, the first 6 positions in TU ranking are occupied by the same universities in THE ranking, up to a permutation of rankings. Therefore, we can restrict our search only to the first 6 universities:"
   ]
  },
  {
   "cell_type": "code",
   "execution_count": null,
   "metadata": {},
   "outputs": [],
   "source": [
    "top_6 = merged_df.head(6)[['title', 'region', 'rank_display_TU', 'rank_display_THE', 'score_TU', 'score_THE']]\n",
    "top_6"
   ]
  },
  {
   "cell_type": "markdown",
   "metadata": {},
   "source": [
    "We might consider the score generated by both websites for each university. Each ranking source has a different methodology for computing the score, taking into consideration very diverse factors, as it can be seen exactly in the links from the previous tasks. What is for sure is that both websites invested a lot of effort in finding a good formula, thus we can actually think to give a final score to each university, based on the scores from the two sources.\n",
    "\n",
    "Though, we do not know what weights to use for both scores, and this should be a really hard task and subjectivity interfers in the process. Though, if we consider that both ranking websites have an equal share of truth, we can simply just consider our score as the sum of the two scores. It is way better to consider the score than the rank, because the rank can only the positive integer values, while the score can take rational values, thus it is more fragmented and close to reality. \n",
    "\n",
    "We observe that the highest score in TU ranking is 100, while highest score in THE ranking is 94.3, which is actually smaller than the score in TU for any university in top 6. Therefore, we need to transform the scores, and for that we will normalize them, making the mean 50 and the standard deviation 1 for both datasets. In this case, we have:"
   ]
  },
  {
   "cell_type": "code",
   "execution_count": null,
   "metadata": {},
   "outputs": [],
   "source": [
    "top_6['score_TU_standardized'] = (top_6['score_TU'] - top_6['score_TU'].mean()) / top_6['score_TU'].std() + 50\n",
    "# Should be careful with the normalization formula, first add to mean 0, do the division then add the desired mean, otherwise\n",
    "# we insert errors.\n",
    "top_6['score_THE_standardized'] = (top_6['score_THE'] - top_6['score_THE'].mean()) / top_6['score_THE'].std() + 50\n",
    "\n",
    "top_6['combined_score'] = top_6['score_TU_standardized'] + top_6['score_THE_standardized'] \n",
    "top_6.sort_values(by='combined_score', ascending=False)"
   ]
  },
  {
   "cell_type": "markdown",
   "metadata": {},
   "source": [
    "Therefore, the best university is MIT, with a combined score of 100.73, followed closely by Stanford university, with 100.62. We can see that maybe looking only at the rankings, it would be intuitive for Stanford university to be considered the best one, being in the top 3 in both rankings, but giving equal weights to both rankings results in MIT being the winner.\n",
    "\n",
    "We must stress out again that we consider both rankings equally good, because both have extensive expertise in the domain, and cannot have different weights without being subjective. \n"
   ]
  },
  {
   "cell_type": "markdown",
   "metadata": {},
   "source": [
    "## Appendix."
   ]
  },
  {
   "cell_type": "markdown",
   "metadata": {},
   "source": [
    "<a id=\"all_pairs\"></a>In the next table, we have all pairs that resulted from the matching code: "
   ]
  },
  {
   "cell_type": "code",
   "execution_count": null,
   "metadata": {},
   "outputs": [],
   "source": [
    "paired_dataframe"
   ]
  },
  {
   "cell_type": "markdown",
   "metadata": {},
   "source": [
    "<a id=\"all_unpaired\"></a>In the next table, we have all the universities that were not paired by the matching code: "
   ]
  },
  {
   "cell_type": "code",
   "execution_count": null,
   "metadata": {},
   "outputs": [],
   "source": [
    "merged_unpaired_dataframe"
   ]
  },
  {
   "cell_type": "code",
   "execution_count": null,
   "metadata": {},
   "outputs": [],
   "source": []
  }
 ],
 "metadata": {
  "kernelspec": {
   "display_name": "Python [default]",
   "language": "python",
   "name": "python3"
  },
  "language_info": {
   "codemirror_mode": {
    "name": "ipython",
    "version": 3
   },
   "file_extension": ".py",
   "mimetype": "text/x-python",
   "name": "python",
   "nbconvert_exporter": "python",
   "pygments_lexer": "ipython3",
   "version": "3.6.2"
  },
  "toc": {
   "colors": {
    "hover_highlight": "#DAA520",
    "navigate_num": "#000000",
    "navigate_text": "#333333",
    "running_highlight": "#FF0000",
    "selected_highlight": "#FFD700",
    "sidebar_border": "#EEEEEE",
    "wrapper_background": "#FFFFFF"
   },
   "moveMenuLeft": true,
   "nav_menu": {
    "height": "171px",
    "width": "252px"
   },
   "navigate_menu": true,
   "number_sections": true,
   "sideBar": true,
   "threshold": 4,
   "toc_cell": false,
   "toc_section_display": "block",
   "toc_window_display": false,
   "widenNotebook": false
  },
  "varInspector": {
   "cols": {
    "lenName": 16,
    "lenType": 16,
    "lenVar": 40
   },
   "kernels_config": {
    "python": {
     "delete_cmd_postfix": "",
     "delete_cmd_prefix": "del ",
     "library": "var_list.py",
     "varRefreshCmd": "print(var_dic_list())"
    },
    "r": {
     "delete_cmd_postfix": ") ",
     "delete_cmd_prefix": "rm(",
     "library": "var_list.r",
     "varRefreshCmd": "cat(var_dic_list()) "
    }
   },
   "types_to_exclude": [
    "module",
    "function",
    "builtin_function_or_method",
    "instance",
    "_Feature"
   ],
   "window_display": false
  }
 },
 "nbformat": 4,
 "nbformat_minor": 1
}
