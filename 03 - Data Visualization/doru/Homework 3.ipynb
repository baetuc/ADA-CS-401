{
 "cells": [
  {
   "cell_type": "markdown",
   "metadata": {},
   "source": [
    "## Exercise 2"
   ]
  },
  {
   "cell_type": "markdown",
   "metadata": {},
   "source": [
    "Go to the [amstat](https://www.amstat.ch) website to find a dataset that includes the unemployment rates in Switzerland at a recent date.\n",
    "\n",
    "   > *HINT* Go to the `details` tab to find the raw data you need. If you do not speak French, German or Italian, think of using free translation services to navigate your way through. \n",
    "\n",
    "   Use this data to build another Choropleth map, this time showing the unemployment rate at the level of swiss cantons. Again, try to make the map as expressive as possible, and comment on the trends you observe.\n",
    "\n",
    "   The Swiss Confederation defines the rates you have just plotted as the number of people looking for a job divided by the size of the active population (scaled by 100). This is surely a valid choice, but as we discussed one could argue for a different categorization.\n",
    "\n",
    "   Copy the map you have just created, but this time don't count in your statistics people who already have a job and are looking for a new one. How do your observations change ? You can repeat this with different choices of categories to see how selecting different metrics can lead to different interpretations of the same data.\n"
   ]
  },
  {
   "cell_type": "markdown",
   "metadata": {},
   "source": [
    "# Used libraries"
   ]
  },
  {
   "cell_type": "code",
   "execution_count": 2,
   "metadata": {
    "ExecuteTime": {
     "end_time": "2017-11-08T20:02:26.257997Z",
     "start_time": "2017-11-08T20:02:25.470407Z"
    },
    "collapsed": true
   },
   "outputs": [],
   "source": [
    "import os\n",
    "import pandas as pd\n",
    "import folium\n",
    "import numpy as np\n",
    "import jenkspy\n",
    "\n",
    "from IPython.display import display"
   ]
  },
  {
   "cell_type": "markdown",
   "metadata": {},
   "source": [
    "# Understanding the data\n",
    "\n",
    "In order to solve our task we have to build two Choropleth maps presenting two different interpretations of the unemployment rate:\n",
    "* First map should express the rate of people registered as jobseekers for each canton\n",
    "\n",
    "* Second map should exclude from the statistics the people that are already employed\n",
    "\n",
    "Amstat provides the rate of unemployment defined as number of **chômeurs inscrits** divided by the **personnes actives**, as can be seen in the image below captured from the [definitions section of the amstat site](https://www.amstat.ch/v2/definition.jsp?lang=fr) (mouse hover for English translation - courtesy of Google Translate)\n",
    "\n",
    "![](images/taux_de_chomage.png \"Number of registered unemployed at the reference day (last day of the month) divided by the number of active persons, multiplied by 100. The number of active persons is recorded each year by the Federal Statistical Office as part of the Structural Survey ( census of the population). Since January 1, 2014, it has risen to 4'493'249 according to the three-year pooling of data collected in the framework of the 2012-2014 structural surveys. Active persons used by SECO also includes diplomats and international civil servants domiciled in Switzerland.\")\n",
    "\n",
    "Looking further into the definitions of **chômeurs inscrits**, we find that this represents the number of jobseekers that are unemployed. Again, with the courtesy of Google Translate, mouse over for english translation.\n",
    "\n",
    "![](images/chomeurs_inscrits.png \"Persons registered at regional employment agencies, who are unemployed and immediately available for placement. It does not matter whether they are receiving unemployment benefits or not.\")\n"
   ]
  },
  {
   "cell_type": "markdown",
   "metadata": {},
   "source": [
    "Consulting the definitions on the amstat, we find that **personnes actives** (active population) is consisted of the employed and unemployed individuals. Here we encounter our first limitation of the dataset as we do not know more details about the active population, for example the age range.\n",
    "\n",
    "![](images/personnes_actives.png \"Employed persons (at least one hour per week) or unemployed.The unemployment rate is calculated by taking the number of active persons as the denominator. Breakdown by regions, cantons, nationalities, age groups and by sex, the number of active persons influences various tables of SECO's labor market statistics. Exception: For the economic branches, the unemployment rate is not calculated on the basis of the number of active persons, but of the number of active persons employed.\n",
    "Since 2010, the Federal Statistical Office (FSO) has been counting the number of active persons per year in the framework of the Structural Survey on the active life of the population.\n",
    "The completion of an annual structural survey makes it possible to cumulate the results over a period of several years (pooling). The advantage of this way of proceeding is to have wider data\n",
    "in the field of active persons. Since 1 January 2014, SECO has no longer calculated the unemployment rate on the basis of the number of active persons dating from 2010, but on the\n",
    "of their number determined in the context of pooling over the period 2012 to 2014 based on data from the structural survey.\n",
    "Using the sampling method allows a more regular adjustment of the denominator of the unemployment rate than the method previously used based on the population census\n",
    "(exhaustive survey carried out every ten years). The number of active persons on which SECO is based also includes diplomats and international civil servants residing in Switzerland.\n",
    "(Before 31 December 1999, the unemployment rate was calculated on the basis of the number of persons engaged in gainful employment of at least six hours per week, which is no longer available).\")"
   ]
  },
  {
   "cell_type": "markdown",
   "metadata": {},
   "source": [
    "We can then remark that the unemployment rate aggregates the data corresponding to the second map, meaning it takes into consideration only jobseekers that currently do not have job.\n",
    "\n",
    "For the first map, amstat does not provide the necessary rates but we decide to compute them based on the unemployment rate provided and the number of jobseekers to which we have access.\n",
    "\n",
    "Again, from the Definitions section, we can notice that **Demandeurs d'emploi** represent the number of jobseekers, regardless of whether they are employed or not. This is why, in the next section, we will check this indicator when exporting the data.\n",
    "\n",
    "![](images/demandeus_d_emploi_inscrits.png \"All job seekers, unemployed and non-unemployed, who are registered with regional employment agencies and are looking for work.\") "
   ]
  },
  {
   "cell_type": "markdown",
   "metadata": {},
   "source": [
    "# Getting the data\n",
    "\n",
    "As indicated in the statement, we head over to the [amstat (fr)](https://www.amstat.ch) to get the data. \n",
    "\n",
    "Accessing the Details section, we are presented with multiple options out of which the **Chomeurs et demandeurs d'emploi** (unemployed and jobseekers) is the one of interest here. After accesing the previously mentioned option, the section **Taux de chomage** (unemployment rate) allows us to get the data we want. Accessing it, we are presented with multiple indication for the export process. Among these indicators, the following are of interest to us:\n",
    "\n",
    "> **Taux de chomage** (unemployment rate) computed as **Chomeurs inscrit** **/** **personnes actives** scaled by 100. This is the key statistic for the second map\n",
    ">\n",
    "> **Demandeurs d'employ** (jobseekers) - this is necessary for computing the unemployment rate for the first map\n",
    ">\n",
    "> **Chomeurs inscrit** (unemployed jobseekers) - necessary for computing the unemployment rate for the first map as described below\n",
    "\n",
    "We choose to get the unemployment data only for **month september** as we want to focus on the current status of Switzerland. The limitations of this decision are that we don't have an yearly context to spot, for example, seasonal trends and so we cannot make general statements about the unemployment rate based only on this data, but only related to month september\n",
    "\n",
    "There are multiple indicators when choosing what data to export and for the purposes of our task this is what the exported indicators look like:\n",
    "\n",
    "![](images/indicators_1.png)\n",
    "\n",
    "<a id='computing_data_first_map'></a>\n",
    "## Computing data for the first map\n",
    "\n",
    "By the definition, \n",
    "\n",
    ">taux de chomage = chomeurs inscrit / personnes actives * 100\n",
    "\n",
    "For the second map, we want the following new unemployment rate\n",
    "\n",
    ">new taux de chomage = demandeurs d'emploi / personnes actives * 100\n",
    "\n",
    "which can be obtain from the first one with the following formulae:\n",
    "\n",
    ">new taux de chomage = (demandeurs d'emploi)\\*(taux de chomage) / (chomeurs inscrit)"
   ]
  },
  {
   "cell_type": "markdown",
   "metadata": {},
   "source": [
    "# Working with the data\n",
    "\n",
    "\n",
    "There are multiple things we can notice when glancing at the data:\n",
    "* the first row containes additional information about some of the columns, therefore we will want to incorporate this information in the column name\n",
    "\n",
    "* column Mois seems to have only NaN values so we will want to drop it as it bring no information "
   ]
  },
  {
   "cell_type": "code",
   "execution_count": 3,
   "metadata": {
    "ExecuteTime": {
     "end_time": "2017-11-08T20:02:31.614517Z",
     "start_time": "2017-11-08T20:02:31.574289Z"
    }
   },
   "outputs": [],
   "source": [
    "data = pd.read_excel('2_1 Taux de chômage Septembre.xlsx')"
   ]
  },
  {
   "cell_type": "code",
   "execution_count": 4,
   "metadata": {
    "ExecuteTime": {
     "end_time": "2017-11-08T20:02:32.525694Z",
     "start_time": "2017-11-08T20:02:32.500240Z"
    }
   },
   "outputs": [
    {
     "data": {
      "text/html": [
       "<div>\n",
       "<style>\n",
       "    .dataframe thead tr:only-child th {\n",
       "        text-align: right;\n",
       "    }\n",
       "\n",
       "    .dataframe thead th {\n",
       "        text-align: left;\n",
       "    }\n",
       "\n",
       "    .dataframe tbody tr th {\n",
       "        vertical-align: top;\n",
       "    }\n",
       "</style>\n",
       "<table border=\"1\" class=\"dataframe\">\n",
       "  <thead>\n",
       "    <tr style=\"text-align: right;\">\n",
       "      <th></th>\n",
       "      <th>Canton</th>\n",
       "      <th>Mois</th>\n",
       "      <th>Septembre 2017</th>\n",
       "      <th>Septembre 2017.1</th>\n",
       "      <th>Septembre 2017.2</th>\n",
       "      <th>Septembre 2017.3</th>\n",
       "      <th>Septembre 2017.4</th>\n",
       "      <th>Total</th>\n",
       "      <th>Total.1</th>\n",
       "      <th>Total.2</th>\n",
       "      <th>Total.3</th>\n",
       "      <th>Total.4</th>\n",
       "    </tr>\n",
       "  </thead>\n",
       "  <tbody>\n",
       "    <tr>\n",
       "      <th>0</th>\n",
       "      <td>NaN</td>\n",
       "      <td>Mesures</td>\n",
       "      <td>Taux de chômage</td>\n",
       "      <td>Coefficients de variation</td>\n",
       "      <td>Chômeurs inscrits</td>\n",
       "      <td>Demandeurs d'emploi</td>\n",
       "      <td>Demandeurs d'emploi non chômeurs</td>\n",
       "      <td>Taux de chômage</td>\n",
       "      <td>Coefficients de variation</td>\n",
       "      <td>Chômeurs inscrits</td>\n",
       "      <td>Demandeurs d'emploi</td>\n",
       "      <td>Demandeurs d'emploi non chômeurs</td>\n",
       "    </tr>\n",
       "    <tr>\n",
       "      <th>1</th>\n",
       "      <td>Zurich</td>\n",
       "      <td>NaN</td>\n",
       "      <td>3.3</td>\n",
       "      <td>A</td>\n",
       "      <td>27225</td>\n",
       "      <td>34156</td>\n",
       "      <td>6931</td>\n",
       "      <td>3.3</td>\n",
       "      <td>A</td>\n",
       "      <td>27225</td>\n",
       "      <td>34156</td>\n",
       "      <td>6931</td>\n",
       "    </tr>\n",
       "    <tr>\n",
       "      <th>2</th>\n",
       "      <td>Berne</td>\n",
       "      <td>NaN</td>\n",
       "      <td>2.4</td>\n",
       "      <td>A</td>\n",
       "      <td>13658</td>\n",
       "      <td>18385</td>\n",
       "      <td>4727</td>\n",
       "      <td>2.4</td>\n",
       "      <td>A</td>\n",
       "      <td>13658</td>\n",
       "      <td>18385</td>\n",
       "      <td>4727</td>\n",
       "    </tr>\n",
       "    <tr>\n",
       "      <th>3</th>\n",
       "      <td>Lucerne</td>\n",
       "      <td>NaN</td>\n",
       "      <td>1.7</td>\n",
       "      <td>A</td>\n",
       "      <td>3885</td>\n",
       "      <td>6756</td>\n",
       "      <td>2871</td>\n",
       "      <td>1.7</td>\n",
       "      <td>A</td>\n",
       "      <td>3885</td>\n",
       "      <td>6756</td>\n",
       "      <td>2871</td>\n",
       "    </tr>\n",
       "    <tr>\n",
       "      <th>4</th>\n",
       "      <td>Uri</td>\n",
       "      <td>NaN</td>\n",
       "      <td>0.6</td>\n",
       "      <td>C</td>\n",
       "      <td>112</td>\n",
       "      <td>257</td>\n",
       "      <td>145</td>\n",
       "      <td>0.6</td>\n",
       "      <td>C</td>\n",
       "      <td>112</td>\n",
       "      <td>257</td>\n",
       "      <td>145</td>\n",
       "    </tr>\n",
       "  </tbody>\n",
       "</table>\n",
       "</div>"
      ],
      "text/plain": [
       "    Canton     Mois   Septembre 2017           Septembre 2017.1  \\\n",
       "0      NaN  Mesures  Taux de chômage  Coefficients de variation   \n",
       "1   Zurich      NaN              3.3                          A   \n",
       "2    Berne      NaN              2.4                          A   \n",
       "3  Lucerne      NaN              1.7                          A   \n",
       "4      Uri      NaN              0.6                          C   \n",
       "\n",
       "    Septembre 2017.2     Septembre 2017.3                  Septembre 2017.4  \\\n",
       "0  Chômeurs inscrits  Demandeurs d'emploi  Demandeurs d'emploi non chômeurs   \n",
       "1              27225                34156                              6931   \n",
       "2              13658                18385                              4727   \n",
       "3               3885                 6756                              2871   \n",
       "4                112                  257                               145   \n",
       "\n",
       "             Total                    Total.1            Total.2  \\\n",
       "0  Taux de chômage  Coefficients de variation  Chômeurs inscrits   \n",
       "1              3.3                          A              27225   \n",
       "2              2.4                          A              13658   \n",
       "3              1.7                          A               3885   \n",
       "4              0.6                          C                112   \n",
       "\n",
       "               Total.3                           Total.4  \n",
       "0  Demandeurs d'emploi  Demandeurs d'emploi non chômeurs  \n",
       "1                34156                              6931  \n",
       "2                18385                              4727  \n",
       "3                 6756                              2871  \n",
       "4                  257                               145  "
      ]
     },
     "execution_count": 4,
     "metadata": {},
     "output_type": "execute_result"
    }
   ],
   "source": [
    "data.head()"
   ]
  },
  {
   "cell_type": "markdown",
   "metadata": {},
   "source": [
    "## Inspecting the data\n",
    "\n",
    "As presumed, the column *Mois*, excepting the first row that does not contain actual unemployment data, all of the values are NaNs so we decide to drop it"
   ]
  },
  {
   "cell_type": "code",
   "execution_count": 5,
   "metadata": {
    "ExecuteTime": {
     "end_time": "2017-11-08T20:02:55.877232Z",
     "start_time": "2017-11-08T20:02:55.873495Z"
    }
   },
   "outputs": [
    {
     "data": {
      "text/plain": [
       "False"
      ]
     },
     "execution_count": 5,
     "metadata": {},
     "output_type": "execute_result"
    }
   ],
   "source": [
    "data[1:]['Mois'].any()"
   ]
  },
  {
   "cell_type": "code",
   "execution_count": 6,
   "metadata": {
    "ExecuteTime": {
     "end_time": "2017-11-08T20:02:56.326565Z",
     "start_time": "2017-11-08T20:02:56.295509Z"
    }
   },
   "outputs": [
    {
     "data": {
      "text/html": [
       "<div>\n",
       "<style>\n",
       "    .dataframe thead tr:only-child th {\n",
       "        text-align: right;\n",
       "    }\n",
       "\n",
       "    .dataframe thead th {\n",
       "        text-align: left;\n",
       "    }\n",
       "\n",
       "    .dataframe tbody tr th {\n",
       "        vertical-align: top;\n",
       "    }\n",
       "</style>\n",
       "<table border=\"1\" class=\"dataframe\">\n",
       "  <thead>\n",
       "    <tr style=\"text-align: right;\">\n",
       "      <th></th>\n",
       "      <th>Canton</th>\n",
       "      <th>Septembre 2017</th>\n",
       "      <th>Septembre 2017.1</th>\n",
       "      <th>Septembre 2017.2</th>\n",
       "      <th>Septembre 2017.3</th>\n",
       "      <th>Septembre 2017.4</th>\n",
       "      <th>Total</th>\n",
       "      <th>Total.1</th>\n",
       "      <th>Total.2</th>\n",
       "      <th>Total.3</th>\n",
       "      <th>Total.4</th>\n",
       "    </tr>\n",
       "  </thead>\n",
       "  <tbody>\n",
       "    <tr>\n",
       "      <th>0</th>\n",
       "      <td>NaN</td>\n",
       "      <td>Taux de chômage</td>\n",
       "      <td>Coefficients de variation</td>\n",
       "      <td>Chômeurs inscrits</td>\n",
       "      <td>Demandeurs d'emploi</td>\n",
       "      <td>Demandeurs d'emploi non chômeurs</td>\n",
       "      <td>Taux de chômage</td>\n",
       "      <td>Coefficients de variation</td>\n",
       "      <td>Chômeurs inscrits</td>\n",
       "      <td>Demandeurs d'emploi</td>\n",
       "      <td>Demandeurs d'emploi non chômeurs</td>\n",
       "    </tr>\n",
       "    <tr>\n",
       "      <th>1</th>\n",
       "      <td>Zurich</td>\n",
       "      <td>3.3</td>\n",
       "      <td>A</td>\n",
       "      <td>27225</td>\n",
       "      <td>34156</td>\n",
       "      <td>6931</td>\n",
       "      <td>3.3</td>\n",
       "      <td>A</td>\n",
       "      <td>27225</td>\n",
       "      <td>34156</td>\n",
       "      <td>6931</td>\n",
       "    </tr>\n",
       "    <tr>\n",
       "      <th>2</th>\n",
       "      <td>Berne</td>\n",
       "      <td>2.4</td>\n",
       "      <td>A</td>\n",
       "      <td>13658</td>\n",
       "      <td>18385</td>\n",
       "      <td>4727</td>\n",
       "      <td>2.4</td>\n",
       "      <td>A</td>\n",
       "      <td>13658</td>\n",
       "      <td>18385</td>\n",
       "      <td>4727</td>\n",
       "    </tr>\n",
       "    <tr>\n",
       "      <th>3</th>\n",
       "      <td>Lucerne</td>\n",
       "      <td>1.7</td>\n",
       "      <td>A</td>\n",
       "      <td>3885</td>\n",
       "      <td>6756</td>\n",
       "      <td>2871</td>\n",
       "      <td>1.7</td>\n",
       "      <td>A</td>\n",
       "      <td>3885</td>\n",
       "      <td>6756</td>\n",
       "      <td>2871</td>\n",
       "    </tr>\n",
       "    <tr>\n",
       "      <th>4</th>\n",
       "      <td>Uri</td>\n",
       "      <td>0.6</td>\n",
       "      <td>C</td>\n",
       "      <td>112</td>\n",
       "      <td>257</td>\n",
       "      <td>145</td>\n",
       "      <td>0.6</td>\n",
       "      <td>C</td>\n",
       "      <td>112</td>\n",
       "      <td>257</td>\n",
       "      <td>145</td>\n",
       "    </tr>\n",
       "  </tbody>\n",
       "</table>\n",
       "</div>"
      ],
      "text/plain": [
       "    Canton   Septembre 2017           Septembre 2017.1   Septembre 2017.2  \\\n",
       "0      NaN  Taux de chômage  Coefficients de variation  Chômeurs inscrits   \n",
       "1   Zurich              3.3                          A              27225   \n",
       "2    Berne              2.4                          A              13658   \n",
       "3  Lucerne              1.7                          A               3885   \n",
       "4      Uri              0.6                          C                112   \n",
       "\n",
       "      Septembre 2017.3                  Septembre 2017.4            Total  \\\n",
       "0  Demandeurs d'emploi  Demandeurs d'emploi non chômeurs  Taux de chômage   \n",
       "1                34156                              6931              3.3   \n",
       "2                18385                              4727              2.4   \n",
       "3                 6756                              2871              1.7   \n",
       "4                  257                               145              0.6   \n",
       "\n",
       "                     Total.1            Total.2              Total.3  \\\n",
       "0  Coefficients de variation  Chômeurs inscrits  Demandeurs d'emploi   \n",
       "1                          A              27225                34156   \n",
       "2                          A              13658                18385   \n",
       "3                          A               3885                 6756   \n",
       "4                          C                112                  257   \n",
       "\n",
       "                            Total.4  \n",
       "0  Demandeurs d'emploi non chômeurs  \n",
       "1                              6931  \n",
       "2                              4727  \n",
       "3                              2871  \n",
       "4                               145  "
      ]
     },
     "execution_count": 6,
     "metadata": {},
     "output_type": "execute_result"
    }
   ],
   "source": [
    "data = data.drop('Mois', axis=1)\n",
    "data.head()"
   ]
  },
  {
   "cell_type": "markdown",
   "metadata": {},
   "source": [
    "## Creating meaningful columns \n",
    "\n",
    "Having descriptional information on the first row (as exported by the amstat site) we plan on transforming the dataframe by creating hierarchical columns where the first level is the month and the second level is the aditional information from the first row.\n",
    "\n",
    "For this purpose, we create a separate DataFrame with two columns: the month and the corresponding information. We will use this dataframe to create a MultiIndex which will be set as columns.\n",
    "\n",
    "We use a regular expression to extract the month and the year from the column names or the word *Total* for the last columns.\n",
    "\n",
    "**Note**:\n",
    "A problematic case is the Canton column where the first row has no additional information. We solve this by setting this column as index, we then process the dataframe and afterwards we reset the index so that we have the Canton as column, needed for the Choropleth map."
   ]
  },
  {
   "cell_type": "code",
   "execution_count": 10,
   "metadata": {
    "ExecuteTime": {
     "end_time": "2017-11-08T20:06:38.910728Z",
     "start_time": "2017-11-08T20:06:38.886677Z"
    }
   },
   "outputs": [
    {
     "data": {
      "text/html": [
       "<div>\n",
       "<style>\n",
       "    .dataframe thead tr:only-child th {\n",
       "        text-align: right;\n",
       "    }\n",
       "\n",
       "    .dataframe thead th {\n",
       "        text-align: left;\n",
       "    }\n",
       "\n",
       "    .dataframe tbody tr th {\n",
       "        vertical-align: top;\n",
       "    }\n",
       "</style>\n",
       "<table border=\"1\" class=\"dataframe\">\n",
       "  <thead>\n",
       "    <tr style=\"text-align: right;\">\n",
       "      <th></th>\n",
       "      <th>Septembre 2017</th>\n",
       "      <th>Septembre 2017.1</th>\n",
       "      <th>Septembre 2017.2</th>\n",
       "      <th>Septembre 2017.3</th>\n",
       "      <th>Septembre 2017.4</th>\n",
       "      <th>Total</th>\n",
       "      <th>Total.1</th>\n",
       "      <th>Total.2</th>\n",
       "      <th>Total.3</th>\n",
       "      <th>Total.4</th>\n",
       "    </tr>\n",
       "    <tr>\n",
       "      <th>Canton</th>\n",
       "      <th></th>\n",
       "      <th></th>\n",
       "      <th></th>\n",
       "      <th></th>\n",
       "      <th></th>\n",
       "      <th></th>\n",
       "      <th></th>\n",
       "      <th></th>\n",
       "      <th></th>\n",
       "      <th></th>\n",
       "    </tr>\n",
       "  </thead>\n",
       "  <tbody>\n",
       "    <tr>\n",
       "      <th>NaN</th>\n",
       "      <td>Taux de chômage</td>\n",
       "      <td>Coefficients de variation</td>\n",
       "      <td>Chômeurs inscrits</td>\n",
       "      <td>Demandeurs d'emploi</td>\n",
       "      <td>Demandeurs d'emploi non chômeurs</td>\n",
       "      <td>Taux de chômage</td>\n",
       "      <td>Coefficients de variation</td>\n",
       "      <td>Chômeurs inscrits</td>\n",
       "      <td>Demandeurs d'emploi</td>\n",
       "      <td>Demandeurs d'emploi non chômeurs</td>\n",
       "    </tr>\n",
       "    <tr>\n",
       "      <th>Zurich</th>\n",
       "      <td>3.3</td>\n",
       "      <td>A</td>\n",
       "      <td>27225</td>\n",
       "      <td>34156</td>\n",
       "      <td>6931</td>\n",
       "      <td>3.3</td>\n",
       "      <td>A</td>\n",
       "      <td>27225</td>\n",
       "      <td>34156</td>\n",
       "      <td>6931</td>\n",
       "    </tr>\n",
       "    <tr>\n",
       "      <th>Berne</th>\n",
       "      <td>2.4</td>\n",
       "      <td>A</td>\n",
       "      <td>13658</td>\n",
       "      <td>18385</td>\n",
       "      <td>4727</td>\n",
       "      <td>2.4</td>\n",
       "      <td>A</td>\n",
       "      <td>13658</td>\n",
       "      <td>18385</td>\n",
       "      <td>4727</td>\n",
       "    </tr>\n",
       "    <tr>\n",
       "      <th>Lucerne</th>\n",
       "      <td>1.7</td>\n",
       "      <td>A</td>\n",
       "      <td>3885</td>\n",
       "      <td>6756</td>\n",
       "      <td>2871</td>\n",
       "      <td>1.7</td>\n",
       "      <td>A</td>\n",
       "      <td>3885</td>\n",
       "      <td>6756</td>\n",
       "      <td>2871</td>\n",
       "    </tr>\n",
       "    <tr>\n",
       "      <th>Uri</th>\n",
       "      <td>0.6</td>\n",
       "      <td>C</td>\n",
       "      <td>112</td>\n",
       "      <td>257</td>\n",
       "      <td>145</td>\n",
       "      <td>0.6</td>\n",
       "      <td>C</td>\n",
       "      <td>112</td>\n",
       "      <td>257</td>\n",
       "      <td>145</td>\n",
       "    </tr>\n",
       "  </tbody>\n",
       "</table>\n",
       "</div>"
      ],
      "text/plain": [
       "          Septembre 2017           Septembre 2017.1   Septembre 2017.2  \\\n",
       "Canton                                                                   \n",
       "NaN      Taux de chômage  Coefficients de variation  Chômeurs inscrits   \n",
       "Zurich               3.3                          A              27225   \n",
       "Berne                2.4                          A              13658   \n",
       "Lucerne              1.7                          A               3885   \n",
       "Uri                  0.6                          C                112   \n",
       "\n",
       "            Septembre 2017.3                  Septembre 2017.4  \\\n",
       "Canton                                                           \n",
       "NaN      Demandeurs d'emploi  Demandeurs d'emploi non chômeurs   \n",
       "Zurich                 34156                              6931   \n",
       "Berne                  18385                              4727   \n",
       "Lucerne                 6756                              2871   \n",
       "Uri                      257                               145   \n",
       "\n",
       "                   Total                    Total.1            Total.2  \\\n",
       "Canton                                                                   \n",
       "NaN      Taux de chômage  Coefficients de variation  Chômeurs inscrits   \n",
       "Zurich               3.3                          A              27225   \n",
       "Berne                2.4                          A              13658   \n",
       "Lucerne              1.7                          A               3885   \n",
       "Uri                  0.6                          C                112   \n",
       "\n",
       "                     Total.3                           Total.4  \n",
       "Canton                                                          \n",
       "NaN      Demandeurs d'emploi  Demandeurs d'emploi non chômeurs  \n",
       "Zurich                 34156                              6931  \n",
       "Berne                  18385                              4727  \n",
       "Lucerne                 6756                              2871  \n",
       "Uri                      257                               145  "
      ]
     },
     "execution_count": 10,
     "metadata": {},
     "output_type": "execute_result"
    }
   ],
   "source": [
    "canton_indexed_data = data.set_index('Canton')\n",
    "canton_indexed_data.head()"
   ]
  },
  {
   "cell_type": "code",
   "execution_count": 11,
   "metadata": {
    "ExecuteTime": {
     "end_time": "2017-11-08T20:06:39.119344Z",
     "start_time": "2017-11-08T20:06:39.061326Z"
    }
   },
   "outputs": [
    {
     "data": {
      "text/html": [
       "<div>\n",
       "<style>\n",
       "    .dataframe thead tr:only-child th {\n",
       "        text-align: right;\n",
       "    }\n",
       "\n",
       "    .dataframe thead th {\n",
       "        text-align: left;\n",
       "    }\n",
       "\n",
       "    .dataframe tbody tr th {\n",
       "        vertical-align: top;\n",
       "    }\n",
       "</style>\n",
       "<table border=\"1\" class=\"dataframe\">\n",
       "  <thead>\n",
       "    <tr>\n",
       "      <th></th>\n",
       "      <th colspan=\"5\" halign=\"left\">Septembre 2017</th>\n",
       "      <th colspan=\"5\" halign=\"left\">Total</th>\n",
       "    </tr>\n",
       "    <tr>\n",
       "      <th></th>\n",
       "      <th>Taux de chômage</th>\n",
       "      <th>Coefficients de variation</th>\n",
       "      <th>Chômeurs inscrits</th>\n",
       "      <th>Demandeurs d'emploi</th>\n",
       "      <th>Demandeurs d'emploi non chômeurs</th>\n",
       "      <th>Taux de chômage</th>\n",
       "      <th>Coefficients de variation</th>\n",
       "      <th>Chômeurs inscrits</th>\n",
       "      <th>Demandeurs d'emploi</th>\n",
       "      <th>Demandeurs d'emploi non chômeurs</th>\n",
       "    </tr>\n",
       "    <tr>\n",
       "      <th>Canton</th>\n",
       "      <th></th>\n",
       "      <th></th>\n",
       "      <th></th>\n",
       "      <th></th>\n",
       "      <th></th>\n",
       "      <th></th>\n",
       "      <th></th>\n",
       "      <th></th>\n",
       "      <th></th>\n",
       "      <th></th>\n",
       "    </tr>\n",
       "  </thead>\n",
       "  <tbody>\n",
       "    <tr>\n",
       "      <th>Zurich</th>\n",
       "      <td>3.3</td>\n",
       "      <td>A</td>\n",
       "      <td>27225</td>\n",
       "      <td>34156</td>\n",
       "      <td>6931</td>\n",
       "      <td>3.3</td>\n",
       "      <td>A</td>\n",
       "      <td>27225</td>\n",
       "      <td>34156</td>\n",
       "      <td>6931</td>\n",
       "    </tr>\n",
       "    <tr>\n",
       "      <th>Berne</th>\n",
       "      <td>2.4</td>\n",
       "      <td>A</td>\n",
       "      <td>13658</td>\n",
       "      <td>18385</td>\n",
       "      <td>4727</td>\n",
       "      <td>2.4</td>\n",
       "      <td>A</td>\n",
       "      <td>13658</td>\n",
       "      <td>18385</td>\n",
       "      <td>4727</td>\n",
       "    </tr>\n",
       "    <tr>\n",
       "      <th>Lucerne</th>\n",
       "      <td>1.7</td>\n",
       "      <td>A</td>\n",
       "      <td>3885</td>\n",
       "      <td>6756</td>\n",
       "      <td>2871</td>\n",
       "      <td>1.7</td>\n",
       "      <td>A</td>\n",
       "      <td>3885</td>\n",
       "      <td>6756</td>\n",
       "      <td>2871</td>\n",
       "    </tr>\n",
       "    <tr>\n",
       "      <th>Uri</th>\n",
       "      <td>0.6</td>\n",
       "      <td>C</td>\n",
       "      <td>112</td>\n",
       "      <td>257</td>\n",
       "      <td>145</td>\n",
       "      <td>0.6</td>\n",
       "      <td>C</td>\n",
       "      <td>112</td>\n",
       "      <td>257</td>\n",
       "      <td>145</td>\n",
       "    </tr>\n",
       "    <tr>\n",
       "      <th>Schwyz</th>\n",
       "      <td>1.7</td>\n",
       "      <td>A</td>\n",
       "      <td>1455</td>\n",
       "      <td>2229</td>\n",
       "      <td>774</td>\n",
       "      <td>1.7</td>\n",
       "      <td>A</td>\n",
       "      <td>1455</td>\n",
       "      <td>2229</td>\n",
       "      <td>774</td>\n",
       "    </tr>\n",
       "  </tbody>\n",
       "</table>\n",
       "</div>"
      ],
      "text/plain": [
       "         Septembre 2017                                              \\\n",
       "        Taux de chômage Coefficients de variation Chômeurs inscrits   \n",
       "Canton                                                                \n",
       "Zurich              3.3                         A             27225   \n",
       "Berne               2.4                         A             13658   \n",
       "Lucerne             1.7                         A              3885   \n",
       "Uri                 0.6                         C               112   \n",
       "Schwyz              1.7                         A              1455   \n",
       "\n",
       "                                                                       Total  \\\n",
       "        Demandeurs d'emploi Demandeurs d'emploi non chômeurs Taux de chômage   \n",
       "Canton                                                                         \n",
       "Zurich                34156                             6931             3.3   \n",
       "Berne                 18385                             4727             2.4   \n",
       "Lucerne                6756                             2871             1.7   \n",
       "Uri                     257                              145             0.6   \n",
       "Schwyz                 2229                              774             1.7   \n",
       "\n",
       "                                                                         \\\n",
       "        Coefficients de variation Chômeurs inscrits Demandeurs d'emploi   \n",
       "Canton                                                                    \n",
       "Zurich                          A             27225               34156   \n",
       "Berne                           A             13658               18385   \n",
       "Lucerne                         A              3885                6756   \n",
       "Uri                             C               112                 257   \n",
       "Schwyz                          A              1455                2229   \n",
       "\n",
       "                                          \n",
       "        Demandeurs d'emploi non chômeurs  \n",
       "Canton                                    \n",
       "Zurich                              6931  \n",
       "Berne                               4727  \n",
       "Lucerne                             2871  \n",
       "Uri                                  145  \n",
       "Schwyz                               774  "
      ]
     },
     "metadata": {},
     "output_type": "display_data"
    },
    {
     "data": {
      "text/html": [
       "<div>\n",
       "<style>\n",
       "    .dataframe thead tr:only-child th {\n",
       "        text-align: right;\n",
       "    }\n",
       "\n",
       "    .dataframe thead th {\n",
       "        text-align: left;\n",
       "    }\n",
       "\n",
       "    .dataframe tbody tr th {\n",
       "        vertical-align: top;\n",
       "    }\n",
       "</style>\n",
       "<table border=\"1\" class=\"dataframe\">\n",
       "  <thead>\n",
       "    <tr>\n",
       "      <th></th>\n",
       "      <th colspan=\"5\" halign=\"left\">Septembre 2017</th>\n",
       "      <th colspan=\"5\" halign=\"left\">Total</th>\n",
       "    </tr>\n",
       "    <tr>\n",
       "      <th></th>\n",
       "      <th>Taux de chômage</th>\n",
       "      <th>Coefficients de variation</th>\n",
       "      <th>Chômeurs inscrits</th>\n",
       "      <th>Demandeurs d'emploi</th>\n",
       "      <th>Demandeurs d'emploi non chômeurs</th>\n",
       "      <th>Taux de chômage</th>\n",
       "      <th>Coefficients de variation</th>\n",
       "      <th>Chômeurs inscrits</th>\n",
       "      <th>Demandeurs d'emploi</th>\n",
       "      <th>Demandeurs d'emploi non chômeurs</th>\n",
       "    </tr>\n",
       "    <tr>\n",
       "      <th>Canton</th>\n",
       "      <th></th>\n",
       "      <th></th>\n",
       "      <th></th>\n",
       "      <th></th>\n",
       "      <th></th>\n",
       "      <th></th>\n",
       "      <th></th>\n",
       "      <th></th>\n",
       "      <th></th>\n",
       "      <th></th>\n",
       "    </tr>\n",
       "  </thead>\n",
       "  <tbody>\n",
       "    <tr>\n",
       "      <th>Valais</th>\n",
       "      <td>2.8</td>\n",
       "      <td>A</td>\n",
       "      <td>4816</td>\n",
       "      <td>8027</td>\n",
       "      <td>3211</td>\n",
       "      <td>2.8</td>\n",
       "      <td>A</td>\n",
       "      <td>4816</td>\n",
       "      <td>8027</td>\n",
       "      <td>3211</td>\n",
       "    </tr>\n",
       "    <tr>\n",
       "      <th>Neuchâtel</th>\n",
       "      <td>5.1</td>\n",
       "      <td>A</td>\n",
       "      <td>4738</td>\n",
       "      <td>6350</td>\n",
       "      <td>1612</td>\n",
       "      <td>5.1</td>\n",
       "      <td>A</td>\n",
       "      <td>4738</td>\n",
       "      <td>6350</td>\n",
       "      <td>1612</td>\n",
       "    </tr>\n",
       "    <tr>\n",
       "      <th>Genève</th>\n",
       "      <td>5.2</td>\n",
       "      <td>A</td>\n",
       "      <td>12234</td>\n",
       "      <td>15497</td>\n",
       "      <td>3263</td>\n",
       "      <td>5.2</td>\n",
       "      <td>A</td>\n",
       "      <td>12234</td>\n",
       "      <td>15497</td>\n",
       "      <td>3263</td>\n",
       "    </tr>\n",
       "    <tr>\n",
       "      <th>Jura</th>\n",
       "      <td>4.4</td>\n",
       "      <td>B</td>\n",
       "      <td>1619</td>\n",
       "      <td>2375</td>\n",
       "      <td>756</td>\n",
       "      <td>4.4</td>\n",
       "      <td>B</td>\n",
       "      <td>1619</td>\n",
       "      <td>2375</td>\n",
       "      <td>756</td>\n",
       "    </tr>\n",
       "    <tr>\n",
       "      <th>Total</th>\n",
       "      <td>3</td>\n",
       "      <td>A</td>\n",
       "      <td>133169</td>\n",
       "      <td>193624</td>\n",
       "      <td>60455</td>\n",
       "      <td>3</td>\n",
       "      <td>A</td>\n",
       "      <td>133169</td>\n",
       "      <td>193624</td>\n",
       "      <td>60455</td>\n",
       "    </tr>\n",
       "  </tbody>\n",
       "</table>\n",
       "</div>"
      ],
      "text/plain": [
       "           Septembre 2017                                              \\\n",
       "          Taux de chômage Coefficients de variation Chômeurs inscrits   \n",
       "Canton                                                                  \n",
       "Valais                2.8                         A              4816   \n",
       "Neuchâtel             5.1                         A              4738   \n",
       "Genève                5.2                         A             12234   \n",
       "Jura                  4.4                         B              1619   \n",
       "Total                   3                         A            133169   \n",
       "\n",
       "                                                                \\\n",
       "          Demandeurs d'emploi Demandeurs d'emploi non chômeurs   \n",
       "Canton                                                           \n",
       "Valais                   8027                             3211   \n",
       "Neuchâtel                6350                             1612   \n",
       "Genève                  15497                             3263   \n",
       "Jura                     2375                              756   \n",
       "Total                  193624                            60455   \n",
       "\n",
       "                    Total                                              \\\n",
       "          Taux de chômage Coefficients de variation Chômeurs inscrits   \n",
       "Canton                                                                  \n",
       "Valais                2.8                         A              4816   \n",
       "Neuchâtel             5.1                         A              4738   \n",
       "Genève                5.2                         A             12234   \n",
       "Jura                  4.4                         B              1619   \n",
       "Total                   3                         A            133169   \n",
       "\n",
       "                                                                \n",
       "          Demandeurs d'emploi Demandeurs d'emploi non chômeurs  \n",
       "Canton                                                          \n",
       "Valais                   8027                             3211  \n",
       "Neuchâtel                6350                             1612  \n",
       "Genève                  15497                             3263  \n",
       "Jura                     2375                              756  \n",
       "Total                  193624                            60455  "
      ]
     },
     "metadata": {},
     "output_type": "display_data"
    }
   ],
   "source": [
    "columns_info = canton_indexed_data.iloc[0].values\n",
    "canton_indexed_data.drop(canton_indexed_data.index[0], inplace=True)\n",
    "\n",
    "columns_months = canton_indexed_data.columns.str.extract(r'(.* \\d+|Total)', expand=True).values.reshape(columns_info.shape)\n",
    "\n",
    "canton_indexed_data.columns = pd.MultiIndex.from_arrays((columns_months.tolist(), columns_info.tolist()))\n",
    "\n",
    "display(canton_indexed_data.head())\n",
    "display(canton_indexed_data.tail())"
   ]
  },
  {
   "cell_type": "markdown",
   "metadata": {},
   "source": [
    "We have the DataFrame columns properly formatted. We now reset the index to have the cantons as a column.\n",
    "\n",
    "Additionally, we skip the last line in the dataframe as it aggregates the information about the cantons, information which we are not using in our choropleth map."
   ]
  },
  {
   "cell_type": "code",
   "execution_count": 12,
   "metadata": {
    "ExecuteTime": {
     "end_time": "2017-11-08T20:06:39.443634Z",
     "start_time": "2017-11-08T20:06:39.424197Z"
    }
   },
   "outputs": [
    {
     "data": {
      "text/html": [
       "<div>\n",
       "<style>\n",
       "    .dataframe thead tr:only-child th {\n",
       "        text-align: right;\n",
       "    }\n",
       "\n",
       "    .dataframe thead th {\n",
       "        text-align: left;\n",
       "    }\n",
       "\n",
       "    .dataframe tbody tr th {\n",
       "        vertical-align: top;\n",
       "    }\n",
       "</style>\n",
       "<table border=\"1\" class=\"dataframe\">\n",
       "  <thead>\n",
       "    <tr>\n",
       "      <th></th>\n",
       "      <th>Canton</th>\n",
       "      <th colspan=\"5\" halign=\"left\">Septembre 2017</th>\n",
       "      <th colspan=\"5\" halign=\"left\">Total</th>\n",
       "    </tr>\n",
       "    <tr>\n",
       "      <th></th>\n",
       "      <th></th>\n",
       "      <th>Taux de chômage</th>\n",
       "      <th>Coefficients de variation</th>\n",
       "      <th>Chômeurs inscrits</th>\n",
       "      <th>Demandeurs d'emploi</th>\n",
       "      <th>Demandeurs d'emploi non chômeurs</th>\n",
       "      <th>Taux de chômage</th>\n",
       "      <th>Coefficients de variation</th>\n",
       "      <th>Chômeurs inscrits</th>\n",
       "      <th>Demandeurs d'emploi</th>\n",
       "      <th>Demandeurs d'emploi non chômeurs</th>\n",
       "    </tr>\n",
       "  </thead>\n",
       "  <tbody>\n",
       "    <tr>\n",
       "      <th>0</th>\n",
       "      <td>Zurich</td>\n",
       "      <td>3.3</td>\n",
       "      <td>A</td>\n",
       "      <td>27225</td>\n",
       "      <td>34156</td>\n",
       "      <td>6931</td>\n",
       "      <td>3.3</td>\n",
       "      <td>A</td>\n",
       "      <td>27225</td>\n",
       "      <td>34156</td>\n",
       "      <td>6931</td>\n",
       "    </tr>\n",
       "    <tr>\n",
       "      <th>1</th>\n",
       "      <td>Berne</td>\n",
       "      <td>2.4</td>\n",
       "      <td>A</td>\n",
       "      <td>13658</td>\n",
       "      <td>18385</td>\n",
       "      <td>4727</td>\n",
       "      <td>2.4</td>\n",
       "      <td>A</td>\n",
       "      <td>13658</td>\n",
       "      <td>18385</td>\n",
       "      <td>4727</td>\n",
       "    </tr>\n",
       "    <tr>\n",
       "      <th>2</th>\n",
       "      <td>Lucerne</td>\n",
       "      <td>1.7</td>\n",
       "      <td>A</td>\n",
       "      <td>3885</td>\n",
       "      <td>6756</td>\n",
       "      <td>2871</td>\n",
       "      <td>1.7</td>\n",
       "      <td>A</td>\n",
       "      <td>3885</td>\n",
       "      <td>6756</td>\n",
       "      <td>2871</td>\n",
       "    </tr>\n",
       "    <tr>\n",
       "      <th>3</th>\n",
       "      <td>Uri</td>\n",
       "      <td>0.6</td>\n",
       "      <td>C</td>\n",
       "      <td>112</td>\n",
       "      <td>257</td>\n",
       "      <td>145</td>\n",
       "      <td>0.6</td>\n",
       "      <td>C</td>\n",
       "      <td>112</td>\n",
       "      <td>257</td>\n",
       "      <td>145</td>\n",
       "    </tr>\n",
       "    <tr>\n",
       "      <th>4</th>\n",
       "      <td>Schwyz</td>\n",
       "      <td>1.7</td>\n",
       "      <td>A</td>\n",
       "      <td>1455</td>\n",
       "      <td>2229</td>\n",
       "      <td>774</td>\n",
       "      <td>1.7</td>\n",
       "      <td>A</td>\n",
       "      <td>1455</td>\n",
       "      <td>2229</td>\n",
       "      <td>774</td>\n",
       "    </tr>\n",
       "  </tbody>\n",
       "</table>\n",
       "</div>"
      ],
      "text/plain": [
       "    Canton  Septembre 2017                                              \\\n",
       "           Taux de chômage Coefficients de variation Chômeurs inscrits   \n",
       "0   Zurich             3.3                         A             27225   \n",
       "1    Berne             2.4                         A             13658   \n",
       "2  Lucerne             1.7                         A              3885   \n",
       "3      Uri             0.6                         C               112   \n",
       "4   Schwyz             1.7                         A              1455   \n",
       "\n",
       "                                                                 Total  \\\n",
       "  Demandeurs d'emploi Demandeurs d'emploi non chômeurs Taux de chômage   \n",
       "0               34156                             6931             3.3   \n",
       "1               18385                             4727             2.4   \n",
       "2                6756                             2871             1.7   \n",
       "3                 257                              145             0.6   \n",
       "4                2229                              774             1.7   \n",
       "\n",
       "                                                                   \\\n",
       "  Coefficients de variation Chômeurs inscrits Demandeurs d'emploi   \n",
       "0                         A             27225               34156   \n",
       "1                         A             13658               18385   \n",
       "2                         A              3885                6756   \n",
       "3                         C               112                 257   \n",
       "4                         A              1455                2229   \n",
       "\n",
       "                                    \n",
       "  Demandeurs d'emploi non chômeurs  \n",
       "0                             6931  \n",
       "1                             4727  \n",
       "2                             2871  \n",
       "3                              145  \n",
       "4                              774  "
      ]
     },
     "execution_count": 12,
     "metadata": {},
     "output_type": "execute_result"
    }
   ],
   "source": [
    "cantons_data = canton_indexed_data.reset_index()[:-1]\n",
    "cantons_data.head()"
   ]
  },
  {
   "cell_type": "markdown",
   "metadata": {},
   "source": [
    "## Data values types"
   ]
  },
  {
   "cell_type": "markdown",
   "metadata": {},
   "source": [
    "By calling the info method on the loaded data, we notice that where we would expect the values to be numbers, they are actually objects. This means we have to parse them to numbers in order to use them with the Choropleth map. "
   ]
  },
  {
   "cell_type": "code",
   "execution_count": 13,
   "metadata": {
    "ExecuteTime": {
     "end_time": "2017-11-08T20:06:40.612601Z",
     "start_time": "2017-11-08T20:06:40.541013Z"
    },
    "scrolled": true
   },
   "outputs": [
    {
     "name": "stdout",
     "output_type": "stream",
     "text": [
      "<class 'pandas.core.frame.DataFrame'>\n",
      "RangeIndex: 26 entries, 0 to 25\n",
      "Data columns (total 11 columns):\n",
      "(Canton, )                                            26 non-null object\n",
      "(Septembre 2017, Taux de chômage)                     26 non-null object\n",
      "(Septembre 2017, Coefficients de variation)           26 non-null object\n",
      "(Septembre 2017, Chômeurs inscrits)                   26 non-null object\n",
      "(Septembre 2017, Demandeurs d'emploi)                 26 non-null object\n",
      "(Septembre 2017, Demandeurs d'emploi non chômeurs)    26 non-null object\n",
      "(Total, Taux de chômage)                              26 non-null object\n",
      "(Total, Coefficients de variation)                    26 non-null object\n",
      "(Total, Chômeurs inscrits)                            26 non-null object\n",
      "(Total, Demandeurs d'emploi)                          26 non-null object\n",
      "(Total, Demandeurs d'emploi non chômeurs)             26 non-null object\n",
      "dtypes: object(11)\n",
      "memory usage: 2.3+ KB\n"
     ]
    }
   ],
   "source": [
    "cantons_data.info()"
   ]
  },
  {
   "cell_type": "markdown",
   "metadata": {},
   "source": [
    "We convert just the values corresponding to month September as they are the ones we are working with."
   ]
  },
  {
   "cell_type": "code",
   "execution_count": 23,
   "metadata": {
    "ExecuteTime": {
     "end_time": "2017-11-08T20:19:24.154360Z",
     "start_time": "2017-11-08T20:19:24.104531Z"
    }
   },
   "outputs": [],
   "source": [
    "cantons_data[('Septembre 2017', 'Taux de chômage')] = cantons_data[('Septembre 2017', 'Taux de chômage')].astype(float)\n",
    "cantons_data[('Septembre 2017', 'Demandeurs d\\'emploi')] = cantons_data[('Septembre 2017', 'Demandeurs d\\'emploi')].astype(float)\n",
    "cantons_data[('Septembre 2017', 'Chômeurs inscrits')] = cantons_data[('Septembre 2017', 'Chômeurs inscrits')].astype(float)"
   ]
  },
  {
   "cell_type": "markdown",
   "metadata": {},
   "source": [
    "## Creating the Choropleth map\n",
    "\n",
    "To create the Choropleth map we will use the choroplet method of the folium.Map class. One thing to notice here is that in the method's defintion the geo_data parameter expects a GeoJSON geometric defintion. Inspecting the documentation, we can see that the choropleth method accepts topojson data in this way:\n",
    "\n",
    ">TopoJSONs can be passed as \"geo_data\", but the \"topojson\" keyword must also be passed with the reference to the topojson objects to convert.\n",
    "\n",
    "Therefore, we create the json object from the topojson file in order to pass it as the geo_data parameter in the choropleth method."
   ]
  },
  {
   "cell_type": "code",
   "execution_count": 24,
   "metadata": {
    "ExecuteTime": {
     "end_time": "2017-11-08T20:19:24.408305Z",
     "start_time": "2017-11-08T20:19:24.390430Z"
    },
    "collapsed": true
   },
   "outputs": [],
   "source": [
    "import json\n",
    "\n",
    "topo_path = os.path.join('topojson', 'ch-cantons.topojson.json')\n",
    "\n",
    "with open(topo_path) as json_file:\n",
    "    topo_data = json.load(json_file)"
   ]
  },
  {
   "cell_type": "markdown",
   "metadata": {},
   "source": [
    "In order to bind data in the Choropleth map we must make sure that the canton names in the dataset match exactly the canton names in the TopoJson.\n",
    "\n",
    "With this in mind, we create a dataframe to compare side-by-side the canton names from both sources in the following way:\n",
    "\n",
    "* We extract the names from the TopoJson which are identified in the Json tree with the following path: objects -> cantons -> geometries -> properties -> name \n",
    "\n",
    "* From the amstat dataset, we extract the column containing the cantons' names"
   ]
  },
  {
   "cell_type": "code",
   "execution_count": 25,
   "metadata": {
    "ExecuteTime": {
     "end_time": "2017-11-08T20:19:24.678997Z",
     "start_time": "2017-11-08T20:19:24.676387Z"
    },
    "collapsed": true
   },
   "outputs": [],
   "source": [
    "topo_cantons_names = []\n",
    "\n",
    "for geometry in topo_data['objects']['cantons']['geometries']:\n",
    "    topo_cantons_names.append(geometry['properties']['name'])"
   ]
  },
  {
   "cell_type": "markdown",
   "metadata": {},
   "source": [
    "We have to plot the entire dataframe beneath in order to make sure the values in the two columns are properly aligned as we will want to use one of the two names lists."
   ]
  },
  {
   "cell_type": "code",
   "execution_count": 26,
   "metadata": {
    "ExecuteTime": {
     "end_time": "2017-11-08T20:19:24.963346Z",
     "start_time": "2017-11-08T20:19:24.952678Z"
    }
   },
   "outputs": [
    {
     "data": {
      "text/html": [
       "<div>\n",
       "<style>\n",
       "    .dataframe thead tr:only-child th {\n",
       "        text-align: right;\n",
       "    }\n",
       "\n",
       "    .dataframe thead th {\n",
       "        text-align: left;\n",
       "    }\n",
       "\n",
       "    .dataframe tbody tr th {\n",
       "        vertical-align: top;\n",
       "    }\n",
       "</style>\n",
       "<table border=\"1\" class=\"dataframe\">\n",
       "  <thead>\n",
       "    <tr style=\"text-align: right;\">\n",
       "      <th></th>\n",
       "      <th>0</th>\n",
       "    </tr>\n",
       "    <tr>\n",
       "      <th>Canton</th>\n",
       "      <th></th>\n",
       "    </tr>\n",
       "  </thead>\n",
       "  <tbody>\n",
       "    <tr>\n",
       "      <th>Zurich</th>\n",
       "      <td>Zürich</td>\n",
       "    </tr>\n",
       "    <tr>\n",
       "      <th>Berne</th>\n",
       "      <td>Bern/Berne</td>\n",
       "    </tr>\n",
       "    <tr>\n",
       "      <th>Lucerne</th>\n",
       "      <td>Luzern</td>\n",
       "    </tr>\n",
       "    <tr>\n",
       "      <th>Uri</th>\n",
       "      <td>Uri</td>\n",
       "    </tr>\n",
       "    <tr>\n",
       "      <th>Schwyz</th>\n",
       "      <td>Schwyz</td>\n",
       "    </tr>\n",
       "    <tr>\n",
       "      <th>Obwald</th>\n",
       "      <td>Obwalden</td>\n",
       "    </tr>\n",
       "    <tr>\n",
       "      <th>Nidwald</th>\n",
       "      <td>Nidwalden</td>\n",
       "    </tr>\n",
       "    <tr>\n",
       "      <th>Glaris</th>\n",
       "      <td>Glarus</td>\n",
       "    </tr>\n",
       "    <tr>\n",
       "      <th>Zoug</th>\n",
       "      <td>Zug</td>\n",
       "    </tr>\n",
       "    <tr>\n",
       "      <th>Fribourg</th>\n",
       "      <td>Fribourg</td>\n",
       "    </tr>\n",
       "    <tr>\n",
       "      <th>Soleure</th>\n",
       "      <td>Solothurn</td>\n",
       "    </tr>\n",
       "    <tr>\n",
       "      <th>Bâle-Ville</th>\n",
       "      <td>Basel-Stadt</td>\n",
       "    </tr>\n",
       "    <tr>\n",
       "      <th>Bâle-Campagne</th>\n",
       "      <td>Basel-Landschaft</td>\n",
       "    </tr>\n",
       "    <tr>\n",
       "      <th>Schaffhouse</th>\n",
       "      <td>Schaffhausen</td>\n",
       "    </tr>\n",
       "    <tr>\n",
       "      <th>Appenzell Rhodes-Extérieures</th>\n",
       "      <td>Appenzell Ausserrhoden</td>\n",
       "    </tr>\n",
       "    <tr>\n",
       "      <th>Appenzell Rhodes-Intérieures</th>\n",
       "      <td>Appenzell Innerrhoden</td>\n",
       "    </tr>\n",
       "    <tr>\n",
       "      <th>St-Gall</th>\n",
       "      <td>St. Gallen</td>\n",
       "    </tr>\n",
       "    <tr>\n",
       "      <th>Grisons</th>\n",
       "      <td>Graubünden/Grigioni</td>\n",
       "    </tr>\n",
       "    <tr>\n",
       "      <th>Argovie</th>\n",
       "      <td>Aargau</td>\n",
       "    </tr>\n",
       "    <tr>\n",
       "      <th>Thurgovie</th>\n",
       "      <td>Thurgau</td>\n",
       "    </tr>\n",
       "    <tr>\n",
       "      <th>Tessin</th>\n",
       "      <td>Ticino</td>\n",
       "    </tr>\n",
       "    <tr>\n",
       "      <th>Vaud</th>\n",
       "      <td>Vaud</td>\n",
       "    </tr>\n",
       "    <tr>\n",
       "      <th>Valais</th>\n",
       "      <td>Valais/Wallis</td>\n",
       "    </tr>\n",
       "    <tr>\n",
       "      <th>Neuchâtel</th>\n",
       "      <td>Neuchâtel</td>\n",
       "    </tr>\n",
       "    <tr>\n",
       "      <th>Genève</th>\n",
       "      <td>Genève</td>\n",
       "    </tr>\n",
       "    <tr>\n",
       "      <th>Jura</th>\n",
       "      <td>Jura</td>\n",
       "    </tr>\n",
       "  </tbody>\n",
       "</table>\n",
       "</div>"
      ],
      "text/plain": [
       "                                                   0\n",
       "Canton                                              \n",
       "Zurich                                        Zürich\n",
       "Berne                                     Bern/Berne\n",
       "Lucerne                                       Luzern\n",
       "Uri                                              Uri\n",
       "Schwyz                                        Schwyz\n",
       "Obwald                                      Obwalden\n",
       "Nidwald                                    Nidwalden\n",
       "Glaris                                        Glarus\n",
       "Zoug                                             Zug\n",
       "Fribourg                                    Fribourg\n",
       "Soleure                                    Solothurn\n",
       "Bâle-Ville                               Basel-Stadt\n",
       "Bâle-Campagne                       Basel-Landschaft\n",
       "Schaffhouse                             Schaffhausen\n",
       "Appenzell Rhodes-Extérieures  Appenzell Ausserrhoden\n",
       "Appenzell Rhodes-Intérieures   Appenzell Innerrhoden\n",
       "St-Gall                                   St. Gallen\n",
       "Grisons                          Graubünden/Grigioni\n",
       "Argovie                                       Aargau\n",
       "Thurgovie                                    Thurgau\n",
       "Tessin                                        Ticino\n",
       "Vaud                                            Vaud\n",
       "Valais                                 Valais/Wallis\n",
       "Neuchâtel                                  Neuchâtel\n",
       "Genève                                        Genève\n",
       "Jura                                            Jura"
      ]
     },
     "execution_count": 26,
     "metadata": {},
     "output_type": "execute_result"
    }
   ],
   "source": [
    "pd.DataFrame(topo_cantons_names, cantons_data['Canton'])"
   ]
  },
  {
   "cell_type": "markdown",
   "metadata": {},
   "source": [
    "With a little bit of help from Wikipedia, we remark that values in each row reffer to the same canton, but are in different languages. Knowing this we can change the values in the *Canton* column in the amstat dataset to be the ones extracted from the TopoJson.\n",
    "\n",
    "We're doing this so that we have no matching problems when we bind the data to the Choropleth map."
   ]
  },
  {
   "cell_type": "code",
   "execution_count": 27,
   "metadata": {
    "ExecuteTime": {
     "end_time": "2017-11-08T20:19:25.250202Z",
     "start_time": "2017-11-08T20:19:25.246012Z"
    },
    "collapsed": true
   },
   "outputs": [],
   "source": [
    "cantons_data['Canton'] = topo_cantons_names"
   ]
  },
  {
   "cell_type": "code",
   "execution_count": 28,
   "metadata": {
    "ExecuteTime": {
     "end_time": "2017-11-08T20:19:25.471103Z",
     "start_time": "2017-11-08T20:19:25.453108Z"
    }
   },
   "outputs": [
    {
     "data": {
      "text/html": [
       "<div>\n",
       "<style>\n",
       "    .dataframe thead tr:only-child th {\n",
       "        text-align: right;\n",
       "    }\n",
       "\n",
       "    .dataframe thead th {\n",
       "        text-align: left;\n",
       "    }\n",
       "\n",
       "    .dataframe tbody tr th {\n",
       "        vertical-align: top;\n",
       "    }\n",
       "</style>\n",
       "<table border=\"1\" class=\"dataframe\">\n",
       "  <thead>\n",
       "    <tr>\n",
       "      <th></th>\n",
       "      <th>Canton</th>\n",
       "      <th colspan=\"5\" halign=\"left\">Septembre 2017</th>\n",
       "      <th colspan=\"5\" halign=\"left\">Total</th>\n",
       "    </tr>\n",
       "    <tr>\n",
       "      <th></th>\n",
       "      <th></th>\n",
       "      <th>Taux de chômage</th>\n",
       "      <th>Coefficients de variation</th>\n",
       "      <th>Chômeurs inscrits</th>\n",
       "      <th>Demandeurs d'emploi</th>\n",
       "      <th>Demandeurs d'emploi non chômeurs</th>\n",
       "      <th>Taux de chômage</th>\n",
       "      <th>Coefficients de variation</th>\n",
       "      <th>Chômeurs inscrits</th>\n",
       "      <th>Demandeurs d'emploi</th>\n",
       "      <th>Demandeurs d'emploi non chômeurs</th>\n",
       "    </tr>\n",
       "  </thead>\n",
       "  <tbody>\n",
       "    <tr>\n",
       "      <th>0</th>\n",
       "      <td>Zürich</td>\n",
       "      <td>3.3</td>\n",
       "      <td>A</td>\n",
       "      <td>27225.0</td>\n",
       "      <td>34156.0</td>\n",
       "      <td>6931</td>\n",
       "      <td>3.3</td>\n",
       "      <td>A</td>\n",
       "      <td>27225</td>\n",
       "      <td>34156</td>\n",
       "      <td>6931</td>\n",
       "    </tr>\n",
       "    <tr>\n",
       "      <th>1</th>\n",
       "      <td>Bern/Berne</td>\n",
       "      <td>2.4</td>\n",
       "      <td>A</td>\n",
       "      <td>13658.0</td>\n",
       "      <td>18385.0</td>\n",
       "      <td>4727</td>\n",
       "      <td>2.4</td>\n",
       "      <td>A</td>\n",
       "      <td>13658</td>\n",
       "      <td>18385</td>\n",
       "      <td>4727</td>\n",
       "    </tr>\n",
       "    <tr>\n",
       "      <th>2</th>\n",
       "      <td>Luzern</td>\n",
       "      <td>1.7</td>\n",
       "      <td>A</td>\n",
       "      <td>3885.0</td>\n",
       "      <td>6756.0</td>\n",
       "      <td>2871</td>\n",
       "      <td>1.7</td>\n",
       "      <td>A</td>\n",
       "      <td>3885</td>\n",
       "      <td>6756</td>\n",
       "      <td>2871</td>\n",
       "    </tr>\n",
       "    <tr>\n",
       "      <th>3</th>\n",
       "      <td>Uri</td>\n",
       "      <td>0.6</td>\n",
       "      <td>C</td>\n",
       "      <td>112.0</td>\n",
       "      <td>257.0</td>\n",
       "      <td>145</td>\n",
       "      <td>0.6</td>\n",
       "      <td>C</td>\n",
       "      <td>112</td>\n",
       "      <td>257</td>\n",
       "      <td>145</td>\n",
       "    </tr>\n",
       "    <tr>\n",
       "      <th>4</th>\n",
       "      <td>Schwyz</td>\n",
       "      <td>1.7</td>\n",
       "      <td>A</td>\n",
       "      <td>1455.0</td>\n",
       "      <td>2229.0</td>\n",
       "      <td>774</td>\n",
       "      <td>1.7</td>\n",
       "      <td>A</td>\n",
       "      <td>1455</td>\n",
       "      <td>2229</td>\n",
       "      <td>774</td>\n",
       "    </tr>\n",
       "  </tbody>\n",
       "</table>\n",
       "</div>"
      ],
      "text/plain": [
       "       Canton  Septembre 2017                                              \\\n",
       "              Taux de chômage Coefficients de variation Chômeurs inscrits   \n",
       "0      Zürich             3.3                         A           27225.0   \n",
       "1  Bern/Berne             2.4                         A           13658.0   \n",
       "2      Luzern             1.7                         A            3885.0   \n",
       "3         Uri             0.6                         C             112.0   \n",
       "4      Schwyz             1.7                         A            1455.0   \n",
       "\n",
       "                                                                 Total  \\\n",
       "  Demandeurs d'emploi Demandeurs d'emploi non chômeurs Taux de chômage   \n",
       "0             34156.0                             6931             3.3   \n",
       "1             18385.0                             4727             2.4   \n",
       "2              6756.0                             2871             1.7   \n",
       "3               257.0                              145             0.6   \n",
       "4              2229.0                              774             1.7   \n",
       "\n",
       "                                                                   \\\n",
       "  Coefficients de variation Chômeurs inscrits Demandeurs d'emploi   \n",
       "0                         A             27225               34156   \n",
       "1                         A             13658               18385   \n",
       "2                         A              3885                6756   \n",
       "3                         C               112                 257   \n",
       "4                         A              1455                2229   \n",
       "\n",
       "                                    \n",
       "  Demandeurs d'emploi non chômeurs  \n",
       "0                             6931  \n",
       "1                             4727  \n",
       "2                             2871  \n",
       "3                              145  \n",
       "4                              774  "
      ]
     },
     "execution_count": 28,
     "metadata": {},
     "output_type": "execute_result"
    }
   ],
   "source": [
    "cantons_data.head()"
   ]
  },
  {
   "cell_type": "markdown",
   "metadata": {},
   "source": [
    "## Infer the data for the first map\n",
    "\n",
    "As explained in the section [Computing data for the first map](#computing_data_first_map), we will now create a new column with the an unemployment rate representing the jobseekers."
   ]
  },
  {
   "cell_type": "code",
   "execution_count": 29,
   "metadata": {
    "ExecuteTime": {
     "end_time": "2017-11-08T20:19:25.825626Z",
     "start_time": "2017-11-08T20:19:25.794150Z"
    },
    "collapsed": true
   },
   "outputs": [],
   "source": [
    "cantons_data[('Septembre 2017', 'Taux demandeurs d emploi')] = \\\n",
    "    cantons_data[('Septembre 2017', 'Demandeurs d\\'emploi')] * \\\n",
    "    cantons_data[('Septembre 2017', 'Taux de chômage')] /\\\n",
    "    cantons_data[('Septembre 2017', 'Chômeurs inscrits')]"
   ]
  },
  {
   "cell_type": "markdown",
   "metadata": {},
   "source": [
    "# Exploring visualization differences"
   ]
  },
  {
   "cell_type": "markdown",
   "metadata": {},
   "source": [
    "We can argue that the unemployment rate can be expressed as the jobseekers divided by the active population. \n",
    "\n",
    "This might seem reasonable because the employed people that register as jobseekers might not be content with their current place of work and could quit or might expect to be fired sooner or later.\n",
    "\n",
    "We now plot this rate in a choropleth map where the classes are chosen to be fixed in order to compare with the next visualizations."
   ]
  },
  {
   "cell_type": "code",
   "execution_count": 30,
   "metadata": {
    "ExecuteTime": {
     "end_time": "2017-11-08T20:19:26.327560Z",
     "start_time": "2017-11-08T20:19:26.325037Z"
    },
    "collapsed": true
   },
   "outputs": [],
   "source": [
    "swiss_coord = [46.8827, 8.2178]\n",
    "legend_scale=[0,2,4.1,6,10]"
   ]
  },
  {
   "cell_type": "code",
   "execution_count": 31,
   "metadata": {
    "ExecuteTime": {
     "end_time": "2017-11-08T20:19:26.494790Z",
     "start_time": "2017-11-08T20:19:26.485187Z"
    },
    "collapsed": true
   },
   "outputs": [],
   "source": [
    "def add_choropleth_layer(m, column, fill_color, layer_name,\n",
    "                         legend_name, scale='quantile', nb_classes=3,\n",
    "                         fixed_thresholds=None):\n",
    "    '''\n",
    "    Utility function that allows a easier manipulation of the threshold_scale for the choropleth layer.\n",
    "    Parameters:\n",
    "    m: folium map to which the layer is added\n",
    "    column: specifies the column in the cantons_data that is binded to the map\n",
    "    fill_color: passed to the choropleth method\n",
    "    layer_name: passed to the choropleth method as the name of the layer\n",
    "    legend_name: passed to the choropleth method\n",
    "    scale: specifies the scale of the choropleth map. Options:\n",
    "            - quantile: the data is classified in nb_classes of the same approximate size\n",
    "            - jenks: the data is classified in nb_classes using the Natural Breaks (Jenks) classification\n",
    "            - fixed: the fixed_thresholds parameter is used to specify the scale\n",
    "    '''\n",
    "    if scale == 'quantile':\n",
    "        _, bins = pd.qcut(cantons_data[column], nb_classes, retbins=True)\n",
    "        bins = list(bins)\n",
    "    elif scale == 'jenks':\n",
    "        bins = jenkspy.jenks_breaks(cantons_data[column], nb_classes)\n",
    "    elif scale == 'fixed':\n",
    "        if fixed_thresholds is not None:\n",
    "            bins = fixed_thresholds\n",
    "        else:\n",
    "            raise Exception('Missing fixed thresholds in add choropleth layer')\n",
    "            \n",
    "    m.choropleth( \n",
    "        geo_data=topo_data,\n",
    "        topojson='objects.cantons',\n",
    "        data=cantons_data,\n",
    "        name=layer_name,\n",
    "        columns=['Canton',column],\n",
    "        key_on='feature.properties.name',\n",
    "        fill_color=fill_color,\n",
    "        fill_opacity=0.7,\n",
    "        line_opacity=0.2,\n",
    "        legend_name=legend_name,\n",
    "        threshold_scale=bins\n",
    "    )"
   ]
  },
  {
   "cell_type": "markdown",
   "metadata": {},
   "source": [
    "We would like to show on the map additional information about the cantons like the name of it, the actual value or some confidence measure. In order to do this, we make good use of popups and to be able to add them to the map we implement two helper functions:\n",
    "* *create_canton_topos*: that returns a TopoJSON for each conton used to add the popup on click per canton\n",
    "* *add_popups*: that handles the popup content and binding it to the canton and the map"
   ]
  },
  {
   "cell_type": "code",
   "execution_count": 32,
   "metadata": {
    "ExecuteTime": {
     "end_time": "2017-11-08T20:19:28.240453Z",
     "start_time": "2017-11-08T20:19:26.938390Z"
    }
   },
   "outputs": [],
   "source": [
    "import copy\n",
    "\n",
    "def create_canton_topos(originalTopoJSON):\n",
    "    canton = []\n",
    "    for geometry in originalTopoJSON[\"objects\"][\"cantons\"][\"geometries\"]:\n",
    "        tmp_topo = copy.deepcopy(originalTopoJSON)\n",
    "        tmp_topo[\"objects\"][\"cantons\"][\"geometries\"]=[geometry]\n",
    "        \n",
    "        canton.append(tmp_topo)\n",
    "              \n",
    "    return canton\n",
    "\n",
    "cantons_topo = create_canton_topos(topo_data)"
   ]
  },
  {
   "cell_type": "code",
   "execution_count": 33,
   "metadata": {
    "ExecuteTime": {
     "end_time": "2017-11-08T20:19:28.258819Z",
     "start_time": "2017-11-08T20:19:28.242059Z"
    },
    "collapsed": true
   },
   "outputs": [],
   "source": [
    "import branca \n",
    "\n",
    "def add_range_coeff_var(coeff):\n",
    "    '''\n",
    "    Adds explicit values for the variation coefficients\n",
    "    '''\n",
    "    if coeff == 'A':\n",
    "        return ' '.join([coeff, '(0 to 1%)'])\n",
    "    if coeff == 'B':\n",
    "        return ' '.join([coeff, '(1.1 to 2%)'])\n",
    "    if coeff == 'C':\n",
    "        return ' '.join([coeff, '(2.1 to 5%)'])\n",
    "    if coeff == 'D':\n",
    "        return ' '.join([coeff, '(5.1 to 10%)'])\n",
    "    return coeff\n",
    "\n",
    "def add_popups(m, rate_name, column):\n",
    "    '''\n",
    "    Adds popups to each canton for map m.\n",
    "    rate_name specifies what is the unemployment rate\n",
    "    column specifies the column whose values will be shown in the popup \n",
    "    '''\n",
    "    for canton in cantons_topo:\n",
    "        canton_name = canton[\"objects\"][\"cantons\"][\"geometries\"][0]['properties']['name'];\n",
    "        coeff_column = ('Septembre 2017','Coefficients de variation')\n",
    "        canton_data = cantons_data[cantons_data['Canton'] == canton_name]\n",
    "    \n",
    "        html = '''\n",
    "            <h3>{}</h3>\n",
    "            <p> {}: {} </p>\n",
    "            <p> Coefficient of variation: {}</p>\n",
    "            \n",
    "        '''.format(canton_name, \n",
    "                   rate_name,\n",
    "                   canton_data[column].values[0], \n",
    "                   add_range_coeff_var(canton_data[coeff_column].values[0]))\n",
    "        \n",
    "        iframe = branca.element.IFrame(html=html, width=300, height=150)\n",
    "        popup = folium.Popup(iframe, max_width=2650)\n",
    "        \n",
    "        tj = folium.TopoJson(canton, \n",
    "                   'objects.cantons',\n",
    "                   name=canton_name)\n",
    "        \n",
    "        tj.add_child(popup)\n",
    "        tj.add_to(m)\n",
    "        "
   ]
  },
  {
   "cell_type": "markdown",
   "metadata": {},
   "source": [
    "We can now easily create the map corresponding to the unemployment rate computed taking into consideration jobseekers, employed or unemployed."
   ]
  },
  {
   "cell_type": "code",
   "execution_count": 34,
   "metadata": {
    "ExecuteTime": {
     "end_time": "2017-11-08T20:19:32.144383Z",
     "start_time": "2017-11-08T20:19:30.243028Z"
    }
   },
   "outputs": [],
   "source": [
    "m_jobseekers = folium.Map(\n",
    "    location= swiss_coord,\n",
    "    tiles='Mapbox Bright',\n",
    "    zoom_start=8\n",
    ")\n",
    "\n",
    "add_choropleth_layer(m=m_jobseekers, \n",
    "                     column=('Septembre 2017', 'Taux demandeurs d emploi'),\n",
    "                     fill_color='YlOrRd',\n",
    "                     layer_name='jobseekers',\n",
    "                     legend_name='% of jobseekers out of active population in month september',\n",
    "                     scale='fixed',\n",
    "                     fixed_thresholds=legend_scale\n",
    "                    )\n",
    "column = ('Septembre 2017', 'Taux demandeurs d emploi') \n",
    "add_popups(m_jobseekers, \n",
    "           'Jobseekers rate for month September',\n",
    "           column)\n",
    "\n",
    "m_jobseekers.save('swiss_jobseekers_september_2017.html')"
   ]
  },
  {
   "cell_type": "code",
   "execution_count": 35,
   "metadata": {
    "ExecuteTime": {
     "end_time": "2017-11-08T20:19:32.150214Z",
     "start_time": "2017-11-08T20:19:32.146177Z"
    }
   },
   "outputs": [
    {
     "data": {
      "text/html": [
       "\n",
       "        <iframe\n",
       "            width=\"900\"\n",
       "            height=\"800\"\n",
       "            src=\"swiss_jobseekers_september_2017.html\"\n",
       "            frameborder=\"0\"\n",
       "            allowfullscreen\n",
       "        ></iframe>\n",
       "        "
      ],
      "text/plain": [
       "<IPython.lib.display.IFrame at 0x7fd57ec080f0>"
      ]
     },
     "execution_count": 35,
     "metadata": {},
     "output_type": "execute_result"
    }
   ],
   "source": [
    "from IPython.display import IFrame\n",
    "IFrame(src=\"swiss_jobseekers_september_2017.html\",width=900,height=800)"
   ]
  },
  {
   "cell_type": "markdown",
   "metadata": {},
   "source": [
    "An interpretation just as valid but which could be considered a bit more rigurous and on point would be to take into consideration only the people that are unemployed. This would be more intuitive given that we're looking at the unemployment rate.\n",
    "\n",
    "We proceed to plot this rate having the classes the same as in the previous plot."
   ]
  },
  {
   "cell_type": "code",
   "execution_count": 36,
   "metadata": {
    "ExecuteTime": {
     "end_time": "2017-11-08T20:19:38.718808Z",
     "start_time": "2017-11-08T20:19:36.815484Z"
    },
    "collapsed": true
   },
   "outputs": [],
   "source": [
    "m_unemployed = folium.Map(\n",
    "    location= swiss_coord,\n",
    "    tiles='Mapbox Bright',\n",
    "    zoom_start=8\n",
    ")\n",
    "\n",
    "add_choropleth_layer(m=m_unemployed,\n",
    "                     column=('Septembre 2017', 'Taux de chômage'),\n",
    "                     fill_color='YlOrRd',\n",
    "                     layer_name='unemployed jobseeker',\n",
    "                     legend_name='% of unemployed jobseekers out of active population in month september',\n",
    "                     scale='fixed',\n",
    "                     fixed_thresholds=legend_scale\n",
    "                    )\n",
    "\n",
    "\n",
    "column = ('Septembre 2017', 'Taux de chômage') \n",
    "add_popups(m_unemployed, \n",
    "           'Unemployed jobseekers rate for month September',\n",
    "           column)\n",
    "\n",
    "m_unemployed.save('swiss_unemployed_jobseekers_september_2017.html')"
   ]
  },
  {
   "cell_type": "code",
   "execution_count": 37,
   "metadata": {
    "ExecuteTime": {
     "end_time": "2017-11-08T20:19:38.724410Z",
     "start_time": "2017-11-08T20:19:38.720564Z"
    }
   },
   "outputs": [
    {
     "data": {
      "text/html": [
       "\n",
       "        <iframe\n",
       "            width=\"900\"\n",
       "            height=\"800\"\n",
       "            src=\"swiss_unemployed_jobseekers_september_2017.html\"\n",
       "            frameborder=\"0\"\n",
       "            allowfullscreen\n",
       "        ></iframe>\n",
       "        "
      ],
      "text/plain": [
       "<IPython.lib.display.IFrame at 0x7fd57ebcada0>"
      ]
     },
     "execution_count": 37,
     "metadata": {},
     "output_type": "execute_result"
    }
   ],
   "source": [
    "from IPython.display import IFrame\n",
    "IFrame(src=\"swiss_unemployed_jobseekers_september_2017.html\",width=900,height=800)"
   ]
  },
  {
   "cell_type": "markdown",
   "metadata": {},
   "source": [
    "## Importance of scale\n",
    "\n",
    "For a better visualization we would want both of the two unemployment rates plotted on the same map. \n",
    "\n",
    "One way to show the differences would be to have the same scale, given that we're presenting the unemployment rate in both maps. A reason for this would be that the colors in the choropleth map correspond to the same classes for both visualizations, making it easy to see the differences in the way the unemployment rate is computed.\n",
    "\n",
    "But there is a perception problem with a fixed scale for two different rates-computing methods: as one of them takes into consideration more people(not only unemployed jobseekers) but the denominator is the same, the values are shifted by a certain amount to one side of the scale given the impresion of multiple extreme values.\n",
    "\n",
    "An important decision to be made here are the thresholds in the fixed scale as it drastically changes the message sent by the map. For this, we adopt the scale used in the amstat visualization [0,2,4.1], which we extend by adding two more classes: [0,2,4.1,6,10]\n",
    "\n",
    "To better view this, we create two choropleth layers and we add a layer control to the map"
   ]
  },
  {
   "cell_type": "code",
   "execution_count": 40,
   "metadata": {
    "ExecuteTime": {
     "end_time": "2017-11-08T20:22:15.454043Z",
     "start_time": "2017-11-08T20:22:15.224609Z"
    },
    "collapsed": true
   },
   "outputs": [],
   "source": [
    "m = folium.Map(\n",
    "    location= swiss_coord,\n",
    "    tiles='Mapbox Bright',\n",
    "    zoom_start=8\n",
    ")\n",
    "\n",
    "add_choropleth_layer(m=m,\n",
    "                     column=('Septembre 2017', 'Taux de chômage'),\n",
    "                     fill_color='YlOrRd',\n",
    "                     layer_name='unemployed jobseeker',\n",
    "                     legend_name='% of unemployed jobseekers out of active population in month september',\n",
    "                     scale='fixed',\n",
    "                     fixed_thresholds=legend_scale\n",
    "                    )\n",
    "\n",
    "add_choropleth_layer(m=m, \n",
    "                     column=('Septembre 2017', 'Taux demandeurs d emploi'),\n",
    "                     fill_color='YlOrRd',\n",
    "                     layer_name='all jobseekers',\n",
    "                     legend_name='% of jobseekers out of active population in month september',\n",
    "                     scale='fixed',\n",
    "                     fixed_thresholds=legend_scale\n",
    "                    )\n",
    "\n",
    "folium.LayerControl().add_to(m)\n",
    "\n",
    "m.save('swiss_2_choropleths_fixed_scale.html')"
   ]
  },
  {
   "cell_type": "code",
   "execution_count": 41,
   "metadata": {
    "ExecuteTime": {
     "end_time": "2017-11-08T20:22:15.854362Z",
     "start_time": "2017-11-08T20:22:15.850793Z"
    }
   },
   "outputs": [
    {
     "data": {
      "text/html": [
       "\n",
       "        <iframe\n",
       "            width=\"900\"\n",
       "            height=\"800\"\n",
       "            src=\"swiss_2_choropleths_fixed_scale.html\"\n",
       "            frameborder=\"0\"\n",
       "            allowfullscreen\n",
       "        ></iframe>\n",
       "        "
      ],
      "text/plain": [
       "<IPython.lib.display.IFrame at 0x7fd57c4de588>"
      ]
     },
     "execution_count": 41,
     "metadata": {},
     "output_type": "execute_result"
    }
   ],
   "source": [
    "from IPython.display import IFrame\n",
    "IFrame(src=\"swiss_2_choropleths_fixed_scale.html\",width=900,height=800)"
   ]
  },
  {
   "cell_type": "markdown",
   "metadata": {},
   "source": [
    "We can observe the difference between the two ways of computing the unemployment rate by adding/removing the choropleth layer corresponding to each of them. Clearly, the message sent by the two visualization is different in this setup: the unemployment rate that takes into consideration the employed jobseekers has bigger values for the cantons which are mapped to more intense colors making the viewer have a stronger reaction.\n",
    "\n",
    "Another way of plotting the results would be to keep the colors relative to the computing method of the unemployment rate. For this, we will use the Natural Breaks (Jenks) classification because it arranges each grouping so there is less variation. This aligns with the intuition that cantons colored the same are similar in regards to unemployment rate.\n",
    "\n",
    "As we can see below, this does not change the visual impact by much between the two maps. The strong drawback is that the viewer would have to check the scale to realise that the colors correspond to different values, which is a not something one would normally expect."
   ]
  },
  {
   "cell_type": "code",
   "execution_count": 42,
   "metadata": {
    "ExecuteTime": {
     "end_time": "2017-11-08T20:25:53.192760Z",
     "start_time": "2017-11-08T20:25:52.959540Z"
    },
    "collapsed": true
   },
   "outputs": [],
   "source": [
    "m = folium.Map(\n",
    "    location= swiss_coord,\n",
    "    tiles='Mapbox Bright',\n",
    "    zoom_start=8\n",
    ")\n",
    "\n",
    "add_choropleth_layer(m=m,\n",
    "                     column=('Septembre 2017', 'Taux de chômage'),\n",
    "                     fill_color='YlOrRd',\n",
    "                     layer_name='unemployed jobseeker',\n",
    "                     legend_name='% of unemployed jobseekers out of active population in month september',\n",
    "                     scale='jenks',\n",
    "                     nb_classes=3\n",
    "                    )\n",
    "\n",
    "add_choropleth_layer(m=m, \n",
    "                     column=('Septembre 2017', 'Taux demandeurs d emploi'),\n",
    "                     fill_color='YlOrRd',\n",
    "                     layer_name='jobseekers',\n",
    "                     legend_name='% of jobseekers out of active population in month september',\n",
    "                     scale='jenks',\n",
    "                     nb_classes=3\n",
    "                    )\n",
    "\n",
    "folium.LayerControl().add_to(m)\n",
    "\n",
    "m.save('swiss_2_choropleths_jenks_scale.html')"
   ]
  },
  {
   "cell_type": "code",
   "execution_count": 43,
   "metadata": {
    "ExecuteTime": {
     "end_time": "2017-11-08T20:25:53.907381Z",
     "start_time": "2017-11-08T20:25:53.903836Z"
    },
    "scrolled": false
   },
   "outputs": [
    {
     "data": {
      "text/html": [
       "\n",
       "        <iframe\n",
       "            width=\"900\"\n",
       "            height=\"800\"\n",
       "            src=\"swiss_2_choropleths_jenks_scale.html\"\n",
       "            frameborder=\"0\"\n",
       "            allowfullscreen\n",
       "        ></iframe>\n",
       "        "
      ],
      "text/plain": [
       "<IPython.lib.display.IFrame at 0x7fd57ec084a8>"
      ]
     },
     "execution_count": 43,
     "metadata": {},
     "output_type": "execute_result"
    }
   ],
   "source": [
    "from IPython.display import IFrame\n",
    "IFrame(src=\"swiss_2_choropleths_jenks_scale.html\",width=900,height=800)"
   ]
  },
  {
   "cell_type": "markdown",
   "metadata": {},
   "source": [
    "An interesting detail we're noticing when looking at a choropleth map in general is consisted by the elements at the extremes of the legend. \n",
    "In the above map, what happens when we take into consideration also the employed jobseekers, is that the canton of Geneva is no longer the one with the biggest unemployment rate, but rather Neuchatel, which puts them in two very different perspectives.\n",
    "\n",
    "In conclusion, this is a clear example of how the visualization can influence the viewer's perspective towards some desired form by controling the amounts of details made available."
   ]
  }
 ],
 "metadata": {
  "kernelspec": {
   "display_name": "Python [conda root]",
   "language": "python",
   "name": "conda-root-py"
  },
  "language_info": {
   "codemirror_mode": {
    "name": "ipython",
    "version": 3
   },
   "file_extension": ".py",
   "mimetype": "text/x-python",
   "name": "python",
   "nbconvert_exporter": "python",
   "pygments_lexer": "ipython3",
   "version": "3.6.1"
  },
  "toc": {
   "colors": {
    "hover_highlight": "#DAA520",
    "navigate_num": "#000000",
    "navigate_text": "#333333",
    "running_highlight": "#FF0000",
    "selected_highlight": "#FFD700",
    "sidebar_border": "#EEEEEE",
    "wrapper_background": "#FFFFFF"
   },
   "moveMenuLeft": true,
   "nav_menu": {
    "height": "30px",
    "width": "252px"
   },
   "navigate_menu": true,
   "number_sections": true,
   "sideBar": true,
   "threshold": 4,
   "toc_cell": false,
   "toc_section_display": "block",
   "toc_window_display": false,
   "widenNotebook": false
  }
 },
 "nbformat": 4,
 "nbformat_minor": 2
}
