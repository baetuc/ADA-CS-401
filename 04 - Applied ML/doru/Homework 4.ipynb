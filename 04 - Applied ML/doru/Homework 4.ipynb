{
 "cells": [
  {
   "cell_type": "markdown",
   "metadata": {},
   "source": [
    "# Question 2: Applied ML\n",
    "\n",
    "We are going to build a classifier of news to directly assign them to 20 news categories. Note that the pipeline that you will build in this exercise could be of great help during your project if you plan to work with text!\n",
    "\n",
    "Load the 20newsgroup dataset. It is, again, a classic dataset that can directly be loaded using sklearn [link](http://scikit-learn.org/stable/datasets/twenty_newsgroups.html).\n",
    "[TF-IDF](https://en.wikipedia.org/wiki/Tf%E2%80%93idf), short for term frequency–inverse document frequency, is of great help when if comes to compute textual features. Indeed, it gives more importance to terms that are more specific to the considered articles (TF) but reduces the importance of terms that are very frequent in the entire corpus (IDF). Compute TF-IDF features for every article using [TfidfVectorizer](http://scikit-learn.org/stable/modules/generated/sklearn.feature_extraction.text.TfidfVectorizer.html). Then, split your dataset into a training, a testing and a validation set (10% for validation and 10% for testing). Each observation should be paired with its corresponding label (the article category).\n",
    "\n",
    "Train a random forest on your training set. Try to fine-tune the parameters of your predictor on your validation set using a simple grid search on the number of estimator \"n_estimators\" and the max depth of the trees \"max_depth\". Then, display a confusion matrix of your classification pipeline. Lastly, once you assessed your model, inspect the feature_importances_ attribute of your random forest and discuss the obtained results."
   ]
  },
  {
   "cell_type": "markdown",
   "metadata": {},
   "source": [
    "## Tackling plan\n",
    "1. We use fetch_20newsgroups function from sklearn.datasets to get the data specifying that we want the entire dataset as we will split it for train/test ourselves.\n",
    "2. We keep only data that is of interest for us (content of the news and labels) and import it in a dataframe.\n",
    "3. We use TfidfVectorizer to compute TD-IDF features for every article.\n",
    "4. We train a RandomForestClassifier on the TF-IDF feature vectors. \n",
    "5. We use GridSearchCV frunction from sklearn.model_selection in order to fine tune the hyperparameters of our model.\n",
    "6. We make use of the confusion_matrix function from sklearn.metrics to compute the confusion matrix\n",
    "7. We have a look at the feature\\_importances\\_ of our model by plotting the top 20 most important features and also looking at the distribution of the values by studying the quartiles."
   ]
  },
  {
   "cell_type": "markdown",
   "metadata": {},
   "source": [
    "## Used libraries"
   ]
  },
  {
   "cell_type": "code",
   "execution_count": 4,
   "metadata": {
    "ExecuteTime": {
     "end_time": "2017-11-21T14:46:39.089261Z",
     "start_time": "2017-11-21T14:46:37.959505Z"
    },
    "collapsed": true
   },
   "outputs": [],
   "source": [
    "import math\n",
    "import numpy as np\n",
    "import os\n",
    "import pandas as pd\n",
    "import seaborn as sns\n",
    "from sklearn.datasets import fetch_20newsgroups\n",
    "from sklearn.feature_extraction.text import TfidfVectorizer\n",
    "from sklearn.metrics import confusion_matrix\n",
    "from sklearn.model_selection import GridSearchCV\n",
    "from sklearn.model_selection import train_test_split\n",
    "from sklearn.ensemble import RandomForestClassifier"
   ]
  },
  {
   "cell_type": "markdown",
   "metadata": {},
   "source": [
    "## Preparing the dataset\n",
    "\n",
    "Firstly we get the dataset by using sklearn functionality. We specify that we want the entire dataset and pass a relative path for the download folder."
   ]
  },
  {
   "cell_type": "code",
   "execution_count": 5,
   "metadata": {
    "ExecuteTime": {
     "end_time": "2017-11-21T14:46:39.345388Z",
     "start_time": "2017-11-21T14:46:39.095243Z"
    },
    "collapsed": true
   },
   "outputs": [],
   "source": [
    "data_folder = os.path.join('.','data')\n",
    "newsgroups_train = fetch_20newsgroups(subset='all', data_home=data_folder)"
   ]
  },
  {
   "cell_type": "markdown",
   "metadata": {},
   "source": [
    "The obtained data is enclosed in a specific sklearn object, namely Bunch which is basically a dictionary."
   ]
  },
  {
   "cell_type": "code",
   "execution_count": 6,
   "metadata": {
    "ExecuteTime": {
     "end_time": "2017-11-21T14:46:39.545798Z",
     "start_time": "2017-11-21T14:46:39.541115Z"
    }
   },
   "outputs": [
    {
     "data": {
      "text/plain": [
       "dict_keys(['data', 'filenames', 'target_names', 'target', 'DESCR', 'description'])"
      ]
     },
     "execution_count": 6,
     "metadata": {},
     "output_type": "execute_result"
    }
   ],
   "source": [
    "newsgroups_train.keys()"
   ]
  },
  {
   "cell_type": "markdown",
   "metadata": {},
   "source": [
    "As we can see it contains multiple entries out of which we are interested in:\n",
    "\n",
    "* **data** which is a list with the actual content \n",
    "* **target** containing the labels for each data entry\n",
    "* **target_names** containing the textual representation(names) of the labels, useful when we will analyze the output of the classifier\n",
    "\n",
    "We will create a dataframe with specifically this fields."
   ]
  },
  {
   "cell_type": "code",
   "execution_count": 7,
   "metadata": {
    "ExecuteTime": {
     "end_time": "2017-11-21T14:46:39.756138Z",
     "start_time": "2017-11-21T14:46:39.749804Z"
    }
   },
   "outputs": [],
   "source": [
    "df = pd.DataFrame(data={'doc':newsgroups_train['data'], 'label':newsgroups_train['target']})\n",
    "labels_names = newsgroups_train['target_names']"
   ]
  },
  {
   "cell_type": "markdown",
   "metadata": {},
   "source": [
    "In order to have a better look at the data, we would like to show it not truncated therefore we remove the max column width limit of pandas display option."
   ]
  },
  {
   "cell_type": "code",
   "execution_count": 8,
   "metadata": {
    "ExecuteTime": {
     "end_time": "2017-11-21T14:46:39.968147Z",
     "start_time": "2017-11-21T14:46:39.964844Z"
    },
    "collapsed": true
   },
   "outputs": [],
   "source": [
    "pd.set_option('display.max_colwidth', -1)"
   ]
  },
  {
   "cell_type": "code",
   "execution_count": 9,
   "metadata": {
    "ExecuteTime": {
     "end_time": "2017-11-21T14:46:40.230010Z",
     "start_time": "2017-11-21T14:46:40.220573Z"
    }
   },
   "outputs": [
    {
     "data": {
      "text/html": [
       "<div>\n",
       "<style>\n",
       "    .dataframe thead tr:only-child th {\n",
       "        text-align: right;\n",
       "    }\n",
       "\n",
       "    .dataframe thead th {\n",
       "        text-align: left;\n",
       "    }\n",
       "\n",
       "    .dataframe tbody tr th {\n",
       "        vertical-align: top;\n",
       "    }\n",
       "</style>\n",
       "<table border=\"1\" class=\"dataframe\">\n",
       "  <thead>\n",
       "    <tr style=\"text-align: right;\">\n",
       "      <th></th>\n",
       "      <th>doc</th>\n",
       "      <th>label</th>\n",
       "    </tr>\n",
       "  </thead>\n",
       "  <tbody>\n",
       "    <tr>\n",
       "      <th>0</th>\n",
       "      <td>From: Mamatha Devineni Ratnam &lt;mr47+@andrew.cmu.edu&gt;\\nSubject: Pens fans reactions\\nOrganization: Post Office, Carnegie Mellon, Pittsburgh, PA\\nLines: 12\\nNNTP-Posting-Host: po4.andrew.cmu.edu\\n\\n\\n\\nI am sure some bashers of Pens fans are pretty confused about the lack\\nof any kind of posts about the recent Pens massacre of the Devils. Actually,\\nI am  bit puzzled too and a bit relieved. However, I am going to put an end\\nto non-PIttsburghers' relief with a bit of praise for the Pens. Man, they\\nare killing those Devils worse than I thought. Jagr just showed you why\\nhe is much better than his regular season stats. He is also a lot\\nfo fun to watch in the playoffs. Bowman should let JAgr have a lot of\\nfun in the next couple of games since the Pens are going to beat the pulp out of Jersey anyway. I was very disappointed not to see the Islanders lose the final\\nregular season game.          PENS RULE!!!\\n\\n</td>\n",
       "      <td>10</td>\n",
       "    </tr>\n",
       "    <tr>\n",
       "      <th>1</th>\n",
       "      <td>From: mblawson@midway.ecn.uoknor.edu (Matthew B Lawson)\\nSubject: Which high-performance VLB video card?\\nSummary: Seek recommendations for VLB video card\\nNntp-Posting-Host: midway.ecn.uoknor.edu\\nOrganization: Engineering Computer Network, University of Oklahoma, Norman, OK, USA\\nKeywords: orchid, stealth, vlb\\nLines: 21\\n\\n  My brother is in the market for a high-performance video card that supports\\nVESA local bus with 1-2MB RAM.  Does anyone have suggestions/ideas on:\\n\\n  - Diamond Stealth Pro Local Bus\\n\\n  - Orchid Farenheit 1280\\n\\n  - ATI Graphics Ultra Pro\\n\\n  - Any other high-performance VLB card\\n\\n\\nPlease post or email.  Thank you!\\n\\n  - Matt\\n\\n-- \\n    |  Matthew B. Lawson &lt;------------&gt; (mblawson@essex.ecn.uoknor.edu)  |   \\n  --+-- \"Now I, Nebuchadnezzar, praise and exalt and glorify the King  --+-- \\n    |   of heaven, because everything he does is right and all his ways  |   \\n    |   are just.\" - Nebuchadnezzar, king of Babylon, 562 B.C.           |   \\n</td>\n",
       "      <td>3</td>\n",
       "    </tr>\n",
       "    <tr>\n",
       "      <th>2</th>\n",
       "      <td>From: hilmi-er@dsv.su.se (Hilmi Eren)\\nSubject: Re: ARMENIA SAYS IT COULD SHOOT DOWN TURKISH PLANES (Henrik)\\nLines: 95\\nNntp-Posting-Host: viktoria.dsv.su.se\\nReply-To: hilmi-er@dsv.su.se (Hilmi Eren)\\nOrganization: Dept. of Computer and Systems Sciences, Stockholm University\\n\\n\\n\\n\\n|&gt;The student of \"regional killings\" alias Davidian (not the Davidian religios sect) writes:\\n\\n\\n|&gt;Greater Armenia would stretch from Karabakh, to the Black Sea, to the\\n|&gt;Mediterranean, so if you use the term \"Greater Armenia\" use it with care.\\n\\n\\n\\tFinally you said what you dream about. Mediterranean???? That was new....\\n\\tThe area will be \"greater\" after some years, like your \"holocaust\" numbers......\\n\\n\\n\\n\\n|&gt;It has always been up to the Azeris to end their announced winning of Karabakh \\n|&gt;by removing the Armenians! When the president of Azerbaijan, Elchibey, came to \\n|&gt;power last year, he announced he would be be \"swimming in Lake Sevan [in \\n|&gt;Armeniaxn] by July\".\\n\\t\\t*****\\n\\tIs't July in USA now????? Here in Sweden it's April and still cold.\\n\\tOr have you changed your calendar???\\n\\n\\n|&gt;Well, he was wrong! If Elchibey is going to shell the \\n|&gt;Armenians of Karabakh from Aghdam, his people will pay the price! If Elchibey \\n\\t\\t\\t\\t\\t\\t    ****************\\n|&gt;is going to shell Karabakh from Fizuli his people will pay the price! If \\n\\t\\t\\t\\t\\t\\t    ******************\\n|&gt;Elchibey thinks he can get away with bombing Armenia from the hills of \\n|&gt;Kelbajar, his people will pay the price. \\n\\t\\t\\t    ***************\\n\\n\\n\\tNOTHING OF THE MENTIONED IS TRUE, BUT LET SAY IT's TRUE.\\n\\t\\n\\tSHALL THE AZERI WOMEN AND CHILDREN GOING TO PAY THE PRICE WITH\\n\\t\\t\\t\\t\\t\\t    **************\\n\\tBEING RAPED, KILLED AND TORTURED BY THE ARMENIANS??????????\\n\\t\\n\\tHAVE YOU HEARDED SOMETHING CALLED: \"GENEVA CONVENTION\"???????\\n\\tYOU FACIST!!!!!\\n\\n\\n\\n\\tOhhh i forgot, this is how Armenians fight, nobody has forgot\\n\\tyou killings, rapings and torture against the Kurds and Turks once\\n\\tupon a time!\\n      \\n       \\n\\n|&gt;And anyway, this \"60 \\n|&gt;Kurd refugee\" story, as have other stories, are simple fabrications sourced in \\n|&gt;Baku, modified in Ankara. Other examples of this are Armenia has no border \\n|&gt;with Iran, and the ridiculous story of the \"intercepting\" of Armenian military \\n|&gt;conversations as appeared in the New York Times supposedly translated by \\n|&gt;somebody unknown, from Armenian into Azeri Turkish, submitted by an unnamed \\n|&gt;\"special correspondent\" to the NY Times from Baku. Real accurate!\\n\\nOhhhh so swedish RedCross workers do lie they too? What ever you say\\n\"regional killer\", if you don't like the person then shoot him that's your policy.....l\\n\\n\\n|&gt;[HE]\\tSearch Turkish planes? You don't know what you are talking about.&lt;-------\\n|&gt;[HE]\\tsince it's content is announced to be weapons? \\t\\t\\t\\ti\\t \\n\\t\\t\\t\\t\\t\\t\\t\\t\\t\\ti\\n|&gt;Well, big mouth Ozal said military weapons are being provided to Azerbaijan\\ti\\n|&gt;from Turkey, yet Demirel and others say no. No wonder you are so confused!\\ti\\n\\t\\t\\t\\t\\t\\t\\t\\t\\t\\ti\\n\\t\\t\\t\\t\\t\\t\\t\\t\\t\\ti\\n\\tConfused?????\\t\\t\\t\\t\\t\\t\\t\\ti\\n\\tYou facist when you delete text don't change it, i wrote:\\t\\ti\\n\\t\\t\\t\\t\\t\\t\\t\\t\\t\\ti\\n        Search Turkish planes? You don't know what you are talking about.\\ti\\n        Turkey's government has announced that it's giving weapons  &lt;-----------i\\n        to Azerbadjan since Armenia started to attack Azerbadjan\\t\\t\\n        it self, not the Karabag province. So why search a plane for weapons\\t\\n        since it's content is announced to be weapons?   \\n\\n\\tIf there is one that's confused then that's you! We have the right (and we do)\\n\\tto give weapons to the Azeris, since Armenians started the fight in Azerbadjan!\\n \\n\\n|&gt;You are correct, all Turkish planes should be simply shot down! Nice, slow\\n|&gt;moving air transports!\\n\\n\\tShoot down with what? Armenian bread and butter? Or the arms and personel \\n\\tof the Russian army?\\n\\n\\n\\n\\nHilmi Eren\\nStockholm University\\n</td>\n",
       "      <td>17</td>\n",
       "    </tr>\n",
       "  </tbody>\n",
       "</table>\n",
       "</div>"
      ],
      "text/plain": [
       "                                                                                                                                                                                                                                                                                                                                                                                                                                                                                                                                                                                                                                                                                                                                                                                                                                                                                                                                                                                                                                                                                                                                                                                                                                                                                                                                                                                                                                                                                                                                                                                                                                                                                                                                                                                                                                                                                                                                                                                                                                                                                                                                                                                                                                                                                                                                                                                                                                                                                                                                                                                                                                                                                                                                                                                                                                                                                                                                                                                                                                                                                                                                                                                                                                                                                                                                                                                                                                                                                                                                                                                                                                                                                                                                                                                                                                                                                                                                                                                                                                                                                                                                                    doc  \\\n",
       "0  From: Mamatha Devineni Ratnam <mr47+@andrew.cmu.edu>\\nSubject: Pens fans reactions\\nOrganization: Post Office, Carnegie Mellon, Pittsburgh, PA\\nLines: 12\\nNNTP-Posting-Host: po4.andrew.cmu.edu\\n\\n\\n\\nI am sure some bashers of Pens fans are pretty confused about the lack\\nof any kind of posts about the recent Pens massacre of the Devils. Actually,\\nI am  bit puzzled too and a bit relieved. However, I am going to put an end\\nto non-PIttsburghers' relief with a bit of praise for the Pens. Man, they\\nare killing those Devils worse than I thought. Jagr just showed you why\\nhe is much better than his regular season stats. He is also a lot\\nfo fun to watch in the playoffs. Bowman should let JAgr have a lot of\\nfun in the next couple of games since the Pens are going to beat the pulp out of Jersey anyway. I was very disappointed not to see the Islanders lose the final\\nregular season game.          PENS RULE!!!\\n\\n                                                                                                                                                                                                                                                                                                                                                                                                                                                                                                                                                                                                                                                                                                                                                                                                                                                                                                                                                                                                                                                                                                                                                                                                                                                                                                                                                                                                                                                                                                                                                                                                                                                                                                                                                                                                                                                                                                                                                                                                                                                                                                                                                                                                                                                                                                                                                                                                                                                                                                                                                                                                                                                                                                                                                                                                                                                                                                                                                                                                                                                                                                                                                                                               \n",
       "1  From: mblawson@midway.ecn.uoknor.edu (Matthew B Lawson)\\nSubject: Which high-performance VLB video card?\\nSummary: Seek recommendations for VLB video card\\nNntp-Posting-Host: midway.ecn.uoknor.edu\\nOrganization: Engineering Computer Network, University of Oklahoma, Norman, OK, USA\\nKeywords: orchid, stealth, vlb\\nLines: 21\\n\\n  My brother is in the market for a high-performance video card that supports\\nVESA local bus with 1-2MB RAM.  Does anyone have suggestions/ideas on:\\n\\n  - Diamond Stealth Pro Local Bus\\n\\n  - Orchid Farenheit 1280\\n\\n  - ATI Graphics Ultra Pro\\n\\n  - Any other high-performance VLB card\\n\\n\\nPlease post or email.  Thank you!\\n\\n  - Matt\\n\\n-- \\n    |  Matthew B. Lawson <------------> (mblawson@essex.ecn.uoknor.edu)  |   \\n  --+-- \"Now I, Nebuchadnezzar, praise and exalt and glorify the King  --+-- \\n    |   of heaven, because everything he does is right and all his ways  |   \\n    |   are just.\" - Nebuchadnezzar, king of Babylon, 562 B.C.           |   \\n                                                                                                                                                                                                                                                                                                                                                                                                                                                                                                                                                                                                                                                                                                                                                                                                                                                                                                                                                                                                                                                                                                                                                                                                                                                                                                                                                                                                                                                                                                                                                                                                                                                                                                                                                                                                                                                                                                                                                                                                                                                                                                                                                                                                                                                                                                                                                                                                                                                                                                                                                                                                                                                                                                                                                                                                                                                                                                                                                                                                                                                                                                                       \n",
       "2  From: hilmi-er@dsv.su.se (Hilmi Eren)\\nSubject: Re: ARMENIA SAYS IT COULD SHOOT DOWN TURKISH PLANES (Henrik)\\nLines: 95\\nNntp-Posting-Host: viktoria.dsv.su.se\\nReply-To: hilmi-er@dsv.su.se (Hilmi Eren)\\nOrganization: Dept. of Computer and Systems Sciences, Stockholm University\\n\\n\\n\\n\\n|>The student of \"regional killings\" alias Davidian (not the Davidian religios sect) writes:\\n\\n\\n|>Greater Armenia would stretch from Karabakh, to the Black Sea, to the\\n|>Mediterranean, so if you use the term \"Greater Armenia\" use it with care.\\n\\n\\n\\tFinally you said what you dream about. Mediterranean???? That was new....\\n\\tThe area will be \"greater\" after some years, like your \"holocaust\" numbers......\\n\\n\\n\\n\\n|>It has always been up to the Azeris to end their announced winning of Karabakh \\n|>by removing the Armenians! When the president of Azerbaijan, Elchibey, came to \\n|>power last year, he announced he would be be \"swimming in Lake Sevan [in \\n|>Armeniaxn] by July\".\\n\\t\\t*****\\n\\tIs't July in USA now????? Here in Sweden it's April and still cold.\\n\\tOr have you changed your calendar???\\n\\n\\n|>Well, he was wrong! If Elchibey is going to shell the \\n|>Armenians of Karabakh from Aghdam, his people will pay the price! If Elchibey \\n\\t\\t\\t\\t\\t\\t    ****************\\n|>is going to shell Karabakh from Fizuli his people will pay the price! If \\n\\t\\t\\t\\t\\t\\t    ******************\\n|>Elchibey thinks he can get away with bombing Armenia from the hills of \\n|>Kelbajar, his people will pay the price. \\n\\t\\t\\t    ***************\\n\\n\\n\\tNOTHING OF THE MENTIONED IS TRUE, BUT LET SAY IT's TRUE.\\n\\t\\n\\tSHALL THE AZERI WOMEN AND CHILDREN GOING TO PAY THE PRICE WITH\\n\\t\\t\\t\\t\\t\\t    **************\\n\\tBEING RAPED, KILLED AND TORTURED BY THE ARMENIANS??????????\\n\\t\\n\\tHAVE YOU HEARDED SOMETHING CALLED: \"GENEVA CONVENTION\"???????\\n\\tYOU FACIST!!!!!\\n\\n\\n\\n\\tOhhh i forgot, this is how Armenians fight, nobody has forgot\\n\\tyou killings, rapings and torture against the Kurds and Turks once\\n\\tupon a time!\\n      \\n       \\n\\n|>And anyway, this \"60 \\n|>Kurd refugee\" story, as have other stories, are simple fabrications sourced in \\n|>Baku, modified in Ankara. Other examples of this are Armenia has no border \\n|>with Iran, and the ridiculous story of the \"intercepting\" of Armenian military \\n|>conversations as appeared in the New York Times supposedly translated by \\n|>somebody unknown, from Armenian into Azeri Turkish, submitted by an unnamed \\n|>\"special correspondent\" to the NY Times from Baku. Real accurate!\\n\\nOhhhh so swedish RedCross workers do lie they too? What ever you say\\n\"regional killer\", if you don't like the person then shoot him that's your policy.....l\\n\\n\\n|>[HE]\\tSearch Turkish planes? You don't know what you are talking about.<-------\\n|>[HE]\\tsince it's content is announced to be weapons? \\t\\t\\t\\ti\\t \\n\\t\\t\\t\\t\\t\\t\\t\\t\\t\\ti\\n|>Well, big mouth Ozal said military weapons are being provided to Azerbaijan\\ti\\n|>from Turkey, yet Demirel and others say no. No wonder you are so confused!\\ti\\n\\t\\t\\t\\t\\t\\t\\t\\t\\t\\ti\\n\\t\\t\\t\\t\\t\\t\\t\\t\\t\\ti\\n\\tConfused?????\\t\\t\\t\\t\\t\\t\\t\\ti\\n\\tYou facist when you delete text don't change it, i wrote:\\t\\ti\\n\\t\\t\\t\\t\\t\\t\\t\\t\\t\\ti\\n        Search Turkish planes? You don't know what you are talking about.\\ti\\n        Turkey's government has announced that it's giving weapons  <-----------i\\n        to Azerbadjan since Armenia started to attack Azerbadjan\\t\\t\\n        it self, not the Karabag province. So why search a plane for weapons\\t\\n        since it's content is announced to be weapons?   \\n\\n\\tIf there is one that's confused then that's you! We have the right (and we do)\\n\\tto give weapons to the Azeris, since Armenians started the fight in Azerbadjan!\\n \\n\\n|>You are correct, all Turkish planes should be simply shot down! Nice, slow\\n|>moving air transports!\\n\\n\\tShoot down with what? Armenian bread and butter? Or the arms and personel \\n\\tof the Russian army?\\n\\n\\n\\n\\nHilmi Eren\\nStockholm University\\n   \n",
       "\n",
       "   label  \n",
       "0  10     \n",
       "1  3      \n",
       "2  17     "
      ]
     },
     "execution_count": 9,
     "metadata": {},
     "output_type": "execute_result"
    }
   ],
   "source": [
    "df[:3]"
   ]
  },
  {
   "cell_type": "markdown",
   "metadata": {},
   "source": [
    "### Note\n",
    "One thing we notice is that the data has a special structure: it containes headers and signature blocks. This will have an impact on the generalization power of our classifier. For a more realistic approach we can remove these blocks and then train a classifier on the data. "
   ]
  },
  {
   "cell_type": "code",
   "execution_count": 7,
   "metadata": {
    "ExecuteTime": {
     "end_time": "2017-11-20T18:55:12.097495Z",
     "start_time": "2017-11-20T18:55:12.080644Z"
    }
   },
   "outputs": [
    {
     "data": {
      "text/plain": [
       "18038"
      ]
     },
     "execution_count": 7,
     "metadata": {},
     "output_type": "execute_result"
    }
   ],
   "source": [
    "# number of data entries that have a header starting with the source of the email\n",
    "df.doc.str.startswith('From:').sum()"
   ]
  },
  {
   "cell_type": "markdown",
   "metadata": {},
   "source": [
    "## Creating the feature vectors\n",
    "\n",
    "As indicated in the task statement we will use the TfidfVectorizer. This is indeed a good choice for classification as it can successfully filter stop-words by weighting down the frequent terms across the entire corpus."
   ]
  },
  {
   "cell_type": "code",
   "execution_count": 8,
   "metadata": {
    "ExecuteTime": {
     "end_time": "2017-11-20T18:55:17.469291Z",
     "start_time": "2017-11-20T18:55:12.099165Z"
    },
    "collapsed": true
   },
   "outputs": [],
   "source": [
    "vectorizer = TfidfVectorizer()\n",
    "featurized_data = vectorizer.fit_transform(df.doc)"
   ]
  },
  {
   "cell_type": "code",
   "execution_count": 9,
   "metadata": {
    "ExecuteTime": {
     "end_time": "2017-11-20T18:55:17.474286Z",
     "start_time": "2017-11-20T18:55:17.470904Z"
    }
   },
   "outputs": [
    {
     "data": {
      "text/plain": [
       "(18846, 173762)"
      ]
     },
     "execution_count": 9,
     "metadata": {},
     "output_type": "execute_result"
    }
   ],
   "source": [
    "featurized_data.shape"
   ]
  },
  {
   "cell_type": "code",
   "execution_count": 10,
   "metadata": {
    "ExecuteTime": {
     "end_time": "2017-11-20T18:55:17.479611Z",
     "start_time": "2017-11-20T18:55:17.475783Z"
    }
   },
   "outputs": [
    {
     "data": {
      "text/plain": [
       "156.6663482967208"
      ]
     },
     "execution_count": 10,
     "metadata": {},
     "output_type": "execute_result"
    }
   ],
   "source": [
    "rate = featurized_data.nnz/featurized_data.shape[0]\n",
    "rate"
   ]
  },
  {
   "cell_type": "code",
   "execution_count": 11,
   "metadata": {
    "ExecuteTime": {
     "end_time": "2017-11-20T18:55:17.485172Z",
     "start_time": "2017-11-20T18:55:17.481300Z"
    }
   },
   "outputs": [
    {
     "name": "stdout",
     "output_type": "stream",
     "text": [
      "We can see that our feature vectors lie in an 173762-dimmensional space out of which only an average of 156 components are non-zero\n"
     ]
    }
   ],
   "source": [
    "print('We can see that our feature vectors lie in an {}-dimmensional space\\\n",
    " out of which only an average of {} components are non-zero'.format(featurized_data.shape[1], int(rate)))"
   ]
  },
  {
   "cell_type": "markdown",
   "metadata": {},
   "source": [
    "## Splitting the data into train, validation and test\n",
    "\n",
    "### Small note\n",
    "\n",
    "Because the feature vectors for the documents are very high dimmensional and are stored as a *sparse matrix*, we will not create a dataframe from them because we would have to convert it to a dense matrix which would require quite a lot of memory. Instead, we will keep two different numpy arrays, one for labels and one for data, where the label in row *i* corresponds to the data in row *i*."
   ]
  },
  {
   "cell_type": "code",
   "execution_count": 12,
   "metadata": {
    "ExecuteTime": {
     "end_time": "2017-11-20T18:55:17.489666Z",
     "start_time": "2017-11-20T18:55:17.486670Z"
    },
    "collapsed": true
   },
   "outputs": [],
   "source": [
    "X = featurized_data\n",
    "\n",
    "y = df.label.values"
   ]
  },
  {
   "cell_type": "markdown",
   "metadata": {},
   "source": [
    "### Splitting the data\n",
    "\n",
    "Because we will use the GridSearchCV function to fine-tune our model's hyperparameters, we will split our data only into train and test sets. This is because of how is implemented GridSearchCV, which we will discuss a little later.\n",
    "\n",
    "For this, we will use the train_test_split function from sklearn which splits the data into random train and test subsets according to the test_size parameter which specifies the fraction of data we want as test. Additionally, we would like to keep the same distribution across the classes in order to not introduce a sampling bias therefore we will use the parameter stratify to specify the class for each data entry upon which the stratified sampling will be done. \n",
    "\n",
    "By stratified sampling we understand that instead of just randomly extracting 10% of the data for test, we will look at the labels and for each class we will extract 10% as test data."
   ]
  },
  {
   "cell_type": "code",
   "execution_count": 13,
   "metadata": {
    "ExecuteTime": {
     "end_time": "2017-11-20T18:55:17.559992Z",
     "start_time": "2017-11-20T18:55:17.491248Z"
    },
    "collapsed": true
   },
   "outputs": [],
   "source": [
    "X_train, X_test, y_train, y_test = train_test_split(X,y,\n",
    "                                                    test_size=0.1,\n",
    "                                                    stratify=y,\n",
    "                                                    random_state=777)"
   ]
  },
  {
   "cell_type": "markdown",
   "metadata": {},
   "source": [
    "### Class distribution\n",
    "\n",
    "We will now have a look at the class distribution across our train and test datasets."
   ]
  },
  {
   "cell_type": "code",
   "execution_count": 14,
   "metadata": {
    "ExecuteTime": {
     "end_time": "2017-11-20T18:55:18.298464Z",
     "start_time": "2017-11-20T18:55:17.561803Z"
    }
   },
   "outputs": [
    {
     "data": {
      "image/png": "[encoded data removed]",
      "text/plain": [
       "<matplotlib.figure.Figure at 0x7f5a500ce908>"
      ]
     },
     "metadata": {},
     "output_type": "display_data"
    },
    {
     "data": {
      "image/png": "[encoded data removed]",
      "text/plain": [
       "<matplotlib.figure.Figure at 0x7f5a500cf2b0>"
      ]
     },
     "metadata": {},
     "output_type": "display_data"
    }
   ],
   "source": [
    "import matplotlib.pyplot as plt\n",
    "train_class_counts = np.bincount(y_train)\n",
    "test_class_counts = np.bincount(y_test)\n",
    "\n",
    "\n",
    "plt.figure()\n",
    "plt.title('Class distribution across TRAIN sample', fontsize=16)\n",
    "plt.ylabel('counts', fontsize=13)\n",
    "g = sns.barplot(x=labels_names, y=train_class_counts)\n",
    "g.set_xticklabels(labels_names, rotation=90, fontsize=13)\n",
    "plt.show()\n",
    "\n",
    "plt.figure()\n",
    "plt.title('Class distribution across TEST sample', fontsize=16)\n",
    "plt.ylabel('counts', fontsize=13)\n",
    "g = sns.barplot(x=labels_names, y=test_class_counts)\n",
    "g.set_xticklabels(labels_names,rotation=90, fontsize=13)\n",
    "plt.show()"
   ]
  },
  {
   "cell_type": "markdown",
   "metadata": {},
   "source": [
    "We can remark that almost all classes are evenly distributed across the data, a more noticeable exception is the talk.religion.misc class which appears to be about a thirds less frequent.\n",
    "\n",
    "As expected by the train_test_split function, the data's distribution is kept across the two datasets."
   ]
  },
  {
   "cell_type": "markdown",
   "metadata": {},
   "source": [
    "## Training and evaluating the model\n",
    "\n",
    "We will now train a RandomForestClassifier in order to predict the label for the news emails.\n",
    "\n",
    "In order to fine tune the parameters, we will use cross-validation. Given that the parameters to tune are already chosen, one important decision that is left to be made here is the range of the parameters. For this process we will have an iterative approach in which we will start with some coarse values and after each iteration we will fine-graine our intervals.\n",
    "\n",
    ">**n_estimators** as discussed in class and from literature we will firstly pick values in the range [10,500]\n",
    "\n",
    ">**max_depth** will range between [5,40]\n",
    "\n",
    "Another decision with high importance is the evaluation function to be used when tuning our hyperparameters. Given that the data is reasonably distributed across the classes we will use the simple accuracy metric for evaluation. The accuracy metric returns the fraction of matching labels between the predicted labels and actual labels. In other words, it counts the fraction of data entries we classified correctly.\n",
    "\n",
    "In order to tune our parameters we will use the sklearn function GridSearchCV.\n",
    "We pass it a dictionary with parameters values containing an array of values for each parameter and it will iterate over all combinations of these values. It will do, by default, a 3-fold cross-validation to evaluate the current combination.\n",
    "Given that our estimator is a classifier (RandomForestClassifier) the cross-validation will be a stratified-3-fold cross validation.\n",
    "Additionally, we will specify the scoring method to be the above mentioned accuracy metric and we will parallelize the training over 4 thread using n_jobs parameter.\n",
    "\n",
    "One last thing to be mentioned is that GridSearchCV will return the best classifier trained on the entire dataset"
   ]
  },
  {
   "cell_type": "code",
   "execution_count": 15,
   "metadata": {
    "ExecuteTime": {
     "end_time": "2017-11-20T19:13:31.693577Z",
     "start_time": "2017-11-20T18:55:18.299930Z"
    }
   },
   "outputs": [
    {
     "name": "stdout",
     "output_type": "stream",
     "text": [
      "Fitting 3 folds for each of 35 candidates, totalling 105 fits\n"
     ]
    },
    {
     "name": "stderr",
     "output_type": "stream",
     "text": [
      "[Parallel(n_jobs=4)]: Done  42 tasks      | elapsed:  2.3min\n",
      "[Parallel(n_jobs=4)]: Done 105 out of 105 | elapsed: 16.5min finished\n"
     ]
    },
    {
     "data": {
      "text/plain": [
       "GridSearchCV(cv=None, error_score='raise',\n",
       "       estimator=RandomForestClassifier(bootstrap=True, class_weight=None, criterion='gini',\n",
       "            max_depth=None, max_features='auto', max_leaf_nodes=None,\n",
       "            min_impurity_split=1e-07, min_samples_leaf=1,\n",
       "            min_samples_split=2, min_weight_fraction_leaf=0.0,\n",
       "            n_estimators=10, n_jobs=2, oob_score=False, random_state=777,\n",
       "            verbose=0, warm_start=False),\n",
       "       fit_params={}, iid=True, n_jobs=4,\n",
       "       param_grid={'n_estimators': [10, 50, 100, 200, 300, 400, 500], 'max_depth': [5, 10, 20, 30, 40]},\n",
       "       pre_dispatch='2*n_jobs', refit=True, return_train_score=True,\n",
       "       scoring='accuracy', verbose=True)"
      ]
     },
     "execution_count": 15,
     "metadata": {},
     "output_type": "execute_result"
    }
   ],
   "source": [
    "rfc = RandomForestClassifier(n_jobs=2, random_state=777)\n",
    "\n",
    "parameters = {'n_estimators':[10, 50, 100, 200, 300, 400, 500], 'max_depth':[5,10,20,30,40]}\n",
    "\n",
    "clf = GridSearchCV(rfc, parameters, n_jobs=4, scoring='accuracy', verbose=True)\n",
    "\n",
    "clf.fit(X_train, y_train)"
   ]
  },
  {
   "cell_type": "code",
   "execution_count": 16,
   "metadata": {
    "ExecuteTime": {
     "end_time": "2017-11-20T19:13:31.699148Z",
     "start_time": "2017-11-20T19:13:31.695274Z"
    }
   },
   "outputs": [
    {
     "data": {
      "text/plain": [
       "RandomForestClassifier(bootstrap=True, class_weight=None, criterion='gini',\n",
       "            max_depth=40, max_features='auto', max_leaf_nodes=None,\n",
       "            min_impurity_split=1e-07, min_samples_leaf=1,\n",
       "            min_samples_split=2, min_weight_fraction_leaf=0.0,\n",
       "            n_estimators=500, n_jobs=2, oob_score=False, random_state=777,\n",
       "            verbose=0, warm_start=False)"
      ]
     },
     "execution_count": 16,
     "metadata": {},
     "output_type": "execute_result"
    }
   ],
   "source": [
    "clf.best_estimator_"
   ]
  },
  {
   "cell_type": "code",
   "execution_count": 17,
   "metadata": {
    "ExecuteTime": {
     "end_time": "2017-11-20T19:13:31.709335Z",
     "start_time": "2017-11-20T19:13:31.700675Z"
    },
    "scrolled": true
   },
   "outputs": [
    {
     "name": "stderr",
     "output_type": "stream",
     "text": [
      "/home/doru/anaconda3/lib/python3.6/site-packages/sklearn/model_selection/_search.py:667: DeprecationWarning: The grid_scores_ attribute was deprecated in version 0.18 in favor of the more elaborate cv_results_ attribute. The grid_scores_ attribute will not be available from 0.20\n",
      "  DeprecationWarning)\n"
     ]
    },
    {
     "data": {
      "text/plain": [
       "[mean: 0.29745, std: 0.00728, params: {'max_depth': 5, 'n_estimators': 10},\n",
       " mean: 0.54549, std: 0.01415, params: {'max_depth': 5, 'n_estimators': 50},\n",
       " mean: 0.62190, std: 0.00845, params: {'max_depth': 5, 'n_estimators': 100},\n",
       " mean: 0.67089, std: 0.00203, params: {'max_depth': 5, 'n_estimators': 200},\n",
       " mean: 0.68923, std: 0.00326, params: {'max_depth': 5, 'n_estimators': 300},\n",
       " mean: 0.70485, std: 0.00107, params: {'max_depth': 5, 'n_estimators': 400},\n",
       " mean: 0.71028, std: 0.00326, params: {'max_depth': 5, 'n_estimators': 500},\n",
       " mean: 0.40917, std: 0.01287, params: {'max_depth': 10, 'n_estimators': 10},\n",
       " mean: 0.64595, std: 0.00446, params: {'max_depth': 10, 'n_estimators': 50},\n",
       " mean: 0.70562, std: 0.00801, params: {'max_depth': 10, 'n_estimators': 100},\n",
       " mean: 0.72908, std: 0.00762, params: {'max_depth': 10, 'n_estimators': 200},\n",
       " mean: 0.74082, std: 0.00692, params: {'max_depth': 10, 'n_estimators': 300},\n",
       " mean: 0.74848, std: 0.00616, params: {'max_depth': 10, 'n_estimators': 400},\n",
       " mean: 0.75167, std: 0.00721, params: {'max_depth': 10, 'n_estimators': 500},\n",
       " mean: 0.53257, std: 0.00870, params: {'max_depth': 20, 'n_estimators': 10},\n",
       " mean: 0.72755, std: 0.00429, params: {'max_depth': 20, 'n_estimators': 50},\n",
       " mean: 0.76723, std: 0.00667, params: {'max_depth': 20, 'n_estimators': 100},\n",
       " mean: 0.78150, std: 0.00550, params: {'max_depth': 20, 'n_estimators': 200},\n",
       " mean: 0.78663, std: 0.00560, params: {'max_depth': 20, 'n_estimators': 300},\n",
       " mean: 0.79305, std: 0.00401, params: {'max_depth': 20, 'n_estimators': 400},\n",
       " mean: 0.79471, std: 0.00369, params: {'max_depth': 20, 'n_estimators': 500},\n",
       " mean: 0.57821, std: 0.00906, params: {'max_depth': 30, 'n_estimators': 10},\n",
       " mean: 0.75951, std: 0.00614, params: {'max_depth': 30, 'n_estimators': 50},\n",
       " mean: 0.79270, std: 0.00650, params: {'max_depth': 30, 'n_estimators': 100},\n",
       " mean: 0.80284, std: 0.00338, params: {'max_depth': 30, 'n_estimators': 200},\n",
       " mean: 0.80827, std: 0.00340, params: {'max_depth': 30, 'n_estimators': 300},\n",
       " mean: 0.81145, std: 0.00254, params: {'max_depth': 30, 'n_estimators': 400},\n",
       " mean: 0.81239, std: 0.00355, params: {'max_depth': 30, 'n_estimators': 500},\n",
       " mean: 0.60928, std: 0.01191, params: {'max_depth': 40, 'n_estimators': 10},\n",
       " mean: 0.77248, std: 0.00351, params: {'max_depth': 40, 'n_estimators': 50},\n",
       " mean: 0.80154, std: 0.00278, params: {'max_depth': 40, 'n_estimators': 100},\n",
       " mean: 0.81404, std: 0.00370, params: {'max_depth': 40, 'n_estimators': 200},\n",
       " mean: 0.81870, std: 0.00039, params: {'max_depth': 40, 'n_estimators': 300},\n",
       " mean: 0.82283, std: 0.00263, params: {'max_depth': 40, 'n_estimators': 400},\n",
       " mean: 0.82483, std: 0.00210, params: {'max_depth': 40, 'n_estimators': 500}]"
      ]
     },
     "execution_count": 17,
     "metadata": {},
     "output_type": "execute_result"
    }
   ],
   "source": [
    "clf.grid_scores_"
   ]
  },
  {
   "cell_type": "markdown",
   "metadata": {},
   "source": [
    "We can notice from the logs above that the maximum accuracy value was reached at the edge of our parameters values intervals. This is a good indicator that we should explore more values beyond our initial intervals."
   ]
  },
  {
   "cell_type": "code",
   "execution_count": 18,
   "metadata": {
    "ExecuteTime": {
     "end_time": "2017-11-20T19:39:20.473279Z",
     "start_time": "2017-11-20T19:13:31.711036Z"
    }
   },
   "outputs": [
    {
     "name": "stdout",
     "output_type": "stream",
     "text": [
      "Fitting 3 folds for each of 9 candidates, totalling 27 fits\n"
     ]
    },
    {
     "name": "stderr",
     "output_type": "stream",
     "text": [
      "[Parallel(n_jobs=4)]: Done  27 out of  27 | elapsed: 22.5min finished\n"
     ]
    },
    {
     "data": {
      "text/plain": [
       "GridSearchCV(cv=None, error_score='raise',\n",
       "       estimator=RandomForestClassifier(bootstrap=True, class_weight=None, criterion='gini',\n",
       "            max_depth=None, max_features='auto', max_leaf_nodes=None,\n",
       "            min_impurity_split=1e-07, min_samples_leaf=1,\n",
       "            min_samples_split=2, min_weight_fraction_leaf=0.0,\n",
       "            n_estimators=10, n_jobs=2, oob_score=False, random_state=777,\n",
       "            verbose=0, warm_start=False),\n",
       "       fit_params={}, iid=True, n_jobs=4,\n",
       "       param_grid={'n_estimators': [400, 500, 600], 'max_depth': [40, 50, 60]},\n",
       "       pre_dispatch=4, refit=True, return_train_score=True,\n",
       "       scoring='accuracy', verbose=True)"
      ]
     },
     "execution_count": 18,
     "metadata": {},
     "output_type": "execute_result"
    }
   ],
   "source": [
    "rfc = RandomForestClassifier(n_jobs=2, random_state=777)\n",
    "\n",
    "parameters = {'n_estimators':[400, 500, 600], 'max_depth':[40, 50, 60]}\n",
    "\n",
    "clf = GridSearchCV(rfc, parameters, n_jobs=4, pre_dispatch=4, scoring='accuracy', verbose=True)\n",
    "\n",
    "clf.fit(X_train, y_train)"
   ]
  },
  {
   "cell_type": "code",
   "execution_count": 19,
   "metadata": {
    "ExecuteTime": {
     "end_time": "2017-11-20T19:39:20.539840Z",
     "start_time": "2017-11-20T19:39:20.496663Z"
    }
   },
   "outputs": [
    {
     "data": {
      "text/plain": [
       "RandomForestClassifier(bootstrap=True, class_weight=None, criterion='gini',\n",
       "            max_depth=60, max_features='auto', max_leaf_nodes=None,\n",
       "            min_impurity_split=1e-07, min_samples_leaf=1,\n",
       "            min_samples_split=2, min_weight_fraction_leaf=0.0,\n",
       "            n_estimators=600, n_jobs=2, oob_score=False, random_state=777,\n",
       "            verbose=0, warm_start=False)"
      ]
     },
     "execution_count": 19,
     "metadata": {},
     "output_type": "execute_result"
    }
   ],
   "source": [
    "clf.best_estimator_"
   ]
  },
  {
   "cell_type": "code",
   "execution_count": 20,
   "metadata": {
    "ExecuteTime": {
     "end_time": "2017-11-20T19:39:20.581329Z",
     "start_time": "2017-11-20T19:39:20.544529Z"
    },
    "scrolled": true
   },
   "outputs": [
    {
     "data": {
      "text/plain": [
       "{'mean_fit_time': array([ 113.12104877,  134.38394332,  159.42427421,  144.29609704,\n",
       "         176.85852551,  218.07995764,  180.74239119,  226.09119336,\n",
       "         234.34279323]),\n",
       " 'mean_score_time': array([ 4.82946674,  5.22873386,  5.89357789,  4.14888716,  5.21538321,\n",
       "         6.16988921,  4.03084302,  5.52218962,  4.63658301]),\n",
       " 'mean_test_score': array([ 0.82282884,  0.82483344,  0.82595366,  0.83102411,  0.83255704,\n",
       "         0.83467956,  0.83385414,  0.83656624,  0.838335  ]),\n",
       " 'mean_train_score': array([ 0.98352045,  0.98393339,  0.98490612,  0.99168639,  0.99221704,\n",
       "         0.99248238,  0.99587262,  0.99584303,  0.99619686]),\n",
       " 'param_max_depth': masked_array(data = [40 40 40 50 50 50 60 60 60],\n",
       "              mask = [False False False False False False False False False],\n",
       "        fill_value = ?),\n",
       " 'param_n_estimators': masked_array(data = [400 500 600 400 500 600 400 500 600],\n",
       "              mask = [False False False False False False False False False],\n",
       "        fill_value = ?),\n",
       " 'params': ({'max_depth': 40, 'n_estimators': 400},\n",
       "  {'max_depth': 40, 'n_estimators': 500},\n",
       "  {'max_depth': 40, 'n_estimators': 600},\n",
       "  {'max_depth': 50, 'n_estimators': 400},\n",
       "  {'max_depth': 50, 'n_estimators': 500},\n",
       "  {'max_depth': 50, 'n_estimators': 600},\n",
       "  {'max_depth': 60, 'n_estimators': 400},\n",
       "  {'max_depth': 60, 'n_estimators': 500},\n",
       "  {'max_depth': 60, 'n_estimators': 600}),\n",
       " 'rank_test_score': array([9, 8, 7, 6, 5, 3, 4, 2, 1], dtype=int32),\n",
       " 'split0_test_score': array([ 0.82332155,  0.82650177,  0.82526502,  0.8319788 ,  0.83392226,\n",
       "         0.83816254,  0.83551237,  0.83727915,  0.83922261]),\n",
       " 'split0_train_score': array([ 0.98247943,  0.98345279,  0.98442616,  0.99106274,  0.99168215,\n",
       "         0.99185913,  0.99539864,  0.9949562 ,  0.99557561]),\n",
       " 'split1_test_score': array([ 0.81938794,  0.8218645 ,  0.82345657,  0.82911728,  0.82964797,\n",
       "         0.82876349,  0.83000177,  0.83212454,  0.83371661]),\n",
       " 'split1_train_score': array([ 0.98213654,  0.98275557,  0.9831093 ,  0.99036081,  0.99080297,\n",
       "         0.991422  ,  0.99522462,  0.99540149,  0.99566678]),\n",
       " 'split2_test_score': array([ 0.82577904,  0.82613314,  0.82914306,  0.83197592,  0.83410057,\n",
       "         0.83711048,  0.83604816,  0.84029745,  0.84206799]),\n",
       " 'split2_train_score': array([ 0.98594537,  0.9855918 ,  0.98718289,  0.99363564,  0.994166  ,\n",
       "         0.994166  ,  0.99699461,  0.9971714 ,  0.99734818]),\n",
       " 'std_fit_time': array([  3.66293682,   8.48622857,   3.53823117,   2.09312207,\n",
       "          4.13839854,   5.98716336,   2.40855892,   6.70000099,  15.17691998]),\n",
       " 'std_score_time': array([ 1.09317459,  0.41408956,  1.0787436 ,  0.67707401,  0.68659667,\n",
       "         0.52282306,  0.55815766,  0.6459917 ,  0.0825709 ]),\n",
       " 'std_test_score': array([ 0.00263163,  0.00210456,  0.00237147,  0.00134821,  0.00205813,\n",
       "         0.00420492,  0.00273256,  0.00337358,  0.00346588]),\n",
       " 'std_train_score': array([ 0.00172039,  0.00120672,  0.00169731,  0.0014078 ,  0.0014241 ,\n",
       "         0.0012038 ,  0.00079654,  0.00095673,  0.00081496])}"
      ]
     },
     "execution_count": 20,
     "metadata": {},
     "output_type": "execute_result"
    }
   ],
   "source": [
    "clf.cv_results_"
   ]
  },
  {
   "cell_type": "markdown",
   "metadata": {},
   "source": [
    "Again, the best model has the hyper-parameters at the edge of our searching intervals but this time, in order to avoid overfitting and because of the long train times, the model we will not look further and use this result. \n",
    "\n",
    "## Using the model \n",
    "\n",
    "We will now take a look at the confusion matrix for the test dataset. In order to do so, we predict the labels for our test dataset and use the sklearn metrics functionalities, namely the confusion_matrix function, along with the real labels to compute the confusion matrix.\n",
    "\n",
    "Given that the GridSearchCV is a wrapper over the actual estimator, in order to easily analyse feature importances, we will get a reference to the best estimator, i.e. the best RandomForestClassifier."
   ]
  },
  {
   "cell_type": "code",
   "execution_count": 21,
   "metadata": {
    "ExecuteTime": {
     "end_time": "2017-11-20T19:39:20.591778Z",
     "start_time": "2017-11-20T19:39:20.585945Z"
    },
    "collapsed": true
   },
   "outputs": [],
   "source": [
    "forest_clf = clf.best_estimator_"
   ]
  },
  {
   "cell_type": "code",
   "execution_count": 22,
   "metadata": {
    "ExecuteTime": {
     "end_time": "2017-11-20T19:39:21.693526Z",
     "start_time": "2017-11-20T19:39:20.601323Z"
    },
    "collapsed": true
   },
   "outputs": [],
   "source": [
    "y_pred = forest_clf.predict(X_test)"
   ]
  },
  {
   "cell_type": "code",
   "execution_count": 23,
   "metadata": {
    "ExecuteTime": {
     "end_time": "2017-11-20T19:39:21.712958Z",
     "start_time": "2017-11-20T19:39:21.696604Z"
    },
    "collapsed": true
   },
   "outputs": [],
   "source": [
    "conf_mat = confusion_matrix(y_test, y_pred)"
   ]
  },
  {
   "cell_type": "markdown",
   "metadata": {},
   "source": [
    "For an easier analysis of the confusion matrix, we will use a clear visual representation of it."
   ]
  },
  {
   "cell_type": "code",
   "execution_count": 24,
   "metadata": {
    "ExecuteTime": {
     "end_time": "2017-11-20T19:39:22.632292Z",
     "start_time": "2017-11-20T19:39:21.715832Z"
    },
    "scrolled": false
   },
   "outputs": [
    {
     "data": {
      "image/png": "[encoded data removed]",
      "text/plain": [
       "<matplotlib.figure.Figure at 0x7f5a4fef8d68>"
      ]
     },
     "metadata": {},
     "output_type": "display_data"
    }
   ],
   "source": [
    "import matplotlib.ticker as ticker\n",
    "import matplotlib.pyplot as plt\n",
    "\n",
    "fig, ax = plt.subplots(figsize=(15,10))\n",
    "cax = ax.matshow(conf_mat)\n",
    "fig.colorbar(cax)\n",
    "\n",
    "ax.xaxis.set_major_locator(ticker.MultipleLocator(1))\n",
    "ax.yaxis.set_major_locator(ticker.MultipleLocator(1))\n",
    "\n",
    "ax.xaxis.tick_top()\n",
    "\n",
    "plt.xlabel('predicted class', fontsize=14)\n",
    "plt.ylabel('actual class', fontsize=14)\n",
    "\n",
    "plt.xticks(range(20), labels_names, rotation='vertical')\n",
    "plt.yticks(range(20), labels_names)\n",
    "\n",
    "plt.show()"
   ]
  },
  {
   "cell_type": "markdown",
   "metadata": {},
   "source": [
    "To help our analysis, we will also look at the accuracy score of our model."
   ]
  },
  {
   "cell_type": "code",
   "execution_count": 25,
   "metadata": {
    "ExecuteTime": {
     "end_time": "2017-11-20T19:39:22.640917Z",
     "start_time": "2017-11-20T19:39:22.634403Z"
    }
   },
   "outputs": [
    {
     "data": {
      "text/plain": [
       "0.85888594164456233"
      ]
     },
     "execution_count": 25,
     "metadata": {},
     "output_type": "execute_result"
    }
   ],
   "source": [
    "from sklearn.metrics import accuracy_score\n",
    "\n",
    "accuracy_score(y_test, y_pred)"
   ]
  },
  {
   "cell_type": "markdown",
   "metadata": {},
   "source": [
    "We can observe from the confusion matrix that our classifier performs fairly well. Looking at the misclassified data entries, we can see that most of them are examples with related subjects: comp.windows.x and comp.grafics or comp.windows.x and comp.os.ms-windows.misc. Also, the worst classified examples from talk.religion.misc are labeled as soc.religion.christian which is explainable given that having similar subjects, many words are common between the texts but not present in the other classes.\n",
    "\n",
    "We can therefore state that even if our classifier does a decent job, it still has difficulties with subject-related documents. This might be explainable by the number of different subjects across our corpus. Hence, the IDF part of our vectorizer which penalizes words with high frequency across all documents, will not penalize enough words that have a considerable frequency in subject-related documents."
   ]
  },
  {
   "cell_type": "markdown",
   "metadata": {},
   "source": [
    "## Top 20 most important features\n",
    "We will now have a look at the 20 features with the biggest impact on our classifier\n",
    "\n",
    "In order to determine the 20 most important features across our entire decision trees forest, we will average the feature importances of each decision tree. This way we create an indicator over the entire model and we will also have a confidence interval. The same approach is used by the library to compute the feature importances for the RandomForestClassifier."
   ]
  },
  {
   "cell_type": "code",
   "execution_count": 26,
   "metadata": {
    "ExecuteTime": {
     "end_time": "2017-11-20T19:39:24.632843Z",
     "start_time": "2017-11-20T19:39:22.642547Z"
    },
    "collapsed": true
   },
   "outputs": [],
   "source": [
    "# we obtain references to our decision trees\n",
    "decision_trees = forest_clf.estimators_\n",
    "# we create a matrix where row i containes the feature importances\n",
    "# corresponding to decision tree i\n",
    "feature_importances_across_trees = []\n",
    "for tree in decision_trees:\n",
    "    feature_importances_across_trees.append(tree.feature_importances_)\n",
    "    \n",
    "# we compute the mean and std of the feature importances\n",
    "# across all the decision trees\n",
    "mean = np.mean(feature_importances_across_trees, axis=0)\n",
    "std = np.std(feature_importances_across_trees, axis=0)\n",
    "sorted_indices = np.argsort(mean)[::-1]"
   ]
  },
  {
   "cell_type": "markdown",
   "metadata": {},
   "source": [
    "Now that we determined the top most important features, we want to create a dataframe with the importance of the 20 top features across all decision trees in order to see how the values are distributed.\n",
    "\n",
    "To extract more easily the importances for these features using a list of positions as index, we create a numpy array from the feature importances across the decision trees and then we select only those columns corresponding to the features in top 20 most important."
   ]
  },
  {
   "cell_type": "code",
   "execution_count": 64,
   "metadata": {
    "ExecuteTime": {
     "end_time": "2017-11-20T20:27:52.320655Z",
     "start_time": "2017-11-20T20:27:52.128469Z"
    },
    "collapsed": true
   },
   "outputs": [],
   "source": [
    "feat_imp_np = np.array(feature_importances_across_trees)[:,sorted_indices[:top_features]]"
   ]
  },
  {
   "cell_type": "markdown",
   "metadata": {},
   "source": [
    "After we created the numpy array with the importances of the top 20 features, we use it to obtain the desired dataframe."
   ]
  },
  {
   "cell_type": "code",
   "execution_count": 66,
   "metadata": {
    "ExecuteTime": {
     "end_time": "2017-11-20T20:32:21.447522Z",
     "start_time": "2017-11-20T20:32:21.444718Z"
    },
    "collapsed": true
   },
   "outputs": [],
   "source": [
    "df = pd.DataFrame(feat_imp_np)\n",
    "df.columns = feature_names[sorted_indices[:top_features]]"
   ]
  },
  {
   "cell_type": "markdown",
   "metadata": {},
   "source": [
    "Now that we have our dataframe created, we can use the describe method to have a better look at the distribution of the feature importances across the decision trees."
   ]
  },
  {
   "cell_type": "code",
   "execution_count": 67,
   "metadata": {
    "ExecuteTime": {
     "end_time": "2017-11-20T20:32:23.040884Z",
     "start_time": "2017-11-20T20:32:22.998605Z"
    }
   },
   "outputs": [
    {
     "data": {
      "text/html": [
       "<div>\n",
       "<style>\n",
       "    .dataframe thead tr:only-child th {\n",
       "        text-align: right;\n",
       "    }\n",
       "\n",
       "    .dataframe thead th {\n",
       "        text-align: left;\n",
       "    }\n",
       "\n",
       "    .dataframe tbody tr th {\n",
       "        vertical-align: top;\n",
       "    }\n",
       "</style>\n",
       "<table border=\"1\" class=\"dataframe\">\n",
       "  <thead>\n",
       "    <tr style=\"text-align: right;\">\n",
       "      <th></th>\n",
       "      <th>windows</th>\n",
       "      <th>dod</th>\n",
       "      <th>sale</th>\n",
       "      <th>clipper</th>\n",
       "      <th>car</th>\n",
       "      <th>bike</th>\n",
       "      <th>israel</th>\n",
       "      <th>hockey</th>\n",
       "      <th>god</th>\n",
       "      <th>encryption</th>\n",
       "      <th>space</th>\n",
       "      <th>re</th>\n",
       "      <th>team</th>\n",
       "      <th>rutgers</th>\n",
       "      <th>baseball</th>\n",
       "      <th>of</th>\n",
       "      <th>game</th>\n",
       "      <th>athos</th>\n",
       "      <th>cars</th>\n",
       "      <th>the</th>\n",
       "    </tr>\n",
       "  </thead>\n",
       "  <tbody>\n",
       "    <tr>\n",
       "      <th>count</th>\n",
       "      <td>600.000000</td>\n",
       "      <td>600.000000</td>\n",
       "      <td>600.000000</td>\n",
       "      <td>600.000000</td>\n",
       "      <td>600.000000</td>\n",
       "      <td>600.000000</td>\n",
       "      <td>600.000000</td>\n",
       "      <td>600.000000</td>\n",
       "      <td>600.000000</td>\n",
       "      <td>600.000000</td>\n",
       "      <td>600.000000</td>\n",
       "      <td>600.000000</td>\n",
       "      <td>600.000000</td>\n",
       "      <td>600.000000</td>\n",
       "      <td>600.000000</td>\n",
       "      <td>600.000000</td>\n",
       "      <td>600.000000</td>\n",
       "      <td>600.000000</td>\n",
       "      <td>600.000000</td>\n",
       "      <td>600.000000</td>\n",
       "    </tr>\n",
       "    <tr>\n",
       "      <th>mean</th>\n",
       "      <td>0.005288</td>\n",
       "      <td>0.005188</td>\n",
       "      <td>0.004980</td>\n",
       "      <td>0.004132</td>\n",
       "      <td>0.003810</td>\n",
       "      <td>0.003761</td>\n",
       "      <td>0.003582</td>\n",
       "      <td>0.003529</td>\n",
       "      <td>0.003309</td>\n",
       "      <td>0.003255</td>\n",
       "      <td>0.003240</td>\n",
       "      <td>0.003016</td>\n",
       "      <td>0.002922</td>\n",
       "      <td>0.002883</td>\n",
       "      <td>0.002711</td>\n",
       "      <td>0.002657</td>\n",
       "      <td>0.002584</td>\n",
       "      <td>0.002554</td>\n",
       "      <td>0.002511</td>\n",
       "      <td>0.002478</td>\n",
       "    </tr>\n",
       "    <tr>\n",
       "      <th>std</th>\n",
       "      <td>0.009046</td>\n",
       "      <td>0.010389</td>\n",
       "      <td>0.010767</td>\n",
       "      <td>0.009056</td>\n",
       "      <td>0.007018</td>\n",
       "      <td>0.008153</td>\n",
       "      <td>0.007013</td>\n",
       "      <td>0.006998</td>\n",
       "      <td>0.005920</td>\n",
       "      <td>0.007190</td>\n",
       "      <td>0.006052</td>\n",
       "      <td>0.003926</td>\n",
       "      <td>0.005672</td>\n",
       "      <td>0.006335</td>\n",
       "      <td>0.005213</td>\n",
       "      <td>0.003125</td>\n",
       "      <td>0.005445</td>\n",
       "      <td>0.005864</td>\n",
       "      <td>0.005200</td>\n",
       "      <td>0.002492</td>\n",
       "    </tr>\n",
       "    <tr>\n",
       "      <th>min</th>\n",
       "      <td>0.000000</td>\n",
       "      <td>0.000000</td>\n",
       "      <td>0.000000</td>\n",
       "      <td>0.000000</td>\n",
       "      <td>0.000000</td>\n",
       "      <td>0.000000</td>\n",
       "      <td>0.000000</td>\n",
       "      <td>0.000000</td>\n",
       "      <td>0.000000</td>\n",
       "      <td>0.000000</td>\n",
       "      <td>0.000000</td>\n",
       "      <td>0.000000</td>\n",
       "      <td>0.000000</td>\n",
       "      <td>0.000000</td>\n",
       "      <td>0.000000</td>\n",
       "      <td>0.000000</td>\n",
       "      <td>0.000000</td>\n",
       "      <td>0.000000</td>\n",
       "      <td>0.000000</td>\n",
       "      <td>0.000000</td>\n",
       "    </tr>\n",
       "    <tr>\n",
       "      <th>25%</th>\n",
       "      <td>0.000349</td>\n",
       "      <td>0.000000</td>\n",
       "      <td>0.000051</td>\n",
       "      <td>0.000000</td>\n",
       "      <td>0.000140</td>\n",
       "      <td>0.000000</td>\n",
       "      <td>0.000000</td>\n",
       "      <td>0.000000</td>\n",
       "      <td>0.000210</td>\n",
       "      <td>0.000000</td>\n",
       "      <td>0.000087</td>\n",
       "      <td>0.000930</td>\n",
       "      <td>0.000000</td>\n",
       "      <td>0.000000</td>\n",
       "      <td>0.000000</td>\n",
       "      <td>0.001051</td>\n",
       "      <td>0.000000</td>\n",
       "      <td>0.000000</td>\n",
       "      <td>0.000000</td>\n",
       "      <td>0.001135</td>\n",
       "    </tr>\n",
       "    <tr>\n",
       "      <th>50%</th>\n",
       "      <td>0.001575</td>\n",
       "      <td>0.000683</td>\n",
       "      <td>0.000690</td>\n",
       "      <td>0.000588</td>\n",
       "      <td>0.000845</td>\n",
       "      <td>0.000399</td>\n",
       "      <td>0.000419</td>\n",
       "      <td>0.000582</td>\n",
       "      <td>0.000889</td>\n",
       "      <td>0.000452</td>\n",
       "      <td>0.000709</td>\n",
       "      <td>0.001585</td>\n",
       "      <td>0.000457</td>\n",
       "      <td>0.000367</td>\n",
       "      <td>0.000576</td>\n",
       "      <td>0.001696</td>\n",
       "      <td>0.000464</td>\n",
       "      <td>0.000072</td>\n",
       "      <td>0.000197</td>\n",
       "      <td>0.001779</td>\n",
       "    </tr>\n",
       "    <tr>\n",
       "      <th>75%</th>\n",
       "      <td>0.005237</td>\n",
       "      <td>0.004555</td>\n",
       "      <td>0.002946</td>\n",
       "      <td>0.003138</td>\n",
       "      <td>0.003452</td>\n",
       "      <td>0.002942</td>\n",
       "      <td>0.003540</td>\n",
       "      <td>0.003352</td>\n",
       "      <td>0.003761</td>\n",
       "      <td>0.002790</td>\n",
       "      <td>0.003201</td>\n",
       "      <td>0.003043</td>\n",
       "      <td>0.002606</td>\n",
       "      <td>0.002048</td>\n",
       "      <td>0.002495</td>\n",
       "      <td>0.002808</td>\n",
       "      <td>0.002130</td>\n",
       "      <td>0.001664</td>\n",
       "      <td>0.001940</td>\n",
       "      <td>0.002638</td>\n",
       "    </tr>\n",
       "    <tr>\n",
       "      <th>max</th>\n",
       "      <td>0.044330</td>\n",
       "      <td>0.057406</td>\n",
       "      <td>0.058470</td>\n",
       "      <td>0.059699</td>\n",
       "      <td>0.039471</td>\n",
       "      <td>0.044611</td>\n",
       "      <td>0.041434</td>\n",
       "      <td>0.046453</td>\n",
       "      <td>0.037427</td>\n",
       "      <td>0.044768</td>\n",
       "      <td>0.043432</td>\n",
       "      <td>0.019394</td>\n",
       "      <td>0.030083</td>\n",
       "      <td>0.041090</td>\n",
       "      <td>0.030828</td>\n",
       "      <td>0.023886</td>\n",
       "      <td>0.037616</td>\n",
       "      <td>0.037734</td>\n",
       "      <td>0.027423</td>\n",
       "      <td>0.015284</td>\n",
       "    </tr>\n",
       "  </tbody>\n",
       "</table>\n",
       "</div>"
      ],
      "text/plain": [
       "          windows         dod        sale     clipper         car        bike  \\\n",
       "count  600.000000  600.000000  600.000000  600.000000  600.000000  600.000000   \n",
       "mean   0.005288    0.005188    0.004980    0.004132    0.003810    0.003761     \n",
       "std    0.009046    0.010389    0.010767    0.009056    0.007018    0.008153     \n",
       "min    0.000000    0.000000    0.000000    0.000000    0.000000    0.000000     \n",
       "25%    0.000349    0.000000    0.000051    0.000000    0.000140    0.000000     \n",
       "50%    0.001575    0.000683    0.000690    0.000588    0.000845    0.000399     \n",
       "75%    0.005237    0.004555    0.002946    0.003138    0.003452    0.002942     \n",
       "max    0.044330    0.057406    0.058470    0.059699    0.039471    0.044611     \n",
       "\n",
       "           israel      hockey         god  encryption       space          re  \\\n",
       "count  600.000000  600.000000  600.000000  600.000000  600.000000  600.000000   \n",
       "mean   0.003582    0.003529    0.003309    0.003255    0.003240    0.003016     \n",
       "std    0.007013    0.006998    0.005920    0.007190    0.006052    0.003926     \n",
       "min    0.000000    0.000000    0.000000    0.000000    0.000000    0.000000     \n",
       "25%    0.000000    0.000000    0.000210    0.000000    0.000087    0.000930     \n",
       "50%    0.000419    0.000582    0.000889    0.000452    0.000709    0.001585     \n",
       "75%    0.003540    0.003352    0.003761    0.002790    0.003201    0.003043     \n",
       "max    0.041434    0.046453    0.037427    0.044768    0.043432    0.019394     \n",
       "\n",
       "             team     rutgers    baseball          of        game       athos  \\\n",
       "count  600.000000  600.000000  600.000000  600.000000  600.000000  600.000000   \n",
       "mean   0.002922    0.002883    0.002711    0.002657    0.002584    0.002554     \n",
       "std    0.005672    0.006335    0.005213    0.003125    0.005445    0.005864     \n",
       "min    0.000000    0.000000    0.000000    0.000000    0.000000    0.000000     \n",
       "25%    0.000000    0.000000    0.000000    0.001051    0.000000    0.000000     \n",
       "50%    0.000457    0.000367    0.000576    0.001696    0.000464    0.000072     \n",
       "75%    0.002606    0.002048    0.002495    0.002808    0.002130    0.001664     \n",
       "max    0.030083    0.041090    0.030828    0.023886    0.037616    0.037734     \n",
       "\n",
       "             cars         the  \n",
       "count  600.000000  600.000000  \n",
       "mean   0.002511    0.002478    \n",
       "std    0.005200    0.002492    \n",
       "min    0.000000    0.000000    \n",
       "25%    0.000000    0.001135    \n",
       "50%    0.000197    0.001779    \n",
       "75%    0.001940    0.002638    \n",
       "max    0.027423    0.015284    "
      ]
     },
     "execution_count": 67,
     "metadata": {},
     "output_type": "execute_result"
    }
   ],
   "source": [
    "df.describe()"
   ]
  },
  {
   "cell_type": "markdown",
   "metadata": {},
   "source": [
    "We can remark from the values of the quartiles that the features don't have a big importance across all the decision trees, but rather for a subset of it, aproximatively for 25%. This is explainable because decision trees giving importances to different features helps reducing the overfitting characteristic to a decision tree.\n",
    "\n",
    "We can also notice that the mean is comparable with the value of the third quantile which sustains the previous remark regarding the big importance for 25% of the decision trees.\n",
    "\n",
    "What is now left is to plot the 20 most important features with their deviations."
   ]
  },
  {
   "cell_type": "code",
   "execution_count": 27,
   "metadata": {
    "ExecuteTime": {
     "end_time": "2017-11-20T19:39:25.358314Z",
     "start_time": "2017-11-20T19:39:24.636134Z"
    }
   },
   "outputs": [
    {
     "data": {
      "image/png": "[encoded data removed]",
      "text/plain": [
       "<matplotlib.figure.Figure at 0x7f5a4fbcaa90>"
      ]
     },
     "metadata": {},
     "output_type": "display_data"
    }
   ],
   "source": [
    "feature_names = np.array(vectorizer.get_feature_names())\n",
    "top_features = 20 \n",
    "plt.figure()\n",
    "plt.title(\"Words importances\", fontsize=16)\n",
    "plt.bar(range(top_features), mean[sorted_indices[:top_features]],\n",
    "       color=\"r\", yerr=std[sorted_indices[:top_features]], align=\"center\")\n",
    "plt.xticks(range(top_features), feature_names[sorted_indices[:top_features]], rotation='vertical', fontsize=15)\n",
    "plt.xlim([-1, top_features])\n",
    "plt.show()"
   ]
  },
  {
   "cell_type": "code",
   "execution_count": 19,
   "metadata": {
    "ExecuteTime": {
     "end_time": "2017-11-21T14:56:02.214530Z",
     "start_time": "2017-11-21T14:56:02.211486Z"
    }
   },
   "outputs": [
    {
     "data": {
      "text/plain": [
       "['alt.atheism',\n",
       " 'comp.graphics',\n",
       " 'comp.os.ms-windows.misc',\n",
       " 'comp.sys.ibm.pc.hardware',\n",
       " 'comp.sys.mac.hardware',\n",
       " 'comp.windows.x',\n",
       " 'misc.forsale',\n",
       " 'rec.autos',\n",
       " 'rec.motorcycles',\n",
       " 'rec.sport.baseball',\n",
       " 'rec.sport.hockey',\n",
       " 'sci.crypt',\n",
       " 'sci.electronics',\n",
       " 'sci.med',\n",
       " 'sci.space',\n",
       " 'soc.religion.christian',\n",
       " 'talk.politics.guns',\n",
       " 'talk.politics.mideast',\n",
       " 'talk.politics.misc',\n",
       " 'talk.religion.misc']"
      ]
     },
     "execution_count": 19,
     "metadata": {},
     "output_type": "execute_result"
    }
   ],
   "source": [
    "labels_names"
   ]
  },
  {
   "cell_type": "markdown",
   "metadata": {},
   "source": [
    "First thing we notice is the **high variance** in the importance of the features. This is explained by the big number of decision trees in our classifier (600). \n",
    "\n",
    "If we try to analyze the feature importances looking at the words they correspond to, we notice that the classifier is able to identify some topics/key-words in the documents and diferentiate them based on these topics. For example **windows**, which has the biggest averaged importance, is strongly related to the comp.\\* class of subjects. Another example that our classifier manages to select proper keywords from the docs is the high importance our classifier give to the word **god** as it is reasonably to assume that this words is more specific to subjects **alt.atheism** or **soc.religion.christian** than, say, **comp.graphics** which makes it a good feature to differentiate upon."
   ]
  }
 ],
 "metadata": {
  "kernelspec": {
   "display_name": "Python [conda root]",
   "language": "python",
   "name": "conda-root-py"
  },
  "language_info": {
   "codemirror_mode": {
    "name": "ipython",
    "version": 3
   },
   "file_extension": ".py",
   "mimetype": "text/x-python",
   "name": "python",
   "nbconvert_exporter": "python",
   "pygments_lexer": "ipython3",
   "version": "3.6.1"
  },
  "toc": {
   "colors": {
    "hover_highlight": "#DAA520",
    "navigate_num": "#000000",
    "navigate_text": "#333333",
    "running_highlight": "#FF0000",
    "selected_highlight": "#FFD700",
    "sidebar_border": "#EEEEEE",
    "wrapper_background": "#FFFFFF"
   },
   "moveMenuLeft": true,
   "nav_menu": {
    "height": "171px",
    "width": "252px"
   },
   "navigate_menu": true,
   "number_sections": true,
   "sideBar": true,
   "threshold": 4,
   "toc_cell": false,
   "toc_section_display": "block",
   "toc_window_display": false,
   "widenNotebook": false
  },
  "varInspector": {
   "cols": {
    "lenName": 16,
    "lenType": 16,
    "lenVar": 40
   },
   "kernels_config": {
    "python": {
     "delete_cmd_postfix": "",
     "delete_cmd_prefix": "del ",
     "library": "var_list.py",
     "varRefreshCmd": "print(var_dic_list())"
    },
    "r": {
     "delete_cmd_postfix": ") ",
     "delete_cmd_prefix": "rm(",
     "library": "var_list.r",
     "varRefreshCmd": "cat(var_dic_list()) "
    }
   },
   "position": {
    "height": "340px",
    "left": "1161.99px",
    "right": "20px",
    "top": "82.9943px",
    "width": "355px"
   },
   "types_to_exclude": [
    "module",
    "function",
    "builtin_function_or_method",
    "instance",
    "_Feature"
   ],
   "window_display": false
  }
 },
 "nbformat": 4,
 "nbformat_minor": 2
}
