{
 "cells": [
  {
   "cell_type": "markdown",
   "metadata": {},
   "source": [
    "# Trump - a 140 character insight\n",
    "\n",
    "---\n",
    "\n",
    "## Initial research outline\n",
    "\n",
    "As presidents lead their nation, we believe their actions could set an example and influence and encourage certain behaviors. We will investigate if there is a possible correlation between sentiment conveyed by such figures via social media and negative social behavior of a nation.\n",
    "\n",
    "The presidency of Donald Trump has been marked with many controversies, including the rise of supremacist groups and numerous nation wide conflicts. By using Trump tweets, we would explore if there is a significant temporal correlation between sentiment expressed in the Tweet and the number of conflicts in the nation using GDELT dataset. To reduce the bias of such analysis, we would perform the same analysis with social media activity of his predecessor and compare the results, as well as adding the social-economic aspects which may affect such behaviors.\n",
    "\n",
    "What is the power of a presidential tweet? We hope that we will have more insight on the answer of this question and raise awareness on the impact 140 characters can make.\n",
    "\n",
    "### Research questions\n",
    "* Do violent events or crimes occur more frequently after presidential tweets?\n",
    "* Is the correlation higher with negative sentiment of the tweet?\n",
    "* Does a significant difference exists between such correlation with Trump and Obama presidency?\n",
    "* Is there a difference in sentiment expressed in tweets before and after Trump becoming a presidential candidate?\n",
    "* How do social-economical aspects influence the correlation?\n",
    "* Does the political regiment affect such negative behavior on a larger scale?\n",
    "\n",
    "### Dataset\n",
    "\n",
    "#### Trump tweets\n",
    "* Downloading the complete dataset locally and processing the JSON files\n",
    "* We would use mainly the timestamps and tweet content for our analysis:\n",
    "  * timestamps for temporal correlation with events\n",
    "  * tweet content for sentiment analysis\n",
    "* We could follow the impact of tweet by analyzing:\n",
    "  * number of retweets\n",
    "  * number of favorites\n",
    "  * number of followers\n",
    "  \n",
    "#### GDELT\n",
    "* We would use GDELT Global Knowledge graph to gain insights on events:\n",
    "  * geolocalized to USA\n",
    "  * in specified timeframe, starting from 2013\n",
    "  * specific events, such as protests or violent manifestations\n",
    "  * will need knowledge on working on the cluster and accessing the data\n",
    "  \n",
    "#### Wikidata\n",
    "* Obtaining data for social-economical indicators:\n",
    "  * for a specific period of time\n",
    "  * for a specific region of the USA\n",
    "  * data wrangling and processing\n",
    "\n",
    "#### Obama tweets *\n",
    "Available at: http://obamawhitehouse.gov.archivesocial.com/\n",
    "\n",
    "* It would enrich our analysis by providing an insight in differences between the two leaders\n",
    "* We strive for a more complete and less biased analysis\n",
    "\n",
    "---"
   ]
  },
  {
   "cell_type": "markdown",
   "metadata": {},
   "source": [
    "## Evolution of research topic\n",
    "\n",
    "The initial project proposal has evolved through iterations of data exploration, evaluation of project complexity and consultation with the teaching team in ADA.\n",
    "\n",
    "### Main concerns that have been raised\n",
    "* project required many areas of expertise\n",
    "    * from social studies, behavioral studies, to mechanisms of USA economy\n",
    "    * unable to reach the level of expertise on our own\n",
    "    * for this type of project having external scientists would be an overkill\n",
    "* timeframe for this project is limited\n",
    "    * practically impossible to have a meaningful insight in about a month\n",
    "* **signal detection and correlation would be very hard to prove since many underlying factors exist - complexity is high**\n",
    "* GDELT could not provide the necessary granularity for this survey\n",
    "\n",
    "A comment that described our situation and prospect of success:\n",
    "> You will probably need a PhD to be able to come close to a meaningful result.\n",
    "\n",
    "Even though we were passionate about our idea, we have realized we need to reduce the scope and pinpoint specific research questions that are feasible with our current expertise and available time. We are thankful to very insightful comments from professor Bob West who steered us to our current project. The project is reasonable, it is possibly insightful and we hope to squeeze as much information from the dataset as possible.\n",
    "\n",
    "---"
   ]
  },
  {
   "cell_type": "markdown",
   "metadata": {},
   "source": [
    "# TODO: current outline, abstract, research questions and datasets"
   ]
  },
  {
   "cell_type": "markdown",
   "metadata": {},
   "source": [
    "# Data analysis\n",
    "\n",
    "---\n",
    "\n",
    "## General overview\n",
    "\n",
    "We will perform an exploratory data analysis to get a deeper insight on the available data and information within. The two datasets we have decided on using are:\n",
    "\n",
    "* Trump Twitter archive: *main dataset*\n",
    "* Internet archive - Trump TV news factchecks: *enrichment dataset*\n",
    "\n",
    "\n",
    "### Trump Twitter archive\n",
    "\n",
    "Trump Twitter archive represents the complete collection of Tweets from the account of Donald Trump, since the first Tweet in 2009. The dataset has been obtained from [Trump Twitter Archive github repository](https://github.com/bpb27/trump_tweet_data_archive).\n",
    "\n",
    "Internally, the dataset has been obtained by combining [Twitter scraper](https://github.com/bpb27/twitter_scraping) and official Twitter API. This combination would allow for scraping Tweets from any user account without a need to use the official premium Twitter API.\n",
    "\n",
    "The result set is compliant with Twitter API output and information on meaning of columns in our dataset can be obtained by looking into [official documentation](https://developer.twitter.com/en/docs/tweets/tweet-updates).\n",
    "\n",
    "More information and explorative data analysis will follow.\n",
    "\n",
    "### Internet archive - Trump TV news factchecks\n",
    "\n",
    "In further research we would like to have an insight how Donald Trump reacts to the news about him. Obtaining a dataset which collected the news about Donald Trump would be difficult because:\n",
    "* Many sources online - which outlets to select\n",
    "* Possible bias while covering significant portion of news\n",
    "* Duplication of news from different sources\n",
    "* Significant difference in time of publishing\n",
    "* There is a need to extract main topics of news\n",
    "* What is the criteria for marking the news are about Donald Trump - he will appear in many news stories!\n",
    "* No universal API or method for this task - scraping of multiple sites would be necessary\n",
    "\n",
    "Luckily, [The Internet Archive](https://archive.org/details/tv?factchecks) has a ready dataset combining televised news clips linked to Donald Trump, from 2009 until today. Most importantly for televised clips - the dates are present, as well as a short list of topics covered. This would make it easier to pinpoint the reaction, if there is any in the Tweets. \n",
    "\n",
    "More information about the dataset will follow in the exploratory data analysis.\n",
    "\n",
    "\n",
    "### Where to process: in cluster or locally?\n",
    "Both **Trump Twitter archive** and **Internet archive - Trump TV news factchecks** are small enough for a local, in-memory processing and analysis. Decisive characteristics of the datasets for a local, in-memory processing are:\n",
    "\n",
    "* Trump Twitter archive:\n",
    "    * multiple JSON files, split by the year of collection\n",
    "    * content of the JSON files is specified by Twitter API\n",
    "    * 9 uncondensed JSON files, in total less than 100MB (92MB)\n",
    "\n",
    "* Internet archive - Trump TV news factchecks\n",
    "    * single CSV file\n",
    "    * less than 1 MB in size\n",
    "    \n",
    "---\n",
    "\n",
    "## Exploratory data analysis\n",
    "\n",
    "We will look in depth into the datasets and show the possible uses of the information, as well as comments on usability of certain parts of our data.\n",
    "\n",
    "Since dataset size allows for working in-memory, we will use standard utilities such as *Pandas* and *Numpy*, as well as standard utilities for graph and chart visualization."
   ]
  },
  {
   "cell_type": "code",
   "execution_count": 1,
   "metadata": {},
   "outputs": [],
   "source": [
    "import pandas as pd\n",
    "import numpy as np\n",
    "\n",
    "import matplotlib.pyplot as plt\n",
    "%matplotlib inline\n",
    "import seaborn as sns"
   ]
  },
  {
   "cell_type": "code",
   "execution_count": 2,
   "metadata": {},
   "outputs": [],
   "source": [
    "TWEETS_PATH = 'C:/Users/Viktor/Desktop/trump_tweet_data_archive-master/trump_tweet_data_archive-master/master_' \n",
    "NEWS_PATH = 'data/factchecks.csv'"
   ]
  },
  {
   "cell_type": "markdown",
   "metadata": {},
   "source": [
    "### Trump Twitter Archive"
   ]
  },
  {
   "cell_type": "markdown",
   "metadata": {},
   "source": [
    "We combine all the present Tweets into a single `DataFrame` for an easier utilization. Since multiple dataframes are concatenated, we need to reset the index to obtain an unique index."
   ]
  },
  {
   "cell_type": "code",
   "execution_count": 3,
   "metadata": {},
   "outputs": [],
   "source": [
    "tweets = pd.DataFrame()\n",
    "\n",
    "for i in range(2009,2018):\n",
    "    tweets = tweets.append(pd.read_json(TWEETS_PATH+str(i)+'.json/master_'+str(i)+'.json'))\n",
    "    \n",
    "tweets.reset_index(inplace=True)"
   ]
  },
  {
   "cell_type": "markdown",
   "metadata": {},
   "source": [
    "As well as observing all the present columns in our `DataFrame`:"
   ]
  },
  {
   "cell_type": "code",
   "execution_count": 4,
   "metadata": {},
   "outputs": [
    {
     "data": {
      "text/plain": [
       "Index(['index', 'contributors', 'coordinates', 'created_at',\n",
       "       'display_text_range', 'entities', 'extended_entities', 'favorite_count',\n",
       "       'favorited', 'full_text', 'geo', 'id', 'id_str',\n",
       "       'in_reply_to_screen_name', 'in_reply_to_status_id',\n",
       "       'in_reply_to_status_id_str', 'in_reply_to_user_id',\n",
       "       'in_reply_to_user_id_str', 'is_quote_status', 'lang', 'place',\n",
       "       'possibly_sensitive', 'quoted_status', 'quoted_status_id',\n",
       "       'quoted_status_id_str', 'retweet_count', 'retweeted',\n",
       "       'retweeted_status', 'scopes', 'source', 'text', 'truncated', 'user',\n",
       "       'withheld_copyright', 'withheld_in_countries', 'withheld_scope'],\n",
       "      dtype='object')"
      ]
     },
     "execution_count": 4,
     "metadata": {},
     "output_type": "execute_result"
    }
   ],
   "source": [
    "tweets.columns"
   ]
  },
  {
   "cell_type": "markdown",
   "metadata": {},
   "source": [
    "Documentation provides more information about the semantics behind each attribute of a [Tweet object](https://developer.twitter.com/en/docs/tweets/data-dictionary/overview/tweet-object).\n",
    "\n",
    "We are mainly interested in following general attributes of Tweets:\n",
    "* **textual content**\n",
    "* **number of retweets**\n",
    "* **number of favorites**\n",
    "\n",
    "Such Tweet context could be obtained from the fields:\n",
    "* `text` - Tweet content\n",
    "* `created_at` - timestamp of the tweet\n",
    "* `entities` - *dictionary*, [entities](https://developer.twitter.com/en/docs/tweets/data-dictionary/overview/entities-object) parsed out of the tweet:\n",
    "    * `hashtags` - list of included hashtags\n",
    "    * `symbols` - list of symbols\n",
    "    * `urls` - list of urls\n",
    "    * `user_mentions` - list of mentioned users\n",
    "* `favorite_count` - number of favorites\n",
    "* `id` - Tweet id\n",
    "* `is_quote_status` - indicates whether this is a quoted tweet - indicates that this is not a direct expression of the user\n",
    "* `lang` - language of the tweet (could help in the NLP)\n",
    "* `retweet_count` - number of retweets\n",
    "* `source` - utility used to post the Tweet\n",
    "* `user` - *dictionary*, information about the [user](https://developer.twitter.com/en/docs/tweets/data-dictionary/overview/user-object), we are interested in:\n",
    "    * `followers count` - number of followers at the Tweet `created_at` time\n",
    "    * `statuses_count` - number of tweets at the Tweet `created_at` time\n",
    "\n",
    "---\n",
    "\n",
    "**Sample Tweet:**"
   ]
  },
  {
   "cell_type": "code",
   "execution_count": 5,
   "metadata": {},
   "outputs": [
    {
     "data": {
      "text/html": [
       "<div>\n",
       "<style>\n",
       "    .dataframe thead tr:only-child th {\n",
       "        text-align: right;\n",
       "    }\n",
       "\n",
       "    .dataframe thead th {\n",
       "        text-align: left;\n",
       "    }\n",
       "\n",
       "    .dataframe tbody tr th {\n",
       "        vertical-align: top;\n",
       "    }\n",
       "</style>\n",
       "<table border=\"1\" class=\"dataframe\">\n",
       "  <thead>\n",
       "    <tr style=\"text-align: right;\">\n",
       "      <th></th>\n",
       "      <th>index</th>\n",
       "      <th>contributors</th>\n",
       "      <th>coordinates</th>\n",
       "      <th>created_at</th>\n",
       "      <th>display_text_range</th>\n",
       "      <th>entities</th>\n",
       "      <th>extended_entities</th>\n",
       "      <th>favorite_count</th>\n",
       "      <th>favorited</th>\n",
       "      <th>full_text</th>\n",
       "      <th>...</th>\n",
       "      <th>retweeted</th>\n",
       "      <th>retweeted_status</th>\n",
       "      <th>scopes</th>\n",
       "      <th>source</th>\n",
       "      <th>text</th>\n",
       "      <th>truncated</th>\n",
       "      <th>user</th>\n",
       "      <th>withheld_copyright</th>\n",
       "      <th>withheld_in_countries</th>\n",
       "      <th>withheld_scope</th>\n",
       "    </tr>\n",
       "  </thead>\n",
       "  <tbody>\n",
       "    <tr>\n",
       "      <th>0</th>\n",
       "      <td>0</td>\n",
       "      <td>NaN</td>\n",
       "      <td>NaN</td>\n",
       "      <td>2009-12-23 17:38:18</td>\n",
       "      <td>NaN</td>\n",
       "      <td>{'symbols': [], 'user_mentions': [], 'hashtags...</td>\n",
       "      <td>NaN</td>\n",
       "      <td>12</td>\n",
       "      <td>False</td>\n",
       "      <td>NaN</td>\n",
       "      <td>...</td>\n",
       "      <td>False</td>\n",
       "      <td>NaN</td>\n",
       "      <td>NaN</td>\n",
       "      <td>&lt;a href=\"http://twitter.com\" rel=\"nofollow\"&gt;Tw...</td>\n",
       "      <td>From Donald Trump: Wishing everyone a wonderfu...</td>\n",
       "      <td>False</td>\n",
       "      <td>{'follow_request_sent': False, 'has_extended_p...</td>\n",
       "      <td>NaN</td>\n",
       "      <td>NaN</td>\n",
       "      <td>NaN</td>\n",
       "    </tr>\n",
       "    <tr>\n",
       "      <th>1</th>\n",
       "      <td>1</td>\n",
       "      <td>NaN</td>\n",
       "      <td>NaN</td>\n",
       "      <td>2009-12-03 19:39:09</td>\n",
       "      <td>NaN</td>\n",
       "      <td>{'symbols': [], 'user_mentions': [], 'hashtags...</td>\n",
       "      <td>NaN</td>\n",
       "      <td>6</td>\n",
       "      <td>False</td>\n",
       "      <td>NaN</td>\n",
       "      <td>...</td>\n",
       "      <td>False</td>\n",
       "      <td>NaN</td>\n",
       "      <td>NaN</td>\n",
       "      <td>&lt;a href=\"http://twitter.com\" rel=\"nofollow\"&gt;Tw...</td>\n",
       "      <td>Trump International Tower in Chicago ranked 6t...</td>\n",
       "      <td>False</td>\n",
       "      <td>{'follow_request_sent': False, 'has_extended_p...</td>\n",
       "      <td>NaN</td>\n",
       "      <td>NaN</td>\n",
       "      <td>NaN</td>\n",
       "    </tr>\n",
       "  </tbody>\n",
       "</table>\n",
       "<p>2 rows × 36 columns</p>\n",
       "</div>"
      ],
      "text/plain": [
       "   index  contributors coordinates          created_at display_text_range  \\\n",
       "0      0           NaN         NaN 2009-12-23 17:38:18                NaN   \n",
       "1      1           NaN         NaN 2009-12-03 19:39:09                NaN   \n",
       "\n",
       "                                            entities extended_entities  \\\n",
       "0  {'symbols': [], 'user_mentions': [], 'hashtags...               NaN   \n",
       "1  {'symbols': [], 'user_mentions': [], 'hashtags...               NaN   \n",
       "\n",
       "   favorite_count  favorited full_text      ...       retweeted  \\\n",
       "0              12      False       NaN      ...           False   \n",
       "1               6      False       NaN      ...           False   \n",
       "\n",
       "   retweeted_status  scopes  \\\n",
       "0               NaN     NaN   \n",
       "1               NaN     NaN   \n",
       "\n",
       "                                              source  \\\n",
       "0  <a href=\"http://twitter.com\" rel=\"nofollow\">Tw...   \n",
       "1  <a href=\"http://twitter.com\" rel=\"nofollow\">Tw...   \n",
       "\n",
       "                                                text  truncated  \\\n",
       "0  From Donald Trump: Wishing everyone a wonderfu...      False   \n",
       "1  Trump International Tower in Chicago ranked 6t...      False   \n",
       "\n",
       "                                                user  withheld_copyright  \\\n",
       "0  {'follow_request_sent': False, 'has_extended_p...                 NaN   \n",
       "1  {'follow_request_sent': False, 'has_extended_p...                 NaN   \n",
       "\n",
       "   withheld_in_countries withheld_scope  \n",
       "0                    NaN            NaN  \n",
       "1                    NaN            NaN  \n",
       "\n",
       "[2 rows x 36 columns]"
      ]
     },
     "execution_count": 5,
     "metadata": {},
     "output_type": "execute_result"
    }
   ],
   "source": [
    "tweets.head(2)"
   ]
  },
  {
   "cell_type": "markdown",
   "metadata": {},
   "source": [
    "**Sample `entities` dictionary**:"
   ]
  },
  {
   "cell_type": "code",
   "execution_count": 6,
   "metadata": {},
   "outputs": [
    {
     "data": {
      "text/plain": [
       "{'hashtags': [], 'symbols': [], 'urls': [], 'user_mentions': []}"
      ]
     },
     "execution_count": 6,
     "metadata": {},
     "output_type": "execute_result"
    }
   ],
   "source": [
    "tweets.loc[0].entities"
   ]
  },
  {
   "cell_type": "markdown",
   "metadata": {},
   "source": [
    "**Sample `user` dictionary:**"
   ]
  },
  {
   "cell_type": "code",
   "execution_count": 7,
   "metadata": {},
   "outputs": [
    {
     "data": {
      "text/plain": [
       "{'contributors_enabled': False,\n",
       " 'created_at': 'Wed Mar 18 13:46:38 +0000 2009',\n",
       " 'default_profile': False,\n",
       " 'default_profile_image': False,\n",
       " 'description': 'President-elect of the United States',\n",
       " 'entities': {'description': {'urls': []},\n",
       "  'url': {'urls': [{'display_url': 'DonaldJTrump.com',\n",
       "     'expanded_url': 'http://www.DonaldJTrump.com',\n",
       "     'indices': [0, 23],\n",
       "     'url': 'https://t.co/mZB2hymxC9'}]}},\n",
       " 'favourites_count': 45,\n",
       " 'follow_request_sent': False,\n",
       " 'followers_count': 15665560,\n",
       " 'following': True,\n",
       " 'friends_count': 41,\n",
       " 'geo_enabled': True,\n",
       " 'has_extended_profile': False,\n",
       " 'id': 25073877,\n",
       " 'id_str': '25073877',\n",
       " 'is_translation_enabled': True,\n",
       " 'is_translator': False,\n",
       " 'lang': 'en',\n",
       " 'listed_count': 45212,\n",
       " 'location': 'New York, NY',\n",
       " 'name': 'Donald J. Trump',\n",
       " 'notifications': True,\n",
       " 'profile_background_color': '6D5C18',\n",
       " 'profile_background_image_url': 'http://pbs.twimg.com/profile_background_images/530021613/trump_scotland__43_of_70_cc.jpg',\n",
       " 'profile_background_image_url_https': 'https://pbs.twimg.com/profile_background_images/530021613/trump_scotland__43_of_70_cc.jpg',\n",
       " 'profile_background_tile': True,\n",
       " 'profile_banner_url': 'https://pbs.twimg.com/profile_banners/25073877/1479267159',\n",
       " 'profile_image_url': 'http://pbs.twimg.com/profile_images/1980294624/DJT_Headshot_V2_normal.jpg',\n",
       " 'profile_image_url_https': 'https://pbs.twimg.com/profile_images/1980294624/DJT_Headshot_V2_normal.jpg',\n",
       " 'profile_link_color': '0D5B73',\n",
       " 'profile_sidebar_border_color': 'BDDCAD',\n",
       " 'profile_sidebar_fill_color': 'C5CEC0',\n",
       " 'profile_text_color': '333333',\n",
       " 'profile_use_background_image': True,\n",
       " 'protected': False,\n",
       " 'screen_name': 'realDonaldTrump',\n",
       " 'statuses_count': 34010,\n",
       " 'time_zone': 'Eastern Time (US & Canada)',\n",
       " 'translator_type': 'none',\n",
       " 'url': 'https://t.co/mZB2hymxC9',\n",
       " 'utc_offset': -18000,\n",
       " 'verified': True}"
      ]
     },
     "execution_count": 7,
     "metadata": {},
     "output_type": "execute_result"
    }
   ],
   "source": [
    "tweets.loc[0].user"
   ]
  },
  {
   "cell_type": "markdown",
   "metadata": {},
   "source": [
    "We see many fields generated by the API, but as we have previously mentioned, we will use only a subset of such features for our analysis.\n",
    "\n",
    "---\n",
    "\n",
    "#### General characteristics of the dataset"
   ]
  },
  {
   "cell_type": "code",
   "execution_count": 8,
   "metadata": {},
   "outputs": [
    {
     "name": "stdout",
     "output_type": "stream",
     "text": [
      "Number of Tweets:  32532\n",
      "Account created on:  Wed Mar 18 13:46:38 +0000 2009\n",
      "User time zone: Eastern Time (US & Canada)\n",
      "Latest tweet time: 2017-11-24 18:49:12\n"
     ]
    }
   ],
   "source": [
    "print('Number of Tweets: ', tweets.shape[0])\n",
    "print('Account created on: ', tweets.loc[0].user['created_at'])\n",
    "print('User time zone:', tweets.loc[0].user['time_zone'])\n",
    "print('Latest tweet time:', tweets.created_at.max())"
   ]
  },
  {
   "cell_type": "code",
   "execution_count": 9,
   "metadata": {},
   "outputs": [
    {
     "data": {
      "text/html": [
       "<div>\n",
       "<style>\n",
       "    .dataframe thead tr:only-child th {\n",
       "        text-align: right;\n",
       "    }\n",
       "\n",
       "    .dataframe thead th {\n",
       "        text-align: left;\n",
       "    }\n",
       "\n",
       "    .dataframe tbody tr th {\n",
       "        vertical-align: top;\n",
       "    }\n",
       "</style>\n",
       "<table border=\"1\" class=\"dataframe\">\n",
       "  <thead>\n",
       "    <tr style=\"text-align: right;\">\n",
       "      <th></th>\n",
       "      <th>index</th>\n",
       "      <th>contributors</th>\n",
       "      <th>favorite_count</th>\n",
       "      <th>id</th>\n",
       "      <th>id_str</th>\n",
       "      <th>in_reply_to_status_id</th>\n",
       "      <th>in_reply_to_status_id_str</th>\n",
       "      <th>in_reply_to_user_id</th>\n",
       "      <th>in_reply_to_user_id_str</th>\n",
       "      <th>possibly_sensitive</th>\n",
       "      <th>quoted_status_id</th>\n",
       "      <th>quoted_status_id_str</th>\n",
       "      <th>retweet_count</th>\n",
       "      <th>withheld_copyright</th>\n",
       "    </tr>\n",
       "  </thead>\n",
       "  <tbody>\n",
       "    <tr>\n",
       "      <th>count</th>\n",
       "      <td>32532.000000</td>\n",
       "      <td>0.0</td>\n",
       "      <td>32532.000000</td>\n",
       "      <td>3.253200e+04</td>\n",
       "      <td>3.253200e+04</td>\n",
       "      <td>1.999000e+03</td>\n",
       "      <td>1.999000e+03</td>\n",
       "      <td>2.440000e+03</td>\n",
       "      <td>2.440000e+03</td>\n",
       "      <td>7489.0</td>\n",
       "      <td>2.860000e+02</td>\n",
       "      <td>2.860000e+02</td>\n",
       "      <td>32532.000000</td>\n",
       "      <td>1.0</td>\n",
       "    </tr>\n",
       "    <tr>\n",
       "      <th>mean</th>\n",
       "      <td>2965.614134</td>\n",
       "      <td>NaN</td>\n",
       "      <td>8414.287809</td>\n",
       "      <td>5.031478e+17</td>\n",
       "      <td>5.031478e+17</td>\n",
       "      <td>3.347165e+17</td>\n",
       "      <td>3.347165e+17</td>\n",
       "      <td>3.516381e+08</td>\n",
       "      <td>3.516381e+08</td>\n",
       "      <td>0.0</td>\n",
       "      <td>7.254326e+17</td>\n",
       "      <td>7.254326e+17</td>\n",
       "      <td>2572.550012</td>\n",
       "      <td>1.0</td>\n",
       "    </tr>\n",
       "    <tr>\n",
       "      <th>std</th>\n",
       "      <td>2112.973211</td>\n",
       "      <td>NaN</td>\n",
       "      <td>25144.002721</td>\n",
       "      <td>2.027952e+17</td>\n",
       "      <td>2.027952e+17</td>\n",
       "      <td>9.525507e+16</td>\n",
       "      <td>9.525507e+16</td>\n",
       "      <td>4.004455e+08</td>\n",
       "      <td>4.004455e+08</td>\n",
       "      <td>0.0</td>\n",
       "      <td>1.097156e+17</td>\n",
       "      <td>1.097156e+17</td>\n",
       "      <td>7422.315792</td>\n",
       "      <td>NaN</td>\n",
       "    </tr>\n",
       "    <tr>\n",
       "      <th>min</th>\n",
       "      <td>0.000000</td>\n",
       "      <td>NaN</td>\n",
       "      <td>0.000000</td>\n",
       "      <td>1.698309e+09</td>\n",
       "      <td>1.698309e+09</td>\n",
       "      <td>1.672774e+17</td>\n",
       "      <td>1.672774e+17</td>\n",
       "      <td>7.425000e+03</td>\n",
       "      <td>7.425000e+03</td>\n",
       "      <td>0.0</td>\n",
       "      <td>5.427798e+17</td>\n",
       "      <td>5.427798e+17</td>\n",
       "      <td>0.000000</td>\n",
       "      <td>1.0</td>\n",
       "    </tr>\n",
       "    <tr>\n",
       "      <th>25%</th>\n",
       "      <td>1193.000000</td>\n",
       "      <td>NaN</td>\n",
       "      <td>20.000000</td>\n",
       "      <td>3.350412e+17</td>\n",
       "      <td>3.350412e+17</td>\n",
       "      <td>2.937718e+17</td>\n",
       "      <td>2.937718e+17</td>\n",
       "      <td>4.251961e+07</td>\n",
       "      <td>4.251961e+07</td>\n",
       "      <td>0.0</td>\n",
       "      <td>6.293375e+17</td>\n",
       "      <td>6.293375e+17</td>\n",
       "      <td>16.000000</td>\n",
       "      <td>1.0</td>\n",
       "    </tr>\n",
       "    <tr>\n",
       "      <th>50%</th>\n",
       "      <td>2590.000000</td>\n",
       "      <td>NaN</td>\n",
       "      <td>68.000000</td>\n",
       "      <td>5.097998e+17</td>\n",
       "      <td>5.097998e+17</td>\n",
       "      <td>3.138054e+17</td>\n",
       "      <td>3.138054e+17</td>\n",
       "      <td>2.392729e+08</td>\n",
       "      <td>2.392729e+08</td>\n",
       "      <td>0.0</td>\n",
       "      <td>6.973068e+17</td>\n",
       "      <td>6.973068e+17</td>\n",
       "      <td>107.000000</td>\n",
       "      <td>1.0</td>\n",
       "    </tr>\n",
       "    <tr>\n",
       "      <th>75%</th>\n",
       "      <td>4443.000000</td>\n",
       "      <td>NaN</td>\n",
       "      <td>1910.000000</td>\n",
       "      <td>6.551359e+17</td>\n",
       "      <td>6.551359e+17</td>\n",
       "      <td>3.543118e+17</td>\n",
       "      <td>3.543118e+17</td>\n",
       "      <td>4.852951e+08</td>\n",
       "      <td>4.852951e+08</td>\n",
       "      <td>0.0</td>\n",
       "      <td>7.888950e+17</td>\n",
       "      <td>7.888950e+17</td>\n",
       "      <td>1151.250000</td>\n",
       "      <td>1.0</td>\n",
       "    </tr>\n",
       "    <tr>\n",
       "      <th>max</th>\n",
       "      <td>8143.000000</td>\n",
       "      <td>NaN</td>\n",
       "      <td>633253.000000</td>\n",
       "      <td>9.341318e+17</td>\n",
       "      <td>9.341318e+17</td>\n",
       "      <td>9.336626e+17</td>\n",
       "      <td>9.336626e+17</td>\n",
       "      <td>3.412873e+09</td>\n",
       "      <td>3.412873e+09</td>\n",
       "      <td>0.0</td>\n",
       "      <td>9.339594e+17</td>\n",
       "      <td>9.339594e+17</td>\n",
       "      <td>369530.000000</td>\n",
       "      <td>1.0</td>\n",
       "    </tr>\n",
       "  </tbody>\n",
       "</table>\n",
       "</div>"
      ],
      "text/plain": [
       "              index  contributors  favorite_count            id        id_str  \\\n",
       "count  32532.000000           0.0    32532.000000  3.253200e+04  3.253200e+04   \n",
       "mean    2965.614134           NaN     8414.287809  5.031478e+17  5.031478e+17   \n",
       "std     2112.973211           NaN    25144.002721  2.027952e+17  2.027952e+17   \n",
       "min        0.000000           NaN        0.000000  1.698309e+09  1.698309e+09   \n",
       "25%     1193.000000           NaN       20.000000  3.350412e+17  3.350412e+17   \n",
       "50%     2590.000000           NaN       68.000000  5.097998e+17  5.097998e+17   \n",
       "75%     4443.000000           NaN     1910.000000  6.551359e+17  6.551359e+17   \n",
       "max     8143.000000           NaN   633253.000000  9.341318e+17  9.341318e+17   \n",
       "\n",
       "       in_reply_to_status_id  in_reply_to_status_id_str  in_reply_to_user_id  \\\n",
       "count           1.999000e+03               1.999000e+03         2.440000e+03   \n",
       "mean            3.347165e+17               3.347165e+17         3.516381e+08   \n",
       "std             9.525507e+16               9.525507e+16         4.004455e+08   \n",
       "min             1.672774e+17               1.672774e+17         7.425000e+03   \n",
       "25%             2.937718e+17               2.937718e+17         4.251961e+07   \n",
       "50%             3.138054e+17               3.138054e+17         2.392729e+08   \n",
       "75%             3.543118e+17               3.543118e+17         4.852951e+08   \n",
       "max             9.336626e+17               9.336626e+17         3.412873e+09   \n",
       "\n",
       "       in_reply_to_user_id_str  possibly_sensitive  quoted_status_id  \\\n",
       "count             2.440000e+03              7489.0      2.860000e+02   \n",
       "mean              3.516381e+08                 0.0      7.254326e+17   \n",
       "std               4.004455e+08                 0.0      1.097156e+17   \n",
       "min               7.425000e+03                 0.0      5.427798e+17   \n",
       "25%               4.251961e+07                 0.0      6.293375e+17   \n",
       "50%               2.392729e+08                 0.0      6.973068e+17   \n",
       "75%               4.852951e+08                 0.0      7.888950e+17   \n",
       "max               3.412873e+09                 0.0      9.339594e+17   \n",
       "\n",
       "       quoted_status_id_str  retweet_count  withheld_copyright  \n",
       "count          2.860000e+02   32532.000000                 1.0  \n",
       "mean           7.254326e+17    2572.550012                 1.0  \n",
       "std            1.097156e+17    7422.315792                 NaN  \n",
       "min            5.427798e+17       0.000000                 1.0  \n",
       "25%            6.293375e+17      16.000000                 1.0  \n",
       "50%            6.973068e+17     107.000000                 1.0  \n",
       "75%            7.888950e+17    1151.250000                 1.0  \n",
       "max            9.339594e+17  369530.000000                 1.0  "
      ]
     },
     "execution_count": 9,
     "metadata": {},
     "output_type": "execute_result"
    }
   ],
   "source": [
    "tweets.describe()"
   ]
  },
  {
   "cell_type": "markdown",
   "metadata": {},
   "source": [
    "Donald Trump has had his Twitter account created on 18th of March, 2009. Since then he has Tweeted over 32532 times. We have taken a snippet of the dataset on 24th of November 2017 to work with locally. Latest tweet is posted on 18:49:12 that day, in Eastern time zone.\n",
    "\n",
    "The dataset is being updated hourly with new tweets. After obtaining a stable tool for analysis and insight, it would be possible to perform an hourly update. Albeit, such miniscule changes in comparison to the total body of tweets would be insignificant for some analysis. \n",
    "\n",
    "As seen in the `DataFrame` description, across all the Tweets we can observe their overall coarse popularity:\n",
    "* favorites: \n",
    "    * maximum: 633253\n",
    "    * mean: 8414\n",
    "    * median: 68\n",
    "* retweets:\n",
    "    * maximum: 369530 \n",
    "    * mean: 2572\n",
    "    * median: 107\n",
    "    \n",
    "We will look into greater detail about Tweet distribution over the years, their characteristics and stats in later phases of dedicated data analysis.\n",
    "\n",
    "#### Geolocation - is there a value in it?\n",
    "\n",
    "Twitter API provides geographical coordinates of the tweet, provided the user has enabled such an option. This could provide some insight on activities of any person using Twitter. In this case it could provide an option to see whether the tone of the Tweets and general topics differ when Donald Trump is in different locations: foreign countries, Oval office or resting at Mar-a-Lago.\n",
    "\n",
    "As presumed, only certain number of Tweet is geotagged. This makes sense - since otherwise Secret Service might have a more difficult job in certain situations. Albeit, we can get a small glimpse of locations Donald Trump has visited, as we will demonstrate in a short example:"
   ]
  },
  {
   "cell_type": "code",
   "execution_count": 10,
   "metadata": {},
   "outputs": [
    {
     "data": {
      "text/plain": [
       "(2299,)"
      ]
     },
     "execution_count": 10,
     "metadata": {},
     "output_type": "execute_result"
    }
   ],
   "source": [
    "# we extract the tweets for which the geolocation is defined\n",
    "coord = tweets.loc[tweets.coordinates.notnull()]['coordinates']\n",
    "coord.shape"
   ]
  },
  {
   "cell_type": "markdown",
   "metadata": {},
   "source": [
    "We will use `Folium` to show a map and place markers on locations Donald Trump has tweeted from."
   ]
  },
  {
   "cell_type": "code",
   "execution_count": 11,
   "metadata": {},
   "outputs": [],
   "source": [
    "import folium\n",
    "\n",
    "m = folium.Map(location=[40.7624658, -73.9754123], zoom_start=2)"
   ]
  },
  {
   "cell_type": "markdown",
   "metadata": {},
   "source": [
    "Since there are too many Tweets (2299) to visualize on a map, we presume that some have similar coordinates - we only want a general location. Thus we define functions to generalize the location and reduce the size of a list by merging similar coordinates together:"
   ]
  },
  {
   "cell_type": "code",
   "execution_count": 12,
   "metadata": {},
   "outputs": [],
   "source": [
    "'''\n",
    "Convenience function wrapper for reversing a list.\n",
    "\n",
    "Parameters: \n",
    "my_list -- input list to reverse\n",
    "\n",
    "Returns:\n",
    "my_list -- list with reversed elements\n",
    "'''\n",
    "def my_reverse(my_list):\n",
    "    my_list.reverse()\n",
    "    return my_list\n",
    "\n",
    "'''\n",
    "Function for verifying whether a sublist exists in a list of lists.\n",
    "\n",
    "Parameters:\n",
    "my_list -- list of lists\n",
    "check -- list, input for which to check existence in my_list\n",
    "\n",
    "Returns:\n",
    "boolean -- True if sublist does not exist in the list, False otherwise\n",
    "'''\n",
    "def not_in_list(my_list, check):\n",
    "    for lst in my_list:\n",
    "        if(np.array_equal(check, lst)):\n",
    "            return False\n",
    "    return True\n",
    "\n",
    "'''\n",
    "Function for removing similar coordinates from the coordinates iterable object. \n",
    "The similarity is defined by decimal precision - the higher the decimal it is more precise and less entries would be removed.\n",
    "\n",
    "Parameters:\n",
    "coord_list -- iterable object containing coordinates (pandas.Series object)\n",
    "decimal -- the rounding precision to be applied\n",
    "\n",
    "Returns:\n",
    "np.array -- array with removed similar coordinates\n",
    "'''\n",
    "def remove_similar_coord(coord_list, decimal):\n",
    "    cleaned = [[0.53242,  0.43315]]\n",
    "    \n",
    "    for el in coord_list:\n",
    "        rounded = np.around(el['coordinates'],decimal)\n",
    "        if (not_in_list(cleaned, rounded)):\n",
    "            cleaned.append(rounded)\n",
    "    \n",
    "    return np.array(cleaned)"
   ]
  },
  {
   "cell_type": "code",
   "execution_count": 13,
   "metadata": {},
   "outputs": [
    {
     "data": {
      "text/plain": [
       "(78, 2)"
      ]
     },
     "execution_count": 13,
     "metadata": {},
     "output_type": "execute_result"
    }
   ],
   "source": [
    "cleaned = remove_similar_coord(coord, 2)\n",
    "cleaned.shape"
   ]
  },
  {
   "cell_type": "markdown",
   "metadata": {},
   "source": [
    "In comparison to 2299 markers, 78 markers would be more reasonable to plot on map. Only thing we did was generalizing Tweets that were posted from nearby locations. We will add the markers to the map, note that we need to reverse the coordinates provided in Twitter API (reverse the position of lattitude and longitude) to show the right location."
   ]
  },
  {
   "cell_type": "code",
   "execution_count": 14,
   "metadata": {
    "scrolled": true
   },
   "outputs": [
    {
     "data": {
      "text/html": [
       "<div style=\"width:100%;\"><div style=\"position:relative;width:100%;height:0;padding-bottom:60%;\"><iframe src=\"data:text/html;charset=utf-8;base64,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\" style=\"position:absolute;width:100%;height:100%;left:0;top:0;border:none !important;\" allowfullscreen webkitallowfullscreen mozallowfullscreen></iframe></div></div>"
      ],
      "text/plain": [
       "<folium.folium.Map at 0x1308135dbe0>"
      ]
     },
     "execution_count": 14,
     "metadata": {},
     "output_type": "execute_result"
    }
   ],
   "source": [
    "for el in cleaned:\n",
    "    folium.Marker(location=np.flip(el, axis=0)).add_to(m)\n",
    "    \n",
    "m"
   ]
  },
  {
   "cell_type": "markdown",
   "metadata": {},
   "source": [
    "Besides visualization, we can't reason much in terms of automated analysis from the map. One option would be to extract the location details from the coordinates, and then extract the required infomation (e.g. country name). This is possible by utilizing [`geopy` package](https://pypi.python.org/pypi/geopy), more specifically [`Nominatim`](http://wiki.openstreetmap.org/wiki/Nominatim), which represents a Python wrapper of the Nominatium API. We will showcase the example of extracting the country names from the previously visualized markers."
   ]
  },
  {
   "cell_type": "code",
   "execution_count": 15,
   "metadata": {},
   "outputs": [],
   "source": [
    "from geopy.geocoders import Nominatim\n",
    "\n",
    "# we initialize the object - wrapper around Nominatim API\n",
    "geolocator = Nominatim()"
   ]
  },
  {
   "cell_type": "markdown",
   "metadata": {},
   "source": [
    "A short example on how to obtain the Location object and address:"
   ]
  },
  {
   "cell_type": "code",
   "execution_count": 16,
   "metadata": {},
   "outputs": [
    {
     "data": {
      "text/plain": [
       "'712 Fifth Avenue, 712, 5th Avenue, Diamond District, Manhattan Community Board 5, New York County, NYC, New York, 10019, United States of America'"
      ]
     },
     "execution_count": 16,
     "metadata": {},
     "output_type": "execute_result"
    }
   ],
   "source": [
    "# location is obtained by using the reverse method, and providing the coordinates\n",
    "l = geolocator.reverse([40.7625069, -73.975321])\n",
    "\n",
    "# address represents a field of the Location object, we see the country is last element separated by comma\n",
    "l.address"
   ]
  },
  {
   "cell_type": "code",
   "execution_count": 17,
   "metadata": {},
   "outputs": [
    {
     "data": {
      "text/plain": [
       "(78, 2)"
      ]
     },
     "execution_count": 17,
     "metadata": {},
     "output_type": "execute_result"
    }
   ],
   "source": [
    "cleaned.shape"
   ]
  },
  {
   "cell_type": "code",
   "execution_count": 18,
   "metadata": {},
   "outputs": [],
   "source": [
    "import time\n",
    "\n",
    "countries_tweeted_from = []\n",
    "\n",
    "for crd in cleaned:\n",
    "    # some coordinates seem to be spoofed and are less than 1\n",
    "    if(crd[0]>1 or crd[1]>1):\n",
    "        # we flip the coordinate array and convert it to Python list\n",
    "        coord_list = np.flip(crd, axis=0).tolist()\n",
    "        \n",
    "        # we get the Location object from coordinates\n",
    "        location = geolocator.reverse(coord_list)\n",
    "        \n",
    "        # we split the address by comma character\n",
    "        address = location.address.split(',')\n",
    "        \n",
    "        # the country represents the last element in the address list\n",
    "        country = address[len(address)-1]\n",
    "        \n",
    "        # we append the extracted country to the list\n",
    "        countries_tweeted_from.append(country)"
   ]
  },
  {
   "cell_type": "markdown",
   "metadata": {},
   "source": [
    "We can now see the countries Donald Trump has Tweeted from:"
   ]
  },
  {
   "cell_type": "code",
   "execution_count": 19,
   "metadata": {},
   "outputs": [
    {
     "data": {
      "text/plain": [
       "{' Hrvatska', ' India', ' Ireland', ' UK', ' United States of America', ' РФ'}"
      ]
     },
     "execution_count": 19,
     "metadata": {},
     "output_type": "execute_result"
    }
   ],
   "source": [
    "set(countries_tweeted_from)"
   ]
  },
  {
   "cell_type": "markdown",
   "metadata": {},
   "source": [
    "**Note:** for the current scope of our analysis and general project, this does not represent much value. It is here to showcase the possibility in certain use-cases for use with geo-spatial data (either encoded as coordinates, or address).\n",
    "\n",
    "---"
   ]
  },
  {
   "cell_type": "markdown",
   "metadata": {},
   "source": [
    "#### Number of followers over time \n",
    "\n",
    "We want to see what the data could provide us about the number of followers over time."
   ]
  },
  {
   "cell_type": "code",
   "execution_count": 43,
   "metadata": {},
   "outputs": [],
   "source": [
    "def plot_followers(tweets):\n",
    "    x = []\n",
    "    y = []\n",
    "    \n",
    "    tmp = tweets.sort_values(by='created_at', ascending=True)\n",
    "    \n",
    "    # iterate through tweets and fetch date of creation and current number of followers\n",
    "    for ind, row in tmp.iterrows():\n",
    "        x.append(row['created_at'])\n",
    "        y.append(row.user['followers_count'])\n",
    "        \n",
    "    plt.figure(figsize=(15,15))\n",
    "    plt.plot(x,y)"
   ]
  },
  {
   "cell_type": "code",
   "execution_count": 42,
   "metadata": {},
   "outputs": [
    {
     "data": {
      "image/png": "[encoded data removed]",
      "text/plain": [
       "<matplotlib.figure.Figure at 0x1309955aa90>"
      ]
     },
     "metadata": {},
     "output_type": "display_data"
    }
   ],
   "source": [
    "plot_followers(tweets)"
   ]
  },
  {
   "cell_type": "markdown",
   "metadata": {},
   "source": [
    "We can notice many discrepancies in the provided data. One reason might be that the API used for data collection might have changed, and without using an official Twitter API - the data may be flawed. This would explain the very volatile behavior of the datapoints, as well as long stagnation prior to mid-2016.\n",
    "\n",
    "The baseline can be seen [here](https://www.trackalytics.com/twitter/followers/widget/realdonaldtrump/). General outline of data from 2017 could correspond to the real data, but with many flaws it is not advised to use the number of followers as a raw number provided in the **Trump Twitter Archive**.\n",
    "\n",
    "We will show a glimpse of number of followers in data from mid-2016 until today:"
   ]
  },
  {
   "cell_type": "code",
   "execution_count": 46,
   "metadata": {},
   "outputs": [],
   "source": [
    "def plot_followers_from(tweets, from_date):\n",
    "    x = []\n",
    "    y = []\n",
    "\n",
    "    tmp = tweets.loc[tweets.created_at>pd.Timestamp(from_date)]\n",
    "    tmp.sort_values(by='created_at', ascending=True, inplace=True)\n",
    "    \n",
    "    # iterate through tweets and fetch date of creation and current number of followers\n",
    "    for ind, row in tmp.iterrows():\n",
    "        x.append(row['created_at'])\n",
    "        y.append(row.user['followers_count'])\n",
    "        \n",
    "    plt.figure(figsize=(15,15))\n",
    "    plt.plot(x,y)"
   ]
  },
  {
   "cell_type": "code",
   "execution_count": 47,
   "metadata": {
    "scrolled": true
   },
   "outputs": [
    {
     "name": "stderr",
     "output_type": "stream",
     "text": [
      "C:\\Users\\Viktor\\AppData\\Local\\conda\\conda\\envs\\ada\\lib\\site-packages\\ipykernel\\__main__.py:6: SettingWithCopyWarning: \n",
      "A value is trying to be set on a copy of a slice from a DataFrame\n",
      "\n",
      "See the caveats in the documentation: http://pandas.pydata.org/pandas-docs/stable/indexing.html#indexing-view-versus-copy\n"
     ]
    },
    {
     "data": {
      "image/png": "[encoded data removed]",
      "text/plain": [
       "<matplotlib.figure.Figure at 0x1309650a048>"
      ]
     },
     "metadata": {},
     "output_type": "display_data"
    }
   ],
   "source": [
    "plot_followers_from(tweets, '2016-06-06')"
   ]
  },
  {
   "cell_type": "markdown",
   "metadata": {},
   "source": [
    "We can see the previously mentioned volatility and sudden increase and decrease of followers, being less prominent from mid-2017. As mentioned, this can be a flaw in the data collection.\n",
    "\n",
    "We can try to average the number of followers over certain periods, such as months to see whether that will reduce volatility."
   ]
  },
  {
   "cell_type": "code",
   "execution_count": 61,
   "metadata": {},
   "outputs": [],
   "source": [
    "def plot_avg_followers_from(tweets, from_date):\n",
    "    x = []\n",
    "    y = []\n",
    "\n",
    "    tmp = tweets.loc[tweets.created_at>pd.Timestamp(from_date)]\n",
    "    tmp.sort_values(by='created_at', ascending=True, inplace=True)\n",
    "    \n",
    "    # iterate through tweets and fetch date of creation and current number of followers\n",
    "    for ind, row in tmp.iterrows():\n",
    "        x.append(row['created_at'])\n",
    "        y.append(row.user['followers_count'])\n",
    "    \n",
    "    avg_x = []\n",
    "    avg_y = []\n",
    "    cum = 0\n",
    "    cnt = 0\n",
    "    for ind, date in enumerate(x):\n",
    "        if(cum==0):\n",
    "            cum += y[ind]\n",
    "            cnt += 1\n",
    "        else:\n",
    "            if(x[ind-1].month==x[ind].month):\n",
    "                cum += y[ind]\n",
    "                cnt += 1\n",
    "            else:\n",
    "                avg_x.append(x[ind-1])\n",
    "                avg_y.append(cum/cnt)\n",
    "                cum = 0 \n",
    "                cnt = 0\n",
    "    \n",
    "    plt.figure(figsize=(15,8))\n",
    "    plt.plot(avg_x,avg_y)"
   ]
  },
  {
   "cell_type": "code",
   "execution_count": 63,
   "metadata": {},
   "outputs": [
    {
     "name": "stderr",
     "output_type": "stream",
     "text": [
      "C:\\Users\\Viktor\\AppData\\Local\\conda\\conda\\envs\\ada\\lib\\site-packages\\ipykernel\\__main__.py:6: SettingWithCopyWarning: \n",
      "A value is trying to be set on a copy of a slice from a DataFrame\n",
      "\n",
      "See the caveats in the documentation: http://pandas.pydata.org/pandas-docs/stable/indexing.html#indexing-view-versus-copy\n"
     ]
    },
    {
     "data": {
      "image/png": "[encoded data removed]",
      "text/plain": [
       "<matplotlib.figure.Figure at 0x130960025c0>"
      ]
     },
     "metadata": {},
     "output_type": "display_data"
    }
   ],
   "source": [
    "plot_avg_followers_from(tweets, '2014-06-06')"
   ]
  },
  {
   "cell_type": "markdown",
   "metadata": {},
   "source": [
    "This has significantly reduced the discrepancy, and looks more like the baseline.\n",
    "\n",
    "**Conclusion**: Using the number of followers from the datasets has caveats:\n",
    "* it is very volatile per-tweet most probably caused by API inconsistencies\n",
    "* the behavior becomes more similar to the baseline when averaging out over period\n",
    "\n",
    "In terms of using the Tweets to determine whether they have influenced the number of new followers or people un"
   ]
  },
  {
   "cell_type": "markdown",
   "metadata": {},
   "source": [
    "### Internet archive - Trump TV news factchecks\n",
    "\n",
    "In this section we will shortly describe the available data in the Internet archive - Trump TV news factchecks. Firstly, we will load the dataset, which we obtained as a CSV file. As described in the [documentation](https://archive.org/details/tv?factchecks), this is a rather simple dataset in structure, but with immense value in data. This dataset combines news reports on several persons in Trump administration to have a better overview of news.\n",
    "\n",
    "The dataset has been obtained on 24.11.2017. "
   ]
  },
  {
   "cell_type": "code",
   "execution_count": 22,
   "metadata": {},
   "outputs": [
    {
     "data": {
      "text/html": [
       "<div>\n",
       "<style>\n",
       "    .dataframe thead tr:only-child th {\n",
       "        text-align: right;\n",
       "    }\n",
       "\n",
       "    .dataframe thead th {\n",
       "        text-align: left;\n",
       "    }\n",
       "\n",
       "    .dataframe tbody tr th {\n",
       "        vertical-align: top;\n",
       "    }\n",
       "</style>\n",
       "<table border=\"1\" class=\"dataframe\">\n",
       "  <thead>\n",
       "    <tr style=\"text-align: right;\">\n",
       "      <th></th>\n",
       "      <th>Date of Airing (EST)</th>\n",
       "      <th>Topic List</th>\n",
       "      <th>Fact Check</th>\n",
       "      <th>TV Clip</th>\n",
       "      <th>Organization</th>\n",
       "      <th>Collection</th>\n",
       "    </tr>\n",
       "  </thead>\n",
       "  <tbody>\n",
       "    <tr>\n",
       "      <th>0</th>\n",
       "      <td>2017-11-19</td>\n",
       "      <td>Taxes</td>\n",
       "      <td>http://www.politifact.com/truth-o-meter/statem...</td>\n",
       "      <td>https://archive.org/details/FOXNEWSW_20171119_...</td>\n",
       "      <td>PolitiFact</td>\n",
       "      <td>steve_mnuchin_archive</td>\n",
       "    </tr>\n",
       "    <tr>\n",
       "      <th>1</th>\n",
       "      <td>2017-11-16</td>\n",
       "      <td>Taxes,Health Care</td>\n",
       "      <td>https://www.washingtonpost.com/news/fact-check...</td>\n",
       "      <td>https://archive.org/details/CSPAN2_20171116_10...</td>\n",
       "      <td>Washington Post</td>\n",
       "      <td>charles_schumer_archive</td>\n",
       "    </tr>\n",
       "    <tr>\n",
       "      <th>2</th>\n",
       "      <td>2017-11-14</td>\n",
       "      <td>Health Care,Taxes</td>\n",
       "      <td>http://www.factcheck.org/2017/11/democrats-ina...</td>\n",
       "      <td>https://archive.org/details/CSPAN2_20171114_15...</td>\n",
       "      <td>FactCheck.org</td>\n",
       "      <td>charles_schumer_archive</td>\n",
       "    </tr>\n",
       "    <tr>\n",
       "      <th>3</th>\n",
       "      <td>2017-11-07</td>\n",
       "      <td>Guns</td>\n",
       "      <td>http://www.politifact.com/truth-o-meter/statem...</td>\n",
       "      <td>https://archive.org/details/CSPAN2_20171107_17...</td>\n",
       "      <td>PolitiFact</td>\n",
       "      <td>trumparchive</td>\n",
       "    </tr>\n",
       "    <tr>\n",
       "      <th>4</th>\n",
       "      <td>2017-11-06</td>\n",
       "      <td>Taxes</td>\n",
       "      <td>https://www.washingtonpost.com/news/fact-check...</td>\n",
       "      <td>https://archive.org/details/FOXNEWSW_20171107_...</td>\n",
       "      <td>Washington Post</td>\n",
       "      <td>paul_ryan_archive</td>\n",
       "    </tr>\n",
       "  </tbody>\n",
       "</table>\n",
       "</div>"
      ],
      "text/plain": [
       "  Date of Airing (EST)         Topic List  \\\n",
       "0           2017-11-19              Taxes   \n",
       "1           2017-11-16  Taxes,Health Care   \n",
       "2           2017-11-14  Health Care,Taxes   \n",
       "3           2017-11-07               Guns   \n",
       "4           2017-11-06              Taxes   \n",
       "\n",
       "                                          Fact Check  \\\n",
       "0  http://www.politifact.com/truth-o-meter/statem...   \n",
       "1  https://www.washingtonpost.com/news/fact-check...   \n",
       "2  http://www.factcheck.org/2017/11/democrats-ina...   \n",
       "3  http://www.politifact.com/truth-o-meter/statem...   \n",
       "4  https://www.washingtonpost.com/news/fact-check...   \n",
       "\n",
       "                                             TV Clip     Organization  \\\n",
       "0  https://archive.org/details/FOXNEWSW_20171119_...       PolitiFact   \n",
       "1  https://archive.org/details/CSPAN2_20171116_10...  Washington Post   \n",
       "2  https://archive.org/details/CSPAN2_20171114_15...    FactCheck.org   \n",
       "3  https://archive.org/details/CSPAN2_20171107_17...       PolitiFact   \n",
       "4  https://archive.org/details/FOXNEWSW_20171107_...  Washington Post   \n",
       "\n",
       "                Collection  \n",
       "0    steve_mnuchin_archive  \n",
       "1  charles_schumer_archive  \n",
       "2  charles_schumer_archive  \n",
       "3             trumparchive  \n",
       "4        paul_ryan_archive  "
      ]
     },
     "execution_count": 22,
     "metadata": {},
     "output_type": "execute_result"
    }
   ],
   "source": [
    "news = pd.read_csv(NEWS_PATH)\n",
    "\n",
    "news['Date of Airing (EST)'] = pd.to_datetime(news['Date of Airing (EST)'])\n",
    "\n",
    "news.head()"
   ]
  },
  {
   "cell_type": "markdown",
   "metadata": {},
   "source": [
    "We can observe 6 columns in this dataset:\n",
    "* `Date of Airng (EST)` - the date of airing of specified clip, Eastern time\n",
    "* `Topic List` - the list of general topics appearing in the clip\n",
    "* `Fact Check` - the link to the fact check\n",
    "* `TV Clip` - link of the news report clip\n",
    "* `Organization` - organization which performed the fact check\n",
    "* `Collection` - from which collection the clip comes from, represents the person from Trump administration"
   ]
  },
  {
   "cell_type": "code",
   "execution_count": 23,
   "metadata": {},
   "outputs": [
    {
     "name": "stdout",
     "output_type": "stream",
     "text": [
      "Number of clips: 1404\n",
      "Earliest date of airing: 2009-09-18 00:00:00\n"
     ]
    }
   ],
   "source": [
    "print('Number of clips:', news.shape[0])\n",
    "print('Earliest date of airing:', news['Date of Airing (EST)'].min())"
   ]
  },
  {
   "cell_type": "markdown",
   "metadata": {},
   "source": [
    "We have a significant number (1404) of news coverages, along with general topics, going back as early as September 2009. \n",
    "\n",
    "**The time is Eastern Time, which coincides with the time zone setting for the Tweets of Donald Trump.**\n",
    "\n",
    "#### Purpose of the dataset\n",
    "\n",
    "Since we have date of airing and general topic of the news, we can analyze how Donald Trump reacts to news:\n",
    "* his direct reaction\n",
    "* his twitter interaction prior/after the airing\n",
    "* does he mention certain people or topics at the time of some controversies\n",
    "\n",
    "To get a general feeling about the topics, we will extract them from the dataset."
   ]
  },
  {
   "cell_type": "code",
   "execution_count": 24,
   "metadata": {},
   "outputs": [],
   "source": [
    "# we get the topic list column\n",
    "topics = news['Topic List']\n",
    "\n",
    "# we replace the NA values with ''\n",
    "topics.fillna(value='', inplace=True)"
   ]
  },
  {
   "cell_type": "markdown",
   "metadata": {},
   "source": [
    "If multiple topics are covered, they are represented as strings, delimited by comma `','`:"
   ]
  },
  {
   "cell_type": "code",
   "execution_count": 25,
   "metadata": {},
   "outputs": [
    {
     "data": {
      "text/plain": [
       "'Health Care,Taxes'"
      ]
     },
     "execution_count": 25,
     "metadata": {},
     "output_type": "execute_result"
    }
   ],
   "source": [
    "topics[2]"
   ]
  },
  {
   "cell_type": "code",
   "execution_count": 26,
   "metadata": {},
   "outputs": [],
   "source": [
    "'''\n",
    "Function for extracting unique topics from the topic interable object (pandas.Series).\n",
    "\n",
    "Parameters:\n",
    "topics -- iterable object containing topics\n",
    "\n",
    "Returns:\n",
    "set -- set of topics appearing in the dataset\n",
    "'''\n",
    "def extract_unique_topics(topics):\n",
    "    container = []\n",
    "    \n",
    "    for topic in topics:\n",
    "        tmp = topic.split(',')\n",
    "        container.extend(tmp)\n",
    "\n",
    "    return set(container)"
   ]
  },
  {
   "cell_type": "code",
   "execution_count": 27,
   "metadata": {},
   "outputs": [],
   "source": [
    "s = extract_unique_topics(topics)"
   ]
  },
  {
   "cell_type": "code",
   "execution_count": 28,
   "metadata": {},
   "outputs": [
    {
     "name": "stdout",
     "output_type": "stream",
     "text": [
      "Number of topics:  277\n",
      "Topics: {'', 'Paris Agreement', 'Poverty', 'NATO', 'Uranium', 'NAFTA', 'Privacy', 'Unemployment rate', 'Workers', 'Infrastructure', 'Government Regulation', 'Miscellaneous', 'Racism', 'Regulations', 'Islamic Extremism', 'Regulation', 'Retirement', 'Sanctions', 'Presidential Appointments', 'Deficit', 'National Intelligence', 'Obama Birth Certificate', 'Offshoring', 'Government regulation', 'Oil Imports', 'North Korea', 'Campaign', 'Economy', 'Campaign Protests', 'Manufacturing', 'Disability', 'Wages', 'Health', 'Fundraising', 'Income', 'Trade deficit', 'Electability', 'Wind', 'TV Ads', 'Moratorium', 'Iran', 'Israel', 'State of the Union', 'Food', 'Job Creation', 'India', 'Health Care', 'Visas', '. Noncitizen voting', 'Government Spening', 'Benghazi', 'Congressiaonal Rules', 'Energy', 'Bipartisanship', 'Human Rights', 'Transparency', 'Yemen', 'Safety', 'Unemployment Rate', 'Public Safety', 'Sports', 'War', 'Chemical Weapons', 'History', 'Financial Regulation', 'City Government', 'September 11', 'Housing', 'Polling', 'Fake News', 'Boycott', 'Transportation', 'Homeland Security', 'Hunger', 'Government Leaks', 'Welfare', 'Oil Drilling', 'Medicare', 'Diversity', 'Children', 'Affordable Care Act', 'Obamacare', 'Government Spending', 'Clinton Foundation', 'Abortion', 'Illegal Immigration', 'Vetting', 'Defense', 'Campaign Finance', 'Criminal Justice', 'Job Accomplishments', 'Patriotism', 'Civil Rights', 'Education', 'Sexual Harassment', 'Bush Tax Cuts', 'Jobs', 'Veterans', 'Budget Shortfall', 'Trade', 'Negative Ads', 'Islamic State', 'Legal Issues', 'Natural Disasters', 'Autism', 'Budgets', 'Public Service', 'FBI', 'Kosovo', 'Planned Parenthood', 'Mexico', 'JFK Assassination', 'Egypt', 'Torture', 'Elections', 'Legislative Process', 'Serbia', 'Islamic State Of Iraq And Syria', 'Childre', 'Sexuality', 'Guns', 'Water', 'Political Ads', 'Government Regulations', 'Off-Shoring', 'Campaign Contributions', 'Public Health', 'Guantanamo Bay', 'Corrections and Updates', 'Race', 'Campign Finance', 'Youth', 'Travel Ban', 'Trump Foundation', 'Electiions', 'Iraq', 'Science', 'Cybersecurity', 'Supreme Court', 'HealthCare.Gov', 'Birthright Citizenship', 'Gangs', 'National Security', 'Congressional Rules', 'Pop Culture', 'Emmigration', 'Wealth', 'Afghanistan', 'Income Taxes', 'Medicaid', 'Canada', 'Defense Spending', 'Oil', 'Uninsured', 'Child Care', 'Syria', 'Intelligence Community', 'Eminent Domain', 'Unemployment', 'Financil Regulation', 'Drugs', 'Conventions', 'Lobbying', 'Dairy', 'ISIS', 'Muslims', 'Clinton on Trump and Equal Pay', 'Casino Gambling', 'Global Warming', 'Carbon Dioxide', 'Terrorism', 'Health Insurance', 'Bond Rating', 'Immigration', 'Military', 'Debates', 'Syrian Refugees', 'Inauguration', 'Tax Returns', 'Libya', 'Business', 'Family Leave', 'Foreign Aid', 'Voter Turnout', 'Gasoline Prices', 'Wall Street', 'Carbon Emissions', 'Families', 'Crime. Military', 'Census', 'Stimulus', 'Florida', 'Labor Force', 'CIA', 'Wages. Economy', 'Murder', 'Gulf War', 'Media', 'Government Efficiency', 'Russia', 'Wikileaks', 'Small Business', 'Electoral College', 'Sanctuary Cities', 'Iraq War', 'Japan', 'Justice', 'Polls', 'Campaign Finance Laws', 'Religion', 'State Budget', 'Clinton Emails', 'Technology', 'Courts', 'Negative Campaigning', 'Primary Elections', 'Auto Industry', 'Contraception', 'Corporations', 'Campaign Financing', 'Polls and Public Opinion', 'Agriculture', 'Prescription Drugs', 'Trade Deficet', 'Weapons Of Mass Destruction', 'Aviation', 'Black Vote', 'Women', 'Ethics', 'Foreign Oil', 'Executive Orders', 'Citizenship', 'Sweeden', 'Econmy', 'Biography', 'Labor', 'Debt', 'Common Core', 'Climate Change', 'Social Security', 'Voter Fraud', 'Sweden', 'Lee Harvey Oswald', 'Candidate Biography', 'Voting Record', 'Environment', 'Coal', 'Refugees', 'First Amendment', 'States', 'Immigation', 'Vaccines', 'China', 'Ford', 'Law Enforcement', 'Urban', 'LGBT', 'Crime', 'Safety Net', 'Nuclear', 'Islam', 'Ethanol', 'Federal Budget', 'Taxes', 'Afghanistant', 'State Finances', 'Cuba', 'Putin', 'Foreign Policy', 'IRS', 'Trade Deficit', 'Military Spending', 'Congress', 'Wiretapping', 'Gun Control', 'Transgender', 'Law enforcement'}\n"
     ]
    }
   ],
   "source": [
    "print('Number of topics: ', len(s))\n",
    "print('Topics:', s)"
   ]
  },
  {
   "cell_type": "markdown",
   "metadata": {},
   "source": [
    "We observe a variety of topics:\n",
    "* about 270 different topics\n",
    "* some of the topics contain typos\n",
    "* it is a good basis for future NLP - since content of the news is summaized\n",
    "\n",
    "#### Trump administration topics:\n",
    "\n",
    "With this dataset we can show the main topics covered by news outlets on the Trump administration. \n",
    "\n",
    "This can be especially interesting in terms of extracting the most prominent topics in certain years or specified time period."
   ]
  },
  {
   "cell_type": "code",
   "execution_count": 29,
   "metadata": {},
   "outputs": [],
   "source": [
    "def count_occurence(topic_name, topics):\n",
    "    count = 0\n",
    "    \n",
    "    for topic in topics:\n",
    "        tmp = topic.split(',')\n",
    "        if(topic_name in tmp):\n",
    "            count += 1\n",
    "\n",
    "    return count\n",
    "\n",
    "def get_occurence(topics_set, topics_series):\n",
    "    occurences = {}\n",
    "    \n",
    "    for topic in topics_set:\n",
    "        occurences[topic] = count_occurence(topic, topics_series)\n",
    "        \n",
    "    return occurences\n",
    "        "
   ]
  },
  {
   "cell_type": "code",
   "execution_count": 30,
   "metadata": {},
   "outputs": [],
   "source": [
    "occurences = get_occurence(s, topics)"
   ]
  },
  {
   "cell_type": "code",
   "execution_count": 31,
   "metadata": {},
   "outputs": [],
   "source": [
    "topic_series = pd.Series(occurences)\n",
    "topic_df = pd.DataFrame(topic_series)\n",
    "\n",
    "topic_df.reset_index(inplace=True)\n",
    "topic_df.columns = ['topic','count']"
   ]
  },
  {
   "cell_type": "code",
   "execution_count": 32,
   "metadata": {},
   "outputs": [],
   "source": [
    "topic_df_sorted = topic_df.sort_values(by='count', ascending=False)\n",
    "\n",
    "top_50 = topic_df_sorted[0:50]"
   ]
  },
  {
   "cell_type": "code",
   "execution_count": 33,
   "metadata": {},
   "outputs": [
    {
     "data": {
      "text/plain": [
       "<matplotlib.axes._subplots.AxesSubplot at 0x13096452828>"
      ]
     },
     "execution_count": 33,
     "metadata": {},
     "output_type": "execute_result"
    },
    {
     "data": {
      "image/png": "[encoded data removed]",
      "text/plain": [
       "<matplotlib.figure.Figure at 0x1309645fbe0>"
      ]
     },
     "metadata": {},
     "output_type": "display_data"
    }
   ],
   "source": [
    "plt.figure(figsize=(15,15))\n",
    "\n",
    "sns.barplot(data=top_50, x='count', y='topic')\n",
    "#plt.show()"
   ]
  },
  {
   "cell_type": "code",
   "execution_count": 34,
   "metadata": {},
   "outputs": [],
   "source": [
    "def get_topics_in_period(news_df, start_date, end_date):\n",
    "    # we filter the dataframe by dates\n",
    "    news_copy = news_df.copy()\n",
    "    news = news_copy.loc[(news_df['Date of Airing (EST)']>=pd.Timestamp(start_date)) &\n",
    "                       (news_df['Date of Airing (EST)']<=pd.Timestamp(end_date))]\n",
    "    \n",
    "    # we get the topic list column\n",
    "    topics = news['Topic List']\n",
    "\n",
    "    # we replace the NA values with ''\n",
    "    topics.fillna(value='', inplace=True)\n",
    "    \n",
    "    s = extract_unique_topics(topics)\n",
    "    \n",
    "    occurences = get_occurence(s, topics)\n",
    "    \n",
    "    topic_series = pd.Series(occurences)\n",
    "    topic_df = pd.DataFrame(topic_series)\n",
    "\n",
    "    topic_df.reset_index(inplace=True)\n",
    "    topic_df.columns = ['topic','count']\n",
    "    \n",
    "    return topic_df\n",
    "\n",
    "def print_top_topics(topic_df, number):\n",
    "    topic_df_sorted = topic_df.sort_values(by='count', ascending=False)\n",
    "    \n",
    "    if(number>topic_df.shape[0]):\n",
    "        number = topic_df.shape[0]\n",
    "    \n",
    "    top = topic_df_sorted[0:number]\n",
    "    \n",
    "    plt.figure(figsize=(15,8))\n",
    "\n",
    "    sns.barplot(data=top, x='count', y='topic')"
   ]
  },
  {
   "cell_type": "markdown",
   "metadata": {},
   "source": [
    "#### An overview of news topics over years"
   ]
  },
  {
   "cell_type": "code",
   "execution_count": 35,
   "metadata": {},
   "outputs": [
    {
     "name": "stderr",
     "output_type": "stream",
     "text": [
      "C:\\Users\\Viktor\\AppData\\Local\\conda\\conda\\envs\\ada\\lib\\site-packages\\pandas\\core\\generic.py:3660: SettingWithCopyWarning: \n",
      "A value is trying to be set on a copy of a slice from a DataFrame\n",
      "\n",
      "See the caveats in the documentation: http://pandas.pydata.org/pandas-docs/stable/indexing.html#indexing-view-versus-copy\n",
      "  self._update_inplace(new_data)\n"
     ]
    },
    {
     "name": "stdout",
     "output_type": "stream",
     "text": [
      "Year:  2009\n",
      "Year:  2010\n",
      "Year:  2011\n",
      "Year:  2012\n",
      "Year:  2013\n",
      "Year:  2014\n",
      "Year:  2015\n",
      "Year:  2016\n",
      "Year:  2017\n"
     ]
    },
    {
     "data": {
      "image/png": "[encoded data removed]",
      "text/plain": [
       "<matplotlib.figure.Figure at 0x13082d6f780>"
      ]
     },
     "metadata": {},
     "output_type": "display_data"
    },
    {
     "data": {
      "image/png": "[encoded data removed]",
      "text/plain": [
       "<matplotlib.figure.Figure at 0x130962ea9b0>"
      ]
     },
     "metadata": {},
     "output_type": "display_data"
    },
    {
     "data": {
      "image/png": "[encoded data removed]",
      "text/plain": [
       "<matplotlib.figure.Figure at 0x130963861d0>"
      ]
     },
     "metadata": {},
     "output_type": "display_data"
    },
    {
     "data": {
      "image/png": "[encoded data removed]",
      "text/plain": [
       "<matplotlib.figure.Figure at 0x1308f458f60>"
      ]
     },
     "metadata": {},
     "output_type": "display_data"
    },
    {
     "data": {
      "image/png": "[encoded data removed]",
      "text/plain": [
       "<matplotlib.figure.Figure at 0x1308f458c88>"
      ]
     },
     "metadata": {},
     "output_type": "display_data"
    },
    {
     "data": {
      "image/png": "[encoded data removed]",
      "text/plain": [
       "<matplotlib.figure.Figure at 0x1308f673940>"
      ]
     },
     "metadata": {},
     "output_type": "display_data"
    },
    {
     "data": {
      "image/png": "[encoded data removed]",
      "text/plain": [
       "<matplotlib.figure.Figure at 0x1308f775ac8>"
      ]
     },
     "metadata": {},
     "output_type": "display_data"
    },
    {
     "data": {
      "image/png": "[encoded data removed]",
      "text/plain": [
       "<matplotlib.figure.Figure at 0x1308f6a3a58>"
      ]
     },
     "metadata": {},
     "output_type": "display_data"
    },
    {
     "data": {
      "image/png": "[encoded data removed]",
      "text/plain": [
       "<matplotlib.figure.Figure at 0x1308f830d68>"
      ]
     },
     "metadata": {},
     "output_type": "display_data"
    }
   ],
   "source": [
    "for i in range(2009, 2018):\n",
    "    tmp = get_topics_in_period(news, str(i)+'-01-01', str(i)+'-12-31')\n",
    "    print('Year: ', i)\n",
    "    print_top_topics(tmp, 10)"
   ]
  },
  {
   "cell_type": "code",
   "execution_count": null,
   "metadata": {},
   "outputs": [],
   "source": []
  }
 ],
 "metadata": {
  "kernelspec": {
   "display_name": "Python [conda env:ada]",
   "language": "python",
   "name": "conda-env-ada-py"
  },
  "language_info": {
   "codemirror_mode": {
    "name": "ipython",
    "version": 3
   },
   "file_extension": ".py",
   "mimetype": "text/x-python",
   "name": "python",
   "nbconvert_exporter": "python",
   "pygments_lexer": "ipython3",
   "version": "3.6.2"
  }
 },
 "nbformat": 4,
 "nbformat_minor": 2
}
