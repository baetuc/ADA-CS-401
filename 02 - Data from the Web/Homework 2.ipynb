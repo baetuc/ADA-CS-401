{
 "cells": [
  {
   "cell_type": "markdown",
   "metadata": {},
   "source": [
    "# 02 - Data from the Web\n",
    "\n",
    "## Assignment\n",
    "1. Obtain the 200 top-ranking universities in www.topuniversities.com ([ranking 2018](https://www.topuniversities.com/university-rankings/world-university-rankings/2018)). In particular, extract the following fields for each university: name, rank, country and region, number of faculty members (international and total) and number of students (international and total). Some information is not available in the main list and you have to find them in the [details page](https://www.topuniversities.com/universities/ecole-polytechnique-fédérale-de-lausanne-epfl).\n",
    "Store the resulting dataset in a pandas DataFrame and answer the following questions:\n",
    "- Which are the best universities in term of: (a) ratio between faculty members and students, (b) ratio of international students?\n",
    "- Answer the previous question aggregating the data by (c) country and (d) region.\n",
    "\n",
    "Plot your data using bar charts and describe briefly what you observed.\n",
    "\n",
    "2. Obtain the 200 top-ranking universities in www.timeshighereducation.com ([ranking 2018](http://timeshighereducation.com/world-university-rankings/2018/world-ranking)). Repeat the analysis of the previous point and discuss briefly what you observed.\n",
    "\n",
    "3. Merge the two DataFrames created in questions 1 and 2 using university names. Match universities' names as well as you can, and explain your strategy. Keep track of the original position in both rankings.\n",
    "\n",
    "4. Find useful insights in the data by performing an exploratory analysis. Can you find a strong correlation between any pair of variables in the dataset you just created? Example: when a university is strong in its international dimension, can you observe a consistency both for students and faculty members?\n",
    "\n",
    "5. Can you find the best university taking in consideration both rankings? Explain your approach.\n",
    "\n",
    "Hints:\n",
    "- Keep your Notebook clean and don't print the verbose output of the requests if this does not add useful information for the reader.\n",
    "- In case of tie, use the order defined in the webpage.\n"
   ]
  },
  {
   "cell_type": "markdown",
   "metadata": {},
   "source": [
    "## 1. World University Rankings by TopUniversities\n",
    "\n",
    "---\n",
    "\n",
    "We will focus on data scraping from the [TopUniversities 2018 rankings](https://www.topuniversities.com/university-rankings/world-university-rankings/2018), as well as asnwering the assignment questions by performing simple data analysis. The structure of this chapter follows the assignment outline:\n",
    "\n",
    "1. Data scraping\n",
    "2. Ranking: faculty members, students and internationalization\n",
    "3. Ranking: regional and national results\n",
    "\n",
    "\n",
    "### Libraries utilized\n",
    "\n",
    "We will use the BeautifulSoup along with Pandas and standard Python utilities for performing the scraping and data analysis."
   ]
  },
  {
   "cell_type": "code",
   "execution_count": 1,
   "metadata": {
    "ExecuteTime": {
     "end_time": "2017-10-21T21:05:03.271263Z",
     "start_time": "2017-10-21T21:05:02.876608Z"
    },
    "collapsed": true
   },
   "outputs": [],
   "source": [
    "# importing the utils for Web scraping\n",
    "import requests\n",
    "from bs4 import BeautifulSoup\n",
    "\n",
    "# importing python and data utils\n",
    "import pandas as pd\n",
    "import numpy as np\n",
    "import json\n",
    "%matplotlib inline\n",
    "import matplotlib.pyplot as plt"
   ]
  },
  {
   "cell_type": "markdown",
   "metadata": {},
   "source": [
    "### Swiss army knife for data scraping\n",
    "\n",
    "[Postman](https://www.getpostman.com/) is utilized outside Python to get more sense about the Web jungle we are trying to harvest our data from. We have used both Interceptor and the application itself to make sense of incoming traffic. \n",
    "\n",
    "We have also relied on traffic observations in Chrome Development Tools (*which can be accessed in Chrome browsers on Windows platform by pressing F12*)."
   ]
  },
  {
   "cell_type": "markdown",
   "metadata": {},
   "source": [
    "### 1.1 Data scraping\n",
    "\n",
    "The first step in our data scraping process was to get acquainted with the website itself. We have turned on the Interceptor for the traffic and the application itself, then loaded the website and observed the requests. \n",
    "\n",
    "#### Making our life easier: Postman filters\n",
    "\n",
    "It is useful to filter out results of requests sent to the Website of interest. In modern websites it is common to have many 3rd party APIs which would make it somewhat more difficult to find the requests of interest. Additionally, trafic from other tabs in browser (if open) will appear, so it is additionally useful to display only what is the focus of our search. Such benefits are visible in the practical example bellow:\n",
    "\n",
    "<table width=\"70%\">\n",
    "  <tr>\n",
    "    <th style=\"text-align:center\">Requests without any filters</th>\n",
    "    <th style=\"text-align:center\">After filtering results from *www.topuniversities.com* only</th> \n",
    "  </tr>\n",
    "  <tr>\n",
    "    <td>![](images/postman0.png)</td>\n",
    "    <td style=\"vertical-align:top\">![](images/postman1.png)</td> \n",
    "  </tr>\n",
    "</table>"
   ]
  },
  {
   "cell_type": "markdown",
   "metadata": {},
   "source": [
    "From the vast list of various requests, we have localized what seems to be important for the given task, and the requests for resources for the TopUniversity rankings. By analyzing the requests, we can see one **GET** request which obtains a textual file:\n",
    "\n",
    "[https://www.topuniversities.com/sites/default/files/qs-rankings-data/357051.txt?_=1508597583828](https://www.topuniversities.com/sites/default/files/qs-rankings-data/357051.txt?_=1508597583828)\n",
    "\n",
    "By analyzing the file, it turns out to be a very useful JSON! All the data needed for scraping at this level is present here, most notably the ranking and the URL towards more information. It correlates to the same information we can directly see from the Chrome Developer Tools:\n",
    "\n",
    "![](images/chrome0.png)\n",
    "\n",
    "#####  Design choice\n",
    "As in the image above can be seen, the HTML data is well organized in the tables, with appropriate classes which designate the content of the cell. One approach would be to use `BeautifulSoup` and parse the HTML of the page. Since we have the data in more concise format (JSON) we decided to process the textual representation. Since only the representation and intermediate steps differ, and results are the same, this is a choice we have made. \n",
    "\n",
    "Nevertheless, further steps will have to rely on parsing the HTML and DOM of the subsequent university links with further details (since no equivalent JSON is obtained), so both approaches are showcased.\n",
    "\n",
    "\n",
    "#### Implementing the scraping procedure\n",
    "\n",
    "We will extract the before found JSON file and use it as a baseline for scraping this Website. We send a GET request and process the file as JSON."
   ]
  },
  {
   "cell_type": "code",
   "execution_count": null,
   "metadata": {
    "collapsed": true
   },
   "outputs": [],
   "source": [
    "## TU = TopUniversities\n",
    "TU_path = 'https://www.topuniversities.com'\n",
    "base_json_path = '/sites/default/files/qs-rankings-data/357051.txt?_=1508597583828'\n",
    "\n",
    "req = requests.get(TU_path+base_json_path)\n",
    "\n",
    "TU_json = req.json()"
   ]
  },
  {
   "cell_type": "markdown",
   "metadata": {},
   "source": [
    "We convert the JSON file to Pandas `DataFrame` to enable easier exploration and utilization of the file. We are interested in the **data** section of our JSON file, and we take the first 200 top ranking universities in the list. \n",
    "\n",
    "Notably, some universities share the same ranking (tie). Per assignment at this point we will take 200 best ranking universities for our analysis, and not the universities until the rank 200."
   ]
  },
  {
   "cell_type": "code",
   "execution_count": null,
   "metadata": {
    "collapsed": true,
    "scrolled": true
   },
   "outputs": [],
   "source": [
    "TU_df = pd.DataFrame.from_dict(TU_json['data']).head(200)"
   ]
  },
  {
   "cell_type": "markdown",
   "metadata": {},
   "source": [
    "We can observe that we did not need any additional parsing which would add both to code complexity, potential computational overhead in bigger datasets, as well as algorithmic complexity if the website HTML code is not tidy (which is not the case here). The `DataFrame` carries all the information we need for now, of which the region, country, rank, title and url play the significant role in the task."
   ]
  },
  {
   "cell_type": "code",
   "execution_count": null,
   "metadata": {},
   "outputs": [],
   "source": [
    "TU_df.head(2)"
   ]
  },
  {
   "cell_type": "markdown",
   "metadata": {},
   "source": [
    "#### 1.1.1 Extracting the information for each University\n",
    "\n",
    "Some information such as University name or rank is available immediately, while for detailed information we need to follow the subsequent link provided in the **url** field. Unfortunately, as previously mentioned, we don't have information packed in JSON format this time. We use HTML parsing provided by `BeautifulSoup` to obtain all the missing data. We are in luck since the HTML is well organized, with appropriate classes assigned to `div`s containing needed pieces of information.\n",
    "\n",
    "We iterate through the previously obtained `DataFrame` and scrape and collect the necessary data, and append it to the existing `DataFrame`.\n",
    "\n",
    "#### Note on undefined values\n",
    "\n",
    "At least one of the universities has missing data and we need to handle such cases. If the number of such cases is small enough, we could impute the values manually, by consulting the appropriate sources, thus keeping the consistency of the rankings. If we don't have all the data for analysis, we would have to discard such Universities or come up with a methodology for mining up missing data on larger scale.\n",
    "\n",
    "We choose to be consistent and we will print out the universities which have some missing values and will try to fill in the missing values."
   ]
  },
  {
   "cell_type": "code",
   "execution_count": null,
   "metadata": {
    "collapsed": true
   },
   "outputs": [],
   "source": [
    "# A helper function to get an number (integer) from the div text\n",
    "def div2num(div):\n",
    "    return int(div.find('div', class_='number').text.split()[0].replace(',',''))"
   ]
  },
  {
   "cell_type": "code",
   "execution_count": null,
   "metadata": {},
   "outputs": [],
   "source": [
    "for ind, row in TU_df.iterrows():\n",
    "    # getting the detailed page of the given university\n",
    "    # relative link to the page is given in the url field of the dataframe\n",
    "    uni_details = requests.get(TU_path+row['url'])\n",
    "    \n",
    "    # get the HTML of the detailed university page and add it to the soup\n",
    "    soup = BeautifulSoup(uni_details.text, 'html.parser')\n",
    "    \n",
    "    # get the name of the university from the DF\n",
    "    uni_name = row['title']\n",
    "    \n",
    "    # get the number of faculty members from the detailed page and append to DF\n",
    "    faculty_num = soup.find('div', class_='total faculty')\n",
    "    try:\n",
    "        # we parse the div text and append it to the DataFrame\n",
    "        TU_df.loc[ind, 'Total faculty members'] = div2num(faculty_num)\n",
    "    except:\n",
    "        # print out the message in order to try to impute the data\n",
    "        print('Undefined total faculty members for: '+uni_name)\n",
    "    \n",
    "    # similar procedure for other required data points\n",
    "    students_num = soup.find('div', class_='total student')\n",
    "    try:\n",
    "        TU_df.loc[ind, 'Total students'] = div2num(students_num)\n",
    "    except:\n",
    "        print('Undefined total students for: '+uni_name)\n",
    "    \n",
    "    intl_faculty_num = soup.find('div', class_='inter faculty')\n",
    "    try:\n",
    "        TU_df.loc[ind, 'International faculty members'] = div2num(intl_faculty_num)\n",
    "    except:\n",
    "        print('Undefined international faculty members for: '+uni_name)\n",
    "    \n",
    "    intl_students_num = soup.find('div', class_='total inter')\n",
    "    try:\n",
    "        TU_df.loc[ind, 'International students'] = div2num(intl_students_num)\n",
    "    except:\n",
    "        print('Undefined international students for: '+uni_name)"
   ]
  },
  {
   "cell_type": "markdown",
   "metadata": {},
   "source": [
    "#### Imputing undefined values\n",
    "\n",
    "We can see that the New York University (NYU) has information that is completely missing, while Indian Institute of Science (IISc) Bangalore has one missing value. Considering the scope of missing values, they will be manually set using the following sources:\n",
    "\n",
    "- NYU: https://www.nyu.edu/about/news-publications/nyu-at-a-glance.html, https://www.nyu.edu/admissions/undergraduate-admissions/nyu-facts.html\n",
    "- IISc: http://www.iisc.ac.in/iisc-in-numbers/#ffs-tabbed-12\n",
    "\n",
    "This is potentially troubling, since there is no information about the actual data collection for the ranking, methodology or actual date which is available for a confident selection of the figures missing. Frequently, the websites also omit the precise dates. Comparing the potential noise which would be added to the fact that we would discard 2 top 200 universities, the decision is to take the data and impute it, while being aware that it might induce some error in methodology. It is a tradeoff between statistical error in imputed data and the error which would occur in the further aggregate analysis.\n",
    "\n",
    "Therefore the NYU data is following:\n",
    "- total faculty members: 7861 (Fall 2015)\n",
    "- total students: 58419 (Fall 2015)\n",
    "- international faculty members: 619 (September 2017)\n",
    "- international students: 26% == 15189 (Fall 2015)\n",
    "\n",
    "Unfortunately, the data of international faculty members is not available in public records online for IISc, therefore it will be designated as 0. The unavailability might rise from the fact that the figure is rather low (https://scroll.in/article/811696/there-are-no-indian-universities-in-the-worlds-top-250-list-heres-how-javadekar-can-change-that), so it would not be positive for faculty to publicize such information. \n",
    "\n",
    "*If time permitted a good practice would be to contact the institution directly for the actual quote in both cases*"
   ]
  },
  {
   "cell_type": "code",
   "execution_count": null,
   "metadata": {
    "collapsed": true
   },
   "outputs": [],
   "source": [
    "TU_df.loc[TU_df.title=='New York University (NYU)','Total faculty members'] = 7861\n",
    "TU_df.loc[TU_df.title=='New York University (NYU)','Total students'] = 58419\n",
    "TU_df.loc[TU_df.title=='New York University (NYU)','International faculty members'] = 619\n",
    "TU_df.loc[TU_df.title=='New York University (NYU)','International students'] = 15189\n",
    "\n",
    "\n",
    "TU_df = TU_df.fillna(0)"
   ]
  },
  {
   "cell_type": "markdown",
   "metadata": {},
   "source": [
    "#### Pruning the data in DataFrame\n",
    "\n",
    "We have several pieces of information that are redundant at this point, so we will remove such columns from the DataFrame for a better overview. We can see bellow that *cc*, *rank_display*, *stars*, *core_id*, *guide*, *logo*, *nid* and *url* are present, but redundant in the following analysis."
   ]
  },
  {
   "cell_type": "code",
   "execution_count": null,
   "metadata": {},
   "outputs": [],
   "source": [
    "TU_df.head(1)"
   ]
  },
  {
   "cell_type": "code",
   "execution_count": null,
   "metadata": {
    "scrolled": true
   },
   "outputs": [],
   "source": [
    "TU_df.drop(['cc', 'stars', 'core_id', 'guide', 'logo', 'nid', 'url'], axis=1, inplace=True)\n",
    "TU_df.head(1)"
   ]
  },
  {
   "cell_type": "markdown",
   "metadata": {},
   "source": [
    "#### We have our DataFrame ready for further analysis!\n",
    "---"
   ]
  },
  {
   "cell_type": "markdown",
   "metadata": {},
   "source": [
    "### 1.2 Ranking: faculty members, students and internationalization\n",
    "\n",
    "In this section we answer the question: **Which are the best universities in term of: (a) ratio between faculty members and students, (b) ratio of international students?**\n",
    "\n",
    "For easier analysis for (a) and (b) we will add the ratios to the existing DataFrame:"
   ]
  },
  {
   "cell_type": "code",
   "execution_count": null,
   "metadata": {
    "collapsed": true
   },
   "outputs": [],
   "source": [
    "# ratio between faculty members and students\n",
    "TU_df['Ratio faculty/students'] = TU_df['Total faculty members']/TU_df['Total students']\n",
    "\n",
    "# ratio of international students\n",
    "TU_df['Ratio intl/total students'] = TU_df['International students']/TU_df['Total students']"
   ]
  },
  {
   "cell_type": "code",
   "execution_count": null,
   "metadata": {},
   "outputs": [],
   "source": [
    "TU_df.head(1)"
   ]
  },
  {
   "cell_type": "markdown",
   "metadata": {},
   "source": [
    "We have prepared the data for our analysis! The results are obtained by sorting the `DataFrame` by appropriate criterion.\n",
    "\n",
    "### Best university: (a) ratio between faculty members and students"
   ]
  },
  {
   "cell_type": "code",
   "execution_count": null,
   "metadata": {
    "collapsed": true
   },
   "outputs": [],
   "source": [
    "TU_fac_stud_df = TU_df.sort_values('Ratio faculty/students', ascending=False)"
   ]
  },
  {
   "cell_type": "markdown",
   "metadata": {},
   "source": [
    "#### Top 5 by ratio of faculty members and students:"
   ]
  },
  {
   "cell_type": "code",
   "execution_count": null,
   "metadata": {},
   "outputs": [],
   "source": [
    "TU_fac_stud_df.head(5)"
   ]
  },
  {
   "cell_type": "markdown",
   "metadata": {},
   "source": [
    "### Best university: (b) ratio of international students"
   ]
  },
  {
   "cell_type": "code",
   "execution_count": null,
   "metadata": {
    "collapsed": true
   },
   "outputs": [],
   "source": [
    "TU_intl_df = TU_df.sort_values('Ratio intl/total students', ascending=False)"
   ]
  },
  {
   "cell_type": "markdown",
   "metadata": {},
   "source": [
    "#### Top 5 by ratio of international students"
   ]
  },
  {
   "cell_type": "code",
   "execution_count": null,
   "metadata": {},
   "outputs": [],
   "source": [
    "TU_intl_df.head(5)"
   ]
  },
  {
   "cell_type": "markdown",
   "metadata": {},
   "source": [
    "------\n",
    "### 1.3 Ranking: regional and national results\n",
    "\n",
    "In this section we use the results obtained in **1.2** and aggregate them, separately, by country and region, thus providing answer to the question 2:\n",
    "\n",
    "*Answer the previous question aggregating the data by (c) country and (d) region.*\n",
    "\n",
    "The `DataFrame` contains all the datapoints we need for answering the questions, the only procedure we need to undertake is aggregation of data. We need to remove the calculated ratios per faculty since the summation would not result in proper result in this case (we would need to normalize the result otherwise). We can further remove the score and name of the university **manually**, since it does not play a role in the dataset, but since it is a variable on which we could not perform aggregation such variables would anyway be ignored by *Pandas*."
   ]
  },
  {
   "cell_type": "code",
   "execution_count": null,
   "metadata": {},
   "outputs": [],
   "source": [
    "TU_aggregate_df = TU_df.copy()\n",
    "TU_aggregate_df.drop(['Ratio faculty/students', 'Ratio intl/total students'], axis=1, inplace=True)\n",
    "TU_aggregate_df.head(1)"
   ]
  },
  {
   "cell_type": "markdown",
   "metadata": {},
   "source": [
    "---\n",
    "#### Aggregating data by country (c)\n",
    "\n",
    "We will group the data by the country and then sum the values of such aggregate to produce desired data."
   ]
  },
  {
   "cell_type": "code",
   "execution_count": null,
   "metadata": {
    "scrolled": true
   },
   "outputs": [],
   "source": [
    "# we can compose multiple functions to reduce code clutter\n",
    "TU_country_df = TU_aggregate_df.groupby(['country']).sum()\n",
    "TU_country_df.head(2)"
   ]
  },
  {
   "cell_type": "markdown",
   "metadata": {},
   "source": [
    "As done previously, desired ratios are calculated and added to the `DataFrame`:"
   ]
  },
  {
   "cell_type": "code",
   "execution_count": null,
   "metadata": {
    "collapsed": true
   },
   "outputs": [],
   "source": [
    "TU_country_df['Ratio faculty/students'] = TU_country_df['Total faculty members']/TU_country_df['Total students']\n",
    "TU_country_df['Ratio intl/total students'] = TU_country_df['International students']/TU_country_df['Total students']"
   ]
  },
  {
   "cell_type": "markdown",
   "metadata": {},
   "source": [
    "#### Top 5 countries with Universities with highest ratio of faculty to students"
   ]
  },
  {
   "cell_type": "code",
   "execution_count": null,
   "metadata": {},
   "outputs": [],
   "source": [
    "TU_country_df.sort_values('Ratio faculty/students', ascending=False).head(5)"
   ]
  },
  {
   "cell_type": "markdown",
   "metadata": {},
   "source": [
    "#### Top 5 countries with Universities with highest ratio of international students"
   ]
  },
  {
   "cell_type": "code",
   "execution_count": null,
   "metadata": {},
   "outputs": [],
   "source": [
    "TU_country_df.sort_values('Ratio intl/total students', ascending=False).head(5)"
   ]
  },
  {
   "cell_type": "markdown",
   "metadata": {},
   "source": [
    "---\n",
    "#### Aggregating data by region (d)\n",
    "\n",
    "We perform the same procedure with grouping by the region instead of country."
   ]
  },
  {
   "cell_type": "code",
   "execution_count": null,
   "metadata": {
    "scrolled": true
   },
   "outputs": [],
   "source": [
    "TU_region_df = TU_aggregate_df.groupby(['region']).sum()\n",
    "TU_region_df.head(2)"
   ]
  },
  {
   "cell_type": "markdown",
   "metadata": {},
   "source": [
    "We calculate the desired ratios by the region and then present the top 5 regions by each criterion."
   ]
  },
  {
   "cell_type": "code",
   "execution_count": null,
   "metadata": {
    "collapsed": true
   },
   "outputs": [],
   "source": [
    "TU_region_df['Ratio faculty/students'] = TU_region_df['Total faculty members']/TU_region_df['Total students']\n",
    "TU_region_df['Ratio intl/total students'] = TU_region_df['International students']/TU_region_df['Total students']"
   ]
  },
  {
   "cell_type": "markdown",
   "metadata": {},
   "source": [
    "#### Top 5 regions with Universities with the highest faculty to student ratio"
   ]
  },
  {
   "cell_type": "code",
   "execution_count": null,
   "metadata": {},
   "outputs": [],
   "source": [
    "TU_region_df.sort_values(['Ratio faculty/students'], ascending=False).head(5)"
   ]
  },
  {
   "cell_type": "markdown",
   "metadata": {},
   "source": [
    "#### Top 5 regions with Universities with the highest ratio of international students"
   ]
  },
  {
   "cell_type": "code",
   "execution_count": null,
   "metadata": {},
   "outputs": [],
   "source": [
    "TU_region_df.sort_values(['Ratio intl/total students'], ascending=False).head(5)"
   ]
  },
  {
   "cell_type": "markdown",
   "metadata": {},
   "source": [
    "## 2. World University Rankings by TimesHigherEducation"
   ]
  },
  {
   "cell_type": "markdown",
   "metadata": {},
   "source": [
    "In this chapter, we will scrape the data from [TimesHigherEducation ranking 2018](http://timeshighereducation.com/world-university-rankings/2018/world-ranking), as well as answering the assignment questions by performing simple data analysis.\n"
   ]
  },
  {
   "cell_type": "markdown",
   "metadata": {},
   "source": [
    "Pandas options setting for a better view of the data"
   ]
  },
  {
   "cell_type": "code",
   "execution_count": 2,
   "metadata": {
    "ExecuteTime": {
     "end_time": "2017-10-21T21:05:10.340229Z",
     "start_time": "2017-10-21T21:05:10.337211Z"
    }
   },
   "outputs": [],
   "source": [
    "pd.set_option('display.max_columns', None)\n",
    "\n",
    "pd.set_option('display.max_rows', None)"
   ]
  },
  {
   "cell_type": "markdown",
   "metadata": {},
   "source": [
    "### Analysis of the website to scrape\n",
    "\n",
    "As in the case for task 1, we notice, using Interceptor Chrome app and Postman, that when accessing the main list url\n",
    "\n",
    "http://timeshighereducation.com/world-university-rankings/2018/world-ranking \n",
    "\n",
    "\n",
    "another specific **GET** request is made to one of the server's REST API endpoints\n",
    "\n",
    "https://www.timeshighereducation.com/sites/default/files/the_data_rankings/world_university_rankings_2018_limit0_369a9045a203e176392b9fb8f8c1cb2a.json\n",
    "\n",
    "which serves a file in JSON format that contains a data field with information about each university in the ranking."
   ]
  },
  {
   "cell_type": "markdown",
   "metadata": {},
   "source": [
    "#### Implementing the scrapping procedure\n",
    "\n",
    "We begin by extracting the JSON file found previously with Interceptor and Postman and processing it as a JSON. In order to do so, we implement an utility function that sends a **GET** request to a server's API endpoint identified by the url.\n",
    "\n",
    "The result is saved in a dictionary so that the http request is made only once per url."
   ]
  },
  {
   "cell_type": "code",
   "execution_count": 3,
   "metadata": {
    "ExecuteTime": {
     "end_time": "2017-10-21T21:05:10.770393Z",
     "start_time": "2017-10-21T21:05:10.764501Z"
    },
    "collapsed": true
   },
   "outputs": [],
   "source": [
    "json_data = {}\n",
    "def get_json(url):\n",
    "    if url not in json_data:\n",
    "        r = requests.get(url)\n",
    "        json_data[url] = r\n",
    "    else:\n",
    "        r = json_data[url]\n",
    "        \n",
    "    return r.json()"
   ]
  },
  {
   "cell_type": "code",
   "execution_count": 4,
   "metadata": {
    "ExecuteTime": {
     "end_time": "2017-10-21T21:05:11.492430Z",
     "start_time": "2017-10-21T21:05:10.913491Z"
    },
    "collapsed": true
   },
   "outputs": [],
   "source": [
    "thedu_url = 'https://www.timeshighereducation.com'\n",
    "thedu_json_url = '/sites/default/files/the_data_rankings/world_university_rankings_2018_limit0_369a9045a203e176392b9fb8f8c1cb2a.json'\n",
    "\n",
    "json_data_thedu = get_json(thedu_url + thedu_json_url)"
   ]
  },
  {
   "cell_type": "markdown",
   "metadata": {},
   "source": [
    "#### Analysis of the json object format"
   ]
  },
  {
   "cell_type": "code",
   "execution_count": 5,
   "metadata": {
    "ExecuteTime": {
     "end_time": "2017-10-21T21:05:11.586425Z",
     "start_time": "2017-10-21T21:05:11.580264Z"
    }
   },
   "outputs": [
    {
     "data": {
      "text/plain": [
       "dict_keys(['data', 'subjects', 'locations', 'pillars'])"
      ]
     },
     "metadata": {},
     "output_type": "display_data"
    },
    {
     "data": {
      "text/plain": [
       "{'aliases': 'University of Oxford',\n",
       " 'location': 'United Kingdom',\n",
       " 'member_level': '0',\n",
       " 'name': 'University of Oxford',\n",
       " 'nid': 468,\n",
       " 'rank': '1',\n",
       " 'rank_order': '10',\n",
       " 'record_type': 'master_account',\n",
       " 'scores_citations': '99.1',\n",
       " 'scores_citations_rank': '15',\n",
       " 'scores_industry_income': '63.7',\n",
       " 'scores_industry_income_rank': '169',\n",
       " 'scores_international_outlook': '95.0',\n",
       " 'scores_international_outlook_rank': '24',\n",
       " 'scores_overall': '94.3',\n",
       " 'scores_overall_rank': '10',\n",
       " 'scores_research': '99.5',\n",
       " 'scores_research_rank': '1',\n",
       " 'scores_teaching': '86.7',\n",
       " 'scores_teaching_rank': '5',\n",
       " 'stats_female_male_ratio': '46 : 54',\n",
       " 'stats_number_students': '20,409',\n",
       " 'stats_pc_intl_students': '38%',\n",
       " 'stats_student_staff_ratio': '11.2',\n",
       " 'subjects_offered': 'Archaeology,Art, Performing Arts & Design,Biological Sciences,Business & Management,Chemical Engineering,Chemistry,Civil Engineering,Computer Science,Economics & Econometrics,Electrical & Electronic Engineering,General Engineering,Geography,Geology, Environmental, Earth & Marine Sciences,History, Philosophy & Theology,Languages, Literatures and Linguistics,Law,Mathematics & Statistics,Mechanical & Aerospace Engineering,Medicine & Dentistry,Physics & Astronomy,Psychology',\n",
       " 'url': '/world-university-rankings/university-oxford'}"
      ]
     },
     "metadata": {},
     "output_type": "display_data"
    }
   ],
   "source": [
    "# fields of the entire json object\n",
    "display(json_data_thedu.keys())\n",
    "# one entry in the data field\n",
    "display(json_data_thedu['data'][0])"
   ]
  },
  {
   "cell_type": "markdown",
   "metadata": {},
   "source": [
    "The retrieved json object has 4 fields: data, subjects, locations and pillars out of which we are interested only in data. Specifically in the first 200 entries in the corresponding array because, again, we are focusing on the 200 best ranking universities and not the universities until rank 200.\n",
    "\n",
    "#### Structure of data\n",
    "\n",
    "We observe that the data field contains the name, location which is basically the country, number of students, ratio of international students and ratio of student to staff which is enough to infer all the fields that are asked in the asignment, except the region and number of international faculty members. Therefore we are not required to aditionally scrape the detailed page of the univerities.\n",
    "\n",
    "Given that the region of a country cannot variate, for this field we will use external information, for example the dataframe from the previous task, to infer the region of an university. \n",
    "\n",
    "The number of international faculty members is not provided by the TimesHigherEducation, but we do not need it in our further analysis related to this task.\n",
    "\n",
    "Observing the data field is a list of records, it makes sense to load it in a DataFrame for easier manipulation."
   ]
  },
  {
   "cell_type": "code",
   "execution_count": 6,
   "metadata": {
    "ExecuteTime": {
     "end_time": "2017-10-21T21:05:11.691630Z",
     "start_time": "2017-10-21T21:05:11.678118Z"
    },
    "collapsed": true
   },
   "outputs": [],
   "source": [
    "data_thedu = pd.DataFrame(json_data_thedu['data'])"
   ]
  },
  {
   "cell_type": "code",
   "execution_count": 7,
   "metadata": {
    "ExecuteTime": {
     "end_time": "2017-10-21T21:05:14.378937Z",
     "start_time": "2017-10-21T21:05:14.350779Z"
    }
   },
   "outputs": [
    {
     "data": {
      "text/html": [
       "<div>\n",
       "<style>\n",
       "    .dataframe thead tr:only-child th {\n",
       "        text-align: right;\n",
       "    }\n",
       "\n",
       "    .dataframe thead th {\n",
       "        text-align: left;\n",
       "    }\n",
       "\n",
       "    .dataframe tbody tr th {\n",
       "        vertical-align: top;\n",
       "    }\n",
       "</style>\n",
       "<table border=\"1\" class=\"dataframe\">\n",
       "  <thead>\n",
       "    <tr style=\"text-align: right;\">\n",
       "      <th></th>\n",
       "      <th>aliases</th>\n",
       "      <th>location</th>\n",
       "      <th>member_level</th>\n",
       "      <th>name</th>\n",
       "      <th>nid</th>\n",
       "      <th>rank</th>\n",
       "      <th>rank_order</th>\n",
       "      <th>record_type</th>\n",
       "      <th>scores_citations</th>\n",
       "      <th>scores_citations_rank</th>\n",
       "      <th>scores_industry_income</th>\n",
       "      <th>scores_industry_income_rank</th>\n",
       "      <th>scores_international_outlook</th>\n",
       "      <th>scores_international_outlook_rank</th>\n",
       "      <th>scores_overall</th>\n",
       "      <th>scores_overall_rank</th>\n",
       "      <th>scores_research</th>\n",
       "      <th>scores_research_rank</th>\n",
       "      <th>scores_teaching</th>\n",
       "      <th>scores_teaching_rank</th>\n",
       "      <th>stats_female_male_ratio</th>\n",
       "      <th>stats_number_students</th>\n",
       "      <th>stats_pc_intl_students</th>\n",
       "      <th>stats_student_staff_ratio</th>\n",
       "      <th>subjects_offered</th>\n",
       "      <th>url</th>\n",
       "    </tr>\n",
       "  </thead>\n",
       "  <tbody>\n",
       "    <tr>\n",
       "      <th>0</th>\n",
       "      <td>University of Oxford</td>\n",
       "      <td>United Kingdom</td>\n",
       "      <td>0</td>\n",
       "      <td>University of Oxford</td>\n",
       "      <td>468</td>\n",
       "      <td>1</td>\n",
       "      <td>10</td>\n",
       "      <td>master_account</td>\n",
       "      <td>99.1</td>\n",
       "      <td>15</td>\n",
       "      <td>63.7</td>\n",
       "      <td>169</td>\n",
       "      <td>95.0</td>\n",
       "      <td>24</td>\n",
       "      <td>94.3</td>\n",
       "      <td>10</td>\n",
       "      <td>99.5</td>\n",
       "      <td>1</td>\n",
       "      <td>86.7</td>\n",
       "      <td>5</td>\n",
       "      <td>46 : 54</td>\n",
       "      <td>20,409</td>\n",
       "      <td>38%</td>\n",
       "      <td>11.2</td>\n",
       "      <td>Archaeology,Art, Performing Arts &amp; Design,Biol...</td>\n",
       "      <td>/world-university-rankings/university-oxford</td>\n",
       "    </tr>\n",
       "    <tr>\n",
       "      <th>1</th>\n",
       "      <td>University of Cambridge</td>\n",
       "      <td>United Kingdom</td>\n",
       "      <td>0</td>\n",
       "      <td>University of Cambridge</td>\n",
       "      <td>470</td>\n",
       "      <td>2</td>\n",
       "      <td>20</td>\n",
       "      <td>master_account</td>\n",
       "      <td>97.5</td>\n",
       "      <td>29</td>\n",
       "      <td>51.5</td>\n",
       "      <td>260</td>\n",
       "      <td>93.0</td>\n",
       "      <td>35</td>\n",
       "      <td>93.2</td>\n",
       "      <td>20</td>\n",
       "      <td>97.8</td>\n",
       "      <td>3</td>\n",
       "      <td>87.8</td>\n",
       "      <td>3</td>\n",
       "      <td>45 : 55</td>\n",
       "      <td>18,389</td>\n",
       "      <td>35%</td>\n",
       "      <td>10.9</td>\n",
       "      <td>Archaeology,Architecture,Art, Performing Arts ...</td>\n",
       "      <td>/world-university-rankings/university-cambridge</td>\n",
       "    </tr>\n",
       "    <tr>\n",
       "      <th>2</th>\n",
       "      <td>California Institute of Technology caltech</td>\n",
       "      <td>United States</td>\n",
       "      <td>0</td>\n",
       "      <td>California Institute of Technology</td>\n",
       "      <td>128779</td>\n",
       "      <td>=3</td>\n",
       "      <td>30</td>\n",
       "      <td>private</td>\n",
       "      <td>99.5</td>\n",
       "      <td>10</td>\n",
       "      <td>92.6</td>\n",
       "      <td>51</td>\n",
       "      <td>59.7</td>\n",
       "      <td>322</td>\n",
       "      <td>93.0</td>\n",
       "      <td>30</td>\n",
       "      <td>97.5</td>\n",
       "      <td>4</td>\n",
       "      <td>90.3</td>\n",
       "      <td>1</td>\n",
       "      <td>31 : 69</td>\n",
       "      <td>2,209</td>\n",
       "      <td>27%</td>\n",
       "      <td>6.5</td>\n",
       "      <td>Architecture,Biological Sciences,Business &amp; Ma...</td>\n",
       "      <td>/world-university-rankings/california-institut...</td>\n",
       "    </tr>\n",
       "    <tr>\n",
       "      <th>3</th>\n",
       "      <td>Stanford University</td>\n",
       "      <td>United States</td>\n",
       "      <td>11</td>\n",
       "      <td>Stanford University</td>\n",
       "      <td>467</td>\n",
       "      <td>=3</td>\n",
       "      <td>40</td>\n",
       "      <td>private</td>\n",
       "      <td>99.9</td>\n",
       "      <td>4</td>\n",
       "      <td>60.5</td>\n",
       "      <td>189</td>\n",
       "      <td>77.6</td>\n",
       "      <td>162</td>\n",
       "      <td>93.0</td>\n",
       "      <td>40</td>\n",
       "      <td>96.7</td>\n",
       "      <td>5</td>\n",
       "      <td>89.1</td>\n",
       "      <td>2</td>\n",
       "      <td>42 : 58</td>\n",
       "      <td>15,845</td>\n",
       "      <td>22%</td>\n",
       "      <td>7.5</td>\n",
       "      <td>Archaeology,Architecture,Art, Performing Arts ...</td>\n",
       "      <td>/world-university-rankings/stanford-university</td>\n",
       "    </tr>\n",
       "    <tr>\n",
       "      <th>4</th>\n",
       "      <td>Massachusetts Institute of Technology</td>\n",
       "      <td>United States</td>\n",
       "      <td>0</td>\n",
       "      <td>Massachusetts Institute of Technology</td>\n",
       "      <td>471</td>\n",
       "      <td>5</td>\n",
       "      <td>50</td>\n",
       "      <td>private</td>\n",
       "      <td>100.0</td>\n",
       "      <td>1</td>\n",
       "      <td>88.4</td>\n",
       "      <td>63</td>\n",
       "      <td>87.6</td>\n",
       "      <td>81</td>\n",
       "      <td>92.5</td>\n",
       "      <td>50</td>\n",
       "      <td>91.9</td>\n",
       "      <td>9</td>\n",
       "      <td>87.3</td>\n",
       "      <td>4</td>\n",
       "      <td>37 : 63</td>\n",
       "      <td>11,177</td>\n",
       "      <td>34%</td>\n",
       "      <td>8.7</td>\n",
       "      <td>Architecture,Art, Performing Arts &amp; Design,Bio...</td>\n",
       "      <td>/world-university-rankings/massachusetts-insti...</td>\n",
       "    </tr>\n",
       "  </tbody>\n",
       "</table>\n",
       "</div>"
      ],
      "text/plain": [
       "                                      aliases        location member_level  \\\n",
       "0                        University of Oxford  United Kingdom            0   \n",
       "1                     University of Cambridge  United Kingdom            0   \n",
       "2  California Institute of Technology caltech   United States            0   \n",
       "3                         Stanford University   United States           11   \n",
       "4       Massachusetts Institute of Technology   United States            0   \n",
       "\n",
       "                                    name     nid rank rank_order  \\\n",
       "0                   University of Oxford     468    1         10   \n",
       "1                University of Cambridge     470    2         20   \n",
       "2     California Institute of Technology  128779   =3         30   \n",
       "3                    Stanford University     467   =3         40   \n",
       "4  Massachusetts Institute of Technology     471    5         50   \n",
       "\n",
       "      record_type scores_citations scores_citations_rank  \\\n",
       "0  master_account             99.1                    15   \n",
       "1  master_account             97.5                    29   \n",
       "2         private             99.5                    10   \n",
       "3         private             99.9                     4   \n",
       "4         private            100.0                     1   \n",
       "\n",
       "  scores_industry_income scores_industry_income_rank  \\\n",
       "0                   63.7                         169   \n",
       "1                   51.5                         260   \n",
       "2                   92.6                          51   \n",
       "3                   60.5                         189   \n",
       "4                   88.4                          63   \n",
       "\n",
       "  scores_international_outlook scores_international_outlook_rank  \\\n",
       "0                         95.0                                24   \n",
       "1                         93.0                                35   \n",
       "2                         59.7                               322   \n",
       "3                         77.6                               162   \n",
       "4                         87.6                                81   \n",
       "\n",
       "  scores_overall scores_overall_rank scores_research scores_research_rank  \\\n",
       "0           94.3                  10            99.5                    1   \n",
       "1           93.2                  20            97.8                    3   \n",
       "2           93.0                  30            97.5                    4   \n",
       "3           93.0                  40            96.7                    5   \n",
       "4           92.5                  50            91.9                    9   \n",
       "\n",
       "  scores_teaching scores_teaching_rank stats_female_male_ratio  \\\n",
       "0            86.7                    5                 46 : 54   \n",
       "1            87.8                    3                 45 : 55   \n",
       "2            90.3                    1                 31 : 69   \n",
       "3            89.1                    2                 42 : 58   \n",
       "4            87.3                    4                 37 : 63   \n",
       "\n",
       "  stats_number_students stats_pc_intl_students stats_student_staff_ratio  \\\n",
       "0                20,409                    38%                      11.2   \n",
       "1                18,389                    35%                      10.9   \n",
       "2                 2,209                    27%                       6.5   \n",
       "3                15,845                    22%                       7.5   \n",
       "4                11,177                    34%                       8.7   \n",
       "\n",
       "                                    subjects_offered  \\\n",
       "0  Archaeology,Art, Performing Arts & Design,Biol...   \n",
       "1  Archaeology,Architecture,Art, Performing Arts ...   \n",
       "2  Architecture,Biological Sciences,Business & Ma...   \n",
       "3  Archaeology,Architecture,Art, Performing Arts ...   \n",
       "4  Architecture,Art, Performing Arts & Design,Bio...   \n",
       "\n",
       "                                                 url  \n",
       "0       /world-university-rankings/university-oxford  \n",
       "1    /world-university-rankings/university-cambridge  \n",
       "2  /world-university-rankings/california-institut...  \n",
       "3     /world-university-rankings/stanford-university  \n",
       "4  /world-university-rankings/massachusetts-insti...  "
      ]
     },
     "execution_count": 7,
     "metadata": {},
     "output_type": "execute_result"
    }
   ],
   "source": [
    "data_thedu.head()"
   ]
  },
  {
   "cell_type": "code",
   "execution_count": 8,
   "metadata": {
    "ExecuteTime": {
     "end_time": "2017-10-21T21:05:17.155071Z",
     "start_time": "2017-10-21T21:05:17.151361Z"
    }
   },
   "outputs": [
    {
     "data": {
      "text/plain": [
       "Index(['aliases', 'location', 'member_level', 'name', 'nid', 'rank',\n",
       "       'rank_order', 'record_type', 'scores_citations',\n",
       "       'scores_citations_rank', 'scores_industry_income',\n",
       "       'scores_industry_income_rank', 'scores_international_outlook',\n",
       "       'scores_international_outlook_rank', 'scores_overall',\n",
       "       'scores_overall_rank', 'scores_research', 'scores_research_rank',\n",
       "       'scores_teaching', 'scores_teaching_rank', 'stats_female_male_ratio',\n",
       "       'stats_number_students', 'stats_pc_intl_students',\n",
       "       'stats_student_staff_ratio', 'subjects_offered', 'url'],\n",
       "      dtype='object')"
      ]
     },
     "execution_count": 8,
     "metadata": {},
     "output_type": "execute_result"
    }
   ],
   "source": [
    "data_thedu.columns"
   ]
  },
  {
   "cell_type": "markdown",
   "metadata": {},
   "source": [
    "#### Restructuring the data"
   ]
  },
  {
   "cell_type": "markdown",
   "metadata": {},
   "source": [
    "As argued above, we will keep in the DataFrame only the columns that are relevant to our analysis:\n",
    "- name\n",
    "- rank\n",
    "- location\n",
    "- stats_number_students\n",
    "- stats_pc_intl_students\n",
    "- stats_student_staff_ratio"
   ]
  },
  {
   "cell_type": "code",
   "execution_count": 9,
   "metadata": {
    "ExecuteTime": {
     "end_time": "2017-10-21T21:05:20.478768Z",
     "start_time": "2017-10-21T21:05:20.471234Z"
    }
   },
   "outputs": [],
   "source": [
    "columns_to_drop = data_thedu.columns.difference(['name', 'rank','location', 'stats_number_students', 'stats_pc_intl_students', 'stats_student_staff_ratio'])\n",
    "data_thedu = data_thedu.drop(columns_to_drop, axis=1)[0:200]"
   ]
  },
  {
   "cell_type": "code",
   "execution_count": 10,
   "metadata": {
    "ExecuteTime": {
     "end_time": "2017-10-21T21:05:20.937291Z",
     "start_time": "2017-10-21T21:05:20.929220Z"
    }
   },
   "outputs": [
    {
     "data": {
      "text/plain": [
       "0    38%\n",
       "1    35%\n",
       "2    27%\n",
       "3    22%\n",
       "4    34%\n",
       "Name: stats_pc_intl_students, dtype: object"
      ]
     },
     "execution_count": 10,
     "metadata": {},
     "output_type": "execute_result"
    }
   ],
   "source": [
    "data_thedu.stats_pc_intl_students.head()"
   ]
  },
  {
   "cell_type": "markdown",
   "metadata": {},
   "source": [
    "The column stats_pc_intl_students representing the percentage of international students does not have a format that allows us do the operations necessary to infer the number of international students. \n",
    "\n",
    "We will create a function that will parse the string values of this column and transform them into a value from [0,1]"
   ]
  },
  {
   "cell_type": "code",
   "execution_count": 11,
   "metadata": {
    "ExecuteTime": {
     "end_time": "2017-10-21T21:05:21.409539Z",
     "start_time": "2017-10-21T21:05:21.404142Z"
    },
    "collapsed": true
   },
   "outputs": [],
   "source": [
    "def percentage_to_ratio(value):\n",
    "    # we slice the value up until the last character\n",
    "    # then parse it as an int and divide it by 100 to obtain a value between 0 and 1\n",
    "    return int(value[:-1])/100"
   ]
  },
  {
   "cell_type": "code",
   "execution_count": 12,
   "metadata": {
    "ExecuteTime": {
     "end_time": "2017-10-21T21:05:21.920920Z",
     "start_time": "2017-10-21T21:05:21.871558Z"
    }
   },
   "outputs": [],
   "source": [
    "data_thedu['stats_pc_intl_students'] = data_thedu['stats_pc_intl_students'].apply(percentage_to_ratio)\n",
    "data_thedu.rename(columns={'stats_pc_intl_students':'stats_intl_students_ratio'}, inplace=True)"
   ]
  },
  {
   "cell_type": "code",
   "execution_count": 13,
   "metadata": {
    "ExecuteTime": {
     "end_time": "2017-10-21T21:05:22.413215Z",
     "start_time": "2017-10-21T21:05:22.393035Z"
    }
   },
   "outputs": [
    {
     "data": {
      "text/html": [
       "<div>\n",
       "<style>\n",
       "    .dataframe thead tr:only-child th {\n",
       "        text-align: right;\n",
       "    }\n",
       "\n",
       "    .dataframe thead th {\n",
       "        text-align: left;\n",
       "    }\n",
       "\n",
       "    .dataframe tbody tr th {\n",
       "        vertical-align: top;\n",
       "    }\n",
       "</style>\n",
       "<table border=\"1\" class=\"dataframe\">\n",
       "  <thead>\n",
       "    <tr style=\"text-align: right;\">\n",
       "      <th></th>\n",
       "      <th>location</th>\n",
       "      <th>name</th>\n",
       "      <th>rank</th>\n",
       "      <th>stats_number_students</th>\n",
       "      <th>stats_intl_students_ratio</th>\n",
       "      <th>stats_student_staff_ratio</th>\n",
       "    </tr>\n",
       "  </thead>\n",
       "  <tbody>\n",
       "    <tr>\n",
       "      <th>0</th>\n",
       "      <td>United Kingdom</td>\n",
       "      <td>University of Oxford</td>\n",
       "      <td>1</td>\n",
       "      <td>20,409</td>\n",
       "      <td>0.38</td>\n",
       "      <td>11.2</td>\n",
       "    </tr>\n",
       "    <tr>\n",
       "      <th>1</th>\n",
       "      <td>United Kingdom</td>\n",
       "      <td>University of Cambridge</td>\n",
       "      <td>2</td>\n",
       "      <td>18,389</td>\n",
       "      <td>0.35</td>\n",
       "      <td>10.9</td>\n",
       "    </tr>\n",
       "    <tr>\n",
       "      <th>2</th>\n",
       "      <td>United States</td>\n",
       "      <td>California Institute of Technology</td>\n",
       "      <td>=3</td>\n",
       "      <td>2,209</td>\n",
       "      <td>0.27</td>\n",
       "      <td>6.5</td>\n",
       "    </tr>\n",
       "    <tr>\n",
       "      <th>3</th>\n",
       "      <td>United States</td>\n",
       "      <td>Stanford University</td>\n",
       "      <td>=3</td>\n",
       "      <td>15,845</td>\n",
       "      <td>0.22</td>\n",
       "      <td>7.5</td>\n",
       "    </tr>\n",
       "    <tr>\n",
       "      <th>4</th>\n",
       "      <td>United States</td>\n",
       "      <td>Massachusetts Institute of Technology</td>\n",
       "      <td>5</td>\n",
       "      <td>11,177</td>\n",
       "      <td>0.34</td>\n",
       "      <td>8.7</td>\n",
       "    </tr>\n",
       "  </tbody>\n",
       "</table>\n",
       "</div>"
      ],
      "text/plain": [
       "         location                                   name rank  \\\n",
       "0  United Kingdom                   University of Oxford    1   \n",
       "1  United Kingdom                University of Cambridge    2   \n",
       "2   United States     California Institute of Technology   =3   \n",
       "3   United States                    Stanford University   =3   \n",
       "4   United States  Massachusetts Institute of Technology    5   \n",
       "\n",
       "  stats_number_students  stats_intl_students_ratio stats_student_staff_ratio  \n",
       "0                20,409                       0.38                      11.2  \n",
       "1                18,389                       0.35                      10.9  \n",
       "2                 2,209                       0.27                       6.5  \n",
       "3                15,845                       0.22                       7.5  \n",
       "4                11,177                       0.34                       8.7  "
      ]
     },
     "execution_count": 13,
     "metadata": {},
     "output_type": "execute_result"
    }
   ],
   "source": [
    "data_thedu.head()"
   ]
  },
  {
   "cell_type": "markdown",
   "metadata": {},
   "source": [
    "### Inferring data\n",
    "\n",
    "We can now proceed to infer the number of international students and the number of faculty members\n",
    "\n",
    "The number of international students can be calculated as the product between the number of students and the international students ratio\n",
    "\n",
    "The number of faculty members can be calculated as the number of students divided by the student per staff ratio\n",
    "\n",
    "#### Data types"
   ]
  },
  {
   "cell_type": "code",
   "execution_count": 16,
   "metadata": {
    "ExecuteTime": {
     "end_time": "2017-10-21T21:06:45.628588Z",
     "start_time": "2017-10-21T21:06:45.618252Z"
    }
   },
   "outputs": [
    {
     "name": "stdout",
     "output_type": "stream",
     "text": [
      "<class 'pandas.core.frame.DataFrame'>\n",
      "RangeIndex: 200 entries, 0 to 199\n",
      "Data columns (total 6 columns):\n",
      "location                     200 non-null object\n",
      "name                         200 non-null object\n",
      "rank                         200 non-null object\n",
      "stats_number_students        200 non-null object\n",
      "stats_intl_students_ratio    200 non-null float64\n",
      "stats_student_staff_ratio    200 non-null object\n",
      "dtypes: float64(1), object(5)\n",
      "memory usage: 9.5+ KB\n"
     ]
    }
   ],
   "source": [
    "data_thedu.info()"
   ]
  },
  {
   "cell_type": "markdown",
   "metadata": {},
   "source": [
    "As we can see, all the stats, except the transformed international students ratio, have the data type object.\n",
    "\n",
    "For us to able to infer the new columns values, we will have to parse stats_number_students to int and stats_student_staff_ratio to float."
   ]
  },
  {
   "cell_type": "code",
   "execution_count": 17,
   "metadata": {
    "ExecuteTime": {
     "end_time": "2017-10-21T21:06:47.827676Z",
     "start_time": "2017-10-21T21:06:47.823172Z"
    }
   },
   "outputs": [],
   "source": [
    "data_thedu['stats_number_students'] = data_thedu.stats_number_students.apply(lambda x: int(x.replace(',','')))\n",
    "data_thedu['stats_student_staff_ratio'] = data_thedu.stats_student_staff_ratio.apply(lambda x: float(x))"
   ]
  },
  {
   "cell_type": "markdown",
   "metadata": {},
   "source": [
    "We now compute the new columns as described above"
   ]
  },
  {
   "cell_type": "code",
   "execution_count": 19,
   "metadata": {
    "ExecuteTime": {
     "end_time": "2017-10-21T21:07:07.700111Z",
     "start_time": "2017-10-21T21:07:07.695645Z"
    }
   },
   "outputs": [],
   "source": [
    "data_thedu['number_international_students_inferred'] = data_thedu.stats_number_students * data_thedu.stats_intl_students_ratio\n",
    "data_thedu['number_faculty_members_inferred'] = data_thedu.stats_number_students / data_thedu.stats_student_staff_ratio"
   ]
  },
  {
   "cell_type": "markdown",
   "metadata": {},
   "source": [
    "Having only two decimals precision for the ratio, the resulting values for the inferred columns are not all integers but we choose to leave them as that in order to maintain the accuracy of our data\n",
    "\n",
    "One thing left to do is to transform the student per staff ratio into staff per student ratio as per assignment."
   ]
  },
  {
   "cell_type": "code",
   "execution_count": 20,
   "metadata": {
    "ExecuteTime": {
     "end_time": "2017-10-21T21:07:08.424873Z",
     "start_time": "2017-10-21T21:07:08.420854Z"
    }
   },
   "outputs": [],
   "source": [
    "data_thedu['stats_student_staff_ratio'] = 1 / data_thedu.stats_student_staff_ratio\n",
    "data_thedu.rename(columns={'stats_student_staff_ratio':'stats_staff_student_ratio'}, inplace=True)"
   ]
  },
  {
   "cell_type": "code",
   "execution_count": 21,
   "metadata": {
    "ExecuteTime": {
     "end_time": "2017-10-21T21:07:08.764092Z",
     "start_time": "2017-10-21T21:07:08.752154Z"
    }
   },
   "outputs": [
    {
     "data": {
      "text/html": [
       "<div>\n",
       "<style>\n",
       "    .dataframe thead tr:only-child th {\n",
       "        text-align: right;\n",
       "    }\n",
       "\n",
       "    .dataframe thead th {\n",
       "        text-align: left;\n",
       "    }\n",
       "\n",
       "    .dataframe tbody tr th {\n",
       "        vertical-align: top;\n",
       "    }\n",
       "</style>\n",
       "<table border=\"1\" class=\"dataframe\">\n",
       "  <thead>\n",
       "    <tr style=\"text-align: right;\">\n",
       "      <th></th>\n",
       "      <th>location</th>\n",
       "      <th>name</th>\n",
       "      <th>rank</th>\n",
       "      <th>stats_number_students</th>\n",
       "      <th>stats_intl_students_ratio</th>\n",
       "      <th>stats_staff_student_ratio</th>\n",
       "      <th>number_international_students_inferred</th>\n",
       "      <th>number_faculty_members_inferred</th>\n",
       "    </tr>\n",
       "  </thead>\n",
       "  <tbody>\n",
       "    <tr>\n",
       "      <th>0</th>\n",
       "      <td>United Kingdom</td>\n",
       "      <td>University of Oxford</td>\n",
       "      <td>1</td>\n",
       "      <td>20409</td>\n",
       "      <td>0.38</td>\n",
       "      <td>0.089286</td>\n",
       "      <td>7755.42</td>\n",
       "      <td>1822.232143</td>\n",
       "    </tr>\n",
       "    <tr>\n",
       "      <th>1</th>\n",
       "      <td>United Kingdom</td>\n",
       "      <td>University of Cambridge</td>\n",
       "      <td>2</td>\n",
       "      <td>18389</td>\n",
       "      <td>0.35</td>\n",
       "      <td>0.091743</td>\n",
       "      <td>6436.15</td>\n",
       "      <td>1687.064220</td>\n",
       "    </tr>\n",
       "    <tr>\n",
       "      <th>2</th>\n",
       "      <td>United States</td>\n",
       "      <td>California Institute of Technology</td>\n",
       "      <td>=3</td>\n",
       "      <td>2209</td>\n",
       "      <td>0.27</td>\n",
       "      <td>0.153846</td>\n",
       "      <td>596.43</td>\n",
       "      <td>339.846154</td>\n",
       "    </tr>\n",
       "    <tr>\n",
       "      <th>3</th>\n",
       "      <td>United States</td>\n",
       "      <td>Stanford University</td>\n",
       "      <td>=3</td>\n",
       "      <td>15845</td>\n",
       "      <td>0.22</td>\n",
       "      <td>0.133333</td>\n",
       "      <td>3485.90</td>\n",
       "      <td>2112.666667</td>\n",
       "    </tr>\n",
       "    <tr>\n",
       "      <th>4</th>\n",
       "      <td>United States</td>\n",
       "      <td>Massachusetts Institute of Technology</td>\n",
       "      <td>5</td>\n",
       "      <td>11177</td>\n",
       "      <td>0.34</td>\n",
       "      <td>0.114943</td>\n",
       "      <td>3800.18</td>\n",
       "      <td>1284.712644</td>\n",
       "    </tr>\n",
       "  </tbody>\n",
       "</table>\n",
       "</div>"
      ],
      "text/plain": [
       "         location                                   name rank  \\\n",
       "0  United Kingdom                   University of Oxford    1   \n",
       "1  United Kingdom                University of Cambridge    2   \n",
       "2   United States     California Institute of Technology   =3   \n",
       "3   United States                    Stanford University   =3   \n",
       "4   United States  Massachusetts Institute of Technology    5   \n",
       "\n",
       "   stats_number_students  stats_intl_students_ratio  \\\n",
       "0                  20409                       0.38   \n",
       "1                  18389                       0.35   \n",
       "2                   2209                       0.27   \n",
       "3                  15845                       0.22   \n",
       "4                  11177                       0.34   \n",
       "\n",
       "   stats_staff_student_ratio  number_international_students_inferred  \\\n",
       "0                   0.089286                                 7755.42   \n",
       "1                   0.091743                                 6436.15   \n",
       "2                   0.153846                                  596.43   \n",
       "3                   0.133333                                 3485.90   \n",
       "4                   0.114943                                 3800.18   \n",
       "\n",
       "   number_faculty_members_inferred  \n",
       "0                      1822.232143  \n",
       "1                      1687.064220  \n",
       "2                       339.846154  \n",
       "3                      2112.666667  \n",
       "4                      1284.712644  "
      ]
     },
     "execution_count": 21,
     "metadata": {},
     "output_type": "execute_result"
    }
   ],
   "source": [
    "data_thedu.head()"
   ]
  },
  {
   "cell_type": "markdown",
   "metadata": {},
   "source": [
    "We have prepared the data for our analysis! The results are obtained by sorting the `DataFrame` by appropriate criterion.\n",
    "\n",
    "### Best university: (a) ratio between faculty members and students"
   ]
  },
  {
   "cell_type": "code",
   "execution_count": 22,
   "metadata": {
    "ExecuteTime": {
     "end_time": "2017-10-21T21:07:09.719284Z",
     "start_time": "2017-10-21T21:07:09.715738Z"
    },
    "collapsed": true
   },
   "outputs": [],
   "source": [
    "thedu_fac_stud_df = data_thedu.sort_values('stats_staff_student_ratio', ascending=False)"
   ]
  },
  {
   "cell_type": "markdown",
   "metadata": {},
   "source": [
    "#### Top 5 by ratio of faculty members and students"
   ]
  },
  {
   "cell_type": "code",
   "execution_count": 23,
   "metadata": {
    "ExecuteTime": {
     "end_time": "2017-10-21T21:07:13.492737Z",
     "start_time": "2017-10-21T21:07:13.481313Z"
    }
   },
   "outputs": [
    {
     "data": {
      "text/html": [
       "<div>\n",
       "<style>\n",
       "    .dataframe thead tr:only-child th {\n",
       "        text-align: right;\n",
       "    }\n",
       "\n",
       "    .dataframe thead th {\n",
       "        text-align: left;\n",
       "    }\n",
       "\n",
       "    .dataframe tbody tr th {\n",
       "        vertical-align: top;\n",
       "    }\n",
       "</style>\n",
       "<table border=\"1\" class=\"dataframe\">\n",
       "  <thead>\n",
       "    <tr style=\"text-align: right;\">\n",
       "      <th></th>\n",
       "      <th>location</th>\n",
       "      <th>name</th>\n",
       "      <th>rank</th>\n",
       "      <th>stats_number_students</th>\n",
       "      <th>stats_intl_students_ratio</th>\n",
       "      <th>stats_staff_student_ratio</th>\n",
       "      <th>number_international_students_inferred</th>\n",
       "      <th>number_faculty_members_inferred</th>\n",
       "    </tr>\n",
       "  </thead>\n",
       "  <tbody>\n",
       "    <tr>\n",
       "      <th>105</th>\n",
       "      <td>United States</td>\n",
       "      <td>Vanderbilt University</td>\n",
       "      <td>=105</td>\n",
       "      <td>12011</td>\n",
       "      <td>0.13</td>\n",
       "      <td>0.303030</td>\n",
       "      <td>1561.43</td>\n",
       "      <td>3639.696970</td>\n",
       "    </tr>\n",
       "    <tr>\n",
       "      <th>109</th>\n",
       "      <td>Denmark</td>\n",
       "      <td>University of Copenhagen</td>\n",
       "      <td>=109</td>\n",
       "      <td>30395</td>\n",
       "      <td>0.14</td>\n",
       "      <td>0.243902</td>\n",
       "      <td>4255.30</td>\n",
       "      <td>7413.414634</td>\n",
       "    </tr>\n",
       "    <tr>\n",
       "      <th>153</th>\n",
       "      <td>United States</td>\n",
       "      <td>University of Rochester</td>\n",
       "      <td>=153</td>\n",
       "      <td>9636</td>\n",
       "      <td>0.29</td>\n",
       "      <td>0.232558</td>\n",
       "      <td>2794.44</td>\n",
       "      <td>2240.930233</td>\n",
       "    </tr>\n",
       "    <tr>\n",
       "      <th>11</th>\n",
       "      <td>United States</td>\n",
       "      <td>Yale University</td>\n",
       "      <td>12</td>\n",
       "      <td>12155</td>\n",
       "      <td>0.21</td>\n",
       "      <td>0.232558</td>\n",
       "      <td>2552.55</td>\n",
       "      <td>2826.744186</td>\n",
       "    </tr>\n",
       "    <tr>\n",
       "      <th>12</th>\n",
       "      <td>United States</td>\n",
       "      <td>Johns Hopkins University</td>\n",
       "      <td>13</td>\n",
       "      <td>15498</td>\n",
       "      <td>0.24</td>\n",
       "      <td>0.232558</td>\n",
       "      <td>3719.52</td>\n",
       "      <td>3604.186047</td>\n",
       "    </tr>\n",
       "  </tbody>\n",
       "</table>\n",
       "</div>"
      ],
      "text/plain": [
       "          location                      name  rank  stats_number_students  \\\n",
       "105  United States     Vanderbilt University  =105                  12011   \n",
       "109        Denmark  University of Copenhagen  =109                  30395   \n",
       "153  United States   University of Rochester  =153                   9636   \n",
       "11   United States           Yale University    12                  12155   \n",
       "12   United States  Johns Hopkins University    13                  15498   \n",
       "\n",
       "     stats_intl_students_ratio  stats_staff_student_ratio  \\\n",
       "105                       0.13                   0.303030   \n",
       "109                       0.14                   0.243902   \n",
       "153                       0.29                   0.232558   \n",
       "11                        0.21                   0.232558   \n",
       "12                        0.24                   0.232558   \n",
       "\n",
       "     number_international_students_inferred  number_faculty_members_inferred  \n",
       "105                                 1561.43                      3639.696970  \n",
       "109                                 4255.30                      7413.414634  \n",
       "153                                 2794.44                      2240.930233  \n",
       "11                                  2552.55                      2826.744186  \n",
       "12                                  3719.52                      3604.186047  "
      ]
     },
     "execution_count": 23,
     "metadata": {},
     "output_type": "execute_result"
    }
   ],
   "source": [
    "thedu_fac_stud_df.head()"
   ]
  },
  {
   "cell_type": "markdown",
   "metadata": {},
   "source": [
    "### Best university: (b) ratio of international students"
   ]
  },
  {
   "cell_type": "code",
   "execution_count": 24,
   "metadata": {
    "ExecuteTime": {
     "end_time": "2017-10-21T21:10:35.743890Z",
     "start_time": "2017-10-21T21:10:35.740475Z"
    },
    "collapsed": true
   },
   "outputs": [],
   "source": [
    "thedu_intl = data_thedu.sort_values('stats_intl_students_ratio', ascending=False)"
   ]
  },
  {
   "cell_type": "markdown",
   "metadata": {},
   "source": [
    "#### Top 5 by ratio of international students"
   ]
  },
  {
   "cell_type": "code",
   "execution_count": 25,
   "metadata": {
    "ExecuteTime": {
     "end_time": "2017-10-21T21:11:04.859939Z",
     "start_time": "2017-10-21T21:11:04.848381Z"
    }
   },
   "outputs": [
    {
     "data": {
      "text/html": [
       "<div>\n",
       "<style>\n",
       "    .dataframe thead tr:only-child th {\n",
       "        text-align: right;\n",
       "    }\n",
       "\n",
       "    .dataframe thead th {\n",
       "        text-align: left;\n",
       "    }\n",
       "\n",
       "    .dataframe tbody tr th {\n",
       "        vertical-align: top;\n",
       "    }\n",
       "</style>\n",
       "<table border=\"1\" class=\"dataframe\">\n",
       "  <thead>\n",
       "    <tr style=\"text-align: right;\">\n",
       "      <th></th>\n",
       "      <th>location</th>\n",
       "      <th>name</th>\n",
       "      <th>rank</th>\n",
       "      <th>stats_number_students</th>\n",
       "      <th>stats_intl_students_ratio</th>\n",
       "      <th>stats_staff_student_ratio</th>\n",
       "      <th>number_international_students_inferred</th>\n",
       "      <th>number_faculty_members_inferred</th>\n",
       "    </tr>\n",
       "  </thead>\n",
       "  <tbody>\n",
       "    <tr>\n",
       "      <th>24</th>\n",
       "      <td>United Kingdom</td>\n",
       "      <td>London School of Economics and Political Science</td>\n",
       "      <td>=25</td>\n",
       "      <td>10065</td>\n",
       "      <td>0.71</td>\n",
       "      <td>0.081967</td>\n",
       "      <td>7146.15</td>\n",
       "      <td>825.000000</td>\n",
       "    </tr>\n",
       "    <tr>\n",
       "      <th>178</th>\n",
       "      <td>Luxembourg</td>\n",
       "      <td>University of Luxembourg</td>\n",
       "      <td>=179</td>\n",
       "      <td>4969</td>\n",
       "      <td>0.57</td>\n",
       "      <td>0.068493</td>\n",
       "      <td>2832.33</td>\n",
       "      <td>340.342466</td>\n",
       "    </tr>\n",
       "    <tr>\n",
       "      <th>37</th>\n",
       "      <td>Switzerland</td>\n",
       "      <td>École Polytechnique Fédérale de Lausanne</td>\n",
       "      <td>=38</td>\n",
       "      <td>9928</td>\n",
       "      <td>0.55</td>\n",
       "      <td>0.089286</td>\n",
       "      <td>5460.40</td>\n",
       "      <td>886.428571</td>\n",
       "    </tr>\n",
       "    <tr>\n",
       "      <th>7</th>\n",
       "      <td>United Kingdom</td>\n",
       "      <td>Imperial College London</td>\n",
       "      <td>8</td>\n",
       "      <td>15857</td>\n",
       "      <td>0.55</td>\n",
       "      <td>0.087719</td>\n",
       "      <td>8721.35</td>\n",
       "      <td>1390.964912</td>\n",
       "    </tr>\n",
       "    <tr>\n",
       "      <th>102</th>\n",
       "      <td>Netherlands</td>\n",
       "      <td>Maastricht University</td>\n",
       "      <td>103</td>\n",
       "      <td>16727</td>\n",
       "      <td>0.50</td>\n",
       "      <td>0.055556</td>\n",
       "      <td>8363.50</td>\n",
       "      <td>929.277778</td>\n",
       "    </tr>\n",
       "  </tbody>\n",
       "</table>\n",
       "</div>"
      ],
      "text/plain": [
       "           location                                              name  rank  \\\n",
       "24   United Kingdom  London School of Economics and Political Science   =25   \n",
       "178      Luxembourg                          University of Luxembourg  =179   \n",
       "37      Switzerland          École Polytechnique Fédérale de Lausanne   =38   \n",
       "7    United Kingdom                           Imperial College London     8   \n",
       "102     Netherlands                             Maastricht University   103   \n",
       "\n",
       "     stats_number_students  stats_intl_students_ratio  \\\n",
       "24                   10065                       0.71   \n",
       "178                   4969                       0.57   \n",
       "37                    9928                       0.55   \n",
       "7                    15857                       0.55   \n",
       "102                  16727                       0.50   \n",
       "\n",
       "     stats_staff_student_ratio  number_international_students_inferred  \\\n",
       "24                    0.081967                                 7146.15   \n",
       "178                   0.068493                                 2832.33   \n",
       "37                    0.089286                                 5460.40   \n",
       "7                     0.087719                                 8721.35   \n",
       "102                   0.055556                                 8363.50   \n",
       "\n",
       "     number_faculty_members_inferred  \n",
       "24                        825.000000  \n",
       "178                       340.342466  \n",
       "37                        886.428571  \n",
       "7                        1390.964912  \n",
       "102                       929.277778  "
      ]
     },
     "execution_count": 25,
     "metadata": {},
     "output_type": "execute_result"
    }
   ],
   "source": [
    "thedu_intl.head()"
   ]
  }
 ],
 "metadata": {
  "kernelspec": {
   "display_name": "Python [default]",
   "language": "python",
   "name": "python3"
  },
  "language_info": {
   "codemirror_mode": {
    "name": "ipython",
    "version": 3
   },
   "file_extension": ".py",
   "mimetype": "text/x-python",
   "name": "python",
   "nbconvert_exporter": "python",
   "pygments_lexer": "ipython3",
   "version": "3.6.2"
  },
  "toc": {
   "colors": {
    "hover_highlight": "#DAA520",
    "navigate_num": "#000000",
    "navigate_text": "#333333",
    "running_highlight": "#FF0000",
    "selected_highlight": "#FFD700",
    "sidebar_border": "#EEEEEE",
    "wrapper_background": "#FFFFFF"
   },
   "moveMenuLeft": true,
   "nav_menu": {
    "height": "171px",
    "width": "252px"
   },
   "navigate_menu": true,
   "number_sections": true,
   "sideBar": true,
   "threshold": 4,
   "toc_cell": false,
   "toc_section_display": "block",
   "toc_window_display": false,
   "widenNotebook": false
  },
  "varInspector": {
   "cols": {
    "lenName": 16,
    "lenType": 16,
    "lenVar": 40
   },
   "kernels_config": {
    "python": {
     "delete_cmd_postfix": "",
     "delete_cmd_prefix": "del ",
     "library": "var_list.py",
     "varRefreshCmd": "print(var_dic_list())"
    },
    "r": {
     "delete_cmd_postfix": ") ",
     "delete_cmd_prefix": "rm(",
     "library": "var_list.r",
     "varRefreshCmd": "cat(var_dic_list()) "
    }
   },
   "types_to_exclude": [
    "module",
    "function",
    "builtin_function_or_method",
    "instance",
    "_Feature"
   ],
   "window_display": false
  }
 },
 "nbformat": 4,
 "nbformat_minor": 2
}
