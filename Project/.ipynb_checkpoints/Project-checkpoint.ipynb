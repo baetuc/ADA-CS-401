{
 "cells": [
  {
   "cell_type": "markdown",
   "metadata": {},
   "source": [
    "# Donald Trump - Insights in 140 characters\n",
    "\n",
    "---\n",
    "\n",
    "## Initial research outline\n",
    "\n",
    "As presidents lead their nation, we believe their actions could set an example and influence and encourage certain behaviors. We will investigate if there is a possible correlation between sentiment conveyed by such figures via social media and negative social behavior of a nation.\n",
    "\n",
    "The presidency of Donald Trump has been marked with many controversies, including the rise of supremacist groups and numerous nation wide conflicts. By using Trump tweets, we would explore if there is a significant temporal correlation between sentiment expressed in the Tweet and the number of conflicts in the nation using GDELT dataset. To reduce the bias of such analysis, we would perform the same analysis with social media activity of his predecessor and compare the results, as well as adding the social-economic aspects which may affect such behaviors.\n",
    "\n",
    "What is the power of a presidential tweet? We hope that we will have more insight on the answer of this question and raise awareness on the impact 140 characters can make.\n",
    "\n",
    "### Research questions\n",
    "* Do violent events or crimes occur more frequently after presidential tweets?\n",
    "* Is the correlation higher with negative sentiment of the tweet?\n",
    "* Does a significant difference exists between such correlation with Trump and Obama presidency?\n",
    "* Is there a difference in sentiment expressed in tweets before and after Trump becoming a presidential candidate?\n",
    "* How do social-economical aspects influence the correlation?\n",
    "* Does the political regiment affect such negative behavior on a larger scale?\n",
    "\n",
    "### Dataset\n",
    "\n",
    "#### Trump tweets\n",
    "* Downloading the complete dataset locally and processing the JSON files\n",
    "* We would use mainly the timestamps and tweet content for our analysis:\n",
    "  * timestamps for temporal correlation with events\n",
    "  * tweet content for sentiment analysis\n",
    "* We could follow the impact of tweet by analyzing:\n",
    "  * number of retweets\n",
    "  * number of favorites\n",
    "  * number of followers\n",
    "  \n",
    "#### GDELT\n",
    "* We would use GDELT Global Knowledge graph to gain insights on events:\n",
    "  * geolocalized to USA\n",
    "  * in specified timeframe, starting from 2013\n",
    "  * specific events, such as protests or violent manifestations\n",
    "  * will need knowledge on working on the cluster and accessing the data\n",
    "  \n",
    "#### Wikidata\n",
    "* Obtaining data for social-economical indicators:\n",
    "  * for a specific period of time\n",
    "  * for a specific region of the USA\n",
    "  * data wrangling and processing\n",
    "\n",
    "#### Obama tweets *\n",
    "Available at: http://obamawhitehouse.gov.archivesocial.com/\n",
    "\n",
    "* It would enrich our analysis by providing an insight in differences between the two leaders\n",
    "* We strive for a more complete and less biased analysis\n",
    "\n",
    "---"
   ]
  },
  {
   "cell_type": "markdown",
   "metadata": {},
   "source": [
    "## Evolution of research topic\n",
    "\n",
    "The initial project proposal has evolved through iterations of data exploration, evaluation of project complexity and consultation with the teaching team in ADA.\n",
    "\n",
    "### Main concerns that have been raised\n",
    "* project required many areas of expertise\n",
    "    * from social studies, behavioral studies, to mechanisms of USA economy\n",
    "    * unable to reach the level of expertise on our own\n",
    "    * for this type of project having external scientists would be an overkill\n",
    "* timeframe for this project is limited\n",
    "    * practically impossible to have a meaningful insight in about a month\n",
    "* **signal detection and correlation would be very hard to prove since many underlying factors exist - complexity is high**\n",
    "* GDELT could not provide the necessary granularity for this survey\n",
    "\n",
    "A comment that described our situation and prospect of success:\n",
    "> You will probably need a PhD to be able to come close to a meaningful result.\n",
    "\n",
    "Even though we were passionate about our idea, we have realized we need to reduce the scope and pinpoint specific research questions that are feasible with our current expertise and available time. We are thankful to very insightful comments from professor Bob West who steered us to our current project. The project is reasonable, it is possibly insightful and we hope to squeeze as much information from the dataset as possible.\n",
    "\n",
    "---\n",
    "\n",
    "## Research questions that will be explored:\n",
    "\n",
    "* ### Is there a difference in sentiment expressed in tweets before and after Trump becoming a presidential candidate?\n",
    "    * #### How does the sentiment evolve in Tweets? What are the predominant emotions?\n",
    "* ### What is the structure of popular Tweets? Whom does he mention or tag?\n",
    "* ### Is there a significant trend in Trump reacting to certain topics in news?\n",
    "    * #### What does he tweet about after certain topic in news is published?\n",
    "    * #### Does he try to distract his followers by certain topics (e.g. after topics such as Russia)\n",
    "    \n",
    "## Datasets\n",
    "\n",
    "### Trump tweets\n",
    "\n",
    "A collection of Tweets from the Donald Trump account (RealDonaldTrump). It is an extensive compilation of all the tweets he (or his assistants and social media managers) have posted. We will use this dataset as the base for our research questions and exploration.\n",
    "\n",
    "### Internet archive - Trump TV news factchecks\n",
    "\n",
    "In order to tackle tendencies in Trump's tweets regarding different topics in news, we have utilized the Internet archive Trump TV news factchecks dataset. It is a dataset that features the news concerning Trump and his cabinet, along with date of airing, topics covered and news outlet.\n",
    "\n",
    "\n",
    "## Outline\n",
    "\n",
    "* Data analysis\n",
    "    * Exploratory data analysis\n",
    "    * Data insights\n",
    "    * Exploring both Trump tweets and Trump news\n",
    "* How does Trump react to the events in the news?\n",
    "    * What is in the news when Trump tweets about certain topics?\n",
    "    * What does Trump tweet about when certain topics are in the news?\n",
    "* Are Trump's tweets getting more rude over time?\n"
   ]
  },
  {
   "cell_type": "markdown",
   "metadata": {},
   "source": [
    "# Data analysis\n",
    "\n",
    "---\n",
    "\n",
    "## General overview\n",
    "\n",
    "We will perform an exploratory data analysis to get a deeper insight on the available data and information within. The two datasets we have decided on using are:\n",
    "\n",
    "* Trump Twitter archive: *main dataset*\n",
    "* Internet archive - Trump TV news factchecks: *enrichment dataset*\n",
    "\n",
    "\n",
    "### Trump Twitter archive\n",
    "\n",
    "Trump Twitter archive represents the complete collection of Tweets from the account of Donald Trump, since the first Tweet in 2009. The dataset has been obtained from [Trump Twitter Archive github repository](https://github.com/bpb27/trump_tweet_data_archive).\n",
    "\n",
    "Internally, the dataset has been obtained by combining [Twitter scraper](https://github.com/bpb27/twitter_scraping) and official Twitter API. This combination would allow for scraping Tweets from any user account without a need to use the official premium Twitter API.\n",
    "\n",
    "The result set is compliant with Twitter API output and information on meaning of columns in our dataset can be obtained by looking into [official documentation](https://developer.twitter.com/en/docs/tweets/tweet-updates).\n",
    "\n",
    "More information and explorative data analysis will follow.\n",
    "\n",
    "### Internet archive - Trump TV news factchecks\n",
    "\n",
    "In further research we would like to have an insight how Donald Trump reacts to the news about him. Obtaining a dataset which collected the news about Donald Trump would be difficult because:\n",
    "* Many sources online - which outlets to select\n",
    "* Possible bias while covering significant portion of news\n",
    "* Duplication of news from different sources\n",
    "* Significant difference in time of publishing\n",
    "* There is a need to extract main topics of news\n",
    "* What is the criteria for marking the news are about Donald Trump - he will appear in many news stories!\n",
    "* No universal API or method for this task - scraping of multiple sites would be necessary\n",
    "\n",
    "Luckily, [The Internet Archive](https://archive.org/details/tv?factchecks) has a ready dataset combining televised news clips linked to Donald Trump, from 2009 until today. Most importantly for televised clips - the dates are present, as well as a short list of topics covered. This would make it easier to pinpoint the reaction, if there is any in the Tweets. \n",
    "\n",
    "More information about the dataset will follow in the exploratory data analysis.\n",
    "\n",
    "\n",
    "### Where to process: in cluster or locally?\n",
    "Both **Trump Twitter archive** and **Internet archive - Trump TV news factchecks** are small enough for a local, in-memory processing and analysis. Decisive characteristics of the datasets for a local, in-memory processing are:\n",
    "\n",
    "* Trump Twitter archive:\n",
    "    * multiple JSON files, split by the year of collection\n",
    "    * content of the JSON files is specified by Twitter API\n",
    "    * 9 uncondensed JSON files, in total less than 100MB (92MB)\n",
    "\n",
    "* Internet archive - Trump TV news factchecks\n",
    "    * single CSV file\n",
    "    * less than 1 MB in size\n",
    "    \n",
    "---\n",
    "\n",
    "## Exploratory data analysis\n",
    "\n",
    "We will look in depth into the datasets and show the possible uses of the information, as well as comments on usability of certain parts of our data.\n",
    "\n",
    "Since dataset size allows for working in-memory, we will use standard utilities such as *Pandas* and *Numpy*, as well as standard utilities for graph and chart visualization."
   ]
  },
  {
   "cell_type": "code",
   "execution_count": 109,
   "metadata": {},
   "outputs": [],
   "source": [
    "import pandas as pd\n",
    "import numpy as np\n",
    "\n",
    "%matplotlib inline\n",
    "import matplotlib.pyplot as plt\n",
    "import seaborn as sns\n",
    "import plotly\n",
    "import plotly.plotly as py\n",
    "import plotly.graph_objs as go\n",
    "\n",
    "import folium\n",
    "from geopy.geocoders import Nominatim\n",
    "\n",
    "import time\n",
    "\n",
    "from IPython.display import IFrame\n",
    "from IPython.core.display import display"
   ]
  },
  {
   "cell_type": "code",
   "execution_count": 2,
   "metadata": {},
   "outputs": [],
   "source": [
    "from trump_news import *\n",
    "from trump_react import *"
   ]
  },
  {
   "cell_type": "code",
   "execution_count": 3,
   "metadata": {},
   "outputs": [],
   "source": [
    "TWEETS_PATH = 'C:/Users/Viktor/Desktop/trump_tweet_data_archive-master/trump_tweet_data_archive-master/master_' \n",
    "NEWS_PATH = 'data/factchecks.csv'"
   ]
  },
  {
   "cell_type": "markdown",
   "metadata": {},
   "source": [
    "## Trump Twitter Archive"
   ]
  },
  {
   "cell_type": "markdown",
   "metadata": {},
   "source": [
    "The `TWEETS_PATH` variable should point towards the folder where the archive containing tweets has ben unpacked. That folder will contain subfolder in format `master_YYYY.json`, where `YYYY` is a year when tweets were published. Inside is a JSON file of same name which contains the needed information.\n",
    "\n",
    "The `TWEETS_PATH` thus has a hierarchy in a following manner:\n",
    "* master_2009.json (folder)\n",
    "    * master_2009.json (file)\n",
    "* master_2010.json (folder)\n",
    "    * master_2010.json (file)\n",
    "* master_2011.json (folder)\n",
    "    * master_2011.json (file)\n",
    "* etc...\n",
    "\n",
    "We combine all the present Tweets into a single `DataFrame` for an easier utilization. Since multiple dataframes are concatenated, we need to reset the index to obtain an unique index."
   ]
  },
  {
   "cell_type": "code",
   "execution_count": 5,
   "metadata": {},
   "outputs": [],
   "source": [
    "tweets = pd.DataFrame()\n",
    "\n",
    "for i in range(2009,2018):\n",
    "    tweets = tweets.append(pd.read_json(TWEETS_PATH+str(i)+'.json/master_'+str(i)+'.json'))\n",
    "    \n",
    "tweets.reset_index(inplace=True)"
   ]
  },
  {
   "cell_type": "markdown",
   "metadata": {},
   "source": [
    "As well as observing all the present columns in our `DataFrame`:"
   ]
  },
  {
   "cell_type": "code",
   "execution_count": 6,
   "metadata": {},
   "outputs": [
    {
     "data": {
      "text/plain": [
       "Index(['index', 'contributors', 'coordinates', 'created_at',\n",
       "       'display_text_range', 'entities', 'extended_entities', 'favorite_count',\n",
       "       'favorited', 'full_text', 'geo', 'id', 'id_str',\n",
       "       'in_reply_to_screen_name', 'in_reply_to_status_id',\n",
       "       'in_reply_to_status_id_str', 'in_reply_to_user_id',\n",
       "       'in_reply_to_user_id_str', 'is_quote_status', 'lang', 'place',\n",
       "       'possibly_sensitive', 'quoted_status', 'quoted_status_id',\n",
       "       'quoted_status_id_str', 'retweet_count', 'retweeted',\n",
       "       'retweeted_status', 'scopes', 'source', 'text', 'truncated', 'user',\n",
       "       'withheld_copyright', 'withheld_in_countries', 'withheld_scope'],\n",
       "      dtype='object')"
      ]
     },
     "execution_count": 6,
     "metadata": {},
     "output_type": "execute_result"
    }
   ],
   "source": [
    "tweets.columns"
   ]
  },
  {
   "cell_type": "markdown",
   "metadata": {},
   "source": [
    "Documentation provides more information about the semantics behind each attribute of a [Tweet object](https://developer.twitter.com/en/docs/tweets/data-dictionary/overview/tweet-object).\n",
    "\n",
    "We are mainly interested in following general attributes of Tweets:\n",
    "* **textual content**\n",
    "* **number of retweets**\n",
    "* **number of favorites**\n",
    "\n",
    "Such Tweet context could be obtained from the fields:\n",
    "* `text` - Tweet content\n",
    "* `created_at` - timestamp of the tweet\n",
    "* `entities` - *dictionary*, [entities](https://developer.twitter.com/en/docs/tweets/data-dictionary/overview/entities-object) parsed out of the tweet:\n",
    "    * `hashtags` - list of included hashtags\n",
    "    * `symbols` - list of symbols\n",
    "    * `urls` - list of urls\n",
    "    * `user_mentions` - list of mentioned users\n",
    "* `favorite_count` - number of favorites\n",
    "* `id` - Tweet id\n",
    "* `is_quote_status` - indicates whether this is a quoted tweet - indicates that this is not a direct expression of the user\n",
    "* `lang` - language of the tweet (could help in the NLP)\n",
    "* `retweet_count` - number of retweets\n",
    "* `source` - utility used to post the Tweet\n",
    "* `user` - *dictionary*, information about the [user](https://developer.twitter.com/en/docs/tweets/data-dictionary/overview/user-object), we are interested in:\n",
    "    * `followers count` - number of followers at the Tweet `created_at` time\n",
    "    * `statuses_count` - number of tweets at the Tweet `created_at` time\n",
    "\n",
    "---\n",
    "\n",
    "**Sample Tweet:**"
   ]
  },
  {
   "cell_type": "code",
   "execution_count": 7,
   "metadata": {},
   "outputs": [
    {
     "data": {
      "text/html": [
       "<div>\n",
       "<style>\n",
       "    .dataframe thead tr:only-child th {\n",
       "        text-align: right;\n",
       "    }\n",
       "\n",
       "    .dataframe thead th {\n",
       "        text-align: left;\n",
       "    }\n",
       "\n",
       "    .dataframe tbody tr th {\n",
       "        vertical-align: top;\n",
       "    }\n",
       "</style>\n",
       "<table border=\"1\" class=\"dataframe\">\n",
       "  <thead>\n",
       "    <tr style=\"text-align: right;\">\n",
       "      <th></th>\n",
       "      <th>index</th>\n",
       "      <th>contributors</th>\n",
       "      <th>coordinates</th>\n",
       "      <th>created_at</th>\n",
       "      <th>display_text_range</th>\n",
       "      <th>entities</th>\n",
       "      <th>extended_entities</th>\n",
       "      <th>favorite_count</th>\n",
       "      <th>favorited</th>\n",
       "      <th>full_text</th>\n",
       "      <th>...</th>\n",
       "      <th>retweeted</th>\n",
       "      <th>retweeted_status</th>\n",
       "      <th>scopes</th>\n",
       "      <th>source</th>\n",
       "      <th>text</th>\n",
       "      <th>truncated</th>\n",
       "      <th>user</th>\n",
       "      <th>withheld_copyright</th>\n",
       "      <th>withheld_in_countries</th>\n",
       "      <th>withheld_scope</th>\n",
       "    </tr>\n",
       "  </thead>\n",
       "  <tbody>\n",
       "    <tr>\n",
       "      <th>0</th>\n",
       "      <td>0</td>\n",
       "      <td>NaN</td>\n",
       "      <td>NaN</td>\n",
       "      <td>2009-12-23 17:38:18</td>\n",
       "      <td>NaN</td>\n",
       "      <td>{'symbols': [], 'user_mentions': [], 'hashtags...</td>\n",
       "      <td>NaN</td>\n",
       "      <td>12</td>\n",
       "      <td>False</td>\n",
       "      <td>NaN</td>\n",
       "      <td>...</td>\n",
       "      <td>False</td>\n",
       "      <td>NaN</td>\n",
       "      <td>NaN</td>\n",
       "      <td>&lt;a href=\"http://twitter.com\" rel=\"nofollow\"&gt;Tw...</td>\n",
       "      <td>From Donald Trump: Wishing everyone a wonderfu...</td>\n",
       "      <td>False</td>\n",
       "      <td>{'follow_request_sent': False, 'has_extended_p...</td>\n",
       "      <td>NaN</td>\n",
       "      <td>NaN</td>\n",
       "      <td>NaN</td>\n",
       "    </tr>\n",
       "    <tr>\n",
       "      <th>1</th>\n",
       "      <td>1</td>\n",
       "      <td>NaN</td>\n",
       "      <td>NaN</td>\n",
       "      <td>2009-12-03 19:39:09</td>\n",
       "      <td>NaN</td>\n",
       "      <td>{'symbols': [], 'user_mentions': [], 'hashtags...</td>\n",
       "      <td>NaN</td>\n",
       "      <td>6</td>\n",
       "      <td>False</td>\n",
       "      <td>NaN</td>\n",
       "      <td>...</td>\n",
       "      <td>False</td>\n",
       "      <td>NaN</td>\n",
       "      <td>NaN</td>\n",
       "      <td>&lt;a href=\"http://twitter.com\" rel=\"nofollow\"&gt;Tw...</td>\n",
       "      <td>Trump International Tower in Chicago ranked 6t...</td>\n",
       "      <td>False</td>\n",
       "      <td>{'follow_request_sent': False, 'has_extended_p...</td>\n",
       "      <td>NaN</td>\n",
       "      <td>NaN</td>\n",
       "      <td>NaN</td>\n",
       "    </tr>\n",
       "  </tbody>\n",
       "</table>\n",
       "<p>2 rows × 36 columns</p>\n",
       "</div>"
      ],
      "text/plain": [
       "   index  contributors coordinates          created_at display_text_range  \\\n",
       "0      0           NaN         NaN 2009-12-23 17:38:18                NaN   \n",
       "1      1           NaN         NaN 2009-12-03 19:39:09                NaN   \n",
       "\n",
       "                                            entities extended_entities  \\\n",
       "0  {'symbols': [], 'user_mentions': [], 'hashtags...               NaN   \n",
       "1  {'symbols': [], 'user_mentions': [], 'hashtags...               NaN   \n",
       "\n",
       "   favorite_count  favorited full_text      ...       retweeted  \\\n",
       "0              12      False       NaN      ...           False   \n",
       "1               6      False       NaN      ...           False   \n",
       "\n",
       "   retweeted_status  scopes  \\\n",
       "0               NaN     NaN   \n",
       "1               NaN     NaN   \n",
       "\n",
       "                                              source  \\\n",
       "0  <a href=\"http://twitter.com\" rel=\"nofollow\">Tw...   \n",
       "1  <a href=\"http://twitter.com\" rel=\"nofollow\">Tw...   \n",
       "\n",
       "                                                text  truncated  \\\n",
       "0  From Donald Trump: Wishing everyone a wonderfu...      False   \n",
       "1  Trump International Tower in Chicago ranked 6t...      False   \n",
       "\n",
       "                                                user  withheld_copyright  \\\n",
       "0  {'follow_request_sent': False, 'has_extended_p...                 NaN   \n",
       "1  {'follow_request_sent': False, 'has_extended_p...                 NaN   \n",
       "\n",
       "   withheld_in_countries withheld_scope  \n",
       "0                    NaN            NaN  \n",
       "1                    NaN            NaN  \n",
       "\n",
       "[2 rows x 36 columns]"
      ]
     },
     "execution_count": 7,
     "metadata": {},
     "output_type": "execute_result"
    }
   ],
   "source": [
    "tweets.head(2)"
   ]
  },
  {
   "cell_type": "markdown",
   "metadata": {},
   "source": [
    "**Sample `entities` dictionary**:"
   ]
  },
  {
   "cell_type": "code",
   "execution_count": 8,
   "metadata": {},
   "outputs": [
    {
     "data": {
      "text/plain": [
       "{'hashtags': [], 'symbols': [], 'urls': [], 'user_mentions': []}"
      ]
     },
     "execution_count": 8,
     "metadata": {},
     "output_type": "execute_result"
    }
   ],
   "source": [
    "tweets.loc[0].entities"
   ]
  },
  {
   "cell_type": "markdown",
   "metadata": {},
   "source": [
    "**Sample `user` dictionary:**"
   ]
  },
  {
   "cell_type": "code",
   "execution_count": 9,
   "metadata": {},
   "outputs": [
    {
     "data": {
      "text/plain": [
       "{'contributors_enabled': False,\n",
       " 'created_at': 'Wed Mar 18 13:46:38 +0000 2009',\n",
       " 'default_profile': False,\n",
       " 'default_profile_image': False,\n",
       " 'description': 'President-elect of the United States',\n",
       " 'entities': {'description': {'urls': []},\n",
       "  'url': {'urls': [{'display_url': 'DonaldJTrump.com',\n",
       "     'expanded_url': 'http://www.DonaldJTrump.com',\n",
       "     'indices': [0, 23],\n",
       "     'url': 'https://t.co/mZB2hymxC9'}]}},\n",
       " 'favourites_count': 45,\n",
       " 'follow_request_sent': False,\n",
       " 'followers_count': 15665560,\n",
       " 'following': True,\n",
       " 'friends_count': 41,\n",
       " 'geo_enabled': True,\n",
       " 'has_extended_profile': False,\n",
       " 'id': 25073877,\n",
       " 'id_str': '25073877',\n",
       " 'is_translation_enabled': True,\n",
       " 'is_translator': False,\n",
       " 'lang': 'en',\n",
       " 'listed_count': 45212,\n",
       " 'location': 'New York, NY',\n",
       " 'name': 'Donald J. Trump',\n",
       " 'notifications': True,\n",
       " 'profile_background_color': '6D5C18',\n",
       " 'profile_background_image_url': 'http://pbs.twimg.com/profile_background_images/530021613/trump_scotland__43_of_70_cc.jpg',\n",
       " 'profile_background_image_url_https': 'https://pbs.twimg.com/profile_background_images/530021613/trump_scotland__43_of_70_cc.jpg',\n",
       " 'profile_background_tile': True,\n",
       " 'profile_banner_url': 'https://pbs.twimg.com/profile_banners/25073877/1479267159',\n",
       " 'profile_image_url': 'http://pbs.twimg.com/profile_images/1980294624/DJT_Headshot_V2_normal.jpg',\n",
       " 'profile_image_url_https': 'https://pbs.twimg.com/profile_images/1980294624/DJT_Headshot_V2_normal.jpg',\n",
       " 'profile_link_color': '0D5B73',\n",
       " 'profile_sidebar_border_color': 'BDDCAD',\n",
       " 'profile_sidebar_fill_color': 'C5CEC0',\n",
       " 'profile_text_color': '333333',\n",
       " 'profile_use_background_image': True,\n",
       " 'protected': False,\n",
       " 'screen_name': 'realDonaldTrump',\n",
       " 'statuses_count': 34010,\n",
       " 'time_zone': 'Eastern Time (US & Canada)',\n",
       " 'translator_type': 'none',\n",
       " 'url': 'https://t.co/mZB2hymxC9',\n",
       " 'utc_offset': -18000,\n",
       " 'verified': True}"
      ]
     },
     "execution_count": 9,
     "metadata": {},
     "output_type": "execute_result"
    }
   ],
   "source": [
    "tweets.loc[0].user"
   ]
  },
  {
   "cell_type": "markdown",
   "metadata": {},
   "source": [
    "We see many fields generated by the API, but as we have previously mentioned, we will use only a subset of such features for our analysis.\n",
    "\n",
    "---\n",
    "\n",
    "#### General characteristics of the dataset"
   ]
  },
  {
   "cell_type": "code",
   "execution_count": 10,
   "metadata": {},
   "outputs": [
    {
     "name": "stdout",
     "output_type": "stream",
     "text": [
      "Number of Tweets:  32532\n",
      "Account created on:  Wed Mar 18 13:46:38 +0000 2009\n",
      "User time zone: Eastern Time (US & Canada)\n",
      "Latest tweet time: 2017-11-24 18:49:12\n"
     ]
    }
   ],
   "source": [
    "print('Number of Tweets: ', tweets.shape[0])\n",
    "print('Account created on: ', tweets.loc[0].user['created_at'])\n",
    "print('User time zone:', tweets.loc[0].user['time_zone'])\n",
    "print('Latest tweet time:', tweets.created_at.max())"
   ]
  },
  {
   "cell_type": "code",
   "execution_count": 11,
   "metadata": {},
   "outputs": [
    {
     "data": {
      "text/html": [
       "<div>\n",
       "<style>\n",
       "    .dataframe thead tr:only-child th {\n",
       "        text-align: right;\n",
       "    }\n",
       "\n",
       "    .dataframe thead th {\n",
       "        text-align: left;\n",
       "    }\n",
       "\n",
       "    .dataframe tbody tr th {\n",
       "        vertical-align: top;\n",
       "    }\n",
       "</style>\n",
       "<table border=\"1\" class=\"dataframe\">\n",
       "  <thead>\n",
       "    <tr style=\"text-align: right;\">\n",
       "      <th></th>\n",
       "      <th>index</th>\n",
       "      <th>contributors</th>\n",
       "      <th>favorite_count</th>\n",
       "      <th>id</th>\n",
       "      <th>id_str</th>\n",
       "      <th>in_reply_to_status_id</th>\n",
       "      <th>in_reply_to_status_id_str</th>\n",
       "      <th>in_reply_to_user_id</th>\n",
       "      <th>in_reply_to_user_id_str</th>\n",
       "      <th>possibly_sensitive</th>\n",
       "      <th>quoted_status_id</th>\n",
       "      <th>quoted_status_id_str</th>\n",
       "      <th>retweet_count</th>\n",
       "      <th>withheld_copyright</th>\n",
       "    </tr>\n",
       "  </thead>\n",
       "  <tbody>\n",
       "    <tr>\n",
       "      <th>count</th>\n",
       "      <td>32532.000000</td>\n",
       "      <td>0.0</td>\n",
       "      <td>32532.000000</td>\n",
       "      <td>3.253200e+04</td>\n",
       "      <td>3.253200e+04</td>\n",
       "      <td>1.999000e+03</td>\n",
       "      <td>1.999000e+03</td>\n",
       "      <td>2.440000e+03</td>\n",
       "      <td>2.440000e+03</td>\n",
       "      <td>7489.0</td>\n",
       "      <td>2.860000e+02</td>\n",
       "      <td>2.860000e+02</td>\n",
       "      <td>32532.000000</td>\n",
       "      <td>1.0</td>\n",
       "    </tr>\n",
       "    <tr>\n",
       "      <th>mean</th>\n",
       "      <td>2965.614134</td>\n",
       "      <td>NaN</td>\n",
       "      <td>8414.287809</td>\n",
       "      <td>5.031478e+17</td>\n",
       "      <td>5.031478e+17</td>\n",
       "      <td>3.347165e+17</td>\n",
       "      <td>3.347165e+17</td>\n",
       "      <td>3.516381e+08</td>\n",
       "      <td>3.516381e+08</td>\n",
       "      <td>0.0</td>\n",
       "      <td>7.254326e+17</td>\n",
       "      <td>7.254326e+17</td>\n",
       "      <td>2572.550012</td>\n",
       "      <td>1.0</td>\n",
       "    </tr>\n",
       "    <tr>\n",
       "      <th>std</th>\n",
       "      <td>2112.973211</td>\n",
       "      <td>NaN</td>\n",
       "      <td>25144.002721</td>\n",
       "      <td>2.027952e+17</td>\n",
       "      <td>2.027952e+17</td>\n",
       "      <td>9.525507e+16</td>\n",
       "      <td>9.525507e+16</td>\n",
       "      <td>4.004455e+08</td>\n",
       "      <td>4.004455e+08</td>\n",
       "      <td>0.0</td>\n",
       "      <td>1.097156e+17</td>\n",
       "      <td>1.097156e+17</td>\n",
       "      <td>7422.315792</td>\n",
       "      <td>NaN</td>\n",
       "    </tr>\n",
       "    <tr>\n",
       "      <th>min</th>\n",
       "      <td>0.000000</td>\n",
       "      <td>NaN</td>\n",
       "      <td>0.000000</td>\n",
       "      <td>1.698309e+09</td>\n",
       "      <td>1.698309e+09</td>\n",
       "      <td>1.672774e+17</td>\n",
       "      <td>1.672774e+17</td>\n",
       "      <td>7.425000e+03</td>\n",
       "      <td>7.425000e+03</td>\n",
       "      <td>0.0</td>\n",
       "      <td>5.427798e+17</td>\n",
       "      <td>5.427798e+17</td>\n",
       "      <td>0.000000</td>\n",
       "      <td>1.0</td>\n",
       "    </tr>\n",
       "    <tr>\n",
       "      <th>25%</th>\n",
       "      <td>1193.000000</td>\n",
       "      <td>NaN</td>\n",
       "      <td>20.000000</td>\n",
       "      <td>3.350412e+17</td>\n",
       "      <td>3.350412e+17</td>\n",
       "      <td>2.937718e+17</td>\n",
       "      <td>2.937718e+17</td>\n",
       "      <td>4.251961e+07</td>\n",
       "      <td>4.251961e+07</td>\n",
       "      <td>0.0</td>\n",
       "      <td>6.293375e+17</td>\n",
       "      <td>6.293375e+17</td>\n",
       "      <td>16.000000</td>\n",
       "      <td>1.0</td>\n",
       "    </tr>\n",
       "    <tr>\n",
       "      <th>50%</th>\n",
       "      <td>2590.000000</td>\n",
       "      <td>NaN</td>\n",
       "      <td>68.000000</td>\n",
       "      <td>5.097998e+17</td>\n",
       "      <td>5.097998e+17</td>\n",
       "      <td>3.138054e+17</td>\n",
       "      <td>3.138054e+17</td>\n",
       "      <td>2.392729e+08</td>\n",
       "      <td>2.392729e+08</td>\n",
       "      <td>0.0</td>\n",
       "      <td>6.973068e+17</td>\n",
       "      <td>6.973068e+17</td>\n",
       "      <td>107.000000</td>\n",
       "      <td>1.0</td>\n",
       "    </tr>\n",
       "    <tr>\n",
       "      <th>75%</th>\n",
       "      <td>4443.000000</td>\n",
       "      <td>NaN</td>\n",
       "      <td>1910.000000</td>\n",
       "      <td>6.551359e+17</td>\n",
       "      <td>6.551359e+17</td>\n",
       "      <td>3.543118e+17</td>\n",
       "      <td>3.543118e+17</td>\n",
       "      <td>4.852951e+08</td>\n",
       "      <td>4.852951e+08</td>\n",
       "      <td>0.0</td>\n",
       "      <td>7.888950e+17</td>\n",
       "      <td>7.888950e+17</td>\n",
       "      <td>1151.250000</td>\n",
       "      <td>1.0</td>\n",
       "    </tr>\n",
       "    <tr>\n",
       "      <th>max</th>\n",
       "      <td>8143.000000</td>\n",
       "      <td>NaN</td>\n",
       "      <td>633253.000000</td>\n",
       "      <td>9.341318e+17</td>\n",
       "      <td>9.341318e+17</td>\n",
       "      <td>9.336626e+17</td>\n",
       "      <td>9.336626e+17</td>\n",
       "      <td>3.412873e+09</td>\n",
       "      <td>3.412873e+09</td>\n",
       "      <td>0.0</td>\n",
       "      <td>9.339594e+17</td>\n",
       "      <td>9.339594e+17</td>\n",
       "      <td>369530.000000</td>\n",
       "      <td>1.0</td>\n",
       "    </tr>\n",
       "  </tbody>\n",
       "</table>\n",
       "</div>"
      ],
      "text/plain": [
       "              index  contributors  favorite_count            id        id_str  \\\n",
       "count  32532.000000           0.0    32532.000000  3.253200e+04  3.253200e+04   \n",
       "mean    2965.614134           NaN     8414.287809  5.031478e+17  5.031478e+17   \n",
       "std     2112.973211           NaN    25144.002721  2.027952e+17  2.027952e+17   \n",
       "min        0.000000           NaN        0.000000  1.698309e+09  1.698309e+09   \n",
       "25%     1193.000000           NaN       20.000000  3.350412e+17  3.350412e+17   \n",
       "50%     2590.000000           NaN       68.000000  5.097998e+17  5.097998e+17   \n",
       "75%     4443.000000           NaN     1910.000000  6.551359e+17  6.551359e+17   \n",
       "max     8143.000000           NaN   633253.000000  9.341318e+17  9.341318e+17   \n",
       "\n",
       "       in_reply_to_status_id  in_reply_to_status_id_str  in_reply_to_user_id  \\\n",
       "count           1.999000e+03               1.999000e+03         2.440000e+03   \n",
       "mean            3.347165e+17               3.347165e+17         3.516381e+08   \n",
       "std             9.525507e+16               9.525507e+16         4.004455e+08   \n",
       "min             1.672774e+17               1.672774e+17         7.425000e+03   \n",
       "25%             2.937718e+17               2.937718e+17         4.251961e+07   \n",
       "50%             3.138054e+17               3.138054e+17         2.392729e+08   \n",
       "75%             3.543118e+17               3.543118e+17         4.852951e+08   \n",
       "max             9.336626e+17               9.336626e+17         3.412873e+09   \n",
       "\n",
       "       in_reply_to_user_id_str  possibly_sensitive  quoted_status_id  \\\n",
       "count             2.440000e+03              7489.0      2.860000e+02   \n",
       "mean              3.516381e+08                 0.0      7.254326e+17   \n",
       "std               4.004455e+08                 0.0      1.097156e+17   \n",
       "min               7.425000e+03                 0.0      5.427798e+17   \n",
       "25%               4.251961e+07                 0.0      6.293375e+17   \n",
       "50%               2.392729e+08                 0.0      6.973068e+17   \n",
       "75%               4.852951e+08                 0.0      7.888950e+17   \n",
       "max               3.412873e+09                 0.0      9.339594e+17   \n",
       "\n",
       "       quoted_status_id_str  retweet_count  withheld_copyright  \n",
       "count          2.860000e+02   32532.000000                 1.0  \n",
       "mean           7.254326e+17    2572.550012                 1.0  \n",
       "std            1.097156e+17    7422.315792                 NaN  \n",
       "min            5.427798e+17       0.000000                 1.0  \n",
       "25%            6.293375e+17      16.000000                 1.0  \n",
       "50%            6.973068e+17     107.000000                 1.0  \n",
       "75%            7.888950e+17    1151.250000                 1.0  \n",
       "max            9.339594e+17  369530.000000                 1.0  "
      ]
     },
     "execution_count": 11,
     "metadata": {},
     "output_type": "execute_result"
    }
   ],
   "source": [
    "tweets.describe()"
   ]
  },
  {
   "cell_type": "markdown",
   "metadata": {},
   "source": [
    "Donald Trump has had his Twitter account created on 18th of March, 2009. Since then he has Tweeted over 32532 times. We have taken a snippet of the dataset on 24th of November 2017 to work with locally. Latest tweet is posted on 18:49:12 that day, in Eastern time zone.\n",
    "\n",
    "The dataset is being updated hourly with new tweets. After obtaining a stable tool for analysis and insight, it would be possible to perform an hourly update. Albeit, such miniscule changes in comparison to the total body of tweets would be insignificant for some analysis. \n",
    "\n",
    "As seen in the `DataFrame` description, across all the Tweets we can observe their overall coarse popularity:\n",
    "* favorites: \n",
    "    * maximum: 633253\n",
    "    * mean: 8414\n",
    "    * median: 68\n",
    "* retweets:\n",
    "    * maximum: 369530 \n",
    "    * mean: 2572\n",
    "    * median: 107\n",
    "    \n",
    "We will look into greater detail about Tweet distribution over the years, their characteristics and stats in later phases of dedicated data analysis.\n",
    "\n",
    "#### Geolocation - is there a value in it?\n",
    "\n",
    "Twitter API provides geographical coordinates of the tweet, provided the user has enabled such an option. This could provide some insight on activities of any person using Twitter. In this case it could provide an option to see whether the tone of the Tweets and general topics differ when Donald Trump is in different locations: foreign countries, Oval office or resting at Mar-a-Lago.\n",
    "\n",
    "As presumed, only certain number of Tweet is geotagged. This makes sense - since otherwise Secret Service might have a more difficult job in certain situations. Albeit, we can get a small glimpse of locations Donald Trump has visited, as we will demonstrate in a short example:"
   ]
  },
  {
   "cell_type": "code",
   "execution_count": 12,
   "metadata": {},
   "outputs": [
    {
     "data": {
      "text/plain": [
       "(2299,)"
      ]
     },
     "execution_count": 12,
     "metadata": {},
     "output_type": "execute_result"
    }
   ],
   "source": [
    "# we extract the tweets for which the geolocation is defined\n",
    "coord = tweets.loc[tweets.coordinates.notnull()]['coordinates']\n",
    "coord.shape"
   ]
  },
  {
   "cell_type": "markdown",
   "metadata": {},
   "source": [
    "We will use `Folium` to show a map and place markers on locations Donald Trump has tweeted from."
   ]
  },
  {
   "cell_type": "code",
   "execution_count": 13,
   "metadata": {},
   "outputs": [],
   "source": [
    "m = folium.Map(location=[40.7624658, -73.9754123], zoom_start=2)"
   ]
  },
  {
   "cell_type": "markdown",
   "metadata": {},
   "source": [
    "Since there are too many Tweets (2299) to visualize on a map, we presume that some have similar coordinates - we only want a general location. Thus we define functions to generalize the location and reduce the size of a list by merging similar coordinates together:"
   ]
  },
  {
   "cell_type": "code",
   "execution_count": 14,
   "metadata": {},
   "outputs": [],
   "source": [
    "def my_reverse(my_list):\n",
    "    '''\n",
    "    Convenience function wrapper for reversing a list.\n",
    "\n",
    "    Parameters: \n",
    "    my_list -- input list to reverse\n",
    "\n",
    "    Returns:\n",
    "    my_list -- list with reversed elements\n",
    "    '''\n",
    "    my_list.reverse()\n",
    "    return my_list\n",
    "\n",
    "def not_in_list(my_list, check):\n",
    "    '''\n",
    "    Function for verifying whether a sublist exists in a list of lists.\n",
    "\n",
    "    Parameters:\n",
    "    my_list -- list of lists\n",
    "    check -- list, input for which to check existence in my_list\n",
    "\n",
    "    Returns:\n",
    "    boolean -- True if sublist does not exist in the list, False otherwise\n",
    "    '''\n",
    "    for lst in my_list:\n",
    "        if(np.array_equal(check, lst)):\n",
    "            return False\n",
    "    return True\n",
    "\n",
    "def remove_similar_coord(coord_list, decimal):\n",
    "    '''\n",
    "    Function for removing similar coordinates from the coordinates iterable object. \n",
    "    The similarity is defined by decimal precision - the higher the decimal it is more precise and less entries would be removed.\n",
    "\n",
    "    Parameters:\n",
    "    coord_list -- iterable object containing coordinates (pandas.Series object)\n",
    "    decimal -- the rounding precision to be applied\n",
    "\n",
    "    Returns:\n",
    "    np.array -- array with removed similar coordinates\n",
    "    '''\n",
    "    cleaned = [[0.53242,  0.43315]]\n",
    "    \n",
    "    for el in coord_list:\n",
    "        rounded = np.around(el['coordinates'],decimal)\n",
    "        if (not_in_list(cleaned, rounded)):\n",
    "            cleaned.append(rounded)\n",
    "    \n",
    "    return np.array(cleaned)"
   ]
  },
  {
   "cell_type": "code",
   "execution_count": 15,
   "metadata": {},
   "outputs": [
    {
     "data": {
      "text/plain": [
       "(78, 2)"
      ]
     },
     "execution_count": 15,
     "metadata": {},
     "output_type": "execute_result"
    }
   ],
   "source": [
    "cleaned = remove_similar_coord(coord, 2)\n",
    "cleaned.shape"
   ]
  },
  {
   "cell_type": "markdown",
   "metadata": {},
   "source": [
    "In comparison to 2299 markers, 78 markers would be more reasonable to plot on map. Only thing we did was generalizing Tweets that were posted from nearby locations. We will add the markers to the map, note that we need to reverse the coordinates provided in Twitter API (reverse the position of lattitude and longitude) to show the right location."
   ]
  },
  {
   "cell_type": "code",
   "execution_count": 16,
   "metadata": {
    "scrolled": true
   },
   "outputs": [
    {
     "data": {
      "text/html": [
       "<div style=\"width:100%;\"><div style=\"position:relative;width:100%;height:0;padding-bottom:60%;\"><iframe src=\"data:text/html;charset=utf-8;base64,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\" style=\"position:absolute;width:100%;height:100%;left:0;top:0;border:none !important;\" allowfullscreen webkitallowfullscreen mozallowfullscreen></iframe></div></div>"
      ],
      "text/plain": [
       "<folium.folium.Map at 0x22e87da73c8>"
      ]
     },
     "execution_count": 16,
     "metadata": {},
     "output_type": "execute_result"
    }
   ],
   "source": [
    "for el in cleaned:\n",
    "    folium.Marker(location=np.flip(el, axis=0)).add_to(m)\n",
    "    \n",
    "m"
   ]
  },
  {
   "cell_type": "markdown",
   "metadata": {},
   "source": [
    "Besides visualization, we can't reason much in terms of automated analysis from the map. One option would be to extract the location details from the coordinates, and then extract the required infomation (e.g. country name). This is possible by utilizing [`geopy` package](https://pypi.python.org/pypi/geopy), more specifically [`Nominatim`](http://wiki.openstreetmap.org/wiki/Nominatim), which represents a Python wrapper of the Nominatium API. We will showcase the example of extracting the country names from the previously visualized markers."
   ]
  },
  {
   "cell_type": "code",
   "execution_count": 17,
   "metadata": {},
   "outputs": [],
   "source": [
    "# we initialize the object - wrapper around Nominatim API\n",
    "geolocator = Nominatim()"
   ]
  },
  {
   "cell_type": "markdown",
   "metadata": {},
   "source": [
    "A short example on how to obtain the Location object and address:"
   ]
  },
  {
   "cell_type": "code",
   "execution_count": 18,
   "metadata": {},
   "outputs": [
    {
     "data": {
      "text/plain": [
       "'712 Fifth Avenue, 712, 5th Avenue, Diamond District, Manhattan Community Board 5, New York County, NYC, New York, 10019, United States of America'"
      ]
     },
     "execution_count": 18,
     "metadata": {},
     "output_type": "execute_result"
    }
   ],
   "source": [
    "# location is obtained by using the reverse method, and providing the coordinates\n",
    "l = geolocator.reverse([40.7625069, -73.975321])\n",
    "\n",
    "# address represents a field of the Location object, we see the country is last element separated by comma\n",
    "l.address"
   ]
  },
  {
   "cell_type": "code",
   "execution_count": 19,
   "metadata": {},
   "outputs": [
    {
     "data": {
      "text/plain": [
       "(78, 2)"
      ]
     },
     "execution_count": 19,
     "metadata": {},
     "output_type": "execute_result"
    }
   ],
   "source": [
    "cleaned.shape"
   ]
  },
  {
   "cell_type": "code",
   "execution_count": 20,
   "metadata": {},
   "outputs": [],
   "source": [
    "countries_tweeted_from = []\n",
    "\n",
    "for crd in cleaned:\n",
    "    # some coordinates seem to be spoofed and are less than 1\n",
    "    if(crd[0]>1 or crd[1]>1):\n",
    "        # we flip the coordinate array and convert it to Python list\n",
    "        coord_list = np.flip(crd, axis=0).tolist()\n",
    "        \n",
    "        # we get the Location object from coordinates\n",
    "        location = geolocator.reverse(coord_list)\n",
    "        \n",
    "        # we split the address by comma character\n",
    "        address = location.address.split(',')\n",
    "        \n",
    "        # the country represents the last element in the address list\n",
    "        country = address[len(address)-1]\n",
    "        \n",
    "        # we append the extracted country to the list\n",
    "        countries_tweeted_from.append(country)"
   ]
  },
  {
   "cell_type": "markdown",
   "metadata": {},
   "source": [
    "We can now see the countries Donald Trump has Tweeted from:"
   ]
  },
  {
   "cell_type": "code",
   "execution_count": 21,
   "metadata": {},
   "outputs": [
    {
     "data": {
      "text/plain": [
       "{' Hrvatska', ' India', ' Ireland', ' UK', ' United States of America', ' РФ'}"
      ]
     },
     "execution_count": 21,
     "metadata": {},
     "output_type": "execute_result"
    }
   ],
   "source": [
    "set(countries_tweeted_from)"
   ]
  },
  {
   "cell_type": "markdown",
   "metadata": {},
   "source": [
    "**Note:** for the current scope of our analysis and general project, this does not represent much value. It is here to showcase the possibility in certain use-cases for use with geo-spatial data (either encoded as coordinates, or address).\n",
    "\n",
    "---"
   ]
  },
  {
   "cell_type": "markdown",
   "metadata": {},
   "source": [
    "#### Number of followers over time \n",
    "\n",
    "We want to see what the data could provide us about the number of followers over time."
   ]
  },
  {
   "cell_type": "code",
   "execution_count": 368,
   "metadata": {},
   "outputs": [],
   "source": [
    "def plot_followers(tweets):\n",
    "    '''\n",
    "    Helper function to wrap plotting of Twitter follower data.\n",
    "    '''\n",
    "    x = []\n",
    "    y = []\n",
    "    \n",
    "    tmp = tweets.sort_values(by='created_at', ascending=True)\n",
    "    \n",
    "    # iterate through tweets and fetch date of creation and current number of followers\n",
    "    for ind, row in tmp.iterrows():\n",
    "        x.append(row['created_at'])\n",
    "        y.append(row.user['followers_count'])\n",
    "        \n",
    "    data = [go.Scatter(\n",
    "            x=x,\n",
    "            y=y\n",
    "    )]\n",
    "    \n",
    "    layout = go.Layout(\n",
    "        title = 'Overall number of followers',\n",
    "        yaxis = {'title': 'Count'},\n",
    "        xaxis = {'title': 'Date'},\n",
    "    )\n",
    "    \n",
    "    fig = go.Figure(data=data, layout=layout)\n",
    "    plotly.offline.plot(fig, filename='html/overall_followers.html')\n",
    "    display(IFrame('html/overall_followers.html', \"100%\", \"500px\"))\n",
    "    #plt.figure(figsize=(15,15))\n",
    "    #plt.plot(x,y)\n",
    "    #plt.title(\"Overall number of followers\")\n",
    "    #plt.xlabel(\"Date\")\n",
    "    #plt.ylabel(\"Number of followers\")"
   ]
  },
  {
   "cell_type": "code",
   "execution_count": 369,
   "metadata": {},
   "outputs": [
    {
     "data": {
      "text/html": [
       "\n",
       "        <iframe\n",
       "            width=\"100%\"\n",
       "            height=\"500px\"\n",
       "            src=\"html/overall_followers.html\"\n",
       "            frameborder=\"0\"\n",
       "            allowfullscreen\n",
       "        ></iframe>\n",
       "        "
      ],
      "text/plain": [
       "<IPython.lib.display.IFrame at 0x22ea32446d8>"
      ]
     },
     "metadata": {},
     "output_type": "display_data"
    }
   ],
   "source": [
    "plot_followers(tweets)"
   ]
  },
  {
   "cell_type": "markdown",
   "metadata": {},
   "source": [
    "We can notice many discrepancies in the provided data. One reason might be that the API used for data collection might have changed, and without using an official Twitter API - the data may be flawed. This would explain the very volatile behavior of the datapoints, as well as long stagnation prior to mid-2016.\n",
    "\n",
    "The baseline can be seen [here](https://www.trackalytics.com/twitter/followers/widget/realdonaldtrump/). General outline of data from 2017 could correspond to the real data, but with many flaws it is not advised to use the number of followers as a raw number provided in the **Trump Twitter Archive**.\n",
    "\n",
    "We will show a glimpse of number of followers in data from mid-2016 until today:"
   ]
  },
  {
   "cell_type": "code",
   "execution_count": 370,
   "metadata": {},
   "outputs": [],
   "source": [
    "def plot_followers_from(tweets, from_date):\n",
    "    '''\n",
    "    Helper function that wraps the plotting of followers from twitter data, from the specified date.\n",
    "    \n",
    "    Parameters:\n",
    "    tweets -- trump twitter dataframe\n",
    "    from_date -- string or pandas timestamp\n",
    "    '''\n",
    "    x = []\n",
    "    y = []\n",
    "\n",
    "    tmp = tweets.loc[tweets.created_at>pd.Timestamp(from_date)]\n",
    "    tmp.sort_values(by='created_at', ascending=True, inplace=True)\n",
    "    \n",
    "    # iterate through tweets and fetch date of creation and current number of followers\n",
    "    for ind, row in tmp.iterrows():\n",
    "        x.append(row['created_at'])\n",
    "        y.append(row.user['followers_count'])\n",
    "        \n",
    "    data = [go.Scatter(\n",
    "            x=x,\n",
    "            y=y\n",
    "    )]\n",
    "    \n",
    "    layout = go.Layout(\n",
    "        title = 'Followers from '+from_date,\n",
    "        yaxis = {'title': 'Count'},\n",
    "        xaxis = {'title': 'Date'},\n",
    "    )\n",
    "    \n",
    "    fig = go.Figure(data=data, layout=layout)\n",
    "    plotly.offline.plot(fig, filename='html/followers_from_'+from_date+'.html')\n",
    "    display(IFrame('html/followers_from_'+from_date+'.html', \"100%\", \"500px\"))\n",
    "    #plt.figure(figsize=(15,15))\n",
    "    #plt.plot(x,y)\n",
    "    #plt.title(\"Followers from \"+from_date)\n",
    "    #plt.xlabel(\"Date\")\n",
    "    #plt.ylabel(\"Number of followers\")"
   ]
  },
  {
   "cell_type": "code",
   "execution_count": 371,
   "metadata": {
    "scrolled": true
   },
   "outputs": [
    {
     "name": "stderr",
     "output_type": "stream",
     "text": [
      "C:\\Users\\Viktor\\AppData\\Local\\conda\\conda\\envs\\ada\\lib\\site-packages\\ipykernel\\__main__.py:13: SettingWithCopyWarning:\n",
      "\n",
      "\n",
      "A value is trying to be set on a copy of a slice from a DataFrame\n",
      "\n",
      "See the caveats in the documentation: http://pandas.pydata.org/pandas-docs/stable/indexing.html#indexing-view-versus-copy\n",
      "\n"
     ]
    },
    {
     "data": {
      "text/html": [
       "\n",
       "        <iframe\n",
       "            width=\"100%\"\n",
       "            height=\"500px\"\n",
       "            src=\"html/followers_from_2016-06-06.html\"\n",
       "            frameborder=\"0\"\n",
       "            allowfullscreen\n",
       "        ></iframe>\n",
       "        "
      ],
      "text/plain": [
       "<IPython.lib.display.IFrame at 0x22ea3eae8d0>"
      ]
     },
     "metadata": {},
     "output_type": "display_data"
    }
   ],
   "source": [
    "plot_followers_from(tweets, '2016-06-06')"
   ]
  },
  {
   "cell_type": "markdown",
   "metadata": {},
   "source": [
    "We can see the previously mentioned volatility and sudden increase and decrease of followers, being less prominent from mid-2017. As mentioned, this can be a flaw in the data collection.\n",
    "\n",
    "We can try to average the number of followers over certain periods, such as months to see whether that will reduce volatility."
   ]
  },
  {
   "cell_type": "code",
   "execution_count": 372,
   "metadata": {},
   "outputs": [],
   "source": [
    "def plot_avg_followers_from(tweets, from_date):\n",
    "    '''\n",
    "    Helper function for plotting the followers from tweet data, averaging over months to reduce volatility.\n",
    "    '''\n",
    "    x = []\n",
    "    y = []\n",
    "\n",
    "    tmp = tweets.loc[tweets.created_at>pd.Timestamp(from_date)]\n",
    "    tmp.sort_values(by='created_at', ascending=True, inplace=True)\n",
    "    \n",
    "    # iterate through tweets and fetch date of creation and current number of followers\n",
    "    for ind, row in tmp.iterrows():\n",
    "        x.append(row['created_at'])\n",
    "        y.append(row.user['followers_count'])\n",
    "    \n",
    "    avg_x = []\n",
    "    avg_y = []\n",
    "    cum = 0\n",
    "    cnt = 0\n",
    "    for ind, date in enumerate(x):\n",
    "        if(cum==0):\n",
    "            cum += y[ind]\n",
    "            cnt += 1\n",
    "        else:\n",
    "            if(x[ind-1].month==x[ind].month):\n",
    "                cum += y[ind]\n",
    "                cnt += 1\n",
    "            else:\n",
    "                avg_x.append(x[ind-1])\n",
    "                avg_y.append(cum/cnt)\n",
    "                cum = 0 \n",
    "                cnt = 0\n",
    "    \n",
    "    data = [go.Scatter(\n",
    "            x=avg_x,\n",
    "            y=avg_y\n",
    "    )]\n",
    "    \n",
    "    layout = go.Layout(\n",
    "        title = \"Average followers from \"+from_date,\n",
    "        yaxis = {'title': 'Count'},\n",
    "        xaxis = {'title': 'Date'},\n",
    "    )\n",
    "    \n",
    "    fig = go.Figure(data=data, layout=layout)\n",
    "    plotly.offline.plot(fig, filename='html/average_followers_from_'+from_date+'.html')\n",
    "    display(IFrame('html/average_followers_from_'+from_date+'.html', \"100%\", \"500px\"))\n",
    "    \n",
    "    #plt.figure(figsize=(15,8))\n",
    "    #plt.plot(avg_x,avg_y)\n",
    "    #plt.title(\"Average followers from \"+from_date)\n",
    "    #plt.xlabel(\"Date\")\n",
    "    #plt.ylabel(\"Number of followers\")"
   ]
  },
  {
   "cell_type": "code",
   "execution_count": 373,
   "metadata": {},
   "outputs": [
    {
     "name": "stderr",
     "output_type": "stream",
     "text": [
      "C:\\Users\\Viktor\\AppData\\Local\\conda\\conda\\envs\\ada\\lib\\site-packages\\ipykernel\\__main__.py:9: SettingWithCopyWarning:\n",
      "\n",
      "\n",
      "A value is trying to be set on a copy of a slice from a DataFrame\n",
      "\n",
      "See the caveats in the documentation: http://pandas.pydata.org/pandas-docs/stable/indexing.html#indexing-view-versus-copy\n",
      "\n"
     ]
    },
    {
     "data": {
      "text/html": [
       "\n",
       "        <iframe\n",
       "            width=\"100%\"\n",
       "            height=\"500px\"\n",
       "            src=\"html/average_followers_from_2014-06-06.html\"\n",
       "            frameborder=\"0\"\n",
       "            allowfullscreen\n",
       "        ></iframe>\n",
       "        "
      ],
      "text/plain": [
       "<IPython.lib.display.IFrame at 0x22ea3e7a048>"
      ]
     },
     "metadata": {},
     "output_type": "display_data"
    }
   ],
   "source": [
    "plot_avg_followers_from(tweets, '2014-06-06')"
   ]
  },
  {
   "cell_type": "markdown",
   "metadata": {},
   "source": [
    "This has significantly reduced the discrepancy, and looks more like the baseline.\n",
    "\n",
    "**Conclusion**: Using the number of followers from the datasets has caveats:\n",
    "* it is very volatile per-tweet most probably caused by API inconsistencies\n",
    "* the behavior becomes more similar to the baseline when averaging out over periods\n",
    "\n",
    "In terms of using the Tweets to determine whether they have influenced the number of new followers or people unfollowing - this would not be recommended. On the other hand, as a general indicator of popularity, this data point can be used."
   ]
  },
  {
   "cell_type": "markdown",
   "metadata": {},
   "source": [
    "#### Tweets distribution over the years\n",
    "\n",
    "As part of our analysis of the evolution of Trump's attitude reflected in his tweeting behaviour, a good insight would be how his tweet usage changed throughout the stages of media celebrity, presidency candidate and US president.\n",
    "\n",
    "In this sense, we will look at the number of tweets over the months from 2009 to 2017. We choose months as the basic timespan because it is large enough in order to capture significant events that have an impact and additionally, this way, we can pinpoint the dates when Trump announced his candidacy as well as when he won the election."
   ]
  },
  {
   "cell_type": "code",
   "execution_count": 28,
   "metadata": {
    "ExecuteTime": {
     "end_time": "2017-11-26T17:17:58.476631Z",
     "start_time": "2017-11-26T17:17:58.463389Z"
    }
   },
   "outputs": [],
   "source": [
    "tweets_expand_dates = tweets.copy()\n",
    "tweets_expand_dates['year'] = tweets_expand_dates.created_at.dt.year\n",
    "tweets_expand_dates['month'] = tweets_expand_dates.created_at.dt.month"
   ]
  },
  {
   "cell_type": "code",
   "execution_count": 29,
   "metadata": {
    "ExecuteTime": {
     "end_time": "2017-11-26T17:17:58.873124Z",
     "start_time": "2017-11-26T17:17:58.478501Z"
    }
   },
   "outputs": [
    {
     "data": {
      "image/png": "[encoded data removed]",
      "text/plain": [
       "<matplotlib.figure.Figure at 0x22e8d1955f8>"
      ]
     },
     "metadata": {},
     "output_type": "display_data"
    }
   ],
   "source": [
    "_  = sns.set(font_scale=1.5)\n",
    "g = sns.factorplot(data=tweets_expand_dates, x='year',kind='count',\\\n",
    "               size=6, aspect=2, palette='hls')\n",
    "\n",
    "ax = g.axes.flat[0]\n",
    "_ = ax.set(title='#tweets per year')"
   ]
  },
  {
   "cell_type": "markdown",
   "metadata": {},
   "source": [
    "We notice a clear decrease in the number of tweets afther he anounced his candidacy in 2015. Knowing that his happened in June of that year, we would like to see if there is a pattern at the month level.\n",
    "\n",
    "We made the respective choice of colors in order to be easier to pinpoint the months when he announced his candidacy and when he won the election."
   ]
  },
  {
   "cell_type": "code",
   "execution_count": 30,
   "metadata": {
    "ExecuteTime": {
     "end_time": "2017-11-26T17:17:59.668562Z",
     "start_time": "2017-11-26T17:17:58.874818Z"
    }
   },
   "outputs": [
    {
     "data": {
      "text/plain": [
       "[<matplotlib.text.Text at 0x22e8cbc8a20>]"
      ]
     },
     "execution_count": 30,
     "metadata": {},
     "output_type": "execute_result"
    },
    {
     "data": {
      "image/png": "[encoded data removed]",
      "text/plain": [
       "<matplotlib.figure.Figure at 0x22e92607780>"
      ]
     },
     "metadata": {},
     "output_type": "display_data"
    }
   ],
   "source": [
    "_ = sns.set(font_scale=1.5)\n",
    "colors = ['red','orange','tan','light brown','peach','hot pink','bright green','olive green','beige',\n",
    "         'mauve','royal blue','navy blue']\n",
    "g = sns.factorplot(data=tweets_expand_dates, x='year',kind='count',\\\n",
    "               size=6, aspect=2, hue='month', palette=sns.xkcd_palette(colors))\n",
    "ax = g.axes.flat[0]\n",
    "ax.set(title='#tweets per month')\n",
    "\n",
    "#_ = sns.factorplot(data=tweets_expand_dates, x='year',kind='count',\\\n",
    "#               size=6, aspect=2, hue='month')"
   ]
  },
  {
   "cell_type": "markdown",
   "metadata": {},
   "source": [
    "There isn't an obvious change related strictly to the month of his candidacy anouncement, altough considering the data by year, there are clear changes over the months."
   ]
  },
  {
   "cell_type": "markdown",
   "metadata": {},
   "source": [
    "#### Followers engagement\n",
    "\n",
    "Having looked over Trump's participation on the Twitter platform, we would now want to see how his followers are reacting to his tweets. There are two quantifiable forms of involvement with one's tweets of their followers recorded in our data: favorite count and retweet count. The favorite count is the number of accounts that liked the respective message and the retweet count is the number of accounts that shared the message on their page, possibly with an additional comment.\n",
    "\n",
    "We will first look at the trends of his followers engagement over the years and then try to discover more indepth patterns of the most liked/retweeted ones."
   ]
  },
  {
   "cell_type": "code",
   "execution_count": 31,
   "metadata": {
    "ExecuteTime": {
     "end_time": "2017-11-26T17:18:06.125027Z",
     "start_time": "2017-11-26T17:17:59.670235Z"
    }
   },
   "outputs": [
    {
     "data": {
      "image/png": "[encoded data removed]",
      "text/plain": [
       "<matplotlib.figure.Figure at 0x22e95ca8c88>"
      ]
     },
     "metadata": {},
     "output_type": "display_data"
    },
    {
     "data": {
      "image/png": "[encoded data removed]",
      "text/plain": [
       "<matplotlib.figure.Figure at 0x22e962d93c8>"
      ]
     },
     "metadata": {},
     "output_type": "display_data"
    }
   ],
   "source": [
    "colors = ['red','orange','tan','light brown','peach','hot pink','bright green','olive green','beige',\n",
    "         'mauve','royal blue','navy blue']\n",
    "g = sns.factorplot(data=tweets_expand_dates, x='year',y='favorite_count',hue='month',kind='bar',size=6, aspect=2,\n",
    "               palette=sns.xkcd_palette(colors))\n",
    "ax = g.axes.flat[0]\n",
    "ax.set(title='Average #Favorites per month',xlabel='year', ylabel='counts')\n",
    "\n",
    "g = sns.factorplot(data=tweets_expand_dates, x='year',y='retweet_count',hue='month',kind='bar',size=6, aspect=2,\n",
    "              palette=sns.xkcd_palette(colors))\n",
    "ax = g.axes.flat[0]\n",
    "_ = ax.set(title='Average #Retweets per month',xlabel='year',ylabel='counts')"
   ]
  },
  {
   "cell_type": "markdown",
   "metadata": {},
   "source": [
    "We can see the corresponding points in time when he announced his candidacy as well as the point when he won the election are reflected in an increase interaction of his followers have with his tweets.\n",
    "\n",
    "Now that we have insight into the evolution of Trump's twitter activity and his followers engagement, we would want to dig more into what are the patterns of his **most liked/retweeted** tweets. \n",
    "\n",
    "As a first step in our analysis, we make use of what our dataset records, specifically, we will analyze the the hashtags and user mentions in these tweets."
   ]
  },
  {
   "cell_type": "code",
   "execution_count": 32,
   "metadata": {
    "ExecuteTime": {
     "end_time": "2017-11-26T17:32:35.474529Z",
     "start_time": "2017-11-26T17:32:35.441119Z"
    }
   },
   "outputs": [],
   "source": [
    "max_fav_tweets = tweets.sort_values(by='favorite_count', ascending=False)\n",
    "max_ret_tweets = tweets.sort_values(by='retweet_count', ascending=False)"
   ]
  },
  {
   "cell_type": "code",
   "execution_count": 33,
   "metadata": {
    "ExecuteTime": {
     "end_time": "2017-11-26T17:32:46.652531Z",
     "start_time": "2017-11-26T17:32:46.641241Z"
    }
   },
   "outputs": [],
   "source": [
    "def extract_text_hashtags(hashtags_list):\n",
    "    '''\n",
    "    Utility function to extract the hashtag text from the hashtags list of a tweet\n",
    "    '''\n",
    "    texts = []\n",
    "    for hashtag in hashtags_list:\n",
    "        texts.append(hashtag['text'])\n",
    "        \n",
    "    return texts\n",
    "\n",
    "def extract_name_mentions(usermentions_list):\n",
    "    '''\n",
    "    Utility function to extract the name rom the user mentions list of a tweet\n",
    "    '''\n",
    "    names = []\n",
    "    for usermention in usermentions_list:\n",
    "        names.append((usermention['name'], usermention['screen_name']))\n",
    "        \n",
    "    return names"
   ]
  },
  {
   "cell_type": "code",
   "execution_count": 34,
   "metadata": {
    "ExecuteTime": {
     "end_time": "2017-11-26T17:34:01.339130Z",
     "start_time": "2017-11-26T17:34:01.296616Z"
    }
   },
   "outputs": [],
   "source": [
    "hashtags_most_engaged = set()\n",
    "_ = max_fav_tweets[:200].apply(\n",
    "    lambda row:hashtags_most_engaged.update(extract_text_hashtags(row['entities']['hashtags'])), \n",
    "    axis=1)\n",
    "\n",
    "usermentions_most_engaged = set()\n",
    "_ = max_ret_tweets[:200].apply(\n",
    "    lambda row:usermentions_most_engaged.update(extract_name_mentions(row['entities']['user_mentions'])), \n",
    "    axis=1)"
   ]
  },
  {
   "cell_type": "code",
   "execution_count": 35,
   "metadata": {
    "ExecuteTime": {
     "end_time": "2017-11-26T17:39:41.188264Z",
     "start_time": "2017-11-26T17:39:41.184976Z"
    }
   },
   "outputs": [
    {
     "data": {
      "text/plain": [
       "{'AmericaFirst',\n",
       " 'ElectionNight',\n",
       " 'FNN',\n",
       " 'FakeNews',\n",
       " 'FraudNewsCNN',\n",
       " 'HappyIndependenceDay',\n",
       " 'InaugurationDay',\n",
       " 'MAGA',\n",
       " 'MarchForLife',\n",
       " 'MarineOne',\n",
       " 'MerryChristmas',\n",
       " 'NeverForget',\n",
       " 'StandForOurAnthem',\n",
       " 'SuperBowl',\n",
       " 'ThankAVet',\n",
       " 'USA'}"
      ]
     },
     "metadata": {},
     "output_type": "display_data"
    }
   ],
   "source": [
    "display(hashtags_most_engaged)"
   ]
  },
  {
   "cell_type": "markdown",
   "metadata": {},
   "source": [
    "Looking at the hashtags from the 200 most liked tweets, we can see that most related to the US in a patriotic sense, but there are a few hashtags in the top that break this pattern as they are related to tweets set as counter actions to some speculations (FNN, FakeNews, FraudNewsCNN)"
   ]
  },
  {
   "cell_type": "code",
   "execution_count": 36,
   "metadata": {
    "ExecuteTime": {
     "end_time": "2017-11-26T17:39:51.927992Z",
     "start_time": "2017-11-26T17:39:51.923418Z"
    }
   },
   "outputs": [
    {
     "data": {
      "text/plain": [
       "{('ABC News', 'ABC'),\n",
       " ('CBS', 'CBS'),\n",
       " ('CNN', 'CNN'),\n",
       " ('Chuck Schumer', 'SenSchumer'),\n",
       " ('Donald J. Trump', 'realDonaldTrump'),\n",
       " ('FOX & friends', 'foxandfriends'),\n",
       " ('James Woods', 'RealJamesWoods'),\n",
       " ('Juanita Broaddrick', 'atensnut'),\n",
       " ('Lilian Tintori', 'liliantintori'),\n",
       " ('Mac', 'MacMiller'),\n",
       " ('Marco Rubio', 'marcorubio'),\n",
       " ('Mike', 'Fuctupmind'),\n",
       " ('Mike Pence', 'mike_pence'),\n",
       " ('NBC News', 'NBCNews'),\n",
       " ('Snoop Dogg', 'SnoopDogg'),\n",
       " ('The New York Times', 'nytimes')}"
      ]
     },
     "metadata": {},
     "output_type": "display_data"
    }
   ],
   "source": [
    "display(usermentions_most_engaged)"
   ]
  },
  {
   "cell_type": "markdown",
   "metadata": {},
   "source": [
    "Analysing the users mentioned in his 200 tweets that received the most attention from his followers, we see that the news outlets that he considers as promoting fake news make up for the top 3. \n",
    "\n",
    "The next step would be to analyse the followers engagement over three different timespans: before his candidacy announcement, during his candidacy and after the election."
   ]
  },
  {
   "cell_type": "markdown",
   "metadata": {},
   "source": [
    "#### Device used to Tweet\n",
    "\n",
    "We will in short explore what devices are being used by Donald Trump to post Tweets. It is very important to notice the possibility that multiple persons manage his account besides himself. We might get an insight of this at a later point."
   ]
  },
  {
   "cell_type": "code",
   "execution_count": 37,
   "metadata": {},
   "outputs": [],
   "source": [
    "tweets_by_source = tweets.groupby('source').aggregate({'index':'count', 'favorite_count':'sum', \n",
    "                                                       'retweet_count':'sum', 'created_at':'max'})"
   ]
  },
  {
   "cell_type": "code",
   "execution_count": 38,
   "metadata": {},
   "outputs": [
    {
     "data": {
      "text/html": [
       "<div>\n",
       "<style>\n",
       "    .dataframe thead tr:only-child th {\n",
       "        text-align: right;\n",
       "    }\n",
       "\n",
       "    .dataframe thead th {\n",
       "        text-align: left;\n",
       "    }\n",
       "\n",
       "    .dataframe tbody tr th {\n",
       "        vertical-align: top;\n",
       "    }\n",
       "</style>\n",
       "<table border=\"1\" class=\"dataframe\">\n",
       "  <thead>\n",
       "    <tr style=\"text-align: right;\">\n",
       "      <th></th>\n",
       "      <th>index</th>\n",
       "      <th>favorite_count</th>\n",
       "      <th>retweet_count</th>\n",
       "      <th>created_at</th>\n",
       "    </tr>\n",
       "    <tr>\n",
       "      <th>source</th>\n",
       "      <th></th>\n",
       "      <th></th>\n",
       "      <th></th>\n",
       "      <th></th>\n",
       "    </tr>\n",
       "  </thead>\n",
       "  <tbody>\n",
       "    <tr>\n",
       "      <th>&lt;a href=\"http://twitter.com/download/android\" rel=\"nofollow\"&gt;Twitter for Android&lt;/a&gt;</th>\n",
       "      <td>14545</td>\n",
       "      <td>82606306</td>\n",
       "      <td>24979311</td>\n",
       "      <td>2017-03-25 14:41:14</td>\n",
       "    </tr>\n",
       "    <tr>\n",
       "      <th>&lt;a href=\"http://twitter.com\" rel=\"nofollow\"&gt;Twitter Web Client&lt;/a&gt;</th>\n",
       "      <td>12175</td>\n",
       "      <td>14121231</td>\n",
       "      <td>7680769</td>\n",
       "      <td>2017-11-17 15:03:16</td>\n",
       "    </tr>\n",
       "    <tr>\n",
       "      <th>&lt;a href=\"http://twitter.com/download/iphone\" rel=\"nofollow\"&gt;Twitter for iPhone&lt;/a&gt;</th>\n",
       "      <td>4230</td>\n",
       "      <td>165614858</td>\n",
       "      <td>47902412</td>\n",
       "      <td>2017-11-24 18:49:12</td>\n",
       "    </tr>\n",
       "    <tr>\n",
       "      <th>&lt;a href=\"https://about.twitter.com/products/tweetdeck\" rel=\"nofollow\"&gt;TweetDeck&lt;/a&gt;</th>\n",
       "      <td>483</td>\n",
       "      <td>60975</td>\n",
       "      <td>113396</td>\n",
       "      <td>2016-10-20 02:06:52</td>\n",
       "    </tr>\n",
       "    <tr>\n",
       "      <th>&lt;a href=\"http://beta.twitlonger.com\" rel=\"nofollow\"&gt;TwitLonger Beta&lt;/a&gt;</th>\n",
       "      <td>405</td>\n",
       "      <td>13912</td>\n",
       "      <td>46680</td>\n",
       "      <td>2013-03-05 14:27:23</td>\n",
       "    </tr>\n",
       "    <tr>\n",
       "      <th>&lt;a href=\"http://instagram.com\" rel=\"nofollow\"&gt;Instagram&lt;/a&gt;</th>\n",
       "      <td>133</td>\n",
       "      <td>109422</td>\n",
       "      <td>59863</td>\n",
       "      <td>2016-06-21 16:53:07</td>\n",
       "    </tr>\n",
       "    <tr>\n",
       "      <th>&lt;a href=\"https://studio.twitter.com\" rel=\"nofollow\"&gt;Media Studio&lt;/a&gt;</th>\n",
       "      <td>108</td>\n",
       "      <td>6978222</td>\n",
       "      <td>1699112</td>\n",
       "      <td>2017-11-23 15:35:13</td>\n",
       "    </tr>\n",
       "    <tr>\n",
       "      <th>&lt;a href=\"http://www.facebook.com/twitter\" rel=\"nofollow\"&gt;Facebook&lt;/a&gt;</th>\n",
       "      <td>105</td>\n",
       "      <td>16113</td>\n",
       "      <td>23581</td>\n",
       "      <td>2015-08-28 17:33:41</td>\n",
       "    </tr>\n",
       "    <tr>\n",
       "      <th>&lt;a href=\"http://www.twitter.com\" rel=\"nofollow\"&gt;Twitter for BlackBerry&lt;/a&gt;</th>\n",
       "      <td>97</td>\n",
       "      <td>56364</td>\n",
       "      <td>29824</td>\n",
       "      <td>2015-07-26 01:30:55</td>\n",
       "    </tr>\n",
       "    <tr>\n",
       "      <th>&lt;a href=\"https://ads.twitter.com\" rel=\"nofollow\"&gt;Twitter Ads&lt;/a&gt;</th>\n",
       "      <td>97</td>\n",
       "      <td>2441883</td>\n",
       "      <td>634040</td>\n",
       "      <td>2017-06-30 22:43:58</td>\n",
       "    </tr>\n",
       "    <tr>\n",
       "      <th>&lt;a href=\"https://mobile.twitter.com\" rel=\"nofollow\"&gt;Mobile Web (M5)&lt;/a&gt;</th>\n",
       "      <td>56</td>\n",
       "      <td>11506</td>\n",
       "      <td>13746</td>\n",
       "      <td>2016-02-20 16:19:21</td>\n",
       "    </tr>\n",
       "    <tr>\n",
       "      <th>&lt;a href=\"http://twitter.com/#!/download/ipad\" rel=\"nofollow\"&gt;Twitter for iPad&lt;/a&gt;</th>\n",
       "      <td>41</td>\n",
       "      <td>1639401</td>\n",
       "      <td>476770</td>\n",
       "      <td>2017-11-23 22:54:41</td>\n",
       "    </tr>\n",
       "    <tr>\n",
       "      <th>&lt;a href=\"http://www.twitlonger.com\" rel=\"nofollow\"&gt;Twitlonger&lt;/a&gt;</th>\n",
       "      <td>23</td>\n",
       "      <td>564</td>\n",
       "      <td>1043</td>\n",
       "      <td>2014-01-20 16:20:00</td>\n",
       "    </tr>\n",
       "    <tr>\n",
       "      <th>&lt;a href=\"http://vine.co\" rel=\"nofollow\"&gt;Vine - Make a Scene&lt;/a&gt;</th>\n",
       "      <td>10</td>\n",
       "      <td>2145</td>\n",
       "      <td>2672</td>\n",
       "      <td>2013-11-05 14:52:14</td>\n",
       "    </tr>\n",
       "    <tr>\n",
       "      <th>&lt;a href=\"http://twitter.com\" rel=\"nofollow\"&gt;Twitter QandA&lt;/a&gt;</th>\n",
       "      <td>10</td>\n",
       "      <td>18629</td>\n",
       "      <td>11410</td>\n",
       "      <td>2015-09-21 17:29:20</td>\n",
       "    </tr>\n",
       "    <tr>\n",
       "      <th>&lt;a href=\"https://periscope.tv\" rel=\"nofollow\"&gt;Periscope&lt;/a&gt;</th>\n",
       "      <td>7</td>\n",
       "      <td>38985</td>\n",
       "      <td>14475</td>\n",
       "      <td>2016-11-07 23:28:48</td>\n",
       "    </tr>\n",
       "    <tr>\n",
       "      <th>&lt;a href=\"http://www.Neatly.me\" rel=\"nofollow\"&gt;Neatly For BlackBerry 10&lt;/a&gt;</th>\n",
       "      <td>5</td>\n",
       "      <td>233</td>\n",
       "      <td>179</td>\n",
       "      <td>2015-02-13 00:27:55</td>\n",
       "    </tr>\n",
       "    <tr>\n",
       "      <th>&lt;a href=\"http://www.twitter.com\" rel=\"nofollow\"&gt;Twitter Mirror for iPad&lt;/a&gt;</th>\n",
       "      <td>1</td>\n",
       "      <td>2824</td>\n",
       "      <td>901</td>\n",
       "      <td>2015-09-21 17:36:23</td>\n",
       "    </tr>\n",
       "    <tr>\n",
       "      <th>&lt;a href=\"https://dev.twitter.com/docs/tfw\" rel=\"nofollow\"&gt;Twitter for Websites&lt;/a&gt;</th>\n",
       "      <td>1</td>\n",
       "      <td>38</td>\n",
       "      <td>13</td>\n",
       "      <td>2014-07-15 13:28:54</td>\n",
       "    </tr>\n",
       "  </tbody>\n",
       "</table>\n",
       "</div>"
      ],
      "text/plain": [
       "                                                    index  favorite_count  \\\n",
       "source                                                                      \n",
       "<a href=\"http://twitter.com/download/android\" r...  14545        82606306   \n",
       "<a href=\"http://twitter.com\" rel=\"nofollow\">Twi...  12175        14121231   \n",
       "<a href=\"http://twitter.com/download/iphone\" re...   4230       165614858   \n",
       "<a href=\"https://about.twitter.com/products/twe...    483           60975   \n",
       "<a href=\"http://beta.twitlonger.com\" rel=\"nofol...    405           13912   \n",
       "<a href=\"http://instagram.com\" rel=\"nofollow\">I...    133          109422   \n",
       "<a href=\"https://studio.twitter.com\" rel=\"nofol...    108         6978222   \n",
       "<a href=\"http://www.facebook.com/twitter\" rel=\"...    105           16113   \n",
       "<a href=\"http://www.twitter.com\" rel=\"nofollow\"...     97           56364   \n",
       "<a href=\"https://ads.twitter.com\" rel=\"nofollow...     97         2441883   \n",
       "<a href=\"https://mobile.twitter.com\" rel=\"nofol...     56           11506   \n",
       "<a href=\"http://twitter.com/#!/download/ipad\" r...     41         1639401   \n",
       "<a href=\"http://www.twitlonger.com\" rel=\"nofoll...     23             564   \n",
       "<a href=\"http://vine.co\" rel=\"nofollow\">Vine - ...     10            2145   \n",
       "<a href=\"http://twitter.com\" rel=\"nofollow\">Twi...     10           18629   \n",
       "<a href=\"https://periscope.tv\" rel=\"nofollow\">P...      7           38985   \n",
       "<a href=\"http://www.Neatly.me\" rel=\"nofollow\">N...      5             233   \n",
       "<a href=\"http://www.twitter.com\" rel=\"nofollow\"...      1            2824   \n",
       "<a href=\"https://dev.twitter.com/docs/tfw\" rel=...      1              38   \n",
       "\n",
       "                                                    retweet_count  \\\n",
       "source                                                              \n",
       "<a href=\"http://twitter.com/download/android\" r...       24979311   \n",
       "<a href=\"http://twitter.com\" rel=\"nofollow\">Twi...        7680769   \n",
       "<a href=\"http://twitter.com/download/iphone\" re...       47902412   \n",
       "<a href=\"https://about.twitter.com/products/twe...         113396   \n",
       "<a href=\"http://beta.twitlonger.com\" rel=\"nofol...          46680   \n",
       "<a href=\"http://instagram.com\" rel=\"nofollow\">I...          59863   \n",
       "<a href=\"https://studio.twitter.com\" rel=\"nofol...        1699112   \n",
       "<a href=\"http://www.facebook.com/twitter\" rel=\"...          23581   \n",
       "<a href=\"http://www.twitter.com\" rel=\"nofollow\"...          29824   \n",
       "<a href=\"https://ads.twitter.com\" rel=\"nofollow...         634040   \n",
       "<a href=\"https://mobile.twitter.com\" rel=\"nofol...          13746   \n",
       "<a href=\"http://twitter.com/#!/download/ipad\" r...         476770   \n",
       "<a href=\"http://www.twitlonger.com\" rel=\"nofoll...           1043   \n",
       "<a href=\"http://vine.co\" rel=\"nofollow\">Vine - ...           2672   \n",
       "<a href=\"http://twitter.com\" rel=\"nofollow\">Twi...          11410   \n",
       "<a href=\"https://periscope.tv\" rel=\"nofollow\">P...          14475   \n",
       "<a href=\"http://www.Neatly.me\" rel=\"nofollow\">N...            179   \n",
       "<a href=\"http://www.twitter.com\" rel=\"nofollow\"...            901   \n",
       "<a href=\"https://dev.twitter.com/docs/tfw\" rel=...             13   \n",
       "\n",
       "                                                            created_at  \n",
       "source                                                                  \n",
       "<a href=\"http://twitter.com/download/android\" r... 2017-03-25 14:41:14  \n",
       "<a href=\"http://twitter.com\" rel=\"nofollow\">Twi... 2017-11-17 15:03:16  \n",
       "<a href=\"http://twitter.com/download/iphone\" re... 2017-11-24 18:49:12  \n",
       "<a href=\"https://about.twitter.com/products/twe... 2016-10-20 02:06:52  \n",
       "<a href=\"http://beta.twitlonger.com\" rel=\"nofol... 2013-03-05 14:27:23  \n",
       "<a href=\"http://instagram.com\" rel=\"nofollow\">I... 2016-06-21 16:53:07  \n",
       "<a href=\"https://studio.twitter.com\" rel=\"nofol... 2017-11-23 15:35:13  \n",
       "<a href=\"http://www.facebook.com/twitter\" rel=\"... 2015-08-28 17:33:41  \n",
       "<a href=\"http://www.twitter.com\" rel=\"nofollow\"... 2015-07-26 01:30:55  \n",
       "<a href=\"https://ads.twitter.com\" rel=\"nofollow... 2017-06-30 22:43:58  \n",
       "<a href=\"https://mobile.twitter.com\" rel=\"nofol... 2016-02-20 16:19:21  \n",
       "<a href=\"http://twitter.com/#!/download/ipad\" r... 2017-11-23 22:54:41  \n",
       "<a href=\"http://www.twitlonger.com\" rel=\"nofoll... 2014-01-20 16:20:00  \n",
       "<a href=\"http://vine.co\" rel=\"nofollow\">Vine - ... 2013-11-05 14:52:14  \n",
       "<a href=\"http://twitter.com\" rel=\"nofollow\">Twi... 2015-09-21 17:29:20  \n",
       "<a href=\"https://periscope.tv\" rel=\"nofollow\">P... 2016-11-07 23:28:48  \n",
       "<a href=\"http://www.Neatly.me\" rel=\"nofollow\">N... 2015-02-13 00:27:55  \n",
       "<a href=\"http://www.twitter.com\" rel=\"nofollow\"... 2015-09-21 17:36:23  \n",
       "<a href=\"https://dev.twitter.com/docs/tfw\" rel=... 2014-07-15 13:28:54  "
      ]
     },
     "execution_count": 38,
     "metadata": {},
     "output_type": "execute_result"
    }
   ],
   "source": [
    "tweets_by_source.sort_values(by='index',ascending=False, inplace=True)\n",
    "tweets_by_source"
   ]
  },
  {
   "cell_type": "code",
   "execution_count": 374,
   "metadata": {},
   "outputs": [
    {
     "data": {
      "text/html": [
       "\n",
       "        <iframe\n",
       "            width=\"100%\"\n",
       "            height=\"500px\"\n",
       "            src=\"html/utilities_posted.html\"\n",
       "            frameborder=\"0\"\n",
       "            allowfullscreen\n",
       "        ></iframe>\n",
       "        "
      ],
      "text/plain": [
       "<IPython.lib.display.IFrame at 0x22ea3eaed68>"
      ]
     },
     "metadata": {},
     "output_type": "display_data"
    }
   ],
   "source": [
    "#fig = plt.figure(figsize=(12,12))\n",
    "#p1 = sns.barplot(data=tweets_by_source.reset_index(), y='source', x='index')\n",
    "#p1.set_title('Utilities used to post to Twitter')\n",
    "\n",
    "data = [go.Bar(\n",
    "            y=tweets_by_source.reset_index()['source'],\n",
    "            x=tweets_by_source.reset_index()['index'],\n",
    "            orientation='h'\n",
    "    )]\n",
    "    \n",
    "layout = go.Layout(\n",
    "        title = 'Utilities used to post to Twitter',\n",
    "        yaxis = {'title': 'Source'},\n",
    "        xaxis = {'title': 'Number'},\n",
    "    )\n",
    "    \n",
    "fig = go.Figure(data=data, layout=layout)\n",
    "plotly.offline.plot(fig, filename='html/utilities_posted.html')\n",
    "display(IFrame('html/utilities_posted.html', \"100%\", \"500px\"))"
   ]
  },
  {
   "cell_type": "markdown",
   "metadata": {},
   "source": [
    "We can see that predominant utilities are:\n",
    "* Twitter for Android - 14545 Tweets\n",
    "* Twitter Web Client - 12175 Tweets\n",
    "* Twitter for iPhone - 4230 Tweets\n",
    "\n",
    "Other utilities are used significanlty less frequently. Other utilities are most probably used by PR team and staff members to post in the same account.\n",
    "\n",
    "It is important to notice as well the timestamps of the latest tweets for each of the top utilities:\n",
    "* Twitter for Android - **25.03.2017**\n",
    "* Twitter Web Client - 2017-11-17\n",
    "* Twitter for iPhone - 2017-11-24\n",
    "\n",
    "From the news we have obtained the information Donald Trump predominantly used an Android phone. Due to security measures, Trump did [switch to iPhone in March](https://www.theguardian.com/technology/2017/mar/20/bye-bye-android-has-donald-trump-finally-upgraded-his-phone), as we can see from the Twitter data as well. "
   ]
  },
  {
   "cell_type": "code",
   "execution_count": 40,
   "metadata": {},
   "outputs": [],
   "source": [
    "tweets_android = tweets.loc[tweets.source=='<a href=\"http://twitter.com/download/android\" rel=\"nofollow\">Twitter for Android</a>']\n",
    "tweets_iphone = tweets.loc[tweets.source=='<a href=\"http://twitter.com/download/iphone\" rel=\"nofollow\">Twitter for iPhone</a>']"
   ]
  },
  {
   "cell_type": "code",
   "execution_count": 44,
   "metadata": {},
   "outputs": [],
   "source": [
    "tweets_android_freq = tweets_android.groupby(tweets_android['created_at'].map(lambda x: x.date())).aggregate({'index':'count'})\n",
    "tweets_iphone_freq = tweets_iphone.groupby(tweets_iphone['created_at'].map(lambda x: x.date())).aggregate({'index':'count'})"
   ]
  },
  {
   "cell_type": "code",
   "execution_count": 45,
   "metadata": {},
   "outputs": [
    {
     "data": {
      "text/html": [
       "<div>\n",
       "<style>\n",
       "    .dataframe thead tr:only-child th {\n",
       "        text-align: right;\n",
       "    }\n",
       "\n",
       "    .dataframe thead th {\n",
       "        text-align: left;\n",
       "    }\n",
       "\n",
       "    .dataframe tbody tr th {\n",
       "        vertical-align: top;\n",
       "    }\n",
       "</style>\n",
       "<table border=\"1\" class=\"dataframe\">\n",
       "  <thead>\n",
       "    <tr style=\"text-align: right;\">\n",
       "      <th></th>\n",
       "      <th>index</th>\n",
       "    </tr>\n",
       "  </thead>\n",
       "  <tbody>\n",
       "    <tr>\n",
       "      <th>count</th>\n",
       "      <td>1318.00000</td>\n",
       "    </tr>\n",
       "    <tr>\n",
       "      <th>mean</th>\n",
       "      <td>11.03566</td>\n",
       "    </tr>\n",
       "    <tr>\n",
       "      <th>std</th>\n",
       "      <td>12.18197</td>\n",
       "    </tr>\n",
       "    <tr>\n",
       "      <th>min</th>\n",
       "      <td>1.00000</td>\n",
       "    </tr>\n",
       "    <tr>\n",
       "      <th>25%</th>\n",
       "      <td>3.00000</td>\n",
       "    </tr>\n",
       "    <tr>\n",
       "      <th>50%</th>\n",
       "      <td>7.00000</td>\n",
       "    </tr>\n",
       "    <tr>\n",
       "      <th>75%</th>\n",
       "      <td>14.00000</td>\n",
       "    </tr>\n",
       "    <tr>\n",
       "      <th>max</th>\n",
       "      <td>150.00000</td>\n",
       "    </tr>\n",
       "  </tbody>\n",
       "</table>\n",
       "</div>"
      ],
      "text/plain": [
       "            index\n",
       "count  1318.00000\n",
       "mean     11.03566\n",
       "std      12.18197\n",
       "min       1.00000\n",
       "25%       3.00000\n",
       "50%       7.00000\n",
       "75%      14.00000\n",
       "max     150.00000"
      ]
     },
     "execution_count": 45,
     "metadata": {},
     "output_type": "execute_result"
    }
   ],
   "source": [
    "tweets_android_freq.describe()"
   ]
  },
  {
   "cell_type": "code",
   "execution_count": 48,
   "metadata": {},
   "outputs": [
    {
     "data": {
      "text/html": [
       "<div>\n",
       "<style>\n",
       "    .dataframe thead tr:only-child th {\n",
       "        text-align: right;\n",
       "    }\n",
       "\n",
       "    .dataframe thead th {\n",
       "        text-align: left;\n",
       "    }\n",
       "\n",
       "    .dataframe tbody tr th {\n",
       "        vertical-align: top;\n",
       "    }\n",
       "</style>\n",
       "<table border=\"1\" class=\"dataframe\">\n",
       "  <thead>\n",
       "    <tr style=\"text-align: right;\">\n",
       "      <th></th>\n",
       "      <th>index</th>\n",
       "    </tr>\n",
       "  </thead>\n",
       "  <tbody>\n",
       "    <tr>\n",
       "      <th>count</th>\n",
       "      <td>739.000000</td>\n",
       "    </tr>\n",
       "    <tr>\n",
       "      <th>mean</th>\n",
       "      <td>5.723951</td>\n",
       "    </tr>\n",
       "    <tr>\n",
       "      <th>std</th>\n",
       "      <td>4.661101</td>\n",
       "    </tr>\n",
       "    <tr>\n",
       "      <th>min</th>\n",
       "      <td>1.000000</td>\n",
       "    </tr>\n",
       "    <tr>\n",
       "      <th>25%</th>\n",
       "      <td>2.000000</td>\n",
       "    </tr>\n",
       "    <tr>\n",
       "      <th>50%</th>\n",
       "      <td>5.000000</td>\n",
       "    </tr>\n",
       "    <tr>\n",
       "      <th>75%</th>\n",
       "      <td>8.000000</td>\n",
       "    </tr>\n",
       "    <tr>\n",
       "      <th>max</th>\n",
       "      <td>43.000000</td>\n",
       "    </tr>\n",
       "  </tbody>\n",
       "</table>\n",
       "</div>"
      ],
      "text/plain": [
       "            index\n",
       "count  739.000000\n",
       "mean     5.723951\n",
       "std      4.661101\n",
       "min      1.000000\n",
       "25%      2.000000\n",
       "50%      5.000000\n",
       "75%      8.000000\n",
       "max     43.000000"
      ]
     },
     "execution_count": 48,
     "metadata": {},
     "output_type": "execute_result"
    }
   ],
   "source": [
    "tweets_iphone_freq.describe()"
   ]
  },
  {
   "cell_type": "code",
   "execution_count": 49,
   "metadata": {},
   "outputs": [],
   "source": [
    "tweets_freq = pd.merge(left=tweets_android_freq.reset_index(), right=tweets_iphone_freq.reset_index(), how='outer', on='created_at',\n",
    "                      suffixes=('_and', '_iph'))"
   ]
  },
  {
   "cell_type": "code",
   "execution_count": 381,
   "metadata": {
    "scrolled": true
   },
   "outputs": [
    {
     "data": {
      "text/html": [
       "\n",
       "        <iframe\n",
       "            width=\"100%\"\n",
       "            height=\"500px\"\n",
       "            src=\"html/utilities_daily_frequency.html\"\n",
       "            frameborder=\"0\"\n",
       "            allowfullscreen\n",
       "        ></iframe>\n",
       "        "
      ],
      "text/plain": [
       "<IPython.lib.display.IFrame at 0x22ea32b23c8>"
      ]
     },
     "metadata": {},
     "output_type": "display_data"
    }
   ],
   "source": [
    "#tweets_freq.plot(figsize=(15,8), x='created_at', y=['index_and', 'index_iph'], title='Daily Tweet frequency by phone device')\n",
    "tweets_freq_sorted = tweets_freq.sort_values('created_at')\n",
    "\n",
    "data = [go.Scatter(\n",
    "            x=tweets_freq_sorted['created_at'],\n",
    "            y=tweets_freq_sorted['index_and'],\n",
    "            name = 'Android'\n",
    "    ),\n",
    "       go.Scatter(\n",
    "            x=tweets_freq_sorted['created_at'],\n",
    "            y=tweets_freq_sorted['index_iph'],\n",
    "            name = 'iPhone'\n",
    "    )]\n",
    "    \n",
    "layout = go.Layout(\n",
    "        title = 'Daily Tweet frequency by phone device',\n",
    "        yaxis = {'title': 'Count'},\n",
    "        xaxis = {'title': 'Created at'},\n",
    "    )\n",
    "    \n",
    "fig = go.Figure(data=data, layout=layout)\n",
    "plotly.offline.plot(fig, filename='html/utilities_daily_frequency.html')\n",
    "display(IFrame('html/utilities_daily_frequency.html', \"100%\", \"500px\"))"
   ]
  },
  {
   "cell_type": "markdown",
   "metadata": {},
   "source": [
    "---\n",
    "\n",
    "#### General trend of retweets and favorites\n",
    "\n",
    "We will provide deeper insight into trends over time for number of retweets and favorites. \n",
    "\n",
    "Trump has announced candidacy on June 16th, 2015. We can observe that during his campaign his Twitter outreach has gained much traction, and peaking in his presidency."
   ]
  },
  {
   "cell_type": "code",
   "execution_count": 377,
   "metadata": {},
   "outputs": [
    {
     "data": {
      "text/html": [
       "\n",
       "        <iframe\n",
       "            width=\"100%\"\n",
       "            height=\"500px\"\n",
       "            src=\"html/favorite_rt_count_time.html\"\n",
       "            frameborder=\"0\"\n",
       "            allowfullscreen\n",
       "        ></iframe>\n",
       "        "
      ],
      "text/plain": [
       "<IPython.lib.display.IFrame at 0x22e990da3c8>"
      ]
     },
     "metadata": {},
     "output_type": "display_data"
    }
   ],
   "source": [
    "#tweets.plot(x='created_at',y=['favorite_count','retweet_count'], figsize=(15,8), title='Number of interactions per tweets over time')\n",
    "\n",
    "data = [go.Scatter(\n",
    "            x=tweets['created_at'],\n",
    "            y=tweets['favorite_count'],\n",
    "            name = 'Favorite count'\n",
    "    ),\n",
    "       go.Scatter(\n",
    "            x=tweets['created_at'],\n",
    "            y=tweets['retweet_count'],\n",
    "            name = 'Retweet count'\n",
    "    )]\n",
    "    \n",
    "layout = go.Layout(\n",
    "        title = 'Number of interactions per tweets over time',\n",
    "        yaxis = {'title': 'Count'},\n",
    "        xaxis = {'title': 'Created at'},\n",
    "    )\n",
    "    \n",
    "fig = go.Figure(data=data, layout=layout)\n",
    "plotly.offline.plot(fig, filename='html/favorite_rt_count_time.html')\n",
    "display(IFrame('html/favorite_rt_count_time.html', \"100%\", \"500px\"))"
   ]
  },
  {
   "cell_type": "code",
   "execution_count": 60,
   "metadata": {
    "scrolled": true
   },
   "outputs": [
    {
     "data": {
      "text/html": [
       "<div>\n",
       "<style>\n",
       "    .dataframe thead tr:only-child th {\n",
       "        text-align: right;\n",
       "    }\n",
       "\n",
       "    .dataframe thead th {\n",
       "        text-align: left;\n",
       "    }\n",
       "\n",
       "    .dataframe tbody tr th {\n",
       "        vertical-align: top;\n",
       "    }\n",
       "</style>\n",
       "<table border=\"1\" class=\"dataframe\">\n",
       "  <thead>\n",
       "    <tr style=\"text-align: right;\">\n",
       "      <th></th>\n",
       "      <th>index</th>\n",
       "      <th>contributors</th>\n",
       "      <th>favorite_count</th>\n",
       "      <th>favorited</th>\n",
       "      <th>id</th>\n",
       "      <th>id_str</th>\n",
       "      <th>in_reply_to_status_id</th>\n",
       "      <th>in_reply_to_status_id_str</th>\n",
       "      <th>in_reply_to_user_id</th>\n",
       "      <th>in_reply_to_user_id_str</th>\n",
       "      <th>is_quote_status</th>\n",
       "      <th>possibly_sensitive</th>\n",
       "      <th>quoted_status_id</th>\n",
       "      <th>quoted_status_id_str</th>\n",
       "      <th>retweet_count</th>\n",
       "      <th>retweeted</th>\n",
       "      <th>truncated</th>\n",
       "      <th>withheld_copyright</th>\n",
       "    </tr>\n",
       "  </thead>\n",
       "  <tbody>\n",
       "    <tr>\n",
       "      <th>index</th>\n",
       "      <td>1.000000</td>\n",
       "      <td>NaN</td>\n",
       "      <td>-0.261322</td>\n",
       "      <td>0.000909</td>\n",
       "      <td>-0.221023</td>\n",
       "      <td>-0.221023</td>\n",
       "      <td>-0.302681</td>\n",
       "      <td>-0.302681</td>\n",
       "      <td>0.029904</td>\n",
       "      <td>0.029904</td>\n",
       "      <td>-0.039926</td>\n",
       "      <td>NaN</td>\n",
       "      <td>-0.730338</td>\n",
       "      <td>-0.730338</td>\n",
       "      <td>-0.258619</td>\n",
       "      <td>0.002473</td>\n",
       "      <td>-0.088296</td>\n",
       "      <td>NaN</td>\n",
       "    </tr>\n",
       "    <tr>\n",
       "      <th>contributors</th>\n",
       "      <td>NaN</td>\n",
       "      <td>NaN</td>\n",
       "      <td>NaN</td>\n",
       "      <td>NaN</td>\n",
       "      <td>NaN</td>\n",
       "      <td>NaN</td>\n",
       "      <td>NaN</td>\n",
       "      <td>NaN</td>\n",
       "      <td>NaN</td>\n",
       "      <td>NaN</td>\n",
       "      <td>NaN</td>\n",
       "      <td>NaN</td>\n",
       "      <td>NaN</td>\n",
       "      <td>NaN</td>\n",
       "      <td>NaN</td>\n",
       "      <td>NaN</td>\n",
       "      <td>NaN</td>\n",
       "      <td>NaN</td>\n",
       "    </tr>\n",
       "    <tr>\n",
       "      <th>favorite_count</th>\n",
       "      <td>-0.261322</td>\n",
       "      <td>NaN</td>\n",
       "      <td>1.000000</td>\n",
       "      <td>-0.001854</td>\n",
       "      <td>0.534090</td>\n",
       "      <td>0.534090</td>\n",
       "      <td>0.773522</td>\n",
       "      <td>0.773522</td>\n",
       "      <td>-0.097066</td>\n",
       "      <td>-0.097066</td>\n",
       "      <td>0.024510</td>\n",
       "      <td>NaN</td>\n",
       "      <td>0.571317</td>\n",
       "      <td>0.571317</td>\n",
       "      <td>0.903566</td>\n",
       "      <td>-0.001004</td>\n",
       "      <td>0.142436</td>\n",
       "      <td>NaN</td>\n",
       "    </tr>\n",
       "    <tr>\n",
       "      <th>favorited</th>\n",
       "      <td>0.000909</td>\n",
       "      <td>NaN</td>\n",
       "      <td>-0.001854</td>\n",
       "      <td>1.000000</td>\n",
       "      <td>-0.009181</td>\n",
       "      <td>-0.009181</td>\n",
       "      <td>NaN</td>\n",
       "      <td>NaN</td>\n",
       "      <td>-0.017743</td>\n",
       "      <td>-0.017743</td>\n",
       "      <td>-0.000538</td>\n",
       "      <td>NaN</td>\n",
       "      <td>NaN</td>\n",
       "      <td>NaN</td>\n",
       "      <td>-0.001878</td>\n",
       "      <td>-0.000119</td>\n",
       "      <td>-0.000531</td>\n",
       "      <td>NaN</td>\n",
       "    </tr>\n",
       "    <tr>\n",
       "      <th>id</th>\n",
       "      <td>-0.221023</td>\n",
       "      <td>NaN</td>\n",
       "      <td>0.534090</td>\n",
       "      <td>-0.009181</td>\n",
       "      <td>1.000000</td>\n",
       "      <td>1.000000</td>\n",
       "      <td>0.999984</td>\n",
       "      <td>0.999984</td>\n",
       "      <td>0.050275</td>\n",
       "      <td>0.050275</td>\n",
       "      <td>0.105249</td>\n",
       "      <td>NaN</td>\n",
       "      <td>0.999156</td>\n",
       "      <td>0.999156</td>\n",
       "      <td>0.497248</td>\n",
       "      <td>-0.011119</td>\n",
       "      <td>0.149156</td>\n",
       "      <td>NaN</td>\n",
       "    </tr>\n",
       "    <tr>\n",
       "      <th>id_str</th>\n",
       "      <td>-0.221023</td>\n",
       "      <td>NaN</td>\n",
       "      <td>0.534090</td>\n",
       "      <td>-0.009181</td>\n",
       "      <td>1.000000</td>\n",
       "      <td>1.000000</td>\n",
       "      <td>0.999984</td>\n",
       "      <td>0.999984</td>\n",
       "      <td>0.050275</td>\n",
       "      <td>0.050275</td>\n",
       "      <td>0.105249</td>\n",
       "      <td>NaN</td>\n",
       "      <td>0.999156</td>\n",
       "      <td>0.999156</td>\n",
       "      <td>0.497248</td>\n",
       "      <td>-0.011119</td>\n",
       "      <td>0.149156</td>\n",
       "      <td>NaN</td>\n",
       "    </tr>\n",
       "    <tr>\n",
       "      <th>in_reply_to_status_id</th>\n",
       "      <td>-0.302681</td>\n",
       "      <td>NaN</td>\n",
       "      <td>0.773522</td>\n",
       "      <td>NaN</td>\n",
       "      <td>0.999984</td>\n",
       "      <td>0.999984</td>\n",
       "      <td>1.000000</td>\n",
       "      <td>1.000000</td>\n",
       "      <td>-0.002620</td>\n",
       "      <td>-0.002620</td>\n",
       "      <td>NaN</td>\n",
       "      <td>NaN</td>\n",
       "      <td>NaN</td>\n",
       "      <td>NaN</td>\n",
       "      <td>0.677532</td>\n",
       "      <td>NaN</td>\n",
       "      <td>NaN</td>\n",
       "      <td>NaN</td>\n",
       "    </tr>\n",
       "    <tr>\n",
       "      <th>in_reply_to_status_id_str</th>\n",
       "      <td>-0.302681</td>\n",
       "      <td>NaN</td>\n",
       "      <td>0.773522</td>\n",
       "      <td>NaN</td>\n",
       "      <td>0.999984</td>\n",
       "      <td>0.999984</td>\n",
       "      <td>1.000000</td>\n",
       "      <td>1.000000</td>\n",
       "      <td>-0.002620</td>\n",
       "      <td>-0.002620</td>\n",
       "      <td>NaN</td>\n",
       "      <td>NaN</td>\n",
       "      <td>NaN</td>\n",
       "      <td>NaN</td>\n",
       "      <td>0.677532</td>\n",
       "      <td>NaN</td>\n",
       "      <td>NaN</td>\n",
       "      <td>NaN</td>\n",
       "    </tr>\n",
       "    <tr>\n",
       "      <th>in_reply_to_user_id</th>\n",
       "      <td>0.029904</td>\n",
       "      <td>NaN</td>\n",
       "      <td>-0.097066</td>\n",
       "      <td>-0.017743</td>\n",
       "      <td>0.050275</td>\n",
       "      <td>0.050275</td>\n",
       "      <td>-0.002620</td>\n",
       "      <td>-0.002620</td>\n",
       "      <td>1.000000</td>\n",
       "      <td>1.000000</td>\n",
       "      <td>NaN</td>\n",
       "      <td>NaN</td>\n",
       "      <td>NaN</td>\n",
       "      <td>NaN</td>\n",
       "      <td>-0.086063</td>\n",
       "      <td>NaN</td>\n",
       "      <td>NaN</td>\n",
       "      <td>NaN</td>\n",
       "    </tr>\n",
       "    <tr>\n",
       "      <th>in_reply_to_user_id_str</th>\n",
       "      <td>0.029904</td>\n",
       "      <td>NaN</td>\n",
       "      <td>-0.097066</td>\n",
       "      <td>-0.017743</td>\n",
       "      <td>0.050275</td>\n",
       "      <td>0.050275</td>\n",
       "      <td>-0.002620</td>\n",
       "      <td>-0.002620</td>\n",
       "      <td>1.000000</td>\n",
       "      <td>1.000000</td>\n",
       "      <td>NaN</td>\n",
       "      <td>NaN</td>\n",
       "      <td>NaN</td>\n",
       "      <td>NaN</td>\n",
       "      <td>-0.086063</td>\n",
       "      <td>NaN</td>\n",
       "      <td>NaN</td>\n",
       "      <td>NaN</td>\n",
       "    </tr>\n",
       "    <tr>\n",
       "      <th>is_quote_status</th>\n",
       "      <td>-0.039926</td>\n",
       "      <td>NaN</td>\n",
       "      <td>0.024510</td>\n",
       "      <td>-0.000538</td>\n",
       "      <td>0.105249</td>\n",
       "      <td>0.105249</td>\n",
       "      <td>NaN</td>\n",
       "      <td>NaN</td>\n",
       "      <td>NaN</td>\n",
       "      <td>NaN</td>\n",
       "      <td>1.000000</td>\n",
       "      <td>NaN</td>\n",
       "      <td>NaN</td>\n",
       "      <td>NaN</td>\n",
       "      <td>0.029056</td>\n",
       "      <td>-0.002083</td>\n",
       "      <td>0.004189</td>\n",
       "      <td>NaN</td>\n",
       "    </tr>\n",
       "    <tr>\n",
       "      <th>possibly_sensitive</th>\n",
       "      <td>NaN</td>\n",
       "      <td>NaN</td>\n",
       "      <td>NaN</td>\n",
       "      <td>NaN</td>\n",
       "      <td>NaN</td>\n",
       "      <td>NaN</td>\n",
       "      <td>NaN</td>\n",
       "      <td>NaN</td>\n",
       "      <td>NaN</td>\n",
       "      <td>NaN</td>\n",
       "      <td>NaN</td>\n",
       "      <td>NaN</td>\n",
       "      <td>NaN</td>\n",
       "      <td>NaN</td>\n",
       "      <td>NaN</td>\n",
       "      <td>NaN</td>\n",
       "      <td>NaN</td>\n",
       "      <td>NaN</td>\n",
       "    </tr>\n",
       "    <tr>\n",
       "      <th>quoted_status_id</th>\n",
       "      <td>-0.730338</td>\n",
       "      <td>NaN</td>\n",
       "      <td>0.571317</td>\n",
       "      <td>NaN</td>\n",
       "      <td>0.999156</td>\n",
       "      <td>0.999156</td>\n",
       "      <td>NaN</td>\n",
       "      <td>NaN</td>\n",
       "      <td>NaN</td>\n",
       "      <td>NaN</td>\n",
       "      <td>NaN</td>\n",
       "      <td>NaN</td>\n",
       "      <td>1.000000</td>\n",
       "      <td>1.000000</td>\n",
       "      <td>0.400032</td>\n",
       "      <td>NaN</td>\n",
       "      <td>0.111463</td>\n",
       "      <td>NaN</td>\n",
       "    </tr>\n",
       "    <tr>\n",
       "      <th>quoted_status_id_str</th>\n",
       "      <td>-0.730338</td>\n",
       "      <td>NaN</td>\n",
       "      <td>0.571317</td>\n",
       "      <td>NaN</td>\n",
       "      <td>0.999156</td>\n",
       "      <td>0.999156</td>\n",
       "      <td>NaN</td>\n",
       "      <td>NaN</td>\n",
       "      <td>NaN</td>\n",
       "      <td>NaN</td>\n",
       "      <td>NaN</td>\n",
       "      <td>NaN</td>\n",
       "      <td>1.000000</td>\n",
       "      <td>1.000000</td>\n",
       "      <td>0.400032</td>\n",
       "      <td>NaN</td>\n",
       "      <td>0.111463</td>\n",
       "      <td>NaN</td>\n",
       "    </tr>\n",
       "    <tr>\n",
       "      <th>retweet_count</th>\n",
       "      <td>-0.258619</td>\n",
       "      <td>NaN</td>\n",
       "      <td>0.903566</td>\n",
       "      <td>-0.001878</td>\n",
       "      <td>0.497248</td>\n",
       "      <td>0.497248</td>\n",
       "      <td>0.677532</td>\n",
       "      <td>0.677532</td>\n",
       "      <td>-0.086063</td>\n",
       "      <td>-0.086063</td>\n",
       "      <td>0.029056</td>\n",
       "      <td>NaN</td>\n",
       "      <td>0.400032</td>\n",
       "      <td>0.400032</td>\n",
       "      <td>1.000000</td>\n",
       "      <td>0.019275</td>\n",
       "      <td>0.134038</td>\n",
       "      <td>NaN</td>\n",
       "    </tr>\n",
       "    <tr>\n",
       "      <th>retweeted</th>\n",
       "      <td>0.002473</td>\n",
       "      <td>NaN</td>\n",
       "      <td>-0.001004</td>\n",
       "      <td>-0.000119</td>\n",
       "      <td>-0.011119</td>\n",
       "      <td>-0.011119</td>\n",
       "      <td>NaN</td>\n",
       "      <td>NaN</td>\n",
       "      <td>NaN</td>\n",
       "      <td>NaN</td>\n",
       "      <td>-0.002083</td>\n",
       "      <td>NaN</td>\n",
       "      <td>NaN</td>\n",
       "      <td>NaN</td>\n",
       "      <td>0.019275</td>\n",
       "      <td>1.000000</td>\n",
       "      <td>-0.002058</td>\n",
       "      <td>NaN</td>\n",
       "    </tr>\n",
       "    <tr>\n",
       "      <th>truncated</th>\n",
       "      <td>-0.088296</td>\n",
       "      <td>NaN</td>\n",
       "      <td>0.142436</td>\n",
       "      <td>-0.000531</td>\n",
       "      <td>0.149156</td>\n",
       "      <td>0.149156</td>\n",
       "      <td>NaN</td>\n",
       "      <td>NaN</td>\n",
       "      <td>NaN</td>\n",
       "      <td>NaN</td>\n",
       "      <td>0.004189</td>\n",
       "      <td>NaN</td>\n",
       "      <td>0.111463</td>\n",
       "      <td>0.111463</td>\n",
       "      <td>0.134038</td>\n",
       "      <td>-0.002058</td>\n",
       "      <td>1.000000</td>\n",
       "      <td>NaN</td>\n",
       "    </tr>\n",
       "    <tr>\n",
       "      <th>withheld_copyright</th>\n",
       "      <td>NaN</td>\n",
       "      <td>NaN</td>\n",
       "      <td>NaN</td>\n",
       "      <td>NaN</td>\n",
       "      <td>NaN</td>\n",
       "      <td>NaN</td>\n",
       "      <td>NaN</td>\n",
       "      <td>NaN</td>\n",
       "      <td>NaN</td>\n",
       "      <td>NaN</td>\n",
       "      <td>NaN</td>\n",
       "      <td>NaN</td>\n",
       "      <td>NaN</td>\n",
       "      <td>NaN</td>\n",
       "      <td>NaN</td>\n",
       "      <td>NaN</td>\n",
       "      <td>NaN</td>\n",
       "      <td>NaN</td>\n",
       "    </tr>\n",
       "  </tbody>\n",
       "</table>\n",
       "</div>"
      ],
      "text/plain": [
       "                              index  contributors  favorite_count  favorited  \\\n",
       "index                      1.000000           NaN       -0.261322   0.000909   \n",
       "contributors                    NaN           NaN             NaN        NaN   \n",
       "favorite_count            -0.261322           NaN        1.000000  -0.001854   \n",
       "favorited                  0.000909           NaN       -0.001854   1.000000   \n",
       "id                        -0.221023           NaN        0.534090  -0.009181   \n",
       "id_str                    -0.221023           NaN        0.534090  -0.009181   \n",
       "in_reply_to_status_id     -0.302681           NaN        0.773522        NaN   \n",
       "in_reply_to_status_id_str -0.302681           NaN        0.773522        NaN   \n",
       "in_reply_to_user_id        0.029904           NaN       -0.097066  -0.017743   \n",
       "in_reply_to_user_id_str    0.029904           NaN       -0.097066  -0.017743   \n",
       "is_quote_status           -0.039926           NaN        0.024510  -0.000538   \n",
       "possibly_sensitive              NaN           NaN             NaN        NaN   \n",
       "quoted_status_id          -0.730338           NaN        0.571317        NaN   \n",
       "quoted_status_id_str      -0.730338           NaN        0.571317        NaN   \n",
       "retweet_count             -0.258619           NaN        0.903566  -0.001878   \n",
       "retweeted                  0.002473           NaN       -0.001004  -0.000119   \n",
       "truncated                 -0.088296           NaN        0.142436  -0.000531   \n",
       "withheld_copyright              NaN           NaN             NaN        NaN   \n",
       "\n",
       "                                 id    id_str  in_reply_to_status_id  \\\n",
       "index                     -0.221023 -0.221023              -0.302681   \n",
       "contributors                    NaN       NaN                    NaN   \n",
       "favorite_count             0.534090  0.534090               0.773522   \n",
       "favorited                 -0.009181 -0.009181                    NaN   \n",
       "id                         1.000000  1.000000               0.999984   \n",
       "id_str                     1.000000  1.000000               0.999984   \n",
       "in_reply_to_status_id      0.999984  0.999984               1.000000   \n",
       "in_reply_to_status_id_str  0.999984  0.999984               1.000000   \n",
       "in_reply_to_user_id        0.050275  0.050275              -0.002620   \n",
       "in_reply_to_user_id_str    0.050275  0.050275              -0.002620   \n",
       "is_quote_status            0.105249  0.105249                    NaN   \n",
       "possibly_sensitive              NaN       NaN                    NaN   \n",
       "quoted_status_id           0.999156  0.999156                    NaN   \n",
       "quoted_status_id_str       0.999156  0.999156                    NaN   \n",
       "retweet_count              0.497248  0.497248               0.677532   \n",
       "retweeted                 -0.011119 -0.011119                    NaN   \n",
       "truncated                  0.149156  0.149156                    NaN   \n",
       "withheld_copyright              NaN       NaN                    NaN   \n",
       "\n",
       "                           in_reply_to_status_id_str  in_reply_to_user_id  \\\n",
       "index                                      -0.302681             0.029904   \n",
       "contributors                                     NaN                  NaN   \n",
       "favorite_count                              0.773522            -0.097066   \n",
       "favorited                                        NaN            -0.017743   \n",
       "id                                          0.999984             0.050275   \n",
       "id_str                                      0.999984             0.050275   \n",
       "in_reply_to_status_id                       1.000000            -0.002620   \n",
       "in_reply_to_status_id_str                   1.000000            -0.002620   \n",
       "in_reply_to_user_id                        -0.002620             1.000000   \n",
       "in_reply_to_user_id_str                    -0.002620             1.000000   \n",
       "is_quote_status                                  NaN                  NaN   \n",
       "possibly_sensitive                               NaN                  NaN   \n",
       "quoted_status_id                                 NaN                  NaN   \n",
       "quoted_status_id_str                             NaN                  NaN   \n",
       "retweet_count                               0.677532            -0.086063   \n",
       "retweeted                                        NaN                  NaN   \n",
       "truncated                                        NaN                  NaN   \n",
       "withheld_copyright                               NaN                  NaN   \n",
       "\n",
       "                           in_reply_to_user_id_str  is_quote_status  \\\n",
       "index                                     0.029904        -0.039926   \n",
       "contributors                                   NaN              NaN   \n",
       "favorite_count                           -0.097066         0.024510   \n",
       "favorited                                -0.017743        -0.000538   \n",
       "id                                        0.050275         0.105249   \n",
       "id_str                                    0.050275         0.105249   \n",
       "in_reply_to_status_id                    -0.002620              NaN   \n",
       "in_reply_to_status_id_str                -0.002620              NaN   \n",
       "in_reply_to_user_id                       1.000000              NaN   \n",
       "in_reply_to_user_id_str                   1.000000              NaN   \n",
       "is_quote_status                                NaN         1.000000   \n",
       "possibly_sensitive                             NaN              NaN   \n",
       "quoted_status_id                               NaN              NaN   \n",
       "quoted_status_id_str                           NaN              NaN   \n",
       "retweet_count                            -0.086063         0.029056   \n",
       "retweeted                                      NaN        -0.002083   \n",
       "truncated                                      NaN         0.004189   \n",
       "withheld_copyright                             NaN              NaN   \n",
       "\n",
       "                           possibly_sensitive  quoted_status_id  \\\n",
       "index                                     NaN         -0.730338   \n",
       "contributors                              NaN               NaN   \n",
       "favorite_count                            NaN          0.571317   \n",
       "favorited                                 NaN               NaN   \n",
       "id                                        NaN          0.999156   \n",
       "id_str                                    NaN          0.999156   \n",
       "in_reply_to_status_id                     NaN               NaN   \n",
       "in_reply_to_status_id_str                 NaN               NaN   \n",
       "in_reply_to_user_id                       NaN               NaN   \n",
       "in_reply_to_user_id_str                   NaN               NaN   \n",
       "is_quote_status                           NaN               NaN   \n",
       "possibly_sensitive                        NaN               NaN   \n",
       "quoted_status_id                          NaN          1.000000   \n",
       "quoted_status_id_str                      NaN          1.000000   \n",
       "retweet_count                             NaN          0.400032   \n",
       "retweeted                                 NaN               NaN   \n",
       "truncated                                 NaN          0.111463   \n",
       "withheld_copyright                        NaN               NaN   \n",
       "\n",
       "                           quoted_status_id_str  retweet_count  retweeted  \\\n",
       "index                                 -0.730338      -0.258619   0.002473   \n",
       "contributors                                NaN            NaN        NaN   \n",
       "favorite_count                         0.571317       0.903566  -0.001004   \n",
       "favorited                                   NaN      -0.001878  -0.000119   \n",
       "id                                     0.999156       0.497248  -0.011119   \n",
       "id_str                                 0.999156       0.497248  -0.011119   \n",
       "in_reply_to_status_id                       NaN       0.677532        NaN   \n",
       "in_reply_to_status_id_str                   NaN       0.677532        NaN   \n",
       "in_reply_to_user_id                         NaN      -0.086063        NaN   \n",
       "in_reply_to_user_id_str                     NaN      -0.086063        NaN   \n",
       "is_quote_status                             NaN       0.029056  -0.002083   \n",
       "possibly_sensitive                          NaN            NaN        NaN   \n",
       "quoted_status_id                       1.000000       0.400032        NaN   \n",
       "quoted_status_id_str                   1.000000       0.400032        NaN   \n",
       "retweet_count                          0.400032       1.000000   0.019275   \n",
       "retweeted                                   NaN       0.019275   1.000000   \n",
       "truncated                              0.111463       0.134038  -0.002058   \n",
       "withheld_copyright                          NaN            NaN        NaN   \n",
       "\n",
       "                           truncated  withheld_copyright  \n",
       "index                      -0.088296                 NaN  \n",
       "contributors                     NaN                 NaN  \n",
       "favorite_count              0.142436                 NaN  \n",
       "favorited                  -0.000531                 NaN  \n",
       "id                          0.149156                 NaN  \n",
       "id_str                      0.149156                 NaN  \n",
       "in_reply_to_status_id            NaN                 NaN  \n",
       "in_reply_to_status_id_str        NaN                 NaN  \n",
       "in_reply_to_user_id              NaN                 NaN  \n",
       "in_reply_to_user_id_str          NaN                 NaN  \n",
       "is_quote_status             0.004189                 NaN  \n",
       "possibly_sensitive               NaN                 NaN  \n",
       "quoted_status_id            0.111463                 NaN  \n",
       "quoted_status_id_str        0.111463                 NaN  \n",
       "retweet_count               0.134038                 NaN  \n",
       "retweeted                  -0.002058                 NaN  \n",
       "truncated                   1.000000                 NaN  \n",
       "withheld_copyright               NaN                 NaN  "
      ]
     },
     "execution_count": 60,
     "metadata": {},
     "output_type": "execute_result"
    }
   ],
   "source": [
    "tweets.corr()"
   ]
  },
  {
   "cell_type": "markdown",
   "metadata": {},
   "source": [
    "We can see a strong correlation between number of favorites and retweets: 0.903, and rather high correlation between favorite counts and if a tweet represents a reply to other tweed (in_reply_to_status): 0.773.\n",
    "\n",
    "##### Observing different devices\n",
    "\n",
    "Android device shows higher correlation between the retweet_count and favorite_count in comparison to iPhone. This is an indicator over the whole available period."
   ]
  },
  {
   "cell_type": "code",
   "execution_count": 61,
   "metadata": {
    "scrolled": true
   },
   "outputs": [
    {
     "data": {
      "text/html": [
       "<div>\n",
       "<style>\n",
       "    .dataframe thead tr:only-child th {\n",
       "        text-align: right;\n",
       "    }\n",
       "\n",
       "    .dataframe thead th {\n",
       "        text-align: left;\n",
       "    }\n",
       "\n",
       "    .dataframe tbody tr th {\n",
       "        vertical-align: top;\n",
       "    }\n",
       "</style>\n",
       "<table border=\"1\" class=\"dataframe\">\n",
       "  <thead>\n",
       "    <tr style=\"text-align: right;\">\n",
       "      <th></th>\n",
       "      <th>index</th>\n",
       "      <th>contributors</th>\n",
       "      <th>favorite_count</th>\n",
       "      <th>favorited</th>\n",
       "      <th>id</th>\n",
       "      <th>id_str</th>\n",
       "      <th>in_reply_to_status_id</th>\n",
       "      <th>in_reply_to_status_id_str</th>\n",
       "      <th>in_reply_to_user_id</th>\n",
       "      <th>in_reply_to_user_id_str</th>\n",
       "      <th>is_quote_status</th>\n",
       "      <th>possibly_sensitive</th>\n",
       "      <th>quoted_status_id</th>\n",
       "      <th>quoted_status_id_str</th>\n",
       "      <th>retweet_count</th>\n",
       "      <th>retweeted</th>\n",
       "      <th>truncated</th>\n",
       "      <th>withheld_copyright</th>\n",
       "    </tr>\n",
       "  </thead>\n",
       "  <tbody>\n",
       "    <tr>\n",
       "      <th>index</th>\n",
       "      <td>1.000000</td>\n",
       "      <td>NaN</td>\n",
       "      <td>-0.209567</td>\n",
       "      <td>NaN</td>\n",
       "      <td>-0.288227</td>\n",
       "      <td>-0.288227</td>\n",
       "      <td>-0.429274</td>\n",
       "      <td>-0.429274</td>\n",
       "      <td>-0.057367</td>\n",
       "      <td>-0.057367</td>\n",
       "      <td>-0.033505</td>\n",
       "      <td>NaN</td>\n",
       "      <td>-0.335665</td>\n",
       "      <td>-0.335665</td>\n",
       "      <td>-0.208648</td>\n",
       "      <td>-0.000660</td>\n",
       "      <td>NaN</td>\n",
       "      <td>NaN</td>\n",
       "    </tr>\n",
       "    <tr>\n",
       "      <th>contributors</th>\n",
       "      <td>NaN</td>\n",
       "      <td>NaN</td>\n",
       "      <td>NaN</td>\n",
       "      <td>NaN</td>\n",
       "      <td>NaN</td>\n",
       "      <td>NaN</td>\n",
       "      <td>NaN</td>\n",
       "      <td>NaN</td>\n",
       "      <td>NaN</td>\n",
       "      <td>NaN</td>\n",
       "      <td>NaN</td>\n",
       "      <td>NaN</td>\n",
       "      <td>NaN</td>\n",
       "      <td>NaN</td>\n",
       "      <td>NaN</td>\n",
       "      <td>NaN</td>\n",
       "      <td>NaN</td>\n",
       "      <td>NaN</td>\n",
       "    </tr>\n",
       "    <tr>\n",
       "      <th>favorite_count</th>\n",
       "      <td>-0.209567</td>\n",
       "      <td>NaN</td>\n",
       "      <td>1.000000</td>\n",
       "      <td>NaN</td>\n",
       "      <td>0.458738</td>\n",
       "      <td>0.458738</td>\n",
       "      <td>-0.042335</td>\n",
       "      <td>-0.042335</td>\n",
       "      <td>-0.052756</td>\n",
       "      <td>-0.052756</td>\n",
       "      <td>-0.008615</td>\n",
       "      <td>NaN</td>\n",
       "      <td>0.805481</td>\n",
       "      <td>0.805481</td>\n",
       "      <td>0.928551</td>\n",
       "      <td>-0.000167</td>\n",
       "      <td>NaN</td>\n",
       "      <td>NaN</td>\n",
       "    </tr>\n",
       "    <tr>\n",
       "      <th>favorited</th>\n",
       "      <td>NaN</td>\n",
       "      <td>NaN</td>\n",
       "      <td>NaN</td>\n",
       "      <td>NaN</td>\n",
       "      <td>NaN</td>\n",
       "      <td>NaN</td>\n",
       "      <td>NaN</td>\n",
       "      <td>NaN</td>\n",
       "      <td>NaN</td>\n",
       "      <td>NaN</td>\n",
       "      <td>NaN</td>\n",
       "      <td>NaN</td>\n",
       "      <td>NaN</td>\n",
       "      <td>NaN</td>\n",
       "      <td>NaN</td>\n",
       "      <td>NaN</td>\n",
       "      <td>NaN</td>\n",
       "      <td>NaN</td>\n",
       "    </tr>\n",
       "    <tr>\n",
       "      <th>id</th>\n",
       "      <td>-0.288227</td>\n",
       "      <td>NaN</td>\n",
       "      <td>0.458738</td>\n",
       "      <td>NaN</td>\n",
       "      <td>1.000000</td>\n",
       "      <td>1.000000</td>\n",
       "      <td>0.999992</td>\n",
       "      <td>0.999992</td>\n",
       "      <td>-0.000601</td>\n",
       "      <td>-0.000601</td>\n",
       "      <td>0.067833</td>\n",
       "      <td>NaN</td>\n",
       "      <td>0.999436</td>\n",
       "      <td>0.999436</td>\n",
       "      <td>0.424499</td>\n",
       "      <td>-0.008387</td>\n",
       "      <td>NaN</td>\n",
       "      <td>NaN</td>\n",
       "    </tr>\n",
       "    <tr>\n",
       "      <th>id_str</th>\n",
       "      <td>-0.288227</td>\n",
       "      <td>NaN</td>\n",
       "      <td>0.458738</td>\n",
       "      <td>NaN</td>\n",
       "      <td>1.000000</td>\n",
       "      <td>1.000000</td>\n",
       "      <td>0.999992</td>\n",
       "      <td>0.999992</td>\n",
       "      <td>-0.000601</td>\n",
       "      <td>-0.000601</td>\n",
       "      <td>0.067833</td>\n",
       "      <td>NaN</td>\n",
       "      <td>0.999436</td>\n",
       "      <td>0.999436</td>\n",
       "      <td>0.424499</td>\n",
       "      <td>-0.008387</td>\n",
       "      <td>NaN</td>\n",
       "      <td>NaN</td>\n",
       "    </tr>\n",
       "    <tr>\n",
       "      <th>in_reply_to_status_id</th>\n",
       "      <td>-0.429274</td>\n",
       "      <td>NaN</td>\n",
       "      <td>-0.042335</td>\n",
       "      <td>NaN</td>\n",
       "      <td>0.999992</td>\n",
       "      <td>0.999992</td>\n",
       "      <td>1.000000</td>\n",
       "      <td>1.000000</td>\n",
       "      <td>0.048942</td>\n",
       "      <td>0.048942</td>\n",
       "      <td>NaN</td>\n",
       "      <td>NaN</td>\n",
       "      <td>NaN</td>\n",
       "      <td>NaN</td>\n",
       "      <td>-0.048998</td>\n",
       "      <td>NaN</td>\n",
       "      <td>NaN</td>\n",
       "      <td>NaN</td>\n",
       "    </tr>\n",
       "    <tr>\n",
       "      <th>in_reply_to_status_id_str</th>\n",
       "      <td>-0.429274</td>\n",
       "      <td>NaN</td>\n",
       "      <td>-0.042335</td>\n",
       "      <td>NaN</td>\n",
       "      <td>0.999992</td>\n",
       "      <td>0.999992</td>\n",
       "      <td>1.000000</td>\n",
       "      <td>1.000000</td>\n",
       "      <td>0.048942</td>\n",
       "      <td>0.048942</td>\n",
       "      <td>NaN</td>\n",
       "      <td>NaN</td>\n",
       "      <td>NaN</td>\n",
       "      <td>NaN</td>\n",
       "      <td>-0.048998</td>\n",
       "      <td>NaN</td>\n",
       "      <td>NaN</td>\n",
       "      <td>NaN</td>\n",
       "    </tr>\n",
       "    <tr>\n",
       "      <th>in_reply_to_user_id</th>\n",
       "      <td>-0.057367</td>\n",
       "      <td>NaN</td>\n",
       "      <td>-0.052756</td>\n",
       "      <td>NaN</td>\n",
       "      <td>-0.000601</td>\n",
       "      <td>-0.000601</td>\n",
       "      <td>0.048942</td>\n",
       "      <td>0.048942</td>\n",
       "      <td>1.000000</td>\n",
       "      <td>1.000000</td>\n",
       "      <td>NaN</td>\n",
       "      <td>NaN</td>\n",
       "      <td>NaN</td>\n",
       "      <td>NaN</td>\n",
       "      <td>-0.066467</td>\n",
       "      <td>NaN</td>\n",
       "      <td>NaN</td>\n",
       "      <td>NaN</td>\n",
       "    </tr>\n",
       "    <tr>\n",
       "      <th>in_reply_to_user_id_str</th>\n",
       "      <td>-0.057367</td>\n",
       "      <td>NaN</td>\n",
       "      <td>-0.052756</td>\n",
       "      <td>NaN</td>\n",
       "      <td>-0.000601</td>\n",
       "      <td>-0.000601</td>\n",
       "      <td>0.048942</td>\n",
       "      <td>0.048942</td>\n",
       "      <td>1.000000</td>\n",
       "      <td>1.000000</td>\n",
       "      <td>NaN</td>\n",
       "      <td>NaN</td>\n",
       "      <td>NaN</td>\n",
       "      <td>NaN</td>\n",
       "      <td>-0.066467</td>\n",
       "      <td>NaN</td>\n",
       "      <td>NaN</td>\n",
       "      <td>NaN</td>\n",
       "    </tr>\n",
       "    <tr>\n",
       "      <th>is_quote_status</th>\n",
       "      <td>-0.033505</td>\n",
       "      <td>NaN</td>\n",
       "      <td>-0.008615</td>\n",
       "      <td>NaN</td>\n",
       "      <td>0.067833</td>\n",
       "      <td>0.067833</td>\n",
       "      <td>NaN</td>\n",
       "      <td>NaN</td>\n",
       "      <td>NaN</td>\n",
       "      <td>NaN</td>\n",
       "      <td>1.000000</td>\n",
       "      <td>NaN</td>\n",
       "      <td>NaN</td>\n",
       "      <td>NaN</td>\n",
       "      <td>-0.004091</td>\n",
       "      <td>-0.001611</td>\n",
       "      <td>NaN</td>\n",
       "      <td>NaN</td>\n",
       "    </tr>\n",
       "    <tr>\n",
       "      <th>possibly_sensitive</th>\n",
       "      <td>NaN</td>\n",
       "      <td>NaN</td>\n",
       "      <td>NaN</td>\n",
       "      <td>NaN</td>\n",
       "      <td>NaN</td>\n",
       "      <td>NaN</td>\n",
       "      <td>NaN</td>\n",
       "      <td>NaN</td>\n",
       "      <td>NaN</td>\n",
       "      <td>NaN</td>\n",
       "      <td>NaN</td>\n",
       "      <td>NaN</td>\n",
       "      <td>NaN</td>\n",
       "      <td>NaN</td>\n",
       "      <td>NaN</td>\n",
       "      <td>NaN</td>\n",
       "      <td>NaN</td>\n",
       "      <td>NaN</td>\n",
       "    </tr>\n",
       "    <tr>\n",
       "      <th>quoted_status_id</th>\n",
       "      <td>-0.335665</td>\n",
       "      <td>NaN</td>\n",
       "      <td>0.805481</td>\n",
       "      <td>NaN</td>\n",
       "      <td>0.999436</td>\n",
       "      <td>0.999436</td>\n",
       "      <td>NaN</td>\n",
       "      <td>NaN</td>\n",
       "      <td>NaN</td>\n",
       "      <td>NaN</td>\n",
       "      <td>NaN</td>\n",
       "      <td>NaN</td>\n",
       "      <td>1.000000</td>\n",
       "      <td>1.000000</td>\n",
       "      <td>0.730945</td>\n",
       "      <td>NaN</td>\n",
       "      <td>NaN</td>\n",
       "      <td>NaN</td>\n",
       "    </tr>\n",
       "    <tr>\n",
       "      <th>quoted_status_id_str</th>\n",
       "      <td>-0.335665</td>\n",
       "      <td>NaN</td>\n",
       "      <td>0.805481</td>\n",
       "      <td>NaN</td>\n",
       "      <td>0.999436</td>\n",
       "      <td>0.999436</td>\n",
       "      <td>NaN</td>\n",
       "      <td>NaN</td>\n",
       "      <td>NaN</td>\n",
       "      <td>NaN</td>\n",
       "      <td>NaN</td>\n",
       "      <td>NaN</td>\n",
       "      <td>1.000000</td>\n",
       "      <td>1.000000</td>\n",
       "      <td>0.730945</td>\n",
       "      <td>NaN</td>\n",
       "      <td>NaN</td>\n",
       "      <td>NaN</td>\n",
       "    </tr>\n",
       "    <tr>\n",
       "      <th>retweet_count</th>\n",
       "      <td>-0.208648</td>\n",
       "      <td>NaN</td>\n",
       "      <td>0.928551</td>\n",
       "      <td>NaN</td>\n",
       "      <td>0.424499</td>\n",
       "      <td>0.424499</td>\n",
       "      <td>-0.048998</td>\n",
       "      <td>-0.048998</td>\n",
       "      <td>-0.066467</td>\n",
       "      <td>-0.066467</td>\n",
       "      <td>-0.004091</td>\n",
       "      <td>NaN</td>\n",
       "      <td>0.730945</td>\n",
       "      <td>0.730945</td>\n",
       "      <td>1.000000</td>\n",
       "      <td>0.008066</td>\n",
       "      <td>NaN</td>\n",
       "      <td>NaN</td>\n",
       "    </tr>\n",
       "    <tr>\n",
       "      <th>retweeted</th>\n",
       "      <td>-0.000660</td>\n",
       "      <td>NaN</td>\n",
       "      <td>-0.000167</td>\n",
       "      <td>NaN</td>\n",
       "      <td>-0.008387</td>\n",
       "      <td>-0.008387</td>\n",
       "      <td>NaN</td>\n",
       "      <td>NaN</td>\n",
       "      <td>NaN</td>\n",
       "      <td>NaN</td>\n",
       "      <td>-0.001611</td>\n",
       "      <td>NaN</td>\n",
       "      <td>NaN</td>\n",
       "      <td>NaN</td>\n",
       "      <td>0.008066</td>\n",
       "      <td>1.000000</td>\n",
       "      <td>NaN</td>\n",
       "      <td>NaN</td>\n",
       "    </tr>\n",
       "    <tr>\n",
       "      <th>truncated</th>\n",
       "      <td>NaN</td>\n",
       "      <td>NaN</td>\n",
       "      <td>NaN</td>\n",
       "      <td>NaN</td>\n",
       "      <td>NaN</td>\n",
       "      <td>NaN</td>\n",
       "      <td>NaN</td>\n",
       "      <td>NaN</td>\n",
       "      <td>NaN</td>\n",
       "      <td>NaN</td>\n",
       "      <td>NaN</td>\n",
       "      <td>NaN</td>\n",
       "      <td>NaN</td>\n",
       "      <td>NaN</td>\n",
       "      <td>NaN</td>\n",
       "      <td>NaN</td>\n",
       "      <td>NaN</td>\n",
       "      <td>NaN</td>\n",
       "    </tr>\n",
       "    <tr>\n",
       "      <th>withheld_copyright</th>\n",
       "      <td>NaN</td>\n",
       "      <td>NaN</td>\n",
       "      <td>NaN</td>\n",
       "      <td>NaN</td>\n",
       "      <td>NaN</td>\n",
       "      <td>NaN</td>\n",
       "      <td>NaN</td>\n",
       "      <td>NaN</td>\n",
       "      <td>NaN</td>\n",
       "      <td>NaN</td>\n",
       "      <td>NaN</td>\n",
       "      <td>NaN</td>\n",
       "      <td>NaN</td>\n",
       "      <td>NaN</td>\n",
       "      <td>NaN</td>\n",
       "      <td>NaN</td>\n",
       "      <td>NaN</td>\n",
       "      <td>NaN</td>\n",
       "    </tr>\n",
       "  </tbody>\n",
       "</table>\n",
       "</div>"
      ],
      "text/plain": [
       "                              index  contributors  favorite_count  favorited  \\\n",
       "index                      1.000000           NaN       -0.209567        NaN   \n",
       "contributors                    NaN           NaN             NaN        NaN   \n",
       "favorite_count            -0.209567           NaN        1.000000        NaN   \n",
       "favorited                       NaN           NaN             NaN        NaN   \n",
       "id                        -0.288227           NaN        0.458738        NaN   \n",
       "id_str                    -0.288227           NaN        0.458738        NaN   \n",
       "in_reply_to_status_id     -0.429274           NaN       -0.042335        NaN   \n",
       "in_reply_to_status_id_str -0.429274           NaN       -0.042335        NaN   \n",
       "in_reply_to_user_id       -0.057367           NaN       -0.052756        NaN   \n",
       "in_reply_to_user_id_str   -0.057367           NaN       -0.052756        NaN   \n",
       "is_quote_status           -0.033505           NaN       -0.008615        NaN   \n",
       "possibly_sensitive              NaN           NaN             NaN        NaN   \n",
       "quoted_status_id          -0.335665           NaN        0.805481        NaN   \n",
       "quoted_status_id_str      -0.335665           NaN        0.805481        NaN   \n",
       "retweet_count             -0.208648           NaN        0.928551        NaN   \n",
       "retweeted                 -0.000660           NaN       -0.000167        NaN   \n",
       "truncated                       NaN           NaN             NaN        NaN   \n",
       "withheld_copyright              NaN           NaN             NaN        NaN   \n",
       "\n",
       "                                 id    id_str  in_reply_to_status_id  \\\n",
       "index                     -0.288227 -0.288227              -0.429274   \n",
       "contributors                    NaN       NaN                    NaN   \n",
       "favorite_count             0.458738  0.458738              -0.042335   \n",
       "favorited                       NaN       NaN                    NaN   \n",
       "id                         1.000000  1.000000               0.999992   \n",
       "id_str                     1.000000  1.000000               0.999992   \n",
       "in_reply_to_status_id      0.999992  0.999992               1.000000   \n",
       "in_reply_to_status_id_str  0.999992  0.999992               1.000000   \n",
       "in_reply_to_user_id       -0.000601 -0.000601               0.048942   \n",
       "in_reply_to_user_id_str   -0.000601 -0.000601               0.048942   \n",
       "is_quote_status            0.067833  0.067833                    NaN   \n",
       "possibly_sensitive              NaN       NaN                    NaN   \n",
       "quoted_status_id           0.999436  0.999436                    NaN   \n",
       "quoted_status_id_str       0.999436  0.999436                    NaN   \n",
       "retweet_count              0.424499  0.424499              -0.048998   \n",
       "retweeted                 -0.008387 -0.008387                    NaN   \n",
       "truncated                       NaN       NaN                    NaN   \n",
       "withheld_copyright              NaN       NaN                    NaN   \n",
       "\n",
       "                           in_reply_to_status_id_str  in_reply_to_user_id  \\\n",
       "index                                      -0.429274            -0.057367   \n",
       "contributors                                     NaN                  NaN   \n",
       "favorite_count                             -0.042335            -0.052756   \n",
       "favorited                                        NaN                  NaN   \n",
       "id                                          0.999992            -0.000601   \n",
       "id_str                                      0.999992            -0.000601   \n",
       "in_reply_to_status_id                       1.000000             0.048942   \n",
       "in_reply_to_status_id_str                   1.000000             0.048942   \n",
       "in_reply_to_user_id                         0.048942             1.000000   \n",
       "in_reply_to_user_id_str                     0.048942             1.000000   \n",
       "is_quote_status                                  NaN                  NaN   \n",
       "possibly_sensitive                               NaN                  NaN   \n",
       "quoted_status_id                                 NaN                  NaN   \n",
       "quoted_status_id_str                             NaN                  NaN   \n",
       "retweet_count                              -0.048998            -0.066467   \n",
       "retweeted                                        NaN                  NaN   \n",
       "truncated                                        NaN                  NaN   \n",
       "withheld_copyright                               NaN                  NaN   \n",
       "\n",
       "                           in_reply_to_user_id_str  is_quote_status  \\\n",
       "index                                    -0.057367        -0.033505   \n",
       "contributors                                   NaN              NaN   \n",
       "favorite_count                           -0.052756        -0.008615   \n",
       "favorited                                      NaN              NaN   \n",
       "id                                       -0.000601         0.067833   \n",
       "id_str                                   -0.000601         0.067833   \n",
       "in_reply_to_status_id                     0.048942              NaN   \n",
       "in_reply_to_status_id_str                 0.048942              NaN   \n",
       "in_reply_to_user_id                       1.000000              NaN   \n",
       "in_reply_to_user_id_str                   1.000000              NaN   \n",
       "is_quote_status                                NaN         1.000000   \n",
       "possibly_sensitive                             NaN              NaN   \n",
       "quoted_status_id                               NaN              NaN   \n",
       "quoted_status_id_str                           NaN              NaN   \n",
       "retweet_count                            -0.066467        -0.004091   \n",
       "retweeted                                      NaN        -0.001611   \n",
       "truncated                                      NaN              NaN   \n",
       "withheld_copyright                             NaN              NaN   \n",
       "\n",
       "                           possibly_sensitive  quoted_status_id  \\\n",
       "index                                     NaN         -0.335665   \n",
       "contributors                              NaN               NaN   \n",
       "favorite_count                            NaN          0.805481   \n",
       "favorited                                 NaN               NaN   \n",
       "id                                        NaN          0.999436   \n",
       "id_str                                    NaN          0.999436   \n",
       "in_reply_to_status_id                     NaN               NaN   \n",
       "in_reply_to_status_id_str                 NaN               NaN   \n",
       "in_reply_to_user_id                       NaN               NaN   \n",
       "in_reply_to_user_id_str                   NaN               NaN   \n",
       "is_quote_status                           NaN               NaN   \n",
       "possibly_sensitive                        NaN               NaN   \n",
       "quoted_status_id                          NaN          1.000000   \n",
       "quoted_status_id_str                      NaN          1.000000   \n",
       "retweet_count                             NaN          0.730945   \n",
       "retweeted                                 NaN               NaN   \n",
       "truncated                                 NaN               NaN   \n",
       "withheld_copyright                        NaN               NaN   \n",
       "\n",
       "                           quoted_status_id_str  retweet_count  retweeted  \\\n",
       "index                                 -0.335665      -0.208648  -0.000660   \n",
       "contributors                                NaN            NaN        NaN   \n",
       "favorite_count                         0.805481       0.928551  -0.000167   \n",
       "favorited                                   NaN            NaN        NaN   \n",
       "id                                     0.999436       0.424499  -0.008387   \n",
       "id_str                                 0.999436       0.424499  -0.008387   \n",
       "in_reply_to_status_id                       NaN      -0.048998        NaN   \n",
       "in_reply_to_status_id_str                   NaN      -0.048998        NaN   \n",
       "in_reply_to_user_id                         NaN      -0.066467        NaN   \n",
       "in_reply_to_user_id_str                     NaN      -0.066467        NaN   \n",
       "is_quote_status                             NaN      -0.004091  -0.001611   \n",
       "possibly_sensitive                          NaN            NaN        NaN   \n",
       "quoted_status_id                       1.000000       0.730945        NaN   \n",
       "quoted_status_id_str                   1.000000       0.730945        NaN   \n",
       "retweet_count                          0.730945       1.000000   0.008066   \n",
       "retweeted                                   NaN       0.008066   1.000000   \n",
       "truncated                                   NaN            NaN        NaN   \n",
       "withheld_copyright                          NaN            NaN        NaN   \n",
       "\n",
       "                           truncated  withheld_copyright  \n",
       "index                            NaN                 NaN  \n",
       "contributors                     NaN                 NaN  \n",
       "favorite_count                   NaN                 NaN  \n",
       "favorited                        NaN                 NaN  \n",
       "id                               NaN                 NaN  \n",
       "id_str                           NaN                 NaN  \n",
       "in_reply_to_status_id            NaN                 NaN  \n",
       "in_reply_to_status_id_str        NaN                 NaN  \n",
       "in_reply_to_user_id              NaN                 NaN  \n",
       "in_reply_to_user_id_str          NaN                 NaN  \n",
       "is_quote_status                  NaN                 NaN  \n",
       "possibly_sensitive               NaN                 NaN  \n",
       "quoted_status_id                 NaN                 NaN  \n",
       "quoted_status_id_str             NaN                 NaN  \n",
       "retweet_count                    NaN                 NaN  \n",
       "retweeted                        NaN                 NaN  \n",
       "truncated                        NaN                 NaN  \n",
       "withheld_copyright               NaN                 NaN  "
      ]
     },
     "execution_count": 61,
     "metadata": {},
     "output_type": "execute_result"
    }
   ],
   "source": [
    "tweets_android.corr()"
   ]
  },
  {
   "cell_type": "code",
   "execution_count": 63,
   "metadata": {
    "scrolled": true
   },
   "outputs": [
    {
     "data": {
      "text/html": [
       "<div>\n",
       "<style>\n",
       "    .dataframe thead tr:only-child th {\n",
       "        text-align: right;\n",
       "    }\n",
       "\n",
       "    .dataframe thead th {\n",
       "        text-align: left;\n",
       "    }\n",
       "\n",
       "    .dataframe tbody tr th {\n",
       "        vertical-align: top;\n",
       "    }\n",
       "</style>\n",
       "<table border=\"1\" class=\"dataframe\">\n",
       "  <thead>\n",
       "    <tr style=\"text-align: right;\">\n",
       "      <th></th>\n",
       "      <th>index</th>\n",
       "      <th>contributors</th>\n",
       "      <th>favorite_count</th>\n",
       "      <th>favorited</th>\n",
       "      <th>id</th>\n",
       "      <th>id_str</th>\n",
       "      <th>in_reply_to_status_id</th>\n",
       "      <th>in_reply_to_status_id_str</th>\n",
       "      <th>in_reply_to_user_id</th>\n",
       "      <th>in_reply_to_user_id_str</th>\n",
       "      <th>is_quote_status</th>\n",
       "      <th>possibly_sensitive</th>\n",
       "      <th>quoted_status_id</th>\n",
       "      <th>quoted_status_id_str</th>\n",
       "      <th>retweet_count</th>\n",
       "      <th>retweeted</th>\n",
       "      <th>truncated</th>\n",
       "      <th>withheld_copyright</th>\n",
       "    </tr>\n",
       "  </thead>\n",
       "  <tbody>\n",
       "    <tr>\n",
       "      <th>index</th>\n",
       "      <td>1.000000</td>\n",
       "      <td>NaN</td>\n",
       "      <td>-0.300761</td>\n",
       "      <td>NaN</td>\n",
       "      <td>-0.600260</td>\n",
       "      <td>-0.600260</td>\n",
       "      <td>-0.714782</td>\n",
       "      <td>-0.714782</td>\n",
       "      <td>0.632876</td>\n",
       "      <td>0.632876</td>\n",
       "      <td>-0.027321</td>\n",
       "      <td>NaN</td>\n",
       "      <td>-0.832803</td>\n",
       "      <td>-0.832803</td>\n",
       "      <td>-0.292798</td>\n",
       "      <td>NaN</td>\n",
       "      <td>-0.117737</td>\n",
       "      <td>NaN</td>\n",
       "    </tr>\n",
       "    <tr>\n",
       "      <th>contributors</th>\n",
       "      <td>NaN</td>\n",
       "      <td>NaN</td>\n",
       "      <td>NaN</td>\n",
       "      <td>NaN</td>\n",
       "      <td>NaN</td>\n",
       "      <td>NaN</td>\n",
       "      <td>NaN</td>\n",
       "      <td>NaN</td>\n",
       "      <td>NaN</td>\n",
       "      <td>NaN</td>\n",
       "      <td>NaN</td>\n",
       "      <td>NaN</td>\n",
       "      <td>NaN</td>\n",
       "      <td>NaN</td>\n",
       "      <td>NaN</td>\n",
       "      <td>NaN</td>\n",
       "      <td>NaN</td>\n",
       "      <td>NaN</td>\n",
       "    </tr>\n",
       "    <tr>\n",
       "      <th>favorite_count</th>\n",
       "      <td>-0.300761</td>\n",
       "      <td>NaN</td>\n",
       "      <td>1.000000</td>\n",
       "      <td>NaN</td>\n",
       "      <td>0.607803</td>\n",
       "      <td>0.607803</td>\n",
       "      <td>0.426674</td>\n",
       "      <td>0.426674</td>\n",
       "      <td>-0.300693</td>\n",
       "      <td>-0.300693</td>\n",
       "      <td>-0.035639</td>\n",
       "      <td>NaN</td>\n",
       "      <td>0.326156</td>\n",
       "      <td>0.326156</td>\n",
       "      <td>0.836132</td>\n",
       "      <td>NaN</td>\n",
       "      <td>0.028142</td>\n",
       "      <td>NaN</td>\n",
       "    </tr>\n",
       "    <tr>\n",
       "      <th>favorited</th>\n",
       "      <td>NaN</td>\n",
       "      <td>NaN</td>\n",
       "      <td>NaN</td>\n",
       "      <td>NaN</td>\n",
       "      <td>NaN</td>\n",
       "      <td>NaN</td>\n",
       "      <td>NaN</td>\n",
       "      <td>NaN</td>\n",
       "      <td>NaN</td>\n",
       "      <td>NaN</td>\n",
       "      <td>NaN</td>\n",
       "      <td>NaN</td>\n",
       "      <td>NaN</td>\n",
       "      <td>NaN</td>\n",
       "      <td>NaN</td>\n",
       "      <td>NaN</td>\n",
       "      <td>NaN</td>\n",
       "      <td>NaN</td>\n",
       "    </tr>\n",
       "    <tr>\n",
       "      <th>id</th>\n",
       "      <td>-0.600260</td>\n",
       "      <td>NaN</td>\n",
       "      <td>0.607803</td>\n",
       "      <td>NaN</td>\n",
       "      <td>1.000000</td>\n",
       "      <td>1.000000</td>\n",
       "      <td>1.000000</td>\n",
       "      <td>1.000000</td>\n",
       "      <td>-0.382192</td>\n",
       "      <td>-0.382192</td>\n",
       "      <td>0.046756</td>\n",
       "      <td>NaN</td>\n",
       "      <td>0.997246</td>\n",
       "      <td>0.997246</td>\n",
       "      <td>0.505797</td>\n",
       "      <td>NaN</td>\n",
       "      <td>0.039069</td>\n",
       "      <td>NaN</td>\n",
       "    </tr>\n",
       "    <tr>\n",
       "      <th>id_str</th>\n",
       "      <td>-0.600260</td>\n",
       "      <td>NaN</td>\n",
       "      <td>0.607803</td>\n",
       "      <td>NaN</td>\n",
       "      <td>1.000000</td>\n",
       "      <td>1.000000</td>\n",
       "      <td>1.000000</td>\n",
       "      <td>1.000000</td>\n",
       "      <td>-0.382192</td>\n",
       "      <td>-0.382192</td>\n",
       "      <td>0.046756</td>\n",
       "      <td>NaN</td>\n",
       "      <td>0.997246</td>\n",
       "      <td>0.997246</td>\n",
       "      <td>0.505797</td>\n",
       "      <td>NaN</td>\n",
       "      <td>0.039069</td>\n",
       "      <td>NaN</td>\n",
       "    </tr>\n",
       "    <tr>\n",
       "      <th>in_reply_to_status_id</th>\n",
       "      <td>-0.714782</td>\n",
       "      <td>NaN</td>\n",
       "      <td>0.426674</td>\n",
       "      <td>NaN</td>\n",
       "      <td>1.000000</td>\n",
       "      <td>1.000000</td>\n",
       "      <td>1.000000</td>\n",
       "      <td>1.000000</td>\n",
       "      <td>-0.388579</td>\n",
       "      <td>-0.388579</td>\n",
       "      <td>NaN</td>\n",
       "      <td>NaN</td>\n",
       "      <td>NaN</td>\n",
       "      <td>NaN</td>\n",
       "      <td>0.317116</td>\n",
       "      <td>NaN</td>\n",
       "      <td>NaN</td>\n",
       "      <td>NaN</td>\n",
       "    </tr>\n",
       "    <tr>\n",
       "      <th>in_reply_to_status_id_str</th>\n",
       "      <td>-0.714782</td>\n",
       "      <td>NaN</td>\n",
       "      <td>0.426674</td>\n",
       "      <td>NaN</td>\n",
       "      <td>1.000000</td>\n",
       "      <td>1.000000</td>\n",
       "      <td>1.000000</td>\n",
       "      <td>1.000000</td>\n",
       "      <td>-0.388579</td>\n",
       "      <td>-0.388579</td>\n",
       "      <td>NaN</td>\n",
       "      <td>NaN</td>\n",
       "      <td>NaN</td>\n",
       "      <td>NaN</td>\n",
       "      <td>0.317116</td>\n",
       "      <td>NaN</td>\n",
       "      <td>NaN</td>\n",
       "      <td>NaN</td>\n",
       "    </tr>\n",
       "    <tr>\n",
       "      <th>in_reply_to_user_id</th>\n",
       "      <td>0.632876</td>\n",
       "      <td>NaN</td>\n",
       "      <td>-0.300693</td>\n",
       "      <td>NaN</td>\n",
       "      <td>-0.382192</td>\n",
       "      <td>-0.382192</td>\n",
       "      <td>-0.388579</td>\n",
       "      <td>-0.388579</td>\n",
       "      <td>1.000000</td>\n",
       "      <td>1.000000</td>\n",
       "      <td>NaN</td>\n",
       "      <td>NaN</td>\n",
       "      <td>NaN</td>\n",
       "      <td>NaN</td>\n",
       "      <td>-0.207234</td>\n",
       "      <td>NaN</td>\n",
       "      <td>NaN</td>\n",
       "      <td>NaN</td>\n",
       "    </tr>\n",
       "    <tr>\n",
       "      <th>in_reply_to_user_id_str</th>\n",
       "      <td>0.632876</td>\n",
       "      <td>NaN</td>\n",
       "      <td>-0.300693</td>\n",
       "      <td>NaN</td>\n",
       "      <td>-0.382192</td>\n",
       "      <td>-0.382192</td>\n",
       "      <td>-0.388579</td>\n",
       "      <td>-0.388579</td>\n",
       "      <td>1.000000</td>\n",
       "      <td>1.000000</td>\n",
       "      <td>NaN</td>\n",
       "      <td>NaN</td>\n",
       "      <td>NaN</td>\n",
       "      <td>NaN</td>\n",
       "      <td>-0.207234</td>\n",
       "      <td>NaN</td>\n",
       "      <td>NaN</td>\n",
       "      <td>NaN</td>\n",
       "    </tr>\n",
       "    <tr>\n",
       "      <th>is_quote_status</th>\n",
       "      <td>-0.027321</td>\n",
       "      <td>NaN</td>\n",
       "      <td>-0.035639</td>\n",
       "      <td>NaN</td>\n",
       "      <td>0.046756</td>\n",
       "      <td>0.046756</td>\n",
       "      <td>NaN</td>\n",
       "      <td>NaN</td>\n",
       "      <td>NaN</td>\n",
       "      <td>NaN</td>\n",
       "      <td>1.000000</td>\n",
       "      <td>NaN</td>\n",
       "      <td>NaN</td>\n",
       "      <td>NaN</td>\n",
       "      <td>-0.024599</td>\n",
       "      <td>NaN</td>\n",
       "      <td>-0.019236</td>\n",
       "      <td>NaN</td>\n",
       "    </tr>\n",
       "    <tr>\n",
       "      <th>possibly_sensitive</th>\n",
       "      <td>NaN</td>\n",
       "      <td>NaN</td>\n",
       "      <td>NaN</td>\n",
       "      <td>NaN</td>\n",
       "      <td>NaN</td>\n",
       "      <td>NaN</td>\n",
       "      <td>NaN</td>\n",
       "      <td>NaN</td>\n",
       "      <td>NaN</td>\n",
       "      <td>NaN</td>\n",
       "      <td>NaN</td>\n",
       "      <td>NaN</td>\n",
       "      <td>NaN</td>\n",
       "      <td>NaN</td>\n",
       "      <td>NaN</td>\n",
       "      <td>NaN</td>\n",
       "      <td>NaN</td>\n",
       "      <td>NaN</td>\n",
       "    </tr>\n",
       "    <tr>\n",
       "      <th>quoted_status_id</th>\n",
       "      <td>-0.832803</td>\n",
       "      <td>NaN</td>\n",
       "      <td>0.326156</td>\n",
       "      <td>NaN</td>\n",
       "      <td>0.997246</td>\n",
       "      <td>0.997246</td>\n",
       "      <td>NaN</td>\n",
       "      <td>NaN</td>\n",
       "      <td>NaN</td>\n",
       "      <td>NaN</td>\n",
       "      <td>NaN</td>\n",
       "      <td>NaN</td>\n",
       "      <td>1.000000</td>\n",
       "      <td>1.000000</td>\n",
       "      <td>0.143662</td>\n",
       "      <td>NaN</td>\n",
       "      <td>0.014843</td>\n",
       "      <td>NaN</td>\n",
       "    </tr>\n",
       "    <tr>\n",
       "      <th>quoted_status_id_str</th>\n",
       "      <td>-0.832803</td>\n",
       "      <td>NaN</td>\n",
       "      <td>0.326156</td>\n",
       "      <td>NaN</td>\n",
       "      <td>0.997246</td>\n",
       "      <td>0.997246</td>\n",
       "      <td>NaN</td>\n",
       "      <td>NaN</td>\n",
       "      <td>NaN</td>\n",
       "      <td>NaN</td>\n",
       "      <td>NaN</td>\n",
       "      <td>NaN</td>\n",
       "      <td>1.000000</td>\n",
       "      <td>1.000000</td>\n",
       "      <td>0.143662</td>\n",
       "      <td>NaN</td>\n",
       "      <td>0.014843</td>\n",
       "      <td>NaN</td>\n",
       "    </tr>\n",
       "    <tr>\n",
       "      <th>retweet_count</th>\n",
       "      <td>-0.292798</td>\n",
       "      <td>NaN</td>\n",
       "      <td>0.836132</td>\n",
       "      <td>NaN</td>\n",
       "      <td>0.505797</td>\n",
       "      <td>0.505797</td>\n",
       "      <td>0.317116</td>\n",
       "      <td>0.317116</td>\n",
       "      <td>-0.207234</td>\n",
       "      <td>-0.207234</td>\n",
       "      <td>-0.024599</td>\n",
       "      <td>NaN</td>\n",
       "      <td>0.143662</td>\n",
       "      <td>0.143662</td>\n",
       "      <td>1.000000</td>\n",
       "      <td>NaN</td>\n",
       "      <td>0.027619</td>\n",
       "      <td>NaN</td>\n",
       "    </tr>\n",
       "    <tr>\n",
       "      <th>retweeted</th>\n",
       "      <td>NaN</td>\n",
       "      <td>NaN</td>\n",
       "      <td>NaN</td>\n",
       "      <td>NaN</td>\n",
       "      <td>NaN</td>\n",
       "      <td>NaN</td>\n",
       "      <td>NaN</td>\n",
       "      <td>NaN</td>\n",
       "      <td>NaN</td>\n",
       "      <td>NaN</td>\n",
       "      <td>NaN</td>\n",
       "      <td>NaN</td>\n",
       "      <td>NaN</td>\n",
       "      <td>NaN</td>\n",
       "      <td>NaN</td>\n",
       "      <td>NaN</td>\n",
       "      <td>NaN</td>\n",
       "      <td>NaN</td>\n",
       "    </tr>\n",
       "    <tr>\n",
       "      <th>truncated</th>\n",
       "      <td>-0.117737</td>\n",
       "      <td>NaN</td>\n",
       "      <td>0.028142</td>\n",
       "      <td>NaN</td>\n",
       "      <td>0.039069</td>\n",
       "      <td>0.039069</td>\n",
       "      <td>NaN</td>\n",
       "      <td>NaN</td>\n",
       "      <td>NaN</td>\n",
       "      <td>NaN</td>\n",
       "      <td>-0.019236</td>\n",
       "      <td>NaN</td>\n",
       "      <td>0.014843</td>\n",
       "      <td>0.014843</td>\n",
       "      <td>0.027619</td>\n",
       "      <td>NaN</td>\n",
       "      <td>1.000000</td>\n",
       "      <td>NaN</td>\n",
       "    </tr>\n",
       "    <tr>\n",
       "      <th>withheld_copyright</th>\n",
       "      <td>NaN</td>\n",
       "      <td>NaN</td>\n",
       "      <td>NaN</td>\n",
       "      <td>NaN</td>\n",
       "      <td>NaN</td>\n",
       "      <td>NaN</td>\n",
       "      <td>NaN</td>\n",
       "      <td>NaN</td>\n",
       "      <td>NaN</td>\n",
       "      <td>NaN</td>\n",
       "      <td>NaN</td>\n",
       "      <td>NaN</td>\n",
       "      <td>NaN</td>\n",
       "      <td>NaN</td>\n",
       "      <td>NaN</td>\n",
       "      <td>NaN</td>\n",
       "      <td>NaN</td>\n",
       "      <td>NaN</td>\n",
       "    </tr>\n",
       "  </tbody>\n",
       "</table>\n",
       "</div>"
      ],
      "text/plain": [
       "                              index  contributors  favorite_count  favorited  \\\n",
       "index                      1.000000           NaN       -0.300761        NaN   \n",
       "contributors                    NaN           NaN             NaN        NaN   \n",
       "favorite_count            -0.300761           NaN        1.000000        NaN   \n",
       "favorited                       NaN           NaN             NaN        NaN   \n",
       "id                        -0.600260           NaN        0.607803        NaN   \n",
       "id_str                    -0.600260           NaN        0.607803        NaN   \n",
       "in_reply_to_status_id     -0.714782           NaN        0.426674        NaN   \n",
       "in_reply_to_status_id_str -0.714782           NaN        0.426674        NaN   \n",
       "in_reply_to_user_id        0.632876           NaN       -0.300693        NaN   \n",
       "in_reply_to_user_id_str    0.632876           NaN       -0.300693        NaN   \n",
       "is_quote_status           -0.027321           NaN       -0.035639        NaN   \n",
       "possibly_sensitive              NaN           NaN             NaN        NaN   \n",
       "quoted_status_id          -0.832803           NaN        0.326156        NaN   \n",
       "quoted_status_id_str      -0.832803           NaN        0.326156        NaN   \n",
       "retweet_count             -0.292798           NaN        0.836132        NaN   \n",
       "retweeted                       NaN           NaN             NaN        NaN   \n",
       "truncated                 -0.117737           NaN        0.028142        NaN   \n",
       "withheld_copyright              NaN           NaN             NaN        NaN   \n",
       "\n",
       "                                 id    id_str  in_reply_to_status_id  \\\n",
       "index                     -0.600260 -0.600260              -0.714782   \n",
       "contributors                    NaN       NaN                    NaN   \n",
       "favorite_count             0.607803  0.607803               0.426674   \n",
       "favorited                       NaN       NaN                    NaN   \n",
       "id                         1.000000  1.000000               1.000000   \n",
       "id_str                     1.000000  1.000000               1.000000   \n",
       "in_reply_to_status_id      1.000000  1.000000               1.000000   \n",
       "in_reply_to_status_id_str  1.000000  1.000000               1.000000   \n",
       "in_reply_to_user_id       -0.382192 -0.382192              -0.388579   \n",
       "in_reply_to_user_id_str   -0.382192 -0.382192              -0.388579   \n",
       "is_quote_status            0.046756  0.046756                    NaN   \n",
       "possibly_sensitive              NaN       NaN                    NaN   \n",
       "quoted_status_id           0.997246  0.997246                    NaN   \n",
       "quoted_status_id_str       0.997246  0.997246                    NaN   \n",
       "retweet_count              0.505797  0.505797               0.317116   \n",
       "retweeted                       NaN       NaN                    NaN   \n",
       "truncated                  0.039069  0.039069                    NaN   \n",
       "withheld_copyright              NaN       NaN                    NaN   \n",
       "\n",
       "                           in_reply_to_status_id_str  in_reply_to_user_id  \\\n",
       "index                                      -0.714782             0.632876   \n",
       "contributors                                     NaN                  NaN   \n",
       "favorite_count                              0.426674            -0.300693   \n",
       "favorited                                        NaN                  NaN   \n",
       "id                                          1.000000            -0.382192   \n",
       "id_str                                      1.000000            -0.382192   \n",
       "in_reply_to_status_id                       1.000000            -0.388579   \n",
       "in_reply_to_status_id_str                   1.000000            -0.388579   \n",
       "in_reply_to_user_id                        -0.388579             1.000000   \n",
       "in_reply_to_user_id_str                    -0.388579             1.000000   \n",
       "is_quote_status                                  NaN                  NaN   \n",
       "possibly_sensitive                               NaN                  NaN   \n",
       "quoted_status_id                                 NaN                  NaN   \n",
       "quoted_status_id_str                             NaN                  NaN   \n",
       "retweet_count                               0.317116            -0.207234   \n",
       "retweeted                                        NaN                  NaN   \n",
       "truncated                                        NaN                  NaN   \n",
       "withheld_copyright                               NaN                  NaN   \n",
       "\n",
       "                           in_reply_to_user_id_str  is_quote_status  \\\n",
       "index                                     0.632876        -0.027321   \n",
       "contributors                                   NaN              NaN   \n",
       "favorite_count                           -0.300693        -0.035639   \n",
       "favorited                                      NaN              NaN   \n",
       "id                                       -0.382192         0.046756   \n",
       "id_str                                   -0.382192         0.046756   \n",
       "in_reply_to_status_id                    -0.388579              NaN   \n",
       "in_reply_to_status_id_str                -0.388579              NaN   \n",
       "in_reply_to_user_id                       1.000000              NaN   \n",
       "in_reply_to_user_id_str                   1.000000              NaN   \n",
       "is_quote_status                                NaN         1.000000   \n",
       "possibly_sensitive                             NaN              NaN   \n",
       "quoted_status_id                               NaN              NaN   \n",
       "quoted_status_id_str                           NaN              NaN   \n",
       "retweet_count                            -0.207234        -0.024599   \n",
       "retweeted                                      NaN              NaN   \n",
       "truncated                                      NaN        -0.019236   \n",
       "withheld_copyright                             NaN              NaN   \n",
       "\n",
       "                           possibly_sensitive  quoted_status_id  \\\n",
       "index                                     NaN         -0.832803   \n",
       "contributors                              NaN               NaN   \n",
       "favorite_count                            NaN          0.326156   \n",
       "favorited                                 NaN               NaN   \n",
       "id                                        NaN          0.997246   \n",
       "id_str                                    NaN          0.997246   \n",
       "in_reply_to_status_id                     NaN               NaN   \n",
       "in_reply_to_status_id_str                 NaN               NaN   \n",
       "in_reply_to_user_id                       NaN               NaN   \n",
       "in_reply_to_user_id_str                   NaN               NaN   \n",
       "is_quote_status                           NaN               NaN   \n",
       "possibly_sensitive                        NaN               NaN   \n",
       "quoted_status_id                          NaN          1.000000   \n",
       "quoted_status_id_str                      NaN          1.000000   \n",
       "retweet_count                             NaN          0.143662   \n",
       "retweeted                                 NaN               NaN   \n",
       "truncated                                 NaN          0.014843   \n",
       "withheld_copyright                        NaN               NaN   \n",
       "\n",
       "                           quoted_status_id_str  retweet_count  retweeted  \\\n",
       "index                                 -0.832803      -0.292798        NaN   \n",
       "contributors                                NaN            NaN        NaN   \n",
       "favorite_count                         0.326156       0.836132        NaN   \n",
       "favorited                                   NaN            NaN        NaN   \n",
       "id                                     0.997246       0.505797        NaN   \n",
       "id_str                                 0.997246       0.505797        NaN   \n",
       "in_reply_to_status_id                       NaN       0.317116        NaN   \n",
       "in_reply_to_status_id_str                   NaN       0.317116        NaN   \n",
       "in_reply_to_user_id                         NaN      -0.207234        NaN   \n",
       "in_reply_to_user_id_str                     NaN      -0.207234        NaN   \n",
       "is_quote_status                             NaN      -0.024599        NaN   \n",
       "possibly_sensitive                          NaN            NaN        NaN   \n",
       "quoted_status_id                       1.000000       0.143662        NaN   \n",
       "quoted_status_id_str                   1.000000       0.143662        NaN   \n",
       "retweet_count                          0.143662       1.000000        NaN   \n",
       "retweeted                                   NaN            NaN        NaN   \n",
       "truncated                              0.014843       0.027619        NaN   \n",
       "withheld_copyright                          NaN            NaN        NaN   \n",
       "\n",
       "                           truncated  withheld_copyright  \n",
       "index                      -0.117737                 NaN  \n",
       "contributors                     NaN                 NaN  \n",
       "favorite_count              0.028142                 NaN  \n",
       "favorited                        NaN                 NaN  \n",
       "id                          0.039069                 NaN  \n",
       "id_str                      0.039069                 NaN  \n",
       "in_reply_to_status_id            NaN                 NaN  \n",
       "in_reply_to_status_id_str        NaN                 NaN  \n",
       "in_reply_to_user_id              NaN                 NaN  \n",
       "in_reply_to_user_id_str          NaN                 NaN  \n",
       "is_quote_status            -0.019236                 NaN  \n",
       "possibly_sensitive               NaN                 NaN  \n",
       "quoted_status_id            0.014843                 NaN  \n",
       "quoted_status_id_str        0.014843                 NaN  \n",
       "retweet_count               0.027619                 NaN  \n",
       "retweeted                        NaN                 NaN  \n",
       "truncated                   1.000000                 NaN  \n",
       "withheld_copyright               NaN                 NaN  "
      ]
     },
     "execution_count": 63,
     "metadata": {},
     "output_type": "execute_result"
    }
   ],
   "source": [
    "tweets_iphone.corr()"
   ]
  },
  {
   "cell_type": "code",
   "execution_count": 64,
   "metadata": {},
   "outputs": [
    {
     "data": {
      "text/html": [
       "<div>\n",
       "<style>\n",
       "    .dataframe thead tr:only-child th {\n",
       "        text-align: right;\n",
       "    }\n",
       "\n",
       "    .dataframe thead th {\n",
       "        text-align: left;\n",
       "    }\n",
       "\n",
       "    .dataframe tbody tr th {\n",
       "        vertical-align: top;\n",
       "    }\n",
       "</style>\n",
       "<table border=\"1\" class=\"dataframe\">\n",
       "  <thead>\n",
       "    <tr style=\"text-align: right;\">\n",
       "      <th></th>\n",
       "      <th>index</th>\n",
       "      <th>contributors</th>\n",
       "      <th>favorite_count</th>\n",
       "      <th>id</th>\n",
       "      <th>id_str</th>\n",
       "      <th>in_reply_to_status_id</th>\n",
       "      <th>in_reply_to_status_id_str</th>\n",
       "      <th>in_reply_to_user_id</th>\n",
       "      <th>in_reply_to_user_id_str</th>\n",
       "      <th>possibly_sensitive</th>\n",
       "      <th>quoted_status_id</th>\n",
       "      <th>quoted_status_id_str</th>\n",
       "      <th>retweet_count</th>\n",
       "      <th>withheld_copyright</th>\n",
       "    </tr>\n",
       "  </thead>\n",
       "  <tbody>\n",
       "    <tr>\n",
       "      <th>count</th>\n",
       "      <td>14545.000000</td>\n",
       "      <td>0.0</td>\n",
       "      <td>14545.000000</td>\n",
       "      <td>1.454500e+04</td>\n",
       "      <td>1.454500e+04</td>\n",
       "      <td>3.890000e+02</td>\n",
       "      <td>3.890000e+02</td>\n",
       "      <td>6.230000e+02</td>\n",
       "      <td>6.230000e+02</td>\n",
       "      <td>1059.0</td>\n",
       "      <td>7.500000e+01</td>\n",
       "      <td>7.500000e+01</td>\n",
       "      <td>14545.000000</td>\n",
       "      <td>0.0</td>\n",
       "    </tr>\n",
       "    <tr>\n",
       "      <th>mean</th>\n",
       "      <td>3220.319766</td>\n",
       "      <td>NaN</td>\n",
       "      <td>5679.361018</td>\n",
       "      <td>5.370612e+17</td>\n",
       "      <td>5.370612e+17</td>\n",
       "      <td>3.538708e+17</td>\n",
       "      <td>3.538708e+17</td>\n",
       "      <td>3.750395e+08</td>\n",
       "      <td>3.750395e+08</td>\n",
       "      <td>0.0</td>\n",
       "      <td>6.620411e+17</td>\n",
       "      <td>6.620411e+17</td>\n",
       "      <td>1717.381299</td>\n",
       "      <td>NaN</td>\n",
       "    </tr>\n",
       "    <tr>\n",
       "      <th>std</th>\n",
       "      <td>1971.763287</td>\n",
       "      <td>NaN</td>\n",
       "      <td>21479.172473</td>\n",
       "      <td>1.369348e+17</td>\n",
       "      <td>1.369348e+17</td>\n",
       "      <td>3.925776e+16</td>\n",
       "      <td>3.925776e+16</td>\n",
       "      <td>4.393801e+08</td>\n",
       "      <td>4.393801e+08</td>\n",
       "      <td>0.0</td>\n",
       "      <td>4.570474e+16</td>\n",
       "      <td>4.570474e+16</td>\n",
       "      <td>6360.198964</td>\n",
       "      <td>NaN</td>\n",
       "    </tr>\n",
       "    <tr>\n",
       "      <th>min</th>\n",
       "      <td>0.000000</td>\n",
       "      <td>NaN</td>\n",
       "      <td>0.000000</td>\n",
       "      <td>2.989727e+17</td>\n",
       "      <td>2.989727e+17</td>\n",
       "      <td>3.062027e+17</td>\n",
       "      <td>3.062027e+17</td>\n",
       "      <td>7.592510e+05</td>\n",
       "      <td>7.592510e+05</td>\n",
       "      <td>0.0</td>\n",
       "      <td>5.427798e+17</td>\n",
       "      <td>5.427798e+17</td>\n",
       "      <td>0.000000</td>\n",
       "      <td>NaN</td>\n",
       "    </tr>\n",
       "    <tr>\n",
       "      <th>25%</th>\n",
       "      <td>1615.000000</td>\n",
       "      <td>NaN</td>\n",
       "      <td>25.000000</td>\n",
       "      <td>4.136603e+17</td>\n",
       "      <td>4.136603e+17</td>\n",
       "      <td>3.319501e+17</td>\n",
       "      <td>3.319501e+17</td>\n",
       "      <td>4.342139e+07</td>\n",
       "      <td>4.342139e+07</td>\n",
       "      <td>0.0</td>\n",
       "      <td>6.295971e+17</td>\n",
       "      <td>6.295971e+17</td>\n",
       "      <td>12.000000</td>\n",
       "      <td>NaN</td>\n",
       "    </tr>\n",
       "    <tr>\n",
       "      <th>50%</th>\n",
       "      <td>3056.000000</td>\n",
       "      <td>NaN</td>\n",
       "      <td>63.000000</td>\n",
       "      <td>5.508489e+17</td>\n",
       "      <td>5.508489e+17</td>\n",
       "      <td>3.496798e+17</td>\n",
       "      <td>3.496798e+17</td>\n",
       "      <td>2.358398e+08</td>\n",
       "      <td>2.358398e+08</td>\n",
       "      <td>0.0</td>\n",
       "      <td>6.597538e+17</td>\n",
       "      <td>6.597538e+17</td>\n",
       "      <td>36.000000</td>\n",
       "      <td>NaN</td>\n",
       "    </tr>\n",
       "    <tr>\n",
       "      <th>75%</th>\n",
       "      <td>4706.000000</td>\n",
       "      <td>NaN</td>\n",
       "      <td>1569.000000</td>\n",
       "      <td>6.438053e+17</td>\n",
       "      <td>6.438053e+17</td>\n",
       "      <td>3.656097e+17</td>\n",
       "      <td>3.656097e+17</td>\n",
       "      <td>5.346555e+08</td>\n",
       "      <td>5.346555e+08</td>\n",
       "      <td>0.0</td>\n",
       "      <td>6.877747e+17</td>\n",
       "      <td>6.877747e+17</td>\n",
       "      <td>750.000000</td>\n",
       "      <td>NaN</td>\n",
       "    </tr>\n",
       "    <tr>\n",
       "      <th>max</th>\n",
       "      <td>7535.000000</td>\n",
       "      <td>NaN</td>\n",
       "      <td>633253.000000</td>\n",
       "      <td>8.456468e+17</td>\n",
       "      <td>8.456468e+17</td>\n",
       "      <td>5.913964e+17</td>\n",
       "      <td>5.913964e+17</td>\n",
       "      <td>2.800581e+09</td>\n",
       "      <td>2.800581e+09</td>\n",
       "      <td>0.0</td>\n",
       "      <td>7.937943e+17</td>\n",
       "      <td>7.937943e+17</td>\n",
       "      <td>344806.000000</td>\n",
       "      <td>NaN</td>\n",
       "    </tr>\n",
       "  </tbody>\n",
       "</table>\n",
       "</div>"
      ],
      "text/plain": [
       "              index  contributors  favorite_count            id        id_str  \\\n",
       "count  14545.000000           0.0    14545.000000  1.454500e+04  1.454500e+04   \n",
       "mean    3220.319766           NaN     5679.361018  5.370612e+17  5.370612e+17   \n",
       "std     1971.763287           NaN    21479.172473  1.369348e+17  1.369348e+17   \n",
       "min        0.000000           NaN        0.000000  2.989727e+17  2.989727e+17   \n",
       "25%     1615.000000           NaN       25.000000  4.136603e+17  4.136603e+17   \n",
       "50%     3056.000000           NaN       63.000000  5.508489e+17  5.508489e+17   \n",
       "75%     4706.000000           NaN     1569.000000  6.438053e+17  6.438053e+17   \n",
       "max     7535.000000           NaN   633253.000000  8.456468e+17  8.456468e+17   \n",
       "\n",
       "       in_reply_to_status_id  in_reply_to_status_id_str  in_reply_to_user_id  \\\n",
       "count           3.890000e+02               3.890000e+02         6.230000e+02   \n",
       "mean            3.538708e+17               3.538708e+17         3.750395e+08   \n",
       "std             3.925776e+16               3.925776e+16         4.393801e+08   \n",
       "min             3.062027e+17               3.062027e+17         7.592510e+05   \n",
       "25%             3.319501e+17               3.319501e+17         4.342139e+07   \n",
       "50%             3.496798e+17               3.496798e+17         2.358398e+08   \n",
       "75%             3.656097e+17               3.656097e+17         5.346555e+08   \n",
       "max             5.913964e+17               5.913964e+17         2.800581e+09   \n",
       "\n",
       "       in_reply_to_user_id_str  possibly_sensitive  quoted_status_id  \\\n",
       "count             6.230000e+02              1059.0      7.500000e+01   \n",
       "mean              3.750395e+08                 0.0      6.620411e+17   \n",
       "std               4.393801e+08                 0.0      4.570474e+16   \n",
       "min               7.592510e+05                 0.0      5.427798e+17   \n",
       "25%               4.342139e+07                 0.0      6.295971e+17   \n",
       "50%               2.358398e+08                 0.0      6.597538e+17   \n",
       "75%               5.346555e+08                 0.0      6.877747e+17   \n",
       "max               2.800581e+09                 0.0      7.937943e+17   \n",
       "\n",
       "       quoted_status_id_str  retweet_count  withheld_copyright  \n",
       "count          7.500000e+01   14545.000000                 0.0  \n",
       "mean           6.620411e+17    1717.381299                 NaN  \n",
       "std            4.570474e+16    6360.198964                 NaN  \n",
       "min            5.427798e+17       0.000000                 NaN  \n",
       "25%            6.295971e+17      12.000000                 NaN  \n",
       "50%            6.597538e+17      36.000000                 NaN  \n",
       "75%            6.877747e+17     750.000000                 NaN  \n",
       "max            7.937943e+17  344806.000000                 NaN  "
      ]
     },
     "execution_count": 64,
     "metadata": {},
     "output_type": "execute_result"
    }
   ],
   "source": [
    "tweets_android.describe()"
   ]
  },
  {
   "cell_type": "code",
   "execution_count": 65,
   "metadata": {
    "scrolled": false
   },
   "outputs": [
    {
     "data": {
      "text/html": [
       "<div>\n",
       "<style>\n",
       "    .dataframe thead tr:only-child th {\n",
       "        text-align: right;\n",
       "    }\n",
       "\n",
       "    .dataframe thead th {\n",
       "        text-align: left;\n",
       "    }\n",
       "\n",
       "    .dataframe tbody tr th {\n",
       "        vertical-align: top;\n",
       "    }\n",
       "</style>\n",
       "<table border=\"1\" class=\"dataframe\">\n",
       "  <thead>\n",
       "    <tr style=\"text-align: right;\">\n",
       "      <th></th>\n",
       "      <th>index</th>\n",
       "      <th>contributors</th>\n",
       "      <th>favorite_count</th>\n",
       "      <th>id</th>\n",
       "      <th>id_str</th>\n",
       "      <th>in_reply_to_status_id</th>\n",
       "      <th>in_reply_to_status_id_str</th>\n",
       "      <th>in_reply_to_user_id</th>\n",
       "      <th>in_reply_to_user_id_str</th>\n",
       "      <th>possibly_sensitive</th>\n",
       "      <th>quoted_status_id</th>\n",
       "      <th>quoted_status_id_str</th>\n",
       "      <th>retweet_count</th>\n",
       "      <th>withheld_copyright</th>\n",
       "    </tr>\n",
       "  </thead>\n",
       "  <tbody>\n",
       "    <tr>\n",
       "      <th>count</th>\n",
       "      <td>4230.000000</td>\n",
       "      <td>0.0</td>\n",
       "      <td>4230.000000</td>\n",
       "      <td>4.230000e+03</td>\n",
       "      <td>4.230000e+03</td>\n",
       "      <td>4.400000e+01</td>\n",
       "      <td>4.400000e+01</td>\n",
       "      <td>4.700000e+01</td>\n",
       "      <td>4.700000e+01</td>\n",
       "      <td>2140.0</td>\n",
       "      <td>1.280000e+02</td>\n",
       "      <td>1.280000e+02</td>\n",
       "      <td>4230.000000</td>\n",
       "      <td>1.0</td>\n",
       "    </tr>\n",
       "    <tr>\n",
       "      <th>mean</th>\n",
       "      <td>1525.073759</td>\n",
       "      <td>NaN</td>\n",
       "      <td>39152.448700</td>\n",
       "      <td>7.981213e+17</td>\n",
       "      <td>7.981213e+17</td>\n",
       "      <td>8.575028e+17</td>\n",
       "      <td>8.575028e+17</td>\n",
       "      <td>5.102945e+07</td>\n",
       "      <td>5.102945e+07</td>\n",
       "      <td>0.0</td>\n",
       "      <td>8.206528e+17</td>\n",
       "      <td>8.206528e+17</td>\n",
       "      <td>11324.447281</td>\n",
       "      <td>1.0</td>\n",
       "    </tr>\n",
       "    <tr>\n",
       "      <th>std</th>\n",
       "      <td>1146.586953</td>\n",
       "      <td>NaN</td>\n",
       "      <td>42075.025648</td>\n",
       "      <td>9.166685e+16</td>\n",
       "      <td>9.166685e+16</td>\n",
       "      <td>1.154885e+17</td>\n",
       "      <td>1.154885e+17</td>\n",
       "      <td>1.291833e+08</td>\n",
       "      <td>1.291833e+08</td>\n",
       "      <td>0.0</td>\n",
       "      <td>8.845818e+16</td>\n",
       "      <td>8.845818e+16</td>\n",
       "      <td>11817.905693</td>\n",
       "      <td>NaN</td>\n",
       "    </tr>\n",
       "    <tr>\n",
       "      <th>min</th>\n",
       "      <td>0.000000</td>\n",
       "      <td>NaN</td>\n",
       "      <td>0.000000</td>\n",
       "      <td>2.783081e+17</td>\n",
       "      <td>2.783081e+17</td>\n",
       "      <td>3.853585e+17</td>\n",
       "      <td>3.853585e+17</td>\n",
       "      <td>1.551360e+07</td>\n",
       "      <td>1.551360e+07</td>\n",
       "      <td>0.0</td>\n",
       "      <td>6.269045e+17</td>\n",
       "      <td>6.269045e+17</td>\n",
       "      <td>9.000000</td>\n",
       "      <td>1.0</td>\n",
       "    </tr>\n",
       "    <tr>\n",
       "      <th>25%</th>\n",
       "      <td>634.250000</td>\n",
       "      <td>NaN</td>\n",
       "      <td>6836.500000</td>\n",
       "      <td>7.159931e+17</td>\n",
       "      <td>7.159931e+17</td>\n",
       "      <td>8.564841e+17</td>\n",
       "      <td>8.564841e+17</td>\n",
       "      <td>2.507388e+07</td>\n",
       "      <td>2.507388e+07</td>\n",
       "      <td>0.0</td>\n",
       "      <td>7.439177e+17</td>\n",
       "      <td>7.439177e+17</td>\n",
       "      <td>3926.500000</td>\n",
       "      <td>1.0</td>\n",
       "    </tr>\n",
       "    <tr>\n",
       "      <th>50%</th>\n",
       "      <td>1273.500000</td>\n",
       "      <td>NaN</td>\n",
       "      <td>21741.000000</td>\n",
       "      <td>7.891893e+17</td>\n",
       "      <td>7.891893e+17</td>\n",
       "      <td>8.831823e+17</td>\n",
       "      <td>8.831823e+17</td>\n",
       "      <td>2.507388e+07</td>\n",
       "      <td>2.507388e+07</td>\n",
       "      <td>0.0</td>\n",
       "      <td>8.035289e+17</td>\n",
       "      <td>8.035289e+17</td>\n",
       "      <td>8634.000000</td>\n",
       "      <td>1.0</td>\n",
       "    </tr>\n",
       "    <tr>\n",
       "      <th>75%</th>\n",
       "      <td>2067.750000</td>\n",
       "      <td>NaN</td>\n",
       "      <td>64783.750000</td>\n",
       "      <td>8.858578e+17</td>\n",
       "      <td>8.858578e+17</td>\n",
       "      <td>9.136465e+17</td>\n",
       "      <td>9.136465e+17</td>\n",
       "      <td>2.507388e+07</td>\n",
       "      <td>2.507388e+07</td>\n",
       "      <td>0.0</td>\n",
       "      <td>9.102655e+17</td>\n",
       "      <td>9.102655e+17</td>\n",
       "      <td>15442.750000</td>\n",
       "      <td>1.0</td>\n",
       "    </tr>\n",
       "    <tr>\n",
       "      <th>max</th>\n",
       "      <td>6936.000000</td>\n",
       "      <td>NaN</td>\n",
       "      <td>605098.000000</td>\n",
       "      <td>9.341318e+17</td>\n",
       "      <td>9.341318e+17</td>\n",
       "      <td>9.336626e+17</td>\n",
       "      <td>9.336626e+17</td>\n",
       "      <td>8.787688e+08</td>\n",
       "      <td>8.787688e+08</td>\n",
       "      <td>0.0</td>\n",
       "      <td>9.339594e+17</td>\n",
       "      <td>9.339594e+17</td>\n",
       "      <td>369530.000000</td>\n",
       "      <td>1.0</td>\n",
       "    </tr>\n",
       "  </tbody>\n",
       "</table>\n",
       "</div>"
      ],
      "text/plain": [
       "             index  contributors  favorite_count            id        id_str  \\\n",
       "count  4230.000000           0.0     4230.000000  4.230000e+03  4.230000e+03   \n",
       "mean   1525.073759           NaN    39152.448700  7.981213e+17  7.981213e+17   \n",
       "std    1146.586953           NaN    42075.025648  9.166685e+16  9.166685e+16   \n",
       "min       0.000000           NaN        0.000000  2.783081e+17  2.783081e+17   \n",
       "25%     634.250000           NaN     6836.500000  7.159931e+17  7.159931e+17   \n",
       "50%    1273.500000           NaN    21741.000000  7.891893e+17  7.891893e+17   \n",
       "75%    2067.750000           NaN    64783.750000  8.858578e+17  8.858578e+17   \n",
       "max    6936.000000           NaN   605098.000000  9.341318e+17  9.341318e+17   \n",
       "\n",
       "       in_reply_to_status_id  in_reply_to_status_id_str  in_reply_to_user_id  \\\n",
       "count           4.400000e+01               4.400000e+01         4.700000e+01   \n",
       "mean            8.575028e+17               8.575028e+17         5.102945e+07   \n",
       "std             1.154885e+17               1.154885e+17         1.291833e+08   \n",
       "min             3.853585e+17               3.853585e+17         1.551360e+07   \n",
       "25%             8.564841e+17               8.564841e+17         2.507388e+07   \n",
       "50%             8.831823e+17               8.831823e+17         2.507388e+07   \n",
       "75%             9.136465e+17               9.136465e+17         2.507388e+07   \n",
       "max             9.336626e+17               9.336626e+17         8.787688e+08   \n",
       "\n",
       "       in_reply_to_user_id_str  possibly_sensitive  quoted_status_id  \\\n",
       "count             4.700000e+01              2140.0      1.280000e+02   \n",
       "mean              5.102945e+07                 0.0      8.206528e+17   \n",
       "std               1.291833e+08                 0.0      8.845818e+16   \n",
       "min               1.551360e+07                 0.0      6.269045e+17   \n",
       "25%               2.507388e+07                 0.0      7.439177e+17   \n",
       "50%               2.507388e+07                 0.0      8.035289e+17   \n",
       "75%               2.507388e+07                 0.0      9.102655e+17   \n",
       "max               8.787688e+08                 0.0      9.339594e+17   \n",
       "\n",
       "       quoted_status_id_str  retweet_count  withheld_copyright  \n",
       "count          1.280000e+02    4230.000000                 1.0  \n",
       "mean           8.206528e+17   11324.447281                 1.0  \n",
       "std            8.845818e+16   11817.905693                 NaN  \n",
       "min            6.269045e+17       9.000000                 1.0  \n",
       "25%            7.439177e+17    3926.500000                 1.0  \n",
       "50%            8.035289e+17    8634.000000                 1.0  \n",
       "75%            9.102655e+17   15442.750000                 1.0  \n",
       "max            9.339594e+17  369530.000000                 1.0  "
      ]
     },
     "execution_count": 65,
     "metadata": {},
     "output_type": "execute_result"
    }
   ],
   "source": [
    "tweets_iphone.describe()"
   ]
  },
  {
   "cell_type": "markdown",
   "metadata": {},
   "source": [
    "We can see a significant difference in statistical structure of popularity indicators (retweet count and favorite count) between iPhone and Android device.\n",
    "\n",
    "The reason we see this is because Android device has been used more frequently (14545 vs 4230), thus having more average tweets over time has tipped the scales in favor of the iPhone - having more focused tweets. "
   ]
  },
  {
   "cell_type": "code",
   "execution_count": 379,
   "metadata": {},
   "outputs": [
    {
     "data": {
      "text/html": [
       "\n",
       "        <iframe\n",
       "            width=\"100%\"\n",
       "            height=\"500px\"\n",
       "            src=\"html/android_favorite_rt_count_time.html\"\n",
       "            frameborder=\"0\"\n",
       "            allowfullscreen\n",
       "        ></iframe>\n",
       "        "
      ],
      "text/plain": [
       "<IPython.lib.display.IFrame at 0x22ea32b23c8>"
      ]
     },
     "metadata": {},
     "output_type": "display_data"
    }
   ],
   "source": [
    "#tweets_android.plot(x='created_at',y=['favorite_count','retweet_count'], figsize=(15,8), title='Android: Number of interactions per tweets over time')\n",
    "tweets_android_sorted = tweets_android.sort_values('created_at')\n",
    "\n",
    "data = [go.Scatter(\n",
    "            x=tweets_android_sorted['created_at'],\n",
    "            y=tweets_android_sorted['favorite_count'],\n",
    "            name = 'Favorite count'\n",
    "    ),\n",
    "       go.Scatter(\n",
    "            x=tweets_android_sorted['created_at'],\n",
    "            y=tweets_android_sorted['retweet_count'],\n",
    "            name = 'Retweet count'\n",
    "    )]\n",
    "    \n",
    "layout = go.Layout(\n",
    "        title = 'Android: Number of interactions per tweets over time',\n",
    "        yaxis = {'title': 'Count'},\n",
    "        xaxis = {'title': 'Created at'},\n",
    "    )\n",
    "    \n",
    "fig = go.Figure(data=data, layout=layout)\n",
    "plotly.offline.plot(fig, filename='html/android_favorite_rt_count_time.html')\n",
    "display(IFrame('html/android_favorite_rt_count_time.html', \"100%\", \"500px\"))"
   ]
  },
  {
   "cell_type": "code",
   "execution_count": 380,
   "metadata": {},
   "outputs": [
    {
     "data": {
      "text/html": [
       "\n",
       "        <iframe\n",
       "            width=\"100%\"\n",
       "            height=\"500px\"\n",
       "            src=\"html/iphone_favorite_rt_count_time.html\"\n",
       "            frameborder=\"0\"\n",
       "            allowfullscreen\n",
       "        ></iframe>\n",
       "        "
      ],
      "text/plain": [
       "<IPython.lib.display.IFrame at 0x22ea024b6d8>"
      ]
     },
     "metadata": {},
     "output_type": "display_data"
    }
   ],
   "source": [
    "#tweets_iphone.plot(x='created_at',y=['favorite_count','retweet_count'], figsize=(15,8), title='iPhone: Number of interactions per tweets over time')\n",
    "tweets_iphone_sorted = tweets_iphone.sort_values('created_at')\n",
    "\n",
    "data = [go.Scatter(\n",
    "            x=tweets_iphone_sorted['created_at'],\n",
    "            y=tweets_iphone_sorted['favorite_count'],\n",
    "            name = 'Favorite count'\n",
    "    ),\n",
    "       go.Scatter(\n",
    "            x=tweets_iphone_sorted['created_at'],\n",
    "            y=tweets_iphone_sorted['retweet_count'],\n",
    "            name = 'Retweet count'\n",
    "    )]\n",
    "    \n",
    "layout = go.Layout(\n",
    "        title = 'iPhone: Number of interactions per tweets over time',\n",
    "        yaxis = {'title': 'Count'},\n",
    "        xaxis = {'title': 'Created at'},\n",
    "    )\n",
    "    \n",
    "fig = go.Figure(data=data, layout=layout)\n",
    "plotly.offline.plot(fig, filename='html/iphone_favorite_rt_count_time.html')\n",
    "display(IFrame('html/iphone_favorite_rt_count_time.html', \"100%\", \"500px\"))"
   ]
  },
  {
   "cell_type": "markdown",
   "metadata": {},
   "source": [
    "## Internet archive - Trump TV news factchecks\n",
    "\n",
    "In this section we will shortly describe the available data in the Internet archive - Trump TV news factchecks. Firstly, we will load the dataset, which we obtained as a CSV file. As described in the [documentation](https://archive.org/details/tv?factchecks), this is a rather simple dataset in structure, but with immense value in data. This dataset combines news reports on several persons in Trump administration to have a better overview of news.\n",
    "\n",
    "The dataset has been obtained on 24.11.2017. "
   ]
  },
  {
   "cell_type": "code",
   "execution_count": 68,
   "metadata": {},
   "outputs": [
    {
     "data": {
      "text/html": [
       "<div>\n",
       "<style>\n",
       "    .dataframe thead tr:only-child th {\n",
       "        text-align: right;\n",
       "    }\n",
       "\n",
       "    .dataframe thead th {\n",
       "        text-align: left;\n",
       "    }\n",
       "\n",
       "    .dataframe tbody tr th {\n",
       "        vertical-align: top;\n",
       "    }\n",
       "</style>\n",
       "<table border=\"1\" class=\"dataframe\">\n",
       "  <thead>\n",
       "    <tr style=\"text-align: right;\">\n",
       "      <th></th>\n",
       "      <th>Date of Airing (EST)</th>\n",
       "      <th>Topic List</th>\n",
       "      <th>Fact Check</th>\n",
       "      <th>TV Clip</th>\n",
       "      <th>Organization</th>\n",
       "      <th>Collection</th>\n",
       "    </tr>\n",
       "  </thead>\n",
       "  <tbody>\n",
       "    <tr>\n",
       "      <th>0</th>\n",
       "      <td>2017-11-19</td>\n",
       "      <td>Taxes</td>\n",
       "      <td>http://www.politifact.com/truth-o-meter/statem...</td>\n",
       "      <td>https://archive.org/details/FOXNEWSW_20171119_...</td>\n",
       "      <td>PolitiFact</td>\n",
       "      <td>steve_mnuchin_archive</td>\n",
       "    </tr>\n",
       "    <tr>\n",
       "      <th>1</th>\n",
       "      <td>2017-11-16</td>\n",
       "      <td>Taxes,Health Care</td>\n",
       "      <td>https://www.washingtonpost.com/news/fact-check...</td>\n",
       "      <td>https://archive.org/details/CSPAN2_20171116_10...</td>\n",
       "      <td>Washington Post</td>\n",
       "      <td>charles_schumer_archive</td>\n",
       "    </tr>\n",
       "    <tr>\n",
       "      <th>2</th>\n",
       "      <td>2017-11-14</td>\n",
       "      <td>Health Care,Taxes</td>\n",
       "      <td>http://www.factcheck.org/2017/11/democrats-ina...</td>\n",
       "      <td>https://archive.org/details/CSPAN2_20171114_15...</td>\n",
       "      <td>FactCheck.org</td>\n",
       "      <td>charles_schumer_archive</td>\n",
       "    </tr>\n",
       "    <tr>\n",
       "      <th>3</th>\n",
       "      <td>2017-11-07</td>\n",
       "      <td>Guns</td>\n",
       "      <td>http://www.politifact.com/truth-o-meter/statem...</td>\n",
       "      <td>https://archive.org/details/CSPAN2_20171107_17...</td>\n",
       "      <td>PolitiFact</td>\n",
       "      <td>trumparchive</td>\n",
       "    </tr>\n",
       "    <tr>\n",
       "      <th>4</th>\n",
       "      <td>2017-11-06</td>\n",
       "      <td>Taxes</td>\n",
       "      <td>https://www.washingtonpost.com/news/fact-check...</td>\n",
       "      <td>https://archive.org/details/FOXNEWSW_20171107_...</td>\n",
       "      <td>Washington Post</td>\n",
       "      <td>paul_ryan_archive</td>\n",
       "    </tr>\n",
       "  </tbody>\n",
       "</table>\n",
       "</div>"
      ],
      "text/plain": [
       "  Date of Airing (EST)         Topic List  \\\n",
       "0           2017-11-19              Taxes   \n",
       "1           2017-11-16  Taxes,Health Care   \n",
       "2           2017-11-14  Health Care,Taxes   \n",
       "3           2017-11-07               Guns   \n",
       "4           2017-11-06              Taxes   \n",
       "\n",
       "                                          Fact Check  \\\n",
       "0  http://www.politifact.com/truth-o-meter/statem...   \n",
       "1  https://www.washingtonpost.com/news/fact-check...   \n",
       "2  http://www.factcheck.org/2017/11/democrats-ina...   \n",
       "3  http://www.politifact.com/truth-o-meter/statem...   \n",
       "4  https://www.washingtonpost.com/news/fact-check...   \n",
       "\n",
       "                                             TV Clip     Organization  \\\n",
       "0  https://archive.org/details/FOXNEWSW_20171119_...       PolitiFact   \n",
       "1  https://archive.org/details/CSPAN2_20171116_10...  Washington Post   \n",
       "2  https://archive.org/details/CSPAN2_20171114_15...    FactCheck.org   \n",
       "3  https://archive.org/details/CSPAN2_20171107_17...       PolitiFact   \n",
       "4  https://archive.org/details/FOXNEWSW_20171107_...  Washington Post   \n",
       "\n",
       "                Collection  \n",
       "0    steve_mnuchin_archive  \n",
       "1  charles_schumer_archive  \n",
       "2  charles_schumer_archive  \n",
       "3             trumparchive  \n",
       "4        paul_ryan_archive  "
      ]
     },
     "execution_count": 68,
     "metadata": {},
     "output_type": "execute_result"
    }
   ],
   "source": [
    "news = pd.read_csv(NEWS_PATH)\n",
    "\n",
    "news['Date of Airing (EST)'] = pd.to_datetime(news['Date of Airing (EST)'])\n",
    "\n",
    "news.head()"
   ]
  },
  {
   "cell_type": "markdown",
   "metadata": {},
   "source": [
    "We can observe 6 columns in this dataset:\n",
    "* `Date of Airng (EST)` - the date of airing of specified clip, Eastern time\n",
    "* `Topic List` - the list of general topics appearing in the clip\n",
    "* `Fact Check` - the link to the fact check\n",
    "* `TV Clip` - link of the news report clip\n",
    "* `Organization` - organization which performed the fact check\n",
    "* `Collection` - from which collection the clip comes from, represents the person from Trump administration"
   ]
  },
  {
   "cell_type": "code",
   "execution_count": 69,
   "metadata": {},
   "outputs": [
    {
     "name": "stdout",
     "output_type": "stream",
     "text": [
      "Number of clips: 1404\n",
      "Earliest date of airing: 2009-09-18 00:00:00\n"
     ]
    }
   ],
   "source": [
    "print('Number of clips:', news.shape[0])\n",
    "print('Earliest date of airing:', news['Date of Airing (EST)'].min())"
   ]
  },
  {
   "cell_type": "markdown",
   "metadata": {},
   "source": [
    "We have a significant number (1404) of news coverages, along with general topics, going back as early as September 2009. \n",
    "\n",
    "**The time is Eastern Time, which coincides with the time zone setting for the Tweets of Donald Trump.**\n",
    "\n",
    "#### Purpose of the dataset\n",
    "\n",
    "Since we have date of airing and general topic of the news, we can analyze how Donald Trump reacts to news:\n",
    "* his direct reaction\n",
    "* his twitter interaction prior/after the airing\n",
    "* does he mention certain people or topics at the time of some controversies\n",
    "\n",
    "To get a general feeling about the topics, we will extract them from the dataset."
   ]
  },
  {
   "cell_type": "code",
   "execution_count": 70,
   "metadata": {},
   "outputs": [],
   "source": [
    "# we get the topic list column\n",
    "topics = news['Topic List']\n",
    "\n",
    "# we replace the NA values with ''\n",
    "topics.fillna(value='', inplace=True)"
   ]
  },
  {
   "cell_type": "markdown",
   "metadata": {},
   "source": [
    "If multiple topics are covered, they are represented as strings, delimited by comma `','`:"
   ]
  },
  {
   "cell_type": "code",
   "execution_count": 71,
   "metadata": {},
   "outputs": [
    {
     "data": {
      "text/plain": [
       "'Health Care,Taxes'"
      ]
     },
     "execution_count": 71,
     "metadata": {},
     "output_type": "execute_result"
    }
   ],
   "source": [
    "topics[2]"
   ]
  },
  {
   "cell_type": "markdown",
   "metadata": {},
   "source": [
    "In order to extract meaningful results, we are interested to process and obtain some key elements from the dataset:\n",
    "* unique topics overall\n",
    "* counting the occurence of the topics\n",
    "* obtaining overall topics with occurrence in news\n",
    "* filtering such information in a given timeframe\n",
    "* displaying top news topics\n",
    "\n",
    "In continuation we provide the functions which provide such functionalities.\n",
    "\n",
    "---\n",
    "\n",
    "Extracting unique topics will enable us to analyze more easily what are all the topics that have been in the news about Trump and his cabinet. It enables us to explore some of the interesting topics in more detail by extracting and providing the topic list."
   ]
  },
  {
   "cell_type": "code",
   "execution_count": 72,
   "metadata": {},
   "outputs": [],
   "source": [
    "def extract_unique_topics(topics):\n",
    "    '''\n",
    "    Function for extracting unique topics from the topic interable object (pandas.Series).\n",
    "\n",
    "    Parameters:\n",
    "    topics -- iterable object containing topics\n",
    "\n",
    "    Returns:\n",
    "    set -- set of topics appearing in the dataset\n",
    "    '''\n",
    "    container = []\n",
    "    \n",
    "    for topic in topics:\n",
    "        tmp = topic.split(',')\n",
    "        container.extend(tmp)\n",
    "\n",
    "    return set(container)"
   ]
  },
  {
   "cell_type": "code",
   "execution_count": 78,
   "metadata": {},
   "outputs": [
    {
     "name": "stdout",
     "output_type": "stream",
     "text": [
      "Number of topics:  277\n",
      "Some of the topics:\n",
      "\n",
      "Crime\n",
      "Offshoring\n",
      "Women\n",
      "Labor Force\n",
      "TV Ads\n",
      "State of the Union\n",
      "Murder\n",
      "FBI\n",
      "War\n",
      "Legal Issues\n",
      "Nuclear\n",
      "Lee Harvey Oswald\n",
      "Manufacturing\n",
      "Eminent Domain\n",
      "Polls\n",
      "Government Leaks\n",
      "Bipartisanship\n",
      "Immigation\n",
      "Budget Shortfall\n"
     ]
    }
   ],
   "source": [
    "s = extract_unique_topics(topics)\n",
    "print('Number of topics: ', len(s))\n",
    "print('Some of the topics:')\n",
    "for idx,el in enumerate(s):\n",
    "    if(idx<20):\n",
    "        print(el)"
   ]
  },
  {
   "cell_type": "markdown",
   "metadata": {},
   "source": [
    "Counting the frequency and occurence of certain topic can provide an insight on importance of certain topic overall or in a given period of time."
   ]
  },
  {
   "cell_type": "code",
   "execution_count": 79,
   "metadata": {},
   "outputs": [],
   "source": [
    "def count_occurence(topic_name, topics):\n",
    "    '''\n",
    "    Helper function for counting the occurence of certain topic among topics.\n",
    "    \n",
    "    Parameters:\n",
    "    topic_name -- string, topic for which to count occurence\n",
    "    topics -- list of topics per news from the news dataset, topics are comma delimited\n",
    "    \n",
    "    \n",
    "    Returns:\n",
    "    count -- integer, number of occurences\n",
    "    \n",
    "    '''\n",
    "    count = 0\n",
    "    \n",
    "    for topic in topics:\n",
    "        tmp = topic.split(',')\n",
    "        if(topic_name in tmp):\n",
    "            count += 1\n",
    "\n",
    "    return count"
   ]
  },
  {
   "cell_type": "markdown",
   "metadata": {},
   "source": [
    "Furthermore, we will provide a function which also gets the occurence for all the given sets of topics."
   ]
  },
  {
   "cell_type": "code",
   "execution_count": 80,
   "metadata": {},
   "outputs": [],
   "source": [
    "def get_occurence(topics_set, topics_series):\n",
    "    '''\n",
    "    Helper function to create a dictionary of topics (key) with occurence count (value).\n",
    "    \n",
    "    Parameters:\n",
    "    topics_set -- python set, list of unique topics\n",
    "    topics_series -- python list, complete list of topics from the news dataset\n",
    "    \n",
    "    Returns:\n",
    "    occurences -- python dictionary, key - topic name, value - number of topic occurences\n",
    "    '''\n",
    "    occurences = {}\n",
    "    \n",
    "    for topic in topics_set:\n",
    "        occurences[topic] = count_occurence(topic, topics_series)\n",
    "        \n",
    "    return occurences"
   ]
  },
  {
   "cell_type": "markdown",
   "metadata": {},
   "source": [
    "A significant part of the analysis will rely on analyzing the news topics in certain timeframe, with a given start and end date of airing. We can filter the originally compiled dataframe by given criteria using a helper function."
   ]
  },
  {
   "cell_type": "code",
   "execution_count": 81,
   "metadata": {},
   "outputs": [],
   "source": [
    "def get_topics_in_period(news_df, start_date, end_date):\n",
    "    '''\n",
    "    A function for obtaining dataframe containing topics in the specified timeframe.\n",
    "    \n",
    "    Parameters:\n",
    "    news_df -- news dataset dataframe\n",
    "    start_date -- starting date to consider, pandas timestamp or valid string\n",
    "    end_date -- ending date to consider, pandas timestamp or valid string\n",
    "    \n",
    "    Returns:\n",
    "    topic_df -- dataframe containing a row of topics in selected period with their count\n",
    "    '''\n",
    "    # we filter the dataframe by dates\n",
    "    news_copy = news_df.copy()\n",
    "    news = news_copy.loc[(news_df['Date of Airing (EST)']>=pd.Timestamp(start_date)) &\n",
    "                       (news_df['Date of Airing (EST)']<=pd.Timestamp(end_date))]\n",
    "    \n",
    "    # we get the topic list column\n",
    "    topics = news['Topic List']\n",
    "\n",
    "    # we replace the NA values with ''\n",
    "    topics.fillna(value='', inplace=True)\n",
    "    \n",
    "    s = extract_unique_topics(topics)\n",
    "    \n",
    "    occurences = get_occurence(s, topics)\n",
    "    \n",
    "    topic_series = pd.Series(occurences)\n",
    "    topic_df = pd.DataFrame(topic_series)\n",
    "\n",
    "    topic_df.reset_index(inplace=True)\n",
    "    topic_df.columns = ['topic','count']\n",
    "    \n",
    "    return topic_df"
   ]
  },
  {
   "cell_type": "markdown",
   "metadata": {},
   "source": [
    "Finally, we define functions for displaying our data about news topics."
   ]
  },
  {
   "cell_type": "code",
   "execution_count": 195,
   "metadata": {},
   "outputs": [],
   "source": [
    "def show_top_topics(topic_df, number, year_title):\n",
    "    '''\n",
    "    A helper function for displaying selected number of top topics in given topic dataframe - using Seaborn.\n",
    "    \n",
    "    Parameters:\n",
    "    topic_df -- topic dataframe containing topic and count, from the news dataset\n",
    "    number -- number of top topics to consider\n",
    "    year_title -- year for which the chart is obtained \n",
    "    \n",
    "    Returns:\n",
    "    nothing\n",
    "    '''\n",
    "    topic_df_sorted = topic_df.sort_values(by='count', ascending=False)\n",
    "    \n",
    "    if(number>topic_df.shape[0]):\n",
    "        number = topic_df.shape[0]\n",
    "    \n",
    "    top = topic_df_sorted[number:0:-1]\n",
    "    \n",
    "    plt.figure(figsize=(15,8))\n",
    "\n",
    "    p = sns.barplot(data=top, x='count', y='topic')\n",
    "    p.set_title('Top '+str(number)+' topics in year '+str(year_title))\n",
    "    \n",
    "    \n",
    "def show_top_topics_plotly(topic_df, number, year_title):\n",
    "    '''\n",
    "    A helper function for displaying selected number of top topics in given topic dataframe - using Plotly.\n",
    "    \n",
    "    Parameters:\n",
    "    topic_df -- topic dataframe containing topic and count, from the news dataset\n",
    "    number -- number of top topics to consider\n",
    "    year_title -- year for which the chart is obtained \n",
    "    \n",
    "    Returns:\n",
    "    nothing, saves the charts in html folder.\n",
    "    '''\n",
    "    topic_df_sorted = topic_df.sort_values(by='count', ascending=False)\n",
    "    \n",
    "    if(number>topic_df.shape[0]):\n",
    "        number = topic_df.shape[0]\n",
    "    \n",
    "    top = topic_df_sorted[number:0:-1]\n",
    "    \n",
    "    data = [go.Bar(\n",
    "            y=top['topic'],\n",
    "            x=top['count'],\n",
    "            orientation='h'\n",
    "    )]\n",
    "    \n",
    "    layout = go.Layout(\n",
    "        title = 'Top '+str(number)+' topics in year '+str(year_title),\n",
    "        yaxis = {'title': 'Topic'},\n",
    "        xaxis = {'title': 'Count'},\n",
    "    )\n",
    "    \n",
    "    fig = go.Figure(data=data, layout=layout)\n",
    "    plotly.offline.plot(fig, filename='html/top_topics'+str(year_title)+'.html')\n",
    "    display(IFrame('html/top_topics'+str(year_title)+'.html', \"100%\", \"500px\"))\n",
    "    \n",
    "    \n",
    "def show_top_topics_plotly_bar(topic_df, number, title, file_name):\n",
    "    '''\n",
    "    A helper function for displaying selected number of top topics in given topic dataframe - using Plotly.\n",
    "    \n",
    "    Parameters:\n",
    "    topic_df -- topic dataframe containing topic and count, from the news dataset\n",
    "    number -- number of top topics to consider\n",
    "    title -- title to display\n",
    "    file_name -- name of the output html file.\n",
    "    \n",
    "    Returns:\n",
    "    nothing, saves the charts in html folder.\n",
    "    '''\n",
    "    topic_df_sorted = topic_df.sort_values(by='count', ascending=False)\n",
    "    \n",
    "    if(number>topic_df.shape[0]):\n",
    "        number = topic_df.shape[0]\n",
    "    \n",
    "    top = topic_df_sorted[0:number:1]\n",
    "    \n",
    "    data = [go.Bar(\n",
    "            y=top['topic'],\n",
    "            x=top['count'],\n",
    "            orientation='h'\n",
    "    )]\n",
    "    \n",
    "    layout = go.Layout(\n",
    "        title = title,\n",
    "        yaxis = {'title': 'Topic'},\n",
    "        xaxis = {'title': 'Count'},\n",
    "    )\n",
    "    \n",
    "    fig = go.Figure(data=data, layout=layout)\n",
    "    plotly.offline.plot(fig, filename='html/'+file_name)\n",
    "    display(IFrame('html/'+file_name, \"100%\", \"500px\"))"
   ]
  },
  {
   "cell_type": "markdown",
   "metadata": {},
   "source": [
    "We observe a variety of topics:\n",
    "* about 270 different topics\n",
    "* some of the topics contain typos\n",
    "* it is a good basis for future NLP and reactions - since content of the news is summaized\n",
    "\n",
    "#### Trump administration topics:\n",
    "\n",
    "With this dataset we can show the main topics covered by news outlets on the Trump administration. \n",
    "\n",
    "This can be especially interesting in terms of extracting the most prominent topics in certain years or specified time period.\n",
    "\n",
    "So what are some of  the topics of Trump and Trump administration?"
   ]
  },
  {
   "cell_type": "code",
   "execution_count": 86,
   "metadata": {},
   "outputs": [],
   "source": [
    "occurences = get_occurence(s, topics)"
   ]
  },
  {
   "cell_type": "code",
   "execution_count": 384,
   "metadata": {},
   "outputs": [
    {
     "name": "stdout",
     "output_type": "stream",
     "text": [
      "\n",
      "Crime\n",
      "Offshoring\n",
      "Women\n",
      "Labor Force\n",
      "TV Ads\n",
      "State of the Union\n",
      "Murder\n",
      "FBI\n",
      "War\n",
      "Legal Issues\n",
      "Nuclear\n",
      "Lee Harvey Oswald\n",
      "Manufacturing\n",
      "Eminent Domain\n",
      "Polls\n",
      "Government Leaks\n",
      "Bipartisanship\n",
      "Immigation\n",
      "Budget Shortfall\n"
     ]
    }
   ],
   "source": [
    "for idx, el in enumerate(occurences):\n",
    "    if(idx<20):\n",
    "        print(el)"
   ]
  },
  {
   "cell_type": "markdown",
   "metadata": {},
   "source": [
    "We will convert the dictionary to dataframe for easier manipulation."
   ]
  },
  {
   "cell_type": "code",
   "execution_count": 92,
   "metadata": {},
   "outputs": [],
   "source": [
    "topic_series = pd.Series(occurences)\n",
    "topic_df = pd.DataFrame(topic_series)\n",
    "\n",
    "topic_df.reset_index(inplace=True)\n",
    "topic_df.columns = ['topic','count']"
   ]
  },
  {
   "cell_type": "code",
   "execution_count": 95,
   "metadata": {},
   "outputs": [
    {
     "data": {
      "text/html": [
       "<div>\n",
       "<style>\n",
       "    .dataframe thead tr:only-child th {\n",
       "        text-align: right;\n",
       "    }\n",
       "\n",
       "    .dataframe thead th {\n",
       "        text-align: left;\n",
       "    }\n",
       "\n",
       "    .dataframe tbody tr th {\n",
       "        vertical-align: top;\n",
       "    }\n",
       "</style>\n",
       "<table border=\"1\" class=\"dataframe\">\n",
       "  <thead>\n",
       "    <tr style=\"text-align: right;\">\n",
       "      <th></th>\n",
       "      <th>topic</th>\n",
       "      <th>count</th>\n",
       "    </tr>\n",
       "  </thead>\n",
       "  <tbody>\n",
       "    <tr>\n",
       "      <th>0</th>\n",
       "      <td></td>\n",
       "      <td>3</td>\n",
       "    </tr>\n",
       "    <tr>\n",
       "      <th>1</th>\n",
       "      <td>. Noncitizen voting</td>\n",
       "      <td>1</td>\n",
       "    </tr>\n",
       "    <tr>\n",
       "      <th>2</th>\n",
       "      <td>Abortion</td>\n",
       "      <td>7</td>\n",
       "    </tr>\n",
       "    <tr>\n",
       "      <th>3</th>\n",
       "      <td>Affordable Care Act</td>\n",
       "      <td>3</td>\n",
       "    </tr>\n",
       "    <tr>\n",
       "      <th>4</th>\n",
       "      <td>Afghanistan</td>\n",
       "      <td>3</td>\n",
       "    </tr>\n",
       "    <tr>\n",
       "      <th>5</th>\n",
       "      <td>Afghanistant</td>\n",
       "      <td>1</td>\n",
       "    </tr>\n",
       "    <tr>\n",
       "      <th>6</th>\n",
       "      <td>Agriculture</td>\n",
       "      <td>2</td>\n",
       "    </tr>\n",
       "    <tr>\n",
       "      <th>7</th>\n",
       "      <td>Autism</td>\n",
       "      <td>3</td>\n",
       "    </tr>\n",
       "    <tr>\n",
       "      <th>8</th>\n",
       "      <td>Auto Industry</td>\n",
       "      <td>1</td>\n",
       "    </tr>\n",
       "    <tr>\n",
       "      <th>9</th>\n",
       "      <td>Aviation</td>\n",
       "      <td>1</td>\n",
       "    </tr>\n",
       "  </tbody>\n",
       "</table>\n",
       "</div>"
      ],
      "text/plain": [
       "                 topic  count\n",
       "0                           3\n",
       "1  . Noncitizen voting      1\n",
       "2             Abortion      7\n",
       "3  Affordable Care Act      3\n",
       "4          Afghanistan      3\n",
       "5         Afghanistant      1\n",
       "6          Agriculture      2\n",
       "7               Autism      3\n",
       "8        Auto Industry      1\n",
       "9             Aviation      1"
      ]
     },
     "execution_count": 95,
     "metadata": {},
     "output_type": "execute_result"
    }
   ],
   "source": [
    "topic_df.head(10)"
   ]
  },
  {
   "cell_type": "markdown",
   "metadata": {},
   "source": [
    "What are the top 50 topics in news, by frequency?"
   ]
  },
  {
   "cell_type": "code",
   "execution_count": 96,
   "metadata": {},
   "outputs": [],
   "source": [
    "topic_df_sorted = topic_df.sort_values(by='count', ascending=False)\n",
    "\n",
    "top_50 = topic_df_sorted[50:0:-1]"
   ]
  },
  {
   "cell_type": "code",
   "execution_count": 101,
   "metadata": {
    "scrolled": true
   },
   "outputs": [
    {
     "data": {
      "text/html": [
       "<div>\n",
       "<style>\n",
       "    .dataframe thead tr:only-child th {\n",
       "        text-align: right;\n",
       "    }\n",
       "\n",
       "    .dataframe thead th {\n",
       "        text-align: left;\n",
       "    }\n",
       "\n",
       "    .dataframe tbody tr th {\n",
       "        vertical-align: top;\n",
       "    }\n",
       "</style>\n",
       "<table border=\"1\" class=\"dataframe\">\n",
       "  <thead>\n",
       "    <tr style=\"text-align: right;\">\n",
       "      <th></th>\n",
       "      <th>topic</th>\n",
       "      <th>count</th>\n",
       "    </tr>\n",
       "  </thead>\n",
       "  <tbody>\n",
       "    <tr>\n",
       "      <th>99</th>\n",
       "      <td>Foreign Policy</td>\n",
       "      <td>158</td>\n",
       "    </tr>\n",
       "    <tr>\n",
       "      <th>116</th>\n",
       "      <td>Health Care</td>\n",
       "      <td>142</td>\n",
       "    </tr>\n",
       "    <tr>\n",
       "      <th>147</th>\n",
       "      <td>Jobs</td>\n",
       "      <td>130</td>\n",
       "    </tr>\n",
       "    <tr>\n",
       "      <th>72</th>\n",
       "      <td>Economy</td>\n",
       "      <td>119</td>\n",
       "    </tr>\n",
       "    <tr>\n",
       "      <th>236</th>\n",
       "      <td>Taxes</td>\n",
       "      <td>110</td>\n",
       "    </tr>\n",
       "  </tbody>\n",
       "</table>\n",
       "</div>"
      ],
      "text/plain": [
       "              topic  count\n",
       "99   Foreign Policy    158\n",
       "116     Health Care    142\n",
       "147            Jobs    130\n",
       "72          Economy    119\n",
       "236           Taxes    110"
      ]
     },
     "execution_count": 101,
     "metadata": {},
     "output_type": "execute_result"
    }
   ],
   "source": [
    "top_50.sort_values(by='count', ascending=False).head()"
   ]
  },
  {
   "cell_type": "markdown",
   "metadata": {},
   "source": [
    "We will show top 50 topics as a bar chart, to more easily convey the importance of certain topics by frequency."
   ]
  },
  {
   "cell_type": "code",
   "execution_count": 98,
   "metadata": {
    "scrolled": true
   },
   "outputs": [
    {
     "data": {
      "text/html": [
       "\n",
       "        <iframe\n",
       "            width=\"100%\"\n",
       "            height=\"800px\"\n",
       "            src=\"html/top50_topics.html\"\n",
       "            frameborder=\"0\"\n",
       "            allowfullscreen\n",
       "        ></iframe>\n",
       "        "
      ],
      "text/plain": [
       "<IPython.lib.display.IFrame at 0x22e965f7390>"
      ]
     },
     "metadata": {},
     "output_type": "display_data"
    }
   ],
   "source": [
    "data = [go.Bar(\n",
    "            y=top_50['topic'],\n",
    "            x=top_50['count'],\n",
    "            orientation='h'\n",
    "    )]\n",
    "    \n",
    "layout = go.Layout(\n",
    "        title = 'Top 50 news topics of Trump and his administration',\n",
    "        yaxis = {'title': 'Topic'},\n",
    "        xaxis = {'title': 'Count'},\n",
    "    )\n",
    "    \n",
    "fig = go.Figure(data=data, layout=layout)\n",
    "plotly.offline.plot(fig, filename='html/top50_topics.html')\n",
    "display(IFrame('html/top50_topics.html', \"100%\", \"800px\"))"
   ]
  },
  {
   "cell_type": "markdown",
   "metadata": {},
   "source": [
    "## Topics of Donald Trump administration (since January 20, 2017)"
   ]
  },
  {
   "cell_type": "markdown",
   "metadata": {},
   "source": [
    "We are interested in topics of Donald Trump administration, what has been in the news, what topics, since he took over as POTUS."
   ]
  },
  {
   "cell_type": "code",
   "execution_count": 102,
   "metadata": {},
   "outputs": [
    {
     "name": "stderr",
     "output_type": "stream",
     "text": [
      "C:\\Users\\Viktor\\AppData\\Local\\conda\\conda\\envs\\ada\\lib\\site-packages\\pandas\\core\\generic.py:3660: SettingWithCopyWarning:\n",
      "\n",
      "\n",
      "A value is trying to be set on a copy of a slice from a DataFrame\n",
      "\n",
      "See the caveats in the documentation: http://pandas.pydata.org/pandas-docs/stable/indexing.html#indexing-view-versus-copy\n",
      "\n"
     ]
    }
   ],
   "source": [
    "trump_admin = get_topics_in_period(news, '2017-01-20', '2018-01-01')"
   ]
  },
  {
   "cell_type": "code",
   "execution_count": 105,
   "metadata": {},
   "outputs": [
    {
     "data": {
      "text/html": [
       "\n",
       "        <iframe\n",
       "            width=\"100%\"\n",
       "            height=\"500px\"\n",
       "            src=\"html/top_20_administration_news.html\"\n",
       "            frameborder=\"0\"\n",
       "            allowfullscreen\n",
       "        ></iframe>\n",
       "        "
      ],
      "text/plain": [
       "<IPython.lib.display.IFrame at 0x22e96305f60>"
      ]
     },
     "metadata": {},
     "output_type": "display_data"
    }
   ],
   "source": [
    "show_top_topics_plotly_bar(trump_admin, 20, 'Top 20 Trump administration news topics', 'top_20_administration_news.html')"
   ]
  },
  {
   "cell_type": "markdown",
   "metadata": {},
   "source": [
    "#### An overview of news topics over years"
   ]
  },
  {
   "cell_type": "code",
   "execution_count": 106,
   "metadata": {},
   "outputs": [
    {
     "name": "stderr",
     "output_type": "stream",
     "text": [
      "C:\\Users\\Viktor\\AppData\\Local\\conda\\conda\\envs\\ada\\lib\\site-packages\\pandas\\core\\generic.py:3660: SettingWithCopyWarning:\n",
      "\n",
      "\n",
      "A value is trying to be set on a copy of a slice from a DataFrame\n",
      "\n",
      "See the caveats in the documentation: http://pandas.pydata.org/pandas-docs/stable/indexing.html#indexing-view-versus-copy\n",
      "\n"
     ]
    },
    {
     "data": {
      "text/html": [
       "\n",
       "        <iframe\n",
       "            width=\"100%\"\n",
       "            height=\"500px\"\n",
       "            src=\"html/top_topics2009.html\"\n",
       "            frameborder=\"0\"\n",
       "            allowfullscreen\n",
       "        ></iframe>\n",
       "        "
      ],
      "text/plain": [
       "<IPython.lib.display.IFrame at 0x22e965f7a20>"
      ]
     },
     "metadata": {},
     "output_type": "display_data"
    },
    {
     "data": {
      "text/html": [
       "\n",
       "        <iframe\n",
       "            width=\"100%\"\n",
       "            height=\"500px\"\n",
       "            src=\"html/top_topics2010.html\"\n",
       "            frameborder=\"0\"\n",
       "            allowfullscreen\n",
       "        ></iframe>\n",
       "        "
      ],
      "text/plain": [
       "<IPython.lib.display.IFrame at 0x22e947f56d8>"
      ]
     },
     "metadata": {},
     "output_type": "display_data"
    },
    {
     "data": {
      "text/html": [
       "\n",
       "        <iframe\n",
       "            width=\"100%\"\n",
       "            height=\"500px\"\n",
       "            src=\"html/top_topics2011.html\"\n",
       "            frameborder=\"0\"\n",
       "            allowfullscreen\n",
       "        ></iframe>\n",
       "        "
      ],
      "text/plain": [
       "<IPython.lib.display.IFrame at 0x22e91961c18>"
      ]
     },
     "metadata": {},
     "output_type": "display_data"
    },
    {
     "data": {
      "text/html": [
       "\n",
       "        <iframe\n",
       "            width=\"100%\"\n",
       "            height=\"500px\"\n",
       "            src=\"html/top_topics2012.html\"\n",
       "            frameborder=\"0\"\n",
       "            allowfullscreen\n",
       "        ></iframe>\n",
       "        "
      ],
      "text/plain": [
       "<IPython.lib.display.IFrame at 0x22e965670f0>"
      ]
     },
     "metadata": {},
     "output_type": "display_data"
    },
    {
     "data": {
      "text/html": [
       "\n",
       "        <iframe\n",
       "            width=\"100%\"\n",
       "            height=\"500px\"\n",
       "            src=\"html/top_topics2013.html\"\n",
       "            frameborder=\"0\"\n",
       "            allowfullscreen\n",
       "        ></iframe>\n",
       "        "
      ],
      "text/plain": [
       "<IPython.lib.display.IFrame at 0x22e970fdfd0>"
      ]
     },
     "metadata": {},
     "output_type": "display_data"
    },
    {
     "data": {
      "text/html": [
       "\n",
       "        <iframe\n",
       "            width=\"100%\"\n",
       "            height=\"500px\"\n",
       "            src=\"html/top_topics2014.html\"\n",
       "            frameborder=\"0\"\n",
       "            allowfullscreen\n",
       "        ></iframe>\n",
       "        "
      ],
      "text/plain": [
       "<IPython.lib.display.IFrame at 0x22e977d7d68>"
      ]
     },
     "metadata": {},
     "output_type": "display_data"
    },
    {
     "data": {
      "text/html": [
       "\n",
       "        <iframe\n",
       "            width=\"100%\"\n",
       "            height=\"500px\"\n",
       "            src=\"html/top_topics2015.html\"\n",
       "            frameborder=\"0\"\n",
       "            allowfullscreen\n",
       "        ></iframe>\n",
       "        "
      ],
      "text/plain": [
       "<IPython.lib.display.IFrame at 0x22e97730160>"
      ]
     },
     "metadata": {},
     "output_type": "display_data"
    },
    {
     "data": {
      "text/html": [
       "\n",
       "        <iframe\n",
       "            width=\"100%\"\n",
       "            height=\"500px\"\n",
       "            src=\"html/top_topics2016.html\"\n",
       "            frameborder=\"0\"\n",
       "            allowfullscreen\n",
       "        ></iframe>\n",
       "        "
      ],
      "text/plain": [
       "<IPython.lib.display.IFrame at 0x22e966e5128>"
      ]
     },
     "metadata": {},
     "output_type": "display_data"
    },
    {
     "data": {
      "text/html": [
       "\n",
       "        <iframe\n",
       "            width=\"100%\"\n",
       "            height=\"500px\"\n",
       "            src=\"html/top_topics2017.html\"\n",
       "            frameborder=\"0\"\n",
       "            allowfullscreen\n",
       "        ></iframe>\n",
       "        "
      ],
      "text/plain": [
       "<IPython.lib.display.IFrame at 0x22e947f56d8>"
      ]
     },
     "metadata": {},
     "output_type": "display_data"
    }
   ],
   "source": [
    "for i in range(2009, 2018):\n",
    "    tmp = get_topics_in_period(news, str(i)+'-01-01', str(i)+'-12-31')\n",
    "    show_top_topics_plotly(tmp, 10, i)"
   ]
  },
  {
   "cell_type": "markdown",
   "metadata": {},
   "source": [
    "# How does Trump react to the events in the news?"
   ]
  },
  {
   "cell_type": "markdown",
   "metadata": {},
   "source": [
    "We are interested in finding how Donald Trump reacts on his Twitter to certain topics that appear in the news. To achieve this, we tackle the problem from two sides, asking the questions:\n",
    "* when Trump tweets about certain topics, what is in news?\n",
    "* when there are certain topics in news, what does Trump tweet about? \n",
    "\n",
    "The first question would provide an insight of possible manipulation of his followers, if he tweets of certain explosive topics which do not correlate anyhow to what is in news, in order to distract people. This perspective should provide an insight when he uses certain hashtags and people to fight off some topics in news.\n",
    "\n",
    "The second question strives to have an overview of whom does Trump mention and what hashtags he uses when certain topics are in the news. This is a more general overview, based on the news topics to see if they provoke a typical reaction and sentiment, and how Trump expresses it in his tweets.\n",
    "\n",
    "\n",
    "We define helper functions to extract mentions and hashtags from the tweets in the specified timeframe."
   ]
  },
  {
   "cell_type": "code",
   "execution_count": 110,
   "metadata": {},
   "outputs": [],
   "source": [
    "def mentions_hashtags_in_period(tweets, from_date, to_date):\n",
    "    '''\n",
    "    A function to retrieve all mentions and hashtags from the tweets between specified dates.\n",
    "    \n",
    "    Parameters:\n",
    "    tweets -- Twitter API based dataframe\n",
    "    from_date -- starting date to consider (valid string or pandas timestamp)\n",
    "    to_date -- ending date to consider (valid string or pandas timestamp)\n",
    "    \n",
    "    Returns:\n",
    "    mentions -- python list of mentions entity objects\n",
    "    hashtags -- python list of hashtags entity objects\n",
    "    '''\n",
    "    tweets_in_period = tweets.loc[(tweets.created_at>=pd.Timestamp(from_date)) & (tweets.created_at<=pd.Timestamp(to_date))]\n",
    "    \n",
    "    mentions = []\n",
    "    hashtags = []\n",
    "    \n",
    "    for idx, tweet in tweets_in_period.iterrows():\n",
    "        for mention in tweet.entities['user_mentions']:\n",
    "            mentions.append(mention)\n",
    "        \n",
    "        for hashtag in tweet.entities['hashtags']:\n",
    "            hashtags.append(hashtag)\n",
    "    \n",
    "    return mentions, hashtags"
   ]
  },
  {
   "cell_type": "code",
   "execution_count": 107,
   "metadata": {},
   "outputs": [],
   "source": [
    "# in case we want to observe only from the announcement of the candidacy\n",
    "tweets_2015 = tweets.loc[tweets.created_at>pd.Timestamp('2015-01-01')]"
   ]
  },
  {
   "cell_type": "markdown",
   "metadata": {},
   "source": [
    "We define helpers to find news with specified topics, as well as news with specified topics in selected timeframe."
   ]
  },
  {
   "cell_type": "code",
   "execution_count": 111,
   "metadata": {},
   "outputs": [],
   "source": [
    "def find_news_with_topics(news, topic_list):\n",
    "    '''\n",
    "    Function for retrieving all the news that contain any of the topics specified in the list.\n",
    "    \n",
    "    Parameters:\n",
    "    news -- news dataset dataframe\n",
    "    topic_list -- python list of strings specifying topics\n",
    "    \n",
    "    Returns:\n",
    "    ret_list -- python list containing rows of news dataframe\n",
    "    '''\n",
    "    ret_list = []\n",
    "    \n",
    "    for topic in topic_list:\n",
    "        for idx, row in news.iterrows():\n",
    "            if(topic in row['Topic List'].split(',')):\n",
    "                ret_list.append(row)\n",
    "                \n",
    "    return ret_list\n",
    "\n",
    "\n",
    "def find_news_with_topics_timeframe(news, topic_list, from_date, to_date):\n",
    "    '''\n",
    "    Function for retrieving all the news that contain any of the topics specified in the list, in the given timeframe.\n",
    "    \n",
    "    Parameters:\n",
    "    news -- news dataset dataframe\n",
    "    topic_list -- python list of strings specifying topics\n",
    "    from_date -- starting date to consider (valid string or pandas timestamp)\n",
    "    to_date -- ending date to consider (valid string or pandas timestamp)\n",
    "    \n",
    "    Returns:\n",
    "    ret_list -- python list containing rows of news dataframe\n",
    "    '''\n",
    "    news_timeframe = news.loc[(news['Date of Airing (EST)']>=pd.Timestamp(from_date)) & (news['Date of Airing (EST)']<=pd.Timestamp(to_date))]\n",
    "    \n",
    "    return find_news_with_topics(news_timeframe, topic_list)"
   ]
  },
  {
   "cell_type": "markdown",
   "metadata": {},
   "source": [
    "Here we demonstrate this function, it returns a list of news in the specified timeframe, containing either topics of Russia or Legal Issues. We display only first 3 entries."
   ]
  },
  {
   "cell_type": "code",
   "execution_count": 112,
   "metadata": {},
   "outputs": [
    {
     "data": {
      "text/plain": [
       "[Date of Airing (EST)                                  2017-08-06 00:00:00\n",
       " Topic List                     North Korea,China,Russia,Homeland Security\n",
       " Fact Check              http://www.politifact.com/truth-o-meter/statem...\n",
       " TV Clip                 https://archive.org/details/CNNW_20170806_0900...\n",
       " Organization                                                   PolitiFact\n",
       " Collection                                                   trumparchive\n",
       " Name: 163, dtype: object,\n",
       " Date of Airing (EST)                                  2017-08-03 00:00:00\n",
       " Topic List                                  Clinton Emails,Nuclear,Russia\n",
       " Fact Check              http://www.factcheck.org/2017/08/factchecking-...\n",
       " TV Clip                 https://archive.org/details/CSPAN_20170803_230...\n",
       " Organization                                                FactCheck.org\n",
       " Collection                                                   trumparchive\n",
       " Name: 166, dtype: object,\n",
       " Date of Airing (EST)                                  2017-08-03 00:00:00\n",
       " Topic List                                                    Jobs,Russia\n",
       " Fact Check              http://www.factcheck.org/2017/08/factchecking-...\n",
       " TV Clip                 https://archive.org/details/CSPAN_20170803_230...\n",
       " Organization                                                FactCheck.org\n",
       " Collection                                                   trumparchive\n",
       " Name: 167, dtype: object]"
      ]
     },
     "execution_count": 112,
     "metadata": {},
     "output_type": "execute_result"
    }
   ],
   "source": [
    "find_news_with_topics_timeframe(news, ['Russia','Legal Issues'],'2017-06-06','2017-10-06')[:3]"
   ]
  },
  {
   "cell_type": "markdown",
   "metadata": {},
   "source": [
    " ### What is in the news when Trump tweets about certain topics?\n",
    " \n",
    " When Trump tweets about certain subjects or people, what might be in the news - what topics are covered? \n",
    " \n",
    " In order to find out, we will extract the tweets with manually specified mentions, hashtags or containing some text we specify. Afterwards we scan the news near the creation time (with specified period of +- days to consider) and collect the topics.\n",
    " \n",
    "To achieve that and get a general sense of whom or what general topic does tweet address, we will first define utility functions to extract tweets of interest:\n",
    "* containing specified mentions - screen names\n",
    "* containing specified hashtags - text display\n",
    "* containing specified parts of text"
   ]
  },
  {
   "cell_type": "code",
   "execution_count": 113,
   "metadata": {},
   "outputs": [],
   "source": [
    "def get_tweets_mentions_hashtags(tweets, mentions, hashtags, text_parts):\n",
    "    '''\n",
    "    Function to get tweets with any of the names in the list of mentions, any of the names in hashtags and\n",
    "    any of the text in textual parts of the tweet.\n",
    "    \n",
    "    Parameters:\n",
    "    tweets -- Twitter API based dataframe\n",
    "    mentions -- python list of strings of screen names to match\n",
    "    hashtags -- python list of strings of hashtag texts to match\n",
    "    text_parts -- python list of strings of part of tweet text to match\n",
    "    \n",
    "    Returns:\n",
    "    ret_list -- python list of tweets dataframe rows satisfying any of the conditions\n",
    "    '''\n",
    "    ret_list = []\n",
    "    \n",
    "    for idx, tweet in tweets.iterrows():\n",
    "        check = False\n",
    "        for t in tweet.entities['hashtags']:\n",
    "            if(t['text'] in hashtags):\n",
    "                check = True\n",
    "                break\n",
    "        \n",
    "        for t in tweet.entities['user_mentions']:\n",
    "            if(t['screen_name'] in mentions):\n",
    "                check = True\n",
    "                break\n",
    "        \n",
    "        for t in text_parts:\n",
    "            if(type(tweet.text)==str):\n",
    "                if(t in tweet.text.lower()):\n",
    "                    check = True\n",
    "            else:\n",
    "                if(t in tweet.full_text.lower()):\n",
    "                    check = True\n",
    "        \n",
    "        if(check):\n",
    "            ret_list.append(tweet)\n",
    "    \n",
    "    return ret_list   "
   ]
  },
  {
   "cell_type": "markdown",
   "metadata": {},
   "source": [
    "When having the set of tweets with desired elements, we can then proceed to extracting the topics from the news which have been published in a certain time period after the tweet."
   ]
  },
  {
   "cell_type": "code",
   "execution_count": 115,
   "metadata": {},
   "outputs": [],
   "source": [
    "def get_topics_tweet(extracted_tweets, news, days_delta):\n",
    "    '''\n",
    "    Function for finding the topics in the news in the date around the creation date of a tweet, \n",
    "    in a given timeframe of specified number of days.\n",
    "    \n",
    "    Parameters:\n",
    "    extracted_tweets -- python list of Twitter API dataframe rows\n",
    "    news -- dataframe of news\n",
    "    days_delta -- maximum number of days to consider after the creation of the tweet \n",
    "    \n",
    "    Returns:\n",
    "    topics_tweet -- python list of string\n",
    "    '''\n",
    "    topics_tweet = []\n",
    "\n",
    "    for et in extracted_tweets:\n",
    "        start_date = et.created_at# - pd.Timedelta(days=days_delta) - be strict to have more confidence in results\n",
    "        end_date = et.created_at + pd.Timedelta(days=days_delta)\n",
    "        topics_tweet.append(get_topics_in_period(news, start_date, end_date))\n",
    "        \n",
    "    return topics_tweet\n",
    "\n",
    "# to make our life easier, we define a wrapper for both topics and tweets\n",
    "def get_news_topics_for_tweet_topics(news, tweets, mentions, hashtags, text_parts, max_days_apart):\n",
    "    '''\n",
    "    Gets topics from the news in the date around when tweets were published, +- max_days apart.\n",
    "    We filter all the tweets to select by providing lists of mentions, hashtags or parts of text to contain.\n",
    "    \n",
    "    Parameters:\n",
    "    news -- news dataframe\n",
    "    tweets -- tweets dataframe\n",
    "    mentions -- python list of strings\n",
    "    hashtags -- python list of strings\n",
    "    text_parts -- python list of strings\n",
    "    max_days_apart -- integer\n",
    "    \n",
    "    Returns:\n",
    "    aggregated_df -- returns a dataframe with aggregated topics and their counts summed\n",
    "    selected_tweets -- python list of dataframe rows containing selected tweets with the given criteria\n",
    "    '''\n",
    "    selected_tweets = get_tweets_mentions_hashtags(tweets, mentions, hashtags, text_parts)\n",
    "    \n",
    "    topics = get_topics_tweet(selected_tweets, news, max_days_apart)\n",
    "    \n",
    "    topics_df = pd.DataFrame()\n",
    "    \n",
    "    for topic in topics:\n",
    "        topics_df = topics_df.append(topic)\n",
    "        \n",
    "    aggregated_df = topics_df.groupby('topic').aggregate('sum').sort_values('count', ascending=False)\n",
    "    \n",
    "    return aggregated_df, selected_tweets"
   ]
  },
  {
   "cell_type": "markdown",
   "metadata": {},
   "source": [
    "We will demonstrate the principle by collecting the news topics when some of the fake news elements appear in his tweets, namely:\n",
    "* hashtags: FNN, FakeNews, FraudNewsCNN\n",
    "* text contains: fake news\n",
    "* we observe the news 2 days before and after tweet was published\n",
    "\n",
    "We can possibly see what topics he considers fake news, if certain topics appear more frequently than others:"
   ]
  },
  {
   "cell_type": "code",
   "execution_count": 117,
   "metadata": {
    "scrolled": true
   },
   "outputs": [
    {
     "name": "stderr",
     "output_type": "stream",
     "text": [
      "C:\\Users\\Viktor\\AppData\\Local\\conda\\conda\\envs\\ada\\lib\\site-packages\\pandas\\core\\generic.py:3660: SettingWithCopyWarning:\n",
      "\n",
      "\n",
      "A value is trying to be set on a copy of a slice from a DataFrame\n",
      "\n",
      "See the caveats in the documentation: http://pandas.pydata.org/pandas-docs/stable/indexing.html#indexing-view-versus-copy\n",
      "\n"
     ]
    }
   ],
   "source": [
    "fake_news, fake_tweets = get_news_topics_for_tweet_topics(news, tweets_2015, [], ['FNN','FakeNews','FraudNewsCNN'], ['fake news'], 2)"
   ]
  },
  {
   "cell_type": "code",
   "execution_count": 118,
   "metadata": {},
   "outputs": [
    {
     "data": {
      "text/html": [
       "<div>\n",
       "<style>\n",
       "    .dataframe thead tr:only-child th {\n",
       "        text-align: right;\n",
       "    }\n",
       "\n",
       "    .dataframe thead th {\n",
       "        text-align: left;\n",
       "    }\n",
       "\n",
       "    .dataframe tbody tr th {\n",
       "        vertical-align: top;\n",
       "    }\n",
       "</style>\n",
       "<table border=\"1\" class=\"dataframe\">\n",
       "  <thead>\n",
       "    <tr style=\"text-align: right;\">\n",
       "      <th></th>\n",
       "      <th>count</th>\n",
       "    </tr>\n",
       "    <tr>\n",
       "      <th>topic</th>\n",
       "      <th></th>\n",
       "    </tr>\n",
       "  </thead>\n",
       "  <tbody>\n",
       "    <tr>\n",
       "      <th>Immigration</th>\n",
       "      <td>93.0</td>\n",
       "    </tr>\n",
       "    <tr>\n",
       "      <th>Health Care</th>\n",
       "      <td>70.0</td>\n",
       "    </tr>\n",
       "    <tr>\n",
       "      <th>Jobs</th>\n",
       "      <td>68.0</td>\n",
       "    </tr>\n",
       "    <tr>\n",
       "      <th>Taxes</th>\n",
       "      <td>65.0</td>\n",
       "    </tr>\n",
       "    <tr>\n",
       "      <th>Homeland Security</th>\n",
       "      <td>63.0</td>\n",
       "    </tr>\n",
       "    <tr>\n",
       "      <th>Economy</th>\n",
       "      <td>47.0</td>\n",
       "    </tr>\n",
       "    <tr>\n",
       "      <th>Crime</th>\n",
       "      <td>47.0</td>\n",
       "    </tr>\n",
       "    <tr>\n",
       "      <th>Nuclear</th>\n",
       "      <td>43.0</td>\n",
       "    </tr>\n",
       "    <tr>\n",
       "      <th>Trade</th>\n",
       "      <td>36.0</td>\n",
       "    </tr>\n",
       "    <tr>\n",
       "      <th>Terrorism</th>\n",
       "      <td>36.0</td>\n",
       "    </tr>\n",
       "  </tbody>\n",
       "</table>\n",
       "</div>"
      ],
      "text/plain": [
       "                   count\n",
       "topic                   \n",
       "Immigration         93.0\n",
       "Health Care         70.0\n",
       "Jobs                68.0\n",
       "Taxes               65.0\n",
       "Homeland Security   63.0\n",
       "Economy             47.0\n",
       "Crime               47.0\n",
       "Nuclear             43.0\n",
       "Trade               36.0\n",
       "Terrorism           36.0"
      ]
     },
     "execution_count": 118,
     "metadata": {},
     "output_type": "execute_result"
    }
   ],
   "source": [
    "fake_news.head(10)"
   ]
  },
  {
   "cell_type": "markdown",
   "metadata": {},
   "source": [
    "We can observe what topics are in the news around the time Trump tweets about fake news - mostly very serious and controversial topics for Trump's cabinet."
   ]
  },
  {
   "cell_type": "code",
   "execution_count": 120,
   "metadata": {},
   "outputs": [
    {
     "data": {
      "text/plain": [
       "144"
      ]
     },
     "execution_count": 120,
     "metadata": {},
     "output_type": "execute_result"
    }
   ],
   "source": [
    "len(fake_tweets)"
   ]
  },
  {
   "cell_type": "markdown",
   "metadata": {},
   "source": [
    "He has tweeted about fake news 144 times, while we will also show the distribution over time, since 2015.\n",
    "\n",
    "For that we will introduce helper functions to aggregate and show data."
   ]
  },
  {
   "cell_type": "code",
   "execution_count": 150,
   "metadata": {},
   "outputs": [],
   "source": [
    "def dataframe_tweets_topics(extracted_tweets):\n",
    "    dct = {}\n",
    "    \n",
    "    # aggregating over dates\n",
    "    for t in extracted_tweets:\n",
    "        key = t['created_at'].date()\n",
    "\n",
    "        if key in dct:\n",
    "            dct[key] += 1\n",
    "        else:\n",
    "            dct[key] = 1\n",
    "    \n",
    "    p_df = pd.DataFrame.from_dict(dct, orient='index').reset_index()\n",
    "    p_df.columns = ['date', 'value']\n",
    "    \n",
    "    return p_df"
   ]
  },
  {
   "cell_type": "code",
   "execution_count": 151,
   "metadata": {},
   "outputs": [],
   "source": [
    "fake_df = dataframe_tweets_topics(fake_tweets)"
   ]
  },
  {
   "cell_type": "code",
   "execution_count": 339,
   "metadata": {},
   "outputs": [],
   "source": [
    "def show_tweets_plotly_file(tweets_df, title, file_name):\n",
    "    '''\n",
    "    A helper function for displaying tweet frequencies for certain topics.\n",
    "    \n",
    "    Parameters:\n",
    "    topic_df -- topic dataframe containing topic and count, from the news dataset\n",
    "    number -- number of top topics to consider\n",
    "    title -- title to display\n",
    "    file_name -- name of the output html file.\n",
    "    \n",
    "    Returns:\n",
    "    nothing, saves the charts in html folder.\n",
    "    ''' \n",
    "    data = [go.Scatter(\n",
    "                x = tweets_df['date'],\n",
    "                y = tweets_df['value'],\n",
    "                mode = 'markers',\n",
    "                name = 'markers'\n",
    "            )]\n",
    "    \n",
    "    layout = go.Layout(\n",
    "        title = title,\n",
    "        yaxis = {'title': 'Number'},\n",
    "        xaxis = {'title': 'Date'},\n",
    "    )\n",
    "    \n",
    "    fig = go.Figure(data=data, layout=layout)\n",
    "    plotly.offline.plot(fig, filename='html/'+file_name)\n",
    "    display(IFrame('html/'+file_name, \"100%\", \"500px\"))"
   ]
  },
  {
   "cell_type": "code",
   "execution_count": 340,
   "metadata": {},
   "outputs": [
    {
     "data": {
      "text/html": [
       "\n",
       "        <iframe\n",
       "            width=\"100%\"\n",
       "            height=\"500px\"\n",
       "            src=\"html/fake_tweet_freq.html\"\n",
       "            frameborder=\"0\"\n",
       "            allowfullscreen\n",
       "        ></iframe>\n",
       "        "
      ],
      "text/plain": [
       "<IPython.lib.display.IFrame at 0x22ea324ccc0>"
      ]
     },
     "metadata": {},
     "output_type": "display_data"
    }
   ],
   "source": [
    "show_tweets_plotly_file(fake_df, '\"Fake news\" tweets frequency', 'fake_tweet_freq.html')"
   ]
  },
  {
   "cell_type": "markdown",
   "metadata": {},
   "source": [
    "We are also interested in stronger evidence about the correlation of fake news tweets with news topics. For that we will observe the news in the whole period, from the first to the last tweet containing certain topic, extracting the news topics in period and then looking at their significance."
   ]
  },
  {
   "cell_type": "code",
   "execution_count": 159,
   "metadata": {},
   "outputs": [],
   "source": [
    "def find_start_end_date(tweets):\n",
    "    '''\n",
    "    Helper function for finding the earliest and latest date of creation in list of tweets.\n",
    "    \n",
    "    Parameters:\n",
    "    tweets -- python list of tweets (tweets dataframe rows)\n",
    "    \n",
    "    Returns:\n",
    "    date_min -- pandas timestamp, earliest date among tweets\n",
    "    date_max -- pandas timestamp, latest date among tweets\n",
    "    '''\n",
    "    date_min = tweets[0].created_at\n",
    "    date_max = tweets[0].created_at\n",
    "    \n",
    "    for t in tweets:\n",
    "        if(t.created_at<date_min):\n",
    "            date_min = t.created_at\n",
    "        if(t.created_at>date_max):\n",
    "            date_max = t.created_at\n",
    "            \n",
    "    return date_min, date_max\n",
    "\n",
    "\n",
    "def normalize_df(df):\n",
    "    '''\n",
    "    Function for normalization of dataframe counts - obtaining the percentage (ratios).\n",
    "    \n",
    "    Parameter:\n",
    "    df -- dataframe with column named 'count' to obtain the ratios expressed as percentage\n",
    "    \n",
    "    Returns:\n",
    "    ret_df -- dataframe with column named 'count' expressed as ratios in percentage\n",
    "    '''\n",
    "    s = df['count'].sum()\n",
    "    \n",
    "    ret_df = df.copy()\n",
    "    \n",
    "    ret_df['count'] = ret_df['count']/s*100\n",
    "    \n",
    "    return ret_df\n",
    "\n",
    "\n",
    "def get_topics_percentage(topics):\n",
    "    '''\n",
    "    Helper function for getting the counts of topics as percentages.\n",
    "    '''\n",
    "    tmp = topics.groupby('topic').sum().sort_values(by='count',ascending=False)\n",
    "    s= float(tmp['count'].sum())\n",
    "    tmp['count'] = tmp['count']/s*100\n",
    "    return tmp\n",
    "\n",
    "\n",
    "def get_topic_count(topics):\n",
    "    '''\n",
    "    Helper function for getting the counts for topics.\n",
    "    '''\n",
    "    tmp = topics.groupby('topic').sum().sort_values(by='count',ascending=False)\n",
    "    return tmp\n",
    "\n",
    "\n",
    "def check_increase_in_mentions(general_topics, news_percentage):\n",
    "    '''\n",
    "    Function for obtaining the multiplier between the general topics in tweets and the topics provided from the news.\n",
    "    '''\n",
    "    tmp = general_topics.join(news_percentage, lsuffix='_topics', rsuffix='_tweets')\n",
    "    \n",
    "    tmp['multiplier'] = tmp['count_tweets']/tmp['count_topics']\n",
    "    \n",
    "    return tmp.sort_values(by=['multiplier'], ascending=False)\n",
    "\n",
    "\n",
    "def check_delta_in_mentions(general_topics, news_percentage):\n",
    "    '''\n",
    "    Function for obtaining the difference between the general topics in tweets and the topics provided from the news.\n",
    "    '''\n",
    "    tmp = general_topics.join(news_percentage, lsuffix='_topics', rsuffix='_tweets')\n",
    "    \n",
    "    tmp['delta'] = tmp['count_tweets']-tmp['count_topics']\n",
    "    tmp['ratio'] = tmp['count_tweets']/tmp['count_topics']\n",
    "    \n",
    "    return tmp.sort_values(by=['ratio','delta'], ascending=False)"
   ]
  },
  {
   "cell_type": "code",
   "execution_count": 160,
   "metadata": {},
   "outputs": [],
   "source": [
    "date_min, date_max = find_start_end_date(fake_tweets)"
   ]
  },
  {
   "cell_type": "markdown",
   "metadata": {},
   "source": [
    "We can see the raw number for topics covered. We are interested in the percentage among all the topics, if there is a noticable signal in the topics."
   ]
  },
  {
   "cell_type": "code",
   "execution_count": 161,
   "metadata": {},
   "outputs": [],
   "source": [
    "fake_news_percentage = normalize_df(fake_news)"
   ]
  },
  {
   "cell_type": "code",
   "execution_count": 162,
   "metadata": {
    "scrolled": true
   },
   "outputs": [
    {
     "data": {
      "text/html": [
       "<div>\n",
       "<style>\n",
       "    .dataframe thead tr:only-child th {\n",
       "        text-align: right;\n",
       "    }\n",
       "\n",
       "    .dataframe thead th {\n",
       "        text-align: left;\n",
       "    }\n",
       "\n",
       "    .dataframe tbody tr th {\n",
       "        vertical-align: top;\n",
       "    }\n",
       "</style>\n",
       "<table border=\"1\" class=\"dataframe\">\n",
       "  <thead>\n",
       "    <tr style=\"text-align: right;\">\n",
       "      <th></th>\n",
       "      <th>count</th>\n",
       "    </tr>\n",
       "    <tr>\n",
       "      <th>topic</th>\n",
       "      <th></th>\n",
       "    </tr>\n",
       "  </thead>\n",
       "  <tbody>\n",
       "    <tr>\n",
       "      <th>Immigration</th>\n",
       "      <td>6.940299</td>\n",
       "    </tr>\n",
       "    <tr>\n",
       "      <th>Health Care</th>\n",
       "      <td>5.223881</td>\n",
       "    </tr>\n",
       "    <tr>\n",
       "      <th>Jobs</th>\n",
       "      <td>5.074627</td>\n",
       "    </tr>\n",
       "    <tr>\n",
       "      <th>Taxes</th>\n",
       "      <td>4.850746</td>\n",
       "    </tr>\n",
       "    <tr>\n",
       "      <th>Homeland Security</th>\n",
       "      <td>4.701493</td>\n",
       "    </tr>\n",
       "    <tr>\n",
       "      <th>Economy</th>\n",
       "      <td>3.507463</td>\n",
       "    </tr>\n",
       "    <tr>\n",
       "      <th>Crime</th>\n",
       "      <td>3.507463</td>\n",
       "    </tr>\n",
       "    <tr>\n",
       "      <th>Nuclear</th>\n",
       "      <td>3.208955</td>\n",
       "    </tr>\n",
       "    <tr>\n",
       "      <th>Trade</th>\n",
       "      <td>2.686567</td>\n",
       "    </tr>\n",
       "    <tr>\n",
       "      <th>Terrorism</th>\n",
       "      <td>2.686567</td>\n",
       "    </tr>\n",
       "  </tbody>\n",
       "</table>\n",
       "</div>"
      ],
      "text/plain": [
       "                      count\n",
       "topic                      \n",
       "Immigration        6.940299\n",
       "Health Care        5.223881\n",
       "Jobs               5.074627\n",
       "Taxes              4.850746\n",
       "Homeland Security  4.701493\n",
       "Economy            3.507463\n",
       "Crime              3.507463\n",
       "Nuclear            3.208955\n",
       "Trade              2.686567\n",
       "Terrorism          2.686567"
      ]
     },
     "execution_count": 162,
     "metadata": {},
     "output_type": "execute_result"
    }
   ],
   "source": [
    "fake_news_percentage.head(10)"
   ]
  },
  {
   "cell_type": "markdown",
   "metadata": {},
   "source": [
    "We need a baseline to compare these percentages to. We can take the percentage of topics present in the news about Trump administration overall."
   ]
  },
  {
   "cell_type": "code",
   "execution_count": 163,
   "metadata": {},
   "outputs": [
    {
     "name": "stderr",
     "output_type": "stream",
     "text": [
      "C:\\Users\\Viktor\\AppData\\Local\\conda\\conda\\envs\\ada\\lib\\site-packages\\pandas\\core\\generic.py:3660: SettingWithCopyWarning:\n",
      "\n",
      "\n",
      "A value is trying to be set on a copy of a slice from a DataFrame\n",
      "\n",
      "See the caveats in the documentation: http://pandas.pydata.org/pandas-docs/stable/indexing.html#indexing-view-versus-copy\n",
      "\n"
     ]
    }
   ],
   "source": [
    "general_topics = get_topics_percentage(get_topics_in_period(news_df=news, start_date=date_min, end_date=date_max))"
   ]
  },
  {
   "cell_type": "markdown",
   "metadata": {},
   "source": [
    "We have obtained the topics from the news in the period, and converted them to percentages in terms of topics."
   ]
  },
  {
   "cell_type": "code",
   "execution_count": 164,
   "metadata": {
    "scrolled": true
   },
   "outputs": [
    {
     "data": {
      "text/html": [
       "<div>\n",
       "<style>\n",
       "    .dataframe thead tr:only-child th {\n",
       "        text-align: right;\n",
       "    }\n",
       "\n",
       "    .dataframe thead th {\n",
       "        text-align: left;\n",
       "    }\n",
       "\n",
       "    .dataframe tbody tr th {\n",
       "        vertical-align: top;\n",
       "    }\n",
       "</style>\n",
       "<table border=\"1\" class=\"dataframe\">\n",
       "  <thead>\n",
       "    <tr style=\"text-align: right;\">\n",
       "      <th></th>\n",
       "      <th>count</th>\n",
       "    </tr>\n",
       "    <tr>\n",
       "      <th>topic</th>\n",
       "      <th></th>\n",
       "    </tr>\n",
       "  </thead>\n",
       "  <tbody>\n",
       "    <tr>\n",
       "      <th>Immigration</th>\n",
       "      <td>6.734007</td>\n",
       "    </tr>\n",
       "    <tr>\n",
       "      <th>Homeland Security</th>\n",
       "      <td>5.521886</td>\n",
       "    </tr>\n",
       "    <tr>\n",
       "      <th>Jobs</th>\n",
       "      <td>5.454545</td>\n",
       "    </tr>\n",
       "    <tr>\n",
       "      <th>Health Care</th>\n",
       "      <td>5.050505</td>\n",
       "    </tr>\n",
       "    <tr>\n",
       "      <th>Taxes</th>\n",
       "      <td>4.242424</td>\n",
       "    </tr>\n",
       "    <tr>\n",
       "      <th>Foreign Policy</th>\n",
       "      <td>3.434343</td>\n",
       "    </tr>\n",
       "    <tr>\n",
       "      <th>Russia</th>\n",
       "      <td>3.299663</td>\n",
       "    </tr>\n",
       "    <tr>\n",
       "      <th>Elections</th>\n",
       "      <td>3.164983</td>\n",
       "    </tr>\n",
       "    <tr>\n",
       "      <th>Crime</th>\n",
       "      <td>3.097643</td>\n",
       "    </tr>\n",
       "    <tr>\n",
       "      <th>Environment</th>\n",
       "      <td>3.030303</td>\n",
       "    </tr>\n",
       "  </tbody>\n",
       "</table>\n",
       "</div>"
      ],
      "text/plain": [
       "                      count\n",
       "topic                      \n",
       "Immigration        6.734007\n",
       "Homeland Security  5.521886\n",
       "Jobs               5.454545\n",
       "Health Care        5.050505\n",
       "Taxes              4.242424\n",
       "Foreign Policy     3.434343\n",
       "Russia             3.299663\n",
       "Elections          3.164983\n",
       "Crime              3.097643\n",
       "Environment        3.030303"
      ]
     },
     "execution_count": 164,
     "metadata": {},
     "output_type": "execute_result"
    }
   ],
   "source": [
    "general_topics.head(10)"
   ]
  },
  {
   "cell_type": "code",
   "execution_count": 173,
   "metadata": {
    "scrolled": false
   },
   "outputs": [
    {
     "data": {
      "text/html": [
       "<div>\n",
       "<style>\n",
       "    .dataframe thead tr:only-child th {\n",
       "        text-align: right;\n",
       "    }\n",
       "\n",
       "    .dataframe thead th {\n",
       "        text-align: left;\n",
       "    }\n",
       "\n",
       "    .dataframe tbody tr th {\n",
       "        vertical-align: top;\n",
       "    }\n",
       "</style>\n",
       "<table border=\"1\" class=\"dataframe\">\n",
       "  <thead>\n",
       "    <tr style=\"text-align: right;\">\n",
       "      <th></th>\n",
       "      <th>count_topics</th>\n",
       "      <th>count_tweets</th>\n",
       "      <th>multiplier</th>\n",
       "    </tr>\n",
       "    <tr>\n",
       "      <th>topic</th>\n",
       "      <th></th>\n",
       "      <th></th>\n",
       "      <th></th>\n",
       "    </tr>\n",
       "  </thead>\n",
       "  <tbody>\n",
       "    <tr>\n",
       "      <th>Immigration</th>\n",
       "      <td>6.734007</td>\n",
       "      <td>6.940299</td>\n",
       "      <td>1.030634</td>\n",
       "    </tr>\n",
       "    <tr>\n",
       "      <th>Health Care</th>\n",
       "      <td>5.050505</td>\n",
       "      <td>5.223881</td>\n",
       "      <td>1.034328</td>\n",
       "    </tr>\n",
       "    <tr>\n",
       "      <th>Jobs</th>\n",
       "      <td>5.454545</td>\n",
       "      <td>5.074627</td>\n",
       "      <td>0.930348</td>\n",
       "    </tr>\n",
       "    <tr>\n",
       "      <th>Taxes</th>\n",
       "      <td>4.242424</td>\n",
       "      <td>4.850746</td>\n",
       "      <td>1.143390</td>\n",
       "    </tr>\n",
       "    <tr>\n",
       "      <th>Homeland Security</th>\n",
       "      <td>5.521886</td>\n",
       "      <td>4.701493</td>\n",
       "      <td>0.851429</td>\n",
       "    </tr>\n",
       "    <tr>\n",
       "      <th>Economy</th>\n",
       "      <td>2.828283</td>\n",
       "      <td>3.507463</td>\n",
       "      <td>1.240139</td>\n",
       "    </tr>\n",
       "    <tr>\n",
       "      <th>Crime</th>\n",
       "      <td>3.097643</td>\n",
       "      <td>3.507463</td>\n",
       "      <td>1.132300</td>\n",
       "    </tr>\n",
       "    <tr>\n",
       "      <th>Nuclear</th>\n",
       "      <td>1.212121</td>\n",
       "      <td>3.208955</td>\n",
       "      <td>2.647388</td>\n",
       "    </tr>\n",
       "    <tr>\n",
       "      <th>Trade</th>\n",
       "      <td>2.087542</td>\n",
       "      <td>2.686567</td>\n",
       "      <td>1.286952</td>\n",
       "    </tr>\n",
       "    <tr>\n",
       "      <th>Terrorism</th>\n",
       "      <td>2.222222</td>\n",
       "      <td>2.686567</td>\n",
       "      <td>1.208955</td>\n",
       "    </tr>\n",
       "  </tbody>\n",
       "</table>\n",
       "</div>"
      ],
      "text/plain": [
       "                   count_topics  count_tweets  multiplier\n",
       "topic                                                    \n",
       "Immigration            6.734007      6.940299    1.030634\n",
       "Health Care            5.050505      5.223881    1.034328\n",
       "Jobs                   5.454545      5.074627    0.930348\n",
       "Taxes                  4.242424      4.850746    1.143390\n",
       "Homeland Security      5.521886      4.701493    0.851429\n",
       "Economy                2.828283      3.507463    1.240139\n",
       "Crime                  3.097643      3.507463    1.132300\n",
       "Nuclear                1.212121      3.208955    2.647388\n",
       "Trade                  2.087542      2.686567    1.286952\n",
       "Terrorism              2.222222      2.686567    1.208955"
      ]
     },
     "execution_count": 173,
     "metadata": {},
     "output_type": "execute_result"
    }
   ],
   "source": [
    "tmp.sort_values('count_tweets', ascending=False).head(10)"
   ]
  },
  {
   "cell_type": "markdown",
   "metadata": {},
   "source": [
    "We can observe a tendency that in the Tweets containing fake news, the frequency of news topics in the days after publishing is for most topics similar.\n",
    "\n",
    "This is somewhat expected, since we are only sampling a subset of general topics. If the tweets are frequent enough, the distribution will be similar.\n",
    "\n",
    "We will thus look into raw numbers to check how the counts in subsample of general news topics in time of publishing of the tweets compares to ones in general distribution of topics through time."
   ]
  },
  {
   "cell_type": "code",
   "execution_count": 175,
   "metadata": {
    "scrolled": true
   },
   "outputs": [
    {
     "name": "stderr",
     "output_type": "stream",
     "text": [
      "C:\\Users\\Viktor\\AppData\\Local\\conda\\conda\\envs\\ada\\lib\\site-packages\\pandas\\core\\generic.py:3660: SettingWithCopyWarning:\n",
      "\n",
      "\n",
      "A value is trying to be set on a copy of a slice from a DataFrame\n",
      "\n",
      "See the caveats in the documentation: http://pandas.pydata.org/pandas-docs/stable/indexing.html#indexing-view-versus-copy\n",
      "\n"
     ]
    }
   ],
   "source": [
    "fake_tmp = check_delta_in_mentions(get_topic_count(get_topics_in_period(news_df=news, start_date=date_min, end_date=date_max)), fake_news)"
   ]
  },
  {
   "cell_type": "code",
   "execution_count": 176,
   "metadata": {
    "scrolled": false
   },
   "outputs": [
    {
     "data": {
      "text/html": [
       "<div>\n",
       "<style>\n",
       "    .dataframe thead tr:only-child th {\n",
       "        text-align: right;\n",
       "    }\n",
       "\n",
       "    .dataframe thead th {\n",
       "        text-align: left;\n",
       "    }\n",
       "\n",
       "    .dataframe tbody tr th {\n",
       "        vertical-align: top;\n",
       "    }\n",
       "</style>\n",
       "<table border=\"1\" class=\"dataframe\">\n",
       "  <thead>\n",
       "    <tr style=\"text-align: right;\">\n",
       "      <th></th>\n",
       "      <th>count_topics</th>\n",
       "      <th>count_tweets</th>\n",
       "      <th>delta</th>\n",
       "      <th>ratio</th>\n",
       "    </tr>\n",
       "    <tr>\n",
       "      <th>topic</th>\n",
       "      <th></th>\n",
       "      <th></th>\n",
       "      <th></th>\n",
       "      <th></th>\n",
       "    </tr>\n",
       "  </thead>\n",
       "  <tbody>\n",
       "    <tr>\n",
       "      <th>Immigration</th>\n",
       "      <td>100</td>\n",
       "      <td>93.0</td>\n",
       "      <td>-7.0</td>\n",
       "      <td>0.930000</td>\n",
       "    </tr>\n",
       "    <tr>\n",
       "      <th>Health Care</th>\n",
       "      <td>75</td>\n",
       "      <td>70.0</td>\n",
       "      <td>-5.0</td>\n",
       "      <td>0.933333</td>\n",
       "    </tr>\n",
       "    <tr>\n",
       "      <th>Jobs</th>\n",
       "      <td>81</td>\n",
       "      <td>68.0</td>\n",
       "      <td>-13.0</td>\n",
       "      <td>0.839506</td>\n",
       "    </tr>\n",
       "    <tr>\n",
       "      <th>Taxes</th>\n",
       "      <td>63</td>\n",
       "      <td>65.0</td>\n",
       "      <td>2.0</td>\n",
       "      <td>1.031746</td>\n",
       "    </tr>\n",
       "    <tr>\n",
       "      <th>Homeland Security</th>\n",
       "      <td>82</td>\n",
       "      <td>63.0</td>\n",
       "      <td>-19.0</td>\n",
       "      <td>0.768293</td>\n",
       "    </tr>\n",
       "    <tr>\n",
       "      <th>Crime</th>\n",
       "      <td>46</td>\n",
       "      <td>47.0</td>\n",
       "      <td>1.0</td>\n",
       "      <td>1.021739</td>\n",
       "    </tr>\n",
       "    <tr>\n",
       "      <th>Economy</th>\n",
       "      <td>42</td>\n",
       "      <td>47.0</td>\n",
       "      <td>5.0</td>\n",
       "      <td>1.119048</td>\n",
       "    </tr>\n",
       "    <tr>\n",
       "      <th>Nuclear</th>\n",
       "      <td>18</td>\n",
       "      <td>43.0</td>\n",
       "      <td>25.0</td>\n",
       "      <td>2.388889</td>\n",
       "    </tr>\n",
       "    <tr>\n",
       "      <th>Trade</th>\n",
       "      <td>31</td>\n",
       "      <td>36.0</td>\n",
       "      <td>5.0</td>\n",
       "      <td>1.161290</td>\n",
       "    </tr>\n",
       "    <tr>\n",
       "      <th>Terrorism</th>\n",
       "      <td>33</td>\n",
       "      <td>36.0</td>\n",
       "      <td>3.0</td>\n",
       "      <td>1.090909</td>\n",
       "    </tr>\n",
       "  </tbody>\n",
       "</table>\n",
       "</div>"
      ],
      "text/plain": [
       "                   count_topics  count_tweets  delta     ratio\n",
       "topic                                                         \n",
       "Immigration                 100          93.0   -7.0  0.930000\n",
       "Health Care                  75          70.0   -5.0  0.933333\n",
       "Jobs                         81          68.0  -13.0  0.839506\n",
       "Taxes                        63          65.0    2.0  1.031746\n",
       "Homeland Security            82          63.0  -19.0  0.768293\n",
       "Crime                        46          47.0    1.0  1.021739\n",
       "Economy                      42          47.0    5.0  1.119048\n",
       "Nuclear                      18          43.0   25.0  2.388889\n",
       "Trade                        31          36.0    5.0  1.161290\n",
       "Terrorism                    33          36.0    3.0  1.090909"
      ]
     },
     "execution_count": 176,
     "metadata": {},
     "output_type": "execute_result"
    }
   ],
   "source": [
    "fake_tmp.sort_values(by='count_tweets', ascending=False).head(10)"
   ]
  },
  {
   "cell_type": "markdown",
   "metadata": {},
   "source": [
    "We can observe the rations and deltas between counts of news topics from the date of first tweet containing \"fake news\" to the last one. Count tweets only takes into consideration news topics only after certain number of days from publishing of the tweets. We can see that even in absolute numbers certain topics have significant overlapping, if not even more mentions through multiple tweets.\n",
    "\n",
    "This might show a significance of what is deemed fake, although a better hypothesis testing is necessary, especially in terms of baseline. Currenlty, with average over time and changing news topics and fluidity of social phenomena, this might not show a signal certain enough."
   ]
  },
  {
   "cell_type": "code",
   "execution_count": 177,
   "metadata": {},
   "outputs": [
    {
     "name": "stderr",
     "output_type": "stream",
     "text": [
      "C:\\Users\\Viktor\\AppData\\Local\\conda\\conda\\envs\\ada\\lib\\site-packages\\pandas\\core\\generic.py:3660: SettingWithCopyWarning:\n",
      "\n",
      "\n",
      "A value is trying to be set on a copy of a slice from a DataFrame\n",
      "\n",
      "See the caveats in the documentation: http://pandas.pydata.org/pandas-docs/stable/indexing.html#indexing-view-versus-copy\n",
      "\n"
     ]
    }
   ],
   "source": [
    "fake_news1, fake_tweets1 = get_news_topics_for_tweet_topics(news, tweets_2015, [], ['FNN','FakeNews','FraudNewsCNN'], ['fake news'], 1)\n",
    "fake_news5, fake_tweets5 = get_news_topics_for_tweet_topics(news, tweets_2015, [], ['FNN','FakeNews','FraudNewsCNN'], ['fake news'], 5)"
   ]
  },
  {
   "cell_type": "markdown",
   "metadata": {},
   "source": [
    "A possible insight is provided by observing different time periods ahead, from the date of publishing of the tweet. We collect news topics in the interval of 1 and 5 days from the creation of the tweets.\n",
    "\n",
    "We are interested how the topics in the news change, in short and longer term. In shorter term we might observe the actual topics reacted to. In longer term we might see news topics developing."
   ]
  },
  {
   "cell_type": "code",
   "execution_count": 178,
   "metadata": {},
   "outputs": [
    {
     "data": {
      "text/html": [
       "<div>\n",
       "<style>\n",
       "    .dataframe thead tr:only-child th {\n",
       "        text-align: right;\n",
       "    }\n",
       "\n",
       "    .dataframe thead th {\n",
       "        text-align: left;\n",
       "    }\n",
       "\n",
       "    .dataframe tbody tr th {\n",
       "        vertical-align: top;\n",
       "    }\n",
       "</style>\n",
       "<table border=\"1\" class=\"dataframe\">\n",
       "  <thead>\n",
       "    <tr style=\"text-align: right;\">\n",
       "      <th></th>\n",
       "      <th>count</th>\n",
       "    </tr>\n",
       "    <tr>\n",
       "      <th>topic</th>\n",
       "      <th></th>\n",
       "    </tr>\n",
       "  </thead>\n",
       "  <tbody>\n",
       "    <tr>\n",
       "      <th>Immigration</th>\n",
       "      <td>48.0</td>\n",
       "    </tr>\n",
       "    <tr>\n",
       "      <th>Taxes</th>\n",
       "      <td>41.0</td>\n",
       "    </tr>\n",
       "    <tr>\n",
       "      <th>Health Care</th>\n",
       "      <td>36.0</td>\n",
       "    </tr>\n",
       "    <tr>\n",
       "      <th>Jobs</th>\n",
       "      <td>33.0</td>\n",
       "    </tr>\n",
       "    <tr>\n",
       "      <th>Economy</th>\n",
       "      <td>29.0</td>\n",
       "    </tr>\n",
       "    <tr>\n",
       "      <th>Homeland Security</th>\n",
       "      <td>23.0</td>\n",
       "    </tr>\n",
       "    <tr>\n",
       "      <th>Crime</th>\n",
       "      <td>23.0</td>\n",
       "    </tr>\n",
       "    <tr>\n",
       "      <th>Terrorism</th>\n",
       "      <td>21.0</td>\n",
       "    </tr>\n",
       "    <tr>\n",
       "      <th>Federal Budget</th>\n",
       "      <td>20.0</td>\n",
       "    </tr>\n",
       "    <tr>\n",
       "      <th>Congress</th>\n",
       "      <td>19.0</td>\n",
       "    </tr>\n",
       "  </tbody>\n",
       "</table>\n",
       "</div>"
      ],
      "text/plain": [
       "                   count\n",
       "topic                   \n",
       "Immigration         48.0\n",
       "Taxes               41.0\n",
       "Health Care         36.0\n",
       "Jobs                33.0\n",
       "Economy             29.0\n",
       "Homeland Security   23.0\n",
       "Crime               23.0\n",
       "Terrorism           21.0\n",
       "Federal Budget      20.0\n",
       "Congress            19.0"
      ]
     },
     "execution_count": 178,
     "metadata": {},
     "output_type": "execute_result"
    }
   ],
   "source": [
    "fake_news1.head(10)"
   ]
  },
  {
   "cell_type": "code",
   "execution_count": 199,
   "metadata": {},
   "outputs": [
    {
     "data": {
      "text/html": [
       "\n",
       "        <iframe\n",
       "            width=\"100%\"\n",
       "            height=\"500px\"\n",
       "            src=\"html/topics1days_fake.html\"\n",
       "            frameborder=\"0\"\n",
       "            allowfullscreen\n",
       "        ></iframe>\n",
       "        "
      ],
      "text/plain": [
       "<IPython.lib.display.IFrame at 0x22e95d7c080>"
      ]
     },
     "metadata": {},
     "output_type": "display_data"
    }
   ],
   "source": [
    "show_top_topics_plotly_bar(topic_df=fake_news1.reset_index(), number=20, \n",
    "                           file_name=\"topics1days_fake.html\", title=\"News topics, up to 1 days after Tweet\")"
   ]
  },
  {
   "cell_type": "code",
   "execution_count": 188,
   "metadata": {
    "scrolled": true
   },
   "outputs": [
    {
     "data": {
      "text/html": [
       "<div>\n",
       "<style>\n",
       "    .dataframe thead tr:only-child th {\n",
       "        text-align: right;\n",
       "    }\n",
       "\n",
       "    .dataframe thead th {\n",
       "        text-align: left;\n",
       "    }\n",
       "\n",
       "    .dataframe tbody tr th {\n",
       "        vertical-align: top;\n",
       "    }\n",
       "</style>\n",
       "<table border=\"1\" class=\"dataframe\">\n",
       "  <thead>\n",
       "    <tr style=\"text-align: right;\">\n",
       "      <th></th>\n",
       "      <th>count</th>\n",
       "    </tr>\n",
       "    <tr>\n",
       "      <th>topic</th>\n",
       "      <th></th>\n",
       "    </tr>\n",
       "  </thead>\n",
       "  <tbody>\n",
       "    <tr>\n",
       "      <th>Immigration</th>\n",
       "      <td>194.0</td>\n",
       "    </tr>\n",
       "    <tr>\n",
       "      <th>Jobs</th>\n",
       "      <td>186.0</td>\n",
       "    </tr>\n",
       "    <tr>\n",
       "      <th>Environment</th>\n",
       "      <td>186.0</td>\n",
       "    </tr>\n",
       "    <tr>\n",
       "      <th>Climate Change</th>\n",
       "      <td>176.0</td>\n",
       "    </tr>\n",
       "    <tr>\n",
       "      <th>Homeland Security</th>\n",
       "      <td>156.0</td>\n",
       "    </tr>\n",
       "    <tr>\n",
       "      <th>Taxes</th>\n",
       "      <td>144.0</td>\n",
       "    </tr>\n",
       "    <tr>\n",
       "      <th>Health Care</th>\n",
       "      <td>132.0</td>\n",
       "    </tr>\n",
       "    <tr>\n",
       "      <th>Economy</th>\n",
       "      <td>124.0</td>\n",
       "    </tr>\n",
       "    <tr>\n",
       "      <th>Foreign Policy</th>\n",
       "      <td>96.0</td>\n",
       "    </tr>\n",
       "    <tr>\n",
       "      <th>Russia</th>\n",
       "      <td>92.0</td>\n",
       "    </tr>\n",
       "  </tbody>\n",
       "</table>\n",
       "</div>"
      ],
      "text/plain": [
       "                   count\n",
       "topic                   \n",
       "Immigration        194.0\n",
       "Jobs               186.0\n",
       "Environment        186.0\n",
       "Climate Change     176.0\n",
       "Homeland Security  156.0\n",
       "Taxes              144.0\n",
       "Health Care        132.0\n",
       "Economy            124.0\n",
       "Foreign Policy      96.0\n",
       "Russia              92.0"
      ]
     },
     "execution_count": 188,
     "metadata": {},
     "output_type": "execute_result"
    }
   ],
   "source": [
    "fake_news5.sort_values('count', ascending=False).head(10)"
   ]
  },
  {
   "cell_type": "code",
   "execution_count": 198,
   "metadata": {
    "scrolled": true
   },
   "outputs": [
    {
     "data": {
      "text/html": [
       "\n",
       "        <iframe\n",
       "            width=\"100%\"\n",
       "            height=\"500px\"\n",
       "            src=\"html/topics5days_fake.html\"\n",
       "            frameborder=\"0\"\n",
       "            allowfullscreen\n",
       "        ></iframe>\n",
       "        "
      ],
      "text/plain": [
       "<IPython.lib.display.IFrame at 0x22e8c55c0f0>"
      ]
     },
     "metadata": {},
     "output_type": "display_data"
    }
   ],
   "source": [
    "show_top_topics_plotly_bar(topic_df=fake_news5.reset_index(), number=20, \n",
    "                           file_name=\"topics5days_fake.html\", title=\"News topics, up to 5 days after Tweet\")"
   ]
  },
  {
   "cell_type": "markdown",
   "metadata": {},
   "source": [
    "We will define a helper function to plot a grouped bar chart for different intervals."
   ]
  },
  {
   "cell_type": "code",
   "execution_count": 222,
   "metadata": {},
   "outputs": [],
   "source": [
    "def plot_grouped_plotly(data_list, file_name, title, number):\n",
    "    data = []\n",
    "    for dl in data_list:\n",
    "        tmp = dl[0].reset_index().sort_values('count',ascending=False)[0:number]\n",
    "\n",
    "        data.append(go.Bar(\n",
    "            y=tmp['topic'],\n",
    "            x=tmp['count'],\n",
    "            orientation='h',\n",
    "            name=dl[1]\n",
    "        ))\n",
    "    \n",
    "    layout = go.Layout(\n",
    "            title = title,\n",
    "            barmode='group',\n",
    "            yaxis = {'title': 'Topic'},\n",
    "            xaxis = {'title': 'Count'},\n",
    "        )\n",
    "    \n",
    "    fig = go.Figure(data=data, layout=layout)\n",
    "    plotly.offline.plot(fig, filename='html/'+file_name)\n",
    "    display(IFrame('html/'+file_name, \"100%\", \"500px\"))"
   ]
  },
  {
   "cell_type": "code",
   "execution_count": 223,
   "metadata": {
    "scrolled": true
   },
   "outputs": [
    {
     "data": {
      "text/html": [
       "\n",
       "        <iframe\n",
       "            width=\"100%\"\n",
       "            height=\"500px\"\n",
       "            src=\"html/fake15.html\"\n",
       "            frameborder=\"0\"\n",
       "            allowfullscreen\n",
       "        ></iframe>\n",
       "        "
      ],
      "text/plain": [
       "<IPython.lib.display.IFrame at 0x22ea0257cf8>"
      ]
     },
     "metadata": {},
     "output_type": "display_data"
    }
   ],
   "source": [
    "plot_grouped_plotly([(fake_news1,'1 day'), (fake_news5,'5 days')], 'fake15.html',\n",
    "                   'Comparison of different intervals for top 20 news topics', 20)"
   ]
  },
  {
   "cell_type": "markdown",
   "metadata": {},
   "source": [
    "We can observe different trends of topics, some of the topics unpaired have different trends in 1 and 5 day interval - they are no longer in the top 20.\n",
    "\n",
    "One presumption might be that \"Fake news\" has been used to discredit media for emerging topics, such as Ethics, Environment or Foreign Policy, while in short term and long term overlapping we could possibly argue that those are topics which would regularly appear in the news (baseline)"
   ]
  },
  {
   "cell_type": "markdown",
   "metadata": {},
   "source": [
    "### What about tweets with Obama?"
   ]
  },
  {
   "cell_type": "code",
   "execution_count": 180,
   "metadata": {},
   "outputs": [
    {
     "name": "stderr",
     "output_type": "stream",
     "text": [
      "C:\\Users\\Viktor\\AppData\\Local\\conda\\conda\\envs\\ada\\lib\\site-packages\\pandas\\core\\generic.py:3660: SettingWithCopyWarning:\n",
      "\n",
      "\n",
      "A value is trying to be set on a copy of a slice from a DataFrame\n",
      "\n",
      "See the caveats in the documentation: http://pandas.pydata.org/pandas-docs/stable/indexing.html#indexing-view-versus-copy\n",
      "\n"
     ]
    }
   ],
   "source": [
    "obama, obama_tweets = get_news_topics_for_tweet_topics(news, tweets_2015, [], [], ['obama'], 2)"
   ]
  },
  {
   "cell_type": "markdown",
   "metadata": {},
   "source": [
    "Total number of topics from the news, up to 2 days from publishing of the tweets containing \"obama\" as a term."
   ]
  },
  {
   "cell_type": "code",
   "execution_count": 200,
   "metadata": {},
   "outputs": [
    {
     "data": {
      "text/html": [
       "<div>\n",
       "<style>\n",
       "    .dataframe thead tr:only-child th {\n",
       "        text-align: right;\n",
       "    }\n",
       "\n",
       "    .dataframe thead th {\n",
       "        text-align: left;\n",
       "    }\n",
       "\n",
       "    .dataframe tbody tr th {\n",
       "        vertical-align: top;\n",
       "    }\n",
       "</style>\n",
       "<table border=\"1\" class=\"dataframe\">\n",
       "  <thead>\n",
       "    <tr style=\"text-align: right;\">\n",
       "      <th></th>\n",
       "      <th>count</th>\n",
       "    </tr>\n",
       "    <tr>\n",
       "      <th>topic</th>\n",
       "      <th></th>\n",
       "    </tr>\n",
       "  </thead>\n",
       "  <tbody>\n",
       "    <tr>\n",
       "      <th>Immigration</th>\n",
       "      <td>157.0</td>\n",
       "    </tr>\n",
       "    <tr>\n",
       "      <th>Health Care</th>\n",
       "      <td>113.0</td>\n",
       "    </tr>\n",
       "    <tr>\n",
       "      <th>Jobs</th>\n",
       "      <td>100.0</td>\n",
       "    </tr>\n",
       "    <tr>\n",
       "      <th>Foreign Policy</th>\n",
       "      <td>95.0</td>\n",
       "    </tr>\n",
       "    <tr>\n",
       "      <th>Crime</th>\n",
       "      <td>76.0</td>\n",
       "    </tr>\n",
       "    <tr>\n",
       "      <th>Elections</th>\n",
       "      <td>75.0</td>\n",
       "    </tr>\n",
       "    <tr>\n",
       "      <th>Homeland Security</th>\n",
       "      <td>66.0</td>\n",
       "    </tr>\n",
       "    <tr>\n",
       "      <th>Economy</th>\n",
       "      <td>65.0</td>\n",
       "    </tr>\n",
       "    <tr>\n",
       "      <th>Terrorism</th>\n",
       "      <td>62.0</td>\n",
       "    </tr>\n",
       "    <tr>\n",
       "      <th>Candidate Biography</th>\n",
       "      <td>49.0</td>\n",
       "    </tr>\n",
       "  </tbody>\n",
       "</table>\n",
       "</div>"
      ],
      "text/plain": [
       "                     count\n",
       "topic                     \n",
       "Immigration          157.0\n",
       "Health Care          113.0\n",
       "Jobs                 100.0\n",
       "Foreign Policy        95.0\n",
       "Crime                 76.0\n",
       "Elections             75.0\n",
       "Homeland Security     66.0\n",
       "Economy               65.0\n",
       "Terrorism             62.0\n",
       "Candidate Biography   49.0"
      ]
     },
     "execution_count": 200,
     "metadata": {},
     "output_type": "execute_result"
    }
   ],
   "source": [
    "obama.head(10)"
   ]
  },
  {
   "cell_type": "markdown",
   "metadata": {},
   "source": [
    "Relative number of topics in percentage of news topics."
   ]
  },
  {
   "cell_type": "code",
   "execution_count": 201,
   "metadata": {},
   "outputs": [
    {
     "data": {
      "text/html": [
       "<div>\n",
       "<style>\n",
       "    .dataframe thead tr:only-child th {\n",
       "        text-align: right;\n",
       "    }\n",
       "\n",
       "    .dataframe thead th {\n",
       "        text-align: left;\n",
       "    }\n",
       "\n",
       "    .dataframe tbody tr th {\n",
       "        vertical-align: top;\n",
       "    }\n",
       "</style>\n",
       "<table border=\"1\" class=\"dataframe\">\n",
       "  <thead>\n",
       "    <tr style=\"text-align: right;\">\n",
       "      <th></th>\n",
       "      <th>count</th>\n",
       "    </tr>\n",
       "    <tr>\n",
       "      <th>topic</th>\n",
       "      <th></th>\n",
       "    </tr>\n",
       "  </thead>\n",
       "  <tbody>\n",
       "    <tr>\n",
       "      <th>Immigration</th>\n",
       "      <td>7.165678</td>\n",
       "    </tr>\n",
       "    <tr>\n",
       "      <th>Health Care</th>\n",
       "      <td>5.157462</td>\n",
       "    </tr>\n",
       "    <tr>\n",
       "      <th>Jobs</th>\n",
       "      <td>4.564126</td>\n",
       "    </tr>\n",
       "    <tr>\n",
       "      <th>Foreign Policy</th>\n",
       "      <td>4.335920</td>\n",
       "    </tr>\n",
       "    <tr>\n",
       "      <th>Crime</th>\n",
       "      <td>3.468736</td>\n",
       "    </tr>\n",
       "    <tr>\n",
       "      <th>Elections</th>\n",
       "      <td>3.423094</td>\n",
       "    </tr>\n",
       "    <tr>\n",
       "      <th>Homeland Security</th>\n",
       "      <td>3.012323</td>\n",
       "    </tr>\n",
       "    <tr>\n",
       "      <th>Economy</th>\n",
       "      <td>2.966682</td>\n",
       "    </tr>\n",
       "    <tr>\n",
       "      <th>Terrorism</th>\n",
       "      <td>2.829758</td>\n",
       "    </tr>\n",
       "    <tr>\n",
       "      <th>Candidate Biography</th>\n",
       "      <td>2.236422</td>\n",
       "    </tr>\n",
       "  </tbody>\n",
       "</table>\n",
       "</div>"
      ],
      "text/plain": [
       "                        count\n",
       "topic                        \n",
       "Immigration          7.165678\n",
       "Health Care          5.157462\n",
       "Jobs                 4.564126\n",
       "Foreign Policy       4.335920\n",
       "Crime                3.468736\n",
       "Elections            3.423094\n",
       "Homeland Security    3.012323\n",
       "Economy              2.966682\n",
       "Terrorism            2.829758\n",
       "Candidate Biography  2.236422"
      ]
     },
     "execution_count": 201,
     "metadata": {},
     "output_type": "execute_result"
    }
   ],
   "source": [
    "o = normalize_df(obama)\n",
    "o.head(10)"
   ]
  },
  {
   "cell_type": "code",
   "execution_count": 202,
   "metadata": {},
   "outputs": [],
   "source": [
    "date_min_o, date_max_o = find_start_end_date(obama_tweets)"
   ]
  },
  {
   "cell_type": "code",
   "execution_count": 203,
   "metadata": {},
   "outputs": [
    {
     "name": "stderr",
     "output_type": "stream",
     "text": [
      "C:\\Users\\Viktor\\AppData\\Local\\conda\\conda\\envs\\ada\\lib\\site-packages\\pandas\\core\\generic.py:3660: SettingWithCopyWarning:\n",
      "\n",
      "\n",
      "A value is trying to be set on a copy of a slice from a DataFrame\n",
      "\n",
      "See the caveats in the documentation: http://pandas.pydata.org/pandas-docs/stable/indexing.html#indexing-view-versus-copy\n",
      "\n"
     ]
    },
    {
     "data": {
      "text/html": [
       "<div>\n",
       "<style>\n",
       "    .dataframe thead tr:only-child th {\n",
       "        text-align: right;\n",
       "    }\n",
       "\n",
       "    .dataframe thead th {\n",
       "        text-align: left;\n",
       "    }\n",
       "\n",
       "    .dataframe tbody tr th {\n",
       "        vertical-align: top;\n",
       "    }\n",
       "</style>\n",
       "<table border=\"1\" class=\"dataframe\">\n",
       "  <thead>\n",
       "    <tr style=\"text-align: right;\">\n",
       "      <th></th>\n",
       "      <th>count_topics</th>\n",
       "      <th>count_tweets</th>\n",
       "      <th>multiplier</th>\n",
       "    </tr>\n",
       "    <tr>\n",
       "      <th>topic</th>\n",
       "      <th></th>\n",
       "      <th></th>\n",
       "      <th></th>\n",
       "    </tr>\n",
       "  </thead>\n",
       "  <tbody>\n",
       "    <tr>\n",
       "      <th>Immigration</th>\n",
       "      <td>6.734007</td>\n",
       "      <td>7.165678</td>\n",
       "      <td>1.064103</td>\n",
       "    </tr>\n",
       "    <tr>\n",
       "      <th>Health Care</th>\n",
       "      <td>5.050505</td>\n",
       "      <td>5.157462</td>\n",
       "      <td>1.021178</td>\n",
       "    </tr>\n",
       "    <tr>\n",
       "      <th>Jobs</th>\n",
       "      <td>5.454545</td>\n",
       "      <td>4.564126</td>\n",
       "      <td>0.836756</td>\n",
       "    </tr>\n",
       "    <tr>\n",
       "      <th>Foreign Policy</th>\n",
       "      <td>3.434343</td>\n",
       "      <td>4.335920</td>\n",
       "      <td>1.262518</td>\n",
       "    </tr>\n",
       "    <tr>\n",
       "      <th>Crime</th>\n",
       "      <td>3.097643</td>\n",
       "      <td>3.468736</td>\n",
       "      <td>1.119798</td>\n",
       "    </tr>\n",
       "    <tr>\n",
       "      <th>Elections</th>\n",
       "      <td>3.164983</td>\n",
       "      <td>3.423094</td>\n",
       "      <td>1.081552</td>\n",
       "    </tr>\n",
       "    <tr>\n",
       "      <th>Homeland Security</th>\n",
       "      <td>5.521886</td>\n",
       "      <td>3.012323</td>\n",
       "      <td>0.545524</td>\n",
       "    </tr>\n",
       "    <tr>\n",
       "      <th>Economy</th>\n",
       "      <td>2.828283</td>\n",
       "      <td>2.966682</td>\n",
       "      <td>1.048934</td>\n",
       "    </tr>\n",
       "    <tr>\n",
       "      <th>Terrorism</th>\n",
       "      <td>2.222222</td>\n",
       "      <td>2.829758</td>\n",
       "      <td>1.273391</td>\n",
       "    </tr>\n",
       "    <tr>\n",
       "      <th>Candidate Biography</th>\n",
       "      <td>0.269360</td>\n",
       "      <td>2.236422</td>\n",
       "      <td>8.302716</td>\n",
       "    </tr>\n",
       "  </tbody>\n",
       "</table>\n",
       "</div>"
      ],
      "text/plain": [
       "                     count_topics  count_tweets  multiplier\n",
       "topic                                                      \n",
       "Immigration              6.734007      7.165678    1.064103\n",
       "Health Care              5.050505      5.157462    1.021178\n",
       "Jobs                     5.454545      4.564126    0.836756\n",
       "Foreign Policy           3.434343      4.335920    1.262518\n",
       "Crime                    3.097643      3.468736    1.119798\n",
       "Elections                3.164983      3.423094    1.081552\n",
       "Homeland Security        5.521886      3.012323    0.545524\n",
       "Economy                  2.828283      2.966682    1.048934\n",
       "Terrorism                2.222222      2.829758    1.273391\n",
       "Candidate Biography      0.269360      2.236422    8.302716"
      ]
     },
     "execution_count": 203,
     "metadata": {},
     "output_type": "execute_result"
    }
   ],
   "source": [
    "general_topics_o = get_topics_percentage(get_topics_in_period(news_df=news, start_date=date_min_o, end_date=date_max_o))\n",
    "\n",
    "df_o=check_increase_in_mentions(general_topics, o)\n",
    "\n",
    "df_o.sort_values('count_tweets', ascending=False).head(10)"
   ]
  },
  {
   "cell_type": "code",
   "execution_count": 206,
   "metadata": {},
   "outputs": [
    {
     "name": "stderr",
     "output_type": "stream",
     "text": [
      "C:\\Users\\Viktor\\AppData\\Local\\conda\\conda\\envs\\ada\\lib\\site-packages\\pandas\\core\\generic.py:3660: SettingWithCopyWarning:\n",
      "\n",
      "\n",
      "A value is trying to be set on a copy of a slice from a DataFrame\n",
      "\n",
      "See the caveats in the documentation: http://pandas.pydata.org/pandas-docs/stable/indexing.html#indexing-view-versus-copy\n",
      "\n"
     ]
    }
   ],
   "source": [
    "obama_tmp = check_delta_in_mentions(get_topic_count(get_topics_in_period(news_df=news, start_date=date_min_o, end_date=date_max_o)), obama)"
   ]
  },
  {
   "cell_type": "code",
   "execution_count": 207,
   "metadata": {
    "scrolled": true
   },
   "outputs": [
    {
     "data": {
      "text/html": [
       "<div>\n",
       "<style>\n",
       "    .dataframe thead tr:only-child th {\n",
       "        text-align: right;\n",
       "    }\n",
       "\n",
       "    .dataframe thead th {\n",
       "        text-align: left;\n",
       "    }\n",
       "\n",
       "    .dataframe tbody tr th {\n",
       "        vertical-align: top;\n",
       "    }\n",
       "</style>\n",
       "<table border=\"1\" class=\"dataframe\">\n",
       "  <thead>\n",
       "    <tr style=\"text-align: right;\">\n",
       "      <th></th>\n",
       "      <th>count_topics</th>\n",
       "      <th>count_tweets</th>\n",
       "      <th>delta</th>\n",
       "      <th>ratio</th>\n",
       "    </tr>\n",
       "    <tr>\n",
       "      <th>topic</th>\n",
       "      <th></th>\n",
       "      <th></th>\n",
       "      <th></th>\n",
       "      <th></th>\n",
       "    </tr>\n",
       "  </thead>\n",
       "  <tbody>\n",
       "    <tr>\n",
       "      <th>Immigration</th>\n",
       "      <td>193</td>\n",
       "      <td>157.0</td>\n",
       "      <td>-36.0</td>\n",
       "      <td>0.813472</td>\n",
       "    </tr>\n",
       "    <tr>\n",
       "      <th>Health Care</th>\n",
       "      <td>109</td>\n",
       "      <td>113.0</td>\n",
       "      <td>4.0</td>\n",
       "      <td>1.036697</td>\n",
       "    </tr>\n",
       "    <tr>\n",
       "      <th>Jobs</th>\n",
       "      <td>119</td>\n",
       "      <td>100.0</td>\n",
       "      <td>-19.0</td>\n",
       "      <td>0.840336</td>\n",
       "    </tr>\n",
       "    <tr>\n",
       "      <th>Foreign Policy</th>\n",
       "      <td>145</td>\n",
       "      <td>95.0</td>\n",
       "      <td>-50.0</td>\n",
       "      <td>0.655172</td>\n",
       "    </tr>\n",
       "    <tr>\n",
       "      <th>Crime</th>\n",
       "      <td>92</td>\n",
       "      <td>76.0</td>\n",
       "      <td>-16.0</td>\n",
       "      <td>0.826087</td>\n",
       "    </tr>\n",
       "  </tbody>\n",
       "</table>\n",
       "</div>"
      ],
      "text/plain": [
       "                count_topics  count_tweets  delta     ratio\n",
       "topic                                                      \n",
       "Immigration              193         157.0  -36.0  0.813472\n",
       "Health Care              109         113.0    4.0  1.036697\n",
       "Jobs                     119         100.0  -19.0  0.840336\n",
       "Foreign Policy           145          95.0  -50.0  0.655172\n",
       "Crime                     92          76.0  -16.0  0.826087"
      ]
     },
     "execution_count": 207,
     "metadata": {},
     "output_type": "execute_result"
    }
   ],
   "source": [
    "obama_tmp.sort_values(by='count_tweets',ascending=False).head()"
   ]
  },
  {
   "cell_type": "markdown",
   "metadata": {},
   "source": [
    "Distribution of Tweets containing term \"obama\". As well as the news topics in up to 1 and 5 days after."
   ]
  },
  {
   "cell_type": "code",
   "execution_count": 226,
   "metadata": {},
   "outputs": [
    {
     "data": {
      "text/html": [
       "<div>\n",
       "<style>\n",
       "    .dataframe thead tr:only-child th {\n",
       "        text-align: right;\n",
       "    }\n",
       "\n",
       "    .dataframe thead th {\n",
       "        text-align: left;\n",
       "    }\n",
       "\n",
       "    .dataframe tbody tr th {\n",
       "        vertical-align: top;\n",
       "    }\n",
       "</style>\n",
       "<table border=\"1\" class=\"dataframe\">\n",
       "  <thead>\n",
       "    <tr style=\"text-align: right;\">\n",
       "      <th></th>\n",
       "      <th>count</th>\n",
       "    </tr>\n",
       "    <tr>\n",
       "      <th>topic</th>\n",
       "      <th></th>\n",
       "    </tr>\n",
       "  </thead>\n",
       "  <tbody>\n",
       "    <tr>\n",
       "      <th>Immigration</th>\n",
       "      <td>7.165678</td>\n",
       "    </tr>\n",
       "    <tr>\n",
       "      <th>Health Care</th>\n",
       "      <td>5.157462</td>\n",
       "    </tr>\n",
       "    <tr>\n",
       "      <th>Jobs</th>\n",
       "      <td>4.564126</td>\n",
       "    </tr>\n",
       "    <tr>\n",
       "      <th>Foreign Policy</th>\n",
       "      <td>4.335920</td>\n",
       "    </tr>\n",
       "    <tr>\n",
       "      <th>Crime</th>\n",
       "      <td>3.468736</td>\n",
       "    </tr>\n",
       "  </tbody>\n",
       "</table>\n",
       "</div>"
      ],
      "text/plain": [
       "                   count\n",
       "topic                   \n",
       "Immigration     7.165678\n",
       "Health Care     5.157462\n",
       "Jobs            4.564126\n",
       "Foreign Policy  4.335920\n",
       "Crime           3.468736"
      ]
     },
     "execution_count": 226,
     "metadata": {},
     "output_type": "execute_result"
    }
   ],
   "source": [
    "o.head()"
   ]
  },
  {
   "cell_type": "code",
   "execution_count": 341,
   "metadata": {},
   "outputs": [
    {
     "data": {
      "text/html": [
       "\n",
       "        <iframe\n",
       "            width=\"100%\"\n",
       "            height=\"500px\"\n",
       "            src=\"html/obama_dist.html\"\n",
       "            frameborder=\"0\"\n",
       "            allowfullscreen\n",
       "        ></iframe>\n",
       "        "
      ],
      "text/plain": [
       "<IPython.lib.display.IFrame at 0x22ea3260a58>"
      ]
     },
     "metadata": {},
     "output_type": "display_data"
    }
   ],
   "source": [
    "obama_tweets_df = dataframe_tweets_topics(obama_tweets)\n",
    "show_tweets_plotly_file(tweets_df=obama_tweets_df, file_name=\"obama_dist.html\",\n",
    "                        title=\"Tweets containing Obama as term\")"
   ]
  },
  {
   "cell_type": "code",
   "execution_count": 229,
   "metadata": {},
   "outputs": [
    {
     "name": "stderr",
     "output_type": "stream",
     "text": [
      "C:\\Users\\Viktor\\AppData\\Local\\conda\\conda\\envs\\ada\\lib\\site-packages\\pandas\\core\\generic.py:3660: SettingWithCopyWarning:\n",
      "\n",
      "\n",
      "A value is trying to be set on a copy of a slice from a DataFrame\n",
      "\n",
      "See the caveats in the documentation: http://pandas.pydata.org/pandas-docs/stable/indexing.html#indexing-view-versus-copy\n",
      "\n"
     ]
    }
   ],
   "source": [
    "obama_news1, obama_tweets1 = get_news_topics_for_tweet_topics(news, tweets_2015, [], [], ['obama'], 1)\n",
    "obama_news5, obama_tweets5 = get_news_topics_for_tweet_topics(news, tweets_2015, [], [], ['obama'], 5)"
   ]
  },
  {
   "cell_type": "code",
   "execution_count": 234,
   "metadata": {},
   "outputs": [
    {
     "data": {
      "text/html": [
       "\n",
       "        <iframe\n",
       "            width=\"100%\"\n",
       "            height=\"500px\"\n",
       "            src=\"html/topics1day_obama.html\"\n",
       "            frameborder=\"0\"\n",
       "            allowfullscreen\n",
       "        ></iframe>\n",
       "        "
      ],
      "text/plain": [
       "<IPython.lib.display.IFrame at 0x22ea0d446a0>"
      ]
     },
     "metadata": {},
     "output_type": "display_data"
    }
   ],
   "source": [
    "show_top_topics_plotly_bar(topic_df=obama_news1.reset_index(), number=20, \n",
    "                           file_name=\"topics1day_obama.html\", title=\"News topics, up to 1 day after Tweet\")"
   ]
  },
  {
   "cell_type": "code",
   "execution_count": 235,
   "metadata": {},
   "outputs": [
    {
     "data": {
      "text/html": [
       "\n",
       "        <iframe\n",
       "            width=\"100%\"\n",
       "            height=\"500px\"\n",
       "            src=\"html/topics5days_obama.html\"\n",
       "            frameborder=\"0\"\n",
       "            allowfullscreen\n",
       "        ></iframe>\n",
       "        "
      ],
      "text/plain": [
       "<IPython.lib.display.IFrame at 0x22ea0263a20>"
      ]
     },
     "metadata": {},
     "output_type": "display_data"
    }
   ],
   "source": [
    "show_top_topics_plotly_bar(topic_df=obama_news5.reset_index(), number=20, \n",
    "                           file_name=\"topics5days_obama.html\", title=\"News topics, up to 5 days after Tweet\")"
   ]
  },
  {
   "cell_type": "code",
   "execution_count": 230,
   "metadata": {},
   "outputs": [
    {
     "data": {
      "text/html": [
       "\n",
       "        <iframe\n",
       "            width=\"100%\"\n",
       "            height=\"500px\"\n",
       "            src=\"html/obama15.html\"\n",
       "            frameborder=\"0\"\n",
       "            allowfullscreen\n",
       "        ></iframe>\n",
       "        "
      ],
      "text/plain": [
       "<IPython.lib.display.IFrame at 0x22e9684c6d8>"
      ]
     },
     "metadata": {},
     "output_type": "display_data"
    }
   ],
   "source": [
    "plot_grouped_plotly([(obama_news1,'1 day'), (obama_news5,'5 days')], 'obama15.html',\n",
    "                   'Comparison of different intervals for top 20 news topics, tweets containing \"obama\"', 20)"
   ]
  },
  {
   "cell_type": "markdown",
   "metadata": {},
   "source": [
    "### And Hillary Clinton?"
   ]
  },
  {
   "cell_type": "code",
   "execution_count": 208,
   "metadata": {},
   "outputs": [
    {
     "name": "stderr",
     "output_type": "stream",
     "text": [
      "C:\\Users\\Viktor\\AppData\\Local\\conda\\conda\\envs\\ada\\lib\\site-packages\\pandas\\core\\generic.py:3660: SettingWithCopyWarning:\n",
      "\n",
      "\n",
      "A value is trying to be set on a copy of a slice from a DataFrame\n",
      "\n",
      "See the caveats in the documentation: http://pandas.pydata.org/pandas-docs/stable/indexing.html#indexing-view-versus-copy\n",
      "\n"
     ]
    }
   ],
   "source": [
    "hillary, hillary_tweets = get_news_topics_for_tweet_topics(news, tweets, [], [], ['hillary','crooked','clinton'], 2)"
   ]
  },
  {
   "cell_type": "code",
   "execution_count": 342,
   "metadata": {},
   "outputs": [
    {
     "data": {
      "text/html": [
       "\n",
       "        <iframe\n",
       "            width=\"100%\"\n",
       "            height=\"500px\"\n",
       "            src=\"html/hillary_dist.html\"\n",
       "            frameborder=\"0\"\n",
       "            allowfullscreen\n",
       "        ></iframe>\n",
       "        "
      ],
      "text/plain": [
       "<IPython.lib.display.IFrame at 0x22ea3260978>"
      ]
     },
     "metadata": {},
     "output_type": "display_data"
    }
   ],
   "source": [
    "hillary_tweets_df = dataframe_tweets_topics(hillary_tweets)\n",
    "show_tweets_plotly_file(tweets_df=hillary_tweets_df, file_name=\"hillary_dist.html\",\n",
    "                        title=\"Tweets containing Hillary Clinton as term\")"
   ]
  },
  {
   "cell_type": "code",
   "execution_count": 414,
   "metadata": {},
   "outputs": [
    {
     "data": {
      "text/html": [
       "<div>\n",
       "<style>\n",
       "    .dataframe thead tr:only-child th {\n",
       "        text-align: right;\n",
       "    }\n",
       "\n",
       "    .dataframe thead th {\n",
       "        text-align: left;\n",
       "    }\n",
       "\n",
       "    .dataframe tbody tr th {\n",
       "        vertical-align: top;\n",
       "    }\n",
       "</style>\n",
       "<table border=\"1\" class=\"dataframe\">\n",
       "  <thead>\n",
       "    <tr style=\"text-align: right;\">\n",
       "      <th></th>\n",
       "      <th>count</th>\n",
       "    </tr>\n",
       "    <tr>\n",
       "      <th>topic</th>\n",
       "      <th></th>\n",
       "    </tr>\n",
       "  </thead>\n",
       "  <tbody>\n",
       "    <tr>\n",
       "      <th>Foreign Policy</th>\n",
       "      <td>6.748396</td>\n",
       "    </tr>\n",
       "    <tr>\n",
       "      <th>Immigration</th>\n",
       "      <td>6.553621</td>\n",
       "    </tr>\n",
       "    <tr>\n",
       "      <th>Crime</th>\n",
       "      <td>5.596929</td>\n",
       "    </tr>\n",
       "    <tr>\n",
       "      <th>Candidate Biography</th>\n",
       "      <td>5.201650</td>\n",
       "    </tr>\n",
       "    <tr>\n",
       "      <th>Economy</th>\n",
       "      <td>3.952796</td>\n",
       "    </tr>\n",
       "    <tr>\n",
       "      <th>Elections</th>\n",
       "      <td>3.265353</td>\n",
       "    </tr>\n",
       "    <tr>\n",
       "      <th>Trade</th>\n",
       "      <td>2.915903</td>\n",
       "    </tr>\n",
       "    <tr>\n",
       "      <th>History</th>\n",
       "      <td>2.875802</td>\n",
       "    </tr>\n",
       "    <tr>\n",
       "      <th>Jobs</th>\n",
       "      <td>2.858616</td>\n",
       "    </tr>\n",
       "    <tr>\n",
       "      <th>Terrorism</th>\n",
       "      <td>2.841430</td>\n",
       "    </tr>\n",
       "  </tbody>\n",
       "</table>\n",
       "</div>"
      ],
      "text/plain": [
       "                        count\n",
       "topic                        \n",
       "Foreign Policy       6.748396\n",
       "Immigration          6.553621\n",
       "Crime                5.596929\n",
       "Candidate Biography  5.201650\n",
       "Economy              3.952796\n",
       "Elections            3.265353\n",
       "Trade                2.915903\n",
       "History              2.875802\n",
       "Jobs                 2.858616\n",
       "Terrorism            2.841430"
      ]
     },
     "execution_count": 414,
     "metadata": {},
     "output_type": "execute_result"
    }
   ],
   "source": [
    "h = normalize_df(hillary)\n",
    "h.head(10)"
   ]
  },
  {
   "cell_type": "code",
   "execution_count": 415,
   "metadata": {},
   "outputs": [],
   "source": [
    "date_min, date_max = find_start_end_date(hillary_tweets)"
   ]
  },
  {
   "cell_type": "code",
   "execution_count": 428,
   "metadata": {},
   "outputs": [
    {
     "name": "stderr",
     "output_type": "stream",
     "text": [
      "C:\\Users\\Viktor\\AppData\\Local\\conda\\conda\\envs\\ada\\lib\\site-packages\\pandas\\core\\generic.py:3660: SettingWithCopyWarning: \n",
      "A value is trying to be set on a copy of a slice from a DataFrame\n",
      "\n",
      "See the caveats in the documentation: http://pandas.pydata.org/pandas-docs/stable/indexing.html#indexing-view-versus-copy\n",
      "  self._update_inplace(new_data)\n"
     ]
    },
    {
     "data": {
      "text/html": [
       "<div>\n",
       "<style>\n",
       "    .dataframe thead tr:only-child th {\n",
       "        text-align: right;\n",
       "    }\n",
       "\n",
       "    .dataframe thead th {\n",
       "        text-align: left;\n",
       "    }\n",
       "\n",
       "    .dataframe tbody tr th {\n",
       "        vertical-align: top;\n",
       "    }\n",
       "</style>\n",
       "<table border=\"1\" class=\"dataframe\">\n",
       "  <thead>\n",
       "    <tr style=\"text-align: right;\">\n",
       "      <th></th>\n",
       "      <th>count_topics</th>\n",
       "      <th>count_tweets</th>\n",
       "      <th>multiplier</th>\n",
       "    </tr>\n",
       "    <tr>\n",
       "      <th>topic</th>\n",
       "      <th></th>\n",
       "      <th></th>\n",
       "      <th></th>\n",
       "    </tr>\n",
       "  </thead>\n",
       "  <tbody>\n",
       "    <tr>\n",
       "      <th>Defense</th>\n",
       "      <td>0.040502</td>\n",
       "      <td>0.354660</td>\n",
       "      <td>8.756561</td>\n",
       "    </tr>\n",
       "    <tr>\n",
       "      <th>Legislative Process</th>\n",
       "      <td>0.040502</td>\n",
       "      <td>0.283728</td>\n",
       "      <td>7.005249</td>\n",
       "    </tr>\n",
       "    <tr>\n",
       "      <th>State Budget</th>\n",
       "      <td>0.040502</td>\n",
       "      <td>0.283728</td>\n",
       "      <td>7.005249</td>\n",
       "    </tr>\n",
       "    <tr>\n",
       "      <th>Kosovo</th>\n",
       "      <td>0.040502</td>\n",
       "      <td>0.198610</td>\n",
       "      <td>4.903674</td>\n",
       "    </tr>\n",
       "    <tr>\n",
       "      <th>Serbia</th>\n",
       "      <td>0.040502</td>\n",
       "      <td>0.198610</td>\n",
       "      <td>4.903674</td>\n",
       "    </tr>\n",
       "    <tr>\n",
       "      <th>Unemployment rate</th>\n",
       "      <td>0.081004</td>\n",
       "      <td>0.383033</td>\n",
       "      <td>4.728543</td>\n",
       "    </tr>\n",
       "    <tr>\n",
       "      <th>Murder</th>\n",
       "      <td>0.040502</td>\n",
       "      <td>0.184423</td>\n",
       "      <td>4.553412</td>\n",
       "    </tr>\n",
       "    <tr>\n",
       "      <th>Job Creation</th>\n",
       "      <td>0.040502</td>\n",
       "      <td>0.184423</td>\n",
       "      <td>4.553412</td>\n",
       "    </tr>\n",
       "    <tr>\n",
       "      <th>Unemployment</th>\n",
       "      <td>0.040502</td>\n",
       "      <td>0.184423</td>\n",
       "      <td>4.553412</td>\n",
       "    </tr>\n",
       "    <tr>\n",
       "      <th>Israel</th>\n",
       "      <td>0.081004</td>\n",
       "      <td>0.368847</td>\n",
       "      <td>4.553412</td>\n",
       "    </tr>\n",
       "  </tbody>\n",
       "</table>\n",
       "</div>"
      ],
      "text/plain": [
       "                     count_topics  count_tweets  multiplier\n",
       "topic                                                      \n",
       "Defense                  0.040502      0.354660    8.756561\n",
       "Legislative Process      0.040502      0.283728    7.005249\n",
       "State Budget             0.040502      0.283728    7.005249\n",
       "Kosovo                   0.040502      0.198610    4.903674\n",
       "Serbia                   0.040502      0.198610    4.903674\n",
       "Unemployment rate        0.081004      0.383033    4.728543\n",
       "Murder                   0.040502      0.184423    4.553412\n",
       "Job Creation             0.040502      0.184423    4.553412\n",
       "Unemployment             0.040502      0.184423    4.553412\n",
       "Israel                   0.081004      0.368847    4.553412"
      ]
     },
     "execution_count": 428,
     "metadata": {},
     "output_type": "execute_result"
    }
   ],
   "source": [
    "df=check_increase_in_mentions(get_topics_percentage(get_topics_in_period(news_df=news, start_date=date_min, end_date=date_max)), o)\n",
    "\n",
    "df.head(10)"
   ]
  },
  {
   "cell_type": "code",
   "execution_count": 433,
   "metadata": {
    "scrolled": true
   },
   "outputs": [
    {
     "name": "stderr",
     "output_type": "stream",
     "text": [
      "C:\\Users\\Viktor\\AppData\\Local\\conda\\conda\\envs\\ada\\lib\\site-packages\\pandas\\core\\generic.py:3660: SettingWithCopyWarning: \n",
      "A value is trying to be set on a copy of a slice from a DataFrame\n",
      "\n",
      "See the caveats in the documentation: http://pandas.pydata.org/pandas-docs/stable/indexing.html#indexing-view-versus-copy\n",
      "  self._update_inplace(new_data)\n"
     ]
    },
    {
     "data": {
      "text/html": [
       "<div>\n",
       "<style>\n",
       "    .dataframe thead tr:only-child th {\n",
       "        text-align: right;\n",
       "    }\n",
       "\n",
       "    .dataframe thead th {\n",
       "        text-align: left;\n",
       "    }\n",
       "\n",
       "    .dataframe tbody tr th {\n",
       "        vertical-align: top;\n",
       "    }\n",
       "</style>\n",
       "<table border=\"1\" class=\"dataframe\">\n",
       "  <thead>\n",
       "    <tr style=\"text-align: right;\">\n",
       "      <th></th>\n",
       "      <th>count_topics</th>\n",
       "      <th>count_tweets</th>\n",
       "      <th>delta</th>\n",
       "      <th>ratio</th>\n",
       "    </tr>\n",
       "    <tr>\n",
       "      <th>topic</th>\n",
       "      <th></th>\n",
       "      <th></th>\n",
       "      <th></th>\n",
       "      <th></th>\n",
       "    </tr>\n",
       "  </thead>\n",
       "  <tbody>\n",
       "    <tr>\n",
       "      <th>Wikileaks</th>\n",
       "      <td>2</td>\n",
       "      <td>132.0</td>\n",
       "      <td>130.0</td>\n",
       "      <td>66.0</td>\n",
       "    </tr>\n",
       "    <tr>\n",
       "      <th>Trump Foundation</th>\n",
       "      <td>1</td>\n",
       "      <td>65.0</td>\n",
       "      <td>64.0</td>\n",
       "      <td>65.0</td>\n",
       "    </tr>\n",
       "    <tr>\n",
       "      <th>Sexual Harassment</th>\n",
       "      <td>1</td>\n",
       "      <td>65.0</td>\n",
       "      <td>64.0</td>\n",
       "      <td>65.0</td>\n",
       "    </tr>\n",
       "    <tr>\n",
       "      <th>Disability</th>\n",
       "      <td>2</td>\n",
       "      <td>66.0</td>\n",
       "      <td>64.0</td>\n",
       "      <td>33.0</td>\n",
       "    </tr>\n",
       "    <tr>\n",
       "      <th>Political Ads</th>\n",
       "      <td>1</td>\n",
       "      <td>33.0</td>\n",
       "      <td>32.0</td>\n",
       "      <td>33.0</td>\n",
       "    </tr>\n",
       "    <tr>\n",
       "      <th>Clinton on Trump and Equal Pay</th>\n",
       "      <td>1</td>\n",
       "      <td>27.0</td>\n",
       "      <td>26.0</td>\n",
       "      <td>27.0</td>\n",
       "    </tr>\n",
       "    <tr>\n",
       "      <th>Business</th>\n",
       "      <td>1</td>\n",
       "      <td>27.0</td>\n",
       "      <td>26.0</td>\n",
       "      <td>27.0</td>\n",
       "    </tr>\n",
       "    <tr>\n",
       "      <th>Law enforcement</th>\n",
       "      <td>1</td>\n",
       "      <td>27.0</td>\n",
       "      <td>26.0</td>\n",
       "      <td>27.0</td>\n",
       "    </tr>\n",
       "    <tr>\n",
       "      <th>Electiions</th>\n",
       "      <td>1</td>\n",
       "      <td>26.0</td>\n",
       "      <td>25.0</td>\n",
       "      <td>26.0</td>\n",
       "    </tr>\n",
       "    <tr>\n",
       "      <th>. Noncitizen voting</th>\n",
       "      <td>1</td>\n",
       "      <td>26.0</td>\n",
       "      <td>25.0</td>\n",
       "      <td>26.0</td>\n",
       "    </tr>\n",
       "  </tbody>\n",
       "</table>\n",
       "</div>"
      ],
      "text/plain": [
       "                                count_topics  count_tweets  delta  ratio\n",
       "topic                                                                   \n",
       "Wikileaks                                  2         132.0  130.0   66.0\n",
       "Trump Foundation                           1          65.0   64.0   65.0\n",
       "Sexual Harassment                          1          65.0   64.0   65.0\n",
       "Disability                                 2          66.0   64.0   33.0\n",
       "Political Ads                              1          33.0   32.0   33.0\n",
       "Clinton on Trump and Equal Pay             1          27.0   26.0   27.0\n",
       "Business                                   1          27.0   26.0   27.0\n",
       "Law enforcement                            1          27.0   26.0   27.0\n",
       "Electiions                                 1          26.0   25.0   26.0\n",
       ". Noncitizen voting                        1          26.0   25.0   26.0"
      ]
     },
     "execution_count": 433,
     "metadata": {},
     "output_type": "execute_result"
    }
   ],
   "source": [
    "df=check_delta_in_mentions(get_topic_count(get_topics_in_period(news_df=news, start_date=date_min, end_date=date_max)), hillary)\n",
    "\n",
    "df.head(10)"
   ]
  },
  {
   "cell_type": "code",
   "execution_count": 232,
   "metadata": {},
   "outputs": [
    {
     "name": "stderr",
     "output_type": "stream",
     "text": [
      "C:\\Users\\Viktor\\AppData\\Local\\conda\\conda\\envs\\ada\\lib\\site-packages\\pandas\\core\\generic.py:3660: SettingWithCopyWarning:\n",
      "\n",
      "\n",
      "A value is trying to be set on a copy of a slice from a DataFrame\n",
      "\n",
      "See the caveats in the documentation: http://pandas.pydata.org/pandas-docs/stable/indexing.html#indexing-view-versus-copy\n",
      "\n"
     ]
    }
   ],
   "source": [
    "hillary_news1, hillary_tweets1 = get_news_topics_for_tweet_topics(news, tweets_2015, [], [], ['hillary','crooked','clinton'], 1)\n",
    "hillary_news5, hillary_tweets5 = get_news_topics_for_tweet_topics(news, tweets_2015, [], [], ['hillary','crooked','clinton'], 5)"
   ]
  },
  {
   "cell_type": "code",
   "execution_count": 236,
   "metadata": {},
   "outputs": [
    {
     "data": {
      "text/html": [
       "\n",
       "        <iframe\n",
       "            width=\"100%\"\n",
       "            height=\"500px\"\n",
       "            src=\"html/topics1day_hillary.html\"\n",
       "            frameborder=\"0\"\n",
       "            allowfullscreen\n",
       "        ></iframe>\n",
       "        "
      ],
      "text/plain": [
       "<IPython.lib.display.IFrame at 0x22e8c55c5c0>"
      ]
     },
     "metadata": {},
     "output_type": "display_data"
    }
   ],
   "source": [
    "show_top_topics_plotly_bar(topic_df=hillary_news1.reset_index(), number=20, \n",
    "                           file_name=\"topics1day_hillary.html\", title=\"News topics, up to 1 day after Tweet\")"
   ]
  },
  {
   "cell_type": "code",
   "execution_count": 237,
   "metadata": {},
   "outputs": [
    {
     "data": {
      "text/html": [
       "\n",
       "        <iframe\n",
       "            width=\"100%\"\n",
       "            height=\"500px\"\n",
       "            src=\"html/topics5days_hillary.html\"\n",
       "            frameborder=\"0\"\n",
       "            allowfullscreen\n",
       "        ></iframe>\n",
       "        "
      ],
      "text/plain": [
       "<IPython.lib.display.IFrame at 0x22e965e87b8>"
      ]
     },
     "metadata": {},
     "output_type": "display_data"
    }
   ],
   "source": [
    "show_top_topics_plotly_bar(topic_df=hillary_news5.reset_index(), number=20, \n",
    "                           file_name=\"topics5days_hillary.html\", title=\"News topics, up to 5 days after Tweet\")"
   ]
  },
  {
   "cell_type": "code",
   "execution_count": 233,
   "metadata": {},
   "outputs": [
    {
     "data": {
      "text/html": [
       "\n",
       "        <iframe\n",
       "            width=\"100%\"\n",
       "            height=\"500px\"\n",
       "            src=\"html/hillary15.html\"\n",
       "            frameborder=\"0\"\n",
       "            allowfullscreen\n",
       "        ></iframe>\n",
       "        "
      ],
      "text/plain": [
       "<IPython.lib.display.IFrame at 0x22e980acba8>"
      ]
     },
     "metadata": {},
     "output_type": "display_data"
    }
   ],
   "source": [
    "plot_grouped_plotly([(hillary_news1,'1 day'), (hillary_news5,'5 days')], 'hillary15.html',\n",
    "                   'Comparison of different intervals for top 20 news topics, tweets containing terms related to Hillary Clinton', 20)"
   ]
  },
  {
   "cell_type": "markdown",
   "metadata": {},
   "source": [
    "## What does Trump tweet about when certain topics are in the news?\n",
    "\n",
    "Conversely to the previous exploration, we will now observe the structure of Tweets in terms of hashtags and mentions in time period around the publication date of news with certain topics.\n",
    "\n",
    "With this approach we explore the possiblity that certain elements of tweets emerge on certain news topics. In the long term, it might mean that Donald Trump is deflecting the implications of the news by tweeting about some topics that might distract his follower base.\n",
    "\n",
    "We will explore certain topics that present a controversy, such as Russia or Legal Issues and observe his Tweets and their structure.\n",
    "\n",
    "To start with this, we define function to obtain all the news with specified topics."
   ]
  },
  {
   "cell_type": "code",
   "execution_count": 238,
   "metadata": {},
   "outputs": [],
   "source": [
    "def get_news_with_topics(news, topics):\n",
    "    '''\n",
    "    Function used to obtain all the news containing at least one of the specified topics.\n",
    "    \n",
    "    Parameters:\n",
    "    news -- news dataframe\n",
    "    topics -- python list of strings, each string is a topic name\n",
    "    \n",
    "    Returns:\n",
    "    n -- python list, news dataframe rows\n",
    "    '''\n",
    "    n = []\n",
    "    \n",
    "    for t in topics:\n",
    "        for idx, row in news.iterrows():\n",
    "            if(t in row['Topic List'].split(',')):\n",
    "                n.append(row)\n",
    "    \n",
    "    return n"
   ]
  },
  {
   "cell_type": "markdown",
   "metadata": {},
   "source": [
    "We further need to obtain all the tweets in the date around the publishing date of news. We define a function to get all the tweets in defined date, up to `days_delta` to provide a time window to look into. It is enabled in order to observe possible later reactions and tendencies in tweets."
   ]
  },
  {
   "cell_type": "code",
   "execution_count": 239,
   "metadata": {},
   "outputs": [],
   "source": [
    "def find_mention_hashtag_around_date(tweets, date, days_delta):\n",
    "    '''\n",
    "    Function used to find mentions and hashtags from the tweets at specified date, +- days_delta.\n",
    "    '''\n",
    "    date_ts = pd.Timestamp(date)\n",
    "    \n",
    "    start_date = date_ts - pd.Timedelta(days=days_delta)\n",
    "    end_date = date_ts + pd.Timedelta(days=days_delta)\n",
    "    \n",
    "    mentions, hashtags = mentions_hashtags_in_period(tweets, start_date, end_date)   \n",
    "    \n",
    "    return mentions, hashtags"
   ]
  },
  {
   "cell_type": "markdown",
   "metadata": {},
   "source": [
    "We utilize the previous function by finding all connecting the mentions and hashtags from the tweets with the news provided in the `news_list`."
   ]
  },
  {
   "cell_type": "code",
   "execution_count": 240,
   "metadata": {},
   "outputs": [],
   "source": [
    "def get_mentions_hashtags_news_topics(news_list, tweets, days_delta):\n",
    "    '''\n",
    "    Function used to link news with certain topics with tweets based on date of creation +-days_delta, adding mentions and hashtags. \n",
    "    '''\n",
    "    ment_list = []\n",
    "    hash_list = []\n",
    "    \n",
    "    ret_df = pd.DataFrame()\n",
    "    \n",
    "    for nl in news_list:\n",
    "        m, h = find_mention_hashtag_around_date(tweets, nl['Date of Airing (EST)'], days_delta)\n",
    "        \n",
    "        tmp = {}\n",
    "        \n",
    "        tmp['news'] = nl\n",
    "        tmp['mentions'] = m\n",
    "        tmp['hashtags'] = h\n",
    "        \n",
    "        ret_df = ret_df.append(tmp, ignore_index = True)\n",
    "    \n",
    "    return ret_df"
   ]
  },
  {
   "cell_type": "markdown",
   "metadata": {},
   "source": [
    "For our convenience and more readable code and clutter reducing, we present a wrapper for previous functions. We provide the news and tweets dataframes, list of news topics and days to look into after publishing for our time window."
   ]
  },
  {
   "cell_type": "code",
   "execution_count": 241,
   "metadata": {},
   "outputs": [],
   "source": [
    "def get_mentions_hashtags_news_topics_wrapper(news, tweets, topics_list, days_delta):\n",
    "    '''\n",
    "    A wrapper function for getting all the news with tweet hashtags and mentions in the close period of creation.\n",
    "    We specify the news and tweets dataframes, the topic list we are interested in, as well as the period +-days to look for.\n",
    "    '''\n",
    "    news_with_topics = get_news_with_topics(news, topics_list)\n",
    "    \n",
    "    return get_mentions_hashtags_news_topics(news_with_topics, tweets, days_delta)"
   ]
  },
  {
   "cell_type": "markdown",
   "metadata": {},
   "source": [
    "We also define utility functions for extracting and couting the hashtags and mentions linked to specific news topic."
   ]
  },
  {
   "cell_type": "code",
   "execution_count": 246,
   "metadata": {},
   "outputs": [],
   "source": [
    "def extract_hashtags_tweets(df):\n",
    "    '''\n",
    "    Helper function for extracting the hashtag text with counts from the dataframe, returning a combined dataframe.\n",
    "    '''\n",
    "    ret_ht = {}\n",
    "    \n",
    "    for idx, row in df.iterrows():\n",
    "        for ht in row['hashtags']:\n",
    "            if(ht['text'] in ret_ht):\n",
    "                ret_ht[ht['text']] += 1\n",
    "            else:\n",
    "                ret_ht[ht['text']] = 1\n",
    "    \n",
    "    df = pd.DataFrame.from_dict(ret_ht, orient='index')\n",
    "    df.columns = ['count']\n",
    "    \n",
    "    return df.sort_values(by=['count'],ascending=False)\n",
    "\n",
    "\n",
    "def extract_mentions_tweets(df):\n",
    "    '''\n",
    "    Helper function for extracting the hashtag text with counts from the dataframe, returning a combined dataframe.\n",
    "    '''\n",
    "    ret_ht = {}\n",
    "    \n",
    "    for idx, row in df.iterrows():\n",
    "        for ht in row['mentions']:\n",
    "            if(ht['screen_name'] in ret_ht):\n",
    "                ret_ht[ht['screen_name']] += 1\n",
    "            else:\n",
    "                ret_ht[ht['screen_name']] = 1\n",
    "    \n",
    "    df = pd.DataFrame.from_dict(ret_ht, orient='index')\n",
    "    df.columns = ['count']\n",
    "    \n",
    "    return df.sort_values(by=['count'],ascending=False)"
   ]
  },
  {
   "cell_type": "markdown",
   "metadata": {},
   "source": [
    "### Topic exploration\n",
    "\n",
    "We have previously obtained a set of all topics. It will be useful for specifying the topics, by selecting one of the valid topics for futher analysis. Some of the possible topics are:"
   ]
  },
  {
   "cell_type": "code",
   "execution_count": 244,
   "metadata": {
    "scrolled": true
   },
   "outputs": [
    {
     "name": "stdout",
     "output_type": "stream",
     "text": [
      "\n",
      "Crime\n",
      "Offshoring\n",
      "Women\n",
      "Labor Force\n",
      "TV Ads\n",
      "State of the Union\n",
      "Murder\n",
      "FBI\n",
      "War\n",
      "Legal Issues\n",
      "Nuclear\n",
      "Lee Harvey Oswald\n",
      "Manufacturing\n",
      "Eminent Domain\n",
      "Polls\n",
      "Government Leaks\n",
      "Bipartisanship\n",
      "Immigation\n",
      "Budget Shortfall\n"
     ]
    }
   ],
   "source": [
    "for idx, el in enumerate(s):\n",
    "    if(idx<20):\n",
    "        print(el)"
   ]
  },
  {
   "cell_type": "markdown",
   "metadata": {},
   "source": [
    "### What are the tweet contents when topics of Russia, Legal Issues and FBI appear?"
   ]
  },
  {
   "cell_type": "markdown",
   "metadata": {},
   "source": [
    "We extract mentions and hashtags from the news containing those topics, looking up to 1 day after the date of news publishing."
   ]
  },
  {
   "cell_type": "code",
   "execution_count": 349,
   "metadata": {},
   "outputs": [],
   "source": [
    "t = get_mentions_hashtags_news_topics_wrapper(news, tweets, ['Russia','FBI'], 1)"
   ]
  },
  {
   "cell_type": "markdown",
   "metadata": {},
   "source": [
    "We extract the top mentions and hashtags connected by time distance to news with topics on Russia and FBI:"
   ]
  },
  {
   "cell_type": "code",
   "execution_count": 350,
   "metadata": {
    "scrolled": true
   },
   "outputs": [
    {
     "data": {
      "text/html": [
       "<div>\n",
       "<style>\n",
       "    .dataframe thead tr:only-child th {\n",
       "        text-align: right;\n",
       "    }\n",
       "\n",
       "    .dataframe thead th {\n",
       "        text-align: left;\n",
       "    }\n",
       "\n",
       "    .dataframe tbody tr th {\n",
       "        vertical-align: top;\n",
       "    }\n",
       "</style>\n",
       "<table border=\"1\" class=\"dataframe\">\n",
       "  <thead>\n",
       "    <tr style=\"text-align: right;\">\n",
       "      <th></th>\n",
       "      <th>count</th>\n",
       "    </tr>\n",
       "  </thead>\n",
       "  <tbody>\n",
       "    <tr>\n",
       "      <th>DRUDGE_REPORT</th>\n",
       "      <td>24</td>\n",
       "    </tr>\n",
       "    <tr>\n",
       "      <th>realDonaldTrump</th>\n",
       "      <td>24</td>\n",
       "    </tr>\n",
       "    <tr>\n",
       "      <th>CNN</th>\n",
       "      <td>20</td>\n",
       "    </tr>\n",
       "    <tr>\n",
       "      <th>foxandfriends</th>\n",
       "      <td>19</td>\n",
       "    </tr>\n",
       "    <tr>\n",
       "      <th>WhiteHouse</th>\n",
       "      <td>18</td>\n",
       "    </tr>\n",
       "    <tr>\n",
       "      <th>nytimes</th>\n",
       "      <td>14</td>\n",
       "    </tr>\n",
       "    <tr>\n",
       "      <th>FoxNews</th>\n",
       "      <td>13</td>\n",
       "    </tr>\n",
       "    <tr>\n",
       "      <th>VP</th>\n",
       "      <td>7</td>\n",
       "    </tr>\n",
       "    <tr>\n",
       "      <th>IsraeliPM</th>\n",
       "      <td>7</td>\n",
       "    </tr>\n",
       "    <tr>\n",
       "      <th>IvankaTrump</th>\n",
       "      <td>6</td>\n",
       "    </tr>\n",
       "  </tbody>\n",
       "</table>\n",
       "</div>"
      ],
      "text/plain": [
       "                 count\n",
       "DRUDGE_REPORT       24\n",
       "realDonaldTrump     24\n",
       "CNN                 20\n",
       "foxandfriends       19\n",
       "WhiteHouse          18\n",
       "nytimes             14\n",
       "FoxNews             13\n",
       "VP                   7\n",
       "IsraeliPM            7\n",
       "IvankaTrump          6"
      ]
     },
     "execution_count": 350,
     "metadata": {},
     "output_type": "execute_result"
    }
   ],
   "source": [
    "extract_mentions_tweets(t).head(10)"
   ]
  },
  {
   "cell_type": "code",
   "execution_count": 357,
   "metadata": {},
   "outputs": [
    {
     "data": {
      "text/html": [
       "<div>\n",
       "<style>\n",
       "    .dataframe thead tr:only-child th {\n",
       "        text-align: right;\n",
       "    }\n",
       "\n",
       "    .dataframe thead th {\n",
       "        text-align: left;\n",
       "    }\n",
       "\n",
       "    .dataframe tbody tr th {\n",
       "        vertical-align: top;\n",
       "    }\n",
       "</style>\n",
       "<table border=\"1\" class=\"dataframe\">\n",
       "  <thead>\n",
       "    <tr style=\"text-align: right;\">\n",
       "      <th></th>\n",
       "      <th>count</th>\n",
       "    </tr>\n",
       "  </thead>\n",
       "  <tbody>\n",
       "    <tr>\n",
       "      <th>MakeAmericaGreatAgain</th>\n",
       "      <td>23</td>\n",
       "    </tr>\n",
       "    <tr>\n",
       "      <th>MAGA</th>\n",
       "      <td>22</td>\n",
       "    </tr>\n",
       "    <tr>\n",
       "      <th>Trump2016</th>\n",
       "      <td>19</td>\n",
       "    </tr>\n",
       "    <tr>\n",
       "      <th>draintheswamp</th>\n",
       "      <td>12</td>\n",
       "    </tr>\n",
       "    <tr>\n",
       "      <th>ICYMI</th>\n",
       "      <td>8</td>\n",
       "    </tr>\n",
       "    <tr>\n",
       "      <th>USA</th>\n",
       "      <td>8</td>\n",
       "    </tr>\n",
       "    <tr>\n",
       "      <th>DrainTheSwamp</th>\n",
       "      <td>8</td>\n",
       "    </tr>\n",
       "    <tr>\n",
       "      <th>FakeNews</th>\n",
       "      <td>7</td>\n",
       "    </tr>\n",
       "    <tr>\n",
       "      <th>NationalPoliceWeek</th>\n",
       "      <td>7</td>\n",
       "    </tr>\n",
       "    <tr>\n",
       "      <th>PoliceWeek</th>\n",
       "      <td>6</td>\n",
       "    </tr>\n",
       "  </tbody>\n",
       "</table>\n",
       "</div>"
      ],
      "text/plain": [
       "                       count\n",
       "MakeAmericaGreatAgain     23\n",
       "MAGA                      22\n",
       "Trump2016                 19\n",
       "draintheswamp             12\n",
       "ICYMI                      8\n",
       "USA                        8\n",
       "DrainTheSwamp              8\n",
       "FakeNews                   7\n",
       "NationalPoliceWeek         7\n",
       "PoliceWeek                 6"
      ]
     },
     "execution_count": 357,
     "metadata": {},
     "output_type": "execute_result"
    }
   ],
   "source": [
    "extract_hashtags_tweets(t).head(10)"
   ]
  },
  {
   "cell_type": "markdown",
   "metadata": {},
   "source": [
    "We can observe the most numerous hashtags and mentions after news with topics of Russia or FBI.\n",
    "\n",
    "We will aggregate news topics over dates, to provide context and their frequency and distribution over time."
   ]
  },
  {
   "cell_type": "code",
   "execution_count": 286,
   "metadata": {},
   "outputs": [],
   "source": [
    "def get_news_topic_frequencies(news, topic):\n",
    "    '''\n",
    "    Helper function to extract date and counts of desired news topic from the news dataset.\n",
    "    \n",
    "    PARAMETERS:\n",
    "    news -- news dataframe\n",
    "    topic -- string, name of the topic\n",
    "    \n",
    "    RETURNS:\n",
    "    p_df -- pandas dataframe containing date and count values\n",
    "    '''\n",
    "    news_list = get_news_with_topics(news, [topic])\n",
    "    \n",
    "    dct = {}\n",
    "    \n",
    "    # aggregating over dates\n",
    "    for nl in news_list:\n",
    "        key = nl['Date of Airing (EST)'].date()\n",
    "\n",
    "        if key in dct:\n",
    "            dct[key] += 1\n",
    "        else:\n",
    "            dct[key] = 1\n",
    "    \n",
    "    p_df = pd.DataFrame.from_dict(dct, orient='index').reset_index()\n",
    "    p_df.columns = ['date', 'value']\n",
    "    \n",
    "    return p_df    "
   ]
  },
  {
   "cell_type": "markdown",
   "metadata": {},
   "source": [
    "Similarly, we write an utility function to find such information for multiple topics at once."
   ]
  },
  {
   "cell_type": "code",
   "execution_count": 287,
   "metadata": {},
   "outputs": [],
   "source": [
    "def get_news_mult_topics_frequencies(news, topics):\n",
    "    '''\n",
    "    Returns list of pairs of date and count dataframe along with topic name.\n",
    "    \n",
    "    PARAMETERS:\n",
    "    news -- news dataframe\n",
    "    topics -- python list of strings, which represent topics\n",
    "    \n",
    "    RETURNS:\n",
    "    ret -- python list, [(df_topic_date_count, 'topic')...]\n",
    "    '''\n",
    "    ret = []\n",
    "    \n",
    "    for topic in topics:\n",
    "        ret.append((get_news_topic_frequencies(news, topic),topic))\n",
    "    \n",
    "    return ret"
   ]
  },
  {
   "cell_type": "markdown",
   "metadata": {},
   "source": [
    "We provide wrappers from plotting the news topics."
   ]
  },
  {
   "cell_type": "code",
   "execution_count": 344,
   "metadata": {},
   "outputs": [],
   "source": [
    "def show_news_plotly_file(news_df, title, file_name):\n",
    "    '''\n",
    "    A helper function for displaying news frequencies for certain tweets.\n",
    "    \n",
    "    Parameters:\n",
    "    news_df -- topic dataframe containing date and count value, from the news dataset\n",
    "    title -- title to display\n",
    "    file_name -- name of the output html file.\n",
    "    \n",
    "    Returns:\n",
    "    nothing, saves the charts in html folder.\n",
    "    ''' \n",
    "    data = [go.Scatter(\n",
    "                x = news_df['date'],\n",
    "                y = news_df['value'],\n",
    "                mode = 'markers',\n",
    "                name = 'markers'\n",
    "            )]\n",
    "    \n",
    "    layout = go.Layout(\n",
    "        title = title,\n",
    "        yaxis = {'title': 'Number'},\n",
    "        xaxis = {'title': 'Date'},\n",
    "    )\n",
    "    \n",
    "    fig = go.Figure(data=data, layout=layout)\n",
    "    plotly.offline.plot(fig, filename='html/'+file_name)\n",
    "    display(IFrame('html/'+file_name, \"100%\", \"500px\"))\n",
    "    \n",
    "    \n",
    "# similarly for multiple topics\n",
    "def show_news_multiple_plotly_file(news_df_list, title, file_name):\n",
    "    '''\n",
    "    A helper function for displaying multiple news frequencies.\n",
    "    \n",
    "    Parameters:\n",
    "    news_df_list -- list of news dataframes and names pairs: [(df,'name')...],\n",
    "                    dataframes containing date and count values\n",
    "    title -- title to display\n",
    "    file_name -- name of the output html file.\n",
    "    \n",
    "    Returns:\n",
    "    nothing, saves the charts in html folder.\n",
    "    ''' \n",
    "    data = []\n",
    "    for nl in news_df_list:\n",
    "        data.append(go.Scatter(\n",
    "                    x = nl[0]['date'],\n",
    "                    y = nl[0]['value'],\n",
    "                    mode = 'markers',\n",
    "                    name = nl[1]\n",
    "                ))\n",
    "    \n",
    "    layout = go.Layout(\n",
    "        title = title,\n",
    "        yaxis = {'title': 'Number'},\n",
    "        xaxis = {'title': 'Date'},\n",
    "    )\n",
    "    \n",
    "    fig = go.Figure(data=data, layout=layout)\n",
    "    plotly.offline.plot(fig, filename='html/'+file_name)\n",
    "    display(IFrame('html/'+file_name, \"100%\", \"500px\"))"
   ]
  },
  {
   "cell_type": "markdown",
   "metadata": {},
   "source": [
    "We show the emergence of selected news topics over time, in this case we will observe Russia and FBI as topics."
   ]
  },
  {
   "cell_type": "code",
   "execution_count": 352,
   "metadata": {},
   "outputs": [],
   "source": [
    "russia_fbi = get_news_mult_topics_frequencies(news, ['Russia','FBI'])"
   ]
  },
  {
   "cell_type": "code",
   "execution_count": 353,
   "metadata": {
    "scrolled": true
   },
   "outputs": [
    {
     "data": {
      "text/html": [
       "\n",
       "        <iframe\n",
       "            width=\"100%\"\n",
       "            height=\"500px\"\n",
       "            src=\"html/news_russia_fbi.html\"\n",
       "            frameborder=\"0\"\n",
       "            allowfullscreen\n",
       "        ></iframe>\n",
       "        "
      ],
      "text/plain": [
       "<IPython.lib.display.IFrame at 0x22ea330deb8>"
      ]
     },
     "metadata": {},
     "output_type": "display_data"
    }
   ],
   "source": [
    "show_news_multiple_plotly_file(russia_fbi,'Topics in news','news_russia_fbi.html')"
   ]
  },
  {
   "cell_type": "markdown",
   "metadata": {},
   "source": [
    "We observe the dates and number of news articles containing selected topic, over time. We will further on provide more context in terms of what appears in Trumps twitter feed when such topics appear."
   ]
  },
  {
   "cell_type": "markdown",
   "metadata": {},
   "source": [
    "We will define functions for extracting dates and counts for selected hashtags and mentions, in order to have a better overview of their emergence."
   ]
  },
  {
   "cell_type": "code",
   "execution_count": 308,
   "metadata": {},
   "outputs": [],
   "source": [
    "def extract_hashtag_count_date(df, hashtag):\n",
    "    '''\n",
    "    Utility function for extracting count and date for specified hashtag.\n",
    "    \n",
    "    PARAMETERS:\n",
    "    df -- news dataframe paired with tweets\n",
    "    hashtag -- string, specified hashtag to process\n",
    "    \n",
    "    RETURNS:\n",
    "    df -- dataframe containing columns of date and count for specified hashtag\n",
    "    '''\n",
    "    ret_ht = {}\n",
    "    \n",
    "    for idx, row in df.iterrows():\n",
    "        for ht in row['hashtags']:\n",
    "            if(ht['text']==hashtag):\n",
    "                key = row['news']['Date of Airing (EST)']\n",
    "                if(key in ret_ht):\n",
    "                    ret_ht[key] += 1\n",
    "                else:\n",
    "                    ret_ht[key] = 1\n",
    "    \n",
    "    df = pd.DataFrame.from_dict(ret_ht, orient='index').reset_index()\n",
    "    df.columns = ['date','count']\n",
    "    \n",
    "    return df\n",
    "\n",
    "def extract_mentions_count_date(df, mention):\n",
    "    '''\n",
    "    Utility function for extracting count and date for specified mention.\n",
    "    \n",
    "    PARAMETERS:\n",
    "    df -- news dataframe paired with tweets\n",
    "    mention -- string, specified mention to process\n",
    "    \n",
    "    RETURNS:\n",
    "    df -- dataframe containing columns of date and count for specified hashtag\n",
    "    '''\n",
    "    ret_ht = {}\n",
    "    \n",
    "    for idx, row in df.iterrows():\n",
    "        for ht in row['mentions']:\n",
    "            if(ht['screen_name']==mention):\n",
    "                key = row['news']['Date of Airing (EST)']\n",
    "                if(key in ret_ht):\n",
    "                    ret_ht[key] += 1\n",
    "                else:\n",
    "                    ret_ht[key] = 1\n",
    "    \n",
    "    df = pd.DataFrame.from_dict(ret_ht, orient='index').reset_index()\n",
    "    df.columns = ['date','count']\n",
    "    \n",
    "    return df"
   ]
  },
  {
   "cell_type": "markdown",
   "metadata": {},
   "source": [
    "Now that we have dates and counts for specific mentions or hashtags, we can plot them and show graphically how they behave in context of news. We will define a function for that to reduce clutter and improve reusability:"
   ]
  },
  {
   "cell_type": "code",
   "execution_count": 332,
   "metadata": {},
   "outputs": [],
   "source": [
    "def show_mentions_or_hashtag_plotly_file(mentions_ht_df, text, title, file_name):\n",
    "    '''\n",
    "    A helper function for displaying mentions or hashtag frequencies.\n",
    "    \n",
    "    Parameters:\n",
    "    mentions_ht_df -- dataframe containing date and count value, from the news dataset\n",
    "    text -- string, name of the barchart\n",
    "    title -- title to display\n",
    "    file_name -- name of the output html file.\n",
    "    \n",
    "    Returns:\n",
    "    nothing, saves the charts in html folder.\n",
    "    ''' \n",
    "    data = [go.Bar(\n",
    "                x = mentions_ht_df['date'],\n",
    "                y = mentions_ht_df['count'],\n",
    "                name = text\n",
    "            )]\n",
    "    \n",
    "    layout = go.Layout(\n",
    "        title = title,\n",
    "        yaxis = {'title': 'Number'},\n",
    "        xaxis = {'title': 'Date'},\n",
    "    )\n",
    "    \n",
    "    fig = go.Figure(data=data, layout=layout)\n",
    "    plotly.offline.plot(fig, filename='html/'+file_name)\n",
    "    display(IFrame('html/'+file_name, \"100%\", \"500px\"))"
   ]
  },
  {
   "cell_type": "markdown",
   "metadata": {},
   "source": [
    "Let us test the function on \"MAGA\" (make America great again) hashtag.\n",
    "\n",
    "We first extract the counts and datest for the hashtag, then proceed to display that information."
   ]
  },
  {
   "cell_type": "code",
   "execution_count": 354,
   "metadata": {
    "scrolled": true
   },
   "outputs": [
    {
     "data": {
      "text/html": [
       "\n",
       "        <iframe\n",
       "            width=\"100%\"\n",
       "            height=\"500px\"\n",
       "            src=\"html/maga.html\"\n",
       "            frameborder=\"0\"\n",
       "            allowfullscreen\n",
       "        ></iframe>\n",
       "        "
      ],
      "text/plain": [
       "<IPython.lib.display.IFrame at 0x22ea332f4e0>"
      ]
     },
     "metadata": {},
     "output_type": "display_data"
    }
   ],
   "source": [
    "maga = extract_hashtag_count_date(t,'MAGA')\n",
    "show_mentions_or_hashtag_plotly_file(maga, 'MAGA', 'MAGA mentions after news topics: Russia, FBI, Legal Issues', 'maga.html')"
   ]
  },
  {
   "cell_type": "markdown",
   "metadata": {},
   "source": [
    "Similarly it is performed for mentions, we will demonstrate for mention \"CNN\"."
   ]
  },
  {
   "cell_type": "code",
   "execution_count": 355,
   "metadata": {
    "scrolled": true
   },
   "outputs": [
    {
     "data": {
      "text/html": [
       "\n",
       "        <iframe\n",
       "            width=\"100%\"\n",
       "            height=\"500px\"\n",
       "            src=\"html/cnn.html\"\n",
       "            frameborder=\"0\"\n",
       "            allowfullscreen\n",
       "        ></iframe>\n",
       "        "
      ],
      "text/plain": [
       "<IPython.lib.display.IFrame at 0x22ea3321b70>"
      ]
     },
     "metadata": {},
     "output_type": "display_data"
    }
   ],
   "source": [
    "cnn = extract_mentions_count_date(t, 'CNN')\n",
    "show_mentions_or_hashtag_plotly_file(cnn, 'CNN', 'CNN mentions after news topics: Russia, FBI, Legal Issues', 'cnn.html')"
   ]
  },
  {
   "cell_type": "markdown",
   "metadata": {},
   "source": [
    "Finally, using the pieces of information collected, we make an overlay display. \n",
    "\n",
    "The goal is to show correspondence between certain hashtags and news, given the dates and their frequencies (counts)."
   ]
  },
  {
   "cell_type": "code",
   "execution_count": 347,
   "metadata": {},
   "outputs": [],
   "source": [
    "def overlay_hashtag_mention_with_news(news_df_list, mentions_ht_df_list, title, file_name):\n",
    "    '''\n",
    "    Utility function for plotting news and mentions/hashtags together. News are represented as scatter chart,\n",
    "    while mentionshashtags are bar charts.\n",
    "    \n",
    "    Parameters:\n",
    "    news_df_list -- list, [(dataframe, 'topic')...]\n",
    "    mentions_ht_df_list -- list, [(dataframe, 'mention/ht')...]\n",
    "    title -- title to display\n",
    "    file_name -- name of the output html file.\n",
    "    \n",
    "    Returns:\n",
    "    nothing, saves the charts in html folder.\n",
    "    '''\n",
    "    data = []\n",
    "    for nl in news_df_list:\n",
    "        data.append(go.Scatter(\n",
    "                    x = nl[0]['date'],\n",
    "                    y = nl[0]['value'],\n",
    "                    mode = 'markers',\n",
    "                    name = nl[1]\n",
    "                ))\n",
    "    \n",
    "    for mh in mentions_ht_df_list:\n",
    "        data.append(go.Bar(\n",
    "                    x = mh[0]['date'],\n",
    "                    y = mh[0]['count'],\n",
    "                    name = mh[1]\n",
    "                ))\n",
    "    \n",
    "    layout = go.Layout(\n",
    "        title = title,\n",
    "        yaxis = {'title': 'Number'},\n",
    "        xaxis = {'title': 'Date'},\n",
    "    )\n",
    "    \n",
    "    fig = go.Figure(data=data, layout=layout)\n",
    "    plotly.offline.plot(fig, filename='html/'+file_name)\n",
    "    display(IFrame('html/'+file_name, \"100%\", \"500px\"))\n",
    "    "
   ]
  },
  {
   "cell_type": "markdown",
   "metadata": {},
   "source": [
    "We are now ready for the analysis, we overlay the news containing topics: Russia and FBI with subsequent mentions and hashtags: MAGA and CNN."
   ]
  },
  {
   "cell_type": "code",
   "execution_count": 360,
   "metadata": {},
   "outputs": [],
   "source": [
    "# we add MakeAmericaGreatAgain as well, as a variant on MAGA\n",
    "maga1 = extract_hashtag_count_date(t,'MakeAmericaGreatAgain')\n",
    "\n",
    "# wa add DRUDGE_REPORT as mention, being one of the more popular ones \n",
    "dr = extract_mentions_count_date(t,'DRUDGE_REPORT')"
   ]
  },
  {
   "cell_type": "code",
   "execution_count": 361,
   "metadata": {},
   "outputs": [
    {
     "data": {
      "text/html": [
       "\n",
       "        <iframe\n",
       "            width=\"100%\"\n",
       "            height=\"500px\"\n",
       "            src=\"html/russia_fbi_maga_cnn.html\"\n",
       "            frameborder=\"0\"\n",
       "            allowfullscreen\n",
       "        ></iframe>\n",
       "        "
      ],
      "text/plain": [
       "<IPython.lib.display.IFrame at 0x22ea332f400>"
      ]
     },
     "metadata": {},
     "output_type": "display_data"
    }
   ],
   "source": [
    "overlay_hashtag_mention_with_news(russia_fbi, [(maga,'MAGA'), (cnn,'CNN'), (maga1,'MAGA1'), (dr,'DRUDGE_REPORT')], 'News and Mentions/Hashtags overlay','russia_fbi_maga_cnn.html')"
   ]
  },
  {
   "cell_type": "markdown",
   "metadata": {},
   "source": [
    "We can observe a peculiarity: we can see that number of mentions and hashtags in this case visibly increases in periods when  news are published with certain (uneasy) topics.\n",
    "\n",
    "## Conclusion?\n",
    "\n",
    "In both cases we can observe certain trends, without being able to statistically confirm hypothesis. We do lack knowledge on social phenomena and social media statistics, since the concepts and phenomena is not as expressive and definite as in natural sciences and engineering. \n",
    "\n",
    "### When Trump Tweet about something, what is in news?\n",
    "This approach has showed some signals and observations, albeit, without formal proof. It might be expected in general terms that this direction will not have a clear conclusion. As news topic evolve and his tweets support agenda which is not necessarily covered in the news, there will be a noise in data we cannot discard. Thus, we did not provide a statistical hypothesis that we wanted to prove, but a data exploration and observation.\n",
    "\n",
    "We can observe the emergence of certain topics and their increase in frequency and speed of decay of topic, as shown for \"Fake news\", \"Obama\" or \"Hillary Clinton\". It shows for what news he might use mention of strong agenda or political oponents to deflect the importance of certain topics in news.\n",
    "\n",
    "### When certain topic is in news, what does Trump tweet about?\n",
    "\n",
    "The signal is more clear, albeit statistically unproved. Trump will not tweet about certain topics only when some news appear (as that would be rather transparent and foolish). \n",
    "We can observe, however, the trend more clearly - when certain topics are in the news, he will have a more direct and evident response through mentions and hashtags. Obviously, he does not target all the published news since that may diminish the strength of his rhetoric. We could however extract the news with strong signal and analyze their content, but that falls out of scope of this project and our expertise.\n",
    "\n",
    "This coincided for cases of Russia and FBI cases where CNN has been intensively mentioned when news would be published (fake news) and Drudge report as a right-wing news outlet, as well as MAGA frequency (to enforce the patriotism). A more detailed survey would have to be done to statistically prove these claims as significant. But for now, we show a pattern we have observed by digging into data.\n",
    "\n",
    "### Why these topics?\n",
    "\n",
    "For brevity and proof of concept, we have used given examples, being most famous and expecting the best observations which are possible to explain.\n",
    "\n",
    "We have made the solution modular and documented the functions and given examples of calls. It should thus be possible to extend these functions to any tweet content to obtain news, and vice versa, with the news. A future possibility would be a system which would allow flexible searches and analysis, such as web application.\n",
    "\n",
    "The examples are indepedent on freshness of data - just plug in the most recent datasets and it is good to go - since both tweets and news topics continuously develop."
   ]
  },
  {
   "cell_type": "markdown",
   "metadata": {},
   "source": [
    "# Looking further into the dataset"
   ]
  },
  {
   "cell_type": "markdown",
   "metadata": {},
   "source": [
    "## Importing the dataset"
   ]
  },
  {
   "cell_type": "markdown",
   "metadata": {},
   "source": [
    "For the next task, we will use the condensed datasets, one for each year, starting with 2009 until 2017. The last tweet is written on November 24th, 2017. "
   ]
  },
  {
   "cell_type": "code",
   "execution_count": 6,
   "metadata": {
    "collapsed": true
   },
   "outputs": [],
   "source": [
    "FILES_FOLDER = os.path.join('.', 'data', 'Trump_tweets')"
   ]
  },
  {
   "cell_type": "code",
   "execution_count": 12,
   "metadata": {
    "collapsed": true
   },
   "outputs": [],
   "source": [
    "datasets_list = []\n",
    "\n",
    "for year in range(2009, 2018):\n",
    "    CURRENT_FILE = os.path.join(FILES_FOLDER, 'condensed_' + str(year) + '.json')\n",
    "    \n",
    "    current_dataset = pd.read_json(CURRENT_FILE)\n",
    "    datasets_list.append(current_dataset)\n",
    "    \n",
    "condensed_dataset = pd.concat(datasets_list) # concatenate the yearly datasets\n",
    "condensed_dataset = condensed_dataset.drop(['in_reply_to_user_id_str', 'is_retweet', 'id_str'], axis=1) # drop the three columns\n",
    "condensed_dataset = condensed_dataset.set_index('created_at', drop=True) # reindex data by Twitter index\n",
    "condensed_dataset = condensed_dataset.sort_index() # sort the big dataset on the date of Tweets"
   ]
  },
  {
   "cell_type": "code",
   "execution_count": 13,
   "metadata": {},
   "outputs": [
    {
     "data": {
      "text/html": [
       "<div>\n",
       "<style>\n",
       "    .dataframe thead tr:only-child th {\n",
       "        text-align: right;\n",
       "    }\n",
       "\n",
       "    .dataframe thead th {\n",
       "        text-align: left;\n",
       "    }\n",
       "\n",
       "    .dataframe tbody tr th {\n",
       "        vertical-align: top;\n",
       "    }\n",
       "</style>\n",
       "<table border=\"1\" class=\"dataframe\">\n",
       "  <thead>\n",
       "    <tr style=\"text-align: right;\">\n",
       "      <th></th>\n",
       "      <th>favorite_count</th>\n",
       "      <th>retweet_count</th>\n",
       "      <th>source</th>\n",
       "      <th>text</th>\n",
       "    </tr>\n",
       "    <tr>\n",
       "      <th>created_at</th>\n",
       "      <th></th>\n",
       "      <th></th>\n",
       "      <th></th>\n",
       "      <th></th>\n",
       "    </tr>\n",
       "  </thead>\n",
       "  <tbody>\n",
       "    <tr>\n",
       "      <th>2009-05-04 18:54:25</th>\n",
       "      <td>202</td>\n",
       "      <td>253</td>\n",
       "      <td>Twitter Web Client</td>\n",
       "      <td>Be sure to tune in and watch Donald Trump on L...</td>\n",
       "    </tr>\n",
       "    <tr>\n",
       "      <th>2009-05-05 01:00:10</th>\n",
       "      <td>3</td>\n",
       "      <td>2</td>\n",
       "      <td>Twitter Web Client</td>\n",
       "      <td>Donald Trump will be appearing on The View tom...</td>\n",
       "    </tr>\n",
       "    <tr>\n",
       "      <th>2009-05-08 13:38:08</th>\n",
       "      <td>2</td>\n",
       "      <td>3</td>\n",
       "      <td>Twitter Web Client</td>\n",
       "      <td>Donald Trump reads Top Ten Financial Tips on L...</td>\n",
       "    </tr>\n",
       "    <tr>\n",
       "      <th>2009-05-08 20:40:15</th>\n",
       "      <td>27</td>\n",
       "      <td>8</td>\n",
       "      <td>Twitter Web Client</td>\n",
       "      <td>New Blog Post: Celebrity Apprentice Finale and...</td>\n",
       "    </tr>\n",
       "    <tr>\n",
       "      <th>2009-05-12 14:07:28</th>\n",
       "      <td>1950</td>\n",
       "      <td>1421</td>\n",
       "      <td>Twitter Web Client</td>\n",
       "      <td>\"My persona will never be that of a wallflower...</td>\n",
       "    </tr>\n",
       "  </tbody>\n",
       "</table>\n",
       "</div>"
      ],
      "text/plain": [
       "                     favorite_count  retweet_count              source  \\\n",
       "created_at                                                               \n",
       "2009-05-04 18:54:25             202            253  Twitter Web Client   \n",
       "2009-05-05 01:00:10               3              2  Twitter Web Client   \n",
       "2009-05-08 13:38:08               2              3  Twitter Web Client   \n",
       "2009-05-08 20:40:15              27              8  Twitter Web Client   \n",
       "2009-05-12 14:07:28            1950           1421  Twitter Web Client   \n",
       "\n",
       "                                                                  text  \n",
       "created_at                                                              \n",
       "2009-05-04 18:54:25  Be sure to tune in and watch Donald Trump on L...  \n",
       "2009-05-05 01:00:10  Donald Trump will be appearing on The View tom...  \n",
       "2009-05-08 13:38:08  Donald Trump reads Top Ten Financial Tips on L...  \n",
       "2009-05-08 20:40:15  New Blog Post: Celebrity Apprentice Finale and...  \n",
       "2009-05-12 14:07:28  \"My persona will never be that of a wallflower...  "
      ]
     },
     "execution_count": 13,
     "metadata": {},
     "output_type": "execute_result"
    }
   ],
   "source": [
    "condensed_dataset.head()"
   ]
  },
  {
   "cell_type": "markdown",
   "metadata": {},
   "source": [
    "As we can observe, the columns available can give a lot of insight, with:\n",
    "\n",
    "* **created_at**: the exact second of posting Tweet\n",
    "* **favorite_count**: the number of *favorites* the tweet got\n",
    "* **retweet_count**: the number of *retweets* the tweet got\n",
    "* **text**: the actual tweet text\n",
    "* **source**: the client used for posting the tweet, which can be Twitter Web Client, Twitter for Android or iPhone and so on.\n",
    "\n",
    "We decided to drop the columns *in_reply_to_user_id_str*, *is_retweet* and *id_str* for the start, as we think it cannot give us information for the tasks we want to perform."
   ]
  },
  {
   "cell_type": "markdown",
   "metadata": {},
   "source": [
    "# Are Trump's tweets getting more rude over time?"
   ]
  },
  {
   "cell_type": "markdown",
   "metadata": {},
   "source": [
    "One of the first research questions we ask is if the tweets are getting more rude or maybe less rude over time, and especially after Trump became a presidential candidate. We know that while he was a running for presidency, he used a lot of negative words against his opponents, especially Hillary Clinton:"
   ]
  },
  {
   "cell_type": "markdown",
   "metadata": {},
   "source": [
    "<img src=\"data/crooked_hilary.png\">"
   ]
  },
  {
   "cell_type": "markdown",
   "metadata": {},
   "source": [
    "Also, after becoming president, he posted some very acid tweets, as we can see below:"
   ]
  },
  {
   "cell_type": "markdown",
   "metadata": {},
   "source": [
    "<img src=\"data/kim.png\">"
   ]
  },
  {
   "cell_type": "markdown",
   "metadata": {},
   "source": [
    "We want to stress out a very important aspect of this analysis. For other types of media, like newspapers or TV, there exists a reporter and an editorial board, who decide exactly what gets published and what not, and also the meaning of the words might get interpreted in a different way than intended. Therefore, an analysis in such a context would require further investigations, because it might be the case that the media tries to use a more acid language just to increase the rating.\n",
    "\n",
    "However, this is not the case for Twitter, where the person decides exactly what to post, and also the language. Therefore, an overall increase or decrease in the number of rude words is directly related to the person posting the tweets, without involving other third parties that might filter the information.\n",
    "\n",
    "---"
   ]
  },
  {
   "cell_type": "markdown",
   "metadata": {},
   "source": [
    "Therefore, for realizing this task, we thought to use different approaches, such as analysis of the *usage of words with negative impact*, *sentiment analysis* on the tweets and then using *emotions associated to different words*, to be able to expand the sphere of action from a two-class result (*positive* vs *negative* sentiment) to a broader class result, associated with *emotions*.\n",
    "\n",
    "For this, we need to process the tweets, and that involves Natural Language Processing (NLP) techniques."
   ]
  },
  {
   "cell_type": "markdown",
   "metadata": {},
   "source": [
    "## A little bit of NLP never hurts"
   ]
  },
  {
   "cell_type": "markdown",
   "metadata": {},
   "source": [
    "For basic NLP tasks such as *word tokenization*, *Part of Speech (POS) tagging* and *lemmatization*, we will use a Python library called nltk - *Natural Language ToolKit*. We decided to download all the corpuses available, so installation of the library is pretty straightforward, with this commands in the Command Line:\n",
    "\n",
    "* conda install nltk\n",
    "* python -m nltk.downloader all\n",
    "\n",
    "Then, we can import nltk library:"
   ]
  },
  {
   "cell_type": "code",
   "execution_count": 18,
   "metadata": {
    "collapsed": true
   },
   "outputs": [],
   "source": [
    "import nltk"
   ]
  },
  {
   "cell_type": "markdown",
   "metadata": {},
   "source": [
    "### Initial tweet processing"
   ]
  },
  {
   "cell_type": "markdown",
   "metadata": {},
   "source": [
    "The basic NLP pipeline would follow like this:\n",
    "* First , we want to *extract the hashtags* from the tweet for further analysis\n",
    "* Then, *delete links, retweet handles and special characters* such as &amp;\n",
    "* After that, *remove stop words*, using a predefined list of stop words in the nltk corpus and also a handcrafted list\n",
    "* Finally, delete punctuation signs from tweet.\n",
    "\n",
    "The result of the processing pipeline would be a list of words, every one of them being meaningful, which can then be given to the next layer of processing.\n",
    "\n",
    "\n",
    "---\n",
    "\n",
    "The function that extracts the hashtags is defined below:"
   ]
  },
  {
   "cell_type": "code",
   "execution_count": 22,
   "metadata": {
    "collapsed": true
   },
   "outputs": [],
   "source": [
    "import re # import re package for regex manipulation"
   ]
  },
  {
   "cell_type": "code",
   "execution_count": 23,
   "metadata": {
    "collapsed": true
   },
   "outputs": [],
   "source": [
    "def extract_hashtags(tweet):\n",
    "    '''Function that extracts the hashtags from a tweet'''\n",
    "    \n",
    "    hashtags = [hashtag[:-1] for hashtag in re.findall('#[^\\s]+\\s', tweet)]\n",
    "    return hashtags"
   ]
  },
  {
   "cell_type": "markdown",
   "metadata": {},
   "source": [
    "The function that removes unwanted parts of tweet is defined in the next cell:"
   ]
  },
  {
   "cell_type": "code",
   "execution_count": 24,
   "metadata": {
    "collapsed": true
   },
   "outputs": [],
   "source": [
    "def remove_unwanted(tweet):\n",
    "    '''Function that simply removes unwanted parts of tweet, such as links, retweet handles and weird characters.'''\n",
    "    \n",
    "    to_delete = ['&amp;', 'RT @[a-zA-Z0-9 ]+:', ' @[a-zA-Z0-9 ]+:',\n",
    "                 '(http|ftp|https)://([\\w_-]+(?:(?:\\.[\\w_-]+)+))([\\w.,@?^=%&:/~+#-]*[\\w@?^=%&/~+#-])?']\n",
    "    tweet_processed = tweet\n",
    "    \n",
    "    for expression in to_delete:\n",
    "        tweet_processed = re.sub(expression, '', tweet_processed)\n",
    "        \n",
    "    return tweet_processed"
   ]
  },
  {
   "cell_type": "markdown",
   "metadata": {},
   "source": [
    "Next, we need to remove the stopwords in the tweet, i.e. words that only make the link between the important words, e.g. *for*, *and* and so on. Usually, the stop words bear no semantic significance, so we can actually reemove them from our list. A good corpus with stopwords for English language is present in nltk package:"
   ]
  },
  {
   "cell_type": "code",
   "execution_count": 25,
   "metadata": {
    "collapsed": true
   },
   "outputs": [],
   "source": [
    "from nltk.corpus import stopwords"
   ]
  },
  {
   "cell_type": "markdown",
   "metadata": {},
   "source": [
    "We can now write the function that removes the stopwords from the list:"
   ]
  },
  {
   "cell_type": "code",
   "execution_count": 34,
   "metadata": {
    "collapsed": true
   },
   "outputs": [],
   "source": [
    "def remove_stop_words(words):\n",
    "    '''Function that removes the stopwords from the words list.'''\n",
    "    \n",
    "    extra_list = [\"'s\", \"n't\", ]\n",
    "    \n",
    "    filter_function = lambda x: (x.lower() not in extra_list) and (x.lower() not in (stopwords.words('english'))) \n",
    "    # the filtering function, i.e. only takes into consideration words that are not in stopword corpus or hand-crafted list\n",
    "    # considers only lower-case words, but outputs the words as they were initially written.\n",
    "    \n",
    "    processed = list(filter(filter_function, words))\n",
    "    return processed"
   ]
  },
  {
   "cell_type": "markdown",
   "metadata": {},
   "source": [
    "Last point of the pipeline, we delete the punctuation marks in the tweet:"
   ]
  },
  {
   "cell_type": "code",
   "execution_count": 28,
   "metadata": {
    "collapsed": true
   },
   "outputs": [],
   "source": [
    "def delete_punctuations(words):\n",
    "    '''Function that deletes the punctuation marks in the list of words.'''\n",
    "    \n",
    "    punctuation_marks = [\".\", \"?\", \"!\", \":\", \";\", \"-\", \"(\", \")\", \"[\", \"]\", \"...\", \"\\\"\", \",\",'“', '\"', \"'\", \"”\", '``', \"''\", '@', '#', \"’\", '&']\n",
    "    \n",
    "    return list(filter(lambda x: x not in punctuation_marks, words))"
   ]
  },
  {
   "cell_type": "markdown",
   "metadata": {
    "collapsed": true
   },
   "source": [
    "Finally, we can use all the previous defined functions, so that we create the basic NLP processing function for a single tweet. The function returns the list of meaningful words in the tweet, in the exact initial form, i.e. not lower-cased. Also, it returns the list of used hashtags, that might be useful for future processing:"
   ]
  },
  {
   "cell_type": "code",
   "execution_count": 29,
   "metadata": {
    "collapsed": true
   },
   "outputs": [],
   "source": [
    "def process_tweet(tweet):\n",
    "    '''Function that processes the tweet, as specified above.'''\n",
    "    \n",
    "    hashtags = extract_hashtags(tweet) # extracts hashtags\n",
    "    tweet = remove_unwanted(tweet) # remove unwanted parts\n",
    "    words = nltk.word_tokenize(tweet) # tokenize tweet into words\n",
    "    no_stop_words = remove_stop_words(words) # remove stopwords\n",
    "    no_punctuation = delete_punctuations(no_stop_words) # delete punctuation marks\n",
    "    \n",
    "    return no_punctuation, hashtags"
   ]
  },
  {
   "cell_type": "markdown",
   "metadata": {},
   "source": [
    "Let's see how our function works on a real tweet:"
   ]
  },
  {
   "cell_type": "code",
   "execution_count": 42,
   "metadata": {},
   "outputs": [
    {
     "name": "stdout",
     "output_type": "stream",
     "text": [
      "Welcome to the new reality. Goldman Sachs just based their new Asia Pacific chairman not in Tokyo, but Beijing.  http://t.co/wNWdZjTE\n",
      "(['Welcome', 'new', 'reality', 'Goldman', 'Sachs', 'based', 'new', 'Asia', 'Pacific', 'chairman', 'Tokyo', 'Beijing'], [])\n"
     ]
    }
   ],
   "source": [
    "print(condensed_dataset.iloc[2017].text)\n",
    "print(process_tweet(condensed_dataset.iloc[2017].text))"
   ]
  },
  {
   "cell_type": "markdown",
   "metadata": {},
   "source": [
    "We can say that the function does exactly what we intended, so we can move on to the next parts."
   ]
  },
  {
   "cell_type": "markdown",
   "metadata": {},
   "source": [
    "### Counting negative words"
   ]
  },
  {
   "cell_type": "markdown",
   "metadata": {},
   "source": [
    "The first research idea is to see the trend of the negative words in tweets. We used a corpus of almost 4800 words with negative impact, which can be found at [the GitHub page](https://github.com/jeffreybreen/twitter-sentiment-analysis-tutorial-201107/blob/master/data/opinion-lexicon-English/negative-words.txt), and also was used in the paper:\n",
    "\n",
    "Minqing Hu and Bing Liu. \"Mining and Summarizing Customer Reviews.\", Proceedings of the ACM SIGKDD International Conference on Knowledge Discovery and Data Mining (KDD-2004), Aug 22-25, 2004, Seattle, Washington, USA."
   ]
  },
  {
   "cell_type": "code",
   "execution_count": 43,
   "metadata": {
    "collapsed": true
   },
   "outputs": [],
   "source": [
    "with open(os.path.join('.', 'data', 'negative_words.txt')) as f:\n",
    "    negative_words = set(map(str.strip, f.readlines()))   "
   ]
  },
  {
   "cell_type": "markdown",
   "metadata": {},
   "source": [
    "Next, we might want to assess how many negative words a tweet has, which we can do using the next function:"
   ]
  },
  {
   "cell_type": "code",
   "execution_count": 46,
   "metadata": {
    "collapsed": true
   },
   "outputs": [],
   "source": [
    "def count_negative_words_in_tweet(tweet):\n",
    "    '''Function that counts how many negative words are contained in the negative dataset.'''\n",
    "    \n",
    "    tweet_words_processed = set(process_tweet(tweet)[0]) # create a set of the meaningful words in the tweet\n",
    "    return len(tweet_words_processed.intersection(negative_words)) # return the number of negative words in the tweet"
   ]
  },
  {
   "cell_type": "markdown",
   "metadata": {},
   "source": [
    "Finally, we can create a new column in the dataset, which represents how many negative words the tweet contains:"
   ]
  },
  {
   "cell_type": "code",
   "execution_count": 47,
   "metadata": {
    "collapsed": true
   },
   "outputs": [],
   "source": [
    "condensed_dataset['negative_words'] = condensed_dataset.text.apply(count_negative_words_in_tweet)"
   ]
  },
  {
   "cell_type": "code",
   "execution_count": 48,
   "metadata": {},
   "outputs": [
    {
     "data": {
      "text/html": [
       "<div>\n",
       "<style>\n",
       "    .dataframe thead tr:only-child th {\n",
       "        text-align: right;\n",
       "    }\n",
       "\n",
       "    .dataframe thead th {\n",
       "        text-align: left;\n",
       "    }\n",
       "\n",
       "    .dataframe tbody tr th {\n",
       "        vertical-align: top;\n",
       "    }\n",
       "</style>\n",
       "<table border=\"1\" class=\"dataframe\">\n",
       "  <thead>\n",
       "    <tr style=\"text-align: right;\">\n",
       "      <th></th>\n",
       "      <th>favorite_count</th>\n",
       "      <th>retweet_count</th>\n",
       "      <th>source</th>\n",
       "      <th>text</th>\n",
       "      <th>negative_words</th>\n",
       "    </tr>\n",
       "    <tr>\n",
       "      <th>created_at</th>\n",
       "      <th></th>\n",
       "      <th></th>\n",
       "      <th></th>\n",
       "      <th></th>\n",
       "      <th></th>\n",
       "    </tr>\n",
       "  </thead>\n",
       "  <tbody>\n",
       "    <tr>\n",
       "      <th>2012-06-09 22:38:36</th>\n",
       "      <td>21</td>\n",
       "      <td>58</td>\n",
       "      <td>Twitter Web Client</td>\n",
       "      <td>Miss Florida was great in her denial of Miss P...</td>\n",
       "      <td>1</td>\n",
       "    </tr>\n",
       "    <tr>\n",
       "      <th>2012-06-11 16:27:10</th>\n",
       "      <td>39</td>\n",
       "      <td>360</td>\n",
       "      <td>Twitter Web Client</td>\n",
       "      <td>.@MannyPacquiao was robbed in his title fight ...</td>\n",
       "      <td>1</td>\n",
       "    </tr>\n",
       "    <tr>\n",
       "      <th>2012-06-11 16:41:37</th>\n",
       "      <td>18</td>\n",
       "      <td>64</td>\n",
       "      <td>Twitter Web Client</td>\n",
       "      <td>With almost 1.3 million followers and rising r...</td>\n",
       "      <td>1</td>\n",
       "    </tr>\n",
       "    <tr>\n",
       "      <th>2012-06-11 17:10:13</th>\n",
       "      <td>31</td>\n",
       "      <td>107</td>\n",
       "      <td>Twitter Web Client</td>\n",
       "      <td>\"Donald Trump\" song is up to almost 60 million...</td>\n",
       "      <td>1</td>\n",
       "    </tr>\n",
       "    <tr>\n",
       "      <th>2012-06-11 17:34:01</th>\n",
       "      <td>11</td>\n",
       "      <td>71</td>\n",
       "      <td>Twitter Web Client</td>\n",
       "      <td>Last Friday's gaffe by @BarackObama claiming t...</td>\n",
       "      <td>1</td>\n",
       "    </tr>\n",
       "  </tbody>\n",
       "</table>\n",
       "</div>"
      ],
      "text/plain": [
       "                     favorite_count  retweet_count              source  \\\n",
       "created_at                                                               \n",
       "2012-06-09 22:38:36              21             58  Twitter Web Client   \n",
       "2012-06-11 16:27:10              39            360  Twitter Web Client   \n",
       "2012-06-11 16:41:37              18             64  Twitter Web Client   \n",
       "2012-06-11 17:10:13              31            107  Twitter Web Client   \n",
       "2012-06-11 17:34:01              11             71  Twitter Web Client   \n",
       "\n",
       "                                                                  text  \\\n",
       "created_at                                                               \n",
       "2012-06-09 22:38:36  Miss Florida was great in her denial of Miss P...   \n",
       "2012-06-11 16:27:10  .@MannyPacquiao was robbed in his title fight ...   \n",
       "2012-06-11 16:41:37  With almost 1.3 million followers and rising r...   \n",
       "2012-06-11 17:10:13  \"Donald Trump\" song is up to almost 60 million...   \n",
       "2012-06-11 17:34:01  Last Friday's gaffe by @BarackObama claiming t...   \n",
       "\n",
       "                     negative_words  \n",
       "created_at                           \n",
       "2012-06-09 22:38:36               1  \n",
       "2012-06-11 16:27:10               1  \n",
       "2012-06-11 16:41:37               1  \n",
       "2012-06-11 17:10:13               1  \n",
       "2012-06-11 17:34:01               1  "
      ]
     },
     "execution_count": 48,
     "metadata": {},
     "output_type": "execute_result"
    }
   ],
   "source": [
    "condensed_dataset_dataseted_dataset[2000:2005]"
   ]
  },
  {
   "cell_type": "markdown",
   "metadata": {},
   "source": [
    "Having this information, we might want to plot the average number of negative words used each two months, which we will do below:"
   ]
  },
  {
   "cell_type": "code",
   "execution_count": 67,
   "metadata": {},
   "outputs": [
    {
     "data": {
      "text/plain": [
       "<matplotlib.legend.Legend at 0x189158ec8d0>"
      ]
     },
     "execution_count": 67,
     "metadata": {},
     "output_type": "execute_result"
    },
    {
     "data": {
      "image/png": "[encoded data removed]",
      "text/plain": [
       "<matplotlib.figure.Figure at 0x189167516d8>"
      ]
     },
     "metadata": {},
     "output_type": "display_data"
    }
   ],
   "source": [
    "monthly_negative_words = condensed_dataset['negative_words'].groupby(pd.TimeGrouper(freq='2M')).mean()\n",
    "monthly_negative_words.plot(grid=True, label='avg_negative_words', color='blue', ylim=(-0.2, 0.8), figsize =(16,8))\n",
    "plt.legend(loc='upper right')"
   ]
  },
  {
   "cell_type": "markdown",
   "metadata": {},
   "source": [
    "We can see that the number of bad words used was really low in the first two years, then followed by a sudden increase in 2011,  a continuous decrease until mid-2015 and then again a continuous increase starting with mid-2015 until 2017. Knowing that he announced his presidential candidacy in June 2015, we might correlate his increase in negative words with his fight for the presidency and then maybe for his tries to prove he is a \"strong\" leader. \n",
    "\n",
    "---\n",
    "\n",
    "We feel like this point of view should be investigated more closely, with a wider dataset or maybe on some different sub-datasets, which will be presented in a next section."
   ]
  },
  {
   "cell_type": "markdown",
   "metadata": {},
   "source": [
    "### Performing tweets sentiment analysis"
   ]
  },
  {
   "cell_type": "markdown",
   "metadata": {},
   "source": [
    "Next idea would be to consider a sentiment analysis classifier, to analyze the sentiment of each tweet and then look for major changes in the sentiment of the tweets as a time-series.\n",
    "\n",
    "For sentiment analysis we decided to use a classifier in the nltk package, namely **VADER**. As presented [in this link](http://t-redactyl.io/blog/2017/04/using-vader-to-handle-sentiment-analysis-with-social-media-text.html), VADER assigns a sentiment score for each word, realized using crowd-sourcing on *Amazon Mechanical Turk*. In a nutshell, VADER looks not only at scores for words, but also at capitalisation of letters and expressions such as **extremely** bad, which should increase the negativity of the score, in this case. Also, this is one of the main reasons we decided to keep text exactly as it was initially and not change letters to lower. More information could be found in the initial [paper](http://comp.social.gatech.edu/papers/icwsm14.vader.hutto.pdf). \n",
    "\n",
    "A thing that should be mentioned is that this method does not use Machine Learning techniques for classification, therefore we might want to look more into further methods. Therefore, we first create an instance of the sentiment analyzer:"
   ]
  },
  {
   "cell_type": "code",
   "execution_count": 56,
   "metadata": {
    "collapsed": true
   },
   "outputs": [],
   "source": [
    "from nltk.sentiment.vader import SentimentIntensityAnalyzer\n",
    "\n",
    "sid = SentimentIntensityAnalyzer()"
   ]
  },
  {
   "cell_type": "markdown",
   "metadata": {},
   "source": [
    "Then, we would want to create a new column, where we could keep the sentiment for each tweet. For that, we can use the following method: "
   ]
  },
  {
   "cell_type": "code",
   "execution_count": 57,
   "metadata": {
    "collapsed": true
   },
   "outputs": [],
   "source": [
    "condensed_dataset['sentiment'] = condensed_dataset.text.map(lambda x: sid.polarity_scores(x)['compound'])"
   ]
  },
  {
   "cell_type": "markdown",
   "metadata": {},
   "source": [
    "Then, a plot of the average sentiment every two months is realized below:"
   ]
  },
  {
   "cell_type": "code",
   "execution_count": null,
   "metadata": {
    "collapsed": true
   },
   "outputs": [],
   "source": [
    "monthly_sentiment = condensed_dataset['sentiment'].groupby(pd.TimeGrouper(freq='2M')).mean()\n",
    "monthly_sentiment.plot(grid=True, label='avg_sentiment', color='blue', ylim=(-0.2, 0.8), figsize =(16,8))\n",
    "plt.legend(loc='upper right')"
   ]
  },
  {
   "cell_type": "markdown",
   "metadata": {},
   "source": [
    "We can see that the current plot can be interpreted exactly as the one before, where we could see a decrease in positivity between 2011 and 2012, then an increase until 2015 and then again a decrease. Again, the signal is not very strong, but there might be imbalanced features present, and after balancing them we might actually get some good results.\n",
    "\n",
    "---\n",
    "\n",
    "Also, for a good result using ML techniques, we might use [*Google Sentiment Analysis Tool*](https://cloud.google.com/natural-language/docs/sentiment-tutorial), which will be tried for the next milestone, supposing that the Google product is one reference classifier for sentiment analysis. "
   ]
  },
  {
   "cell_type": "markdown",
   "metadata": {},
   "source": [
    "### Using words emotion valence"
   ]
  },
  {
   "cell_type": "markdown",
   "metadata": {},
   "source": [
    "The third tried method is to move from sentiment analysis, which has only two outputs (positive or negative), to emotions, which have a bigger number of outputs. Therefore, we could use words emotions valence, i.e. scores assigned to a list of words, for how likely it is that each word has a specific emotion. For that, we could use the [**Depeche Mood**](https://github.com/marcoguerini/DepecheMood/releases) dataset, which has over 37K words associated with emotions scores, for each one of this emotions:\n",
    "* AFRAID\n",
    "* AMUSED\n",
    "* ANGRY\n",
    "* ANNOYED\n",
    "* DONT_CARE\n",
    "* HAPPY\n",
    "* INSPIRED\n",
    "* SAD\n",
    "\n",
    "We import the dataset below and take a short look at some random 10 entries:"
   ]
  },
  {
   "cell_type": "code",
   "execution_count": 69,
   "metadata": {},
   "outputs": [
    {
     "data": {
      "text/html": [
       "<div>\n",
       "<style>\n",
       "    .dataframe thead tr:only-child th {\n",
       "        text-align: right;\n",
       "    }\n",
       "\n",
       "    .dataframe thead th {\n",
       "        text-align: left;\n",
       "    }\n",
       "\n",
       "    .dataframe tbody tr th {\n",
       "        vertical-align: top;\n",
       "    }\n",
       "</style>\n",
       "<table border=\"1\" class=\"dataframe\">\n",
       "  <thead>\n",
       "    <tr style=\"text-align: right;\">\n",
       "      <th></th>\n",
       "      <th>Lemma#PoS</th>\n",
       "      <th>AFRAID</th>\n",
       "      <th>AMUSED</th>\n",
       "      <th>ANGRY</th>\n",
       "      <th>ANNOYED</th>\n",
       "      <th>DONT_CARE</th>\n",
       "      <th>HAPPY</th>\n",
       "      <th>INSPIRED</th>\n",
       "      <th>SAD</th>\n",
       "    </tr>\n",
       "  </thead>\n",
       "  <tbody>\n",
       "    <tr>\n",
       "      <th>2000</th>\n",
       "      <td>asphalt#v</td>\n",
       "      <td>0.000000</td>\n",
       "      <td>0.455288</td>\n",
       "      <td>0.000000</td>\n",
       "      <td>0.233177</td>\n",
       "      <td>0.218037</td>\n",
       "      <td>0.000000</td>\n",
       "      <td>0.000000</td>\n",
       "      <td>0.093499</td>\n",
       "    </tr>\n",
       "    <tr>\n",
       "      <th>2001</th>\n",
       "      <td>asphyxia#n</td>\n",
       "      <td>0.000000</td>\n",
       "      <td>0.000000</td>\n",
       "      <td>0.214225</td>\n",
       "      <td>0.368184</td>\n",
       "      <td>0.000000</td>\n",
       "      <td>0.000000</td>\n",
       "      <td>0.000000</td>\n",
       "      <td>0.417591</td>\n",
       "    </tr>\n",
       "    <tr>\n",
       "      <th>2002</th>\n",
       "      <td>asphyxiate#v</td>\n",
       "      <td>0.125000</td>\n",
       "      <td>0.125000</td>\n",
       "      <td>0.125000</td>\n",
       "      <td>0.125000</td>\n",
       "      <td>0.125000</td>\n",
       "      <td>0.125000</td>\n",
       "      <td>0.125000</td>\n",
       "      <td>0.125000</td>\n",
       "    </tr>\n",
       "    <tr>\n",
       "      <th>2003</th>\n",
       "      <td>asphyxiation#n</td>\n",
       "      <td>0.039041</td>\n",
       "      <td>0.000000</td>\n",
       "      <td>0.238446</td>\n",
       "      <td>0.026706</td>\n",
       "      <td>0.034577</td>\n",
       "      <td>0.000000</td>\n",
       "      <td>0.000000</td>\n",
       "      <td>0.661231</td>\n",
       "    </tr>\n",
       "    <tr>\n",
       "      <th>2004</th>\n",
       "      <td>aspirant#n</td>\n",
       "      <td>0.073484</td>\n",
       "      <td>0.147461</td>\n",
       "      <td>0.171933</td>\n",
       "      <td>0.238579</td>\n",
       "      <td>0.148417</td>\n",
       "      <td>0.108419</td>\n",
       "      <td>0.054856</td>\n",
       "      <td>0.056852</td>\n",
       "    </tr>\n",
       "    <tr>\n",
       "      <th>2005</th>\n",
       "      <td>aspiration#n</td>\n",
       "      <td>0.149646</td>\n",
       "      <td>0.108822</td>\n",
       "      <td>0.070699</td>\n",
       "      <td>0.124269</td>\n",
       "      <td>0.145628</td>\n",
       "      <td>0.125095</td>\n",
       "      <td>0.179783</td>\n",
       "      <td>0.096058</td>\n",
       "    </tr>\n",
       "    <tr>\n",
       "      <th>2006</th>\n",
       "      <td>aspire#v</td>\n",
       "      <td>0.108132</td>\n",
       "      <td>0.133935</td>\n",
       "      <td>0.075823</td>\n",
       "      <td>0.131043</td>\n",
       "      <td>0.129200</td>\n",
       "      <td>0.114679</td>\n",
       "      <td>0.225105</td>\n",
       "      <td>0.082085</td>\n",
       "    </tr>\n",
       "    <tr>\n",
       "      <th>2007</th>\n",
       "      <td>aspirin#n</td>\n",
       "      <td>0.079129</td>\n",
       "      <td>0.237204</td>\n",
       "      <td>0.185007</td>\n",
       "      <td>0.050172</td>\n",
       "      <td>0.130326</td>\n",
       "      <td>0.134831</td>\n",
       "      <td>0.009180</td>\n",
       "      <td>0.174151</td>\n",
       "    </tr>\n",
       "    <tr>\n",
       "      <th>2008</th>\n",
       "      <td>aspiring#a</td>\n",
       "      <td>0.066070</td>\n",
       "      <td>0.083700</td>\n",
       "      <td>0.123111</td>\n",
       "      <td>0.167108</td>\n",
       "      <td>0.175827</td>\n",
       "      <td>0.111036</td>\n",
       "      <td>0.168852</td>\n",
       "      <td>0.104297</td>\n",
       "    </tr>\n",
       "    <tr>\n",
       "      <th>2009</th>\n",
       "      <td>ass#n</td>\n",
       "      <td>0.090754</td>\n",
       "      <td>0.253146</td>\n",
       "      <td>0.158853</td>\n",
       "      <td>0.123856</td>\n",
       "      <td>0.124280</td>\n",
       "      <td>0.066958</td>\n",
       "      <td>0.123809</td>\n",
       "      <td>0.058344</td>\n",
       "    </tr>\n",
       "  </tbody>\n",
       "</table>\n",
       "</div>"
      ],
      "text/plain": [
       "           Lemma#PoS    AFRAID    AMUSED     ANGRY   ANNOYED  DONT_CARE  \\\n",
       "2000       asphalt#v  0.000000  0.455288  0.000000  0.233177   0.218037   \n",
       "2001      asphyxia#n  0.000000  0.000000  0.214225  0.368184   0.000000   \n",
       "2002    asphyxiate#v  0.125000  0.125000  0.125000  0.125000   0.125000   \n",
       "2003  asphyxiation#n  0.039041  0.000000  0.238446  0.026706   0.034577   \n",
       "2004      aspirant#n  0.073484  0.147461  0.171933  0.238579   0.148417   \n",
       "2005    aspiration#n  0.149646  0.108822  0.070699  0.124269   0.145628   \n",
       "2006        aspire#v  0.108132  0.133935  0.075823  0.131043   0.129200   \n",
       "2007       aspirin#n  0.079129  0.237204  0.185007  0.050172   0.130326   \n",
       "2008      aspiring#a  0.066070  0.083700  0.123111  0.167108   0.175827   \n",
       "2009           ass#n  0.090754  0.253146  0.158853  0.123856   0.124280   \n",
       "\n",
       "         HAPPY  INSPIRED       SAD  \n",
       "2000  0.000000  0.000000  0.093499  \n",
       "2001  0.000000  0.000000  0.417591  \n",
       "2002  0.125000  0.125000  0.125000  \n",
       "2003  0.000000  0.000000  0.661231  \n",
       "2004  0.108419  0.054856  0.056852  \n",
       "2005  0.125095  0.179783  0.096058  \n",
       "2006  0.114679  0.225105  0.082085  \n",
       "2007  0.134831  0.009180  0.174151  \n",
       "2008  0.111036  0.168852  0.104297  \n",
       "2009  0.066958  0.123809  0.058344  "
      ]
     },
     "execution_count": 69,
     "metadata": {},
     "output_type": "execute_result"
    }
   ],
   "source": [
    "EMOTIONS_FILE = os.path.join('.', 'data', 'DepecheMood_V1.0', 'DepecheMood_tfidf.txt')\n",
    "\n",
    "emotions_df = pd.read_csv(EMOTIONS_FILE, sep='\\t')\n",
    "emotions_df[2000:2010]"
   ]
  },
  {
   "cell_type": "markdown",
   "metadata": {},
   "source": [
    "We can see that besides the word, we will need to have the associated Part of Speech, and also the word is represented by a root, and not a derived form (such as *aspirations* for *aspiration*), for example. Therefore, we might want to change the processing function of a tweet, written at first point, to also include the Part of Speech of each word, and also to extract the root of the word, process called *lemmatization*. This is all done below, in the exact same manner as for the previous task:"
   ]
  },
  {
   "cell_type": "code",
   "execution_count": 71,
   "metadata": {
    "collapsed": true
   },
   "outputs": [],
   "source": [
    "def remove_stop_words_pos(words_pos):\n",
    "    '''Function that removes the stopwords from the given list. The list has the form [(word, pos)], as opposed to the first\n",
    "    case, where it was only [word].'''\n",
    "    \n",
    "    extra_list = [\"'s\", \"n't\"]\n",
    "\n",
    "    filter_function = lambda x: (x[0] not in extra_list) and (x[0] not in (stopwords.words('english'))) \n",
    "    # the filtering function, i.e. only takes into consideration words that are not in stopword corpus or hand-crafted list\n",
    "    # note that only the words are taken into consideration, and words are on the first position of the pair.\n",
    "    \n",
    "    processed = list(filter(filter_function, words_pos))\n",
    "    return processed"
   ]
  },
  {
   "cell_type": "code",
   "execution_count": 72,
   "metadata": {
    "collapsed": true
   },
   "outputs": [],
   "source": [
    "def delete_punctuations_pos(words):\n",
    "    '''Function that removes the punctuation marks from the given list, which has the format [(word, pos)].'''\n",
    "    \n",
    "    punctuation_marks = [\".\", \"?\", \"!\", \":\", \";\", \"-\", \"(\", \")\", \"[\", \"]\", \"...\", \"\\\"\", \",\",'“', '\"', \"'\", \"”\", '``', \"''\", '@', '#', \"’\", '&']\n",
    "    return list(filter(lambda x: x[0] not in punctuation_marks, words))"
   ]
  },
  {
   "cell_type": "markdown",
   "metadata": {},
   "source": [
    "For lemmatization and POS tagging, we will use also nltk corpuses, as defined below:"
   ]
  },
  {
   "cell_type": "code",
   "execution_count": 74,
   "metadata": {
    "collapsed": true
   },
   "outputs": [],
   "source": [
    "from nltk.stem.wordnet import WordNetLemmatizer\n",
    "from nltk.corpus import wordnet\n",
    "\n",
    "lemmatizer = WordNetLemmatizer()"
   ]
  },
  {
   "cell_type": "markdown",
   "metadata": {},
   "source": [
    "The wordnet lemmatizer has different POS tags than the nltk ones, so we need a function to convert between the two:"
   ]
  },
  {
   "cell_type": "code",
   "execution_count": 75,
   "metadata": {
    "collapsed": true
   },
   "outputs": [],
   "source": [
    "def get_wordnet_pos(treebank_tag):\n",
    "    '''Function that transforms nltk tag to wordnet tag'''\n",
    "    \n",
    "    if treebank_tag.startswith('J'):\n",
    "        return wordnet.ADJ\n",
    "    elif treebank_tag.startswith('V'):\n",
    "        return wordnet.VERB\n",
    "    elif treebank_tag.startswith('N'):\n",
    "        return wordnet.NOUN\n",
    "    elif treebank_tag.startswith('R'):\n",
    "        return wordnet.ADV\n",
    "    else:\n",
    "        return ''"
   ]
  },
  {
   "cell_type": "markdown",
   "metadata": {},
   "source": [
    "Also, the Depeche Mood library uses different POS tags, and we need to transform between the nltk ones and Depeche Mood ones:"
   ]
  },
  {
   "cell_type": "code",
   "execution_count": 77,
   "metadata": {
    "collapsed": true
   },
   "outputs": [],
   "source": [
    "def get_depeche_mood_pos(treebank_pos):\n",
    "    '''Function that transforms nltk tag to Depeche Mood tag.'''\n",
    "    \n",
    "    if treebank_pos.startswith('J'):\n",
    "        return 'a' # adjective is a in Depeche Mood, compared to J in nltk.\n",
    "    return treebank_pos[0].lower()"
   ]
  },
  {
   "cell_type": "markdown",
   "metadata": {},
   "source": [
    "Next, we know that the words in Depeche Mood are in the form *lemmatized#POS*, so we write a function that constructs this format:"
   ]
  },
  {
   "cell_type": "code",
   "execution_count": 79,
   "metadata": {
    "collapsed": true
   },
   "outputs": [],
   "source": [
    "def lemmatize_and_join(word, pos):\n",
    "    '''Function that lemmatizes a word, and then returns a word in the format lemmatized#POS, as required by the Depeche Mood \n",
    "    dataset. Note that the POS given as parameter is one in the nltk library, not Depeche Mood or WordNet.'''\n",
    "    \n",
    "    pos_wordnet = get_wordnet_pos(pos)\n",
    "    \n",
    "    if pos_wordnet == '':\n",
    "        return None # not a part of speech\n",
    "    \n",
    "    lemmatized = lemmatizer.lemmatize(word, pos_wordnet)\n",
    "    pos_depeche_mood = get_depeche_mood_pos(pos)\n",
    "    \n",
    "    return lemmatized + \"#\" + pos_depeche_mood"
   ]
  },
  {
   "cell_type": "markdown",
   "metadata": {},
   "source": [
    "Now we are ready to write the new processing function, which will return the list of words, but in the special format used by the Depeche Mood dataset:"
   ]
  },
  {
   "cell_type": "code",
   "execution_count": 80,
   "metadata": {
    "collapsed": true
   },
   "outputs": [],
   "source": [
    "def process_tweet_pos(tweet):\n",
    "    '''Function that processes a tweet as in previous case, but also appending the POS and lemmatizing the word'''\n",
    "    \n",
    "    tweet = tweet.lower() # convert everything to lower-case\n",
    "    \n",
    "    tweet = remove_unwanted(tweet) # remove links and other unwanted parts of tweet\n",
    "    words = nltk.word_tokenize(tweet) # tokenize tweet into words\n",
    "    words_pos = nltk.pos_tag(words) # realize the POS-tagging of the tweet\n",
    "    \n",
    "    no_stop_words = remove_stop_words_pos(words_pos) # remove the stopwords\n",
    "    no_punctuation = delete_punctuations_pos(no_stop_words) # remove the punctuation marks\n",
    "    \n",
    "    words_unfiltered = [lemmatize_and_join(word, pos) for word, pos in no_punctuation] # construct the list of lemmatized words\n",
    "    words_final = list(filter(lambda x: x is not None, words_unfiltered)) # remove the Nones from the final list\n",
    "    \n",
    "    return words_final"
   ]
  },
  {
   "cell_type": "markdown",
   "metadata": {
    "collapsed": true
   },
   "source": [
    "Next, having this function, we might want to compute an emotion score for each tweet. For that, we will compute an emotion score for each word in the tweet, and the score of the entire tweet will be represented by the sum of the scores of each word. We will write the function that realizes the tweet scores modularily, using helper-functions. First, we write a function that initializes the scores for each emotion to 0: "
   ]
  },
  {
   "cell_type": "code",
   "execution_count": 81,
   "metadata": {
    "collapsed": true
   },
   "outputs": [],
   "source": [
    "def initialize_scores():\n",
    "    '''Function that initializes the score for each emotion to 0.'''\n",
    "    \n",
    "    score_dict = {}\n",
    "    \n",
    "    for emotion in emotions_df.columns[1:]:\n",
    "        score_dict[emotion] = 0\n",
    "        \n",
    "    return score_dict"
   ]
  },
  {
   "cell_type": "markdown",
   "metadata": {},
   "source": [
    "Then, we need a function that, given a specific word that exists in the Depeche Mood dataset and the current scores for each emotion as a dictionary, updates the scores for each emotion by realizing the sum with the new scores:"
   ]
  },
  {
   "cell_type": "code",
   "execution_count": 82,
   "metadata": {
    "collapsed": true
   },
   "outputs": [],
   "source": [
    "def update_scores(word_pos, score_dict):\n",
    "    '''Function that updates the emotion scores with the values associated with the given word.'''\n",
    "    \n",
    "    word_emotions_scores = dict(emotions_df[emotions_df['Lemma#PoS'] == word_pos].iloc[0])\n",
    "    del word_emotions_scores['Lemma#PoS']\n",
    "    \n",
    "    for emotion, score in word_emotions_scores.items():\n",
    "        score_dict[emotion] += score"
   ]
  },
  {
   "cell_type": "markdown",
   "metadata": {},
   "source": [
    "Finally, we might write the function that computes the emotion scores for the tweet:"
   ]
  },
  {
   "cell_type": "code",
   "execution_count": 83,
   "metadata": {
    "collapsed": true
   },
   "outputs": [],
   "source": [
    "def get_tweet_scores(tweet):\n",
    "    '''Function that computes the tweet emotion scores for the given tweet.'''\n",
    "    \n",
    "    score_dict = initialize_scores() # initialize the scores to 0\n",
    "    emotions_words = set(emotions_df['Lemma#PoS']) \n",
    "    \n",
    "    words_filtered_pos = process_tweet_pos(tweet) # process the tweet as written above\n",
    "    \n",
    "    for word_pos in words_filtered_pos:\n",
    "        if word_pos not in emotions_words: # pass over the words which are not in Depeche Mood dataset\n",
    "            continue\n",
    "            \n",
    "        update_scores(word_pos, score_dict) # update the scores for each emotion according to the scores of the current word\n",
    "    \n",
    "    return score_dict"
   ]
  },
  {
   "cell_type": "markdown",
   "metadata": {},
   "source": [
    "Having the function that computes the emotion scores for each tweet as the sum of the emotion scores for each individual word, we can now include all those scores as new columns in the dataset. Therefore, we do it below:"
   ]
  },
  {
   "cell_type": "code",
   "execution_count": 85,
   "metadata": {
    "collapsed": true
   },
   "outputs": [],
   "source": [
    "condensed_final = condensed_dataset.copy()\n",
    "emotions = set(emotions_df.columns) - {'Lemma#PoS'} # all the emotions in the dataset\n",
    "\n",
    "emotions_dict = {emotion : [] for emotion in emotions} # for each emotion, construct the list of tweet scores, in order\n",
    "    \n",
    "for tweet in condensed_final.text:\n",
    "    scores = get_tweet_scores(tweet) # compute the emotion scores, for each emotion\n",
    "    \n",
    "    for emotion, score in scores.items():\n",
    "        emotions_dict[emotion].append(score)\n",
    "        \n",
    "for emotion_name, emotion_values in emotions_dict.items():\n",
    "    new_column = pd.Series(emotion_values, index=condensed_final.index) # create the new column with the index of dataframe\n",
    "    condensed_final[emotion_name] = new_column # add new column to dataframe"
   ]
  },
  {
   "cell_type": "code",
   "execution_count": 86,
   "metadata": {},
   "outputs": [
    {
     "data": {
      "text/html": [
       "<div>\n",
       "<style>\n",
       "    .dataframe thead tr:only-child th {\n",
       "        text-align: right;\n",
       "    }\n",
       "\n",
       "    .dataframe thead th {\n",
       "        text-align: left;\n",
       "    }\n",
       "\n",
       "    .dataframe tbody tr th {\n",
       "        vertical-align: top;\n",
       "    }\n",
       "</style>\n",
       "<table border=\"1\" class=\"dataframe\">\n",
       "  <thead>\n",
       "    <tr style=\"text-align: right;\">\n",
       "      <th></th>\n",
       "      <th>favorite_count</th>\n",
       "      <th>retweet_count</th>\n",
       "      <th>source</th>\n",
       "      <th>text</th>\n",
       "      <th>negative_words</th>\n",
       "      <th>sentiment</th>\n",
       "      <th>AFRAID</th>\n",
       "      <th>AMUSED</th>\n",
       "      <th>ANGRY</th>\n",
       "      <th>ANNOYED</th>\n",
       "      <th>SAD</th>\n",
       "      <th>HAPPY</th>\n",
       "      <th>DONT_CARE</th>\n",
       "      <th>INSPIRED</th>\n",
       "    </tr>\n",
       "    <tr>\n",
       "      <th>created_at</th>\n",
       "      <th></th>\n",
       "      <th></th>\n",
       "      <th></th>\n",
       "      <th></th>\n",
       "      <th></th>\n",
       "      <th></th>\n",
       "      <th></th>\n",
       "      <th></th>\n",
       "      <th></th>\n",
       "      <th></th>\n",
       "      <th></th>\n",
       "      <th></th>\n",
       "      <th></th>\n",
       "      <th></th>\n",
       "    </tr>\n",
       "  </thead>\n",
       "  <tbody>\n",
       "    <tr>\n",
       "      <th>2009-05-04 18:54:25</th>\n",
       "      <td>202</td>\n",
       "      <td>253</td>\n",
       "      <td>Twitter Web Client</td>\n",
       "      <td>Be sure to tune in and watch Donald Trump on L...</td>\n",
       "      <td>0</td>\n",
       "      <td>0.5255</td>\n",
       "      <td>0.992164</td>\n",
       "      <td>1.702892</td>\n",
       "      <td>1.311094</td>\n",
       "      <td>1.409545</td>\n",
       "      <td>1.153361</td>\n",
       "      <td>1.352038</td>\n",
       "      <td>1.637963</td>\n",
       "      <td>1.440944</td>\n",
       "    </tr>\n",
       "    <tr>\n",
       "      <th>2009-05-05 01:00:10</th>\n",
       "      <td>3</td>\n",
       "      <td>2</td>\n",
       "      <td>Twitter Web Client</td>\n",
       "      <td>Donald Trump will be appearing on The View tom...</td>\n",
       "      <td>0</td>\n",
       "      <td>0.7712</td>\n",
       "      <td>1.057917</td>\n",
       "      <td>1.848110</td>\n",
       "      <td>1.103627</td>\n",
       "      <td>1.528575</td>\n",
       "      <td>1.340874</td>\n",
       "      <td>1.446139</td>\n",
       "      <td>2.017966</td>\n",
       "      <td>1.656793</td>\n",
       "    </tr>\n",
       "    <tr>\n",
       "      <th>2009-05-08 13:38:08</th>\n",
       "      <td>2</td>\n",
       "      <td>3</td>\n",
       "      <td>Twitter Web Client</td>\n",
       "      <td>Donald Trump reads Top Ten Financial Tips on L...</td>\n",
       "      <td>1</td>\n",
       "      <td>0.6468</td>\n",
       "      <td>1.006678</td>\n",
       "      <td>1.632097</td>\n",
       "      <td>1.134400</td>\n",
       "      <td>1.216011</td>\n",
       "      <td>1.004224</td>\n",
       "      <td>1.196502</td>\n",
       "      <td>1.551681</td>\n",
       "      <td>1.258408</td>\n",
       "    </tr>\n",
       "    <tr>\n",
       "      <th>2009-05-08 20:40:15</th>\n",
       "      <td>27</td>\n",
       "      <td>8</td>\n",
       "      <td>Twitter Web Client</td>\n",
       "      <td>New Blog Post: Celebrity Apprentice Finale and...</td>\n",
       "      <td>0</td>\n",
       "      <td>0.0000</td>\n",
       "      <td>0.740472</td>\n",
       "      <td>1.407248</td>\n",
       "      <td>0.710885</td>\n",
       "      <td>1.067461</td>\n",
       "      <td>0.992012</td>\n",
       "      <td>1.279288</td>\n",
       "      <td>1.308805</td>\n",
       "      <td>1.493830</td>\n",
       "    </tr>\n",
       "    <tr>\n",
       "      <th>2009-05-12 14:07:28</th>\n",
       "      <td>1950</td>\n",
       "      <td>1421</td>\n",
       "      <td>Twitter Web Client</td>\n",
       "      <td>\"My persona will never be that of a wallflower...</td>\n",
       "      <td>0</td>\n",
       "      <td>0.0000</td>\n",
       "      <td>0.631105</td>\n",
       "      <td>1.087715</td>\n",
       "      <td>0.680554</td>\n",
       "      <td>0.965473</td>\n",
       "      <td>0.785413</td>\n",
       "      <td>0.839137</td>\n",
       "      <td>0.941357</td>\n",
       "      <td>1.069245</td>\n",
       "    </tr>\n",
       "  </tbody>\n",
       "</table>\n",
       "</div>"
      ],
      "text/plain": [
       "                     favorite_count  retweet_count              source  \\\n",
       "created_at                                                               \n",
       "2009-05-04 18:54:25             202            253  Twitter Web Client   \n",
       "2009-05-05 01:00:10               3              2  Twitter Web Client   \n",
       "2009-05-08 13:38:08               2              3  Twitter Web Client   \n",
       "2009-05-08 20:40:15              27              8  Twitter Web Client   \n",
       "2009-05-12 14:07:28            1950           1421  Twitter Web Client   \n",
       "\n",
       "                                                                  text  \\\n",
       "created_at                                                               \n",
       "2009-05-04 18:54:25  Be sure to tune in and watch Donald Trump on L...   \n",
       "2009-05-05 01:00:10  Donald Trump will be appearing on The View tom...   \n",
       "2009-05-08 13:38:08  Donald Trump reads Top Ten Financial Tips on L...   \n",
       "2009-05-08 20:40:15  New Blog Post: Celebrity Apprentice Finale and...   \n",
       "2009-05-12 14:07:28  \"My persona will never be that of a wallflower...   \n",
       "\n",
       "                     negative_words  sentiment    AFRAID    AMUSED     ANGRY  \\\n",
       "created_at                                                                     \n",
       "2009-05-04 18:54:25               0     0.5255  0.992164  1.702892  1.311094   \n",
       "2009-05-05 01:00:10               0     0.7712  1.057917  1.848110  1.103627   \n",
       "2009-05-08 13:38:08               1     0.6468  1.006678  1.632097  1.134400   \n",
       "2009-05-08 20:40:15               0     0.0000  0.740472  1.407248  0.710885   \n",
       "2009-05-12 14:07:28               0     0.0000  0.631105  1.087715  0.680554   \n",
       "\n",
       "                      ANNOYED       SAD     HAPPY  DONT_CARE  INSPIRED  \n",
       "created_at                                                              \n",
       "2009-05-04 18:54:25  1.409545  1.153361  1.352038   1.637963  1.440944  \n",
       "2009-05-05 01:00:10  1.528575  1.340874  1.446139   2.017966  1.656793  \n",
       "2009-05-08 13:38:08  1.216011  1.004224  1.196502   1.551681  1.258408  \n",
       "2009-05-08 20:40:15  1.067461  0.992012  1.279288   1.308805  1.493830  \n",
       "2009-05-12 14:07:28  0.965473  0.785413  0.839137   0.941357  1.069245  "
      ]
     },
     "execution_count": 86,
     "metadata": {},
     "output_type": "execute_result"
    }
   ],
   "source": [
    "condensed_final.head()"
   ]
  },
  {
   "cell_type": "markdown",
   "metadata": {},
   "source": [
    "Next, we want to plot the results of the above computations, aggregated per two months:"
   ]
  },
  {
   "cell_type": "code",
   "execution_count": 95,
   "metadata": {
    "scrolled": false
   },
   "outputs": [
    {
     "data": {
      "text/plain": [
       "<matplotlib.legend.Legend at 0x18921e00b70>"
      ]
     },
     "execution_count": 95,
     "metadata": {},
     "output_type": "execute_result"
    },
    {
     "data": {
      "image/png": "[encoded data removed]",
      "text/plain": [
       "<matplotlib.figure.Figure at 0x18921e00da0>"
      ]
     },
     "metadata": {},
     "output_type": "display_data"
    }
   ],
   "source": [
    "emotions = ['ANGRY', 'SAD', 'ANNOYED']\n",
    "colors = ['darkorange', 'green', 'blue']\n",
    "\n",
    "for emotion, color in zip(emotions, colors):\n",
    "    aggregate = condensed_final[emotion].groupby(pd.TimeGrouper(freq='1M')).mean()\n",
    "    aggregate.plot(grid=True, label=emotion + '_avg', color=color, figsize =(16,8))\n",
    "    \n",
    "plt.legend(loc='upper right')"
   ]
  },
  {
   "cell_type": "markdown",
   "metadata": {},
   "source": [
    "### Future Work"
   ]
  },
  {
   "cell_type": "markdown",
   "metadata": {},
   "source": [
    "For detecting the possible change in sentiment in Trump's tweets, we can use more specialized methods for sentiment analysis. Also, we want to provide confidence levels for the found differences, in order to be able to say that the results are sound. "
   ]
  },
  {
   "cell_type": "markdown",
   "metadata": {},
   "source": [
    "# Easy plotting that is cool and can be integrated in HTML"
   ]
  },
  {
   "cell_type": "code",
   "execution_count": 1,
   "metadata": {},
   "outputs": [],
   "source": [
    "import plotly"
   ]
  },
  {
   "cell_type": "code",
   "execution_count": 17,
   "metadata": {},
   "outputs": [],
   "source": []
  },
  {
   "cell_type": "code",
   "execution_count": 19,
   "metadata": {},
   "outputs": [
    {
     "data": {
      "text/html": [
       "\n",
       "        <iframe\n",
       "            width=\"100%\"\n",
       "            height=\"500px\"\n",
       "            src=\"temp-plot.html\"\n",
       "            frameborder=\"0\"\n",
       "            allowfullscreen\n",
       "        ></iframe>\n",
       "        "
      ],
      "text/plain": [
       "<IPython.lib.display.IFrame at 0x1a0fe505518>"
      ]
     },
     "execution_count": 19,
     "metadata": {},
     "output_type": "execute_result"
    }
   ],
   "source": [
    "IFrame(\"temp-plot.html\", \"100%\", \"500px\")"
   ]
  },
  {
   "cell_type": "code",
   "execution_count": 13,
   "metadata": {},
   "outputs": [
    {
     "name": "stdout",
     "output_type": "stream",
     "text": [
      "2.2.3\n"
     ]
    },
    {
     "data": {
      "text/plain": [
       "'file://E:\\\\SWITZERLAND - 2017\\\\Msc\\\\CS-401\\\\ADA-CS-401\\\\Project\\\\temp-plot.html'"
      ]
     },
     "execution_count": 13,
     "metadata": {},
     "output_type": "execute_result"
    }
   ],
   "source": [
    "\n",
    "print(plotly.__version__)  # version >1.9.4 required\n",
    "from plotly.graph_objs import Scatter, Layout\n",
    "plotly.offline.plot({\n",
    "\"data\": [\n",
    "    Scatter(x=[1, 2, 3, 4], y=[4, 1, 3, 7])\n",
    "],\n",
    "\"layout\": Layout(\n",
    "    title=\"hello world\"\n",
    ")\n",
    "})"
   ]
  },
  {
   "cell_type": "code",
   "execution_count": null,
   "metadata": {},
   "outputs": [],
   "source": []
  }
 ],
 "metadata": {
  "kernelspec": {
   "display_name": "Python [conda env:ada]",
   "language": "python",
   "name": "conda-env-ada-py"
  },
  "language_info": {
   "codemirror_mode": {
    "name": "ipython",
    "version": 3
   },
   "file_extension": ".py",
   "mimetype": "text/x-python",
   "name": "python",
   "nbconvert_exporter": "python",
   "pygments_lexer": "ipython3",
   "version": "3.6.2"
  },
  "toc": {
   "colors": {
    "hover_highlight": "#DAA520",
    "navigate_num": "#000000",
    "navigate_text": "#333333",
    "running_highlight": "#FF0000",
    "selected_highlight": "#FFD700",
    "sidebar_border": "#EEEEEE",
    "wrapper_background": "#FFFFFF"
   },
   "moveMenuLeft": true,
   "nav_menu": {
    "height": "512px",
    "width": "252px"
   },
   "navigate_menu": true,
   "number_sections": true,
   "sideBar": true,
   "threshold": 4,
   "toc_cell": false,
   "toc_section_display": "block",
   "toc_window_display": false,
   "widenNotebook": false
  },
  "varInspector": {
   "cols": {
    "lenName": 16,
    "lenType": 16,
    "lenVar": 40
   },
   "kernels_config": {
    "python": {
     "delete_cmd_postfix": "",
     "delete_cmd_prefix": "del ",
     "library": "var_list.py",
     "varRefreshCmd": "print(var_dic_list())"
    },
    "r": {
     "delete_cmd_postfix": ") ",
     "delete_cmd_prefix": "rm(",
     "library": "var_list.r",
     "varRefreshCmd": "cat(var_dic_list()) "
    }
   },
   "types_to_exclude": [
    "module",
    "function",
    "builtin_function_or_method",
    "instance",
    "_Feature"
   ],
   "window_display": false
  }
 },
 "nbformat": 4,
 "nbformat_minor": 2
}
